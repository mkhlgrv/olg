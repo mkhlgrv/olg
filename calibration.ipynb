{
 "cells": [
  {
   "cell_type": "markdown",
   "id": "930ad698-7ceb-4fdb-a06f-16f1dda1ace2",
   "metadata": {},
   "source": [
    "# Расчеты для калибровки"
   ]
  },
  {
   "cell_type": "markdown",
   "id": "6b821adc-3641-4b2c-a3a0-2e4dfe46bff5",
   "metadata": {
    "tags": []
   },
   "source": [
    "## Нефть: \n",
    "себестоимость (рублей за тонну) от Росстата, курс доллара, стоимость URALS, прогнозы по добыче, прогноз по издержкам"
   ]
  },
  {
   "cell_type": "code",
   "execution_count": 17,
   "id": "ba279e77-4a23-403f-8dc2-8c1752bf66ee",
   "metadata": {},
   "outputs": [],
   "source": [
    "import os\n",
    "import pandas as pd\n",
    "from dotenv import load_dotenv\n",
    "load_dotenv()\n",
    "import numpy as np\n",
    "from requests import get\n",
    "project_dir = os.getenv('project_dir')"
   ]
  },
  {
   "cell_type": "markdown",
   "id": "8266cf04-352b-4227-bd9c-fac1b2df4043",
   "metadata": {},
   "source": [
    "Источник: издержки нефти в рублях по кварталам https://rosstat.gov.ru/folder/11189 раздел энергоэффективность, себестоимость добычи нефти (за тонну)"
   ]
  },
  {
   "cell_type": "code",
   "execution_count": 375,
   "id": "9ddb7209-e0dc-414f-a146-4990dfb3a142",
   "metadata": {},
   "outputs": [],
   "source": [
    "oil_costs = pd.read_excel(os.path.join(project_dir, 'assets', 'oil_costs.xls'), sheet_name=1, skiprows=2)[:4]\n",
    "oil_costs = oil_costs.set_index(oil_costs.columns[0]).iloc[:, 6:].ffill()"
   ]
  },
  {
   "cell_type": "code",
   "execution_count": 376,
   "id": "d155568e-41d1-434b-a22e-90f3ab884969",
   "metadata": {},
   "outputs": [],
   "source": [
    "barell_per_tonn = 7.28"
   ]
  },
  {
   "cell_type": "code",
   "execution_count": 377,
   "id": "7c9509f7-e845-4f52-9bb9-934c35c1d141",
   "metadata": {},
   "outputs": [],
   "source": [
    "oil_costs = oil_costs/barell_per_tonn"
   ]
  },
  {
   "cell_type": "code",
   "execution_count": 378,
   "id": "c482cdac-041b-4954-9657-9634d3952cbc",
   "metadata": {},
   "outputs": [
    {
     "data": {
      "text/html": [
       "<div>\n",
       "<style scoped>\n",
       "    .dataframe tbody tr th:only-of-type {\n",
       "        vertical-align: middle;\n",
       "    }\n",
       "\n",
       "    .dataframe tbody tr th {\n",
       "        vertical-align: top;\n",
       "    }\n",
       "\n",
       "    .dataframe thead th {\n",
       "        text-align: right;\n",
       "    }\n",
       "</style>\n",
       "<table border=\"1\" class=\"dataframe\">\n",
       "  <thead>\n",
       "    <tr style=\"text-align: right;\">\n",
       "      <th></th>\n",
       "      <th>2018</th>\n",
       "      <th>2019</th>\n",
       "      <th>2020</th>\n",
       "      <th>2021</th>\n",
       "      <th>2022</th>\n",
       "    </tr>\n",
       "    <tr>\n",
       "      <th>Unnamed: 0</th>\n",
       "      <th></th>\n",
       "      <th></th>\n",
       "      <th></th>\n",
       "      <th></th>\n",
       "      <th></th>\n",
       "    </tr>\n",
       "  </thead>\n",
       "  <tbody>\n",
       "    <tr>\n",
       "      <th>I квартал</th>\n",
       "      <td>1760.049483</td>\n",
       "      <td>2025.776936</td>\n",
       "      <td>1808.035714</td>\n",
       "      <td>2460.934066</td>\n",
       "      <td>4549.925325</td>\n",
       "    </tr>\n",
       "    <tr>\n",
       "      <th>II квартал</th>\n",
       "      <td>2029.176438</td>\n",
       "      <td>2149.241494</td>\n",
       "      <td>1269.927198</td>\n",
       "      <td>2799.310300</td>\n",
       "      <td>3458.337912</td>\n",
       "    </tr>\n",
       "    <tr>\n",
       "      <th>III квартал</th>\n",
       "      <td>2193.758878</td>\n",
       "      <td>1972.633732</td>\n",
       "      <td>1738.545330</td>\n",
       "      <td>2935.071192</td>\n",
       "      <td>2950.236952</td>\n",
       "    </tr>\n",
       "    <tr>\n",
       "      <th>IVквартал</th>\n",
       "      <td>2023.829004</td>\n",
       "      <td>2047.731502</td>\n",
       "      <td>1828.442445</td>\n",
       "      <td>3174.226044</td>\n",
       "      <td>2950.236952</td>\n",
       "    </tr>\n",
       "  </tbody>\n",
       "</table>\n",
       "</div>"
      ],
      "text/plain": [
       "                    2018         2019         2020         2021         2022\n",
       "Unnamed: 0                                                                  \n",
       "I квартал    1760.049483  2025.776936  1808.035714  2460.934066  4549.925325\n",
       "II квартал   2029.176438  2149.241494  1269.927198  2799.310300  3458.337912\n",
       "III квартал  2193.758878  1972.633732  1738.545330  2935.071192  2950.236952\n",
       "IVквартал    2023.829004  2047.731502  1828.442445  3174.226044  2950.236952"
      ]
     },
     "execution_count": 378,
     "metadata": {},
     "output_type": "execute_result"
    }
   ],
   "source": [
    "oil_costs"
   ]
  },
  {
   "cell_type": "markdown",
   "id": "93135f17-3c50-4f0a-a1de-34c5ff3e4a92",
   "metadata": {},
   "source": [
    "Курс доллара ЦБ"
   ]
  },
  {
   "cell_type": "code",
   "execution_count": 381,
   "id": "340d534b-be31-48e7-8bd6-6a5973383888",
   "metadata": {},
   "outputs": [],
   "source": [
    "\n",
    "response = get('https://cbr.ru/scripts/XML_dynamic.asp?date_req1=01/01/2018&date_req2=31/12/2022&VAL_NM_RQ=R01235')"
   ]
  },
  {
   "cell_type": "code",
   "execution_count": 382,
   "id": "b2c3a530-e401-4459-9ac5-89826f3f9244",
   "metadata": {},
   "outputs": [
    {
     "name": "stdout",
     "output_type": "stream",
     "text": [
      "        Date      Id  Nominal    Value\n",
      "0 2018-01-10  R01235        1  57.0463\n",
      "1 2018-01-11  R01235        1  56.8734\n",
      "2 2018-01-12  R01235        1  56.9957\n",
      "3 2018-01-13  R01235        1  56.6019\n",
      "4 2018-01-16  R01235        1  56.3569\n"
     ]
    }
   ],
   "source": [
    "dollar = pd.read_xml(response.text)\n",
    "dollar['Date'] = pd.to_datetime(dollar['Date'], format='%d.%m.%Y')\n",
    "dollar['Value'] = dollar['Value'].str.replace(',', '.').astype(float)\n",
    "print(dollar.head())\n"
   ]
  },
  {
   "cell_type": "code",
   "execution_count": 383,
   "id": "dd134206-7690-4e38-81d2-a97e253e3546",
   "metadata": {},
   "outputs": [
    {
     "data": {
      "text/plain": [
       "Date\n",
       "2018Q1    56.814870\n",
       "2018Q2    61.913007\n",
       "2018Q3    65.551482\n",
       "2018Q4    66.517628\n",
       "2019Q1    65.742958\n",
       "2019Q2    64.521744\n",
       "2019Q3    64.593618\n",
       "2019Q4    63.744886\n",
       "2020Q1    66.626266\n",
       "2020Q2    72.047914\n",
       "2020Q3    73.568783\n",
       "2020Q4    76.203011\n",
       "2021Q1    74.368552\n",
       "2021Q2    74.293576\n",
       "2021Q3    73.470935\n",
       "2021Q4    72.654305\n",
       "2022Q1    87.347863\n",
       "2022Q2    66.514140\n",
       "2022Q3    59.478273\n",
       "2022Q4    62.693697\n",
       "Freq: Q-DEC, Name: Value, dtype: float64"
      ]
     },
     "execution_count": 383,
     "metadata": {},
     "output_type": "execute_result"
    }
   ],
   "source": [
    "dollar.groupby(dollar['Date'].dt.to_period('Q'))['Value'].mean()"
   ]
  },
  {
   "cell_type": "code",
   "execution_count": 384,
   "id": "f2cee825-c571-4419-b335-881a6b04bf6c",
   "metadata": {},
   "outputs": [],
   "source": [
    "dollar_quarter = np.array(dollar.groupby(dollar['Date'].dt.to_period('Q'))['Value'].mean()).reshape(4, -1, order='F')"
   ]
  },
  {
   "cell_type": "code",
   "execution_count": 385,
   "id": "cd68a065-cc4e-403e-b173-b6b2fb68add4",
   "metadata": {},
   "outputs": [],
   "source": [
    "cost_usd_per_barell = (oil_costs/dollar_quarter).mean(axis=0)"
   ]
  },
  {
   "cell_type": "code",
   "execution_count": 386,
   "id": "76eaef5a-54bf-4277-a2ae-91b790822f6f",
   "metadata": {},
   "outputs": [
    {
     "data": {
      "text/plain": [
       "2018    31.911242\n",
       "2019    31.696734\n",
       "2020    23.097263\n",
       "2021    38.602069\n",
       "2022    50.185905\n",
       "dtype: float64"
      ]
     },
     "execution_count": 386,
     "metadata": {},
     "output_type": "execute_result"
    }
   ],
   "source": [
    "cost_usd_per_barell"
   ]
  },
  {
   "cell_type": "markdown",
   "id": "dc8785fd-e507-48ce-863b-a4b3a2ff17d5",
   "metadata": {},
   "source": [
    "средняя цена минфин https://minfin.gov.ru/ru/press-center/?id_4=38298-o_srednei_tsene_na_neft_i_eksportnoi_poshline"
   ]
  },
  {
   "cell_type": "code",
   "execution_count": 393,
   "id": "a05e9995-8a7c-4d4d-a122-20191d713fbb",
   "metadata": {},
   "outputs": [],
   "source": [
    "oil_prices = pd.Series([70.01, 63.59, 41.73, 69.0, 76.09], index = range(2018, 2023))"
   ]
  },
  {
   "cell_type": "code",
   "execution_count": 1059,
   "id": "4815a617-7901-41b8-9501-6f771a6ac290",
   "metadata": {},
   "outputs": [],
   "source": [
    "us_inflation= pd.Series([1., 1.0181, 1.0244,  1.0123, 1.0470], index = range(2018, 2023)).cumprod()"
   ]
  },
  {
   "cell_type": "code",
   "execution_count": 1076,
   "id": "a81c9f3c-beeb-4676-808f-9f01eff041fd",
   "metadata": {},
   "outputs": [
    {
     "data": {
      "text/plain": [
       "2018    70.01\n",
       "2019    63.59\n",
       "2020    41.73\n",
       "2021    69.00\n",
       "2022    76.09\n",
       "dtype: float64"
      ]
     },
     "execution_count": 1076,
     "metadata": {},
     "output_type": "execute_result"
    }
   ],
   "source": [
    "oil_prices"
   ]
  },
  {
   "cell_type": "code",
   "execution_count": 1075,
   "id": "bb321592-2230-4774-a3ab-1e56066c4ae2",
   "metadata": {},
   "outputs": [
    {
     "data": {
      "text/plain": [
       "2018    70.010000\n",
       "2019    62.459483\n",
       "2020    40.011827\n",
       "2021    65.355155\n",
       "2022    68.835371\n",
       "dtype: float64"
      ]
     },
     "execution_count": 1075,
     "metadata": {},
     "output_type": "execute_result"
    }
   ],
   "source": [
    "oil_prices_real = oil_prices/us_inflation"
   ]
  },
  {
   "cell_type": "markdown",
   "id": "90cead68-7120-4552-aea4-f3863f9ecfdc",
   "metadata": {},
   "source": [
    "прогноз IEA 2020 dollars"
   ]
  },
  {
   "cell_type": "markdown",
   "id": "1b511f86-774d-4f36-99de-9e5205a62449",
   "metadata": {},
   "source": [
    "https://www.eia.gov/outlooks/aeo/data/browser/#/?id=12-AEO2022&region=0-0&cases=ref2022~highprice~lowprice&start=2020&end=2050&f=A&linechart=~~~ref2022-d011222a.3-12-AEO2022~highprice-d011222a.3-12-AEO2022~lowprice-d011222a.3-12-AEO2022&sourcekey=0"
   ]
  },
  {
   "cell_type": "code",
   "execution_count": 1087,
   "id": "c9413b2d-41b4-4ee4-a642-c513ff8a3ce4",
   "metadata": {},
   "outputs": [],
   "source": [
    "oil_price_projections_df = pd.read_csv(os.path.join(project_dir, 'assets', 'Real_Petroleum_Prices_Crude_Oil_Brent_Spot.csv'), skiprows=4)"
   ]
  },
  {
   "cell_type": "code",
   "execution_count": 1088,
   "id": "b325ba03-21ba-475b-ae3d-a0e10c5ee61f",
   "metadata": {},
   "outputs": [],
   "source": [
    "oil_scenarios = {\"mid\":\"Reference case 2021 $/b\", \"high\":\"High oil price 2021 $/b\", \"low\":\"Low oil price 2021 $/b\"}"
   ]
  },
  {
   "cell_type": "code",
   "execution_count": 1923,
   "id": "08962c12-42e2-41a2-b82a-baab71413dc9",
   "metadata": {},
   "outputs": [],
   "source": [
    "oil_scenario = \"high\""
   ]
  },
  {
   "cell_type": "code",
   "execution_count": 1924,
   "id": "3dacddad-cd4f-44f4-b8e3-ccb7225c9f5f",
   "metadata": {},
   "outputs": [],
   "source": [
    "if oil_scenario == 'price_cap':\n",
    "    \n",
    "    oil_price_projections_discounted = pd.Series(np.repeat(60/us_inflation.loc[2022], 2051-2018-len(oil_prices)), index=range(2023, 2051))\n",
    "else:\n",
    "    rus_oil_discount = 0.98\n",
    "    oil_price_projections_discounted = rus_oil_discount*pd.Series(oil_price_projections_df[oil_scenarios[oil_scenario]].tolist(), \n",
    "                                  index = oil_price_projections_df['Year']).dropna().sort_index()/us_inflation.loc[2021]\n",
    "    oil_price_projections_discounted = oil_price_projections_discounted.loc[2023:]"
   ]
  },
  {
   "cell_type": "code",
   "execution_count": 1925,
   "id": "d6911cd1-edc0-4593-94d8-50869fe18793",
   "metadata": {},
   "outputs": [],
   "source": [
    "oil_prices_normalized = np.concatenate([np.array(oil_prices), \n",
    "                                   np.array(oil_price_projections_discounted), \n",
    "                                   np.repeat(oil_price_projections_discounted.iloc[-1], MAX_TIME+2018-2051)])/oil_prices.iloc[0]"
   ]
  },
  {
   "cell_type": "code",
   "execution_count": 1926,
   "id": "f59280e7-1644-41c0-8462-2a100c010aed",
   "metadata": {},
   "outputs": [
    {
     "data": {
      "text/plain": [
       "[<matplotlib.lines.Line2D at 0x18f03b95790>]"
      ]
     },
     "execution_count": 1926,
     "metadata": {},
     "output_type": "execute_result"
    },
    {
     "data": {
      "image/png": "[encoded data removed]",
      "text/plain": [
       "<Figure size 640x480 with 1 Axes>"
      ]
     },
     "metadata": {},
     "output_type": "display_data"
    }
   ],
   "source": [
    "plt.plot(oil_prices_normalized[:30])"
   ]
  },
  {
   "cell_type": "code",
   "execution_count": 1927,
   "id": "762ab496-5a32-497e-bf15-323be587dfa4",
   "metadata": {},
   "outputs": [],
   "source": [
    "cost_usd_normalized = cost_usd_per_barell/oil_prices.iloc[0]"
   ]
  },
  {
   "cell_type": "code",
   "execution_count": 1928,
   "id": "f66a1d34-b52b-45df-b70f-bf7fe1425237",
   "metadata": {},
   "outputs": [
    {
     "data": {
      "text/plain": [
       "2018    0.455810\n",
       "2019    0.452746\n",
       "2020    0.329914\n",
       "2021    0.551379\n",
       "2022    0.716839\n",
       "dtype: float64"
      ]
     },
     "execution_count": 1928,
     "metadata": {},
     "output_type": "execute_result"
    }
   ],
   "source": [
    "cost_usd_normalized"
   ]
  },
  {
   "cell_type": "markdown",
   "id": "31beadae-b922-4951-a9fe-8c132abf0b94",
   "metadata": {
    "jp-MarkdownHeadingCollapsed": true,
    "tags": []
   },
   "source": [
    "добыча нефти в тоннах в 2018 - 2022"
   ]
  },
  {
   "cell_type": "markdown",
   "id": "36657098-74c8-49d3-82f4-2679a97573d0",
   "metadata": {},
   "source": [
    "добыча в рублях в 2018"
   ]
  },
  {
   "cell_type": "code",
   "execution_count": 1929,
   "id": "a2b94438-378b-4e88-bde8-721f6c8b16b3",
   "metadata": {},
   "outputs": [],
   "source": [
    "oil_production_initial = 21499.4"
   ]
  },
  {
   "cell_type": "code",
   "execution_count": 1930,
   "id": "eeeb5cce-7fab-4596-9f55-db83c24c87ca",
   "metadata": {},
   "outputs": [],
   "source": [
    "oil_production = np.array([555.8, 560.2, 518, 523, 535])"
   ]
  },
  {
   "cell_type": "code",
   "execution_count": 1931,
   "id": "75feb6b8-a4dd-4985-ab2d-0db67c975d5f",
   "metadata": {},
   "outputs": [
    {
     "data": {
      "text/plain": [
       "array([4046.224, 4078.256, 3771.04 , 3807.44 , 3894.8  ])"
      ]
     },
     "execution_count": 1931,
     "metadata": {},
     "output_type": "execute_result"
    }
   ],
   "source": [
    "oil_production*7.28"
   ]
  },
  {
   "cell_type": "code",
   "execution_count": 1932,
   "id": "24376adb-fa8d-471c-a604-7e0079024ed4",
   "metadata": {},
   "outputs": [],
   "source": [
    "rub_per_barell = oil_production_initial/(oil_production[0]*7.28)"
   ]
  },
  {
   "cell_type": "code",
   "execution_count": 1933,
   "id": "517d375c-2c6c-4f3a-995c-44111ce926d7",
   "metadata": {},
   "outputs": [],
   "source": [
    "oil_production_rub_history = oil_production/oil_production[0]*oil_production_initial"
   ]
  },
  {
   "cell_type": "markdown",
   "id": "2ded7181-78fc-4be6-b41a-24cd46117569",
   "metadata": {},
   "source": [
    "МЭР: прогнозы темпов роста до 2036"
   ]
  },
  {
   "cell_type": "code",
   "execution_count": 1934,
   "id": "15229300-3c18-4c2a-91b9-0efc3392800c",
   "metadata": {},
   "outputs": [],
   "source": [
    "stable_growth = 1."
   ]
  },
  {
   "cell_type": "code",
   "execution_count": 1935,
   "id": "df5329e0-3f43-4c01-8d9a-40c4b69f938c",
   "metadata": {},
   "outputs": [],
   "source": [
    "oil_production_growth = np.array([1.02]*2 + [0.99]*6 + [1.]*6 +[stable_growth]*10)"
   ]
  },
  {
   "cell_type": "markdown",
   "id": "e620f78c-c204-408e-88a0-40a34684c2b1",
   "metadata": {},
   "source": [
    "Сглаживаем прогнозы МЭР и продляем "
   ]
  },
  {
   "cell_type": "code",
   "execution_count": 1936,
   "id": "848518c2-6e28-447e-854a-0ef6ac68dffc",
   "metadata": {},
   "outputs": [],
   "source": [
    "f = np.poly1d(np.polyfit(np.arange(2023, 2047), oil_production_growth, 4))"
   ]
  },
  {
   "cell_type": "code",
   "execution_count": 1937,
   "id": "23ec8dbe-0a17-4eef-a254-72a22578b8f0",
   "metadata": {},
   "outputs": [],
   "source": [
    "y= 2041"
   ]
  },
  {
   "cell_type": "code",
   "execution_count": 1938,
   "id": "5b21a1ea-5655-4d86-ac9f-5d843a1d0f8c",
   "metadata": {},
   "outputs": [],
   "source": [
    "oil_production_growth_smoothed = np.concatenate([f(np.arange(2023, y)), np.repeat(stable_growth, MAX_TIME-(y-2018))])"
   ]
  },
  {
   "cell_type": "code",
   "execution_count": 1939,
   "id": "402784ee-f621-49b3-8fd1-4e3b0bf04f74",
   "metadata": {},
   "outputs": [
    {
     "data": {
      "text/plain": [
       "[<matplotlib.lines.Line2D at 0x18f03bfee50>]"
      ]
     },
     "execution_count": 1939,
     "metadata": {},
     "output_type": "execute_result"
    },
    {
     "data": {
      "image/png": "[encoded data removed]",
      "text/plain": [
       "<Figure size 640x480 with 1 Axes>"
      ]
     },
     "metadata": {},
     "output_type": "display_data"
    }
   ],
   "source": [
    "plt.plot(oil_production_growth_smoothed[:50])"
   ]
  },
  {
   "cell_type": "markdown",
   "id": "d792b086-493a-4f43-ab3e-35cc2ec23ecd",
   "metadata": {},
   "source": [
    "Получаем потенциальную добычу"
   ]
  },
  {
   "cell_type": "code",
   "execution_count": 1940,
   "id": "fe603f36-5742-4b8f-b949-b79bdc5e1327",
   "metadata": {},
   "outputs": [],
   "source": [
    "oil_production_rub = np.concatenate([oil_production_rub_history, oil_production_rub_history[-1]*oil_production_growth_smoothed.cumprod()])"
   ]
  },
  {
   "cell_type": "code",
   "execution_count": 1941,
   "id": "0a003251-01b5-47b5-bff8-439e95aed6ef",
   "metadata": {},
   "outputs": [
    {
     "data": {
      "text/plain": [
       "[<matplotlib.lines.Line2D at 0x18f03c685b0>]"
      ]
     },
     "execution_count": 1941,
     "metadata": {},
     "output_type": "execute_result"
    },
    {
     "data": {
      "image/png": "[encoded data removed]",
      "text/plain": [
       "<Figure size 640x480 with 1 Axes>"
      ]
     },
     "metadata": {},
     "output_type": "display_data"
    }
   ],
   "source": [
    "plt.plot(oil_production_rub[:50])"
   ]
  },
  {
   "cell_type": "markdown",
   "id": "76487d91-21f8-44aa-8935-aa7dacfb5248",
   "metadata": {},
   "source": [
    "запасы нефти разведанные: 80 billoins barrels\n",
    "https://asb.opec.org/ASB_Charts.html?chapter=223"
   ]
  },
  {
   "cell_type": "markdown",
   "id": "fa7fc05e-edbf-4ad6-a27c-e2126e6211b6",
   "metadata": {},
   "source": [
    "оценка BP\n",
    "107200 млрд баррелей"
   ]
  },
  {
   "cell_type": "code",
   "execution_count": 1942,
   "id": "3ffd5c8a-5638-405f-a938-ba725e0feb9a",
   "metadata": {},
   "outputs": [],
   "source": [
    "reserves_initial =107200"
   ]
  },
  {
   "cell_type": "code",
   "execution_count": 1943,
   "id": "83b9aff6-a5b1-45f8-813c-4f4063fff505",
   "metadata": {},
   "outputs": [],
   "source": [
    "reserves_initial_rub = reserves_initial*rub_per_barell"
   ]
  },
  {
   "cell_type": "code",
   "execution_count": 1944,
   "id": "411ed361-2f5e-46d2-b66f-55843b8daf4e",
   "metadata": {},
   "outputs": [
    {
     "data": {
      "text/plain": [
       "569601.6038657277"
      ]
     },
     "execution_count": 1944,
     "metadata": {},
     "output_type": "execute_result"
    }
   ],
   "source": [
    "reserves_initial_rub"
   ]
  },
  {
   "cell_type": "code",
   "execution_count": 1945,
   "id": "c92a20d9-4050-43c1-abdc-c3681704ead9",
   "metadata": {
    "tags": []
   },
   "outputs": [],
   "source": [
    "last_extraction_year = np.where(reserves_initial_rub>oil_production_rub.cumsum())[0][-1]"
   ]
  },
  {
   "cell_type": "code",
   "execution_count": 1946,
   "id": "10713f1d-11fd-4387-a4c7-1816f325f04b",
   "metadata": {},
   "outputs": [],
   "source": [
    "last_year_production = (reserves_initial_rub-oil_production_rub.cumsum())[last_extraction_year]"
   ]
  },
  {
   "cell_type": "markdown",
   "id": "2f540ef0-fe61-40bf-91c3-873333196515",
   "metadata": {},
   "source": [
    "учтем в производстве истощение запасов"
   ]
  },
  {
   "cell_type": "code",
   "execution_count": 1947,
   "id": "b29c4819-c99e-45e9-8334-5850758d6bba",
   "metadata": {},
   "outputs": [],
   "source": [
    "oil_production_rub_adjusted = np.concatenate([oil_production_rub[:last_extraction_year+1],[last_year_production],[0]*(MAX_TIME- last_extraction_year-2)])"
   ]
  },
  {
   "cell_type": "markdown",
   "id": "0dcdd7d5-b2ef-44a3-b5a4-2a8f925483b4",
   "metadata": {},
   "source": [
    "пусть издержки также растут в зависимости от доли извлеченной доли запасов"
   ]
  },
  {
   "cell_type": "code",
   "execution_count": 1948,
   "id": "8bbd812d-d967-401e-89f2-2e7517fd3e14",
   "metadata": {},
   "outputs": [],
   "source": [
    "extracted = oil_production_rub_adjusted.cumsum()/reserves_initial_rub"
   ]
  },
  {
   "cell_type": "code",
   "execution_count": 1949,
   "id": "9848685f-d985-4d9b-9962-9a65690e5c6b",
   "metadata": {},
   "outputs": [
    {
     "data": {
      "text/plain": [
       "2018    0.455810\n",
       "2019    0.452746\n",
       "2020    0.329914\n",
       "2021    0.551379\n",
       "2022    0.716839\n",
       "dtype: float64"
      ]
     },
     "execution_count": 1949,
     "metadata": {},
     "output_type": "execute_result"
    }
   ],
   "source": [
    "cost_usd_normalized"
   ]
  },
  {
   "cell_type": "code",
   "execution_count": 1950,
   "id": "60f79ad4-2e40-4b08-ae11-aeed38cf4b35",
   "metadata": {},
   "outputs": [],
   "source": [
    "def get_costs(extracted):\n",
    "    return 0.46 + 0.92* extracted"
   ]
  },
  {
   "cell_type": "code",
   "execution_count": 1951,
   "id": "804f5ac3-72e9-4ef2-b5c5-726f08b419e1",
   "metadata": {},
   "outputs": [],
   "source": [
    "costs = [get_costs(i) for i in extracted]"
   ]
  },
  {
   "cell_type": "code",
   "execution_count": 1952,
   "id": "e448c70c-d536-4bf3-87e2-1d3032ab2e9c",
   "metadata": {},
   "outputs": [],
   "source": [
    "costs[:5] = cost_usd_normalized"
   ]
  },
  {
   "cell_type": "code",
   "execution_count": 1953,
   "id": "1fcb684c-8f36-42e3-9913-3d8e7ea0cd11",
   "metadata": {},
   "outputs": [
    {
     "data": {
      "text/plain": [
       "[<matplotlib.lines.Line2D at 0x18f03d17430>]"
      ]
     },
     "execution_count": 1953,
     "metadata": {},
     "output_type": "execute_result"
    },
    {
     "data": {
      "image/png": "[encoded data removed]",
      "text/plain": [
       "<Figure size 640x480 with 1 Axes>"
      ]
     },
     "metadata": {},
     "output_type": "display_data"
    }
   ],
   "source": [
    "plt.plot(costs[:50])"
   ]
  },
  {
   "cell_type": "code",
   "execution_count": 1954,
   "id": "bd257acc-a131-419f-850a-672cedd95c2c",
   "metadata": {},
   "outputs": [
    {
     "data": {
      "text/plain": [
       "[<matplotlib.lines.Line2D at 0x18f03d35940>]"
      ]
     },
     "execution_count": 1954,
     "metadata": {},
     "output_type": "execute_result"
    },
    {
     "data": {
      "image/png": "[encoded data removed]",
      "text/plain": [
       "<Figure size 640x480 with 1 Axes>"
      ]
     },
     "metadata": {},
     "output_type": "display_data"
    }
   ],
   "source": [
    "plt.plot(oil_prices_normalized[:50])\n",
    "plt.plot(costs[:50])"
   ]
  },
  {
   "cell_type": "code",
   "execution_count": 1955,
   "id": "71b27da6-79e5-4687-9af3-afa81466988c",
   "metadata": {},
   "outputs": [],
   "source": [
    "unprofitable_year  = np.where(oil_prices_normalized<costs)[0][0] if len(np.where(oil_prices_normalized<costs)[0]) > 0 else MAX_TIME"
   ]
  },
  {
   "cell_type": "code",
   "execution_count": 1956,
   "id": "1e60dd94-13a3-4faf-b024-17b0a1b95f6e",
   "metadata": {},
   "outputs": [],
   "source": [
    "oil_production_rub_adjusted[unprofitable_year:] = 0"
   ]
  },
  {
   "cell_type": "code",
   "execution_count": 1957,
   "id": "3b1895f7-c4f2-4100-97b1-6b3f692f88d0",
   "metadata": {},
   "outputs": [
    {
     "data": {
      "text/plain": [
       "[<matplotlib.lines.Line2D at 0x18f03da0d60>]"
      ]
     },
     "execution_count": 1957,
     "metadata": {},
     "output_type": "execute_result"
    },
    {
     "data": {
      "image/png": "[encoded data removed]",
      "text/plain": [
       "<Figure size 640x480 with 1 Axes>"
      ]
     },
     "metadata": {},
     "output_type": "display_data"
    }
   ],
   "source": [
    "plt.plot(oil_prices_normalized[:20])\n",
    "plt.plot(costs[:20])"
   ]
  },
  {
   "cell_type": "code",
   "execution_count": 1958,
   "id": "e55c9db5-a9f9-444e-984e-8df79f6e4681",
   "metadata": {},
   "outputs": [],
   "source": [
    "oil = {'Y_O':oil_production_rub_adjusted, 'price_O':oil_prices_normalized, 'psi_O':costs}"
   ]
  },
  {
   "cell_type": "code",
   "execution_count": 1959,
   "id": "47472e08-2f0b-4f64-acff-e45f57676f8a",
   "metadata": {},
   "outputs": [],
   "source": [
    "import pickle\n",
    "with open(os.path.join(project_dir,'assets', f'oil_{oil_scenario}.pickle'), 'wb') as f:\n",
    "    pickle.dump(oil, f,protocol = pickle.HIGHEST_PROTOCOL)"
   ]
  },
  {
   "cell_type": "markdown",
   "id": "8ab73fad-fe61-4191-b52b-905059701ba4",
   "metadata": {},
   "source": [
    "## Демография\n",
    "прогноз ООН\n",
    "https://population.un.org/wpp/Download/Standard/Population/\n"
   ]
  },
  {
   "cell_type": "markdown",
   "id": "251fa0ea-e0ba-44f5-baac-952c09cb240b",
   "metadata": {},
   "source": [
    "Исходные данные:\n",
    "- population (rows=years, columns=ages)\n",
    "- mortality \n",
    "- fertility\n",
    "- life expectancy\n",
    "- Pi\n",
    "\n",
    "переводим в тензор размера:\n",
    "\n",
    "$$ (2, \\hat{T}+G_{total}+G_{model}, \\hat{T}+G_{total})$$\n",
    "\n",
    "где $\\hat{T}= 500$ (максимальный индекс времени, не совпадает со временем до достижения устойчивого состояния)\n",
    "\n",
    "$G_{total} = 101$ (количество поколений по населению)\n",
    "\n",
    "$G_{model} = 80$ (агенты с 20 лет)"
   ]
  },
  {
   "cell_type": "markdown",
   "id": "f1489cb6-427a-4ead-8043-4473c9c442fe",
   "metadata": {},
   "source": [
    "возраст выхода с рынка труда J рассчитан в assets/возраст здоровой жизни, для поколения 1957 г.р. он равен 61 год, далее должен расти пропорционально ожидаемой продолжительности жизни"
   ]
  },
  {
   "cell_type": "code",
   "execution_count": 314,
   "id": "82684f51-cfdf-4318-b8bf-623b6d10aee6",
   "metadata": {},
   "outputs": [],
   "source": [
    "import matplotlib.pyplot as plt"
   ]
  },
  {
   "cell_type": "code",
   "execution_count": 439,
   "id": "947891eb-53a5-45e6-8d58-eef04dc27c1e",
   "metadata": {},
   "outputs": [],
   "source": [
    "G_TOTAL = int(os.getenv('G_TOTAL'))\n",
    "MAX_TIME = int(os.getenv('MAX_TIME'))\n",
    "# SIMULATION_TIME = MAX_TIME-G_TOTAL\n",
    "G_MODEL = 80\n",
    "base_year = 2018\n",
    "un_max_year = 2100\n",
    "J_1957 = 61"
   ]
  },
  {
   "cell_type": "code",
   "execution_count": 344,
   "id": "e4b8f127-52b1-4fbd-bed7-e35d4b8a759f",
   "metadata": {},
   "outputs": [],
   "source": [
    "population_scenarios = ('Medium variant', 'High variant', 'Low variant')\n",
    "scenario = population_scenarios[2]\n",
    "scenario.lower().split(' ')[0]\n",
    "sexes = ('FEMALE', 'MALE')\n",
    "sex_ids = (3, 2)\n",
    "sex = sexes[0]\n",
    "sex_id = sex_ids[0]"
   ]
  },
  {
   "cell_type": "markdown",
   "id": "50400467-6940-40ba-b392-b1e57440d013",
   "metadata": {},
   "source": [
    "историческая ожидаемая продолжительность жизни (г.р. до 2021)"
   ]
  },
  {
   "cell_type": "code",
   "execution_count": 345,
   "id": "cf02fa65-3764-4a48-9703-f4a3e0fbf0cb",
   "metadata": {},
   "outputs": [],
   "source": [
    "def get_un_prospect(fname, sheet_name):\n",
    "    return pd.read_excel(os.path.join(project_dir,\n",
    "                                     'assets', f'{fname}.xlsx'),\n",
    "                        skiprows=16,\n",
    "                        sheet_name = sheet_name).query(\"`Location code`==643\")"
   ]
  },
  {
   "cell_type": "markdown",
   "id": "df30569c-1fa3-45dc-8b93-5dec7b8cc30d",
   "metadata": {},
   "source": [
    "Население по возрастам в каждый момент времени"
   ]
  },
  {
   "cell_type": "code",
   "execution_count": 346,
   "id": "86e25b6c-e4a5-4677-a830-b061afec6eaa",
   "metadata": {},
   "outputs": [],
   "source": [
    "population = {}\n",
    "for sex, sex_id in zip(sexes, sex_ids):\n",
    "    population_history = get_un_prospect(fname = f'WPP2022_POP_F01_{sex_id}_POPULATION_SINGLE_AGE_{sex}', sheet_name = 'Estimates')\n",
    "    population_forecast = get_un_prospect(fname = f'WPP2022_POP_F01_{sex_id}_POPULATION_SINGLE_AGE_{sex}', sheet_name = scenario)\n",
    "    population[sex] = pd.concat([population_history,population_forecast]).iloc[:,10:].sort_values('Year').set_index('Year')"
   ]
  },
  {
   "cell_type": "code",
   "execution_count": 347,
   "id": "6afc374f-65a7-4bc1-ada8-b1a6d24c729f",
   "metadata": {},
   "outputs": [],
   "source": [
    "female_ratio = population['FEMALE'][0]/(population['FEMALE'][0]+population['MALE'][0])"
   ]
  },
  {
   "cell_type": "code",
   "execution_count": 348,
   "id": "10ba1d59-a64a-4e45-bded-ef734e42b54e",
   "metadata": {},
   "outputs": [],
   "source": [
    "deaths = {}\n",
    "for sex, sex_id in zip(sexes, sex_ids):\n",
    "    history_death = get_un_prospect(fname = f'WPP2022_MORT_F01_{sex_id}_DEATHS_SINGLE_AGE_{sex}', sheet_name = 'Estimates')\n",
    "    forecast_death = get_un_prospect(fname = f'WPP2022_MORT_F01_{sex_id}_DEATHS_SINGLE_AGE_{sex}', sheet_name = scenario)\n",
    "    deaths[sex] = pd.concat([history_death, forecast_death]).iloc[:,10:].sort_values('Year').set_index('Year')"
   ]
  },
  {
   "cell_type": "code",
   "execution_count": 349,
   "id": "5ba26bf3-0b28-4e96-8db6-6dafe7637358",
   "metadata": {},
   "outputs": [],
   "source": [
    "mortality = {}\n",
    "for sex in sexes:\n",
    "    mortality[sex] = deaths[sex]/population[sex]"
   ]
  },
  {
   "cell_type": "code",
   "execution_count": 350,
   "id": "c8d52750-b9ed-4a14-8b1a-15bd33e5e96f",
   "metadata": {},
   "outputs": [],
   "source": [
    "survival_probability = {}\n",
    "life_expectancy = {}\n",
    "exit_age = {}\n",
    "for sex in sexes:\n",
    "    survival_probability[sex] = (1-mortality[sex]).cumprod(axis=1)\n",
    "    survival_probability[sex].iloc[:,-1] = 0\n",
    "    life_expectancy[sex] = pd.DataFrame((np.array((1- mortality[sex]).cumprod(axis=1).iloc[:,:-1])*\\\n",
    "                                    np.array(mortality[sex].iloc[:,1:]*np.arange(1,101))).sum(axis=1)).set_index(mortality[sex].index)\n",
    "    exit_age_to_life_expectancy = J_1957/life_expectancy[sex].loc[1957].squeeze()\n",
    "    exit_age[sex] = np.floor(exit_age_to_life_expectancy*life_expectancy[sex])"
   ]
  },
  {
   "cell_type": "code",
   "execution_count": 351,
   "id": "eb1e1005-bd65-42c3-bc1d-1e86db63424c",
   "metadata": {},
   "outputs": [],
   "source": [
    "history_births = get_un_prospect(fname = f'WPP2022_FERT_F03_BIRTHS_BY_SINGLE_AGE_OF_MOTHER', sheet_name = 'Estimates')\n",
    "forecast_births = get_un_prospect(fname = f'WPP2022_FERT_F03_BIRTHS_BY_SINGLE_AGE_OF_MOTHER', sheet_name = scenario)\n",
    "births_total = pd.concat([history_births, forecast_births]).iloc[:,10:].sort_values('Year').set_index('Year')"
   ]
  },
  {
   "cell_type": "code",
   "execution_count": 352,
   "id": "c5a4d731-f1c3-4763-b90d-d8f286a64710",
   "metadata": {},
   "outputs": [],
   "source": [
    "births = {}\n",
    "births['FEMALE'] = (np.array(female_ratio)*births_total.transpose()).transpose()\n",
    "births['MALE'] = (np.array(1-female_ratio)*births_total.transpose()).transpose()"
   ]
  },
  {
   "cell_type": "code",
   "execution_count": 353,
   "id": "3bacadf3-2bb6-4b4c-a5ec-9a3007020f07",
   "metadata": {},
   "outputs": [],
   "source": [
    "fertility = {}\n",
    "for sex in sexes:\n",
    "    fertility[sex] = births[sex]/population['FEMALE'].loc[:,15:49]"
   ]
  },
  {
   "cell_type": "code",
   "execution_count": 354,
   "id": "87f4859a-da7e-4bf1-9972-66c946e9362e",
   "metadata": {},
   "outputs": [],
   "source": [
    "births_yearly = {}\n",
    "births_yearly['FEMALE'] = births_total.sum(axis=1)*female_ratio\n",
    "births_yearly['MALE'] = births_total.sum(axis=1)*(1-female_ratio)"
   ]
  },
  {
   "cell_type": "markdown",
   "id": "8d009fa4-be5f-41b9-b43b-67a5c27427ce",
   "metadata": {},
   "source": [
    "Оцениваем миграцию по рождениям и смертям (только с 1951 года)"
   ]
  },
  {
   "cell_type": "code",
   "execution_count": 355,
   "id": "a4dbfe5e-ec29-4c5b-a4df-1545b60bdc62",
   "metadata": {},
   "outputs": [],
   "source": [
    "migration = {}\n",
    "for sex in sexes:\n",
    "    zero_migration_population = np.concatenate((np.array(births_yearly[sex])[1:].reshape(-1,1),\n",
    "                                                np.array(population[sex] - deaths[sex])[:-1,:-1]), axis=1)\n",
    "    migration_array = np.array(population[sex])[1:] - zero_migration_population\n",
    "    migration_array = np.vstack([migration_array, migration_array[-1]])\n",
    "    migration_array[:, -1] = 0\n",
    "    migration[sex] = pd.DataFrame(migration_array).set_index(population[sex].index)\n",
    "    migration[sex].columns = population[sex].iloc[1:].columns"
   ]
  },
  {
   "cell_type": "code",
   "execution_count": 356,
   "id": "8f39eb48-9fc3-49a7-bd98-5155652826d2",
   "metadata": {},
   "outputs": [],
   "source": [
    "migration_rate = {}\n",
    "for sex in sexes:\n",
    "    migration_rate[sex] = (migration[sex].transpose()/(population['FEMALE']+population['MALE']).sum(axis=1)).transpose()"
   ]
  },
  {
   "cell_type": "code",
   "execution_count": 415,
   "id": "09833209-bf98-4104-8439-e395dd22f818",
   "metadata": {},
   "outputs": [],
   "source": [
    "demography = {name:np.zeros((2, MAX_TIME+G_TOTAL, MAX_TIME)) \n",
    "              for name in ('population', 'deaths', 'mortality', 'births', 'fertility', 'migration', 'migration_rate', 'survival_probability', 'epsilon', 'rho', 'rho_reform')}"
   ]
  },
  {
   "cell_type": "markdown",
   "id": "42a00fc8-918f-4d51-bd2c-0fe2d32039b0",
   "metadata": {},
   "source": [
    "## прогноз оон"
   ]
  },
  {
   "cell_type": "code",
   "execution_count": 416,
   "id": "19e93691-29e4-4f6b-b6a4-73f711b65730",
   "metadata": {
    "tags": []
   },
   "outputs": [],
   "source": [
    "for sex_id, sex in enumerate(('FEMALE', 'MALE')):\n",
    "    for year in range(base_year, un_max_year+1):\n",
    "        year_idx = year - base_year\n",
    "        demography['population'][sex_id,year_idx:(year_idx+G_TOTAL),  year_idx] = population[sex].loc[year].tolist()[::-1]\n",
    "        \n",
    "        demography['deaths'][sex_id, year_idx:(year_idx+G_TOTAL), year_idx] = deaths[sex].loc[year].tolist()[::-1]\n",
    "        demography['mortality'][sex_id, year_idx:(year_idx+G_TOTAL), year_idx] = mortality[sex].loc[year].tolist()[::-1]\n",
    "        \n",
    "        demography['births'][sex_id, (year_idx+(G_TOTAL-50)):(year_idx+G_TOTAL-15), year_idx] = births[sex].loc[year].tolist()[::-1]\n",
    "        demography['fertility'][sex_id, (year_idx+(G_TOTAL-50)):(year_idx+G_TOTAL-15), year_idx] = fertility[sex].loc[year].tolist()[::-1]\n",
    "        \n",
    "        demography['migration'][sex_id, year_idx:(year_idx+G_TOTAL), year_idx] = migration[sex].loc[year].tolist()[::-1]\n",
    "        demography['migration_rate'][sex_id, year_idx:(year_idx+G_TOTAL), year_idx] = migration_rate[sex].loc[year].tolist()[::-1]\n",
    "        \n",
    "        demography['survival_probability'][sex_id, year_idx:(year_idx+G_TOTAL), year_idx] = survival_probability[sex].loc[year].tolist()[::-1]\n",
    "        \n",
    "        \n",
    "    np.fill_diagonal(demography['mortality'][sex_id], 1)"
   ]
  },
  {
   "cell_type": "markdown",
   "id": "05723eb7-5c7a-4c57-8644-da6bd455e365",
   "metadata": {
    "tags": []
   },
   "source": [
    "## постпрогнозный период (стационарные смертность, рождаемость, миграция)"
   ]
  },
  {
   "cell_type": "code",
   "execution_count": 418,
   "id": "3fd1af92-17fc-47a7-beec-32a88a9e6875",
   "metadata": {
    "tags": []
   },
   "outputs": [],
   "source": [
    "for sex_id, sex in enumerate(('FEMALE', 'MALE')):\n",
    "    for year in range(un_max_year+1, MAX_TIME+base_year):\n",
    "        stationary_year = un_max_year-base_year\n",
    "        year_idx = year - base_year\n",
    "        for ratio in ('mortality', 'fertility', 'migration_rate', 'survival_probability'):\n",
    "            demography[ratio][sex_id, year_idx:(year_idx+G_TOTAL), year_idx] = \\\n",
    "                demography[ratio][sex_id, stationary_year:(stationary_year+G_TOTAL), stationary_year]\n",
    "        \n",
    "        \n",
    "        \n",
    "        demography['population'][sex_id, year_idx:(year_idx+G_TOTAL), year_idx] = \\\n",
    "            demography['population'][sex_id, year_idx:(year_idx+G_TOTAL), year_idx-1]*\\\n",
    "            (\n",
    "                1 - demography['mortality'][sex_id, year_idx:(year_idx+G_TOTAL), year_idx-1]\n",
    "            ) +\\\n",
    "            (\n",
    "                demography['migration_rate'][sex_id, year_idx:(year_idx+G_TOTAL), year_idx-1]*\\\n",
    "                demography['population'][:, :, year_idx-1].sum()\n",
    "            )\n",
    "        \n",
    "        demography['population'][sex_id, year_idx+G_TOTAL-1, year_idx] += \\\n",
    "            (demography['fertility'][sex_id, year_idx:(year_idx+G_TOTAL), year_idx-1]*\\\n",
    "            demography['population'][0, year_idx:(year_idx+G_TOTAL), year_idx-1]).sum()\n",
    "            \n",
    "        demography['deaths'][sex_id, year_idx:(year_idx+G_TOTAL), year_idx] = \\\n",
    "            demography['population'][sex_id, year_idx:(year_idx+G_TOTAL), year_idx-1]*\\\n",
    "                demography['mortality'][sex_id, year_idx:(year_idx+G_TOTAL), year_idx-1]\n",
    "                \n",
    "        demography['births'][sex_id, year_idx:(year_idx+G_TOTAL), year_idx] =\\\n",
    "            demography['fertility'][sex_id, year_idx:(year_idx+G_TOTAL), year_idx-1]*\\\n",
    "            demography['population'][0, year_idx:(year_idx+G_TOTAL), year_idx-1]\n",
    "        \n",
    "        demography['migration'][sex_id, year_idx:(year_idx+G_TOTAL), year_idx] =\\\n",
    "            demography['migration_rate'][sex_id, year_idx:(year_idx+G_TOTAL), year_idx-1]*\\\n",
    "            (demography['population'][:, :, year_idx-1].sum())"
   ]
  },
  {
   "cell_type": "markdown",
   "id": "7f32a6eb-6050-4569-bf3b-1227fc495527",
   "metadata": {},
   "source": [
    "производительность труда, пенсионный возраст"
   ]
  },
  {
   "cell_type": "code",
   "execution_count": 419,
   "id": "e4044412-bf6b-46aa-ae74-c953c71e85ad",
   "metadata": {},
   "outputs": [],
   "source": [
    "age_specific_labor_efficiency = {'MALE': np.array([0.025, -0.00036]), \"FEMALE\": np.array([0.039, -0.00043])}"
   ]
  },
  {
   "cell_type": "code",
   "execution_count": 420,
   "id": "136a39d4-3d9a-43c6-9ca9-a7bbe7560b9a",
   "metadata": {},
   "outputs": [],
   "source": [
    "retirement_age = {'MALE': 60, \"FEMALE\": 55}"
   ]
  },
  {
   "cell_type": "code",
   "execution_count": 421,
   "id": "d10a2e3d-4d8f-4805-8e3b-4b6d39e61831",
   "metadata": {},
   "outputs": [],
   "source": [
    "retirement_age_reform = {'MALE': [(year_of_birth, age) for year_of_birth, age in zip(range(1958,1964), (60, 60.5, 61.5, 63, 64, 65))] ,\n",
    "                         \"FEMALE\": [(year_of_birth, age) for year_of_birth, age in zip(range(1963,1969), (55, 55.5, 56.5, 58, 59, 60))]}"
   ]
  },
  {
   "cell_type": "code",
   "execution_count": 430,
   "id": "8bae45ef-f4aa-4b1c-bd00-a14113d667e1",
   "metadata": {},
   "outputs": [],
   "source": [
    "for sex_id, sex in enumerate(('FEMALE', 'MALE')):\n",
    "    for g in range(MAX_TIME+G_TOTAL):\n",
    "        \n",
    "        birth_year = base_year - G_TOTAL + g+1\n",
    "        \n",
    "        exit_idx = min(max(birth_year, exit_age[sex].index.min()), exit_age[sex].index.max())\n",
    "        \n",
    "        age = G_TOTAL-g-1\n",
    "        \n",
    "        exit_age_g =  exit_age[sex].loc[exit_idx].squeeze()\n",
    "        \n",
    "        remain_years = (max(0, birth_year-base_year), min(g+1, MAX_TIME))\n",
    "        remain_length = remain_years[1]-remain_years[0]\n",
    "        \n",
    "        age_specific_epsilon = [np.exp(np.dot(age_specific_labor_efficiency[sex],np.array([age, age**2])))\n",
    "               if age >= 20 and age <= exit_age_g else 0 for age in range(G_TOTAL)]\n",
    "        \n",
    "        age_specific_rho = [1 if age >= retirement_age[sex] else 0 for age in range(G_TOTAL)]\n",
    "        \n",
    "        if birth_year <= retirement_age_reform[sex][0][0]:\n",
    "            age_specific_rho_reform = age_specific_rho\n",
    "        elif birth_year >= retirement_age_reform[sex][-1][0]:\n",
    "            age_specific_rho_reform = [1 if age >= retirement_age_reform[sex][-1][1] else 0 for age in range(G_TOTAL)]\n",
    "        else:\n",
    "            retirement_age_g = [age for year, age in retirement_age_reform[sex] if birth_year==year][0]\n",
    "            if isinstance(retirement_age_g, int):\n",
    "                age_specific_rho_reform = [1 if age >= retirement_age_g else 0 for age in range(G_TOTAL)]\n",
    "            else:\n",
    "                age_specific_rho_reform = [0.5 if age == retirement_age_g else 1 if age > retirement_age_g else 0 for age in range(G_TOTAL)]\n",
    "        if remain_length > 0:\n",
    "            \n",
    "            demography['epsilon'][sex_id, g, remain_years[0]:remain_years[1]] = age_specific_epsilon[-remain_length:]\n",
    "\n",
    "            demography['rho'][sex_id, g, remain_years[0]:remain_years[1]] = age_specific_rho[-remain_length:]\n",
    "\n",
    "            demography['rho_reform'][sex_id, g, remain_years[0]:remain_years[1]] = age_specific_rho_reform[-remain_length:]\n",
    "        "
   ]
  },
  {
   "cell_type": "code",
   "execution_count": 431,
   "id": "8c8b7b75-714e-48b5-95b5-83b203da3f14",
   "metadata": {},
   "outputs": [],
   "source": [
    "import pickle\n",
    "with open(os.path.join(project_dir,'assets', f'demography_{scenario.lower().split(\" \")[0]}.pickle'), 'wb') as f:\n",
    "    pickle.dump(demography, f,protocol = pickle.HIGHEST_PROTOCOL)"
   ]
  },
  {
   "cell_type": "code",
   "execution_count": 1659,
   "id": "75cefe37-060a-40dd-8507-ab4d83466d9d",
   "metadata": {},
   "outputs": [
    {
     "ename": "NameError",
     "evalue": "name 'scenarios' is not defined",
     "output_type": "error",
     "traceback": [
      "\u001b[1;31m---------------------------------------------------------------------------\u001b[0m",
      "\u001b[1;31mNameError\u001b[0m                                 Traceback (most recent call last)",
      "Cell \u001b[1;32mIn[1659], line 1\u001b[0m\n\u001b[1;32m----> 1\u001b[0m \u001b[43mscenarios\u001b[49m\n",
      "\u001b[1;31mNameError\u001b[0m: name 'scenarios' is not defined"
     ]
    }
   ],
   "source": [
    "population_scenarios = ('Medium variant', 'High variant', 'Low variant')"
   ]
  },
  {
   "cell_type": "code",
   "execution_count": 1664,
   "id": "1d9dbca5-016d-4e6d-a6cd-7d794258a29f",
   "metadata": {},
   "outputs": [],
   "source": [
    "scenario='High variant'"
   ]
  },
  {
   "cell_type": "code",
   "execution_count": 1665,
   "id": "08b88f5e-6e45-4acf-8c2e-169d3d0190d0",
   "metadata": {},
   "outputs": [],
   "source": [
    "with open(os.path.join(project_dir,'assets', f'demography_{scenario.lower().split(\" \")[0]}.pickle'), 'rb') as f:\n",
    "    dem = pickle.load(f)"
   ]
  },
  {
   "cell_type": "code",
   "execution_count": 1666,
   "id": "bd6b504f-44b5-4235-b3f4-f4ecf5db8ab1",
   "metadata": {},
   "outputs": [
    {
     "data": {
      "text/plain": [
       "155062.37199999997"
      ]
     },
     "execution_count": 1666,
     "metadata": {},
     "output_type": "execute_result"
    }
   ],
   "source": [
    "dem['population'][:, :, 72].sum()"
   ]
  },
  {
   "cell_type": "code",
   "execution_count": 432,
   "id": "f74797df-adfc-49b9-b1e0-603002cfaeac",
   "metadata": {},
   "outputs": [
    {
     "data": {
      "text/plain": [
       "<matplotlib.legend.Legend at 0x18f3e533130>"
      ]
     },
     "execution_count": 432,
     "metadata": {},
     "output_type": "execute_result"
    },
    {
     "data": {
      "image/png": "[encoded data removed]",
      "text/plain": [
       "<Figure size 640x480 with 1 Axes>"
      ]
     },
     "metadata": {},
     "output_type": "display_data"
    }
   ],
   "source": [
    "# plt.plot(demography['births'][0].sum(axis=1)[:200], label='b')\n",
    "plt.plot(demography['deaths'].sum(axis=0).sum(axis=0)[:200], label='d')\n",
    "plt.plot(demography['births'].sum(axis=0).sum(axis=0)[:200], label='b')\n",
    "plt.plot(demography['migration'].sum(axis=0).sum(axis=0)[:200], label='m')\n",
    "plt.legend()"
   ]
  },
  {
   "cell_type": "code",
   "execution_count": 433,
   "id": "34b4c34f-2561-42e6-b35e-c869d87461d0",
   "metadata": {},
   "outputs": [
    {
     "data": {
      "text/plain": [
       "[<matplotlib.lines.Line2D at 0x18f652505e0>]"
      ]
     },
     "execution_count": 433,
     "metadata": {},
     "output_type": "execute_result"
    },
    {
     "data": {
      "image/png": "[encoded data removed]",
      "text/plain": [
       "<Figure size 640x480 with 1 Axes>"
      ]
     },
     "metadata": {},
     "output_type": "display_data"
    }
   ],
   "source": [
    "plt.plot(demography['mortality'][0, 20, :100])\n",
    "plt.plot(demography['mortality'][0, 40, :100])\n",
    "plt.plot(demography['mortality'][0, 60, :100])\n",
    "plt.plot(demography['mortality'][0, 80, :100])"
   ]
  },
  {
   "cell_type": "code",
   "execution_count": 434,
   "id": "7da71a59-3020-49e2-8507-7191dca7cc7b",
   "metadata": {},
   "outputs": [
    {
     "data": {
      "text/plain": [
       "[<matplotlib.lines.Line2D at 0x18f51eeadc0>]"
      ]
     },
     "execution_count": 434,
     "metadata": {},
     "output_type": "execute_result"
    },
    {
     "data": {
      "image/png": "[encoded data removed]",
      "text/plain": [
       "<Figure size 640x480 with 1 Axes>"
      ]
     },
     "metadata": {},
     "output_type": "display_data"
    }
   ],
   "source": [
    "plt.plot(demography['epsilon'][0, 100:200, 100][::-1])\n",
    "plt.plot(demography['epsilon'][1, 100:200, 100][::-1])"
   ]
  },
  {
   "cell_type": "markdown",
   "id": "397da5a3-c5fa-4a51-8718-1c2d9154fde3",
   "metadata": {},
   "source": [
    "# ВВП, капитал"
   ]
  },
  {
   "cell_type": "code",
   "execution_count": 1961,
   "id": "8b92698b-e34c-426c-9d3b-bb7d64613318",
   "metadata": {},
   "outputs": [],
   "source": [
    "Y_non_oil = 103861.-21499.4"
   ]
  },
  {
   "cell_type": "code",
   "execution_count": 1972,
   "id": "0d97b1ac-8d30-4fef-891a-83c310d3f4a7",
   "metadata": {},
   "outputs": [
    {
     "data": {
      "text/plain": [
       "0.09901216100707128"
      ]
     },
     "execution_count": 1972,
     "metadata": {},
     "output_type": "execute_result"
    }
   ],
   "source": [
    "20387/(Y_non_oil/(0.14/0.35))"
   ]
  },
  {
   "cell_type": "code",
   "execution_count": 1976,
   "id": "42965f0e-e5aa-404f-8343-b3605364c042",
   "metadata": {},
   "outputs": [],
   "source": [
    "K = Y_non_oil/(0.14/0.35)"
   ]
  },
  {
   "cell_type": "code",
   "execution_count": 1977,
   "id": "9a6fd796-0b8a-4d8f-b19c-8eccf49036cf",
   "metadata": {},
   "outputs": [
    {
     "data": {
      "text/plain": [
       "205903.99999999997"
      ]
     },
     "execution_count": 1977,
     "metadata": {},
     "output_type": "execute_result"
    }
   ],
   "source": [
    "K"
   ]
  },
  {
   "cell_type": "code",
   "execution_count": null,
   "id": "2ce9df84-8db9-4dd6-a376-5b4e8510249d",
   "metadata": {},
   "outputs": [],
   "source": []
  },
  {
   "cell_type": "markdown",
   "id": "86b72ac3-2695-4054-87d2-9058357b46c5",
   "metadata": {},
   "source": [
    "labor"
   ]
  },
  {
   "cell_type": "code",
   "execution_count": 1979,
   "id": "2e7e08da-5c02-4035-a53a-dd90d21df35f",
   "metadata": {},
   "outputs": [
    {
     "data": {
      "text/plain": [
       "50286.26568021161"
      ]
     },
     "execution_count": 1979,
     "metadata": {},
     "output_type": "execute_result"
    }
   ],
   "source": [
    "1/(K**0.35/ Y_non_oil)**(1/0.65) "
   ]
  },
  {
   "cell_type": "code",
   "execution_count": 1980,
   "id": "8dbc96c3-d155-4ff7-9be5-6a432fe54a6c",
   "metadata": {},
   "outputs": [
    {
     "data": {
      "text/plain": [
       "82361.31715509761"
      ]
     },
     "execution_count": 1980,
     "metadata": {},
     "output_type": "execute_result"
    }
   ],
   "source": [
    "50286**0.65 * K**0.35"
   ]
  },
  {
   "cell_type": "code",
   "execution_count": null,
   "id": "29123a31-2a48-440f-89e3-fbcb0008a922",
   "metadata": {},
   "outputs": [],
   "source": [
    "Y_non_oil"
   ]
  },
  {
   "cell_type": "code",
   "execution_count": null,
   "id": "9f69da20-7d1d-4959-a714-13e4db18d899",
   "metadata": {},
   "outputs": [],
   "source": [
    "1/((1 - 1.5/2 * (1.02*0.98 -1)**2\n",
    "                          - 1.5*self.A_growth*self.N_growth * (self.A_growth*self.N_growth -1))+\n",
    "                         self.psi/(1+self.r[self.T+1]) * (self.A_growth*self.N_growth -1)* (self.A_growth*self.N_growth)**2)"
   ]
  }
 ],
 "metadata": {
  "kernelspec": {
   "display_name": "Python 3 (ipykernel)",
   "language": "python",
   "name": "python3"
  },
  "language_info": {
   "codemirror_mode": {
    "name": "ipython",
    "version": 3
   },
   "file_extension": ".py",
   "mimetype": "text/x-python",
   "name": "python",
   "nbconvert_exporter": "python",
   "pygments_lexer": "ipython3",
   "version": "3.9.7"
  }
 },
 "nbformat": 4,
 "nbformat_minor": 5
}
