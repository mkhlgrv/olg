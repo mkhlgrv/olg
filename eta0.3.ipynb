{
 "cells": [
  {
   "cell_type": "markdown",
   "id": "4f96e7f5",
   "metadata": {},
   "source": [
    "Загрузим уже частично посчитанную модель, но поменяем в ней sigma до 0.3, как в статье Гурвича, и посмотрим на прогноз дефицит бюджета"
   ]
  },
  {
   "cell_type": "code",
   "execution_count": 1,
   "id": "d90a9f40",
   "metadata": {},
   "outputs": [],
   "source": [
    "import pandas as pd\n",
    "from scipy.optimize import fsolve\n",
    "import numpy as np\n",
    "import itertools\n",
    "import copy\n",
    "from cyipopt import minimize_ipopt\n",
    "import warnings\n",
    "import matplotlib.pyplot as plt\n",
    "from jax.config import config\n",
    "# Enable 64 bit floating point precision\n",
    "config.update(\"jax_enable_x64\", True)\n",
    "\n",
    "# We use the CPU instead of GPU und mute all warnings if no GPU/TPU is found.\n",
    "config.update('jax_platform_name', 'cpu')\n",
    "\n",
    "# import jax.numpy as np\n",
    "from jax import jit, grad, jacfwd, jacrev\n",
    "from tqdm.contrib.telegram import tqdm, trange\n",
    "from dotenv import load_dotenv\n",
    "import os\n",
    "\n",
    "from bob_telegram_tools.bot import TelegramBot\n",
    "load_dotenv()\n",
    "import pyreadr\n",
    "import numpy as np\n",
    "import pickle\n",
    "import pandas as pd\n",
    "import statsmodels.api as sm"
   ]
  },
  {
   "cell_type": "code",
   "execution_count": 8,
   "id": "766d98d6",
   "metadata": {},
   "outputs": [],
   "source": [
    "with open('olg_base_with_assets.file', 'rb') as f:\n",
    "    olg=pickle.load(f)\n",
    "olg.sigma[:] = 0.3"
   ]
  },
  {
   "cell_type": "code",
   "execution_count": 9,
   "id": "af021cd9",
   "metadata": {
    "scrolled": true
   },
   "outputs": [
    {
     "name": "stdout",
     "output_type": "stream",
     "text": [
      "\n",
      "******************************************************************************\n",
      "This program contains Ipopt, a library for large-scale nonlinear optimization.\n",
      " Ipopt is released as open source code under the Eclipse Public License (EPL).\n",
      "         For more information visit https://github.com/coin-or/Ipopt\n",
      "******************************************************************************\n",
      "\n"
     ]
    }
   ],
   "source": [
    "for _ in range(20):\n",
    "    olg.steady_state()\n",
    "olg.update_a_initial()"
   ]
  },
  {
   "cell_type": "code",
   "execution_count": null,
   "id": "25f8e857",
   "metadata": {},
   "outputs": [],
   "source": [
    "olg.T = 300\n",
    "olg.steady_state()\n",
    "olg.create_guess(250,300)\n",
    "\n",
    "fig, ax = plt.subplots(3,3, figsize = (16,16))       \n",
    "ax[0,0].plot(olg.k[0,:(olg.T+50)], alpha = (i+1)/niter, color=\"black\", label = r\"$k_N$\")\n",
    "ax[0,0].plot(olg.k[1,:(olg.T+50)], alpha = (i+1)/niter, color=\"red\", label = r\"$k_N$\")\n",
    "ax[0,1].plot(olg.Consumption[:(olg.T+50)], alpha = (i+1)/niter, color=\"black\", label = r\"$C$\")\n",
    "ax[0,2].plot(olg.Labor[:(olg.T+50)], alpha = (i+1)/niter, color=\"black\", label = r\"$L$\")\n",
    "ax[1,0].plot(olg.w[:(olg.T+50)], alpha = (i+1)/niter, color=\"black\", label = r\"$w$\")\n",
    "ax[1,1].plot(olg.price[:(olg.T+50)], alpha = (i+1)/niter, color=\"red\", label = r\"$p$\")\n",
    "ax[1,2].plot(olg.price[:(olg.T+50)], alpha = (i+1)/niter, color=\"blue\", label = r\"$p_N$\")\n",
    "ax[2,0].plot(olg.c[0,:,1:(olg.T)].diagonal(-olg.G+1), alpha = (i+1)/niter, color=\"black\", label = r\"$c_{f}$\")\n",
    "ax[2,0].plot(olg.c[1,:,1:(olg.T)].diagonal(-olg.G+1), alpha = (i+1)/niter, color=\"red\", label = r\"$c_{f}$\")\n",
    "ax[2,1].plot(olg.l[0,:,1:(olg.T)].diagonal(-olg.G+1), alpha = (i+1)/niter, color=\"black\", label = r\"$l_{f}$\")\n",
    "ax[2,1].plot(olg.l[1,:,1:(olg.T)].diagonal(-olg.G+1), alpha = (i+1)/niter, color=\"red\", label = r\"$l_{m}$\")\n",
    "ax[2,2].plot(olg.a[0,:,1:(olg.T)].diagonal(-olg.G+1), alpha = (i+1)/niter, color=\"black\", label = r\"$a_{f}$\")\n",
    "ax[2,2].plot(olg.a[1,:,1:(olg.T)].diagonal(-olg.G+1), alpha = (i+1)/niter, color=\"red\", label = r\"$a_{m}$\")\n"
   ]
  },
  {
   "cell_type": "code",
   "execution_count": null,
   "id": "663cec4b",
   "metadata": {},
   "outputs": [
    {
     "data": {
      "application/vnd.jupyter.widget-view+json": {
       "model_id": "6f2d903f3d3e4ba6a7a801d1204d5d0a",
       "version_major": 2,
       "version_minor": 0
      },
      "text/plain": [
       "eta0.3 path to steady 0:   0%|          | 0/249 [00:00<?, ?it/s]"
      ]
     },
     "metadata": {},
     "output_type": "display_data"
    }
   ],
   "source": [
    "name = 'eta0.3'\n",
    "niter = 1\n",
    "for i in range(niter):\n",
    "    for t in range(olg.T):\n",
    "        olg.update_government(t)\n",
    "    for t in range(1, olg.T):\n",
    "        olg.update_household(t)\n",
    "    for t in tqdm(reversed(range(1,olg.T)),\n",
    "                      desc = f'{name} path to steady {i}',\n",
    "                      total=olg.T-1,\n",
    "                          token=os.getenv('comp_bot_token'),\n",
    "                          chat_id=os.getenv('chat_id')):\n",
    "\n",
    "        olg.update_guess(t)\n",
    "        \n",
    "    fig, ax = plt.subplots(3,3, figsize = (16,16))       \n",
    "    ax[0,0].plot(olg.k[0,:(olg.T+50)], alpha = (i+1)/niter, color=\"black\", label = r\"$k_N$\")\n",
    "    ax[0,0].plot(olg.k[1,:(olg.T+50)], alpha = (i+1)/niter, color=\"red\", label = r\"$k_N$\")\n",
    "    ax[0,1].plot(olg.Consumption[:(olg.T+50)], alpha = (i+1)/niter, color=\"black\", label = r\"$C$\")\n",
    "    ax[0,2].plot(olg.Labor[:(olg.T+50)], alpha = (i+1)/niter, color=\"black\", label = r\"$L$\")\n",
    "    ax[1,0].plot(olg.w[:(olg.T+50)], alpha = (i+1)/niter, color=\"black\", label = r\"$w$\")\n",
    "    ax[1,1].plot(olg.price[:(olg.T+50)], alpha = (i+1)/niter, color=\"red\", label = r\"$p$\")\n",
    "    ax[1,2].plot(olg.price[:(olg.T+50)], alpha = (i+1)/niter, color=\"blue\", label = r\"$p_N$\")\n",
    "    ax[2,0].plot(olg.c[0,:,1:(olg.T)].diagonal(-olg.G+1), alpha = (i+1)/niter, color=\"black\", label = r\"$c_{f}$\")\n",
    "    ax[2,0].plot(olg.c[1,:,1:(olg.T)].diagonal(-olg.G+1), alpha = (i+1)/niter, color=\"red\", label = r\"$c_{f}$\")\n",
    "    ax[2,1].plot(olg.l[0,:,1:(olg.T)].diagonal(-olg.G+1), alpha = (i+1)/niter, color=\"black\", label = r\"$l_{f}$\")\n",
    "    ax[2,1].plot(olg.l[1,:,1:(olg.T)].diagonal(-olg.G+1), alpha = (i+1)/niter, color=\"red\", label = r\"$l_{m}$\")\n",
    "    ax[2,2].plot(olg.a[0,:,1:(olg.T)].diagonal(-olg.G+1), alpha = (i+1)/niter, color=\"black\", label = r\"$a_{f}$\")\n",
    "    ax[2,2].plot(olg.a[1,:,1:(olg.T)].diagonal(-olg.G+1), alpha = (i+1)/niter, color=\"red\", label = r\"$a_{m}$\")\n",
    "    bot.update_plot(msg, fig)\n",
    "    with open(f'olg_{name}.file', 'wb') as f:\n",
    "        pickle.dump(olg, f,protocol = pickle.HIGHEST_PROTOCOL)\n",
    "\n",
    "    price_update = np.array([item[-1]['x'][-1] for key, item in olg.history.items() if len(item)!=0])\n",
    "    error = abs(0.5*(olg.price[1:(olg.T)]-price_update)/(olg.price[1:(olg.T)]+price_update))\n",
    "    print(error)\n",
    "    if max(error) < tol/10:\n",
    "        break\n",
    "bot.clean_tmp_dir()"
   ]
  }
 ],
 "metadata": {
  "kernelspec": {
   "display_name": "olg",
   "language": "python",
   "name": "olg"
  },
  "language_info": {
   "codemirror_mode": {
    "name": "ipython",
    "version": 3
   },
   "file_extension": ".py",
   "mimetype": "text/x-python",
   "name": "python",
   "nbconvert_exporter": "python",
   "pygments_lexer": "ipython3",
   "version": "3.8.10"
  }
 },
 "nbformat": 4,
 "nbformat_minor": 5
}
