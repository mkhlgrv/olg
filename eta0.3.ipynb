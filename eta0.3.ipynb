{
 "cells": [
  {
   "cell_type": "markdown",
   "id": "6188c437",
   "metadata": {},
   "source": [
    "Загрузим уже частично посчитанную модель, но поменяем в ней sigma до 0.3, как в статье Гурвича, и посмотрим на прогноз дефицит бюджета"
   ]
  },
  {
   "cell_type": "code",
   "execution_count": 1,
   "id": "2df018a5",
   "metadata": {},
   "outputs": [],
   "source": [
    "import pandas as pd\n",
    "from scipy.optimize import fsolve\n",
    "import numpy as np\n",
    "import itertools\n",
    "import copy\n",
    "from cyipopt import minimize_ipopt\n",
    "import warnings\n",
    "import matplotlib.pyplot as plt\n",
    "from jax.config import config\n",
    "# Enable 64 bit floating point precision\n",
    "config.update(\"jax_enable_x64\", True)\n",
    "\n",
    "# We use the CPU instead of GPU und mute all warnings if no GPU/TPU is found.\n",
    "config.update('jax_platform_name', 'cpu')\n",
    "\n",
    "# import jax.numpy as np\n",
    "from jax import jit, grad, jacfwd, jacrev\n",
    "from tqdm.contrib.telegram import tqdm, trange\n",
    "from dotenv import load_dotenv\n",
    "import os\n",
    "\n",
    "from bob_telegram_tools.bot import TelegramBot\n",
    "load_dotenv()\n",
    "import pyreadr\n",
    "import numpy as np\n",
    "import pickle\n",
    "import pandas as pd\n",
    "import statsmodels.api as sm"
   ]
  },
  {
   "cell_type": "code",
   "execution_count": 2,
   "id": "2d5266cd",
   "metadata": {},
   "outputs": [],
   "source": [
    "from olg import *\n",
    "\n",
    "olg = OLG_model(G=60,T=300,N=N,epsilon=epsilon, rho=rho,\n",
    "                gov_ratio=0.2,gov_const=gov_const,\n",
    "                sigma = sigma,Pi=Pi,r = r,price_M =price_M,\n",
    "                price_E=price_E, tau_I=tau_I,tau_II=tau_II,tau_Ins=tau_Ins,\n",
    "                tau_pi=tau_pi, tau_VA=tau_VA, tau_rho=tau_rho, beta = 0.99,\n",
    "                theta =1,\n",
    "                phi =0.23, # цель 38 миллионов в стеди стейт или 65% в начальном положении\n",
    "                psi = 24.\n",
    "                , omega=0.269\n",
    "                , alpha = 0.35, delta=0.0608,\n",
    "                A=A,initial=initial, Oil=Oil,eta =0.25,steady_max_iter=5000,max_iter=5000,\n",
    "                steady_guess=steady_guess)\n"
   ]
  },
  {
   "cell_type": "code",
   "execution_count": 3,
   "id": "ee8416b3",
   "metadata": {},
   "outputs": [],
   "source": [
    "with open('olg_base_with_assets.file', 'rb') as f:\n",
    "    olg_old=pickle.load(f)\n",
    "olg_old.sigma[:] = 0.3\n",
    "olg.k, olg.l, olg.c,\\\n",
    "olg.a, olg.steady, olg.L_share,\\\n",
    "olg.L, olg.L, olg.i, olg.I, olg.lmbda,\\\n",
    "olg.lmbda_to_price, olg.price, olg.price,\\\n",
    "olg.price_N, olg.sigma, olg.w = olg_old.k, olg_old.l, olg_old.c,\\\n",
    "olg_old.a, olg_old.steady, olg_old.L_share,\\\n",
    "olg_old.L, olg_old.L, olg_old.i, olg_old.I, olg_old.lmbda,\\\n",
    "olg_old.lmbda_to_price, olg_old.price, olg_old.price,\\\n",
    "olg_old.price_N, olg_old.sigma, olg_old.w"
   ]
  },
  {
   "cell_type": "code",
   "execution_count": 4,
   "id": "ccd5fc20",
   "metadata": {},
   "outputs": [
    {
     "name": "stdout",
     "output_type": "stream",
     "text": [
      "\n",
      "******************************************************************************\n",
      "This program contains Ipopt, a library for large-scale nonlinear optimization.\n",
      " Ipopt is released as open source code under the Eclipse Public License (EPL).\n",
      "         For more information visit https://github.com/coin-or/Ipopt\n",
      "******************************************************************************\n",
      "\n"
     ]
    }
   ],
   "source": [
    "olg.steady_state()"
   ]
  },
  {
   "cell_type": "code",
   "execution_count": 5,
   "id": "142baf66",
   "metadata": {},
   "outputs": [],
   "source": [
    "olg.steady_state()\n",
    "olg.update_a_initial()"
   ]
  },
  {
   "cell_type": "code",
   "execution_count": 6,
   "id": "b6389c34",
   "metadata": {},
   "outputs": [],
   "source": [
    "olg.create_guess(249,300)"
   ]
  },
  {
   "cell_type": "code",
   "execution_count": 7,
   "id": "fdfba293",
   "metadata": {},
   "outputs": [],
   "source": [
    "for t in range(1, olg.T):\n",
    "    olg.update_household(t)"
   ]
  },
  {
   "cell_type": "code",
   "execution_count": 10,
   "id": "b2025a85",
   "metadata": {},
   "outputs": [],
   "source": [
    "bot = TelegramBot(os.getenv('comp_bot_token'),\n",
    "                      os.getenv('chat_id'))"
   ]
  },
  {
   "cell_type": "code",
   "execution_count": null,
   "id": "db0450ae",
   "metadata": {},
   "outputs": [],
   "source": [
    "olg.T = 300\n",
    "niter=2\n",
    "i=1\n",
    "fig, ax = plt.subplots(3,3, figsize = (16,16))       \n",
    "ax[0,0].plot(olg.k[0,:(olg.T+50)], alpha = (i+1)/niter, color=\"black\", label = r\"$k_N$\")\n",
    "ax[0,0].plot(olg.k[1,:(olg.T+50)], alpha = (i+1)/niter, color=\"red\", label = r\"$k_N$\")\n",
    "ax[0,1].plot(olg.Consumption[:(olg.T+50)], alpha = (i+1)/niter, color=\"black\", label = r\"$C$\")\n",
    "ax[0,2].plot(olg.Labor[:(olg.T+50)], alpha = (i+1)/niter, color=\"black\", label = r\"$L$\")\n",
    "ax[1,0].plot(olg.w[:(olg.T+50)], alpha = (i+1)/niter, color=\"black\", label = r\"$w$\")\n",
    "ax[1,1].plot(olg.price[:(olg.T+50)], alpha = (i+1)/niter, color=\"red\", label = r\"$p$\")\n",
    "ax[1,2].plot(olg.price[:(olg.T+50)], alpha = (i+1)/niter, color=\"blue\", label = r\"$p_N$\")\n",
    "ax[2,0].plot(olg.c[0,:,1:(olg.T)].diagonal(-olg.G+1), alpha = (i+1)/niter, color=\"black\", label = r\"$c_{f}$\")\n",
    "ax[2,0].plot(olg.c[1,:,1:(olg.T)].diagonal(-olg.G+1), alpha = (i+1)/niter, color=\"red\", label = r\"$c_{f}$\")\n",
    "ax[2,1].plot(olg.l[0,:,1:(olg.T)].diagonal(-olg.G+1), alpha = (i+1)/niter, color=\"black\", label = r\"$l_{f}$\")\n",
    "ax[2,1].plot(olg.l[1,:,1:(olg.T)].diagonal(-olg.G+1), alpha = (i+1)/niter, color=\"red\", label = r\"$l_{m}$\")\n",
    "ax[2,2].plot(olg.a[0,:,1:(olg.T)].diagonal(-olg.G+1), alpha = (i+1)/niter, color=\"black\", label = r\"$a_{f}$\")\n",
    "ax[2,2].plot(olg.a[1,:,1:(olg.T)].diagonal(-olg.G+1), alpha = (i+1)/niter, color=\"red\", label = r\"$a_{m}$\")\n",
    "for row in ax:\n",
    "    for col in row:\n",
    "        col.legend()\n"
   ]
  },
  {
   "cell_type": "code",
   "execution_count": 17,
   "id": "68e05378",
   "metadata": {},
   "outputs": [
    {
     "data": {
      "application/vnd.jupyter.widget-view+json": {
       "model_id": "26e9bd8111fb4538953764b77f1dd911",
       "version_major": 2,
       "version_minor": 0
      },
      "text/plain": [
       "eta0.3 path to steady 0:   0%|          | 0/299 [00:00<?, ?it/s]"
      ]
     },
     "metadata": {},
     "output_type": "display_data"
    },
    {
     "name": "stdout",
     "output_type": "stream",
     "text": [
      "[1.10633686e-03 3.07861203e-03 7.83967413e-04 3.55840345e-05\n",
      " 1.34219239e-04 4.98209672e-04 8.47349378e-04 1.12982555e-03\n",
      " 1.39242070e-03 1.66738487e-03 1.97242529e-03 2.31232892e-03\n",
      " 2.66851567e-03 3.00969657e-03 3.30306432e-03 3.52052813e-03\n",
      " 3.65929543e-03 3.73137491e-03 3.75510252e-03 3.75260682e-03\n",
      " 3.73859994e-03 3.72369375e-03 3.71317170e-03 3.70734818e-03\n",
      " 3.70457077e-03 3.70238530e-03 3.69687663e-03 3.68783834e-03\n",
      " 3.67549005e-03 3.66088265e-03 3.64600760e-03 3.63201979e-03\n",
      " 3.62013941e-03 3.61170014e-03 3.60736959e-03 3.60705833e-03\n",
      " 3.60886493e-03 3.61265577e-03 3.61702983e-03 3.62213072e-03\n",
      " 3.62947603e-03 3.63777541e-03 3.64917864e-03 3.66405123e-03\n",
      " 3.68449936e-03 3.71068144e-03 3.74043616e-03 3.77566515e-03\n",
      " 3.81551623e-03 3.85735723e-03 3.90146182e-03 3.94646591e-03\n",
      " 3.99131106e-03 4.03405219e-03 4.07454076e-03 4.11296974e-03\n",
      " 4.14630429e-03 4.17629483e-03 4.20355814e-03 4.23227566e-03\n",
      " 4.26220815e-03 4.29233352e-03 4.32318350e-03 4.35511834e-03\n",
      " 4.38557220e-03 4.41468831e-03 4.43990078e-03 4.46141595e-03\n",
      " 4.47986851e-03 4.49390193e-03 4.50480593e-03 4.51339250e-03\n",
      " 4.52263861e-03 4.53252833e-03 4.54244182e-03 4.55322004e-03\n",
      " 4.56746676e-03 4.58374000e-03 4.59962933e-03 4.61550243e-03\n",
      " 4.63047395e-03 4.64409924e-03 4.65632778e-03 4.66730199e-03\n",
      " 4.67748111e-03 4.68717113e-03 4.69733732e-03 4.70704139e-03\n",
      " 4.71551220e-03 4.72325722e-03 4.72898645e-03 4.73250140e-03\n",
      " 4.73354242e-03 4.73204731e-03 4.72813093e-03 4.72197998e-03\n",
      " 4.71385324e-03 4.70342715e-03 4.69065974e-03 4.67561667e-03\n",
      " 4.65749765e-03 4.63593504e-03 4.61148937e-03 4.58338276e-03\n",
      " 4.55081894e-03 4.50736533e-03 4.45365166e-03 4.39161407e-03\n",
      " 4.33762349e-03 4.29922876e-03 4.28454820e-03 4.29490867e-03\n",
      " 4.32311006e-03 4.36601901e-03 4.41561609e-03 4.46728655e-03\n",
      " 4.51793050e-03 4.56552175e-03 4.60964514e-03 4.65078473e-03\n",
      " 4.68856053e-03 4.72366729e-03 4.75660928e-03 4.78797991e-03\n",
      " 4.81709609e-03 4.84551049e-03 4.87272804e-03 4.89903158e-03\n",
      " 4.92458647e-03 4.94906200e-03 4.97214107e-03 4.99386458e-03\n",
      " 5.01396369e-03 5.03207670e-03 5.04760713e-03 5.05997939e-03\n",
      " 5.06970422e-03 5.07571756e-03 5.07797969e-03 5.07630150e-03\n",
      " 5.06991737e-03 5.05904594e-03 5.04346423e-03 5.02313106e-03\n",
      " 4.99806308e-03 4.96831724e-03 4.93418174e-03 4.89584818e-03\n",
      " 4.85366078e-03 4.80806976e-03 4.75936321e-03 4.70829889e-03\n",
      " 4.65533341e-03 4.60087320e-03 4.54596818e-03 4.49101075e-03\n",
      " 4.43667751e-03 4.38330526e-03 4.33236764e-03 4.28389692e-03\n",
      " 4.23856923e-03 4.19694509e-03 4.15957674e-03 4.12699044e-03\n",
      " 4.09991691e-03 4.07866801e-03 4.06371689e-03 4.05545512e-03\n",
      " 4.05414111e-03 4.05961328e-03 4.07198151e-03 4.09107542e-03\n",
      " 4.11532379e-03 4.14632965e-03 4.18277612e-03 4.22480433e-03\n",
      " 4.27207556e-03 4.32453265e-03 4.38220060e-03 4.44503869e-03\n",
      " 4.51253139e-03 4.58363598e-03 4.65887127e-03 4.73791188e-03\n",
      " 4.82076579e-03 4.90734090e-03 4.99750245e-03 5.09117186e-03\n",
      " 5.18747328e-03 5.28484977e-03 5.38314233e-03 5.48174108e-03\n",
      " 5.58014345e-03 5.67776399e-03 5.77407426e-03 5.86851843e-03\n",
      " 5.96041712e-03 6.04925657e-03 6.13444438e-03 6.21541244e-03\n",
      " 6.29160436e-03 6.36247300e-03 6.42748711e-03 6.48607943e-03\n",
      " 6.53774265e-03 6.58203920e-03 6.61887131e-03 6.64886749e-03\n",
      " 6.67088295e-03 6.68461707e-03 6.68913913e-03 6.68448750e-03\n",
      " 6.67115195e-03 6.64766649e-03 6.61366067e-03 6.57002455e-03\n",
      " 6.51467216e-03 6.44683054e-03 6.36522642e-03 6.26897824e-03\n",
      " 6.15825453e-03 6.03085611e-03 5.88576132e-03 5.71992037e-03\n",
      " 5.53291606e-03 5.32094069e-03 5.08185682e-03 4.81297647e-03\n",
      " 4.51046152e-03 4.17001316e-03 3.79295356e-03 3.36925308e-03\n",
      " 2.89644323e-03 2.36988323e-03 1.78426845e-03 1.13492733e-03\n",
      " 4.25556720e-04 2.00994975e-04 8.84856745e-04 1.19684033e-02\n",
      " 2.96477733e-02 1.13709270e-02 1.85338571e-02 1.20973207e-02\n",
      " 7.56199586e-03 1.81552082e-03 1.34452337e-03 8.94121426e-03\n",
      " 2.19247181e-02 1.85495490e-02 1.87856840e-02 1.55863802e-02\n",
      " 1.33513832e-02 1.11286435e-02 9.07023128e-03 7.23692104e-03\n",
      " 5.64400512e-03 4.30940418e-03 3.22516170e-03 2.37661683e-03\n",
      " 1.74394474e-03 1.30319030e-03 1.02927681e-03 8.97375274e-04\n",
      " 8.84428014e-04 9.69336792e-04 1.13305099e-03 1.35885543e-03\n",
      " 1.63326192e-03 1.94504829e-03 2.28425696e-03 2.64058160e-03\n",
      " 3.00306599e-03 3.37063648e-03 3.73822970e-03 4.10329441e-03\n",
      " 4.46399591e-03 4.81874386e-03 5.16606660e-03 5.50325528e-03\n",
      " 5.82660017e-03 6.13613610e-03 6.43081923e-03 6.71042286e-03\n",
      " 6.97467891e-03 7.22344844e-03 7.45653945e-03 7.67382767e-03\n",
      " 7.87510528e-03 8.06008985e-03 8.22839441e-03 8.37948629e-03\n",
      " 8.51268868e-03 8.62727827e-03 8.72245337e-03 8.79728309e-03\n",
      " 8.85174656e-03 8.86733048e-03 9.11994767e-03]\n"
     ]
    },
    {
     "ename": "NameError",
     "evalue": "name 'tol' is not defined",
     "output_type": "error",
     "traceback": [
      "\u001b[0;31m---------------------------------------------------------------------------\u001b[0m",
      "\u001b[0;31mNameError\u001b[0m                                 Traceback (most recent call last)",
      "Input \u001b[0;32mIn [17]\u001b[0m, in \u001b[0;36m<cell line: 3>\u001b[0;34m()\u001b[0m\n\u001b[1;32m     35\u001b[0m     error \u001b[38;5;241m=\u001b[39m \u001b[38;5;28mabs\u001b[39m(\u001b[38;5;241m0.5\u001b[39m\u001b[38;5;241m*\u001b[39m(olg\u001b[38;5;241m.\u001b[39mprice[\u001b[38;5;241m1\u001b[39m:(olg\u001b[38;5;241m.\u001b[39mT)]\u001b[38;5;241m-\u001b[39mprice_update)\u001b[38;5;241m/\u001b[39m(olg\u001b[38;5;241m.\u001b[39mprice[\u001b[38;5;241m1\u001b[39m:(olg\u001b[38;5;241m.\u001b[39mT)]\u001b[38;5;241m+\u001b[39mprice_update))\n\u001b[1;32m     36\u001b[0m     \u001b[38;5;28mprint\u001b[39m(error)\n\u001b[0;32m---> 37\u001b[0m     \u001b[38;5;28;01mif\u001b[39;00m \u001b[38;5;28mmax\u001b[39m(error) \u001b[38;5;241m<\u001b[39m \u001b[43mtol\u001b[49m\u001b[38;5;241m/\u001b[39m\u001b[38;5;241m10\u001b[39m:\n\u001b[1;32m     38\u001b[0m         \u001b[38;5;28;01mbreak\u001b[39;00m\n\u001b[1;32m     39\u001b[0m bot\u001b[38;5;241m.\u001b[39mclean_tmp_dir()\n",
      "\u001b[0;31mNameError\u001b[0m: name 'tol' is not defined"
     ]
    },
    {
     "data": {
      "image/png": "[encoded data removed]",
      "text/plain": [
       "<Figure size 1152x1152 with 9 Axes>"
      ]
     },
     "metadata": {
      "needs_background": "light"
     },
     "output_type": "display_data"
    }
   ],
   "source": [
    "name = 'eta0.3'\n",
    "niter = 50\n",
    "for i in range(niter):\n",
    "    for t in range(olg.T):\n",
    "        olg.update_government(t)\n",
    "    for t in range(1, olg.T):\n",
    "        olg.update_household(t)\n",
    "    for t in tqdm(reversed(range(1,olg.T)),\n",
    "                      desc = f'{name} path to steady {i}',\n",
    "                      total=olg.T-1,\n",
    "                          token=os.getenv('comp_bot_token'),\n",
    "                          chat_id=os.getenv('chat_id')):\n",
    "\n",
    "        olg.update_guess(t)\n",
    "        \n",
    "    fig, ax = plt.subplots(3,3, figsize = (16,16))       \n",
    "    ax[0,0].plot(olg.k[0,:(olg.T+50)], alpha = (i+1)/niter, color=\"black\", label = r\"$k_N$\")\n",
    "    ax[0,0].plot(olg.k[1,:(olg.T+50)], alpha = (i+1)/niter, color=\"red\", label = r\"$k_N$\")\n",
    "    ax[0,1].plot(olg.Consumption[:(olg.T+50)], alpha = (i+1)/niter, color=\"black\", label = r\"$C$\")\n",
    "    ax[0,2].plot(olg.Labor[:(olg.T+50)], alpha = (i+1)/niter, color=\"black\", label = r\"$L$\")\n",
    "    ax[1,0].plot(olg.w[:(olg.T+50)], alpha = (i+1)/niter, color=\"black\", label = r\"$w$\")\n",
    "    ax[1,1].plot(olg.price[:(olg.T+50)], alpha = (i+1)/niter, color=\"red\", label = r\"$p$\")\n",
    "    ax[1,2].plot(olg.price[:(olg.T+50)], alpha = (i+1)/niter, color=\"blue\", label = r\"$p_N$\")\n",
    "    ax[2,0].plot(olg.c[0,:,1:(olg.T)].diagonal(-olg.G+1), alpha = (i+1)/niter, color=\"black\", label = r\"$c_{f}$\")\n",
    "    ax[2,0].plot(olg.c[1,:,1:(olg.T)].diagonal(-olg.G+1), alpha = (i+1)/niter, color=\"red\", label = r\"$c_{f}$\")\n",
    "    ax[2,1].plot(olg.l[0,:,1:(olg.T)].diagonal(-olg.G+1), alpha = (i+1)/niter, color=\"black\", label = r\"$l_{f}$\")\n",
    "    ax[2,1].plot(olg.l[1,:,1:(olg.T)].diagonal(-olg.G+1), alpha = (i+1)/niter, color=\"red\", label = r\"$l_{m}$\")\n",
    "    ax[2,2].plot(olg.a[0,:,1:(olg.T)].diagonal(-olg.G+1), alpha = (i+1)/niter, color=\"black\", label = r\"$a_{f}$\")\n",
    "    ax[2,2].plot(olg.a[1,:,1:(olg.T)].diagonal(-olg.G+1), alpha = (i+1)/niter, color=\"red\", label = r\"$a_{m}$\")\n",
    "#     bot.update_plot(msg, fig)\n",
    "    with open(f'olg_{name}.file', 'wb') as f:\n",
    "        pickle.dump(olg, f,protocol = pickle.HIGHEST_PROTOCOL)\n",
    "\n",
    "    price_update = np.array([item[-1]['x'][-1] for key, item in olg.history.items() if len(item)!=0])\n",
    "    error = abs(0.5*(olg.price[1:(olg.T)]-price_update)/(olg.price[1:(olg.T)]+price_update))\n",
    "    print(error)\n",
    "    if max(error) < tol/10:\n",
    "        break\n",
    "bot.clean_tmp_dir()"
   ]
  }
 ],
 "metadata": {
  "kernelspec": {
   "display_name": "olg",
   "language": "python",
   "name": "olg"
  },
  "language_info": {
   "codemirror_mode": {
    "name": "ipython",
    "version": 3
   },
   "file_extension": ".py",
   "mimetype": "text/x-python",
   "name": "python",
   "nbconvert_exporter": "python",
   "pygments_lexer": "ipython3",
   "version": "3.8.10"
  }
 },
 "nbformat": 4,
 "nbformat_minor": 5
}
