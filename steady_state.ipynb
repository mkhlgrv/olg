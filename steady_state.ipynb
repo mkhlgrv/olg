{
 "cells": [
  {
   "cell_type": "code",
   "execution_count": 18,
   "metadata": {
    "pycharm": {
     "name": "#%%\n"
    }
   },
   "outputs": [],
   "source": [
    "import pandas as pd\n",
    "from scipy.optimize import fsolve\n",
    "import numpy as np\n",
    "import itertools\n",
    "import copy\n",
    "from cyipopt import minimize_ipopt\n",
    "import warnings\n",
    "import matplotlib.pyplot as plt\n",
    "from jax.config import config\n",
    "# Enable 64 bit floating point precision\n",
    "config.update(\"jax_enable_x64\", True)\n",
    "\n",
    "# We use the CPU instead of GPU und mute all warnings if no GPU/TPU is found.\n",
    "config.update('jax_platform_name', 'cpu')\n",
    "\n",
    "# import jax.numpy as np\n",
    "from jax import jit, grad, jacfwd, jacrev"
   ]
  },
  {
   "cell_type": "code",
   "execution_count": 19,
   "metadata": {
    "pycharm": {
     "name": "#%%\n"
    }
   },
   "outputs": [],
   "source": [
    "def counted(f):\n",
    "    def wrapped(*args, **kwargs):\n",
    "        wrapped.calls += 1\n",
    "        return f(*args, **kwargs)\n",
    "    wrapped.calls = 0\n",
    "    return wrapped"
   ]
  },
  {
   "cell_type": "code",
   "execution_count": 20,
   "metadata": {},
   "outputs": [],
   "source": []
  },
  {
   "cell_type": "markdown",
   "metadata": {
    "pycharm": {
     "name": "#%% md\n"
    }
   },
   "source": [
    "Проблемы: надо посчитать долю наследства\n",
    "Для мигрантов матрицу размера 10к? (Каждое новое поколение имеет другое богатство)"
   ]
  },
  {
   "cell_type": "code",
   "execution_count": 372,
   "metadata": {
    "pycharm": {
     "name": "#%%\n"
    }
   },
   "outputs": [],
   "source": [
    "class OLG_model:\n",
    "    def __init__(self, G,T,N,epsilon, rho, sigma,Pi,r,price_M, price_E, tau_I,tau_Ins, tau_pi, tau_VA, tau_rho, beta, phi , theta , psi, omega, alpha, delta, A,initial, eta,steady_max_iter,steady_guess):\n",
    "        \"\"\"\n",
    "        OLG model\n",
    "        :param G: number of generations, default is 110\n",
    "        :param T: simulation time, default is 500\n",
    "        :param N_female: population (G+T-1, T) matrix where N[g,t] is cohort size of generation g in period t\n",
    "        :param N_male: population (G+T-1, T) matrix where N[g,t] is cohort size of generation g in period t\n",
    "        :param epsilon_female: female cohort- and year-specific productivity\n",
    "        :param epsilon_male: male cohort- and year-specific productivity\n",
    "        :param rho_female: female cohort- and year-specific retirement rate\n",
    "        :param rho_male: male cohort- and year-specific retirement rate\n",
    "        :param sigma: pension rate (pension point value) for T periods\n",
    "        :param Pi_female: survival probability\n",
    "        :param Pi_male: survival probability\n",
    "        :param Beq_female_to_female,Beq_female_to_male,Beq_male_to_female,Beq_male_to_male: bequest matrix\n",
    "        :param r: rate of return for T periods\n",
    "        :param price_M: import prices for T periods\n",
    "        :param price_E: export prices for T periods\n",
    "        :param tau_I: income tax for T periods\n",
    "        :param tau_Ins: insurance tax for T periods\n",
    "        :param tau_pi: profit tax for T periods\n",
    "        :param tau_VA: value-added tax for T periods\n",
    "        :param tau_rho: retirement tax for T periods\n",
    "        :param beta: elasticity of intertemporal substitution\n",
    "        :param phi: elasticity of intertemporal substitution\n",
    "        :param theta: ?\n",
    "        :param psi: ? investment cost\n",
    "        :param omega: import share\n",
    "        :param alpha: elasticity of capital\n",
    "        :param delta: deprecation rate\n",
    "        :param A_N: total factor productivity, non-export good\n",
    "        :param A_E: total factor productivity, export goods\n",
    "        \"\"\"\n",
    "\n",
    "        ## Exogenous variables and parameters\n",
    "        # Demography\n",
    "        self.G, self.T,self.N,self.epsilon,self.Pi = G, T,N,epsilon,Pi\n",
    "        # Retirement\n",
    "        self.rho,self.sigma = rho, sigma\n",
    "        # Prices\n",
    "        self.r, self.price_M, self.price_E, self.omega = r, price_M, price_E, omega\n",
    "        # Taxation\n",
    "        self.tau_I, self.tau_pi, self.tau_VA,self.tau_Ins, self.tau_rho =  tau_I, tau_pi,tau_VA,tau_Ins, tau_rho\n",
    "        # Utility\n",
    "        self.beta, self.phi, self.theta  = beta, phi, theta\n",
    "        # Production\n",
    "        self.psi, self.alpha, self.delta, self.A = psi, alpha, delta, A\n",
    "\n",
    "        self.a_initial = initial[\"a\"]\n",
    "\n",
    "\n",
    "\n",
    "        self.eta = eta\n",
    "        self.steady_max_iter = steady_max_iter\n",
    "\n",
    "        # Endogenous variable\n",
    "        # Initial guess\n",
    "        self.price_N = np.array([initial[\"price_N\"] for _ in range(max_time)])\n",
    "        self.K = np.array([[initial[\"K_N\"] for _ in range(max_time)], [initial[\"K_E\"] for _ in range(max_time)]])\n",
    "        self.L = np.array([[initial[\"L_N\"] for _ in range(max_time)], [initial[\"L_E\"] for _ in range(max_time)]])\n",
    "        self.I = np.array([[initial[\"I_N\"] for _ in range(max_time)], [initial[\"I_E\"] for _ in range(max_time)]])\n",
    "        self.Gov = np.array([initial[\"Gov\"] for _ in range(max_time)])\n",
    "\n",
    "        self.lmbda = np.array([[0.5 for _ in range(max_time)] for _ in range(2)])\n",
    "\n",
    "        self.w = ((self.price_N *(1-self.alpha)*(self.K[0])**self.alpha *(self.A[0])**(1-self.alpha)*(self.L[0])**(-self.alpha))+\n",
    "        (self.price_E *(1-self.alpha)*(self.K[1])**self.alpha *(self.A[1])**(1-self.alpha)*(self.L[1])**(-self.alpha)))/2\n",
    "\n",
    "        self.price = (self.price_M)**self.omega * (self.price_N)**(1-self.omega)\n",
    "\n",
    "\n",
    "        self.Y = self.K**self.alpha * (self.L*self.A)**(1-self.alpha)\n",
    "\n",
    "\n",
    "        self.D = self.Y[0]/(1-self.omega)* self.price_N/self.price + self.Gov\n",
    "\n",
    "        self.M = self.omega * self.D * self.price / self.price_M\n",
    "\n",
    "\n",
    "\n",
    "        self.c =  np.array([[[0.002 if ((g >= t) and (g<=self.G+t-1)) else 0 for t in range(max_time)] for g in range(max_time)] for _ in range(2)])\n",
    "        self.a = np.array([[[0.01 if ((g >= t) and (g<=self.G+t-1)) else 0 for t in range(max_time)] for g in range(max_time)] for _ in range(2)])\n",
    "        self.gamma = np.array([[[0.9 if ((g >= t) and (g<=self.G+t-1)) else 0 for t in range(max_time)] for g in range(max_time)] for _ in range(2)])\n",
    "        self.l = np.array([[[0.4 if ((g >= t) and (g<=self.G+t-1)) else 0 for t in range(max_time)] for g in range(max_time)] for _ in range(2)])\n",
    "\n",
    "        Consumption = np.array([np.sum([self.c[s,g,t]*self.N[s,g,t] for g in range(max_time) for s in range(2)]) for t in range(max_time)])\n",
    "        self.Consumption = Consumption\n",
    "\n",
    "        Labor = np.array([np.sum([self.l[s,g,self.T]*self.N[s,g,self.T]*self.epsilon[s,g,self.T] for g in range(max_time) for s in range(2)]) for t in range(max_time)])\n",
    "        self.Labor = Labor\n",
    "\n",
    "        Assets =  np.array([np.sum([self.a[s,g,t]*self.N[s,g,t] for g in range(max_time) for s in range(2)]) for t in range(max_time)])\n",
    "        self.Assets = Assets\n",
    "\n",
    "\n",
    "        self.steady = np.array(list(steady_guess) + [Consumption[self.T], Labor[self.T], Assets[self.T]])\n",
    "        self.steady_path = []\n",
    "\n",
    "        self.max_hessian_perturbation = 10e20\n",
    "\n",
    "\n",
    "\n",
    "    def household(self, s, g, t):\n",
    "        def labor_income_vector(self, s, g, start, end):\n",
    "            return (1-self.tau_I[start:end]) * (1-(self.tau_rho[start:end] + self.tau_Ins[start:end])/(1+self.tau_rho[start:end] + self.tau_Ins[start:end])) * self.epsilon[s,g,start:end] * self.w[start:end]\n",
    "        def cumulative_rate_of_return(self,start, end):\n",
    "            if start <= end:\n",
    "                return np.prod(1+self.r[start:end]*(1-self.tau_I[start:end]))\n",
    "            else:\n",
    "                return 1\n",
    "\n",
    "        def get_initial_consumption(self, s, g, t_0):\n",
    "            return self.phi * (self.a_initial[s,g] * cumulative_rate_of_return(self, t_0, g+1)+\n",
    "                               np.sum(np.array([cumulative_rate_of_return(self,start, g+1) for start in range(t_0+1, g+2)])*\n",
    "                                      (labor_income_vector(self, s, g, t_0, g+1)+self.rho[s,g,t_0:(g+1)]*self.sigma[t_0:(g+1)]\n",
    "                                       )))/\\\n",
    "                   np.sum(\n",
    "                       np.array([cumulative_rate_of_return(self,start, g+1) for start in range(t_0+1, g+2)])*\n",
    "                       (1+self.tau_VA[t_0:(g+1)])*(self.price[t_0:(g+1)])*\n",
    "                       (\n",
    "                               np.array([cumulative_rate_of_return(self,t_0+1, end) for end in range(t_0+1, g+2)])*\n",
    "                               self.beta**np.array([i-t_0 for i in range(t_0, g+1)])*self.Pi[s,g,t_0:(g+1)]/self.Pi[s,g,t_0] * (1+self.tau_VA[t_0])*(self.price[t_0])/((1+self.tau_VA[t_0:(g+1)])*(self.price[t_0:(g+1)])) *\n",
    "                               ((1+self.tau_VA[t_0:(g+1)])*(self.price[t_0:(g+1)])/((1+self.tau_VA[t_0])*self.price[t_0])*labor_income_vector(self, s, g,t_0, t_0+1)/labor_income_vector(self, s, g,t_0, g+1)\n",
    "                                )**((1-self.phi)*(1-self.theta)))**(1/self.theta)\n",
    "                   )\n",
    "        t_0 = max(g-self.G+1,0)\n",
    "        bequest = 0\n",
    "        if t==t_0:\n",
    "            consumption = get_initial_consumption(self, s, g, t_0)\n",
    "        elif t_0 < t <= g:\n",
    "            consumption = self.c[s, g, t_0]*\\\n",
    "                          (cumulative_rate_of_return(self, t_0+1, t+1)*\n",
    "                           self.beta**(t-t_0)*self.Pi[s,g,t]/self.Pi[s,g,t_0] * (1+self.tau_VA[t_0])*self.price[t_0]/((1+self.tau_VA[t])*self.price[t]) *\n",
    "                           ((1+self.tau_VA[t])*self.price[t]/((1+self.tau_VA[t_0])*self.price[t_0])*labor_income_vector(self, s, g,t_0, t_0+1)/labor_income_vector(self, s, g,t, t+1))**((1-self.phi)*(1-self.theta))\n",
    "                           )**(1/self.theta)\n",
    "\n",
    "\n",
    "        labor = 1- consumption/(self.phi/(1-self.phi)*(1/((1+self.tau_VA[t])*self.price[t]))*labor_income_vector(self, s, g, t, t+1)[0])\n",
    "        if t == 0:\n",
    "            assets = labor_income_vector(self, s, g, t, t+1)[0]*labor+self.rho[s,g,t]*self.sigma[t] - consumption*(1+self.tau_VA[t])*self.price[t]+self.a_initial[s,g]*(1+self.r[t]*(1-self.tau_I[t]))\n",
    "        else:\n",
    "            assets = labor_income_vector(self, s, g, t, t+1)[0]*labor+self.rho[s,g,t]*self.sigma[t] - consumption*(1+self.tau_VA[t])*self.price[t]+(self.a[s,g, t-1]+bequest)*(1+self.r[t]*(1-self.tau_I[t]))\n",
    "        return consumption, labor, assets\n",
    "\n",
    "    @counted\n",
    "    def steady_state(self):\n",
    "        def labor_income_vector(self, s, g, start, end):\n",
    "            return (1-self.tau_I[start:end]) * (1-(self.tau_rho[start:end] + self.tau_Ins[start:end])/(1+self.tau_rho[start:end] + self.tau_Ins[start:end])) * self.epsilon[s,g,start:end] * self.w[start:end]\n",
    "        A_growth = self.A[0,self.T]/self.A[0, self.T-1]\n",
    "        N_growth = np.sum([self.N[s,g,self.T]*self.epsilon[s,g,self.T] for g in range(self.T, self.G+self.T) for s in range(2)])/\\\n",
    "                   np.sum([self.N[s,g,self.T-1]*self.epsilon[s,g,self.T-1] for g in range(self.T-1, self.G+self.T-1) for s in range(2)])\n",
    "\n",
    "        w_steady, price_steady, price_N_steady = self.steady[7:10]\n",
    "\n",
    "        for t in range(self.T-self.G + 1, max_time):\n",
    "            self.w[t] = w_steady* A_growth**(t - self.T)\n",
    "            self.price[t] = price_steady\n",
    "            self.price_N[t] = price_N_steady\n",
    "\n",
    "        for s in range(2):\n",
    "            initial_household = self.household(s, self.G+self.T-1, self.T) # первое родившееся поколение в период self.T\n",
    "            self.c[s, self.G+self.T-1, self.T],self.l[s, self.G+self.T-1,self.T],self.a[s, self.G+self.T-1,self.T] = initial_household\n",
    "            for t in range(self.T,self.G+self.T):\n",
    "                self.c[s, self.G+self.T-1, t],self.l[s, self.G+self.T-1,t],self.a[s, self.G+self.T-1,t] = self.household(s, self.G+self.T-1, t)\n",
    "            for g in range(self.G+self.T-2, self.T-1, -1): # все поколения, живущие в периоде self.T\n",
    "\n",
    "                self.c[s, g, g-self.G + 1]  = initial_household[0] * A_growth**(self.G+self.T-1 - g)\n",
    "                self.l[s, g, g-self.G + 1]  = initial_household[1]\n",
    "                self.a[s, g,g-self.G + 1]  = labor_income_vector(self, s, g,g-self.G + 1, g-self.G + 2)[0]*self.l[s, g, g-self.G + 1]+self.rho[s,g,g-self.G + 1]*self.sigma[g-self.G + 1] - self.c[s, g, g-self.G + 1]*(1+self.tau_VA[g-self.G + 1])*self.price[g-self.G + 1]\n",
    "                for t in range(g-self.G + 2, g+1):\n",
    "                    self.c[s, g, t],self.l[s, g, t],self.a[s, g, t] =  self.household(s, g, t)\n",
    "        Consumption = np.sum([self.c[s,g,self.T]*self.N[s,g,self.T] for g in range(self.T, self.G+self.T) for s in range(2)])\n",
    "\n",
    "        Labor = np.sum([self.l[s,g,self.T]*self.N[s,g,self.T]*self.epsilon[s,g,self.T] for g in range(self.T, self.G+self.T) for s in range(2)])\n",
    "\n",
    "        Assets =  np.sum([self.a[s,g,self.T]*self.N[s,g,self.T] for g in range(self.T, self.G+self.T) for s in range(2)])\n",
    "\n",
    "        self.steady[10:13] = np.array([Consumption,  Labor, Assets])# + (1-eta)*self.steady[10:13]\n",
    "\n",
    "\n",
    "        z_guess = self.steady[:10]\n",
    "        \n",
    "        def equilibrium(z, self=self, objective = True):\n",
    "\n",
    "            A_growth = self.A[0,self.T]/self.A[0, self.T-1]\n",
    "            N_growth = np.sum([self.N[s,g,self.T]*self.epsilon[s,g,self.T] for g in range(self.T, self.G+self.T) for s in range(2)])/\\\n",
    "                       np.sum([self.N[s,g,self.T-1]*self.epsilon[s,g,self.T-1] for g in range(self.T-1, self.G+self.T-1) for s in range(2)])\n",
    "\n",
    "\n",
    "            system = [f\"{1-self.alpha}*price_N_steady * (K_N_steady)**{self.alpha} *{(self.A[0,self.T])**(1-self.alpha)}*  (L_N_steady)**({-self.alpha}) - w_steady\",\n",
    "                      f\"price_steady - lmbda_steady *(1 - {self.psi/2} * ({A_growth*N_growth} -1)**2 - {self.psi}*{A_growth*N_growth} * ({A_growth*N_growth -1}))-{self.psi/(1+self.r[self.T+1])}*lmbda_steady  * ({A_growth*N_growth} -1)* ({A_growth*N_growth})**2\",\n",
    "                      f\"{1/(1+self.r[self.T+1])}*(({1-self.tau_pi[self.T+1]}) *{self.alpha}*price_N_steady* (K_N_steady)**{self.alpha-1} * ({self.A[0,self.T]} *L_N_steady)**{1-self.alpha}+{self.tau_pi[self.T+1]} * {self.delta} * price_steady + lmbda_steady * ({1-self.delta})) - lmbda_steady\",\n",
    "                      f\"({1-self.delta})* K_N_steady + I_N_steady*(1-{self.psi/2}*({A_growth*N_growth} -1)**2) - K_N_steady*{A_growth*N_growth}\",\n",
    "                      f\"{1-self.alpha}*{self.price_E[self.T]} * (K_E_steady)**{self.alpha} *{(self.A[0,self.T])**(1-self.alpha)}*  (L_E_steady)**({-self.alpha}) - w_steady\",\n",
    "                      f\"{1/(1+self.r[self.T+1])}*(({1-self.tau_pi[self.T+1]}) *{self.alpha}* {self.price_E[self.T+1]}* (K_E_steady)**{self.alpha-1} * ({self.A[1,self.T]} *L_E_steady)**{1-self.alpha}+{self.tau_pi[self.T+1]} * {self.delta} * price_steady + lmbda_steady * ({1-self.delta})) - lmbda_steady\",\n",
    "                      f\"({1-self.delta})* K_E_steady + I_E_steady*(1-{self.psi/2}*({A_growth*N_growth} -1)**2) - K_E_steady*{A_growth*N_growth}\",\n",
    "                      f\"L_N_steady+L_E_steady - {self.steady[11]}\",\n",
    "                      f\"K_N_steady**{self.alpha} * ({self.A[0, self.T]}*L_N_steady)**({1-self.alpha}) -{self.Gov[self.T]}- (1-{self.omega}) * price_steady/price_N_steady * ({self.steady[10]}+I_N_steady+I_E_steady)\",\n",
    "#                       f\"price_steady - {self.price_M[self.T]**self.omega}*price_N_steady**({1-self.omega})\"\n",
    "                      ]\n",
    "            name_space = {label:value for label, value in zip((\"self\",\"I_N_steady\", \"K_N_steady\", \"L_N_steady\", \"I_E_steady\", \"K_E_steady\", \"L_E_steady\",\"lmbda_steady\", \"w_steady\", \"price_steady\", \"price_N_steady\"),[self]+list(z))}\n",
    "\n",
    "            if objective:\n",
    "                sum_of_squares = \"+\".join([f\"({equation})**2\" for equation in system])\n",
    "                F = eval(sum_of_squares,{},name_space)\n",
    "            else:\n",
    "                F = [eval(equation,{},name_space) for equation in system]\n",
    "            return F\n",
    "        def equilibrium_gradient(z, self=self, objective = True):\n",
    "\n",
    "            A_growth = self.A[0,self.T]/self.A[0, self.T-1]\n",
    "            N_growth = np.sum([self.N[s,g,self.T]*self.epsilon[s,g,self.T] for g in range(self.T, self.G+self.T) for s in range(2)])/\\\n",
    "                       np.sum([self.N[s,g,self.T-1]*self.epsilon[s,g,self.T-1] for g in range(self.T-1, self.G+self.T-1) for s in range(2)])\n",
    "\n",
    "            gradient = [\n",
    "                # \"I_N_steady\"\n",
    "                [\"0\",\n",
    "                         \"0\",\n",
    "                         \"0\",\n",
    "                         f\"(1-{self.psi/2}*({A_growth*N_growth} -1)**2)\",\n",
    "                         \"0\",\n",
    "                         \"0\",\n",
    "                         \"0\",\n",
    "                         \"0\",\n",
    "                         f\"({1-self.omega}) * price_steady/price_N_steady\"\n",
    "#                          ,\"0\"\n",
    "                ],\n",
    "                        # \"K_N_steady\"\n",
    "                        [f\"{1-self.alpha}*{self.alpha}*price_N_steady * K_N_steady**{self.alpha-1} *{(self.A[0,self.T])**(1-self.alpha)}* L_N_steady**{-self.alpha}\",\n",
    "                         \"0\",\n",
    "                         f\"{1/(1+self.r[self.T+1])}*({1-self.tau_pi[self.T+1]} *{self.alpha}*{self.alpha-1}* price_N_steady* (K_N_steady)**{self.alpha-2} * ({self.A[0,self.T]} *L_N_steady)**{1-self.alpha})\",\n",
    "                         f\"{1-self.delta} - {A_growth*N_growth}\",\n",
    "                         \"0\",\n",
    "                         \"0\",\n",
    "                         \"0\",\n",
    "                         \"0\",\n",
    "                         f\"{self.alpha}*K_N_steady**{self.alpha-1} * ({self.A[0, self.T]}*L_N_steady)**{1-self.alpha}\"\n",
    "#                          ,\"0\"\n",
    "                        ],\n",
    "                        # \"L_N_steady\"\n",
    "                        [\n",
    "                            f\"price_N_steady *{1-self.alpha} * (K_N_steady)**{self.alpha} *{(self.A[0,self.T])**(1-self.alpha)}*{-self.alpha} *(L_N_steady)**{-self.alpha-1}\",\n",
    "                            \"0\",\n",
    "                            f\"\"\"{1/(1+self.r[self.T+1])}*{1-self.tau_pi[self.T+1]} *{self.alpha}* price_N_steady*(K_N_steady)**{self.alpha-1} *({self.A[0,self.T]})**{1-self.alpha} *{1-self.alpha}*L_N_steady**{-self.alpha}\"\"\",\n",
    "                            \"0\",\n",
    "                            \"0\",\n",
    "                            \"0\",\n",
    "                            \"0\",\n",
    "                            \"1\",\n",
    "                            f\"K_N_steady**{self.alpha} * ({self.A[0, self.T]})**{1-self.alpha}*{1-self.alpha}*L_N_steady**{-self.alpha}\"\n",
    "#                             ,\"0\"\n",
    "                        ],\n",
    "                        # I_E_steady\n",
    "                        [\"0\",\n",
    "                         \"0\",\n",
    "                         \"0\",\n",
    "                         \"0\",\n",
    "                         \"0\",\n",
    "                         \"0\",\n",
    "                         f\"(1-{self.psi/2}*({A_growth*N_growth} -1)**2)\",\n",
    "                         \"0\",\n",
    "                         f\"({1-self.omega}) * price_steady/price_N_steady\"\n",
    "#                          ,\"0\"\n",
    "                        ],\n",
    "                        # K_E_steady\n",
    "                        [\"0\",\n",
    "                         \"0\",\n",
    "                         \"0\",\n",
    "                         \"0\",\n",
    "                         f\"{1-self.alpha}*{self.alpha}*{self.price_E[self.T]} * K_E_steady**{self.alpha-1} *{(self.A[1,self.T])**(1-self.alpha)}* L_E_steady**{-self.alpha}\",\n",
    "                         f\"{1/(1+self.r[self.T+1])}*({1-self.tau_pi[self.T+1]} *{self.alpha}*{self.alpha-1}* {self.price_E[self.T]}* (K_E_steady)**{self.alpha-2} * ({self.A[1,self.T]} *L_E_steady)**{1-self.alpha})\",\n",
    "                         f\"{1-self.delta} - {A_growth*N_growth}\",\n",
    "                         \"0\",\n",
    "                         \"0\"\n",
    "#                          ,\"0\"\n",
    "                        ],\n",
    "                        # L_E_steady\n",
    "                        [\"0\",\n",
    "                         \"0\",\n",
    "                         \"0\",\n",
    "                         \"0\",\n",
    "                        f\"{self.price_E[self.T]} *{1-self.alpha} * (K_E_steady)**{self.alpha} *{(self.A[1,self.T])**(1-self.alpha)}*{-self.alpha} *(L_E_steady)**{-self.alpha-1}\",\n",
    "                        f\"\"\"{1/(1+self.r[self.T+1])}*{1-self.tau_pi[self.T+1]} *{self.alpha}* {self.price_E[self.T]}*(K_E_steady)**{self.alpha-1} *({self.A[1,self.T]})**{1-self.alpha} *{1-self.alpha}*L_E_steady**{-self.alpha}\"\"\",\n",
    "                        \"0\",\n",
    "                        \"1\",\n",
    "                        \"0\"\n",
    "#                         ,\"0\"\n",
    "                        ],\n",
    "                        # lmbda_steady\n",
    "                        [\"0\",\n",
    "                         f\"-(1 - {self.psi/2} * ({A_growth*N_growth} -1)**2 - {self.psi}*{A_growth*N_growth} * ({A_growth*N_growth} -1))-{self.psi/(1+self.r[self.T+1])}* ({A_growth*N_growth} -1)* {A_growth*N_growth}**2\",\n",
    "                         f\"{1/(1+self.r[self.T+1])}*{1-self.delta} - 1\",\n",
    "                         \"0\",\n",
    "                         \"0\",\n",
    "                         f\"{1/(1+self.r[self.T+1])}*{1-self.delta} - 1\",\n",
    "                         \"0\",\n",
    "                         \"0\",\n",
    "                         \"0\"\n",
    "#                          ,\"0\"\n",
    "                        ],\n",
    "                        # w_steady\n",
    "                        [\"-1\",\n",
    "                         \"0\",\n",
    "                         \"0\",\n",
    "                         \"0\",\n",
    "                         \"-1\",\n",
    "                         \"0\",\n",
    "                         \"0\",\n",
    "                         \"0\",\n",
    "                         \"0\"\n",
    "#                          ,\"0\"\n",
    "                        ],\n",
    "                        # price_steady\n",
    "                        [\"0\",\n",
    "                         \"1\",\n",
    "                         f\"{1/(1+self.r[self.T+1])}*{self.tau_pi[self.T+1]} * {self.delta}\",\n",
    "                         \"0\",\n",
    "                         \"0\",\n",
    "                         f\"{1/(1+self.r[self.T+1])}*{self.tau_pi[self.T+1]} * {self.delta}\",\n",
    "                         \"0\",\n",
    "                         \"0\",\n",
    "                         f\"-(1-{self.omega}) /price_N_steady * ({self.steady[10]}+I_N_steady+I_E_steady)\"\n",
    "#                          ,\"1\"\n",
    "                         ],\n",
    "                        # price_N_steady\n",
    "                        [f\"{1-self.alpha}*(K_N_steady)**{self.alpha} *{(self.A[0,self.T])**(1-self.alpha)}*  (L_N_steady)**({-self.alpha})\",\n",
    "                         \"0\",\n",
    "                         f\"{1/(1+self.r[self.T+1])}*({1-self.tau_pi[self.T+1]}) *{self.alpha}* (K_N_steady)**{self.alpha-1} * ({self.A[0,self.T]} *L_N_steady)**{1-self.alpha}\",\n",
    "                         \"0\",\n",
    "                         \"0\",\n",
    "                         \"0\",\n",
    "                         \"0\",\n",
    "                         \"0\",\n",
    "                         f\"{1-self.omega}*price_steady/price_N_steady**2 * ({self.steady[10]}+I_N_steady+I_E_steady)\"\n",
    "#                          ,f\"- {self.price_M[self.T]**self.omega}*{1-self.omega}*price_N_steady**({-self.omega})\"\n",
    "                         ]]\n",
    "            name_space = {label:value for label, value in zip((\"self\",\"I_N_steady\", \"K_N_steady\", \"L_N_steady\",\"I_E_steady\", \"K_E_steady\", \"L_E_steady\", \"lmbda_steady\", \"w_steady\", \"price_steady\", \"price_N_steady\"),[self]+list(z))}\n",
    "            if objective:\n",
    "                target_system = equilibrium(z, self, False)\n",
    "                sum_of_gradient = [\"+\".join([f\"2*({outer})*({inner})\" for outer, inner in zip(target_system, row)]) for row in gradient]\n",
    "                J = [eval(equation,{},name_space) for equation in sum_of_gradient]\n",
    "            else:\n",
    "                J = [[eval(equation,{},name_space) for equation in row] for row in gradient]\n",
    "            return J\n",
    "            \n",
    "#         obj_jit = jit(equilibrium)\n",
    "#         obj_grad = equilibrium_gradient\n",
    "#         obj_hess = jit(jacrev(jacfwd(obj_jit)))\n",
    "        def eq_constraints(z, self=self, objective = True):\n",
    "\n",
    "            A_growth = self.A[0,self.T]/self.A[0, self.T-1]\n",
    "            N_growth = np.sum([self.N[s,g,self.T]*self.epsilon[s,g,self.T] for g in range(self.T, self.G+self.T) for s in range(2)])/\\\n",
    "                       np.sum([self.N[s,g,self.T-1]*self.epsilon[s,g,self.T-1] for g in range(self.T-1, self.G+self.T-1) for s in range(2)])\n",
    "\n",
    "\n",
    "            system = [\n",
    "                      f\"price_steady - {self.price_M[self.T]**self.omega}*price_N_steady**({1-self.omega})\"\n",
    "                      ]\n",
    "            name_space = {label:value for label, value in zip((\"self\",\"I_N_steady\", \"K_N_steady\", \"L_N_steady\", \"I_E_steady\", \"K_E_steady\", \"L_E_steady\",\"lmbda_steady\", \"w_steady\", \"price_steady\", \"price_N_steady\"),[self]+list(z))}\n",
    "\n",
    "            if objective:\n",
    "                sum_of_squares = \"+\".join([f\"({equation})**2\" for equation in system])\n",
    "                F = eval(sum_of_squares,{},name_space)\n",
    "            else:\n",
    "                F = [eval(equation,{},name_space) for equation in system]\n",
    "            return F\n",
    "        \n",
    "        obj_jit = jit(equilibrium)\n",
    "        con_eq_jit = jit(eq_constraints)\n",
    "\n",
    "        # build the derivatives and jit them\n",
    "        obj_grad = equilibrium_gradient  # objective gradient\n",
    "        obj_hess = jit(jacrev(jacfwd(obj_jit)))# objective hessian\n",
    "        con_eq_jac = jit(jacfwd(con_eq_jit))  # jacobian\n",
    "        con_eq_hess = jacrev(jacfwd(con_eq_jit)) # hessian\n",
    "        con_eq_hessvp = jit(lambda x, v: con_eq_hess(x) * v[0]) # hessian vector-product\n",
    "        cons = [\n",
    "            {'type': 'eq', 'fun': con_eq_jit, 'jac': con_eq_jac, 'hess': con_eq_hessvp}\n",
    "         ]\n",
    "        \n",
    "        result = minimize_ipopt(obj_jit, jac=obj_grad, hess=obj_hess, x0=z_guess\n",
    "                                , options = {\"max_iter\":self.steady_max_iter, \"print_level\":0,\n",
    "                                             \"check_derivatives_for_naninf\":\"yes\"}\n",
    "                                , tol=1e-7)\n",
    "\n",
    "        if result[\"success\"]:\n",
    "            self.steady[:10] = self.eta*result[\"x\"] + (1-self.eta)*z_guess\n",
    "            self.steady_max_iter = 1000\n",
    "        else:\n",
    "            if result[\"status\"]==-1:\n",
    "                self.steady_max_iter += 1000\n",
    "            self.steady[:10] = z_guess\n",
    "            eq_res = equilibrium(z_guess, self, False)\n",
    "            # labor market\n",
    "            if eq_res[7] < -10:\n",
    "                self.steady[7] = 0.8*z_guess[7]\n",
    "            elif eq_res[7] > 10:\n",
    "                self.steady[7] = 1.25*z_guess[7]\n",
    "            # goods market\n",
    "            if eq_res[8] < -10:\n",
    "                self.steady[8] = 1.25*z_guess[8]\n",
    "            elif eq_res[8] > 10:\n",
    "                elf.steady[8] = 0.8*z_guess[8]\n",
    "                \n",
    "        self.steady_path.append((result, np.array(self.steady)))\n",
    "\n",
    "    def create_guess(self):\n",
    "\n",
    "        A_growth = self.A[0,self.T]/self.A[0, self.T-1]\n",
    "        N_growth = np.sum([self.N[s,g,self.T]*self.epsilon[s,g,self.T] for g in range(self.T, self.G+self.T) for s in range(2)])/\\\n",
    "                   np.sum([self.N[s,g,self.T-1]*self.epsilon[s,g,self.T-1] for g in range(self.T-1, self.G+self.T-1) for s in range(2)])\n",
    "\n",
    "        I_N_steady, K_N_steady, L_N_steady,I_E_steady, K_E_steady, L_E_steady, lmbda_steady, w_steady, price_steady, price_N_steady = self.steady[:10]\n",
    "\n",
    "        for t in range(self.T-self.G + 1, max_time):\n",
    "            self.w[t] = w_steady* A_growth**(t - self.T)\n",
    "            self.price[t] = price_steady\n",
    "            self.price_N[t] = price_N_steady\n",
    "\n",
    "            self.I[0,t] = I_N_steady*(A_growth*N_growth)**(t - self.T)\n",
    "            self.K[0,t] = K_N_steady*(A_growth*N_growth)**(t - self.T)\n",
    "            self.L[0,t] = L_N_steady*(N_growth)**(t - self.T)\n",
    "            self.lmbda[0,t] = lmbda_N_steady\n",
    "\n",
    "            self.I[1,t] = I_E_steady*(A_growth*N_growth)**(t - self.T)\n",
    "            self.K[1,t] = K_E_steady*(A_growth*N_growth)**(t - self.T)\n",
    "            self.L[1,t] = L_E_steady*(N_growth)**(t - self.T)\n",
    "            self.lmbda[1,t] = lmbda_E_steady\n",
    "\n",
    "        steady_start = self.T-self.G + 1\n",
    "        self.price_N[:steady_start] = np.linspace(initial[\"price_N\"], self.price_N[steady_start], steady_start,endpoint=False)\n",
    "        self.I[0,:steady_start] = np.linspace(initial[\"I_N\"], self.I[0,steady_start], steady_start,endpoint=False)\n",
    "        self.K[0,:steady_start] = np.linspace(initial[\"K_N\"], self.K[0,steady_start], steady_start,endpoint=False)\n",
    "        self.L[0,:steady_start] = np.linspace(initial[\"L_N\"], self.L[0,steady_start], steady_start,endpoint=False)\n",
    "        # self.lmbda[0,:steady_start] = np.linspace(initial[\"price_N\"], self.lmbda[0,steady_start], steady_start,endpoint=False)\n",
    "\n",
    "        self.I[1,:steady_start] = np.linspace(initial[\"I_E\"], self.I[1,steady_start], steady_start,endpoint=False)\n",
    "        self.K[1,:steady_start] = np.linspace(initial[\"K_E\"], self.K[1,steady_start], steady_start,endpoint=False)\n",
    "        self.L[1,:steady_start] = np.linspace(initial[\"L_E\"], self.L[1,steady_start], steady_start,endpoint=False)\n",
    "        # self.lmbda[1,:steady_start] = np.linspace(initial[\"price_N\"], self.lmbda[1,steady_start], steady_start,endpoint=False)\n",
    "\n",
    "\n",
    "        self.w[:steady_start] = ((self.price_N[:steady_start] *(1-self.alpha)*(self.K[0,:steady_start])**self.alpha *(self.A[0,:steady_start])**(1-self.alpha)*(self.L[0,:steady_start])**(-self.alpha))+\n",
    "              (self.price_E[:steady_start] *(1-self.alpha)*(self.K[1,:steady_start])**self.alpha *(self.A[1,:steady_start])**(1-self.alpha)*(self.L[1,:steady_start])**(-self.alpha)))/2\n",
    "\n",
    "        self.price[:steady_start] = (self.price_M[:steady_start])**self.omega * (self.price_N[:steady_start])**(1-self.omega)\n",
    "\n",
    "    def update_guess(self):\n",
    "\n",
    "        ## Endogenous variables\n",
    "\n",
    "        def labor_demand_euler(params, S,  t):\n",
    "            if S == 1: # export\n",
    "                sectoral_price = params.price_E[t]\n",
    "            elif S==0: # non-export\n",
    "                sectoral_price = f\"self.price_N[{t}]\"\n",
    "            return f\"({1-params.alpha})* {sectoral_price} * ({params.K[S,t]})**{params.alpha} *{(params.A[S,t])**(1-params.alpha)}*  (self.L[{S},{t}])**({-params.alpha}) - self.w[{t}]\"\n",
    "\n",
    "\n",
    "        def investment_euler(params, S, t):\n",
    "            return f\"self.price[{t}] - self.lmbda[{S},{t}] *(1 - {params.psi/2} * (self.I[{S},{t}]/{params.I[S,t-1]} -1)**2 - {params.psi}*self.I[{S},{t}]/{params.I[S,t-1]} * (self.I[{S},{t}]/{params.I[S,t-1]} -1))-{params.psi/(1+params.r[t+1])}*{params.lmbda[S,t+1]}  * ({params.I[S,t+1]}/self.I[{S},{t}] -1)* ({params.I[S,t+1]}/self.I[{S},{t}])**2\"\n",
    "\n",
    "\n",
    "        def capital_euler(params, S, t):\n",
    "            if S == 1: # export\n",
    "                sectoral_price = params.price_E[t+1]\n",
    "            elif S==0: # non-export\n",
    "                sectoral_price = params.price_N[t+1]\n",
    "            return f\"{1/(1+params.r[t+1])}*(({1-params.tau_pi[t+1]}) *{params.alpha}* {sectoral_price}* (self.K[{S},{t+1}])**{params.alpha-1} * ({params.A[S,t+1]} *{params.L[S,t+1]})**{1-params.alpha}+{params.tau_pi[t+1]} * {params.delta} * {params.price[t+1]} + {params.lmbda[S,t+1]} * ({1-params.delta})) - self.lmbda[{S},{t}]\"\n",
    "\n",
    "\n",
    "        def capital_accomodation(params, S, t):\n",
    "            return f\" ({1-params.delta})* {params.K[S,t]} + self.I[{S},{t}]*(1-{params.psi/2}*(self.I[{S},{t}]/{params.I[S,t-1] -1})**2) - self.K[{S},{t+1}]\"\n",
    "\n",
    "        def labor_market_clearing(params, t):\n",
    "            L = np.sum([params.l[s,g,t]*params.N[s,g,t]*params.epsilon[s,g,t] for g in range(t, params.G+t) for s in range(2)])\n",
    "            return f\"self.L[0,{t}]+self.L[1,{t}] - {L}\"\n",
    "\n",
    "        def goods_market_clearing(params, t):\n",
    "            C = np.sum([params.c[s,g,t]*params.N[s,g,t] for g in range(t, params.G+t) for s in range(2)])\n",
    "            return [f\"{params.K[0,t]}**{params.alpha} * ({params.A[0, t]}*self.L[{0},{t}])**(1-{params.alpha}) -{params.Gov[t]}- (1-{params.omega}) * self.price[{t}]/self.price_N[{t}] * ({C}+self.I[0,{t}]+self.I[1,{t}])\",\n",
    "                f\"self.price[{t}] - {params.price_M[t]**params.omega}*self.price_N[{t}]**({1-params.omega})\"]\n",
    "\n",
    "        def labor_derivative(params, S, t):\n",
    "            if S == 1: # export\n",
    "                sectoral_price = params.price_E[t]\n",
    "            elif S==0: # non-export\n",
    "                sectoral_price = f\"self.price_N[{t}]\"\n",
    "            nulls = [\"0\" for _ in range(4)]\n",
    "            # порядок: I[S,t], K[S,t+1], L[S, t], lmbda[S,t]\n",
    "\n",
    "            derivatives = [\"0\", \"0\",\n",
    "                    f\"\"\"{(-params.alpha)*(1-params.alpha)*(params.A[S,t])**(1-params.alpha)}*{sectoral_price}*{params.K[S,t]}**{params.alpha}*self.L[{S},{t}]**{-1-params.alpha}\"\"\", \"0\"]\n",
    "            if S == 1: # export\n",
    "                return nulls+derivatives+[\"-1\"]+[\"0\",\"0\"]\n",
    "            elif S==0: # non-export\n",
    "                return derivatives+nulls+[\"-1\"]+[f\"\"\"{(1-params.alpha)*(params.A[S,t])**(1-params.alpha)}*{sectoral_price}*{params.K[S,t]}**{params.alpha}*self.L[{S},{t}]**{-params.alpha}\"\"\",\"0\"]\n",
    "        def investment_derivative(params, S, t):\n",
    "            nulls = [\"0\" for _ in range(4)]\n",
    "\n",
    "            derivatives= [\n",
    "                f\"- self.lmbda[{S},{t}] *(1 - {params.psi}/{params.I[S,t-1]} * (self.I[{S},{t}]/{params.I[S,t-1]} -1)**2 - {params.psi}/{params.I[S,t-1]} * (self.I[{S},{t}]/{params.I[S,t-1]} -1)- {params.psi}*self.I[{S},{t}]/{params.I[S,t-1]**2})-{params.psi/(1+params.r[t+1])}*{params.lmbda[S,t+1]}  * ({params.I[S,t+1]}**2 * (-2)/self.I[{S},{t}]**3 * ({params.I[S,t+1]}/self.I[{S},{t}] -1)+self.I[{S},{t}]*(-1)/self.I[{S},{t}]**2 * ({params.I[S,t+1]}/self.I[{S},{t}])**2)\",\n",
    "                    \"0\",\n",
    "                    \"0\",\n",
    "                    f\"-  (1 - {params.psi/2} * (self.I[{S},{t}]/{params.I[S,t-1]} -1)**2 - {params.psi}*self.I[{S},{t}]/{params.I[S,t-1]} * (self.I[{S},{t}]/{params.I[S,t-1]} -1))\"\n",
    "                    ]\n",
    "            if S == 1: # export\n",
    "                return nulls+derivatives+[\"0\",\"0\",\"1\"]\n",
    "            elif S==0: # non-export\n",
    "                return derivatives+nulls+[\"0\",\"0\",\"1\"]\n",
    "\n",
    "\n",
    "        def capital_derivative(params, S, t):\n",
    "            if S == 1: # export\n",
    "                sectoral_price = params.price_E[t+1]\n",
    "            elif S==0: # non-export\n",
    "                sectoral_price = params.price_N[t+1]\n",
    "            nulls = [\"0\" for _ in range(4)]\n",
    "\n",
    "            derivatives = [\"0\",f\"\"\"1/({1+params.r[t+1]}) * {(1-params.tau_pi[t+1])*params.alpha*(params.alpha-1)}*{sectoral_price} * {(params.A[S,t+1])**(1-params.alpha)} * (self.K[{S},{t+1}])**{params.alpha-2} * ({params.L[S,t+1]})**({1-params.alpha})\"\"\" ,\"0\", \"-1\"]\n",
    "            if S == 1: # export\n",
    "                return nulls+derivatives+[\"0\",\"0\",\"0\"]\n",
    "            elif S==0: # non-export\n",
    "                return derivatives+nulls+[\"0\",\"0\",\"0\"]\n",
    "\n",
    "        def capital_accommodation_derivative(params, S, t):\n",
    "\n",
    "            nulls = [\"0\" for _ in range(4)]\n",
    "            derivatives = [f\"\"\"((1-{params.psi/2}*(self.I[{S},{t}]/{params.I[S,t-1]} - 1))**2-self.I[{S},{t}] * ({-params.psi}/{params.I[S,t-1]} * (self.I[{S},{t}]/{params.I[S,t-1]} - 1)))\"\"\",\"-1\",\"0\",\"0\"]\n",
    "            if S == 1: # export\n",
    "                return nulls+derivatives+[\"0\",\"0\",\"0\"]\n",
    "            elif S==0: # non-export\n",
    "                return derivatives+nulls+[\"0\",\"0\",\"0\"]\n",
    "\n",
    "\n",
    "        def labor_market_clearing_derivative():\n",
    "            return [\"0\",\"0\",\"1\",\"0\",\"0\",\"0\",\"1\",\"0\",\"0\",\"0\",\"0\"]\n",
    "\n",
    "        def goods_market_clearing_derivative(params, t):\n",
    "            C = np.sum([params.c[s,g,t]*params.N[s,g,t] for g in range(t, params.G+t) for s in range(2)])\n",
    "            return [f\"- (1-{params.omega}) * self.price[{t}]/self.price_N[{t}]\",\n",
    "                   \"0\",\n",
    "                   f\"({1-params.alpha})*self.K[{0},{t}]**{params.alpha} * {params.A[0, t]}**{1-params.alpha} *self.L[{0},{t}]**(-{params.alpha})\",\n",
    "                   \"0\",\n",
    "                   f\"- (1-{params.omega}) * self.price[{t}]/self.price_N[{t}]\",\n",
    "                   \"0\",\n",
    "                   \"0\",\n",
    "                   \"0\",\n",
    "                   \"0\",\n",
    "                   f\"-(1-{params.omega})*(-1) * self.price[{t}]/self.price_N[{t}]**2 * ({C}+self.I[0,{t}]+self.I[1,{t}])\",\n",
    "                   f\"-(1-{params.omega}) /self.price_N[{t}] * ({C}+self.I[0,{t}]+self.I[1,{t}])\"\n",
    "                   ]\n",
    "        def price_derivative(params,t):\n",
    "            return [\"0\",\n",
    "                   \"0\",\n",
    "                   \"0\",\n",
    "                   \"0\",\n",
    "                   \"0\",\n",
    "                   \"0\",\n",
    "                   \"0\",\n",
    "                   \"0\",\n",
    "                   \"0\",\n",
    "                   f\" -({1-params.omega})* {params.price_M[t]**params.omega}*self.price_N[{t}]**({-params.omega})\",\n",
    "                    \"1\"]\n",
    "\n",
    "        def production_jacobian(z,self, t):\n",
    "            self.I[:,t] = z[0],z[4]\n",
    "            self.K[:,t+1] = z[1],z[5]\n",
    "            self.L[:,t] = z[2],z[6]\n",
    "            self.lmbda[:,t] = z[3],z[7]\n",
    "            self.w[t] = z[8]\n",
    "            self.price_N[t] = z[9]\n",
    "            self.price[t] = z[10]\n",
    "\n",
    "            system = [[labor_derivative(self, S, t), investment_derivative(self, S, t), capital_derivative(self, S, t), capital_accommodation_derivative(self, S, t)] for S in range(2)]\n",
    "            system = list(itertools.chain(*(system)))+[labor_market_clearing_derivative(),goods_market_clearing_derivative(self, t), price_derivative(self,t)]\n",
    "            system = list(np.array(system).transpose())\n",
    "            sum_of_squares = [\"+\".join([f\"2*({equation})\" for equation in column]) for column in system]\n",
    "            # J = [[eval(equation,{},{\"self\":self}) for equation in row] for row in system]\n",
    "            J = [eval(equation,{},{\"self\":self}) for equation in sum_of_squares]\n",
    "            return J\n",
    "\n",
    "\n",
    "\n",
    "        def production(z,self, t):\n",
    "            self.I[:,t] = z[0],z[4]\n",
    "            self.K[:,t+1] = z[1],z[5]\n",
    "            self.L[:,t] = z[2],z[6]\n",
    "            self.lmbda[:,t] = z[3],z[7]\n",
    "            self.w[t] = z[8]\n",
    "            self.price_N[t] = z[9]\n",
    "            self.price[t] = z[10]\n",
    "\n",
    "            production_system = [[labor_demand_euler(self, S, t),\n",
    "                          investment_euler(self, S, t),\n",
    "                          capital_euler(self,S,t),\n",
    "                          capital_accomodation(self,S,t)] for S in range(2)]\n",
    "\n",
    "            labor_market = labor_market_clearing(self, t)\n",
    "            goods_market = goods_market_clearing(self, t)\n",
    "\n",
    "            system = list(itertools.chain(*(production_system)))+[labor_market] + goods_market\n",
    "            sum_of_squares = \"+\".join([f\"({equation})**2\" for equation in system])\n",
    "            # F = [eval(equation,{},{\"self\":self}) for equation in system]\n",
    "            F = eval(sum_of_squares,{},{\"self\":self})\n",
    "            return F\n",
    "        # def production(z,self, t, S):\n",
    "        #     self.I[S,t],self.K[S,t+1],self.L[S,t],self.lmbda[S,t] = z\n",
    "        #\n",
    "        #     system = [labor_demand_euler(self, S, t)]+[investment_euler(self, S, t)]+[capital_euler(self,S,t)]+[capital_accomodation(self,S,t)]\n",
    "        #     F = [eval(equation,{},{\"self\":self}) for equation in system]\n",
    "        #     return F\n",
    "\n",
    "        # def market_clearing(z, self, t):\n",
    "        #     self.w[t], self.price_N[t], self.price[t] = z\n",
    "        #     system = [labor_market_clearing(self,t)]+goods_market_clearing(self, t)\n",
    "        #     F = [eval(equation,{},{\"self\":self}) for equation in system]\n",
    "        #     return F\n",
    "\n",
    "\n",
    "\n",
    "        # Households (analytical solution)\n",
    "        for s in range(2):\n",
    "            for t in range(self.T):\n",
    "                for g in range(t, self.G+t):\n",
    "                    self.c[s, g, t],self.l[s, g, t],self.a[s, g, t]  = self.household(s,g,t)\n",
    "        for t in range(self.T):\n",
    "            z_guess = [self.I[0,t],self.K[0,t+1],self.L[0,t],self.lmbda[0,t], self.I[1,t],self.K[1,t+1],self.L[1,t],self.lmbda[1,t],self.w[t], self.price_N[t], self.price[t]]\n",
    "            # z = fsolve(production,z_guess, fprime=production_jacobian,maxfev=500,\n",
    "            #        args = (self, t))\n",
    "\n",
    "            # result = minimize_ipopt(production, z_guess, args = (self, t))#,jac = production_jacobian)\n",
    "            z = result[\"x\"]\n",
    "            # z = np.array(z_guess) * (1-self.eta) + np.array(z_update) * (self.eta)\n",
    "            self.I[:,t] = z[0],z[4]\n",
    "            self.K[:,t+1] = z[1],z[5]\n",
    "            self.L[:,t] = z[2],z[6]\n",
    "            self.lmbda[:,t] = z[3],z[7]\n",
    "            self.w[t] = z[8]\n",
    "            self.price_N[t] = z[9]\n",
    "            self.price[t] = z[10]\n",
    "            # Market clearing (analytical solution)\n",
    "            self.Y = self.K**self.alpha * (self.L*self.A)**(1-self.alpha)\n",
    "            self.D = self.I.sum(axis = 0)+(self.N[:,:self.c.shape[1],:]*self.c[:,:self.c.shape[1],:]).sum(axis=0).sum(axis =0)\n",
    "            self.M =  self.omega * self.D * self.price / self.price_M\n"
   ]
  },
  {
   "cell_type": "code",
   "execution_count": 373,
   "metadata": {
    "pycharm": {
     "name": "#%%\n"
    }
   },
   "outputs": [],
   "source": [
    "# import pyreadr\n",
    "# import numpy as np\n",
    "# demography = {name:np.array(pyreadr.read_r(f\"{name}.Rda\")[name]) for name in [\"Pi_female\", \"Pi_female_steady\", \"Pi_male\", \"Pi_male_steady\",\"N_female\", \"N_male\",\"N_female_steady\",\"N_male_steady\"]}\n",
    "# np.save('demography.npy', demography)"
   ]
  },
  {
   "cell_type": "code",
   "execution_count": 374,
   "metadata": {
    "pycharm": {
     "name": "#%%\n"
    }
   },
   "outputs": [],
   "source": [
    "demography = np.load('demography.npy',allow_pickle='TRUE').item()"
   ]
  },
  {
   "cell_type": "code",
   "execution_count": 375,
   "metadata": {
    "pycharm": {
     "name": "#%%\n"
    }
   },
   "outputs": [],
   "source": [
    "epsilon_female =epsilon_male= np.array([[-0.0003*(96-g+t)**2+25*2*0.0003*(96-g+t)+2 if ((96-g+t) > 0 and (96-g+t)<=96) else 0  for g in range(demography[\"N_female\"].shape[1]) ] for t in range(demography[\"N_female\"].shape[0])])"
   ]
  },
  {
   "cell_type": "code",
   "execution_count": 376,
   "metadata": {
    "pycharm": {
     "name": "#%%\n"
    }
   },
   "outputs": [],
   "source": [
    "rho_female = np.array([[1 if ((96-g+t) >= 46 and (96-g+t)<=96) else 0  for g in range(demography[\"N_female\"].shape[1]) ] for t in range(demography[\"N_female\"].shape[0])])\n",
    "rho_male = np.array([[1 if ((96-g+t) >= 51 and (96-g+t)<=96) else 0  for g in range(demography[\"N_female\"].shape[1]) ] for t in range(demography[\"N_female\"].shape[0])])\n",
    "\n",
    "max_time = demography[\"N_female\"].shape[0]\n",
    "sigma = np.array([0.05 for _ in range(max_time)])\n",
    "r = np.array([0.03 for _ in range(max_time)])\n",
    "price_M = np.array([.0001 for _ in range(max_time)])\n",
    "price_E = np.array([.0001 for _ in range(max_time)])\n",
    "tau_I = np.array([0.13 for _ in range(max_time)])\n",
    "tau_Ins = np.array([0.08 for _ in range(max_time)])\n",
    "tau_pi = np.array([0.2 for _ in range(max_time)])\n",
    "tau_VA = np.array([0.18 for _ in range(max_time)])\n",
    "tau_rho = np.array([0.22 for _ in range(max_time)])\n",
    "A_N = np.array([1. for _ in range(max_time)])\n",
    "A_E = np.array([1. for _ in range(max_time)])"
   ]
  },
  {
   "cell_type": "code",
   "execution_count": 377,
   "metadata": {
    "pycharm": {
     "name": "#%%\n"
    }
   },
   "outputs": [],
   "source": [
    "demography[\"N_female\"]=demography[\"N_male\"]\n",
    "N = np.array([demography[\"N_female\"].transpose(),demography[\"N_male\"].transpose()])\n",
    "Pi = np.array([(demography[f\"N_{sex}male\"]/np.max(demography[\"N_female\"], axis=0)+(1-np.tri(*demography[f\"N_{sex}male\"].shape, k=95))).transpose() for sex in (\"fe\", \"\")])\n",
    "Pi[Pi<0] = 0.01\n",
    "epsilon = np.array([epsilon_female.transpose(), epsilon_male.transpose()])\n",
    "rho = np.array([rho_female.transpose(), rho_male.transpose()])\n",
    "A = np.array([A_N, A_E])\n",
    "# a_initial = np.array([[-(96-g)/10 if g < 96 else 0 for g in range(demography[\"N_female\"].shape[1])] for s in range(2)])\n",
    "# guess = {\"price_N\":np.array([.00001 for _ in range(max_time)]),\n",
    "#          \"K_N\":np.array([5000. for _ in range(max_time)]),\n",
    "#          \"L_N\":np.array([85000. for _ in range(max_time)]),\n",
    "#          \"K_E\":np.array([5000. for _ in range(max_time)]),\n",
    "#          \"L_E\":np.array([85000. for _ in range(max_time)]),\n",
    "#          \"Gov\":np.array([1. for _ in range(max_time)]),\n",
    "#          \"steady\":np.array([15., 2000.,35000.,1., 15., 2000.,50000.,-0.8,0.06, .00001, .00001])}\n",
    "initial = {\"a\":np.array([[-(96-g)/10 if g < 96 else 0 for g in range(demography[\"N_female\"].shape[1])] for s in range(2)]),\n",
    "                \"price_N\":.00001,\n",
    "                 \"K_N\":5000.,\n",
    "                 \"L_N\":85000.,\n",
    "                 \"I_N\":100.,\n",
    "                 \"K_E\":5000.,\n",
    "                 \"L_E\":85000.,\n",
    "                 \"Gov\":1000.,\n",
    "                 \"I_E\":100.}\n",
    "steady_guess = np.array([15., 2000.,35000., 15., 2000.,50000.,.0001,0.06, .0001, .00001])"
   ]
  },
  {
   "cell_type": "code",
   "execution_count": 378,
   "metadata": {
    "pycharm": {
     "name": "#%%\n"
    }
   },
   "outputs": [],
   "source": [
    "# надо исправить\n",
    "# Beq_female_to_female = Beq_female_to_male = Beq_male_to_female = Beq_male_to_male = np.zeros_like(demography[\"N_female\"])"
   ]
  },
  {
   "cell_type": "code",
   "execution_count": 379,
   "metadata": {
    "pycharm": {
     "name": "#%%\n"
    }
   },
   "outputs": [],
   "source": [
    "olg = OLG_model(G=96,T=250,N=N,epsilon=epsilon, rho=rho, sigma = sigma,Pi=Pi,r = r,price_M =price_M, price_E=price_E, tau_I=tau_I,tau_Ins=tau_Ins, tau_pi=tau_pi, tau_VA=tau_VA, tau_rho=tau_rho, beta = 0.995, phi = 0.8, theta = 0.5, psi = 5, omega=0.4, alpha = 1/3, delta=0.01, A=A,initial=initial, eta =0.1,steady_max_iter=10000, steady_guess=steady_guess)"
   ]
  },
  {
   "cell_type": "code",
   "execution_count": 391,
   "metadata": {
    "pycharm": {
     "name": "#%%\n"
    }
   },
   "outputs": [
    {
     "name": "stdout",
     "output_type": "stream",
     "text": [
      "29129799.8502793\n",
      "3123713.249368528\n",
      "1.5717603351194863e-08\n",
      "1.1948577230567592e-08\n",
      "1101509.1494965462\n",
      "1.444049595257378e-08\n",
      "1.3677347431042044e-08\n",
      "3710865.97669748\n",
      "8.09787540706214e-09\n",
      "1.269965253197166e-08\n",
      "3.009077431012178e-09\n",
      "2370296.693087321\n",
      "16177.204351695354\n",
      "4984656.277497153\n",
      "12374.565974858922\n",
      "1.1565002355748175e-08\n"
     ]
    },
    {
     "ename": "KeyboardInterrupt",
     "evalue": "",
     "output_type": "error",
     "traceback": [
      "\u001b[0;31m---------------------------------------------------------------------------\u001b[0m",
      "\u001b[0;31mKeyboardInterrupt\u001b[0m                         Traceback (most recent call last)",
      "Input \u001b[0;32mIn [391]\u001b[0m, in \u001b[0;36m<cell line: 1>\u001b[0;34m()\u001b[0m\n\u001b[1;32m      2\u001b[0m warnings\u001b[38;5;241m.\u001b[39msimplefilter(\u001b[38;5;124m\"\u001b[39m\u001b[38;5;124mignore\u001b[39m\u001b[38;5;124m\"\u001b[39m)\n\u001b[1;32m      3\u001b[0m \u001b[38;5;28;01mfor\u001b[39;00m _ \u001b[38;5;129;01min\u001b[39;00m \u001b[38;5;28mrange\u001b[39m(\u001b[38;5;241m20\u001b[39m):\n\u001b[0;32m----> 4\u001b[0m     \u001b[43molg\u001b[49m\u001b[38;5;241;43m.\u001b[39;49m\u001b[43msteady_state\u001b[49m\u001b[43m(\u001b[49m\u001b[43m)\u001b[49m\n\u001b[1;32m      5\u001b[0m     \u001b[38;5;28mprint\u001b[39m(olg\u001b[38;5;241m.\u001b[39msteady_path[\u001b[38;5;241m-\u001b[39m\u001b[38;5;241m1\u001b[39m][\u001b[38;5;241m0\u001b[39m][\u001b[38;5;124m\"\u001b[39m\u001b[38;5;124mfun\u001b[39m\u001b[38;5;124m\"\u001b[39m])\n",
      "Input \u001b[0;32mIn [19]\u001b[0m, in \u001b[0;36mcounted.<locals>.wrapped\u001b[0;34m(*args, **kwargs)\u001b[0m\n\u001b[1;32m      2\u001b[0m \u001b[38;5;28;01mdef\u001b[39;00m \u001b[38;5;21mwrapped\u001b[39m(\u001b[38;5;241m*\u001b[39margs, \u001b[38;5;241m*\u001b[39m\u001b[38;5;241m*\u001b[39mkwargs):\n\u001b[1;32m      3\u001b[0m     wrapped\u001b[38;5;241m.\u001b[39mcalls \u001b[38;5;241m+\u001b[39m\u001b[38;5;241m=\u001b[39m \u001b[38;5;241m1\u001b[39m\n\u001b[0;32m----> 4\u001b[0m     \u001b[38;5;28;01mreturn\u001b[39;00m \u001b[43mf\u001b[49m\u001b[43m(\u001b[49m\u001b[38;5;241;43m*\u001b[39;49m\u001b[43margs\u001b[49m\u001b[43m,\u001b[49m\u001b[43m \u001b[49m\u001b[38;5;241;43m*\u001b[39;49m\u001b[38;5;241;43m*\u001b[39;49m\u001b[43mkwargs\u001b[49m\u001b[43m)\u001b[49m\n",
      "Input \u001b[0;32mIn [372]\u001b[0m, in \u001b[0;36mOLG_model.steady_state\u001b[0;34m(self)\u001b[0m\n\u001b[1;32m    377\u001b[0m con_eq_hessvp \u001b[38;5;241m=\u001b[39m jit(\u001b[38;5;28;01mlambda\u001b[39;00m x, v: con_eq_hess(x) \u001b[38;5;241m*\u001b[39m v[\u001b[38;5;241m0\u001b[39m]) \u001b[38;5;66;03m# hessian vector-product\u001b[39;00m\n\u001b[1;32m    378\u001b[0m cons \u001b[38;5;241m=\u001b[39m [\n\u001b[1;32m    379\u001b[0m     {\u001b[38;5;124m'\u001b[39m\u001b[38;5;124mtype\u001b[39m\u001b[38;5;124m'\u001b[39m: \u001b[38;5;124m'\u001b[39m\u001b[38;5;124meq\u001b[39m\u001b[38;5;124m'\u001b[39m, \u001b[38;5;124m'\u001b[39m\u001b[38;5;124mfun\u001b[39m\u001b[38;5;124m'\u001b[39m: con_eq_jit, \u001b[38;5;124m'\u001b[39m\u001b[38;5;124mjac\u001b[39m\u001b[38;5;124m'\u001b[39m: con_eq_jac, \u001b[38;5;124m'\u001b[39m\u001b[38;5;124mhess\u001b[39m\u001b[38;5;124m'\u001b[39m: con_eq_hessvp}\n\u001b[1;32m    380\u001b[0m  ]\n\u001b[0;32m--> 382\u001b[0m result \u001b[38;5;241m=\u001b[39m \u001b[43mminimize_ipopt\u001b[49m\u001b[43m(\u001b[49m\u001b[43mobj_jit\u001b[49m\u001b[43m,\u001b[49m\u001b[43m \u001b[49m\u001b[43mjac\u001b[49m\u001b[38;5;241;43m=\u001b[39;49m\u001b[43mobj_grad\u001b[49m\u001b[43m,\u001b[49m\u001b[43m \u001b[49m\u001b[43mhess\u001b[49m\u001b[38;5;241;43m=\u001b[39;49m\u001b[43mobj_hess\u001b[49m\u001b[43m,\u001b[49m\u001b[43m \u001b[49m\u001b[43mx0\u001b[49m\u001b[38;5;241;43m=\u001b[39;49m\u001b[43mz_guess\u001b[49m\n\u001b[1;32m    383\u001b[0m \u001b[43m                        \u001b[49m\u001b[43m,\u001b[49m\u001b[43m \u001b[49m\u001b[43moptions\u001b[49m\u001b[43m \u001b[49m\u001b[38;5;241;43m=\u001b[39;49m\u001b[43m \u001b[49m\u001b[43m{\u001b[49m\u001b[38;5;124;43m\"\u001b[39;49m\u001b[38;5;124;43mmax_iter\u001b[39;49m\u001b[38;5;124;43m\"\u001b[39;49m\u001b[43m:\u001b[49m\u001b[38;5;28;43mself\u001b[39;49m\u001b[38;5;241;43m.\u001b[39;49m\u001b[43msteady_max_iter\u001b[49m\u001b[43m,\u001b[49m\u001b[43m \u001b[49m\u001b[38;5;124;43m\"\u001b[39;49m\u001b[38;5;124;43mprint_level\u001b[39;49m\u001b[38;5;124;43m\"\u001b[39;49m\u001b[43m:\u001b[49m\u001b[38;5;241;43m0\u001b[39;49m\u001b[43m,\u001b[49m\n\u001b[1;32m    384\u001b[0m \u001b[43m                                     \u001b[49m\u001b[38;5;124;43m\"\u001b[39;49m\u001b[38;5;124;43mcheck_derivatives_for_naninf\u001b[39;49m\u001b[38;5;124;43m\"\u001b[39;49m\u001b[43m:\u001b[49m\u001b[38;5;124;43m\"\u001b[39;49m\u001b[38;5;124;43myes\u001b[39;49m\u001b[38;5;124;43m\"\u001b[39;49m\u001b[43m}\u001b[49m\n\u001b[1;32m    385\u001b[0m \u001b[43m                        \u001b[49m\u001b[43m,\u001b[49m\u001b[43m \u001b[49m\u001b[43mtol\u001b[49m\u001b[38;5;241;43m=\u001b[39;49m\u001b[38;5;241;43m1e-7\u001b[39;49m\u001b[43m)\u001b[49m\n\u001b[1;32m    387\u001b[0m \u001b[38;5;28;01mif\u001b[39;00m result[\u001b[38;5;124m\"\u001b[39m\u001b[38;5;124msuccess\u001b[39m\u001b[38;5;124m\"\u001b[39m]:\n\u001b[1;32m    388\u001b[0m     \u001b[38;5;28mself\u001b[39m\u001b[38;5;241m.\u001b[39msteady[:\u001b[38;5;241m10\u001b[39m] \u001b[38;5;241m=\u001b[39m \u001b[38;5;28mself\u001b[39m\u001b[38;5;241m.\u001b[39meta\u001b[38;5;241m*\u001b[39mresult[\u001b[38;5;124m\"\u001b[39m\u001b[38;5;124mx\u001b[39m\u001b[38;5;124m\"\u001b[39m] \u001b[38;5;241m+\u001b[39m (\u001b[38;5;241m1\u001b[39m\u001b[38;5;241m-\u001b[39m\u001b[38;5;28mself\u001b[39m\u001b[38;5;241m.\u001b[39meta)\u001b[38;5;241m*\u001b[39mz_guess\n",
      "File \u001b[0;32m~/anaconda3/envs/olg/lib/python3.8/site-packages/cyipopt/scipy_interface.py:311\u001b[0m, in \u001b[0;36mminimize_ipopt\u001b[0;34m(fun, x0, args, kwargs, method, jac, hess, hessp, bounds, constraints, tol, callback, options)\u001b[0m\n\u001b[1;32m    308\u001b[0m         msg \u001b[38;5;241m=\u001b[39m \u001b[38;5;124m'\u001b[39m\u001b[38;5;124mInvalid option for IPOPT: \u001b[39m\u001b[38;5;132;01m{0}\u001b[39;00m\u001b[38;5;124m: \u001b[39m\u001b[38;5;132;01m{1}\u001b[39;00m\u001b[38;5;124m (Original message: \u001b[39m\u001b[38;5;124m\"\u001b[39m\u001b[38;5;132;01m{2}\u001b[39;00m\u001b[38;5;124m\"\u001b[39m\u001b[38;5;124m)\u001b[39m\u001b[38;5;124m'\u001b[39m\n\u001b[1;32m    309\u001b[0m         \u001b[38;5;28;01mraise\u001b[39;00m \u001b[38;5;167;01mTypeError\u001b[39;00m(msg\u001b[38;5;241m.\u001b[39mformat(option, value, e))\n\u001b[0;32m--> 311\u001b[0m x, info \u001b[38;5;241m=\u001b[39m \u001b[43mnlp\u001b[49m\u001b[38;5;241;43m.\u001b[39;49m\u001b[43msolve\u001b[49m\u001b[43m(\u001b[49m\u001b[43m_x0\u001b[49m\u001b[43m)\u001b[49m\n\u001b[1;32m    313\u001b[0m \u001b[38;5;28;01mif\u001b[39;00m np\u001b[38;5;241m.\u001b[39masarray(x0)\u001b[38;5;241m.\u001b[39mshape \u001b[38;5;241m==\u001b[39m ():\n\u001b[1;32m    314\u001b[0m     x \u001b[38;5;241m=\u001b[39m x[\u001b[38;5;241m0\u001b[39m]\n",
      "File \u001b[0;32m~/anaconda3/envs/olg/lib/python3.8/site-packages/cyipopt/cython/ipopt_wrapper.pyx:642\u001b[0m, in \u001b[0;36mipopt_wrapper.Problem.solve\u001b[0;34m()\u001b[0m\n",
      "File \u001b[0;32m~/anaconda3/envs/olg/lib/python3.8/site-packages/cyipopt/cython/ipopt_wrapper.pyx:676\u001b[0m, in \u001b[0;36mipopt_wrapper.objective_cb\u001b[0;34m()\u001b[0m\n",
      "File \u001b[0;32m~/anaconda3/envs/olg/lib/python3.8/site-packages/cyipopt/scipy_interface.py:140\u001b[0m, in \u001b[0;36mIpoptProblemWrapper.objective\u001b[0;34m(self, x)\u001b[0m\n\u001b[1;32m    137\u001b[0m     \u001b[38;5;124;03m\"\"\" For backwards compatibility. \"\"\"\u001b[39;00m\n\u001b[1;32m    138\u001b[0m     \u001b[38;5;28;01mreturn\u001b[39;00m (\u001b[38;5;28mself\u001b[39m\u001b[38;5;241m.\u001b[39mobjective(x), \u001b[38;5;28mself\u001b[39m\u001b[38;5;241m.\u001b[39mgradient(x, \u001b[38;5;241m*\u001b[39m\u001b[38;5;241m*\u001b[39m\u001b[38;5;28mself\u001b[39m\u001b[38;5;241m.\u001b[39mkwargs))\n\u001b[0;32m--> 140\u001b[0m \u001b[38;5;28;01mdef\u001b[39;00m \u001b[38;5;21mobjective\u001b[39m(\u001b[38;5;28mself\u001b[39m, x):\n\u001b[1;32m    141\u001b[0m     \u001b[38;5;28mself\u001b[39m\u001b[38;5;241m.\u001b[39mnfev \u001b[38;5;241m+\u001b[39m\u001b[38;5;241m=\u001b[39m \u001b[38;5;241m1\u001b[39m\n\u001b[1;32m    142\u001b[0m     \u001b[38;5;28;01mreturn\u001b[39;00m \u001b[38;5;28mself\u001b[39m\u001b[38;5;241m.\u001b[39mfun(x, \u001b[38;5;241m*\u001b[39m\u001b[38;5;28mself\u001b[39m\u001b[38;5;241m.\u001b[39margs, \u001b[38;5;241m*\u001b[39m\u001b[38;5;241m*\u001b[39m\u001b[38;5;28mself\u001b[39m\u001b[38;5;241m.\u001b[39mkwargs)\n",
      "\u001b[0;31mKeyboardInterrupt\u001b[0m: "
     ]
    }
   ],
   "source": [
    "with warnings.catch_warnings():\n",
    "    warnings.simplefilter(\"ignore\")\n",
    "    for _ in range(20):\n",
    "        olg.steady_state()\n",
    "        print(olg.steady_path[-1][0][\"fun\"])"
   ]
  },
  {
   "cell_type": "code",
   "execution_count": 392,
   "metadata": {
    "pycharm": {
     "name": "#%%\n"
    }
   },
   "outputs": [
    {
     "data": {
      "text/plain": [
       "Text(0.5, 1.0, 'Consumption adjustment')"
      ]
     },
     "execution_count": 392,
     "metadata": {},
     "output_type": "execute_result"
    },
    {
     "data": {
      "image/png": "[encoded data removed]",
      "text/plain": [
       "<Figure size 432x288 with 1 Axes>"
      ]
     },
     "metadata": {
      "needs_background": "light"
     },
     "output_type": "display_data"
    }
   ],
   "source": [
    "import matplotlib.pyplot as plt\n",
    "plt.plot([item[1][10] for i, item in enumerate(olg.steady_path)])\n",
    "# plt.plot([item[1][1]**olg.alpha*item[1][2]**(1-olg.alpha) for i, item in enumerate(olg.steady_path)])\n",
    "plt.title(\"Consumption adjustment\")"
   ]
  },
  {
   "cell_type": "code",
   "execution_count": 393,
   "metadata": {},
   "outputs": [
    {
     "data": {
      "text/plain": [
       "Text(0.5, 1.0, 'Labor adjustment')"
      ]
     },
     "execution_count": 393,
     "metadata": {},
     "output_type": "execute_result"
    },
    {
     "data": {
      "image/png": "[encoded data removed]",
      "text/plain": [
       "<Figure size 432x288 with 1 Axes>"
      ]
     },
     "metadata": {
      "needs_background": "light"
     },
     "output_type": "display_data"
    }
   ],
   "source": [
    "plt.plot([item[1][11] for i, item in enumerate(olg.steady_path)])\n",
    "plt.plot([item[1][2]+item[1][5] for i, item in enumerate(olg.steady_path)])\n",
    "plt.title(\"Labor adjustment\")"
   ]
  },
  {
   "cell_type": "code",
   "execution_count": 415,
   "metadata": {
    "pycharm": {
     "name": "#%%\n"
    }
   },
   "outputs": [
    {
     "data": {
      "text/plain": [
       "Text(0.5, 1.0, 'w adjustment')"
      ]
     },
     "execution_count": 415,
     "metadata": {},
     "output_type": "execute_result"
    },
    {
     "data": {
      "image/png": "[encoded data removed]",
      "text/plain": [
       "<Figure size 432x288 with 1 Axes>"
      ]
     },
     "metadata": {
      "needs_background": "light"
     },
     "output_type": "display_data"
    }
   ],
   "source": [
    "plt.plot([item[1][7] for i, item in enumerate(olg.steady_path)])\n",
    "# plt.plot([item[1][1] for i, item in enumerate(olg.steady_path)])\n",
    "plt.title(\"w adjustment\")"
   ]
  },
  {
   "cell_type": "code",
   "execution_count": 316,
   "metadata": {
    "pycharm": {
     "name": "#%%\n"
    }
   },
   "outputs": [
    {
     "data": {
      "text/plain": [
       "Text(0.5, 1.0, 'Target function')"
      ]
     },
     "execution_count": 316,
     "metadata": {},
     "output_type": "execute_result"
    },
    {
     "data": {
      "image/png": "[encoded data removed]",
      "text/plain": [
       "<Figure size 432x288 with 1 Axes>"
      ]
     },
     "metadata": {
      "needs_background": "light"
     },
     "output_type": "display_data"
    }
   ],
   "source": [
    "import matplotlib.pyplot as plt\n",
    "plt.plot([item[0][\"fun\"] for i, item in enumerate(olg.steady_path)])\n",
    "plt.title(\"Target function\")"
   ]
  },
  {
   "cell_type": "code",
   "execution_count": 317,
   "metadata": {
    "pycharm": {
     "name": "#%%\n"
    }
   },
   "outputs": [
    {
     "data": {
      "text/plain": [
       "[(     fun: 4.7542239663686654e-08\n",
       "      info: {'x': array([1.97212505e+01, 2.38797192e+03, 4.21077816e+04, 1.77190779e+01,\n",
       "         2.14553638e+03, 5.22721054e+04, 8.70454767e-06, 1.20555483e-05,\n",
       "         1.57758157e-10, 2.78685809e-07]), 'g': array([], dtype=float64), 'obj_val': 4.7542239663686654e-08, 'mult_g': array([], dtype=float64), 'mult_x_L': array([0., 0., 0., 0., 0., 0., 0., 0., 0., 0.]), 'mult_x_U': array([0., 0., 0., 0., 0., 0., 0., 0., 0., 0.]), 'status': 0, 'status_msg': b'Algorithm terminated successfully at a locally optimal point, satisfying the convergence tolerances (can be specified by options).'}\n",
       "   message: b'Algorithm terminated successfully at a locally optimal point, satisfying the convergence tolerances (can be specified by options).'\n",
       "      nfev: 74\n",
       "       nit: 48\n",
       "      njev: 50\n",
       "    status: 0\n",
       "   success: True\n",
       "         x: array([1.97212505e+01, 2.38797192e+03, 4.21077816e+04, 1.77190779e+01,\n",
       "         2.14553638e+03, 5.22721054e+04, 8.70454767e-06, 1.20555483e-05,\n",
       "         1.57758157e-10, 2.78685809e-07]),\n",
       "  array([ 1.54721250e+01,  2.03879719e+03,  3.57107782e+04,  1.52719078e+01,\n",
       "          2.01455364e+03,  5.02272105e+04,  9.08704548e-05,  5.40012056e-02,\n",
       "          9.00000158e-05,  9.02786858e-06,  4.46867387e+07,  9.43798870e+04,\n",
       "         -3.27572859e+04])),\n",
       " (     fun: 8.271983716428403e-08\n",
       "      info: {'x': array([2.34165345e+00, 2.83541993e+02, 2.15887220e+04, 1.61454131e+01,\n",
       "         1.95498725e+03, 7.23356196e+04, 1.12150478e-05, 9.43425356e-06,\n",
       "         1.75597000e-14, 1.16610459e-10]), 'g': array([], dtype=float64), 'obj_val': 8.271983716428403e-08, 'mult_g': array([], dtype=float64), 'mult_x_L': array([0., 0., 0., 0., 0., 0., 0., 0., 0., 0.]), 'mult_x_U': array([0., 0., 0., 0., 0., 0., 0., 0., 0., 0.]), 'status': 0, 'status_msg': b'Algorithm terminated successfully at a locally optimal point, satisfying the convergence tolerances (can be specified by options).'}\n",
       "   message: b'Algorithm terminated successfully at a locally optimal point, satisfying the convergence tolerances (can be specified by options).'\n",
       "      nfev: 710\n",
       "       nit: 674\n",
       "      njev: 676\n",
       "    status: 0\n",
       "   success: True\n",
       "         x: array([2.34165345e+00, 2.83541993e+02, 2.15887220e+04, 1.61454131e+01,\n",
       "         1.95498725e+03, 7.23356196e+04, 1.12150478e-05, 9.43425356e-06,\n",
       "         1.75597000e-14, 1.16610459e-10]),\n",
       "  array([ 1.41590779e+01,  1.86327167e+03,  3.42985725e+04,  1.53592583e+01,\n",
       "          2.00859700e+03,  5.24380514e+04,  8.29049141e-05,  4.86020284e-02,\n",
       "          8.10000142e-05,  8.12509338e-06,  4.53078066e+07,  9.39243416e+04,\n",
       "         -3.26551562e+04])),\n",
       " (     fun: 3.2545431508940335e-08\n",
       "      info: {'x': array([1.45240668e+01, 1.75866452e+03, 4.98593960e+04, 1.96807894e+01,\n",
       "         2.38307264e+03, 4.35587807e+04, 6.73897386e-06, 1.25539254e-05,\n",
       "         2.53368283e-14, 4.55499001e-11]), 'g': array([], dtype=float64), 'obj_val': 3.2545431508940335e-08, 'mult_g': array([], dtype=float64), 'mult_x_L': array([0., 0., 0., 0., 0., 0., 0., 0., 0., 0.]), 'mult_x_U': array([0., 0., 0., 0., 0., 0., 0., 0., 0., 0.]), 'status': 0, 'status_msg': b'Algorithm terminated successfully at a locally optimal point, satisfying the convergence tolerances (can be specified by options).'}\n",
       "   message: b'Algorithm terminated successfully at a locally optimal point, satisfying the convergence tolerances (can be specified by options).'\n",
       "      nfev: 674\n",
       "       nit: 629\n",
       "      njev: 631\n",
       "    status: 0\n",
       "   success: True\n",
       "         x: array([1.45240668e+01, 1.75866452e+03, 4.98593960e+04, 1.96807894e+01,\n",
       "         2.38307264e+03, 4.35587807e+04, 6.73897386e-06, 1.25539254e-05,\n",
       "         2.53368283e-14, 4.55499001e-11]),\n",
       "  array([ 1.41955768e+01,  1.85281096e+03,  3.58546549e+04,  1.57914114e+01,\n",
       "          2.04604456e+03,  5.15501244e+04,  7.52883201e-05,  4.37430810e-02,\n",
       "          7.29000128e-05,  7.31258860e-06,  4.59976799e+07,  9.34181766e+04,\n",
       "         -3.25632350e+04])),\n",
       " (     fun: 5.607882144943768e-08\n",
       "      info: {'x': array([1.53657873e+01, 1.86058529e+03, 3.26319232e+04, 1.81277292e+01,\n",
       "         2.19501843e+03, 6.02239110e+04, 9.59412219e-06, 1.18270222e-05,\n",
       "         2.63387592e-09, 6.39318840e-06]), 'g': array([], dtype=float64), 'obj_val': 5.607882144943768e-08, 'mult_g': array([], dtype=float64), 'mult_x_L': array([0., 0., 0., 0., 0., 0., 0., 0., 0., 0.]), 'mult_x_U': array([0., 0., 0., 0., 0., 0., 0., 0., 0., 0.]), 'status': 0, 'status_msg': b'Algorithm terminated successfully at a locally optimal point, satisfying the convergence tolerances (can be specified by options).'}\n",
       "   message: b'Algorithm terminated successfully at a locally optimal point, satisfying the convergence tolerances (can be specified by options).'\n",
       "      nfev: 31\n",
       "       nit: 25\n",
       "      njev: 27\n",
       "    status: 0\n",
       "   success: True\n",
       "         x: array([1.53657873e+01, 1.86058529e+03, 3.26319232e+04, 1.81277292e+01,\n",
       "         2.19501843e+03, 6.02239110e+04, 9.59412219e-06, 1.18270222e-05,\n",
       "         2.63387592e-09, 6.39318840e-06]),\n",
       "  array([ 1.43125978e+01,  1.85358839e+03,  3.55323817e+04,  1.60250432e+01,\n",
       "          2.06094195e+03,  5.24175030e+04,  6.87189003e-05,  3.93699556e-02,\n",
       "          6.56102749e-05,  7.22064858e-06,  4.67644847e+07,  9.28558342e+04,\n",
       "         -3.24805112e+04])),\n",
       " (     fun: 10299603.102380585\n",
       "      info: {'x': array([5.50625055e+00, 7.57106501e+02, 2.02503830e+04, 1.57326218e+01,\n",
       "         1.99537926e+03, 6.87713534e+04, 5.56826340e-05, 2.95146319e-02,\n",
       "         5.54583109e-13, 2.74534264e-09]), 'g': array([], dtype=float64), 'obj_val': 10299603.102380585, 'mult_g': array([], dtype=float64), 'mult_x_L': array([0., 0., 0., 0., 0., 0., 0., 0., 0., 0.]), 'mult_x_U': array([0., 0., 0., 0., 0., 0., 0., 0., 0., 0.]), 'status': -1, 'status_msg': b'Maximum number of iterations exceeded (can be specified by an option).'}\n",
       "   message: b'Maximum number of iterations exceeded (can be specified by an option).'\n",
       "      nfev: 1043\n",
       "       nit: 1000\n",
       "      njev: 1002\n",
       "    status: -1\n",
       "   success: False\n",
       "         x: array([5.50625055e+00, 7.57106501e+02, 2.02503830e+04, 1.57326218e+01,\n",
       "         1.99537926e+03, 6.87713534e+04, 5.56826340e-05, 2.95146319e-02,\n",
       "         5.54583109e-13, 2.74534264e-09]),\n",
       "  array([ 1.43125978e+01,  1.85358839e+03,  3.55323817e+04,  1.60250432e+01,\n",
       "          2.06094195e+03,  5.24175030e+04,  6.87189003e-05,  1.96849778e-02,\n",
       "          1.31220550e-04,  7.22064858e-06,  4.76162266e+07,  9.22310357e+04,\n",
       "         -3.24060586e+04])),\n",
       " (     fun: 2.5699061605274494e-08\n",
       "      info: {'x': array([2.52010359e+01, 3.05149848e+03, 4.83345424e+04, 2.03750623e+01,\n",
       "         2.46713952e+03, 3.76468178e+04, 5.92149412e-06, 1.31941933e-05,\n",
       "         5.91666700e-10, 2.72989888e-07]), 'g': array([], dtype=float64), 'obj_val': 2.5699061605274494e-08, 'mult_g': array([], dtype=float64), 'mult_x_L': array([0., 0., 0., 0., 0., 0., 0., 0., 0., 0.]), 'mult_x_U': array([0., 0., 0., 0., 0., 0., 0., 0., 0., 0.]), 'status': 0, 'status_msg': b'Algorithm terminated successfully at a locally optimal point, satisfying the convergence tolerances (can be specified by options).'}\n",
       "   message: b'Algorithm terminated successfully at a locally optimal point, satisfying the convergence tolerances (can be specified by options).'\n",
       "      nfev: 46\n",
       "       nit: 38\n",
       "      njev: 40\n",
       "    status: 0\n",
       "   success: True\n",
       "         x: array([2.52010359e+01, 3.05149848e+03, 4.83345424e+04, 2.03750623e+01,\n",
       "         2.46713952e+03, 3.76468178e+04, 5.92149412e-06, 1.31941933e-05,\n",
       "         5.91666700e-10, 2.72989888e-07]),\n",
       "  array([ 1.54014416e+01,  1.97337940e+03,  3.68125978e+04,  1.64600451e+01,\n",
       "          2.10156171e+03,  5.09404345e+04,  6.24391597e-05,  1.77177994e-02,\n",
       "          1.18098554e-04,  6.52588271e-06,  1.40309437e+07,  8.59813602e+04,\n",
       "         -3.20709212e+04])),\n",
       " (     fun: 1.126448262604466e-08\n",
       "      info: {'x': array([8.29662696e+00, 1.00460730e+03, 8.41525432e+04, 2.22312084e+01,\n",
       "         2.69189327e+03, 4.41034436e+02, 1.28520216e-06, 1.74335181e-05,\n",
       "         6.52837227e-13, 3.11601482e-10]), 'g': array([], dtype=float64), 'obj_val': 1.126448262604466e-08, 'mult_g': array([], dtype=float64), 'mult_x_L': array([0., 0., 0., 0., 0., 0., 0., 0., 0., 0.]), 'mult_x_U': array([0., 0., 0., 0., 0., 0., 0., 0., 0., 0.]), 'status': 0, 'status_msg': b'Algorithm terminated successfully at a locally optimal point, satisfying the convergence tolerances (can be specified by options).'}\n",
       "   message: b'Algorithm terminated successfully at a locally optimal point, satisfying the convergence tolerances (can be specified by options).'\n",
       "      nfev: 160\n",
       "       nit: 130\n",
       "      njev: 132\n",
       "    status: 0\n",
       "   success: True\n",
       "         x: array([8.29662696e+00, 1.00460730e+03, 8.41525432e+04, 2.22312084e+01,\n",
       "         2.69189327e+03, 4.41034436e+02, 1.28520216e-06, 1.74335181e-05,\n",
       "         6.52837227e-13, 3.11601482e-10]),\n",
       "  array([ 1.46909602e+01,  1.87650219e+03,  4.15465923e+04,  1.70371615e+01,\n",
       "          2.16059486e+03,  4.58904945e+04,  5.63237639e-05,  1.59477628e-02,\n",
       "          1.06288699e-04,  5.87332560e-06,  1.45043061e+07,  8.45935777e+04,\n",
       "         -3.20374299e+04])),\n",
       " (     fun: 4805662.069995309\n",
       "      info: {'x': array([2.25059022e+01, 2.77396685e+03, 7.21884888e+04, 1.97135414e+01,\n",
       "         2.43585041e+03, 1.30559428e+04, 2.76849762e-05, 7.98242176e-03,\n",
       "         1.04772314e-11, 4.04481515e-09]), 'g': array([], dtype=float64), 'obj_val': 4805662.069995309, 'mult_g': array([], dtype=float64), 'mult_x_L': array([0., 0., 0., 0., 0., 0., 0., 0., 0., 0.]), 'mult_x_U': array([0., 0., 0., 0., 0., 0., 0., 0., 0., 0.]), 'status': -1, 'status_msg': b'Maximum number of iterations exceeded (can be specified by an option).'}\n",
       "   message: b'Maximum number of iterations exceeded (can be specified by an option).'\n",
       "      nfev: 1030\n",
       "       nit: 1000\n",
       "      njev: 1002\n",
       "    status: -1\n",
       "   success: False\n",
       "         x: array([2.25059022e+01, 2.77396685e+03, 7.21884888e+04, 1.97135414e+01,\n",
       "         2.43585041e+03, 1.30559428e+04, 2.76849762e-05, 7.98242176e-03,\n",
       "         1.04772314e-11, 4.04481515e-09]),\n",
       "  array([ 1.46909602e+01,  1.87650219e+03,  4.15465923e+04,  1.70371615e+01,\n",
       "          2.16059486e+03,  4.58904945e+04,  5.63237639e-05,  3.18955257e-02,\n",
       "          2.12577397e-04,  5.87332560e-06,  1.50305322e+07,  8.30522496e+04,\n",
       "         -3.20072950e+04])),\n",
       " (     fun: 3.8851836861111896e-08\n",
       "      info: {'x': array([1.51864676e+01, 1.83887214e+03, 4.23991434e+04, 1.96509241e+01,\n",
       "         2.37945636e+03, 4.83673369e+04, 8.48247810e-06, 1.36934190e-05,\n",
       "         2.33184272e-08, 1.24890547e-05]), 'g': array([], dtype=float64), 'obj_val': 3.8851836861111896e-08, 'mult_g': array([], dtype=float64), 'mult_x_L': array([0., 0., 0., 0., 0., 0., 0., 0., 0., 0.]), 'mult_x_U': array([0., 0., 0., 0., 0., 0., 0., 0., 0., 0.]), 'status': 1, 'status_msg': b'Algorithm stopped at a point that was converged, not to \"desired\" tolerances, but to \"acceptable\" tolerances (see the acceptable-... options).'}\n",
       "   message: b'Algorithm stopped at a point that was converged, not to \"desired\" tolerances, but to \"acceptable\" tolerances (see the acceptable-... options).'\n",
       "      nfev: 51\n",
       "       nit: 45\n",
       "      njev: 47\n",
       "    status: 1\n",
       "   success: False\n",
       "         x: array([1.51864676e+01, 1.83887214e+03, 4.23991434e+04, 1.96509241e+01,\n",
       "         2.37945636e+03, 4.83673369e+04, 8.48247810e-06, 1.36934190e-05,\n",
       "         2.33184272e-08, 1.24890547e-05]),\n",
       "  array([ 1.46909602e+01,  1.87650219e+03,  4.15465923e+04,  1.70371615e+01,\n",
       "          2.16059486e+03,  4.58904945e+04,  5.63237639e-05,  1.59477628e-02,\n",
       "          4.25154795e-04,  5.87332560e-06,  1.24047470e+07,  9.07664804e+04,\n",
       "         -3.22788062e+04])),\n",
       " (     fun: 1.2442578979415219e-08\n",
       "      info: {'x': array([1.93942024e+01, 2.34837089e+03, 6.06083025e+04, 2.15211660e+01,\n",
       "         2.60591690e+03, 2.24439471e+04, 4.31565981e-06, 1.52486663e-05,\n",
       "         1.72431172e-08, 1.99274625e-06]), 'g': array([], dtype=float64), 'obj_val': 1.2442578979415219e-08, 'mult_g': array([], dtype=float64), 'mult_x_L': array([0., 0., 0., 0., 0., 0., 0., 0., 0., 0.]), 'mult_x_U': array([0., 0., 0., 0., 0., 0., 0., 0., 0., 0.]), 'status': 0, 'status_msg': b'Algorithm terminated successfully at a locally optimal point, satisfying the convergence tolerances (can be specified by options).'}\n",
       "   message: b'Algorithm terminated successfully at a locally optimal point, satisfying the convergence tolerances (can be specified by options).'\n",
       "      nfev: 31\n",
       "       nit: 27\n",
       "      njev: 29\n",
       "    status: 0\n",
       "   success: True\n",
       "         x: array([1.93942024e+01, 2.34837089e+03, 6.06083025e+04, 2.15211660e+01,\n",
       "         2.60591690e+03, 2.24439471e+04, 4.31565981e-06, 1.52486663e-05,\n",
       "         1.72431172e-08, 1.99274625e-06]),\n",
       "  array([ 1.51612844e+01,  1.92368906e+03,  4.34527633e+04,  1.74855619e+01,\n",
       "          2.20512707e+03,  4.35458398e+04,  5.11229535e-05,  1.43545114e-02,\n",
       "          3.82641039e-04,  5.48526767e-06,  3.75763304e+06,  8.30522496e+04,\n",
       "         -3.20072950e+04]))]"
      ]
     },
     "execution_count": 317,
     "metadata": {},
     "output_type": "execute_result"
    }
   ],
   "source": [
    "olg.steady_path"
   ]
  },
  {
   "cell_type": "code",
   "execution_count": null,
   "metadata": {
    "pycharm": {
     "name": "#%%\n"
    }
   },
   "outputs": [],
   "source": [
    "# пОТРЕБЛЕНИЕ И ТРУД НАДО С ВЕСМО ПЕРЕЗАПИСЫВАТЬ"
   ]
  },
  {
   "cell_type": "code",
   "execution_count": 250,
   "metadata": {
    "pycharm": {
     "name": "#%%\n"
    }
   },
   "outputs": [
    {
     "data": {
      "text/plain": [
       "[13750.681350184183,\n",
       " 12990.008170792706,\n",
       " 13354.90289402114,\n",
       " 13276.613511586402,\n",
       " 13276.613511586402,\n",
       " 13456.52711561443,\n",
       " 13474.477510789036,\n",
       " 13718.20712867937,\n",
       " 13718.20712867937,\n",
       " 13800.250315092026,\n",
       " 13865.169803044888,\n",
       " 14087.844297998878,\n",
       " 14350.393704506048,\n",
       " 14614.99781222853,\n",
       " 15506.596657164135,\n",
       " 15551.966087127797,\n",
       " 15551.966087127797,\n",
       " 15621.630591614703,\n",
       " 15621.630591614703,\n",
       " 16505.622742078256,\n",
       " 16798.712246590785,\n",
       " 16798.712246590785,\n",
       " 16594.061039553784,\n",
       " 16596.79089642738,\n",
       " 16596.79089642738,\n",
       " 16596.79089642738,\n",
       " 15736.984273795355,\n",
       " 15820.97299020958,\n",
       " 15820.97299020958,\n",
       " 15820.97299020958,\n",
       " 15820.97299020958,\n",
       " 15820.97299020958,\n",
       " 15820.97299020958,\n",
       " 15820.97299020958,\n",
       " 15820.97299020958,\n",
       " 15820.97299020958,\n",
       " 15820.97299020958,\n",
       " 15820.97299020958,\n",
       " 15820.97299020958,\n",
       " 15820.97299020958]"
      ]
     },
     "execution_count": 250,
     "metadata": {},
     "output_type": "execute_result"
    }
   ],
   "source": [
    "[(item[1][1]**olg.alpha*item[1][2]**(1-olg.alpha)) for i, item in enumerate(olg.steady_path)]\n",
    "# [((item[1][1]**olg.alpha*item[1][2]**(1-olg.alpha))*item[1][10]/(1-olg.omega))**(1-olg.omega) for i, item in enumerate(olg.steady_path)]"
   ]
  },
  {
   "cell_type": "code",
   "execution_count": 249,
   "metadata": {
    "pycharm": {
     "name": "#%%\n"
    }
   },
   "outputs": [
    {
     "data": {
      "text/plain": [
       "[267292988.38139096,\n",
       " 271007497.15817416,\n",
       " 275133785.4057256,\n",
       " 254954882.49747306,\n",
       " 233638635.47611514,\n",
       " 259597495.90112513,\n",
       " 252661171.89325103,\n",
       " 258131874.6780602,\n",
       " 237791027.10023817,\n",
       " 264208869.90396798,\n",
       " 268183760.91498917,\n",
       " 275613264.26069486,\n",
       " 283847176.11990994,\n",
       " 293015187.37396115,\n",
       " 269576251.67473435,\n",
       " 279638093.0713861,\n",
       " 261743397.99324262,\n",
       " 290825015.6232954,\n",
       " 272935142.3592092,\n",
       " 268114433.36334902,\n",
       " 280312122.32372206,\n",
       " 264495846.46072966,\n",
       " 293859063.7855561,\n",
       " 308930080.8906003,\n",
       " 293114284.5015498,\n",
       " 293114276.3596562,\n",
       " 325676137.9329094,\n",
       " 344236592.8041437,\n",
       " 328425531.9308591,\n",
       " 328425525.16935146,\n",
       " 328425519.08399475,\n",
       " 328425513.6071737,\n",
       " 328425508.67803454,\n",
       " 328425504.24180955,\n",
       " 328425500.24920696,\n",
       " 328425496.65586454,\n",
       " 328425493.4218566,\n",
       " 328425490.5112493,\n",
       " 328425487.8917028,\n",
       " 328425485.53411084]"
      ]
     },
     "execution_count": 249,
     "metadata": {},
     "output_type": "execute_result"
    }
   ],
   "source": [
    "[(1-olg.omega)*(item[1][0]+item[1][3]+item[1][10])*item[1][8]/item[1][9] for i, item in enumerate(olg.steady_path)]"
   ]
  },
  {
   "cell_type": "code",
   "execution_count": 502,
   "metadata": {
    "pycharm": {
     "name": "#%%\n"
    }
   },
   "outputs": [
    {
     "data": {
      "text/plain": [
       "10778.019168148427"
      ]
     },
     "execution_count": 502,
     "metadata": {},
     "output_type": "execute_result"
    }
   ],
   "source": [
    "(olg.steady_path[-1][0]['x'][1]**olg.alpha*olg.steady_path[-1][0]['x'][2]**(1-olg.alpha))"
   ]
  },
  {
   "cell_type": "code",
   "execution_count": 504,
   "metadata": {
    "pycharm": {
     "name": "#%%\n"
    }
   },
   "outputs": [
    {
     "data": {
      "text/plain": [
       "11778.019168148467"
      ]
     },
     "execution_count": 504,
     "metadata": {},
     "output_type": "execute_result"
    }
   ],
   "source": [
    "(1-olg.omega)*(olg.steady_path[-1][0]['x'][0]+olg.steady_path[-1][0]['x'][4]+olg.steady_path[-1][1][11])*olg.steady_path[-1][0]['x'][9]/olg.steady_path[-1][0]['x'][10]"
   ]
  },
  {
   "cell_type": "code",
   "execution_count": 248,
   "metadata": {
    "pycharm": {
     "name": "#%%\n"
    }
   },
   "outputs": [
    {
     "data": {
      "text/plain": [
       "(     fun: 1.3315375104594219e+17\n",
       "     info: {'x': array([1.54301666e+01, 1.88848172e+03, 4.57923984e+04, 2.33937669e+01,\n",
       "        2.85276407e+03, 3.36936821e+04, 1.52117403e-05, 6.57869627e-03,\n",
       "        1.64236288e-06, 1.62274872e-06]), 'g': array([], dtype=float64), 'obj_val': 1.3315375104594219e+17, 'mult_g': array([], dtype=float64), 'mult_x_L': array([0., 0., 0., 0., 0., 0., 0., 0., 0., 0.]), 'mult_x_U': array([0., 0., 0., 0., 0., 0., 0., 0., 0., 0.]), 'status': -3, 'status_msg': b'An unrecoverable error occurred while Ipopt tried to compute the search direction.'}\n",
       "  message: b'An unrecoverable error occurred while Ipopt tried to compute the search direction.'\n",
       "     nfev: 1\n",
       "      nit: 0\n",
       "     njev: 2\n",
       "   status: -3\n",
       "  success: False\n",
       "        x: array([1.54301666e+01, 1.88848172e+03, 4.57923984e+04, 2.33937669e+01,\n",
       "        2.85276407e+03, 3.36936821e+04, 1.52117403e-05, 6.57869627e-03,\n",
       "        1.64236288e-06, 1.62274872e-06]),\n",
       " array([ 1.54301666e+01,  1.88848172e+03,  4.57923984e+04,  2.33937669e+01,\n",
       "         2.85276407e+03,  3.36936821e+04,  1.52117403e-05,  6.57869627e-03,\n",
       "         1.47812659e-06,  1.62274872e-06,  6.00931842e+08,  6.10797680e+04,\n",
       "        -3.18477863e+04]))"
      ]
     },
     "execution_count": 248,
     "metadata": {},
     "output_type": "execute_result"
    }
   ],
   "source": [
    "olg.steady_path[-1]"
   ]
  },
  {
   "cell_type": "code",
   "execution_count": 294,
   "metadata": {
    "pycharm": {
     "name": "#%%\n"
    }
   },
   "outputs": [
    {
     "data": {
      "text/plain": [
       "Text(0.5, 1.0, 'Wage adjustment')"
      ]
     },
     "execution_count": 294,
     "metadata": {},
     "output_type": "execute_result"
    },
    {
     "data": {
      "image/png": "[encoded data removed]",
      "text/plain": [
       "<Figure size 432x288 with 1 Axes>"
      ]
     },
     "metadata": {
      "needs_background": "light"
     },
     "output_type": "display_data"
    }
   ],
   "source": [
    "plt.plot([item[1][8] for i, item in enumerate(olg.steady_path)])\n",
    "plt.title(\"Wage adjustment\")"
   ]
  },
  {
   "cell_type": "code",
   "execution_count": 514,
   "metadata": {
    "pycharm": {
     "name": "#%%\n"
    }
   },
   "outputs": [
    {
     "data": {
      "text/plain": [
       "[0.08070412845172258,\n",
       " -0.0004060740120871443,\n",
       " 0.029205342378800694,\n",
       " -0.004786775349202799,\n",
       " -0.011708675608000116,\n",
       " 0.0021109702452284853,\n",
       " 9.272842960627334e-05,\n",
       " -0.015809078486199724,\n",
       " 0.06903186819545226,\n",
       " -1.8189894035458565e-11,\n",
       " -0.00270000328376759]"
      ]
     },
     "execution_count": 514,
     "metadata": {},
     "output_type": "execute_result"
    }
   ],
   "source": [
    "equilibrium(olg.steady_path[-1][0]['x'], olg, False)"
   ]
  },
  {
   "cell_type": "code",
   "execution_count": 525,
   "metadata": {
    "pycharm": {
     "name": "#%%\n"
    }
   },
   "outputs": [
    {
     "data": {
      "text/plain": [
       "[[0, 0, 0, 0.9999924180715866, 0, 0, 0, 0, 0, 0.0031180987684153046, 0],\n",
       " [3.810793527287509e-16,\n",
       "  0,\n",
       "  -9.254050657857742e-25,\n",
       "  -0.008258514609483125,\n",
       "  0,\n",
       "  0,\n",
       "  0,\n",
       "  0,\n",
       "  0,\n",
       "  7.127237093394984e-07,\n",
       "  0],\n",
       " [-1.2188541139091417e-07,\n",
       "  0,\n",
       "  2.959839632844668e-16,\n",
       "  0,\n",
       "  0,\n",
       "  0,\n",
       "  0,\n",
       "  0,\n",
       "  1,\n",
       "  455.9188100791012,\n",
       "  0],\n",
       " [0, -1.000260287335727, -0.03883495145631066, 0, 0, 0, 0, 0, 0, 0, 0],\n",
       " [0, 0, 0, 0, 0, 0, 0, 0.9999924180715866, 0, 0.0031180987684153046, 0],\n",
       " [0,\n",
       "  0,\n",
       "  0,\n",
       "  0,\n",
       "  3.540003835737071e-12,\n",
       "  0,\n",
       "  -1.7227146208463e-13,\n",
       "  -0.008258514609483125,\n",
       "  0,\n",
       "  0,\n",
       "  0],\n",
       " [0, 0, 0, 0, -5.649979705552044e-11, 0, 2.7495175423200557e-12, 0, 1, 0, 0],\n",
       " [0, 0, 0, 0, 0, -1.000260287335727, -0.03883495145631066, 0, 0, 0, 0],\n",
       " [-1, 0, 0, 0, -1, 0, 0, 0, 0, 0, 0],\n",
       " [0,\n",
       "  1,\n",
       "  0.0019417475728155343,\n",
       "  0,\n",
       "  0,\n",
       "  1,\n",
       "  0.0019417475728155343,\n",
       "  0,\n",
       "  0,\n",
       "  -2419016543980661.0,\n",
       "  1],\n",
       " [455.9188100791012,\n",
       "  0,\n",
       "  5.535718130792222e-07,\n",
       "  0,\n",
       "  0,\n",
       "  0,\n",
       "  0,\n",
       "  0,\n",
       "  0,\n",
       "  12571220844270.578,\n",
       "  -63.92937205979053]]"
      ]
     },
     "execution_count": 525,
     "metadata": {},
     "output_type": "execute_result"
    }
   ],
   "source": [
    "equilibrium_gradient(olg.steady_path[-1][0]['x'], olg, False)"
   ]
  },
  {
   "cell_type": "code",
   "execution_count": 340,
   "metadata": {
    "pycharm": {
     "name": "#%%\n"
    }
   },
   "outputs": [
    {
     "data": {
      "text/plain": [
       "Text(0.5, 1.0, 'Wage')"
      ]
     },
     "execution_count": 340,
     "metadata": {},
     "output_type": "execute_result"
    },
    {
     "data": {
      "image/png": "[encoded data removed]",
      "text/plain": [
       "<Figure size 432x288 with 1 Axes>"
      ]
     },
     "metadata": {
      "needs_background": "light"
     },
     "output_type": "display_data"
    }
   ],
   "source": [
    "plt.plot([item[0]['x'][8] for i, item in enumerate(olg.steady_path)])\n",
    "plt.title(\"Wage\")"
   ]
  },
  {
   "cell_type": "code",
   "execution_count": 257,
   "metadata": {
    "pycharm": {
     "name": "#%%\n"
    }
   },
   "outputs": [
    {
     "data": {
      "text/plain": [
       "Text(0.5, 1.0, 'Price non-export')"
      ]
     },
     "execution_count": 257,
     "metadata": {},
     "output_type": "execute_result"
    },
    {
     "data": {
      "image/png": "[encoded data removed]",
      "text/plain": [
       "<Figure size 432x288 with 1 Axes>"
      ]
     },
     "metadata": {
      "needs_background": "light"
     },
     "output_type": "display_data"
    }
   ],
   "source": [
    "plt.plot([item[1][10] for i, item in enumerate(olg.steady_path)])\n",
    "plt.title(\"Price non-export\")"
   ]
  },
  {
   "cell_type": "code",
   "execution_count": 381,
   "metadata": {
    "pycharm": {
     "name": "#%%\n"
    }
   },
   "outputs": [
    {
     "data": {
      "text/plain": [
       "Text(0.5, 1.0, 'Target function')"
      ]
     },
     "execution_count": 381,
     "metadata": {},
     "output_type": "execute_result"
    },
    {
     "data": {
      "image/png": "[encoded data removed]",
      "text/plain": [
       "<Figure size 432x288 with 1 Axes>"
      ]
     },
     "metadata": {
      "needs_background": "light"
     },
     "output_type": "display_data"
    }
   ],
   "source": [
    "plt.plot([item[0][\"fun\"] for i, item in enumerate(olg.steady_path)])\n",
    "plt.title(\"Target function\")"
   ]
  },
  {
   "cell_type": "code",
   "execution_count": 59,
   "metadata": {
    "pycharm": {
     "name": "#%%\n"
    }
   },
   "outputs": [
    {
     "data": {
      "text/plain": [
       "(     fun: 604876.9308973545\n",
       "     info: {'x': array([ 8.90681484e+01,  1.09146474e+04,  3.58445712e+04, -6.12713603e-02,\n",
       "         1.59057337e+01,  1.92634733e+03,  5.89951840e+04, -1.06202015e+00,\n",
       "         1.23396037e+00,  9.08647924e-07,  2.56858344e-01]), 'g': array([], dtype=float64), 'obj_val': 604876.9308973545, 'mult_g': array([], dtype=float64), 'mult_x_L': array([0., 0., 0., 0., 0., 0., 0., 0., 0., 0., 0.]), 'mult_x_U': array([0., 0., 0., 0., 0., 0., 0., 0., 0., 0., 0.]), 'status': -3, 'status_msg': b'An unrecoverable error occurred while Ipopt tried to compute the search direction.'}\n",
       "  message: b'An unrecoverable error occurred while Ipopt tried to compute the search direction.'\n",
       "     nfev: 2546\n",
       "      nit: 38\n",
       "     njev: 42\n",
       "   status: -3\n",
       "  success: False\n",
       "        x: array([ 8.90681484e+01,  1.09146474e+04,  3.58445712e+04, -6.12713603e-02,\n",
       "         1.59057337e+01,  1.92634733e+03,  5.89951840e+04, -1.06202015e+00,\n",
       "         1.23396037e+00,  9.08647924e-07,  2.56858344e-01]),\n",
       " array([ 8.90681484e+01,  1.09146474e+04,  3.58445712e+04, -6.12713603e-02,\n",
       "         1.59057337e+01,  1.92634733e+03,  5.89951840e+04, -1.06202015e+00,\n",
       "         1.23396037e+00,  7.13643387e-06,  2.56844672e-01,  1.13008619e+10,\n",
       "         9.56069612e+04, -1.50975841e+06]))"
      ]
     },
     "execution_count": 59,
     "metadata": {},
     "output_type": "execute_result"
    }
   ],
   "source": []
  },
  {
   "cell_type": "code",
   "execution_count": 46,
   "metadata": {
    "pycharm": {
     "name": "#%%\n"
    }
   },
   "outputs": [],
   "source": [
    "olg.create_guess()"
   ]
  },
  {
   "cell_type": "code",
   "execution_count": 279,
   "metadata": {
    "pycharm": {
     "name": "#%%\n"
    }
   },
   "outputs": [
    {
     "data": {
      "text/plain": [
       "(     fun: 497133.5107400712\n",
       "     info: {'x': array([ 6.50888420e+00,  7.89066419e+02,  3.67245615e+04, -8.85181784e-03,\n",
       "         2.52521567e+01,  3.05824304e+03,  5.72445545e+04,  3.73356679e-02,\n",
       "         1.81871797e-01,  2.67263830e-08,  2.11897026e-02]), 'g': array([], dtype=float64), 'obj_val': 497133.5107400712, 'mult_g': array([], dtype=float64), 'mult_x_L': array([0., 0., 0., 0., 0., 0., 0., 0., 0., 0., 0.]), 'mult_x_U': array([0., 0., 0., 0., 0., 0., 0., 0., 0., 0., 0.]), 'status': -3, 'status_msg': b'An unrecoverable error occurred while Ipopt tried to compute the search direction.'}\n",
       "  message: b'An unrecoverable error occurred while Ipopt tried to compute the search direction.'\n",
       "     nfev: 629\n",
       "      nit: 21\n",
       "     njev: 25\n",
       "   status: -3\n",
       "  success: False\n",
       "        x: array([ 6.50888420e+00,  7.89066419e+02,  3.67245615e+04, -8.85181784e-03,\n",
       "         2.52521567e+01,  3.05824304e+03,  5.72445545e+04,  3.73356679e-02,\n",
       "         1.81871797e-01,  2.67263830e-08,  2.11897026e-02]),\n",
       " array([ 6.50888420e+00,  7.89066419e+02,  3.67245615e+04, -8.85181784e-03,\n",
       "         2.52521567e+01,  3.05824304e+03,  5.72445545e+04,  3.73356679e-02,\n",
       "         1.81871797e-01,  1.27880340e-07,  2.11357024e-02,  1.34896231e+10,\n",
       "         9.32640416e+04, -2.74112479e+05]))"
      ]
     },
     "execution_count": 279,
     "metadata": {},
     "output_type": "execute_result"
    }
   ],
   "source": [
    "olg.steady_path[-4]\n",
    "# единственный выход это потребление тоже менять с eta"
   ]
  },
  {
   "cell_type": "code",
   "execution_count": 47,
   "metadata": {
    "pycharm": {
     "name": "#%%\n"
    }
   },
   "outputs": [
    {
     "data": {
      "text/plain": [
       "[<matplotlib.lines.Line2D at 0x1e97ae91f10>]"
      ]
     },
     "execution_count": 47,
     "metadata": {},
     "output_type": "execute_result"
    },
    {
     "data": {
      "image/png": "[encoded data removed]",
      "text/plain": [
       "<Figure size 432x288 with 1 Axes>"
      ]
     },
     "metadata": {
      "needs_background": "light"
     },
     "output_type": "display_data"
    }
   ],
   "source": [
    "import matplotlib.pyplot as plt\n",
    "plt.plot(olg.w)"
   ]
  },
  {
   "cell_type": "code",
   "execution_count": 606,
   "metadata": {
    "pycharm": {
     "name": "#%%\n"
    }
   },
   "outputs": [
    {
     "data": {
      "text/plain": [
       "[<matplotlib.lines.Line2D at 0x2e65210a490>]"
      ]
     },
     "execution_count": 606,
     "metadata": {},
     "output_type": "execute_result"
    },
    {
     "data": {
      "image/png": "[encoded data removed]",
      "text/plain": [
       "<Figure size 432x288 with 1 Axes>"
      ]
     },
     "metadata": {
      "needs_background": "light"
     },
     "output_type": "display_data"
    }
   ],
   "source": [
    "# plt.plot(olg.c[0][345-30,(250-30):(345-30)]) # труд у дрпугих неправильно рассчитывается?\n",
    "# plt.plot(olg.l[0][345-30,(250-30):(345-30)])\n"
   ]
  },
  {
   "cell_type": "code",
   "execution_count": 48,
   "metadata": {
    "pycharm": {
     "name": "#%%\n"
    }
   },
   "outputs": [
    {
     "data": {
      "text/plain": [
       "1.2339603729041526"
      ]
     },
     "execution_count": 48,
     "metadata": {},
     "output_type": "execute_result"
    }
   ],
   "source": [
    "olg.w[250]"
   ]
  },
  {
   "cell_type": "code",
   "execution_count": 608,
   "metadata": {
    "pycharm": {
     "name": "#%%\n"
    }
   },
   "outputs": [
    {
     "data": {
      "image/png": "[encoded data removed]",
      "text/plain": [
       "<Figure size 432x288 with 1 Axes>"
      ]
     },
     "metadata": {
      "needs_background": "light"
     },
     "output_type": "display_data"
    }
   ],
   "source": [
    "# plt.plot(olg.l[0][260,165:260], label= \"labor\")\n",
    "plt.plot(olg.c[0][260,165:260], label = \"consumption\")\n",
    "# plt.plot(olg.a[0][260,165:260], label = \"assets\")\n",
    "# plt.plot((olg.c[0][260,165:260]**olg.phi * (1-olg.l[0][260,165:260])**(1-olg.phi))**(1-olg.theta)/(1-olg.theta), label = \"utility\")\n",
    "plt.show()"
   ]
  },
  {
   "cell_type": "code",
   "execution_count": 614,
   "metadata": {
    "pycharm": {
     "name": "#%%\n"
    }
   },
   "outputs": [
    {
     "data": {
      "text/plain": [
       "Text(0.5, 1.0, 'Wage path')"
      ]
     },
     "execution_count": 614,
     "metadata": {},
     "output_type": "execute_result"
    },
    {
     "data": {
      "image/png": "[encoded data removed]",
      "text/plain": [
       "<Figure size 432x288 with 1 Axes>"
      ]
     },
     "metadata": {
      "needs_background": "light"
     },
     "output_type": "display_data"
    }
   ],
   "source": [
    "plt.plot([item[0][\"info\"][\"x\"][8] for i, item in enumerate(olg.steady_path)if i != 1] [0:])\n",
    "plt.title(\"Wage path\")"
   ]
  },
  {
   "cell_type": "code",
   "execution_count": 615,
   "metadata": {
    "pycharm": {
     "name": "#%%\n"
    }
   },
   "outputs": [
    {
     "data": {
      "text/plain": [
       "Text(0.5, 1.0, 'Price N path')"
      ]
     },
     "execution_count": 615,
     "metadata": {},
     "output_type": "execute_result"
    },
    {
     "data": {
      "image/png": "[encoded data removed]",
      "text/plain": [
       "<Figure size 432x288 with 1 Axes>"
      ]
     },
     "metadata": {
      "needs_background": "light"
     },
     "output_type": "display_data"
    }
   ],
   "source": [
    "plt.plot([item[0][\"info\"][\"x\"][10] for item in olg.steady_path][0:])\n",
    "plt.title(\"Price N path\")"
   ]
  },
  {
   "cell_type": "code",
   "execution_count": 470,
   "metadata": {
    "pycharm": {
     "name": "#%%\n"
    }
   },
   "outputs": [
    {
     "ename": "IndexError",
     "evalue": "too many indices for array: array is 1-dimensional, but 2 were indexed",
     "output_type": "error",
     "traceback": [
      "\u001b[1;31m---------------------------------------------------------------------------\u001b[0m",
      "\u001b[1;31mIndexError\u001b[0m                                Traceback (most recent call last)",
      "\u001b[1;32m~\\AppData\\Local\\Temp/ipykernel_172/150305223.py\u001b[0m in \u001b[0;36m<module>\u001b[1;34m\u001b[0m\n\u001b[0;32m      1\u001b[0m \u001b[1;32mfor\u001b[0m \u001b[0m_\u001b[0m \u001b[1;32min\u001b[0m \u001b[0mrange\u001b[0m\u001b[1;33m(\u001b[0m\u001b[1;36m1\u001b[0m\u001b[1;33m)\u001b[0m\u001b[1;33m:\u001b[0m\u001b[1;33m\u001b[0m\u001b[1;33m\u001b[0m\u001b[0m\n\u001b[1;32m----> 2\u001b[1;33m     \u001b[0molg\u001b[0m\u001b[1;33m.\u001b[0m\u001b[0mupdate_guess\u001b[0m\u001b[1;33m(\u001b[0m\u001b[1;33m)\u001b[0m\u001b[1;33m\u001b[0m\u001b[1;33m\u001b[0m\u001b[0m\n\u001b[0m",
      "\u001b[1;32m~\\AppData\\Local\\Temp/ipykernel_172/1908880180.py\u001b[0m in \u001b[0;36mupdate_guess\u001b[1;34m(self)\u001b[0m\n\u001b[0;32m    355\u001b[0m                     \u001b[0mself\u001b[0m\u001b[1;33m.\u001b[0m\u001b[0mc\u001b[0m\u001b[1;33m[\u001b[0m\u001b[0ms\u001b[0m\u001b[1;33m,\u001b[0m \u001b[0mg\u001b[0m\u001b[1;33m,\u001b[0m \u001b[0mt\u001b[0m\u001b[1;33m]\u001b[0m\u001b[1;33m,\u001b[0m\u001b[0mself\u001b[0m\u001b[1;33m.\u001b[0m\u001b[0ml\u001b[0m\u001b[1;33m[\u001b[0m\u001b[0ms\u001b[0m\u001b[1;33m,\u001b[0m \u001b[0mg\u001b[0m\u001b[1;33m,\u001b[0m \u001b[0mt\u001b[0m\u001b[1;33m]\u001b[0m\u001b[1;33m,\u001b[0m\u001b[0mself\u001b[0m\u001b[1;33m.\u001b[0m\u001b[0ma\u001b[0m\u001b[1;33m[\u001b[0m\u001b[0ms\u001b[0m\u001b[1;33m,\u001b[0m \u001b[0mg\u001b[0m\u001b[1;33m,\u001b[0m \u001b[0mt\u001b[0m\u001b[1;33m]\u001b[0m  \u001b[1;33m=\u001b[0m \u001b[0mself\u001b[0m\u001b[1;33m.\u001b[0m\u001b[0mhousehold\u001b[0m\u001b[1;33m(\u001b[0m\u001b[0ms\u001b[0m\u001b[1;33m,\u001b[0m\u001b[0mg\u001b[0m\u001b[1;33m,\u001b[0m\u001b[0mt\u001b[0m\u001b[1;33m)\u001b[0m\u001b[1;33m\u001b[0m\u001b[1;33m\u001b[0m\u001b[0m\n\u001b[0;32m    356\u001b[0m         \u001b[1;32mfor\u001b[0m \u001b[0mt\u001b[0m \u001b[1;32min\u001b[0m \u001b[0mrange\u001b[0m\u001b[1;33m(\u001b[0m\u001b[0mself\u001b[0m\u001b[1;33m.\u001b[0m\u001b[0mT\u001b[0m\u001b[1;33m)\u001b[0m\u001b[1;33m:\u001b[0m\u001b[1;33m\u001b[0m\u001b[1;33m\u001b[0m\u001b[0m\n\u001b[1;32m--> 357\u001b[1;33m             \u001b[0mz_guess\u001b[0m \u001b[1;33m=\u001b[0m \u001b[1;33m[\u001b[0m\u001b[0mself\u001b[0m\u001b[1;33m.\u001b[0m\u001b[0mI\u001b[0m\u001b[1;33m[\u001b[0m\u001b[1;36m0\u001b[0m\u001b[1;33m,\u001b[0m\u001b[0mt\u001b[0m\u001b[1;33m]\u001b[0m\u001b[1;33m,\u001b[0m\u001b[0mself\u001b[0m\u001b[1;33m.\u001b[0m\u001b[0mK\u001b[0m\u001b[1;33m[\u001b[0m\u001b[1;36m0\u001b[0m\u001b[1;33m,\u001b[0m\u001b[0mt\u001b[0m\u001b[1;33m+\u001b[0m\u001b[1;36m1\u001b[0m\u001b[1;33m]\u001b[0m\u001b[1;33m,\u001b[0m\u001b[0mself\u001b[0m\u001b[1;33m.\u001b[0m\u001b[0mL\u001b[0m\u001b[1;33m[\u001b[0m\u001b[1;36m0\u001b[0m\u001b[1;33m,\u001b[0m\u001b[0mt\u001b[0m\u001b[1;33m]\u001b[0m\u001b[1;33m,\u001b[0m\u001b[0mself\u001b[0m\u001b[1;33m.\u001b[0m\u001b[0mlmbda\u001b[0m\u001b[1;33m[\u001b[0m\u001b[1;36m0\u001b[0m\u001b[1;33m,\u001b[0m\u001b[0mt\u001b[0m\u001b[1;33m]\u001b[0m\u001b[1;33m,\u001b[0m \u001b[0mself\u001b[0m\u001b[1;33m.\u001b[0m\u001b[0mI\u001b[0m\u001b[1;33m[\u001b[0m\u001b[1;36m1\u001b[0m\u001b[1;33m,\u001b[0m\u001b[0mt\u001b[0m\u001b[1;33m]\u001b[0m\u001b[1;33m,\u001b[0m\u001b[0mself\u001b[0m\u001b[1;33m.\u001b[0m\u001b[0mK\u001b[0m\u001b[1;33m[\u001b[0m\u001b[1;36m1\u001b[0m\u001b[1;33m,\u001b[0m\u001b[0mt\u001b[0m\u001b[1;33m+\u001b[0m\u001b[1;36m1\u001b[0m\u001b[1;33m]\u001b[0m\u001b[1;33m,\u001b[0m\u001b[0mself\u001b[0m\u001b[1;33m.\u001b[0m\u001b[0mL\u001b[0m\u001b[1;33m[\u001b[0m\u001b[1;36m1\u001b[0m\u001b[1;33m,\u001b[0m\u001b[0mt\u001b[0m\u001b[1;33m]\u001b[0m\u001b[1;33m,\u001b[0m\u001b[0mself\u001b[0m\u001b[1;33m.\u001b[0m\u001b[0mlmbda\u001b[0m\u001b[1;33m[\u001b[0m\u001b[1;36m1\u001b[0m\u001b[1;33m,\u001b[0m\u001b[0mt\u001b[0m\u001b[1;33m]\u001b[0m\u001b[1;33m,\u001b[0m\u001b[0mself\u001b[0m\u001b[1;33m.\u001b[0m\u001b[0mw\u001b[0m\u001b[1;33m[\u001b[0m\u001b[0mt\u001b[0m\u001b[1;33m]\u001b[0m\u001b[1;33m,\u001b[0m \u001b[0mself\u001b[0m\u001b[1;33m.\u001b[0m\u001b[0mprice_N\u001b[0m\u001b[1;33m[\u001b[0m\u001b[0mt\u001b[0m\u001b[1;33m]\u001b[0m\u001b[1;33m,\u001b[0m \u001b[0mself\u001b[0m\u001b[1;33m.\u001b[0m\u001b[0mprice\u001b[0m\u001b[1;33m[\u001b[0m\u001b[0mt\u001b[0m\u001b[1;33m]\u001b[0m\u001b[1;33m]\u001b[0m\u001b[1;33m\u001b[0m\u001b[1;33m\u001b[0m\u001b[0m\n\u001b[0m\u001b[0;32m    358\u001b[0m             \u001b[1;31m# z = fsolve(production,z_guess, fprime=production_jacobian,maxfev=500,\u001b[0m\u001b[1;33m\u001b[0m\u001b[1;33m\u001b[0m\u001b[0m\n\u001b[0;32m    359\u001b[0m             \u001b[1;31m#        args = (self, t))\u001b[0m\u001b[1;33m\u001b[0m\u001b[1;33m\u001b[0m\u001b[0m\n",
      "\u001b[1;31mIndexError\u001b[0m: too many indices for array: array is 1-dimensional, but 2 were indexed"
     ]
    }
   ],
   "source": [
    "for _ in range(1):\n",
    "    olg.update_guess()"
   ]
  },
  {
   "cell_type": "code",
   "execution_count": null,
   "metadata": {
    "pycharm": {
     "name": "#%%\n"
    }
   },
   "outputs": [],
   "source": [
    "import matplotlib.pyplot as plt\n",
    "# plt.plot((((olg.c[:,:610,:]*olg.N[:,:610,:]).sum(axis=0).sum(axis=0))/olg.N[:,:610,:].sum(axis=0).sum(axis=0))[:150])\n",
    "# plt.plot((((olg.a[:,:610,:]*olg.N[:,:610,:]).sum(axis=0).sum(axis=0))/olg.N[:,:610,:].sum(axis=0).sum(axis=0))[:150])\n",
    "plt.plot((((olg.l[:,:610,:]*olg.N[:,:610,:]).sum(axis=0).sum(axis=0))/olg.N[:,:610,:].sum(axis=0).sum(axis=0))[:250])\n",
    "# plt.plot(olg.I[0,:100]/olg.N[0].sum(axis=0)[:100])\n",
    "# plt.plot((olg.l[0,:250]*olg.N[0,:250]).sum(axis=0)/(olg.N[0,:250].sum(axis=0)))\n",
    "plt.show()"
   ]
  },
  {
   "cell_type": "code",
   "execution_count": null,
   "metadata": {
    "pycharm": {
     "name": "#%%\n"
    }
   },
   "outputs": [],
   "source": [
    "plt.plot(olg.I[0,1:100]/olg.I[0,0:99])"
   ]
  },
  {
   "cell_type": "code",
   "execution_count": 616,
   "metadata": {
    "pycharm": {
     "name": "#%%\n"
    }
   },
   "outputs": [
    {
     "data": {
      "text/plain": [
       "[<matplotlib.lines.Line2D at 0x2e652135ee0>]"
      ]
     },
     "execution_count": 616,
     "metadata": {},
     "output_type": "execute_result"
    },
    {
     "data": {
      "image/png": "[encoded data removed]",
      "text/plain": [
       "<Figure size 432x288 with 1 Axes>"
      ]
     },
     "metadata": {
      "needs_background": "light"
     },
     "output_type": "display_data"
    }
   ],
   "source": [
    "plt.plot(olg.L[0][:200]+olg.L[1][:200])\n",
    "plt.plot(((olg.l[:,:610,:]*olg.N[:,:610,:]*olg.epsilon[:,:610,:]).sum(axis=0).sum(axis=0))[:200])"
   ]
  },
  {
   "cell_type": "code",
   "execution_count": 331,
   "metadata": {
    "pycharm": {
     "name": "#%%\n"
    }
   },
   "outputs": [
    {
     "data": {
      "text/plain": [
       "array([170000., 170000., 170000., 170000., 170000., 170000., 170000.,\n",
       "       170000., 170000., 170000., 170000., 170000., 170000., 170000.,\n",
       "       170000., 170000., 170000., 170000., 170000., 170000., 170000.,\n",
       "       170000., 170000., 170000., 170000., 170000., 170000., 170000.,\n",
       "       170000., 170000., 170000., 170000., 170000., 170000., 170000.,\n",
       "       170000., 170000., 170000., 170000., 170000., 170000., 170000.,\n",
       "       170000., 170000., 170000., 170000., 170000., 170000., 170000.,\n",
       "       170000., 170000., 170000., 170000., 170000., 170000., 170000.,\n",
       "       170000., 170000., 170000., 170000., 170000., 170000., 170000.,\n",
       "       170000., 170000., 170000., 170000., 170000., 170000., 170000.,\n",
       "       170000., 170000., 170000., 170000., 170000., 170000., 170000.,\n",
       "       170000., 170000., 170000., 170000., 170000., 170000., 170000.,\n",
       "       170000., 170000., 170000., 170000., 170000., 170000., 170000.,\n",
       "       170000., 170000., 170000., 170000., 170000., 170000., 170000.,\n",
       "       170000., 170000., 170000., 170000., 170000., 170000., 170000.,\n",
       "       170000., 170000., 170000., 170000., 170000., 170000., 170000.,\n",
       "       170000., 170000., 170000., 170000., 170000., 170000., 170000.,\n",
       "       170000., 170000., 170000., 170000., 170000., 170000., 170000.,\n",
       "       170000., 170000., 170000., 170000., 170000., 170000., 170000.,\n",
       "       170000., 170000., 170000., 170000., 170000., 170000., 170000.,\n",
       "       170000., 170000., 170000., 170000., 170000., 170000., 170000.,\n",
       "       170000., 170000., 170000., 170000., 170000., 170000., 170000.,\n",
       "       170000., 170000., 170000., 170000., 170000., 170000., 170000.,\n",
       "       170000., 170000., 170000., 170000., 170000., 170000., 170000.,\n",
       "       170000., 170000., 170000., 170000., 170000., 170000., 170000.,\n",
       "       170000., 170000., 170000., 170000., 170000., 170000., 170000.,\n",
       "       170000., 170000., 170000., 170000., 170000., 170000., 170000.,\n",
       "       170000., 170000., 170000., 170000., 170000., 170000., 170000.,\n",
       "       170000., 170000., 170000., 170000.])"
      ]
     },
     "execution_count": 331,
     "metadata": {},
     "output_type": "execute_result"
    }
   ],
   "source": [
    "olg.L[0][:200]+olg.L[1][:200]"
   ]
  },
  {
   "cell_type": "code",
   "execution_count": 332,
   "metadata": {
    "pycharm": {
     "name": "#%%\n"
    }
   },
   "outputs": [
    {
     "data": {
      "text/plain": [
       "[<matplotlib.lines.Line2D at 0x2e65345fe50>]"
      ]
     },
     "execution_count": 332,
     "metadata": {},
     "output_type": "execute_result"
    },
    {
     "data": {
      "image/png": "[encoded data removed]",
      "text/plain": [
       "<Figure size 432x288 with 1 Axes>"
      ]
     },
     "metadata": {
      "needs_background": "light"
     },
     "output_type": "display_data"
    }
   ],
   "source": [
    "plt.plot((olg.K[0]/olg.L[0])[:100])"
   ]
  },
  {
   "cell_type": "code",
   "execution_count": 333,
   "metadata": {
    "pycharm": {
     "name": "#%%\n"
    }
   },
   "outputs": [
    {
     "data": {
      "text/plain": [
       "[<matplotlib.lines.Line2D at 0x2e6534c86d0>]"
      ]
     },
     "execution_count": 333,
     "metadata": {},
     "output_type": "execute_result"
    },
    {
     "data": {
      "image/png": "[encoded data removed]",
      "text/plain": [
       "<Figure size 432x288 with 1 Axes>"
      ]
     },
     "metadata": {
      "needs_background": "light"
     },
     "output_type": "display_data"
    }
   ],
   "source": [
    "plt.plot(olg.a[0][100][:100])"
   ]
  },
  {
   "cell_type": "code",
   "execution_count": 334,
   "metadata": {
    "pycharm": {
     "name": "#%%\n"
    }
   },
   "outputs": [
    {
     "data": {
      "text/plain": [
       "[<matplotlib.lines.Line2D at 0x2e6531cb490>]"
      ]
     },
     "execution_count": 334,
     "metadata": {},
     "output_type": "execute_result"
    },
    {
     "data": {
      "image/png": "[encoded data removed]",
      "text/plain": [
       "<Figure size 432x288 with 1 Axes>"
      ]
     },
     "metadata": {
      "needs_background": "light"
     },
     "output_type": "display_data"
    }
   ],
   "source": [
    "plt.plot(olg.w[:100])"
   ]
  },
  {
   "cell_type": "code",
   "execution_count": 335,
   "metadata": {
    "pycharm": {
     "name": "#%%\n"
    }
   },
   "outputs": [
    {
     "data": {
      "text/plain": [
       "[<matplotlib.lines.Line2D at 0x2e65348d160>]"
      ]
     },
     "execution_count": 335,
     "metadata": {},
     "output_type": "execute_result"
    },
    {
     "data": {
      "image/png": "[encoded data removed]",
      "text/plain": [
       "<Figure size 432x288 with 1 Axes>"
      ]
     },
     "metadata": {
      "needs_background": "light"
     },
     "output_type": "display_data"
    }
   ],
   "source": [
    "plt.plot(olg.price[:100])"
   ]
  }
 ],
 "metadata": {
  "kernelspec": {
   "display_name": "olg",
   "language": "python",
   "name": "olg"
  },
  "language_info": {
   "codemirror_mode": {
    "name": "ipython",
    "version": 3
   },
   "file_extension": ".py",
   "mimetype": "text/x-python",
   "name": "python",
   "nbconvert_exporter": "python",
   "pygments_lexer": "ipython3",
   "version": "3.8.10"
  }
 },
 "nbformat": 4,
 "nbformat_minor": 1
}
