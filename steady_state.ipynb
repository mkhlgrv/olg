{
 "cells": [
  {
   "cell_type": "code",
   "execution_count": 1,
   "metadata": {
    "pycharm": {
     "name": "#%%\n"
    }
   },
   "outputs": [],
   "source": [
    "import pandas as pd\n",
    "from scipy.optimize import fsolve\n",
    "import numpy as np\n",
    "import itertools\n",
    "import copy\n",
    "from cyipopt import minimize_ipopt\n",
    "import warnings\n",
    "import matplotlib.pyplot as plt\n",
    "from jax.config import config\n",
    "# Enable 64 bit floating point precision\n",
    "config.update(\"jax_enable_x64\", True)\n",
    "\n",
    "# We use the CPU instead of GPU und mute all warnings if no GPU/TPU is found.\n",
    "config.update('jax_platform_name', 'cpu')\n",
    "\n",
    "# import jax.numpy as np\n",
    "from jax import jit, grad, jacfwd, jacrev"
   ]
  },
  {
   "cell_type": "code",
   "execution_count": 2,
   "metadata": {
    "pycharm": {
     "name": "#%%\n"
    }
   },
   "outputs": [],
   "source": [
    "def counted(f):\n",
    "    def wrapped(*args, **kwargs):\n",
    "        wrapped.calls += 1\n",
    "        return f(*args, **kwargs)\n",
    "    wrapped.calls = 0\n",
    "    return wrapped"
   ]
  },
  {
   "cell_type": "markdown",
   "metadata": {
    "pycharm": {
     "name": "#%% md\n"
    }
   },
   "source": [
    "Проблемы: надо посчитать долю наследства\n",
    "Для мигрантов матрицу размера 10к? (Каждое новое поколение имеет другое богатство)"
   ]
  },
  {
   "cell_type": "code",
   "execution_count": 691,
   "metadata": {
    "pycharm": {
     "name": "#%%\n"
    }
   },
   "outputs": [],
   "source": [
    "# class OLG_model:\n",
    "#     def __init__(self, G,T,N,epsilon, rho, sigma,Pi,r,price_M, price_E, tau_I,tau_Ins, tau_pi, tau_VA, tau_rho, beta, phi , theta , psi, omega, alpha, delta, A,initial, eta,steady_max_iter,steady_guess):\n",
    "#         \"\"\"\n",
    "#         OLG model\n",
    "#         :param G: number of generations, default is 110\n",
    "#         :param T: simulation time, default is 500\n",
    "#         :param N_female: population (G+T-1, T) matrix where N[g,t] is cohort size of generation g in period t\n",
    "#         :param N_male: population (G+T-1, T) matrix where N[g,t] is cohort size of generation g in period t\n",
    "#         :param epsilon_female: female cohort- and year-specific productivity\n",
    "#         :param epsilon_male: male cohort- and year-specific productivity\n",
    "#         :param rho_female: female cohort- and year-specific retirement rate\n",
    "#         :param rho_male: male cohort- and year-specific retirement rate\n",
    "#         :param sigma: pension rate (pension point value) for T periods\n",
    "#         :param Pi_female: survival probability\n",
    "#         :param Pi_male: survival probability\n",
    "#         :param Beq_female_to_female,Beq_female_to_male,Beq_male_to_female,Beq_male_to_male: bequest matrix\n",
    "#         :param r: rate of return for T periods\n",
    "#         :param price_M: import prices for T periods\n",
    "#         :param price_E: export prices for T periods\n",
    "#         :param tau_I: income tax for T periods\n",
    "#         :param tau_Ins: insurance tax for T periods\n",
    "#         :param tau_pi: profit tax for T periods\n",
    "#         :param tau_VA: value-added tax for T periods\n",
    "#         :param tau_rho: retirement tax for T periods\n",
    "#         :param beta: elasticity of intertemporal substitution\n",
    "#         :param phi: elasticity of intertemporal substitution\n",
    "#         :param theta: ?\n",
    "#         :param psi: ? investment cost\n",
    "#         :param omega: import share\n",
    "#         :param alpha: elasticity of capital\n",
    "#         :param delta: deprecation rate\n",
    "#         :param A_N: total factor productivity, non-export good\n",
    "#         :param A_E: total factor productivity, export goods\n",
    "#         \"\"\"\n",
    "\n",
    "#         ## Exogenous variables and parameters\n",
    "#         # Demography\n",
    "#         self.G, self.T,self.N,self.epsilon,self.Pi = G, T,N,epsilon,Pi\n",
    "#         # Retirement\n",
    "#         self.rho,self.sigma = rho, sigma\n",
    "#         # Prices\n",
    "#         self.r, self.price_M, self.price_E, self.omega = r, price_M, price_E, omega\n",
    "#         # Taxation\n",
    "#         self.tau_I, self.tau_pi, self.tau_VA,self.tau_Ins, self.tau_rho =  tau_I, tau_pi,tau_VA,tau_Ins, tau_rho\n",
    "#         # Utility\n",
    "#         self.beta, self.phi, self.theta  = beta, phi, theta\n",
    "#         # Production\n",
    "#         self.psi, self.alpha, self.delta, self.A = psi, alpha, delta, A\n",
    "\n",
    "#         self.a_initial = initial[\"a\"]\n",
    "\n",
    "\n",
    "\n",
    "#         self.eta = eta\n",
    "#         self.steady_max_iter = steady_max_iter\n",
    "\n",
    "#         # Endogenous variable\n",
    "#         # Initial guess\n",
    "#         self.price_N = np.array([initial[\"price_N\"] for _ in range(max_time)])\n",
    "#         self.K = np.array([[initial[\"K_N\"] for _ in range(max_time)], [initial[\"K_E\"] for _ in range(max_time)]])\n",
    "#         self.L = np.array([[initial[\"L_N\"] for _ in range(max_time)], [initial[\"L_E\"] for _ in range(max_time)]])\n",
    "#         self.I = np.array([[initial[\"I_N\"] for _ in range(max_time)], [initial[\"I_E\"] for _ in range(max_time)]])\n",
    "#         self.Gov = np.array([initial[\"Gov\"] for _ in range(max_time)])\n",
    "\n",
    "#         self.lmbda = np.array([[0.5 for _ in range(max_time)] for _ in range(2)])\n",
    "\n",
    "#         self.w = ((self.price_N *(1-self.alpha)*(self.K[0])**self.alpha *(self.A[0])**(1-self.alpha)*(self.L[0])**(-self.alpha))+\n",
    "#         (self.price_E *(1-self.alpha)*(self.K[1])**self.alpha *(self.A[1])**(1-self.alpha)*(self.L[1])**(-self.alpha)))/2\n",
    "\n",
    "#         self.price = (self.price_M)**self.omega * (self.price_N)**(1-self.omega)\n",
    "\n",
    "\n",
    "#         self.Y = self.K**self.alpha * (self.L*self.A)**(1-self.alpha)\n",
    "\n",
    "\n",
    "#         self.D = self.Y[0]/(1-self.omega)* self.price_N/self.price + self.Gov\n",
    "\n",
    "#         self.M = self.omega * self.D * self.price / self.price_M\n",
    "\n",
    "\n",
    "\n",
    "#         self.c =  np.array([[[0.002 if ((g >= t) and (g<=self.G+t-1)) else 0 for t in range(max_time)] for g in range(max_time)] for _ in range(2)])\n",
    "#         self.a = np.array([[[0.01 if ((g >= t) and (g<=self.G+t-1)) else 0 for t in range(max_time)] for g in range(max_time)] for _ in range(2)])\n",
    "#         self.gamma = np.array([[[0.9 if ((g >= t) and (g<=self.G+t-1)) else 0 for t in range(max_time)] for g in range(max_time)] for _ in range(2)])\n",
    "#         self.l = np.array([[[0.4 if ((g >= t) and (g<=self.G+t-1)) else 0 for t in range(max_time)] for g in range(max_time)] for _ in range(2)])\n",
    "\n",
    "#         Consumption = np.array([np.sum([self.c[s,g,t]*self.N[s,g,t] for g in range(max_time) for s in range(2)]) for t in range(max_time)])\n",
    "#         self.Consumption = Consumption\n",
    "\n",
    "#         Labor = np.array([np.sum([self.l[s,g,self.T]*self.N[s,g,self.T]*self.epsilon[s,g,self.T] for g in range(max_time) for s in range(2)]) for t in range(max_time)])\n",
    "#         self.Labor = Labor\n",
    "\n",
    "#         Assets =  np.array([np.sum([self.a[s,g,t]*self.N[s,g,t] for g in range(max_time) for s in range(2)]) for t in range(max_time)])\n",
    "#         self.Assets = Assets\n",
    "\n",
    "\n",
    "#         self.steady = np.array(list(steady_guess) + [Consumption[self.T], Labor[self.T], Assets[self.T]])\n",
    "#         self.steady_path = []\n",
    "\n",
    "#         self.steady_error = [0,0]\n",
    "#         self.steady_eta = [0.1, 0.1]\n",
    "\n",
    "\n",
    "\n",
    "#     def household(self, s, g, t):\n",
    "#         def labor_income_vector(self, s, g, start, end):\n",
    "#             return (1-self.tau_I[start:end]) * (1-(self.tau_rho[start:end] + self.tau_Ins[start:end])/(1+self.tau_rho[start:end] + self.tau_Ins[start:end])) * self.epsilon[s,g,start:end] * self.w[start:end]\n",
    "#         def cumulative_rate_of_return(self,start, end):\n",
    "#             if start <= end:\n",
    "#                 return np.prod(1+self.r[start:end]*(1-self.tau_I[start:end]))\n",
    "#             else:\n",
    "#                 return 1\n",
    "\n",
    "#         def get_initial_consumption(self, s, g, t_0):\n",
    "#             return self.phi * (self.a_initial[s,g] * cumulative_rate_of_return(self, t_0, g+1)+\n",
    "#                                np.sum(np.array([cumulative_rate_of_return(self,start, g+1) for start in range(t_0+1, g+2)])*\n",
    "#                                       (labor_income_vector(self, s, g, t_0, g+1)+self.rho[s,g,t_0:(g+1)]*self.sigma[t_0:(g+1)]\n",
    "#                                        )))/\\\n",
    "#                    np.sum(\n",
    "#                        np.array([cumulative_rate_of_return(self,start, g+1) for start in range(t_0+1, g+2)])*\n",
    "#                        (1+self.tau_VA[t_0:(g+1)])*(self.price[t_0:(g+1)])*\n",
    "#                        (\n",
    "#                                np.array([cumulative_rate_of_return(self,t_0+1, end) for end in range(t_0+1, g+2)])*\n",
    "#                                self.beta**np.array([i-t_0 for i in range(t_0, g+1)])*self.Pi[s,g,t_0:(g+1)]/self.Pi[s,g,t_0] * (1+self.tau_VA[t_0])*(self.price[t_0])/((1+self.tau_VA[t_0:(g+1)])*(self.price[t_0:(g+1)])) *\n",
    "#                                ((1+self.tau_VA[t_0:(g+1)])*(self.price[t_0:(g+1)])/((1+self.tau_VA[t_0])*self.price[t_0])*labor_income_vector(self, s, g,t_0, t_0+1)/labor_income_vector(self, s, g,t_0, g+1)\n",
    "#                                 )**((1-self.phi)*(1-self.theta)))**(1/self.theta)\n",
    "#                    )\n",
    "#         t_0 = max(g-self.G+1,0)\n",
    "#         bequest = 0\n",
    "#         if t==t_0:\n",
    "#             consumption = get_initial_consumption(self, s, g, t_0)\n",
    "#         elif t_0 < t <= g:\n",
    "#             consumption = self.c[s, g, t_0]*\\\n",
    "#                           (cumulative_rate_of_return(self, t_0+1, t+1)*\n",
    "#                            self.beta**(t-t_0)*self.Pi[s,g,t]/self.Pi[s,g,t_0] * (1+self.tau_VA[t_0])*self.price[t_0]/((1+self.tau_VA[t])*self.price[t]) *\n",
    "#                            ((1+self.tau_VA[t])*self.price[t]/((1+self.tau_VA[t_0])*self.price[t_0])*labor_income_vector(self, s, g,t_0, t_0+1)/labor_income_vector(self, s, g,t, t+1))**((1-self.phi)*(1-self.theta))\n",
    "#                            )**(1/self.theta)\n",
    "\n",
    "\n",
    "#         labor = 1- consumption/(self.phi/(1-self.phi)*(1/((1+self.tau_VA[t])*self.price[t]))*labor_income_vector(self, s, g, t, t+1)[0])\n",
    "#         if t == 0:\n",
    "#             assets = labor_income_vector(self, s, g, t, t+1)[0]*labor+self.rho[s,g,t]*self.sigma[t] - consumption*(1+self.tau_VA[t])*self.price[t]+self.a_initial[s,g]*(1+self.r[t]*(1-self.tau_I[t]))\n",
    "#         else:\n",
    "#             assets = labor_income_vector(self, s, g, t, t+1)[0]*labor+self.rho[s,g,t]*self.sigma[t] - consumption*(1+self.tau_VA[t])*self.price[t]+(self.a[s,g, t-1]+bequest)*(1+self.r[t]*(1-self.tau_I[t]))\n",
    "#         return consumption, labor, assets\n",
    "\n",
    "#     @counted\n",
    "#     def steady_state(self):\n",
    "#         def labor_income_vector(self, s, g, start, end):\n",
    "#             return (1-self.tau_I[start:end]) * (1-(self.tau_rho[start:end] + self.tau_Ins[start:end])/(1+self.tau_rho[start:end] + self.tau_Ins[start:end])) * self.epsilon[s,g,start:end] * self.w[start:end]\n",
    "#         A_growth = self.A[0,self.T]/self.A[0, self.T-1]\n",
    "#         N_growth = np.sum([self.N[s,g,self.T]*self.epsilon[s,g,self.T] for g in range(self.T, self.G+self.T) for s in range(2)])/\\\n",
    "#                    np.sum([self.N[s,g,self.T-1]*self.epsilon[s,g,self.T-1] for g in range(self.T-1, self.G+self.T-1) for s in range(2)])\n",
    "\n",
    "#         w_steady, price_steady, price_N_steady = self.steady[7:10]\n",
    "\n",
    "#         for t in range(self.T-self.G + 1, max_time):\n",
    "#             self.w[t] = w_steady* A_growth**(t - self.T)\n",
    "#             self.price[t] = price_steady\n",
    "#             self.price_N[t] = price_N_steady\n",
    "\n",
    "#         for s in range(2):\n",
    "#             initial_household = self.household(s, self.G+self.T-1, self.T) # первое родившееся поколение в период self.T\n",
    "#             self.c[s, self.G+self.T-1, self.T],self.l[s, self.G+self.T-1,self.T],self.a[s, self.G+self.T-1,self.T] = initial_household\n",
    "#             for t in range(self.T,self.G+self.T):\n",
    "#                 self.c[s, self.G+self.T-1, t],self.l[s, self.G+self.T-1,t],self.a[s, self.G+self.T-1,t] = self.household(s, self.G+self.T-1, t)\n",
    "#             for g in range(self.G+self.T-2, self.T-1, -1): # все поколения, живущие в периоде self.T\n",
    "\n",
    "#                 self.c[s, g, g-self.G + 1]  = initial_household[0] * A_growth**(self.G+self.T-1 - g)\n",
    "#                 self.l[s, g, g-self.G + 1]  = initial_household[1]\n",
    "#                 self.a[s, g,g-self.G + 1]  = labor_income_vector(self, s, g,g-self.G + 1, g-self.G + 2)[0]*self.l[s, g, g-self.G + 1]+self.rho[s,g,g-self.G + 1]*self.sigma[g-self.G + 1] - self.c[s, g, g-self.G + 1]*(1+self.tau_VA[g-self.G + 1])*self.price[g-self.G + 1]\n",
    "#                 for t in range(g-self.G + 2, g+1):\n",
    "#                     self.c[s, g, t],self.l[s, g, t],self.a[s, g, t] =  self.household(s, g, t)\n",
    "#         Consumption = np.sum([self.c[s,g,self.T]*self.N[s,g,self.T] for g in range(self.T, self.G+self.T) for s in range(2)])\n",
    "\n",
    "#         Labor = np.sum([self.l[s,g,self.T]*self.N[s,g,self.T]*self.epsilon[s,g,self.T] for g in range(self.T, self.G+self.T) for s in range(2)])\n",
    "\n",
    "#         Assets =  np.sum([self.a[s,g,self.T]*self.N[s,g,self.T] for g in range(self.T, self.G+self.T) for s in range(2)])\n",
    "\n",
    "#         if len(self.steady_path)==0:\n",
    "#             self.steady[10:13] = np.array([Consumption,  Labor, Assets])\n",
    "#         else:\n",
    "#             self.steady[10:13] = self.eta*np.array([Consumption,  Labor, Assets]) + (1-self.eta)*self.steady[10:13]\n",
    "# #         self.steady[10:13] = np.array([Consumption,  Labor, Assets])\n",
    "\n",
    "#         z_guess = self.steady[:10]\n",
    "        \n",
    "#         def equilibrium(z, self=self, objective = True):\n",
    "\n",
    "#             A_growth = self.A[0,self.T]/self.A[0, self.T-1]\n",
    "#             N_growth = np.sum([self.N[s,g,self.T]*self.epsilon[s,g,self.T] for g in range(self.T, self.G+self.T) for s in range(2)])/\\\n",
    "#                        np.sum([self.N[s,g,self.T-1]*self.epsilon[s,g,self.T-1] for g in range(self.T-1, self.G+self.T-1) for s in range(2)])\n",
    "\n",
    "\n",
    "#             system = [f\"{1-self.alpha}*price_N_steady * (K_N_steady)**{self.alpha} *{(self.A[0,self.T])**(1-self.alpha)}*  (L_N_steady)**({-self.alpha}) - w_steady\",\n",
    "#                       f\"price_steady - lmbda_steady *(1 - {self.psi/2} * ({A_growth*N_growth} -1)**2 - {self.psi}*{A_growth*N_growth} * ({A_growth*N_growth -1}))-{self.psi/(1+self.r[self.T+1])}*lmbda_steady  * ({A_growth*N_growth} -1)* ({A_growth*N_growth})**2\",\n",
    "#                       f\"{1/(1+self.r[self.T+1])}*(({1-self.tau_pi[self.T+1]}) *{self.alpha}*price_N_steady* (K_N_steady)**{self.alpha-1} * ({self.A[0,self.T]} *L_N_steady)**{1-self.alpha}+{self.tau_pi[self.T+1]} * {self.delta} * price_steady + lmbda_steady * ({1-self.delta})) - lmbda_steady\",\n",
    "#                       f\"({1-self.delta})* K_N_steady + I_N_steady*(1-{self.psi/2}*({A_growth*N_growth} -1)**2) - K_N_steady*{A_growth*N_growth}\",\n",
    "#                       f\"{1-self.alpha}*{self.price_E[self.T]} * (K_E_steady)**{self.alpha} *{(self.A[0,self.T])**(1-self.alpha)}*  (L_E_steady)**({-self.alpha}) - w_steady\",\n",
    "#                       f\"{1/(1+self.r[self.T+1])}*(({1-self.tau_pi[self.T+1]}) *{self.alpha}* {self.price_E[self.T+1]}* (K_E_steady)**{self.alpha-1} * ({self.A[1,self.T]} *L_E_steady)**{1-self.alpha}+{self.tau_pi[self.T+1]} * {self.delta} * price_steady + lmbda_steady * ({1-self.delta})) - lmbda_steady\",\n",
    "#                       f\"({1-self.delta})* K_E_steady + I_E_steady*(1-{self.psi/2}*({A_growth*N_growth} -1)**2) - K_E_steady*{A_growth*N_growth}\"\n",
    "#                       , f\"L_N_steady+L_E_steady - {self.steady[11]}\"\n",
    "#                       ,f\"price_N_steady*(K_N_steady**{self.alpha} * ({self.A[0, self.T]}*L_N_steady)**({1-self.alpha}) -{self.Gov[self.T]})- (1-{self.omega}) * price_steady * ({self.steady[10]}+I_N_steady+I_E_steady)\"\n",
    "#                       ,f\"price_steady - {self.price_M[self.T]**self.omega}*price_N_steady**({1-self.omega})\"\n",
    "#                       ]\n",
    "#             name_space = {label:value for label, value in zip((\"self\",\"I_N_steady\", \"K_N_steady\", \"L_N_steady\", \"I_E_steady\", \"K_E_steady\", \"L_E_steady\",\"lmbda_steady\", \"w_steady\", \"price_steady\", \"price_N_steady\"),[self]+list(z))}\n",
    "\n",
    "#             if objective:\n",
    "#                 sum_of_squares = \"+\".join([f\"({equation})**2\" for equation in system])\n",
    "#                 F = eval(sum_of_squares,{},name_space)\n",
    "#             else:\n",
    "#                 F = [eval(equation,{},name_space) for equation in system]\n",
    "#             return F\n",
    "#         def equilibrium_gradient(z, self=self, objective = True):\n",
    "\n",
    "#             A_growth = self.A[0,self.T]/self.A[0, self.T-1]\n",
    "#             N_growth = np.sum([self.N[s,g,self.T]*self.epsilon[s,g,self.T] for g in range(self.T, self.G+self.T) for s in range(2)])/\\\n",
    "#                        np.sum([self.N[s,g,self.T-1]*self.epsilon[s,g,self.T-1] for g in range(self.T-1, self.G+self.T-1) for s in range(2)])\n",
    "\n",
    "#             gradient = [\n",
    "#                 # \"I_N_steady\"\n",
    "#                 [\"0\",\n",
    "#                          \"0\",\n",
    "#                          \"0\",\n",
    "#                          f\"(1-{self.psi/2}*({A_growth*N_growth} -1)**2)\",\n",
    "#                          \"0\",\n",
    "#                          \"0\"\n",
    "#                          ,\"0\"\n",
    "#                          ,\"0\"\n",
    "#                          ,f\"({1-self.omega}) * price_steady\"\n",
    "#                          ,\"0\"\n",
    "#                 ],\n",
    "#                         # \"K_N_steady\"\n",
    "#                         [f\"{1-self.alpha}*{self.alpha}*price_N_steady * K_N_steady**{self.alpha-1} *{(self.A[0,self.T])**(1-self.alpha)}* L_N_steady**{-self.alpha}\",\n",
    "#                          \"0\",\n",
    "#                          f\"{1/(1+self.r[self.T+1])}*({1-self.tau_pi[self.T+1]} *{self.alpha}*{self.alpha-1}* price_N_steady* (K_N_steady)**{self.alpha-2} * ({self.A[0,self.T]} *L_N_steady)**{1-self.alpha})\",\n",
    "#                          f\"{1-self.delta} - {A_growth*N_growth}\",\n",
    "#                          \"0\",\n",
    "#                          \"0\",\n",
    "#                          \"0\"\n",
    "#                          ,\"0\"\n",
    "#                          ,f\"price_N_steady*{self.alpha}*K_N_steady**{self.alpha-1} * ({self.A[0, self.T]}*L_N_steady)**{1-self.alpha}\"\n",
    "#                          ,\"0\"\n",
    "#                         ],\n",
    "#                         # \"L_N_steady\"\n",
    "#                         [\n",
    "#                             f\"price_N_steady *{1-self.alpha} * (K_N_steady)**{self.alpha} *{(self.A[0,self.T])**(1-self.alpha)}*{-self.alpha} *(L_N_steady)**{-self.alpha-1}\",\n",
    "#                             \"0\",\n",
    "#                             f\"\"\"{1/(1+self.r[self.T+1])}*{1-self.tau_pi[self.T+1]} *{self.alpha}* price_N_steady*(K_N_steady)**{self.alpha-1} *({self.A[0,self.T]})**{1-self.alpha} *{1-self.alpha}*L_N_steady**{-self.alpha}\"\"\",\n",
    "#                             \"0\",\n",
    "#                             \"0\",\n",
    "#                             \"0\",\n",
    "#                             \"0\"\n",
    "#                             ,\"1\"\n",
    "#                             ,f\"price_N_steady*K_N_steady**{self.alpha} * ({self.A[0, self.T]})**{1-self.alpha}*{1-self.alpha}*L_N_steady**{-self.alpha}\"\n",
    "#                             ,\"0\"\n",
    "#                         ],\n",
    "#                         # I_E_steady\n",
    "#                         [\"0\",\n",
    "#                          \"0\",\n",
    "#                          \"0\",\n",
    "#                          \"0\",\n",
    "#                          \"0\",\n",
    "#                          \"0\",\n",
    "#                          f\"(1-{self.psi/2}*({A_growth*N_growth} -1)**2)\"\n",
    "#                          ,\"0\"\n",
    "#                          ,f\"({1-self.omega}) * price_steady\"\n",
    "#                          ,\"0\"\n",
    "#                         ],\n",
    "#                         # K_E_steady\n",
    "#                         [\"0\",\n",
    "#                          \"0\",\n",
    "#                          \"0\",\n",
    "#                          \"0\",\n",
    "#                          f\"{1-self.alpha}*{self.alpha}*{self.price_E[self.T]} * K_E_steady**{self.alpha-1} *{(self.A[1,self.T])**(1-self.alpha)}* L_E_steady**{-self.alpha}\",\n",
    "#                          f\"{1/(1+self.r[self.T+1])}*({1-self.tau_pi[self.T+1]} *{self.alpha}*{self.alpha-1}* {self.price_E[self.T]}* (K_E_steady)**{self.alpha-2} * ({self.A[1,self.T]} *L_E_steady)**{1-self.alpha})\",\n",
    "#                          f\"{1-self.delta} - {A_growth*N_growth}\"\n",
    "#                          ,\"0\"\n",
    "#                          ,\"0\"\n",
    "#                          ,\"0\"\n",
    "#                         ],\n",
    "#                         # L_E_steady\n",
    "#                         [\"0\",\n",
    "#                          \"0\",\n",
    "#                          \"0\",\n",
    "#                          \"0\",\n",
    "#                         f\"{self.price_E[self.T]} *{1-self.alpha} * (K_E_steady)**{self.alpha} *{(self.A[1,self.T])**(1-self.alpha)}*{-self.alpha} *(L_E_steady)**{-self.alpha-1}\",\n",
    "#                         f\"\"\"{1/(1+self.r[self.T+1])}*{1-self.tau_pi[self.T+1]} *{self.alpha}* {self.price_E[self.T]}*(K_E_steady)**{self.alpha-1} *({self.A[1,self.T]})**{1-self.alpha} *{1-self.alpha}*L_E_steady**{-self.alpha}\"\"\",\n",
    "#                         \"0\"\n",
    "#                         ,\"1\"\n",
    "#                         ,\"0\"\n",
    "#                         ,\"0\"\n",
    "#                         ],\n",
    "#                         # lmbda_steady\n",
    "#                         [\"0\",\n",
    "#                          f\"-(1 - {self.psi/2} * ({A_growth*N_growth} -1)**2 - {self.psi}*{A_growth*N_growth} * ({A_growth*N_growth} -1))-{self.psi/(1+self.r[self.T+1])}* ({A_growth*N_growth} -1)* {A_growth*N_growth}**2\",\n",
    "#                          f\"{1/(1+self.r[self.T+1])}*{1-self.delta} - 1\",\n",
    "#                          \"0\",\n",
    "#                          \"0\",\n",
    "#                          f\"{1/(1+self.r[self.T+1])}*{1-self.delta} - 1\",\n",
    "#                          \"0\"\n",
    "#                          ,\"0\"\n",
    "#                          ,\"0\"\n",
    "#                          ,\"0\"\n",
    "#                         ],\n",
    "#                         # w_steady\n",
    "#                         [\"-1\",\n",
    "#                          \"0\",\n",
    "#                          \"0\",\n",
    "#                          \"0\",\n",
    "#                          \"-1\",\n",
    "#                          \"0\",\n",
    "#                          \"0\"\n",
    "#                          ,\"0\"\n",
    "#                          ,\"0\"\n",
    "#                          ,\"0\"\n",
    "#                         ],\n",
    "#                         # price_steady\n",
    "#                         [\"0\",\n",
    "#                          \"1\",\n",
    "#                          f\"{1/(1+self.r[self.T+1])}*{self.tau_pi[self.T+1]} * {self.delta}\",\n",
    "#                          \"0\",\n",
    "#                          \"0\",\n",
    "#                          f\"{1/(1+self.r[self.T+1])}*{self.tau_pi[self.T+1]} * {self.delta}\",\n",
    "#                          \"0\"\n",
    "#                          ,\"0\"\n",
    "#                          ,f\"-(1-{self.omega}) * ({self.steady[10]}+I_N_steady+I_E_steady)\"\n",
    "#                          ,\"1\"\n",
    "#                          ],\n",
    "#                         # price_N_steady\n",
    "#                         [f\"{1-self.alpha}*(K_N_steady)**{self.alpha} *{(self.A[0,self.T])**(1-self.alpha)}*  (L_N_steady)**({-self.alpha})\",\n",
    "#                          \"0\",\n",
    "#                          f\"{1/(1+self.r[self.T+1])}*({1-self.tau_pi[self.T+1]}) *{self.alpha}* (K_N_steady)**{self.alpha-1} * ({self.A[0,self.T]} *L_N_steady)**{1-self.alpha}\",\n",
    "#                          \"0\",\n",
    "#                          \"0\",\n",
    "#                          \"0\",\n",
    "#                          \"0\"\n",
    "#                          ,\"0\"\n",
    "#                          ,f\"K_N_steady**{self.alpha} * ({self.A[0, self.T]}*L_N_steady)**({1-self.alpha}) -{self.Gov[self.T]}\"\n",
    "#                          ,f\"- {self.price_M[self.T]**self.omega}*{1-self.omega}*price_N_steady**({-self.omega})\"\n",
    "#                          ]]\n",
    "#             name_space = {label:value for label, value in zip((\"self\",\"I_N_steady\", \"K_N_steady\", \"L_N_steady\",\"I_E_steady\", \"K_E_steady\", \"L_E_steady\", \"lmbda_steady\", \"w_steady\", \"price_steady\", \"price_N_steady\"),[self]+list(z))}\n",
    "#             if objective:\n",
    "#                 target_system = equilibrium(z, self, False)\n",
    "#                 sum_of_gradient = [\"+\".join([f\"2*({outer})*({inner})\" for outer, inner in zip(target_system, row)]) for row in gradient]\n",
    "#                 J = [eval(equation,{},name_space) for equation in sum_of_gradient]\n",
    "#             else:\n",
    "#                 J = [[eval(equation,{},name_space) for equation in row] for row in gradient]\n",
    "#             return J\n",
    "            \n",
    "# #         obj_jit = jit(equilibrium)\n",
    "# #         obj_grad = equilibrium_gradient\n",
    "# #         obj_hess = jit(jacrev(jacfwd(obj_jit)))\n",
    "#         def eq_constraints(z, self=self, objective = True):\n",
    "\n",
    "#             A_growth = self.A[0,self.T]/self.A[0, self.T-1]\n",
    "#             N_growth = np.sum([self.N[s,g,self.T]*self.epsilon[s,g,self.T] for g in range(self.T, self.G+self.T) for s in range(2)])/\\\n",
    "#                        np.sum([self.N[s,g,self.T-1]*self.epsilon[s,g,self.T-1] for g in range(self.T-1, self.G+self.T-1) for s in range(2)])\n",
    "\n",
    "\n",
    "#             system = [\n",
    "#                       f\"price_steady - {self.price_M[self.T]**self.omega}*price_N_steady**({1-self.omega})\"\n",
    "# #                       ,f\"L_N_steady+L_E_steady - {self.steady[11]}\"\n",
    "# #                       ,f\"price_N_steady*(K_N_steady**{self.alpha} * ({self.A[0, self.T]}*L_N_steady)**({1-self.alpha}) -{self.Gov[self.T]})- (1-{self.omega}) * price_steady * ({self.steady[10]}+I_N_steady+I_E_steady)\"\n",
    "#                       ]\n",
    "#             name_space = {label:value for label, value in zip((\"self\",\"I_N_steady\", \"K_N_steady\", \"L_N_steady\", \"I_E_steady\", \"K_E_steady\", \"L_E_steady\",\"lmbda_steady\", \"w_steady\", \"price_steady\", \"price_N_steady\"),[self]+list(z))}\n",
    "\n",
    "#             if objective:\n",
    "#                 sum_of_squares = \"+\".join([f\"({equation})**2\" for equation in system])\n",
    "#                 F = eval(sum_of_squares,{},name_space)\n",
    "#             else:\n",
    "#                 F = [eval(equation,{},name_space) for equation in system]\n",
    "#             return F\n",
    "        \n",
    "#         obj_jit = jit(equilibrium)\n",
    "# #         con_eq_jit = jit(eq_constraints)\n",
    "\n",
    "#         # build the derivatives and jit them\n",
    "#         obj_grad = equilibrium_gradient  # objective gradient\n",
    "#         obj_hess = jit(jacrev(jacfwd(obj_jit)))# objective hessian\n",
    "        \n",
    "# #         con_eq_jac = jit(jacfwd(con_eq_jit))  # jacobian\n",
    "# #         con_eq_hess = jacrev(jacfwd(con_eq_jit)) # hessian\n",
    "# #         con_eq_hessvp = jit(lambda x, v: con_eq_hess(x) * v[0]) # hessian vector-product\n",
    "# #         cons = [\n",
    "# #             {'type': 'eq', 'fun': con_eq_jit, 'jac': con_eq_jac, 'hess': con_eq_hessvp}\n",
    "# #          ]\n",
    "        \n",
    "#         result = minimize_ipopt(obj_jit, jac=obj_grad, hess=obj_hess, x0=z_guess\n",
    "#                                 , options = {\"max_iter\":self.steady_max_iter, \"print_level\":0,\n",
    "#                                              \"check_derivatives_for_naninf\":\"yes\"}\n",
    "# #                                , constraints = cons\n",
    "#                                 , tol=1e-7)\n",
    "        \n",
    "        \n",
    "#         if result[\"success\"]:\n",
    "#             self.steady[:10] = self.eta*result[\"x\"] + (1-self.eta)*z_guess\n",
    "#             self.steady_max_iter = 1000\n",
    "#             eq_res = equilibrium(self.steady[:10], self, False)\n",
    "#         else:\n",
    "#             if result[\"status\"]==-1:\n",
    "#                 self.steady_max_iter += 1000\n",
    "#             self.steady[:10] = z_guess\n",
    "#             eq_res = equilibrium(z_guess, self, False)\n",
    "            \n",
    "# #             labor market\n",
    "#             if abs(eq_res[7])>10:\n",
    "#                 sign = np.sign(eq_res[7]) \n",
    "#                 if np.sign(self.steady_error[0]) != sign:\n",
    "#                     self.steady_eta[0] = self.steady_eta[0] / 2\n",
    "#                 self.steady[7] = (1+self.steady_eta[0])**(sign)*z_guess[7]\n",
    "            \n",
    "# #             goods market\n",
    "# #             if abs(eq_res[8])>10:\n",
    "# #                 sign = np.sign(eq_res[8]) \n",
    "# #                 if np.sign(self.steady_error[1]) != sign:\n",
    "# #                     self.steady_eta[1] = self.steady_eta[1] / 2\n",
    "# #                 self.steady[8] = (1+self.steady_eta[1]*2)**(-sign)*z_guess[8]\n",
    "        \n",
    "#         self.steady_error = eq_res[7], eq_res[8]\n",
    "                \n",
    "#         self.steady_path.append((result, np.array(self.steady)\n",
    "#                                  ,np.array(self.steady_error)\n",
    "#                                  ,np.array(self.steady_eta)\n",
    "#                                ))\n",
    "\n",
    "#     def create_guess(self):\n",
    "\n",
    "#         A_growth = self.A[0,self.T]/self.A[0, self.T-1]\n",
    "#         N_growth = np.sum([self.N[s,g,self.T]*self.epsilon[s,g,self.T] for g in range(self.T, self.G+self.T) for s in range(2)])/\\\n",
    "#                    np.sum([self.N[s,g,self.T-1]*self.epsilon[s,g,self.T-1] for g in range(self.T-1, self.G+self.T-1) for s in range(2)])\n",
    "\n",
    "#         I_N_steady, K_N_steady, L_N_steady,I_E_steady, K_E_steady, L_E_steady, lmbda_steady, w_steady, price_steady, price_N_steady = self.steady[:10]\n",
    "\n",
    "#         for t in range(self.T-self.G + 1, max_time):\n",
    "#             self.w[t] = w_steady* A_growth**(t - self.T)\n",
    "#             self.price[t] = price_steady\n",
    "#             self.price_N[t] = price_N_steady\n",
    "\n",
    "#             self.I[0,t] = I_N_steady*(A_growth*N_growth)**(t - self.T)\n",
    "#             self.K[0,t] = K_N_steady*(A_growth*N_growth)**(t - self.T)\n",
    "#             self.L[0,t] = L_N_steady*(N_growth)**(t - self.T)\n",
    "#             self.lmbda[0,t] = lmbda_steady\n",
    "\n",
    "#             self.I[1,t] = I_E_steady*(A_growth*N_growth)**(t - self.T)\n",
    "#             self.K[1,t] = K_E_steady*(A_growth*N_growth)**(t - self.T)\n",
    "#             self.L[1,t] = L_E_steady*(N_growth)**(t - self.T)\n",
    "#             self.lmbda[1,t] = lmbda_steady\n",
    "\n",
    "#         steady_start = self.T-self.G + 1\n",
    "#         self.price_N[:steady_start] = np.linspace(initial[\"price_N\"], self.price_N[steady_start], steady_start,endpoint=False)\n",
    "#         self.I[0,:steady_start] = np.linspace(initial[\"I_N\"], self.I[0,steady_start], steady_start,endpoint=False)\n",
    "#         self.K[0,:steady_start] = np.linspace(initial[\"K_N\"], self.K[0,steady_start], steady_start,endpoint=False)\n",
    "#         self.L[0,:steady_start] = np.linspace(initial[\"L_N\"], self.L[0,steady_start], steady_start,endpoint=False)\n",
    "#         # self.lmbda[0,:steady_start] = np.linspace(initial[\"price_N\"], self.lmbda[0,steady_start], steady_start,endpoint=False)\n",
    "\n",
    "#         self.I[1,:steady_start] = np.linspace(initial[\"I_E\"], self.I[1,steady_start], steady_start,endpoint=False)\n",
    "#         self.K[1,:steady_start] = np.linspace(initial[\"K_E\"], self.K[1,steady_start], steady_start,endpoint=False)\n",
    "#         self.L[1,:steady_start] = np.linspace(initial[\"L_E\"], self.L[1,steady_start], steady_start,endpoint=False)\n",
    "#         # self.lmbda[1,:steady_start] = np.linspace(initial[\"price_N\"], self.lmbda[1,steady_start], steady_start,endpoint=False)\n",
    "\n",
    "\n",
    "#         self.w[:steady_start] = ((self.price_N[:steady_start] *(1-self.alpha)*(self.K[0,:steady_start])**self.alpha *(self.A[0,:steady_start])**(1-self.alpha)*(self.L[0,:steady_start])**(-self.alpha))+\n",
    "#               (self.price_E[:steady_start] *(1-self.alpha)*(self.K[1,:steady_start])**self.alpha *(self.A[1,:steady_start])**(1-self.alpha)*(self.L[1,:steady_start])**(-self.alpha)))/2\n",
    "\n",
    "#         self.price[:steady_start] = (self.price_M[:steady_start])**self.omega * (self.price_N[:steady_start])**(1-self.omega)\n",
    "\n",
    "#     def update_guess(self):\n",
    "\n",
    "#         ## Endogenous variables\n",
    "\n",
    "#         def labor_demand_euler(params, S,  t):\n",
    "#             if S == 1: # export\n",
    "#                 sectoral_price = params.price_E[t]\n",
    "#             elif S==0: # non-export\n",
    "#                 sectoral_price = f\"self.price_N[{t}]\"\n",
    "#             return f\"({1-params.alpha})* {sectoral_price} * ({params.K[S,t]})**{params.alpha} *{(params.A[S,t])**(1-params.alpha)}*  (self.L[{S},{t}])**({-params.alpha}) - self.w[{t}]\"\n",
    "\n",
    "\n",
    "#         def investment_euler(params, S, t):\n",
    "#             return f\"self.price[{t}] - self.lmbda[{S},{t}] *(1 - {params.psi/2} * (self.I[{S},{t}]/{params.I[S,t-1]} -1)**2 - {params.psi}*self.I[{S},{t}]/{params.I[S,t-1]} * (self.I[{S},{t}]/{params.I[S,t-1]} -1))-{params.psi/(1+params.r[t+1])}*{params.lmbda[S,t+1]}  * ({params.I[S,t+1]}/self.I[{S},{t}] -1)* ({params.I[S,t+1]}/self.I[{S},{t}])**2\"\n",
    "\n",
    "\n",
    "#         def capital_euler(params, S, t):\n",
    "#             if S == 1: # export\n",
    "#                 sectoral_price = params.price_E[t+1]\n",
    "#             elif S==0: # non-export\n",
    "#                 sectoral_price = params.price_N[t+1]\n",
    "#             return f\"{1/(1+params.r[t+1])}*(({1-params.tau_pi[t+1]}) *{params.alpha}* {sectoral_price}* (self.K[{S},{t+1}])**{params.alpha-1} * ({params.A[S,t+1]} *{params.L[S,t+1]})**{1-params.alpha}+{params.tau_pi[t+1]} * {params.delta} * {params.price[t+1]} + {params.lmbda[S,t+1]} * ({1-params.delta})) - self.lmbda[{S},{t}]\"\n",
    "\n",
    "\n",
    "#         def capital_accomodation(params, S, t):\n",
    "#             return f\" ({1-params.delta})* {params.K[S,t]} + self.I[{S},{t}]*(1-{params.psi/2}*(self.I[{S},{t}]/{params.I[S,t-1] -1})**2) - self.K[{S},{t+1}]\"\n",
    "\n",
    "#         def labor_market_clearing(params, t):\n",
    "#             L = np.sum([params.l[s,g,t]*params.N[s,g,t]*params.epsilon[s,g,t] for g in range(t, params.G+t) for s in range(2)])\n",
    "#             return f\"self.L[0,{t}]+self.L[1,{t}] - {L}\"\n",
    "\n",
    "#         def goods_market_clearing(params, t):\n",
    "#             C = np.sum([params.c[s,g,t]*params.N[s,g,t] for g in range(t, params.G+t) for s in range(2)])\n",
    "#             return [f\"{params.K[0,t]}**{params.alpha} * ({params.A[0, t]}*self.L[{0},{t}])**(1-{params.alpha}) -{params.Gov[t]}- (1-{params.omega}) * self.price[{t}]/self.price_N[{t}] * ({C}+self.I[0,{t}]+self.I[1,{t}])\",\n",
    "#                 f\"self.price[{t}] - {params.price_M[t]**params.omega}*self.price_N[{t}]**({1-params.omega})\"]\n",
    "\n",
    "#         def labor_derivative(params, S, t):\n",
    "#             if S == 1: # export\n",
    "#                 sectoral_price = params.price_E[t]\n",
    "#             elif S==0: # non-export\n",
    "#                 sectoral_price = f\"self.price_N[{t}]\"\n",
    "#             nulls = [\"0\" for _ in range(4)]\n",
    "#             # порядок: I[S,t], K[S,t+1], L[S, t], lmbda[S,t]\n",
    "\n",
    "#             derivatives = [\"0\", \"0\",\n",
    "#                     f\"\"\"{(-params.alpha)*(1-params.alpha)*(params.A[S,t])**(1-params.alpha)}*{sectoral_price}*{params.K[S,t]}**{params.alpha}*self.L[{S},{t}]**{-1-params.alpha}\"\"\", \"0\"]\n",
    "#             if S == 1: # export\n",
    "#                 return nulls+derivatives+[\"-1\"]+[\"0\",\"0\"]\n",
    "#             elif S==0: # non-export\n",
    "#                 return derivatives+nulls+[\"-1\"]+[f\"\"\"{(1-params.alpha)*(params.A[S,t])**(1-params.alpha)}*{sectoral_price}*{params.K[S,t]}**{params.alpha}*self.L[{S},{t}]**{-params.alpha}\"\"\",\"0\"]\n",
    "#         def investment_derivative(params, S, t):\n",
    "#             nulls = [\"0\" for _ in range(4)]\n",
    "\n",
    "#             derivatives= [\n",
    "#                 f\"- self.lmbda[{S},{t}] *(1 - {params.psi}/{params.I[S,t-1]} * (self.I[{S},{t}]/{params.I[S,t-1]} -1)**2 - {params.psi}/{params.I[S,t-1]} * (self.I[{S},{t}]/{params.I[S,t-1]} -1)- {params.psi}*self.I[{S},{t}]/{params.I[S,t-1]**2})-{params.psi/(1+params.r[t+1])}*{params.lmbda[S,t+1]}  * ({params.I[S,t+1]}**2 * (-2)/self.I[{S},{t}]**3 * ({params.I[S,t+1]}/self.I[{S},{t}] -1)+self.I[{S},{t}]*(-1)/self.I[{S},{t}]**2 * ({params.I[S,t+1]}/self.I[{S},{t}])**2)\",\n",
    "#                     \"0\",\n",
    "#                     \"0\",\n",
    "#                     f\"-  (1 - {params.psi/2} * (self.I[{S},{t}]/{params.I[S,t-1]} -1)**2 - {params.psi}*self.I[{S},{t}]/{params.I[S,t-1]} * (self.I[{S},{t}]/{params.I[S,t-1]} -1))\"\n",
    "#                     ]\n",
    "#             if S == 1: # export\n",
    "#                 return nulls+derivatives+[\"0\",\"0\",\"1\"]\n",
    "#             elif S==0: # non-export\n",
    "#                 return derivatives+nulls+[\"0\",\"0\",\"1\"]\n",
    "\n",
    "\n",
    "#         def capital_derivative(params, S, t):\n",
    "#             if S == 1: # export\n",
    "#                 sectoral_price = params.price_E[t+1]\n",
    "#             elif S==0: # non-export\n",
    "#                 sectoral_price = params.price_N[t+1]\n",
    "#             nulls = [\"0\" for _ in range(4)]\n",
    "\n",
    "#             derivatives = [\"0\",f\"\"\"1/({1+params.r[t+1]}) * {(1-params.tau_pi[t+1])*params.alpha*(params.alpha-1)}*{sectoral_price} * {(params.A[S,t+1])**(1-params.alpha)} * (self.K[{S},{t+1}])**{params.alpha-2} * ({params.L[S,t+1]})**({1-params.alpha})\"\"\" ,\"0\", \"-1\"]\n",
    "#             if S == 1: # export\n",
    "#                 return nulls+derivatives+[\"0\",\"0\",\"0\"]\n",
    "#             elif S==0: # non-export\n",
    "#                 return derivatives+nulls+[\"0\",\"0\",\"0\"]\n",
    "\n",
    "#         def capital_accommodation_derivative(params, S, t):\n",
    "\n",
    "#             nulls = [\"0\" for _ in range(4)]\n",
    "#             derivatives = [f\"\"\"((1-{params.psi/2}*(self.I[{S},{t}]/{params.I[S,t-1]} - 1))**2-self.I[{S},{t}] * ({-params.psi}/{params.I[S,t-1]} * (self.I[{S},{t}]/{params.I[S,t-1]} - 1)))\"\"\",\"-1\",\"0\",\"0\"]\n",
    "#             if S == 1: # export\n",
    "#                 return nulls+derivatives+[\"0\",\"0\",\"0\"]\n",
    "#             elif S==0: # non-export\n",
    "#                 return derivatives+nulls+[\"0\",\"0\",\"0\"]\n",
    "\n",
    "\n",
    "#         def labor_market_clearing_derivative():\n",
    "#             return [\"0\",\"0\",\"1\",\"0\",\"0\",\"0\",\"1\",\"0\",\"0\",\"0\",\"0\"]\n",
    "\n",
    "#         def goods_market_clearing_derivative(params, t):\n",
    "#             C = np.sum([params.c[s,g,t]*params.N[s,g,t] for g in range(t, params.G+t) for s in range(2)])\n",
    "#             return [f\"- (1-{params.omega}) * self.price[{t}]/self.price_N[{t}]\",\n",
    "#                    \"0\",\n",
    "#                    f\"({1-params.alpha})*self.K[{0},{t}]**{params.alpha} * {params.A[0, t]}**{1-params.alpha} *self.L[{0},{t}]**(-{params.alpha})\",\n",
    "#                    \"0\",\n",
    "#                    f\"- (1-{params.omega}) * self.price[{t}]/self.price_N[{t}]\",\n",
    "#                    \"0\",\n",
    "#                    \"0\",\n",
    "#                    \"0\",\n",
    "#                    \"0\",\n",
    "#                    f\"-(1-{params.omega})*(-1) * self.price[{t}]/self.price_N[{t}]**2 * ({C}+self.I[0,{t}]+self.I[1,{t}])\",\n",
    "#                    f\"-(1-{params.omega}) /self.price_N[{t}] * ({C}+self.I[0,{t}]+self.I[1,{t}])\"\n",
    "#                    ]\n",
    "#         def price_derivative(params,t):\n",
    "#             return [\"0\",\n",
    "#                    \"0\",\n",
    "#                    \"0\",\n",
    "#                    \"0\",\n",
    "#                    \"0\",\n",
    "#                    \"0\",\n",
    "#                    \"0\",\n",
    "#                    \"0\",\n",
    "#                    \"0\",\n",
    "#                    f\" -({1-params.omega})* {params.price_M[t]**params.omega}*self.price_N[{t}]**({-params.omega})\",\n",
    "#                     \"1\"]\n",
    "\n",
    "#         def production_jacobian(z,self, t):\n",
    "#             self.I[:,t] = z[0],z[4]\n",
    "#             self.K[:,t+1] = z[1],z[5]\n",
    "#             self.L[:,t] = z[2],z[6]\n",
    "#             self.lmbda[:,t] = z[3],z[7]\n",
    "#             self.w[t] = z[8]\n",
    "#             self.price_N[t] = z[9]\n",
    "#             self.price[t] = z[10]\n",
    "\n",
    "#             system = [[labor_derivative(self, S, t), investment_derivative(self, S, t), capital_derivative(self, S, t), capital_accommodation_derivative(self, S, t)] for S in range(2)]\n",
    "#             system = list(itertools.chain(*(system)))+[labor_market_clearing_derivative(),goods_market_clearing_derivative(self, t), price_derivative(self,t)]\n",
    "#             system = list(np.array(system).transpose())\n",
    "#             sum_of_squares = [\"+\".join([f\"2*({equation})\" for equation in column]) for column in system]\n",
    "#             # J = [[eval(equation,{},{\"self\":self}) for equation in row] for row in system]\n",
    "#             J = [eval(equation,{},{\"self\":self}) for equation in sum_of_squares]\n",
    "#             return J\n",
    "\n",
    "\n",
    "\n",
    "#         def production(z,self, t):\n",
    "#             self.I[:,t] = z[0],z[4]\n",
    "#             self.K[:,t+1] = z[1],z[5]\n",
    "#             self.L[:,t] = z[2],z[6]\n",
    "#             self.lmbda[:,t] = z[3],z[7]\n",
    "#             self.w[t] = z[8]\n",
    "#             self.price_N[t] = z[9]\n",
    "#             self.price[t] = z[10]\n",
    "\n",
    "#             production_system = [[labor_demand_euler(self, S, t),\n",
    "#                           investment_euler(self, S, t),\n",
    "#                           capital_euler(self,S,t),\n",
    "#                           capital_accomodation(self,S,t)] for S in range(2)]\n",
    "\n",
    "#             labor_market = labor_market_clearing(self, t)\n",
    "#             goods_market = goods_market_clearing(self, t)\n",
    "\n",
    "#             system = list(itertools.chain(*(production_system)))+[labor_market] + goods_market\n",
    "#             sum_of_squares = \"+\".join([f\"({equation})**2\" for equation in system])\n",
    "#             # F = [eval(equation,{},{\"self\":self}) for equation in system]\n",
    "#             F = eval(sum_of_squares,{},{\"self\":self})\n",
    "#             return F\n",
    "#         # def production(z,self, t, S):\n",
    "#         #     self.I[S,t],self.K[S,t+1],self.L[S,t],self.lmbda[S,t] = z\n",
    "#         #\n",
    "#         #     system = [labor_demand_euler(self, S, t)]+[investment_euler(self, S, t)]+[capital_euler(self,S,t)]+[capital_accomodation(self,S,t)]\n",
    "#         #     F = [eval(equation,{},{\"self\":self}) for equation in system]\n",
    "#         #     return F\n",
    "\n",
    "#         # def market_clearing(z, self, t):\n",
    "#         #     self.w[t], self.price_N[t], self.price[t] = z\n",
    "#         #     system = [labor_market_clearing(self,t)]+goods_market_clearing(self, t)\n",
    "#         #     F = [eval(equation,{},{\"self\":self}) for equation in system]\n",
    "#         #     return F\n",
    "\n",
    "\n",
    "\n",
    "#         # Households (analytical solution)\n",
    "#         for s in range(2):\n",
    "#             for t in range(self.T):\n",
    "#                 for g in range(t, self.G+t):\n",
    "#                     self.c[s, g, t],self.l[s, g, t],self.a[s, g, t]  = self.household(s,g,t)\n",
    "#         for t in range(self.T):\n",
    "#             z_guess = [self.I[0,t],self.K[0,t+1],self.L[0,t],self.lmbda[0,t], self.I[1,t],self.K[1,t+1],self.L[1,t],self.lmbda[1,t],self.w[t], self.price_N[t], self.price[t]]\n",
    "#             # z = fsolve(production,z_guess, fprime=production_jacobian,maxfev=500,\n",
    "#             #        args = (self, t))\n",
    "\n",
    "#             # result = minimize_ipopt(production, z_guess, args = (self, t))#,jac = production_jacobian)\n",
    "#             z = result[\"x\"]\n",
    "#             # z = np.array(z_guess) * (1-self.eta) + np.array(z_update) * (self.eta)\n",
    "#             self.I[:,t] = z[0],z[4]\n",
    "#             self.K[:,t+1] = z[1],z[5]\n",
    "#             self.L[:,t] = z[2],z[6]\n",
    "#             self.lmbda[:,t] = z[3],z[7]\n",
    "#             self.w[t] = z[8]\n",
    "#             self.price_N[t] = z[9]\n",
    "#             self.price[t] = z[10]\n",
    "#             # Market clearing (analytical solution)\n",
    "#             self.Y = self.K**self.alpha * (self.L*self.A)**(1-self.alpha)\n",
    "#             self.D = self.I.sum(axis = 0)+(self.N[:,:self.c.shape[1],:]*self.c[:,:self.c.shape[1],:]).sum(axis=0).sum(axis =0)\n",
    "#             self.M =  self.omega * self.D * self.price / self.price_M\n"
   ]
  },
  {
   "cell_type": "code",
   "execution_count": 1422,
   "metadata": {},
   "outputs": [],
   "source": [
    "class OLG_model:\n",
    "    def __init__(self, G,T,N,epsilon, rho, sigma,Pi,r,price_M, price_E, tau_I,tau_Ins, tau_pi, tau_VA, tau_rho, beta, phi , theta , psi, omega, alpha, delta, A,initial, eta,steady_max_iter,steady_guess):\n",
    "        \"\"\"\n",
    "        OLG model\n",
    "        :param G: number of generations, default is 110\n",
    "        :param T: simulation time, default is 500\n",
    "        :param N_female: population (G+T-1, T) matrix where N[g,t] is cohort size of generation g in period t\n",
    "        :param N_male: population (G+T-1, T) matrix where N[g,t] is cohort size of generation g in period t\n",
    "        :param epsilon_female: female cohort- and year-specific productivity\n",
    "        :param epsilon_male: male cohort- and year-specific productivity\n",
    "        :param rho_female: female cohort- and year-specific retirement rate\n",
    "        :param rho_male: male cohort- and year-specific retirement rate\n",
    "        :param sigma: pension rate (pension point value) for T periods\n",
    "        :param Pi_female: survival probability\n",
    "        :param Pi_male: survival probability\n",
    "        :param Beq_female_to_female,Beq_female_to_male,Beq_male_to_female,Beq_male_to_male: bequest matrix\n",
    "        :param r: rate of return for T periods\n",
    "        :param price_M: import prices for T periods\n",
    "        :param price_E: export prices for T periods\n",
    "        :param tau_I: income tax for T periods\n",
    "        :param tau_Ins: insurance tax for T periods\n",
    "        :param tau_pi: profit tax for T periods\n",
    "        :param tau_VA: value-added tax for T periods\n",
    "        :param tau_rho: retirement tax for T periods\n",
    "        :param beta: elasticity of intertemporal substitution\n",
    "        :param phi: elasticity of intertemporal substitution\n",
    "        :param theta: ?\n",
    "        :param psi: ? investment cost\n",
    "        :param omega: import share\n",
    "        :param alpha: elasticity of capital\n",
    "        :param delta: deprecation rate\n",
    "        :param A_N: total factor productivity, non-export good\n",
    "        :param A_E: total factor productivity, export goods\n",
    "        \"\"\"\n",
    "\n",
    "        ## Exogenous variables and parameters\n",
    "        # Demography\n",
    "        self.G, self.T,self.N,self.epsilon,self.Pi = G, T,N,epsilon,Pi\n",
    "        # Retirement\n",
    "        self.rho,self.sigma = rho, sigma\n",
    "        # Prices\n",
    "        self.r, self.price_M, self.price_E, self.omega = r, price_M, price_E, omega\n",
    "        # Taxation\n",
    "        self.tau_I, self.tau_pi, self.tau_VA,self.tau_Ins, self.tau_rho =  tau_I, tau_pi,tau_VA,tau_Ins, tau_rho\n",
    "        # Utility\n",
    "        self.beta, self.phi, self.theta  = beta, phi, theta\n",
    "        # Production\n",
    "        self.psi, self.alpha, self.delta, self.A = psi, alpha, delta, A\n",
    "\n",
    "        self.a_initial = initial[\"a\"]\n",
    "\n",
    "\n",
    "\n",
    "        self.eta = eta\n",
    "        self.steady_max_iter = steady_max_iter\n",
    "\n",
    "        # Endogenous variable\n",
    "        # Initial guess\n",
    "        self.price_N = np.array([initial[\"price_N\"] for _ in range(max_time)])\n",
    "        self.K = np.array([[initial[\"K_N\"] for _ in range(max_time)], [initial[\"K_E\"] for _ in range(max_time)]])\n",
    "        self.L = np.array([[initial[\"L_N\"] for _ in range(max_time)], [initial[\"L_E\"] for _ in range(max_time)]])\n",
    "        self.I = np.array([[initial[\"I_N\"] for _ in range(max_time)], [initial[\"I_E\"] for _ in range(max_time)]])\n",
    "        self.Gov = np.array([initial[\"Gov\"] for _ in range(max_time)])\n",
    "\n",
    "        self.lmbda = np.array([[0.5 for _ in range(max_time)] for _ in range(2)])\n",
    "\n",
    "        self.w = ((self.price_N *(1-self.alpha)*(self.K[0])**self.alpha *(self.A[0])**(1-self.alpha)*(self.L[0])**(-self.alpha))+\n",
    "        (self.price_E *(1-self.alpha)*(self.K[1])**self.alpha *(self.A[1])**(1-self.alpha)*(self.L[1])**(-self.alpha)))/2\n",
    "\n",
    "        self.price = (self.price_M)**self.omega * (self.price_N)**(1-self.omega)\n",
    "\n",
    "\n",
    "        self.Y = self.K**self.alpha * (self.L*self.A)**(1-self.alpha)\n",
    "\n",
    "\n",
    "        self.D = self.Y[0]/(1-self.omega)* self.price_N/self.price + self.Gov\n",
    "\n",
    "        self.M = self.omega * self.D * self.price / self.price_M\n",
    "\n",
    "\n",
    "\n",
    "        self.c =  np.array([[[0.002 if ((g >= t) and (g<=self.G+t-1)) else 0 for t in range(max_time)] for g in range(max_time)] for _ in range(2)])\n",
    "        self.a = np.array([[[0.01 if ((g >= t) and (g<=self.G+t-1)) else 0 for t in range(max_time)] for g in range(max_time)] for _ in range(2)])\n",
    "        self.gamma = np.array([[[0.9 if ((g >= t) and (g<=self.G+t-1)) else 0 for t in range(max_time)] for g in range(max_time)] for _ in range(2)])\n",
    "        self.l = np.array([[[0.4 if ((g >= t) and (g<=self.G+t-1)) else 0 for t in range(max_time)] for g in range(max_time)] for _ in range(2)])\n",
    "\n",
    "        Consumption = np.array([np.sum([self.c[s,g,t]*self.N[s,g,t] for g in range(max_time) for s in range(2)]) for t in range(max_time)])\n",
    "        self.Consumption = Consumption\n",
    "\n",
    "        Labor = np.array([np.sum([self.l[s,g,self.T]*self.N[s,g,self.T]*self.epsilon[s,g,self.T] for g in range(max_time) for s in range(2)]) for t in range(max_time)])\n",
    "        self.Labor = Labor\n",
    "\n",
    "        Assets =  np.array([np.sum([self.a[s,g,t]*self.N[s,g,t] for g in range(max_time) for s in range(2)]) for t in range(max_time)])\n",
    "        self.Assets = Assets\n",
    "\n",
    "\n",
    "        self.steady = np.array(list(steady_guess) + [Consumption[self.T], Labor[self.T], Assets[self.T]])\n",
    "        self.steady_path = []\n",
    "        \n",
    "        self.A_growth = self.A[0,self.T]/self.A[0, self.T-1]\n",
    "        self.N_growth = np.sum([self.N[s,g,self.T]*self.epsilon[s,g,self.T] for g in range(self.T, self.G+self.T) for s in range(2)])/\\\n",
    "                   np.sum([self.N[s,g,self.T-1]*self.epsilon[s,g,self.T-1] for g in range(self.T-1, self.G+self.T-1) for s in range(2)])\n",
    "        \n",
    "\n",
    "        self.lmbda_to_price = 1/((1 - self.psi/2 * (self.A_growth*self.N_growth -1)**2 - self.psi*self.A_growth*self.N_growth * (self.A_growth*self.N_growth -1))+self.psi/(1+self.r[self.T+1]) * (self.A_growth*self.N_growth -1)* (self.A_growth*self.N_growth)**2)\n",
    "        self.investment_to_K  = (self.A_growth*self.N_growth-1+self.delta) / (1-self.psi/2*(self.A_growth*self.N_growth -1)**2)\n",
    "\n",
    "          \n",
    "\n",
    "\n",
    "\n",
    "    def household(self, s, g, t):\n",
    "        def labor_income_vector(self, s, g, start, end):\n",
    "            return (1-self.tau_I[start:end]) * (1-(self.tau_rho[start:end] + self.tau_Ins[start:end])/(1+self.tau_rho[start:end] + self.tau_Ins[start:end])) * self.epsilon[s,g,start:end] * self.w[start:end]\n",
    "        def cumulative_rate_of_return(self,start, end):\n",
    "            if start <= end:\n",
    "                return np.prod(1+self.r[start:end]*(1-self.tau_I[start:end]))\n",
    "            else:\n",
    "                return 1\n",
    "\n",
    "        def get_initial_consumption(self, s, g, t_0):\n",
    "            return self.phi * (self.a_initial[s,g] * cumulative_rate_of_return(self, t_0, g+1)+\n",
    "                               np.sum(np.array([cumulative_rate_of_return(self,start, g+1) for start in range(t_0+1, g+2)])*\n",
    "                                      (labor_income_vector(self, s, g, t_0, g+1)+self.rho[s,g,t_0:(g+1)]*self.sigma[t_0:(g+1)]\n",
    "                                       )))/\\\n",
    "                   np.sum(\n",
    "                       np.array([cumulative_rate_of_return(self,start, g+1) for start in range(t_0+1, g+2)])*\n",
    "                       (1+self.tau_VA[t_0:(g+1)])*(self.price[t_0:(g+1)])*\n",
    "                       (\n",
    "                               np.array([cumulative_rate_of_return(self,t_0+1, end) for end in range(t_0+1, g+2)])*\n",
    "                               self.beta**np.array([i-t_0 for i in range(t_0, g+1)])*self.Pi[s,g,t_0:(g+1)]/self.Pi[s,g,t_0] * (1+self.tau_VA[t_0])*(self.price[t_0])/((1+self.tau_VA[t_0:(g+1)])*(self.price[t_0:(g+1)])) *\n",
    "                               ((1+self.tau_VA[t_0:(g+1)])*(self.price[t_0:(g+1)])/((1+self.tau_VA[t_0])*self.price[t_0])*labor_income_vector(self, s, g,t_0, t_0+1)/labor_income_vector(self, s, g,t_0, g+1)\n",
    "                                )**((1-self.phi)*(1-self.theta)))**(1/self.theta)\n",
    "                   )\n",
    "        t_0 = max(g-self.G+1,0)\n",
    "        bequest = 0\n",
    "        if t==t_0:\n",
    "            consumption = get_initial_consumption(self, s, g, t_0)\n",
    "        elif t_0 < t <= g:\n",
    "            consumption = self.c[s, g, t_0]*\\\n",
    "                          (cumulative_rate_of_return(self, t_0+1, t+1)*\n",
    "                           self.beta**(t-t_0)*self.Pi[s,g,t]/self.Pi[s,g,t_0] * (1+self.tau_VA[t_0])*self.price[t_0]/((1+self.tau_VA[t])*self.price[t]) *\n",
    "                           ((1+self.tau_VA[t])*self.price[t]/((1+self.tau_VA[t_0])*self.price[t_0])*labor_income_vector(self, s, g,t_0, t_0+1)/labor_income_vector(self, s, g,t, t+1))**((1-self.phi)*(1-self.theta))\n",
    "                           )**(1/self.theta)\n",
    "\n",
    "\n",
    "        labor = 1- consumption/(self.phi/(1-self.phi)*(1/((1+self.tau_VA[t])*self.price[t]))*labor_income_vector(self, s, g, t, t+1)[0])\n",
    "        if t == 0:\n",
    "            assets = labor_income_vector(self, s, g, t, t+1)[0]*labor+self.rho[s,g,t]*self.sigma[t] - consumption*(1+self.tau_VA[t])*self.price[t]+self.a_initial[s,g]*(1+self.r[t]*(1-self.tau_I[t]))\n",
    "        else:\n",
    "            assets = labor_income_vector(self, s, g, t, t+1)[0]*labor+self.rho[s,g,t]*self.sigma[t] - consumption*(1+self.tau_VA[t])*self.price[t]+(self.a[s,g, t-1]+bequest)*(1+self.r[t]*(1-self.tau_I[t]))\n",
    "        return consumption, labor, assets\n",
    "\n",
    "    @counted\n",
    "    def steady_state(self):\n",
    "        def labor_income_vector(self, s, g, start, end):\n",
    "            return (1-self.tau_I[start:end]) * (1-(self.tau_rho[start:end] + self.tau_Ins[start:end])/(1+self.tau_rho[start:end] + self.tau_Ins[start:end])) * self.epsilon[s,g,start:end] * self.w[start:end]\n",
    "\n",
    "        w_steady, price_steady, price_N_steady = self.steady[6:9]\n",
    "\n",
    "        for t in range(self.T-self.G + 1, max_time):\n",
    "            self.w[t] = w_steady* self.A_growth**(t - self.T)\n",
    "            self.price[t] = price_steady\n",
    "            self.price_N[t] = price_N_steady\n",
    "\n",
    "        for s in range(2):\n",
    "            initial_household = self.household(s, self.G+self.T-1, self.T) # первое родившееся поколение в период self.T\n",
    "            self.c[s, self.G+self.T-1, self.T],self.l[s, self.G+self.T-1,self.T],self.a[s, self.G+self.T-1,self.T] = initial_household\n",
    "            for t in range(self.T,self.G+self.T):\n",
    "                self.c[s, self.G+self.T-1, t],self.l[s, self.G+self.T-1,t],self.a[s, self.G+self.T-1,t] = self.household(s, self.G+self.T-1, t)\n",
    "            for g in range(self.G+self.T-2, self.T-1, -1): # все поколения, живущие в периоде self.T\n",
    "\n",
    "                self.c[s, g, g-self.G + 1]  = initial_household[0] * self.A_growth**(self.G+self.T-1 - g)\n",
    "                self.l[s, g, g-self.G + 1]  = initial_household[1]\n",
    "                self.a[s, g,g-self.G + 1]  = labor_income_vector(self, s, g,g-self.G + 1, g-self.G + 2)[0]*self.l[s, g, g-self.G + 1]+self.rho[s,g,g-self.G + 1]*self.sigma[g-self.G + 1] - self.c[s, g, g-self.G + 1]*(1+self.tau_VA[g-self.G + 1])*self.price[g-self.G + 1]\n",
    "                for t in range(g-self.G + 2, g+1):\n",
    "                    self.c[s, g, t],self.l[s, g, t],self.a[s, g, t] =  self.household(s, g, t)\n",
    "        Consumption = np.sum([self.c[s,g,self.T]*self.N[s,g,self.T] for g in range(self.T, self.G+self.T) for s in range(2)])\n",
    "\n",
    "        Labor = np.sum([self.l[s,g,self.T]*self.N[s,g,self.T]*self.epsilon[s,g,self.T] for g in range(self.T, self.G+self.T) for s in range(2)])\n",
    "\n",
    "        Assets =  np.sum([self.a[s,g,self.T]*self.N[s,g,self.T] for g in range(self.T, self.G+self.T) for s in range(2)])\n",
    "\n",
    "        if len(self.steady_path)==0:\n",
    "            self.steady[-3:] = np.array([Consumption,  Labor, Assets])\n",
    "        else:\n",
    "            self.steady[-3:] = self.eta*np.array([Consumption,  Labor, Assets]) + (1-self.eta)*self.steady[-3:]\n",
    "\n",
    "        z_guess = self.steady[:6]\n",
    "        \n",
    "        def equilibrium(z, self=self, objective = True):\n",
    "\n",
    "\n",
    "  \n",
    "            system = [\n",
    "                f\"{1-self.alpha}*price_N_steady * (k_N_steady/L_N_share)**{self.alpha} *{self.A[0,self.T]} - w_steady\"\n",
    "                      ,f\"{1/(1+self.r[self.T+1])}*(({1-self.tau_pi[self.T+1]}) *{self.alpha}*price_N_steady* (k_N_steady/L_N_share)**{self.alpha-1} +{self.tau_pi[self.T+1]} * {self.delta} + {self.lmbda_to_price}*price_steady * ({1-self.delta})) - {self.lmbda_to_price}*price_steady\"\n",
    "                      ,f\"{1-self.alpha}*{self.price_E[self.T]} * (k_E_steady/(1-L_N_share)*{self.A[0,self.T]/self.A[1,self.T]} )**{self.alpha} *{self.A[1,self.T]} - w_steady\"\n",
    "                      ,f\"{1/(1+self.r[self.T+1])}*({1-self.tau_pi[self.T+1]}*{self.alpha}* {self.price_E[self.T+1]}* (k_E_steady/(1-L_N_share)*{self.A[0,self.T]/self.A[1,self.T]})**{self.alpha-1} +{self.tau_pi[self.T+1]} * {self.delta} +{self.lmbda_to_price}*price_steady * {1-self.delta}) - {self.lmbda_to_price}*price_steady\"\n",
    "                      ,f\"price_N_steady*((k_N_steady/L_N_share)**{self.alpha} * L_N_share -{self.Gov[self.T]/(self.A[0,self.T]*self.steady[-2])})- (1-{self.omega}) * price_steady * ({self.steady[-3]/(self.A[0,self.T]*self.steady[-2])}+{self.investment_to_K}*(k_N_steady+k_E_steady))\"\n",
    "                      ,f\"price_steady - {self.price_M[self.T]**self.omega}*price_N_steady**({1-self.omega})\"\n",
    "                      ]\n",
    "            name_space = {label:value for label, value in zip((\"self\", \"k_N_steady\", \"L_N_share\",\n",
    "                                                               \"k_E_steady\", \"w_steady\",\n",
    "                                                               \"price_steady\", \"price_N_steady\"),[self]+list(z))}\n",
    "\n",
    "            if objective:\n",
    "                sum_of_squares = \"+\".join([f\"({equation})**2\" for equation in system])\n",
    "                F = eval(sum_of_squares,{},name_space)\n",
    "            else:\n",
    "                F = [eval(equation,{},name_space) for equation in system]\n",
    "            return F\n",
    "        def equilibrium_gradient(z, self=self, objective = True):\n",
    "\n",
    "            self.A_growth = self.A[0,self.T]/self.A[0, self.T-1]\n",
    "            self.N_growth = np.sum([self.N[s,g,self.T]*self.epsilon[s,g,self.T] for g in range(self.T, self.G+self.T) for s in range(2)])/\\\n",
    "                       np.sum([self.N[s,g,self.T-1]*self.epsilon[s,g,self.T-1] for g in range(self.T-1, self.G+self.T-1) for s in range(2)])\n",
    "\n",
    "            name_space = {label:value for label, value in zip((\"self\",\"I_N_steady\", \"K_N_steady\", \"L_N_steady\",\"I_E_steady\", \"K_E_steady\", \"lmbda_steady\", \"w_steady\", \"price_steady\", \"price_N_steady\"),[self]+list(z))}\n",
    "            if objective:\n",
    "                target_system = equilibrium(z, self, False)\n",
    "                sum_of_gradient = [\"+\".join([f\"2*({outer})*({inner})\" for outer, inner in zip(target_system, row)]) for row in gradient]\n",
    "                J = [eval(equation,{},name_space) for equation in sum_of_gradient]\n",
    "            else:\n",
    "                J = [[eval(equation,{},name_space) for equation in row] for row in gradient]\n",
    "            return J\n",
    "            \n",
    "\n",
    "        \n",
    "        obj_jit = jit(equilibrium)\n",
    "        obj_grad = jit(jacfwd(obj_jit))\n",
    "        obj_hess = jit(jacrev(jacfwd(obj_jit)))\n",
    "        \n",
    "        \n",
    "        result = minimize_ipopt(obj_jit, jac=obj_grad, hess=obj_hess, x0=z_guess\n",
    "                                , options = {\"max_iter\":self.steady_max_iter, \"print_level\":0,\n",
    "                                             \"check_derivatives_for_naninf\":\"yes\"}\n",
    "                                , tol=1e-7)\n",
    "        \n",
    "        \n",
    "        if result[\"success\"] or result[\"status\"]==1:\n",
    "            self.steady[:6] = self.eta*result[\"x\"] + (1-self.eta)*z_guess\n",
    "            self.steady_max_iter = 1000\n",
    "            eq_res = equilibrium(self.steady[:6], self, False)\n",
    "        else:\n",
    "            if result[\"status\"]==-1:\n",
    "                self.steady_max_iter += 1000\n",
    "            self.steady[:6] = z_guess\n",
    "            eq_res = equilibrium(z_guess, self, False)\n",
    "            \n",
    "#             labor market\n",
    "#             if abs(eq_res[7])>10:\n",
    "#                 sign = np.sign(eq_res[7]) \n",
    "#                 if np.sign(self.steady_error[0]) != sign:\n",
    "#                     self.steady_eta[0] = self.steady_eta[0] / 2\n",
    "#                 self.steady[7] = (1+self.steady_eta[0])**(sign)*z_guess[7]\n",
    "            \n",
    "#             goods market\n",
    "#             if abs(eq_res[8])>10:\n",
    "#                 sign = np.sign(eq_res[8]) \n",
    "#                 if np.sign(self.steady_error[1]) != sign:\n",
    "#                     self.steady_eta[1] = self.steady_eta[1] / 2\n",
    "#                 self.steady[8] = (1+self.steady_eta[1]*2)**(-sign)*z_guess[8]\n",
    "        \n",
    "#         self.steady_error = eq_res[7], eq_res[8]\n",
    "                \n",
    "        self.steady_path.append((result, np.array(self.steady)\n",
    "#                                  ,np.array(self.steady_error)\n",
    "#                                  ,np.array(self.steady_eta)\n",
    "                               ))\n",
    "\n",
    "    def create_guess(self):\n",
    "        \n",
    "        k_N_steady, L_N_share, k_E_steady, w_steady, price_steady, price_N_steady, Consumption_steady, Labor_steady, Assets_steady = self.steady\n",
    "\n",
    "        for t in range(self.T-self.G + 1, max_time):\n",
    "            self.w[t] = w_steady* self.A_growth**(t - self.T)\n",
    "            self.price[t] = price_steady\n",
    "            self.price_N[t] = price_N_steady\n",
    "            \n",
    "            self.K[0,t] = k_N_steady* Labor_steady * self.A[0,self.T] *(self.A_growth*self.N_growth)**(t - self.T)\n",
    "            self.K[1,t] = k_E_steady* Labor_steady * self.A[1,self.T] *(self.A_growth*self.N_growth)**(t - self.T)\n",
    "            \n",
    "            self.I[0,t] = self.investment_to_K * self.K[0,t]\n",
    "            self.I[1,t] = self.investment_to_K * self.K[1,t]\n",
    "            \n",
    "            self.L[0,t] = L_N_share * Labor_steady *(self.N_growth)**(t - self.T)\n",
    "            self.L[1,t] = (1-L_N_share) * Labor_steady *(self.N_growth)**(t - self.T)\n",
    "            \n",
    "            self.lmbda[0,t] = self.lmbda_to_price * price_steady\n",
    "            self.lmbda[1,t] = self.lmbda_to_price * price_steady\n",
    "            \n",
    "            self.Consumption[t] = Consumption_steady*(self.A_growth*self.N_growth)**(t - self.T)\n",
    "            self.Labor[t] = Labor_steady*(self.N_growth)**(t - self.T)\n",
    "            self.Assets[t] =  Assets_steady*(self.A_growth*self.N_growth)**(t - self.T)\n",
    "\n",
    "\n",
    "        steady_start = self.T-self.G + 1\n",
    "        self.price_N[:steady_start] = np.linspace(initial[\"price_N\"], self.price_N[steady_start], steady_start,endpoint=False)\n",
    "        self.I[0,:steady_start] = np.linspace(initial[\"I_N\"], self.I[0,steady_start], steady_start,endpoint=False)\n",
    "        self.K[0,:steady_start] = np.linspace(initial[\"K_N\"], self.K[0,steady_start], steady_start,endpoint=False)\n",
    "        self.L[0,:steady_start] = np.linspace(initial[\"L_N\"], self.L[0,steady_start], steady_start,endpoint=False)\n",
    "\n",
    "        self.I[1,:steady_start] = np.linspace(initial[\"I_E\"], self.I[1,steady_start], steady_start,endpoint=False)\n",
    "        self.K[1,:steady_start] = np.linspace(initial[\"K_E\"], self.K[1,steady_start], steady_start,endpoint=False)\n",
    "        self.L[1,:steady_start] = np.linspace(initial[\"L_E\"], self.L[1,steady_start], steady_start,endpoint=False)\n",
    "\n",
    "        w_initial = self.price_N[0] *(1-self.alpha)*(self.K[0,0])**self.alpha *(self.A[0,0])**(1-self.alpha)\n",
    "        self.w[:steady_start] = np.linspace(w_initial, self.w[steady_start], steady_start,endpoint=False)\n",
    "        \n",
    "        self.price[:steady_start] = (self.price_M[:steady_start])**self.omega * (self.price_N[:steady_start])**(1-self.omega)\n",
    "        \n",
    "        self.lmbda[0,:steady_start] = self.price[:steady_start]*self.lmbda_to_price\n",
    "        self.lmbda[1,:steady_start] = self.price[:steady_start]*self.lmbda_to_price\n",
    "\n",
    "    def update_guess(self):\n",
    "\n",
    "\n",
    "\n",
    "        # Households (analytical solution)\n",
    "        for s in range(2):\n",
    "            for t in range(self.T-self.G + 1):\n",
    "                for g in range(t, self.G+t):\n",
    "                    self.c[s, g, t],self.l[s, g, t],self.a[s, g, t]  = self.household(s,g,t)\n",
    "                    \n",
    "                    self.Consumption[t] = np.sum([self.c[s,g,t]*self.N[s,g,t] for g in range(t, self.G+t) for s in range(2)])\n",
    "                    self.Labor[t] = np.sum([self.l[s,g,t]*self.N[s,g,t]*self.epsilon[s,g,t] for g in range(t, self.G+t) for s in range(2)])\n",
    "                    self.Assets[t] =  np.sum([self.a[s,g,t]*self.N[s,g,t] for g in range(t, self.G+t) for s in range(2)])\n",
    "\n",
    "\n",
    "        for t in range(1, self.T-self.G + 1):\n",
    "            z_guess = [self.I[0,t],self.K[0,t+1],self.L[0,t],\n",
    "                       self.lmbda[0,t], self.I[1,t],self.K[1,t+1],\n",
    "                       self.lmbda[1,t],\n",
    "                       self.w[t], self.price_N[t], self.price[t]]\n",
    "\n",
    "\n",
    "            def equilibrium(z, self=self, t = t):\n",
    "                I_N, K_N, L_N, lmbda_N, I_E, K_E, lmbda_E, w, price, price_N = z\n",
    "                system = (price_N * self.K[0, t] ** self.alpha * self.A[0, t] * (1-self.alpha)*L_N**-self.alpha - w)**2\\\n",
    "                        + (price - lmbda_N * (1-self.psi *(I_N/self.I[0,t-1] - 1)**2 - self.psi * (I_N/self.I[0,t-1]) * (I_N/self.I[0,t-1] - 1) ) - self.lmbda[0,t+1]*self.psi/(1+self.r[t+1]) * (self.I[0,t+1]/I_N )**2 * (self.I[0,t+1]/I_N -1))**2\\\n",
    "                        + (1/(self.r[t+1]) * ((1-self.tau_pi[t+1]) * self.alpha * self.price_N[t+1] * K_N**(self.alpha-1) *(self.A[0, t+1]*self.L[0, t+1])**(1-self.alpha) + self.tau_pi[t+1] * self.delta * self.price[t+1] + self.lmbda[0, t+1] * (1-self.delta) ) - lmbda_N)**2\\\n",
    "                        + ((1-self.delta)*self.K[0, t] + I_N * (1-self.psi / 2 *(I_N/self.I[0,t-1] - 1)**2 ) - K_N)**2\\\n",
    "                        + (self.price_E[t] * self.K[1, t] ** self.alpha * self.A[1, t] * (1-self.alpha)*(self.Labor[t]-L_N)**-self.alpha - w)**2\\\n",
    "                        + (price - lmbda_E * (1-self.psi *(I_E/self.I[1,t-1] - 1)**2 - self.psi * (I_E/self.I[1,t-1]) * (I_E/self.I[1,t-1] - 1) ) - self.lmbda[1,t+1]*self.psi/(1+self.r[t+1]) * (self.I[1,t+1]/I_E )**2 * (self.I[1,t+1]/I_E -1))**2\\\n",
    "                        + (1/(self.r[t+1]) * ((1-self.tau_pi[t+1]) * self.alpha * self.price_E[t+1] * K_E**(self.alpha-1) *(self.A[1, t+1]*self.L[1, t+1])**(1-self.alpha) + self.tau_pi[t+1] * self.delta * self.price[t+1] + self.lmbda[1, t+1] * (1-self.delta) ) - lmbda_E)**2\\\n",
    "                        + ((1-self.delta)*self.K[1, t] + I_E * (1-self.psi / 2 *(I_E/self.I[1,t-1] - 1)**2 ) - K_E)**2\\\n",
    "                        + (self.K[0,t]**self.alpha * (self.A[0, t]*L_N)**(1-self.alpha) - self.Gov[t] - (1-self.omega) * price / price_N * (self.Consumption[t] + I_N + I_E))**2\\\n",
    "                        + (price - (self.price_M[t])**self.omega * (price_N)**(1-self.omega))**2\n",
    "                return system\n",
    "  \n",
    "\n",
    "            \n",
    "            obj_jit = jit(equilibrium)\n",
    "            obj_grad = jit(jacfwd(obj_jit))\n",
    "            obj_hess = jit(jacrev(jacfwd(obj_jit)))\n",
    "        \n",
    "        \n",
    "            result = minimize_ipopt(obj_jit, jac=obj_grad, hess=obj_hess, x0=z_guess\n",
    "                                , options = {\"max_iter\":self.steady_max_iter, \"print_level\":0,\n",
    "                                             \"check_derivatives_for_naninf\":\"yes\"}\n",
    "                                , tol=1e-2)\n",
    "            z = result[\"x\"]\n",
    "            print(result[\"fun\"])\n",
    "            \n",
    "            self.I[0,t],self.K[0,t+1],self.L[0,t],self.lmbda[0,t], self.I[1,t],self.K[1,t+1],self.lmbda[1,t],self.w[t], self.price_N[t], self.price[t] = self.eta*result[\"x\"] + (1-self.eta)*np.array(z_guess)\n",
    "            self.L[1,t] = self.Labor[t] - z[2]\n",
    "            \n",
    "            # Market clearing (analytical solution)\n",
    "            self.Y = self.K**self.alpha * (self.L*self.A)**(1-self.alpha)\n",
    "            self.D = self.I.sum(axis = 0)+(self.N[:,:self.c.shape[1],:]*self.c[:,:self.c.shape[1],:]).sum(axis=0).sum(axis =0)\n",
    "            self.M =  self.omega * self.D * self.price / self.price_M\n"
   ]
  },
  {
   "cell_type": "code",
   "execution_count": 1423,
   "metadata": {
    "pycharm": {
     "name": "#%%\n"
    }
   },
   "outputs": [],
   "source": [
    "# import pyreadr\n",
    "# import numpy as np\n",
    "# demography = {name:np.array(pyreadr.read_r(f\"{name}.Rda\")[name]) for name in [\"Pi_female\", \"Pi_female_steady\", \"Pi_male\", \"Pi_male_steady\",\"N_female\", \"N_male\",\"N_female_steady\",\"N_male_steady\"]}\n",
    "# np.save('demography.npy', demography)"
   ]
  },
  {
   "cell_type": "code",
   "execution_count": 1424,
   "metadata": {
    "pycharm": {
     "name": "#%%\n"
    }
   },
   "outputs": [],
   "source": [
    "demography = np.load('demography.npy',allow_pickle='TRUE').item()"
   ]
  },
  {
   "cell_type": "code",
   "execution_count": 1425,
   "metadata": {
    "pycharm": {
     "name": "#%%\n"
    }
   },
   "outputs": [],
   "source": [
    "epsilon_female =epsilon_male= np.array([[-0.0003*(96-g+t)**2+25*2*0.0003*(96-g+t)+2 if ((96-g+t) > 0 and (96-g+t)<=96) else 0  for g in range(demography[\"N_female\"].shape[1]) ] for t in range(demography[\"N_female\"].shape[0])])"
   ]
  },
  {
   "cell_type": "code",
   "execution_count": 1426,
   "metadata": {
    "pycharm": {
     "name": "#%%\n"
    }
   },
   "outputs": [],
   "source": [
    "rho_female = np.array([[1 if ((96-g+t) >= 46 and (96-g+t)<=96) else 0  for g in range(demography[\"N_female\"].shape[1]) ] for t in range(demography[\"N_female\"].shape[0])])\n",
    "rho_male = np.array([[1 if ((96-g+t) >= 51 and (96-g+t)<=96) else 0  for g in range(demography[\"N_female\"].shape[1]) ] for t in range(demography[\"N_female\"].shape[0])])\n",
    "\n",
    "max_time = demography[\"N_female\"].shape[0]\n",
    "sigma = np.array([0.05 for _ in range(max_time)])\n",
    "r = np.array([0.03 for _ in range(max_time)])\n",
    "price_M = np.array([.1 for _ in range(max_time)])\n",
    "price_E = np.array([.1 for _ in range(max_time)])\n",
    "tau_I = np.array([0.13 for _ in range(max_time)])\n",
    "tau_Ins = np.array([0.08 for _ in range(max_time)])\n",
    "tau_pi = np.array([0.2 for _ in range(max_time)])\n",
    "tau_VA = np.array([0.18 for _ in range(max_time)])\n",
    "tau_rho = np.array([0.22 for _ in range(max_time)])\n",
    "A_N = np.array([1. for _ in range(max_time)])\n",
    "A_E = np.array([1. for _ in range(max_time)])\n"
   ]
  },
  {
   "cell_type": "code",
   "execution_count": 1427,
   "metadata": {
    "pycharm": {
     "name": "#%%\n"
    }
   },
   "outputs": [],
   "source": [
    "demography[\"N_female\"]=demography[\"N_male\"]\n",
    "N = np.array([demography[\"N_female\"].transpose()/1000,demography[\"N_male\"].transpose()/1000])\n",
    "Pi = np.array([(demography[f\"N_{sex}male\"]/np.max(demography[\"N_female\"], axis=0)+(1-np.tri(*demography[f\"N_{sex}male\"].shape, k=95))).transpose() for sex in (\"fe\", \"\")])\n",
    "Pi[Pi<0] = 0.01\n",
    "epsilon = np.array([epsilon_female.transpose(), epsilon_male.transpose()])\n",
    "rho = np.array([rho_female.transpose(), rho_male.transpose()])\n",
    "A = np.array([A_N, A_E])\n",
    "# a_initial = np.array([[-(96-g)/10 if g < 96 else 0 for g in range(demography[\"N_female\"].shape[1])] for s in range(2)])\n",
    "# guess = {\"price_N\":np.array([.00001 for _ in range(max_time)]),\n",
    "#          \"K_N\":np.array([5000. for _ in range(max_time)]),\n",
    "#          \"L_N\":np.array([85000. for _ in range(max_time)]),\n",
    "#          \"K_E\":np.array([5000. for _ in range(max_time)]),\n",
    "#          \"L_E\":np.array([85000. for _ in range(max_time)]),\n",
    "#          \"Gov\":np.array([1. for _ in range(max_time)]),\n",
    "#          \"steady\":np.array([15., 2000.,35000.,1., 15., 2000.,50000.,-0.8,0.06, .00001, .00001])}\n",
    "initial = {\"a\":np.array([[-(96-g)/10 if g < 96 else 0 for g in range(demography[\"N_female\"].shape[1])] for s in range(2)]),\n",
    "                \"price_N\":.1,\n",
    "                 \"K_N\":5.,\n",
    "                 \"L_N\":35.,\n",
    "                 \"I_N\":0.1,\n",
    "                 \"K_E\":5.,\n",
    "                 \"L_E\":50.,\n",
    "                 \"Gov\":0.5,\n",
    "                 \"I_E\":0.1}\n",
    "steady_guess = np.array([2., 0.3, 6., 0.1, 0.1, 0.1])"
   ]
  },
  {
   "cell_type": "code",
   "execution_count": 1428,
   "metadata": {
    "pycharm": {
     "name": "#%%\n"
    }
   },
   "outputs": [],
   "source": [
    "# надо исправить\n",
    "# Beq_female_to_female = Beq_female_to_male = Beq_male_to_female = Beq_male_to_male = np.zeros_like(demography[\"N_female\"])"
   ]
  },
  {
   "cell_type": "code",
   "execution_count": 1429,
   "metadata": {
    "pycharm": {
     "name": "#%%\n"
    }
   },
   "outputs": [],
   "source": [
    "olg = OLG_model(G=96,T=250,N=N,epsilon=epsilon, rho=rho, sigma = sigma,Pi=Pi,r = r,price_M =price_M, price_E=price_E, tau_I=tau_I,tau_Ins=tau_Ins, tau_pi=tau_pi, tau_VA=tau_VA, tau_rho=tau_rho, beta = 0.995, phi = 0.8, theta = 0.5, psi = 5., omega=0.4, alpha = 1/3, delta=0.01, A=A,initial=initial, eta =0.2,steady_max_iter=10000, steady_guess=steady_guess)"
   ]
  },
  {
   "cell_type": "code",
   "execution_count": 1430,
   "metadata": {
    "pycharm": {
     "name": "#%%\n"
    }
   },
   "outputs": [
    {
     "name": "stdout",
     "output_type": "stream",
     "text": [
      "3.809425298003435e-16\n",
      "1.229086271142098e-19\n"
     ]
    }
   ],
   "source": [
    "with warnings.catch_warnings():\n",
    "    warnings.simplefilter(\"ignore\")\n",
    "    for _ in range(2):\n",
    "        olg.steady_state()\n",
    "        print(olg.steady_path[-1][0][\"fun\"])"
   ]
  },
  {
   "cell_type": "code",
   "execution_count": 1431,
   "metadata": {},
   "outputs": [],
   "source": [
    "olg.create_guess()"
   ]
  },
  {
   "cell_type": "code",
   "execution_count": 1432,
   "metadata": {},
   "outputs": [
    {
     "name": "stdout",
     "output_type": "stream",
     "text": [
      "0.00045744582227941297\n",
      "0.0007309648084864697\n",
      "0.006193418785344382\n",
      "0.0011308649101873175\n",
      "0.011296364395067787\n",
      "0.27956984024282333\n",
      "1.3496579251504961e-05\n",
      "0.0015586581133601647\n",
      "0.0036002981441010926\n",
      "0.0036615364530455346\n",
      "0.0019451866278263987\n",
      "0.0015087232686599066\n",
      "0.0006715861729126028\n",
      "0.05816475375428308\n",
      "0.0006348528504811332\n",
      "0.0017146330890122862\n",
      "179.3493548241913\n",
      "0.0019285429290674821\n",
      "0.0010068367665514786\n",
      "0.0020978129870125573\n",
      "0.0197548424297562\n",
      "0.00033556749780227043\n",
      "0.00569087333311195\n",
      "0.0005697220463301056\n",
      "0.0003048231902628914\n",
      "0.009038214794552232\n",
      "0.1663399692837369\n",
      "0.005191886595279446\n",
      "0.0024112466370010553\n",
      "43.181226047533436\n",
      "8.515528001425087e-05\n",
      "0.22499691542406527\n",
      "7.944530452013961e-05\n",
      "0.0002080512397053828\n",
      "0.0030761589085743675\n",
      "95.41338890260589\n",
      "1.1401600213703048e-05\n",
      "0.002493867063378027\n",
      "0.0033397662537466483\n",
      "0.00382089140694669\n",
      "0.0036662283576878057\n",
      "0.009117996105158765\n",
      "0.0627407450137876\n",
      "0.0021609051722551345\n",
      "0.08822752341990832\n",
      "0.006906101603695989\n",
      "0.003078483885785133\n",
      "0.01560128042220339\n",
      "6.307024900951225\n",
      "1.1848431710416551e-07\n",
      "8.900744195265069e-05\n",
      "0.0003209396656181538\n",
      "0.00032614567493313565\n",
      "9.414753336194572e-05\n",
      "0.0003331244978816132\n",
      "0.02016243130601119\n",
      "6.555790815074833\n",
      "0.0003104999709901617\n",
      "0.000745430402744794\n",
      "7.563810125485222e-05\n",
      "0.00020070079901849796\n",
      "0.00013509387920317562\n",
      "7.51705719785584e-05\n",
      "7.480648934355281e-05\n",
      "7.9189632642244e-05\n",
      "0.002279705951349532\n",
      "0.0022590616123901604\n",
      "0.002224426685192772\n",
      "0.0021953297235190834\n",
      "0.0021735565865949697\n",
      "0.002158688162798002\n",
      "7.822783648073999e-05\n",
      "0.0020633391492445165\n",
      "0.0017221850368270317\n",
      "6.963347404188386e-05\n",
      "6.872571130003838e-05\n",
      "0.0007293598623029377\n",
      "0.0005055177195058409\n",
      "0.0007554037974921266\n",
      "0.00039219616092074655\n",
      "0.007104573201020291\n",
      "0.0002624674637155113\n",
      "0.0001792757837241474\n",
      "0.0004359149370049576\n",
      "0.008267329866993326\n",
      "0.008628501335325453\n",
      "0.013817447734775716\n",
      "6.342984847250447e-05\n",
      "6.606402994529578e-05\n",
      "6.39909283937859e-05\n",
      "6.398660699776853e-05\n",
      "6.387638262976233e-05\n",
      "0.0003033009462526406\n",
      "0.00963135774038937\n",
      "0.0009227389831129559\n",
      "6.359350298986856e-05\n",
      "0.0009621248375048617\n",
      "6.359964558663614e-05\n",
      "0.0001261288009212201\n",
      "0.0010326875949205883\n",
      "0.001323296444758035\n",
      "0.00031737021567689543\n",
      "0.00012795781379641\n",
      "0.00042592779149968675\n",
      "0.0003996952317492341\n",
      "0.00031118105398070527\n",
      "0.00013163934063036567\n",
      "0.0001328189970244866\n",
      "0.0015215795486290147\n",
      "0.0002978511007464514\n",
      "0.0001368609073605592\n",
      "0.00019823757359415796\n",
      "0.00032217726359955526\n",
      "0.00018500161209674925\n",
      "9.61724445551005e-05\n",
      "0.0032352872679512912\n",
      "0.00018558777044464487\n",
      "0.0005449353469720121\n",
      "6.639116089833796e-05\n",
      "7.279341842894601e-05\n",
      "7.436292980685033e-05\n",
      "7.517869429563337e-05\n",
      "7.572325906705639e-05\n",
      "7.615848636114619e-05\n",
      "0.21763066658989955\n",
      "9.835124838361979e-05\n",
      "1.5929329693353855e-05\n",
      "0.0004617480694197648\n",
      "0.0004690916754280307\n",
      "0.0004754494192279624\n",
      "0.00048145132959109995\n",
      "0.0004873797098889319\n",
      "0.000493369511102881\n",
      "0.0004994822954849959\n",
      "0.0020463996269944637\n",
      "0.0005135015541623205\n",
      "1.8608124474947723e-06\n",
      "0.0011050126120975912\n",
      "0.0004669778869503836\n",
      "0.0005532497477432017\n",
      "5.739811104812386e-05\n",
      "0.1781620862851604\n",
      "0.1783596743369069\n",
      "0.0005606889720518005\n",
      "0.0005706217908521629\n",
      "0.0005776862675507726\n",
      "0.0005840961703850274\n",
      "0.000590299348766818\n",
      "0.0005963950556210199\n",
      "0.0006024250235985598\n",
      "0.0006084392010461446\n",
      "0.0006145224797182056\n",
      "0.0006208270957075576\n",
      "0.0006276387257690312\n"
     ]
    }
   ],
   "source": [
    "olg.update_guess()"
   ]
  },
  {
   "cell_type": "code",
   "execution_count": 1438,
   "metadata": {},
   "outputs": [
    {
     "data": {
      "text/plain": [
       "[<matplotlib.lines.Line2D at 0x7fd94e9510d0>]"
      ]
     },
     "execution_count": 1438,
     "metadata": {},
     "output_type": "execute_result"
    },
    {
     "data": {
      "image/png": "[encoded data removed]",
      "text/plain": [
       "<Figure size 432x288 with 1 Axes>"
      ]
     },
     "metadata": {
      "needs_background": "light"
     },
     "output_type": "display_data"
    }
   ],
   "source": [
    "plt.plot(olg.L[0])"
   ]
  },
  {
   "cell_type": "code",
   "execution_count": 1217,
   "metadata": {
    "pycharm": {
     "name": "#%%\n"
    }
   },
   "outputs": [
    {
     "data": {
      "text/plain": [
       "Text(0.5, 1.0, 'wage adjustment')"
      ]
     },
     "execution_count": 1217,
     "metadata": {},
     "output_type": "execute_result"
    },
    {
     "data": {
      "image/png": "[encoded data removed]",
      "text/plain": [
       "<Figure size 432x288 with 1 Axes>"
      ]
     },
     "metadata": {
      "needs_background": "light"
     },
     "output_type": "display_data"
    }
   ],
   "source": [
    "plt.plot([item[1][6] for i, item in enumerate(olg.steady_path)])\n",
    "# plt.plot([item[1][1] for i, item in enumerate(olg.steady_path)])\n",
    "plt.axhline(y=0, color='r', linestyle='-')\n",
    "plt.title(\"wage adjustment\")"
   ]
  },
  {
   "cell_type": "code",
   "execution_count": 1269,
   "metadata": {},
   "outputs": [
    {
     "data": {
      "text/plain": [
       "Text(0.5, 1.0, 'Labor')"
      ]
     },
     "execution_count": 1269,
     "metadata": {},
     "output_type": "execute_result"
    },
    {
     "data": {
      "image/png": "[encoded data removed]",
      "text/plain": [
       "<Figure size 432x288 with 1 Axes>"
      ]
     },
     "metadata": {
      "needs_background": "light"
     },
     "output_type": "display_data"
    }
   ],
   "source": [
    "plt.plot([item[1][1]*item[1][-2] for i, item in enumerate(olg.steady_path)], label = \"non-export\")\n",
    "plt.plot([(1-item[1][1])*item[1][-2] for i, item in enumerate(olg.steady_path)], label = \"export\")\n",
    "plt.legend()\n",
    "plt.title(\"Labor\")"
   ]
  },
  {
   "cell_type": "code",
   "execution_count": 1273,
   "metadata": {},
   "outputs": [
    {
     "data": {
      "text/plain": [
       "Text(0.5, 1.0, 'Capital')"
      ]
     },
     "execution_count": 1273,
     "metadata": {},
     "output_type": "execute_result"
    },
    {
     "data": {
      "image/png": "[encoded data removed]",
      "text/plain": [
       "<Figure size 432x288 with 1 Axes>"
      ]
     },
     "metadata": {
      "needs_background": "light"
     },
     "output_type": "display_data"
    }
   ],
   "source": [
    "plt.plot([item[1][0]*item[1][-2] for i, item in enumerate(olg.steady_path)], label = \"non-export\")\n",
    "plt.plot([item[1][2]*item[1][-2] for i, item in enumerate(olg.steady_path)], label = \"export\")\n",
    "plt.legend()\n",
    "plt.title(\"Capital\")"
   ]
  },
  {
   "cell_type": "code",
   "execution_count": 1214,
   "metadata": {},
   "outputs": [
    {
     "data": {
      "text/plain": [
       "Text(0.5, 1.0, 'non-export labor share adjustment')"
      ]
     },
     "execution_count": 1214,
     "metadata": {},
     "output_type": "execute_result"
    },
    {
     "data": {
      "image/png": "[encoded data removed]",
      "text/plain": [
       "<Figure size 432x288 with 1 Axes>"
      ]
     },
     "metadata": {
      "needs_background": "light"
     },
     "output_type": "display_data"
    }
   ],
   "source": [
    "# plt.plot([item[1][0] for i, item in enumerate(olg.steady_path)])\n",
    "plt.plot([item[1][1] for i, item in enumerate(olg.steady_path)])\n",
    "plt.title(\"non-export labor share adjustment\")"
   ]
  },
  {
   "cell_type": "code",
   "execution_count": 1215,
   "metadata": {},
   "outputs": [
    {
     "data": {
      "text/plain": [
       "Text(0.5, 1.0, 'price adjustment')"
      ]
     },
     "execution_count": 1215,
     "metadata": {},
     "output_type": "execute_result"
    },
    {
     "data": {
      "image/png": "[encoded data removed]",
      "text/plain": [
       "<Figure size 432x288 with 1 Axes>"
      ]
     },
     "metadata": {
      "needs_background": "light"
     },
     "output_type": "display_data"
    }
   ],
   "source": [
    "plt.plot([item[1][4] for i, item in enumerate(olg.steady_path)])\n",
    "plt.plot([item[1][5] for i, item in enumerate(olg.steady_path)], label =\"non-export price\")\n",
    "plt.legend()\n",
    "plt.title(\"price adjustment\")"
   ]
  },
  {
   "cell_type": "code",
   "execution_count": 1192,
   "metadata": {
    "pycharm": {
     "name": "#%%\n"
    }
   },
   "outputs": [
    {
     "data": {
      "text/plain": [
       "Text(0.5, 1.0, 'Target function')"
      ]
     },
     "execution_count": 1192,
     "metadata": {},
     "output_type": "execute_result"
    },
    {
     "data": {
      "image/png": "[encoded data removed]",
      "text/plain": [
       "<Figure size 432x288 with 1 Axes>"
      ]
     },
     "metadata": {
      "needs_background": "light"
     },
     "output_type": "display_data"
    }
   ],
   "source": [
    "import matplotlib.pyplot as plt\n",
    "plt.plot([item[0][\"fun\"] for i, item in enumerate(olg.steady_path)])\n",
    "plt.title(\"Target function\")"
   ]
  },
  {
   "cell_type": "code",
   "execution_count": 37,
   "metadata": {
    "pycharm": {
     "name": "#%%\n"
    }
   },
   "outputs": [],
   "source": [
    "olg.create_guess()"
   ]
  },
  {
   "cell_type": "code",
   "execution_count": 279,
   "metadata": {
    "pycharm": {
     "name": "#%%\n"
    }
   },
   "outputs": [
    {
     "data": {
      "text/plain": [
       "(     fun: 497133.5107400712\n",
       "     info: {'x': array([ 6.50888420e+00,  7.89066419e+02,  3.67245615e+04, -8.85181784e-03,\n",
       "         2.52521567e+01,  3.05824304e+03,  5.72445545e+04,  3.73356679e-02,\n",
       "         1.81871797e-01,  2.67263830e-08,  2.11897026e-02]), 'g': array([], dtype=float64), 'obj_val': 497133.5107400712, 'mult_g': array([], dtype=float64), 'mult_x_L': array([0., 0., 0., 0., 0., 0., 0., 0., 0., 0., 0.]), 'mult_x_U': array([0., 0., 0., 0., 0., 0., 0., 0., 0., 0., 0.]), 'status': -3, 'status_msg': b'An unrecoverable error occurred while Ipopt tried to compute the search direction.'}\n",
       "  message: b'An unrecoverable error occurred while Ipopt tried to compute the search direction.'\n",
       "     nfev: 629\n",
       "      nit: 21\n",
       "     njev: 25\n",
       "   status: -3\n",
       "  success: False\n",
       "        x: array([ 6.50888420e+00,  7.89066419e+02,  3.67245615e+04, -8.85181784e-03,\n",
       "         2.52521567e+01,  3.05824304e+03,  5.72445545e+04,  3.73356679e-02,\n",
       "         1.81871797e-01,  2.67263830e-08,  2.11897026e-02]),\n",
       " array([ 6.50888420e+00,  7.89066419e+02,  3.67245615e+04, -8.85181784e-03,\n",
       "         2.52521567e+01,  3.05824304e+03,  5.72445545e+04,  3.73356679e-02,\n",
       "         1.81871797e-01,  1.27880340e-07,  2.11357024e-02,  1.34896231e+10,\n",
       "         9.32640416e+04, -2.74112479e+05]))"
      ]
     },
     "execution_count": 279,
     "metadata": {},
     "output_type": "execute_result"
    }
   ],
   "source": [
    "olg.steady_path[-4]\n",
    "# единственный выход это потребление тоже менять с eta"
   ]
  },
  {
   "cell_type": "code",
   "execution_count": 38,
   "metadata": {
    "pycharm": {
     "name": "#%%\n"
    }
   },
   "outputs": [
    {
     "data": {
      "text/plain": [
       "[<matplotlib.lines.Line2D at 0x7f798456bc10>]"
      ]
     },
     "execution_count": 38,
     "metadata": {},
     "output_type": "execute_result"
    },
    {
     "data": {
      "image/png": "[encoded data removed]",
      "text/plain": [
       "<Figure size 432x288 with 1 Axes>"
      ]
     },
     "metadata": {
      "needs_background": "light"
     },
     "output_type": "display_data"
    }
   ],
   "source": [
    "import matplotlib.pyplot as plt\n",
    "plt.plot(olg.w)"
   ]
  },
  {
   "cell_type": "code",
   "execution_count": 39,
   "metadata": {},
   "outputs": [
    {
     "data": {
      "text/plain": [
       "array([1.42600744e-05, 1.42507980e-05, 1.42414996e-05, 1.42321791e-05,\n",
       "       1.42228363e-05, 1.42134710e-05, 1.42040831e-05, 1.41946724e-05,\n",
       "       1.41852387e-05, 1.41757819e-05, 1.41663018e-05, 1.41567982e-05,\n",
       "       1.41472709e-05, 1.41377198e-05, 1.41281447e-05, 1.41185453e-05,\n",
       "       1.41089216e-05, 1.40992733e-05, 1.40896002e-05, 1.40799021e-05,\n",
       "       1.40701790e-05, 1.40604305e-05, 1.40506564e-05, 1.40408566e-05,\n",
       "       1.40310309e-05, 1.40211791e-05, 1.40113009e-05, 1.40013962e-05,\n",
       "       1.39914647e-05, 1.39815062e-05, 1.39715206e-05, 1.39615076e-05,\n",
       "       1.39514670e-05, 1.39413985e-05, 1.39313020e-05, 1.39211772e-05,\n",
       "       1.39110239e-05, 1.39008419e-05, 1.38906309e-05, 1.38803907e-05,\n",
       "       1.38701211e-05, 1.38598218e-05, 1.38494926e-05, 1.38391332e-05,\n",
       "       1.38287434e-05, 1.38183229e-05, 1.38078715e-05, 1.37973889e-05,\n",
       "       1.37868749e-05, 1.37763292e-05, 1.37657516e-05, 1.37551417e-05,\n",
       "       1.37444993e-05, 1.37338241e-05, 1.37231159e-05, 1.37123743e-05,\n",
       "       1.37015991e-05, 1.36907900e-05, 1.36799467e-05, 1.36690689e-05,\n",
       "       1.36581563e-05, 1.36472087e-05, 1.36362256e-05, 1.36252068e-05,\n",
       "       1.36141520e-05, 1.36030609e-05, 1.35919331e-05, 1.35807684e-05,\n",
       "       1.35695663e-05, 1.35583266e-05, 1.35470489e-05, 1.35357329e-05,\n",
       "       1.35243783e-05, 1.35129847e-05, 1.35015517e-05, 1.34900790e-05,\n",
       "       1.34785662e-05, 1.34670130e-05, 1.34554190e-05, 1.34437838e-05,\n",
       "       1.34321070e-05, 1.34203883e-05, 1.34086273e-05, 1.33968235e-05,\n",
       "       1.33849766e-05, 1.33730862e-05, 1.33611518e-05, 1.33491731e-05,\n",
       "       1.33371496e-05, 1.33250809e-05, 1.33129666e-05, 1.33008062e-05,\n",
       "       1.32885993e-05, 1.32763455e-05, 1.32640442e-05, 1.32516951e-05,\n",
       "       1.32392976e-05, 1.32268513e-05, 1.32143558e-05, 1.32018104e-05,\n",
       "       1.31892148e-05, 1.31765685e-05, 1.31638708e-05, 1.31511214e-05,\n",
       "       1.31383197e-05, 1.31254652e-05, 1.31125573e-05, 1.30995956e-05,\n",
       "       1.30865793e-05, 1.30735081e-05, 1.30603813e-05, 1.30471984e-05,\n",
       "       1.30339587e-05, 1.30206618e-05, 1.30073069e-05, 1.29938935e-05,\n",
       "       1.29804211e-05, 1.29668888e-05, 1.29532962e-05, 1.29396426e-05,\n",
       "       1.29259273e-05, 1.29121497e-05, 1.28983091e-05, 1.28844048e-05,\n",
       "       1.28704361e-05, 1.28564024e-05, 1.28423029e-05, 1.28281369e-05,\n",
       "       1.28139037e-05, 1.27996025e-05, 1.27852326e-05, 1.27707932e-05,\n",
       "       1.27562835e-05, 1.27417027e-05, 1.27270501e-05, 1.27123248e-05,\n",
       "       1.26975260e-05, 1.26826528e-05, 1.26677045e-05, 1.26526800e-05,\n",
       "       1.26375787e-05, 1.26223994e-05, 1.26071414e-05, 1.25918038e-05,\n",
       "       1.25763854e-05, 1.25608856e-05, 1.25453031e-05, 1.25296372e-05,\n",
       "       1.25138866e-05, 1.24980506e-05, 1.24821279e-05, 1.24661175e-05,\n",
       "       1.24500185e-05, 1.24338296e-05, 1.24175497e-05, 2.14082721e-02,\n",
       "       2.14082721e-02, 2.14082721e-02, 2.14082721e-02, 2.14082721e-02,\n",
       "       2.14082721e-02, 2.14082721e-02, 2.14082721e-02, 2.14082721e-02,\n",
       "       2.14082721e-02, 2.14082721e-02, 2.14082721e-02, 2.14082721e-02,\n",
       "       2.14082721e-02, 2.14082721e-02, 2.14082721e-02, 2.14082721e-02,\n",
       "       2.14082721e-02, 2.14082721e-02, 2.14082721e-02, 2.14082721e-02,\n",
       "       2.14082721e-02, 2.14082721e-02, 2.14082721e-02, 2.14082721e-02,\n",
       "       2.14082721e-02, 2.14082721e-02, 2.14082721e-02, 2.14082721e-02,\n",
       "       2.14082721e-02, 2.14082721e-02, 2.14082721e-02, 2.14082721e-02,\n",
       "       2.14082721e-02, 2.14082721e-02, 2.14082721e-02, 2.14082721e-02,\n",
       "       2.14082721e-02, 2.14082721e-02, 2.14082721e-02, 2.14082721e-02,\n",
       "       2.14082721e-02, 2.14082721e-02, 2.14082721e-02, 2.14082721e-02,\n",
       "       2.14082721e-02, 2.14082721e-02, 2.14082721e-02, 2.14082721e-02,\n",
       "       2.14082721e-02, 2.14082721e-02, 2.14082721e-02, 2.14082721e-02,\n",
       "       2.14082721e-02, 2.14082721e-02, 2.14082721e-02, 2.14082721e-02,\n",
       "       2.14082721e-02, 2.14082721e-02, 2.14082721e-02, 2.14082721e-02,\n",
       "       2.14082721e-02, 2.14082721e-02, 2.14082721e-02, 2.14082721e-02,\n",
       "       2.14082721e-02, 2.14082721e-02, 2.14082721e-02, 2.14082721e-02,\n",
       "       2.14082721e-02, 2.14082721e-02, 2.14082721e-02, 2.14082721e-02,\n",
       "       2.14082721e-02, 2.14082721e-02, 2.14082721e-02, 2.14082721e-02,\n",
       "       2.14082721e-02, 2.14082721e-02, 2.14082721e-02, 2.14082721e-02,\n",
       "       2.14082721e-02, 2.14082721e-02, 2.14082721e-02, 2.14082721e-02,\n",
       "       2.14082721e-02, 2.14082721e-02, 2.14082721e-02, 2.14082721e-02,\n",
       "       2.14082721e-02, 2.14082721e-02, 2.14082721e-02, 2.14082721e-02,\n",
       "       2.14082721e-02, 2.14082721e-02, 2.14082721e-02, 2.14082721e-02,\n",
       "       2.14082721e-02, 2.14082721e-02, 2.14082721e-02, 2.14082721e-02,\n",
       "       2.14082721e-02, 2.14082721e-02, 2.14082721e-02, 2.14082721e-02,\n",
       "       2.14082721e-02, 2.14082721e-02, 2.14082721e-02, 2.14082721e-02,\n",
       "       2.14082721e-02, 2.14082721e-02, 2.14082721e-02, 2.14082721e-02,\n",
       "       2.14082721e-02, 2.14082721e-02, 2.14082721e-02, 2.14082721e-02,\n",
       "       2.14082721e-02, 2.14082721e-02, 2.14082721e-02, 2.14082721e-02,\n",
       "       2.14082721e-02, 2.14082721e-02, 2.14082721e-02, 2.14082721e-02,\n",
       "       2.14082721e-02, 2.14082721e-02, 2.14082721e-02, 2.14082721e-02,\n",
       "       2.14082721e-02, 2.14082721e-02, 2.14082721e-02, 2.14082721e-02,\n",
       "       2.14082721e-02, 2.14082721e-02, 2.14082721e-02, 2.14082721e-02,\n",
       "       2.14082721e-02, 2.14082721e-02, 2.14082721e-02, 2.14082721e-02,\n",
       "       2.14082721e-02, 2.14082721e-02, 2.14082721e-02, 2.14082721e-02,\n",
       "       2.14082721e-02, 2.14082721e-02, 2.14082721e-02, 2.14082721e-02,\n",
       "       2.14082721e-02, 2.14082721e-02, 2.14082721e-02, 2.14082721e-02,\n",
       "       2.14082721e-02, 2.14082721e-02, 2.14082721e-02, 2.14082721e-02,\n",
       "       2.14082721e-02, 2.14082721e-02, 2.14082721e-02, 2.14082721e-02,\n",
       "       2.14082721e-02, 2.14082721e-02, 2.14082721e-02, 2.14082721e-02,\n",
       "       2.14082721e-02, 2.14082721e-02, 2.14082721e-02, 2.14082721e-02,\n",
       "       2.14082721e-02, 2.14082721e-02, 2.14082721e-02, 2.14082721e-02,\n",
       "       2.14082721e-02, 2.14082721e-02, 2.14082721e-02, 2.14082721e-02,\n",
       "       2.14082721e-02, 2.14082721e-02, 2.14082721e-02, 2.14082721e-02,\n",
       "       2.14082721e-02, 2.14082721e-02, 2.14082721e-02, 2.14082721e-02,\n",
       "       2.14082721e-02, 2.14082721e-02, 2.14082721e-02, 2.14082721e-02,\n",
       "       2.14082721e-02, 2.14082721e-02, 2.14082721e-02, 2.14082721e-02,\n",
       "       2.14082721e-02, 2.14082721e-02, 2.14082721e-02, 2.14082721e-02,\n",
       "       2.14082721e-02, 2.14082721e-02, 2.14082721e-02, 2.14082721e-02,\n",
       "       2.14082721e-02, 2.14082721e-02, 2.14082721e-02, 2.14082721e-02,\n",
       "       2.14082721e-02, 2.14082721e-02, 2.14082721e-02, 2.14082721e-02,\n",
       "       2.14082721e-02, 2.14082721e-02, 2.14082721e-02, 2.14082721e-02,\n",
       "       2.14082721e-02, 2.14082721e-02, 2.14082721e-02, 2.14082721e-02,\n",
       "       2.14082721e-02, 2.14082721e-02, 2.14082721e-02, 2.14082721e-02,\n",
       "       2.14082721e-02, 2.14082721e-02, 2.14082721e-02, 2.14082721e-02,\n",
       "       2.14082721e-02, 2.14082721e-02, 2.14082721e-02, 2.14082721e-02,\n",
       "       2.14082721e-02, 2.14082721e-02, 2.14082721e-02, 2.14082721e-02,\n",
       "       2.14082721e-02, 2.14082721e-02, 2.14082721e-02, 2.14082721e-02,\n",
       "       2.14082721e-02, 2.14082721e-02, 2.14082721e-02, 2.14082721e-02,\n",
       "       2.14082721e-02, 2.14082721e-02, 2.14082721e-02, 2.14082721e-02,\n",
       "       2.14082721e-02, 2.14082721e-02, 2.14082721e-02, 2.14082721e-02,\n",
       "       2.14082721e-02, 2.14082721e-02, 2.14082721e-02, 2.14082721e-02,\n",
       "       2.14082721e-02, 2.14082721e-02, 2.14082721e-02, 2.14082721e-02,\n",
       "       2.14082721e-02, 2.14082721e-02, 2.14082721e-02, 2.14082721e-02,\n",
       "       2.14082721e-02, 2.14082721e-02, 2.14082721e-02, 2.14082721e-02,\n",
       "       2.14082721e-02, 2.14082721e-02, 2.14082721e-02, 2.14082721e-02,\n",
       "       2.14082721e-02, 2.14082721e-02, 2.14082721e-02, 2.14082721e-02,\n",
       "       2.14082721e-02, 2.14082721e-02, 2.14082721e-02, 2.14082721e-02,\n",
       "       2.14082721e-02, 2.14082721e-02, 2.14082721e-02, 2.14082721e-02,\n",
       "       2.14082721e-02, 2.14082721e-02, 2.14082721e-02, 2.14082721e-02,\n",
       "       2.14082721e-02, 2.14082721e-02, 2.14082721e-02, 2.14082721e-02,\n",
       "       2.14082721e-02, 2.14082721e-02, 2.14082721e-02, 2.14082721e-02,\n",
       "       2.14082721e-02, 2.14082721e-02, 2.14082721e-02, 2.14082721e-02,\n",
       "       2.14082721e-02, 2.14082721e-02, 2.14082721e-02, 2.14082721e-02,\n",
       "       2.14082721e-02, 2.14082721e-02, 2.14082721e-02, 2.14082721e-02,\n",
       "       2.14082721e-02, 2.14082721e-02, 2.14082721e-02, 2.14082721e-02,\n",
       "       2.14082721e-02, 2.14082721e-02, 2.14082721e-02, 2.14082721e-02,\n",
       "       2.14082721e-02, 2.14082721e-02, 2.14082721e-02, 2.14082721e-02,\n",
       "       2.14082721e-02, 2.14082721e-02, 2.14082721e-02, 2.14082721e-02,\n",
       "       2.14082721e-02, 2.14082721e-02, 2.14082721e-02, 2.14082721e-02,\n",
       "       2.14082721e-02, 2.14082721e-02, 2.14082721e-02, 2.14082721e-02,\n",
       "       2.14082721e-02, 2.14082721e-02, 2.14082721e-02, 2.14082721e-02,\n",
       "       2.14082721e-02, 2.14082721e-02, 2.14082721e-02, 2.14082721e-02,\n",
       "       2.14082721e-02, 2.14082721e-02, 2.14082721e-02, 2.14082721e-02,\n",
       "       2.14082721e-02, 2.14082721e-02, 2.14082721e-02, 2.14082721e-02,\n",
       "       2.14082721e-02, 2.14082721e-02, 2.14082721e-02, 2.14082721e-02,\n",
       "       2.14082721e-02, 2.14082721e-02, 2.14082721e-02, 2.14082721e-02,\n",
       "       2.14082721e-02, 2.14082721e-02, 2.14082721e-02, 2.14082721e-02,\n",
       "       2.14082721e-02, 2.14082721e-02, 2.14082721e-02, 2.14082721e-02,\n",
       "       2.14082721e-02, 2.14082721e-02, 2.14082721e-02, 2.14082721e-02,\n",
       "       2.14082721e-02, 2.14082721e-02, 2.14082721e-02, 2.14082721e-02,\n",
       "       2.14082721e-02, 2.14082721e-02, 2.14082721e-02, 2.14082721e-02,\n",
       "       2.14082721e-02, 2.14082721e-02, 2.14082721e-02, 2.14082721e-02,\n",
       "       2.14082721e-02, 2.14082721e-02, 2.14082721e-02, 2.14082721e-02,\n",
       "       2.14082721e-02, 2.14082721e-02, 2.14082721e-02, 2.14082721e-02,\n",
       "       2.14082721e-02, 2.14082721e-02, 2.14082721e-02, 2.14082721e-02,\n",
       "       2.14082721e-02, 2.14082721e-02, 2.14082721e-02, 2.14082721e-02,\n",
       "       2.14082721e-02, 2.14082721e-02, 2.14082721e-02, 2.14082721e-02,\n",
       "       2.14082721e-02, 2.14082721e-02, 2.14082721e-02, 2.14082721e-02,\n",
       "       2.14082721e-02, 2.14082721e-02, 2.14082721e-02, 2.14082721e-02,\n",
       "       2.14082721e-02, 2.14082721e-02, 2.14082721e-02, 2.14082721e-02,\n",
       "       2.14082721e-02, 2.14082721e-02, 2.14082721e-02, 2.14082721e-02,\n",
       "       2.14082721e-02, 2.14082721e-02, 2.14082721e-02, 2.14082721e-02,\n",
       "       2.14082721e-02, 2.14082721e-02, 2.14082721e-02, 2.14082721e-02,\n",
       "       2.14082721e-02, 2.14082721e-02, 2.14082721e-02, 2.14082721e-02,\n",
       "       2.14082721e-02, 2.14082721e-02, 2.14082721e-02, 2.14082721e-02,\n",
       "       2.14082721e-02, 2.14082721e-02, 2.14082721e-02, 2.14082721e-02,\n",
       "       2.14082721e-02, 2.14082721e-02, 2.14082721e-02, 2.14082721e-02,\n",
       "       2.14082721e-02, 2.14082721e-02, 2.14082721e-02, 2.14082721e-02,\n",
       "       2.14082721e-02, 2.14082721e-02, 2.14082721e-02, 2.14082721e-02,\n",
       "       2.14082721e-02, 2.14082721e-02, 2.14082721e-02, 2.14082721e-02,\n",
       "       2.14082721e-02, 2.14082721e-02, 2.14082721e-02, 2.14082721e-02,\n",
       "       2.14082721e-02, 2.14082721e-02])"
      ]
     },
     "execution_count": 39,
     "metadata": {},
     "output_type": "execute_result"
    }
   ],
   "source": [
    "olg.w"
   ]
  },
  {
   "cell_type": "code",
   "execution_count": 606,
   "metadata": {
    "pycharm": {
     "name": "#%%\n"
    }
   },
   "outputs": [
    {
     "data": {
      "text/plain": [
       "[<matplotlib.lines.Line2D at 0x2e65210a490>]"
      ]
     },
     "execution_count": 606,
     "metadata": {},
     "output_type": "execute_result"
    },
    {
     "data": {
      "image/png": "[encoded data removed]",
      "text/plain": [
       "<Figure size 432x288 with 1 Axes>"
      ]
     },
     "metadata": {
      "needs_background": "light"
     },
     "output_type": "display_data"
    }
   ],
   "source": [
    "# plt.plot(olg.c[0][345-30,(250-30):(345-30)]) # труд у дрпугих неправильно рассчитывается?\n",
    "# plt.plot(olg.l[0][345-30,(250-30):(345-30)])\n"
   ]
  },
  {
   "cell_type": "code",
   "execution_count": 43,
   "metadata": {
    "pycharm": {
     "name": "#%%\n"
    }
   },
   "outputs": [
    {
     "data": {
      "text/plain": [
       "1.3201810425347083e-05"
      ]
     },
     "execution_count": 43,
     "metadata": {},
     "output_type": "execute_result"
    }
   ],
   "source": [
    "olg.w[99]"
   ]
  },
  {
   "cell_type": "code",
   "execution_count": 25,
   "metadata": {
    "pycharm": {
     "name": "#%%\n"
    }
   },
   "outputs": [
    {
     "data": {
      "image/png": "[encoded data removed]",
      "text/plain": [
       "<Figure size 432x288 with 1 Axes>"
      ]
     },
     "metadata": {
      "needs_background": "light"
     },
     "output_type": "display_data"
    }
   ],
   "source": [
    "# plt.plot(olg.l[0][260,165:260], label= \"labor\")\n",
    "# plt.plot(olg.c[0][260,165:260], label = \"consumption\")\n",
    "plt.plot(olg.a[0][260,165:260], label = \"assets\")\n",
    "# plt.plot((olg.c[0][260,165:260]**olg.phi * (1-olg.l[0][260,165:260])**(1-olg.phi))**(1-olg.theta)/(1-olg.theta), label = \"utility\")\n",
    "plt.show()"
   ]
  },
  {
   "cell_type": "code",
   "execution_count": 614,
   "metadata": {
    "pycharm": {
     "name": "#%%\n"
    }
   },
   "outputs": [
    {
     "data": {
      "text/plain": [
       "Text(0.5, 1.0, 'Wage path')"
      ]
     },
     "execution_count": 614,
     "metadata": {},
     "output_type": "execute_result"
    },
    {
     "data": {
      "image/png": "[encoded data removed]",
      "text/plain": [
       "<Figure size 432x288 with 1 Axes>"
      ]
     },
     "metadata": {
      "needs_background": "light"
     },
     "output_type": "display_data"
    }
   ],
   "source": [
    "plt.plot([item[0][\"info\"][\"x\"][8] for i, item in enumerate(olg.steady_path)if i != 1] [0:])\n",
    "plt.title(\"Wage path\")"
   ]
  },
  {
   "cell_type": "code",
   "execution_count": 615,
   "metadata": {
    "pycharm": {
     "name": "#%%\n"
    }
   },
   "outputs": [
    {
     "data": {
      "text/plain": [
       "Text(0.5, 1.0, 'Price N path')"
      ]
     },
     "execution_count": 615,
     "metadata": {},
     "output_type": "execute_result"
    },
    {
     "data": {
      "image/png": "[encoded data removed]",
      "text/plain": [
       "<Figure size 432x288 with 1 Axes>"
      ]
     },
     "metadata": {
      "needs_background": "light"
     },
     "output_type": "display_data"
    }
   ],
   "source": [
    "plt.plot([item[0][\"info\"][\"x\"][10] for item in olg.steady_path][0:])\n",
    "plt.title(\"Price N path\")"
   ]
  },
  {
   "cell_type": "code",
   "execution_count": 470,
   "metadata": {
    "pycharm": {
     "name": "#%%\n"
    }
   },
   "outputs": [
    {
     "ename": "IndexError",
     "evalue": "too many indices for array: array is 1-dimensional, but 2 were indexed",
     "output_type": "error",
     "traceback": [
      "\u001b[1;31m---------------------------------------------------------------------------\u001b[0m",
      "\u001b[1;31mIndexError\u001b[0m                                Traceback (most recent call last)",
      "\u001b[1;32m~\\AppData\\Local\\Temp/ipykernel_172/150305223.py\u001b[0m in \u001b[0;36m<module>\u001b[1;34m\u001b[0m\n\u001b[0;32m      1\u001b[0m \u001b[1;32mfor\u001b[0m \u001b[0m_\u001b[0m \u001b[1;32min\u001b[0m \u001b[0mrange\u001b[0m\u001b[1;33m(\u001b[0m\u001b[1;36m1\u001b[0m\u001b[1;33m)\u001b[0m\u001b[1;33m:\u001b[0m\u001b[1;33m\u001b[0m\u001b[1;33m\u001b[0m\u001b[0m\n\u001b[1;32m----> 2\u001b[1;33m     \u001b[0molg\u001b[0m\u001b[1;33m.\u001b[0m\u001b[0mupdate_guess\u001b[0m\u001b[1;33m(\u001b[0m\u001b[1;33m)\u001b[0m\u001b[1;33m\u001b[0m\u001b[1;33m\u001b[0m\u001b[0m\n\u001b[0m",
      "\u001b[1;32m~\\AppData\\Local\\Temp/ipykernel_172/1908880180.py\u001b[0m in \u001b[0;36mupdate_guess\u001b[1;34m(self)\u001b[0m\n\u001b[0;32m    355\u001b[0m                     \u001b[0mself\u001b[0m\u001b[1;33m.\u001b[0m\u001b[0mc\u001b[0m\u001b[1;33m[\u001b[0m\u001b[0ms\u001b[0m\u001b[1;33m,\u001b[0m \u001b[0mg\u001b[0m\u001b[1;33m,\u001b[0m \u001b[0mt\u001b[0m\u001b[1;33m]\u001b[0m\u001b[1;33m,\u001b[0m\u001b[0mself\u001b[0m\u001b[1;33m.\u001b[0m\u001b[0ml\u001b[0m\u001b[1;33m[\u001b[0m\u001b[0ms\u001b[0m\u001b[1;33m,\u001b[0m \u001b[0mg\u001b[0m\u001b[1;33m,\u001b[0m \u001b[0mt\u001b[0m\u001b[1;33m]\u001b[0m\u001b[1;33m,\u001b[0m\u001b[0mself\u001b[0m\u001b[1;33m.\u001b[0m\u001b[0ma\u001b[0m\u001b[1;33m[\u001b[0m\u001b[0ms\u001b[0m\u001b[1;33m,\u001b[0m \u001b[0mg\u001b[0m\u001b[1;33m,\u001b[0m \u001b[0mt\u001b[0m\u001b[1;33m]\u001b[0m  \u001b[1;33m=\u001b[0m \u001b[0mself\u001b[0m\u001b[1;33m.\u001b[0m\u001b[0mhousehold\u001b[0m\u001b[1;33m(\u001b[0m\u001b[0ms\u001b[0m\u001b[1;33m,\u001b[0m\u001b[0mg\u001b[0m\u001b[1;33m,\u001b[0m\u001b[0mt\u001b[0m\u001b[1;33m)\u001b[0m\u001b[1;33m\u001b[0m\u001b[1;33m\u001b[0m\u001b[0m\n\u001b[0;32m    356\u001b[0m         \u001b[1;32mfor\u001b[0m \u001b[0mt\u001b[0m \u001b[1;32min\u001b[0m \u001b[0mrange\u001b[0m\u001b[1;33m(\u001b[0m\u001b[0mself\u001b[0m\u001b[1;33m.\u001b[0m\u001b[0mT\u001b[0m\u001b[1;33m)\u001b[0m\u001b[1;33m:\u001b[0m\u001b[1;33m\u001b[0m\u001b[1;33m\u001b[0m\u001b[0m\n\u001b[1;32m--> 357\u001b[1;33m             \u001b[0mz_guess\u001b[0m \u001b[1;33m=\u001b[0m \u001b[1;33m[\u001b[0m\u001b[0mself\u001b[0m\u001b[1;33m.\u001b[0m\u001b[0mI\u001b[0m\u001b[1;33m[\u001b[0m\u001b[1;36m0\u001b[0m\u001b[1;33m,\u001b[0m\u001b[0mt\u001b[0m\u001b[1;33m]\u001b[0m\u001b[1;33m,\u001b[0m\u001b[0mself\u001b[0m\u001b[1;33m.\u001b[0m\u001b[0mK\u001b[0m\u001b[1;33m[\u001b[0m\u001b[1;36m0\u001b[0m\u001b[1;33m,\u001b[0m\u001b[0mt\u001b[0m\u001b[1;33m+\u001b[0m\u001b[1;36m1\u001b[0m\u001b[1;33m]\u001b[0m\u001b[1;33m,\u001b[0m\u001b[0mself\u001b[0m\u001b[1;33m.\u001b[0m\u001b[0mL\u001b[0m\u001b[1;33m[\u001b[0m\u001b[1;36m0\u001b[0m\u001b[1;33m,\u001b[0m\u001b[0mt\u001b[0m\u001b[1;33m]\u001b[0m\u001b[1;33m,\u001b[0m\u001b[0mself\u001b[0m\u001b[1;33m.\u001b[0m\u001b[0mlmbda\u001b[0m\u001b[1;33m[\u001b[0m\u001b[1;36m0\u001b[0m\u001b[1;33m,\u001b[0m\u001b[0mt\u001b[0m\u001b[1;33m]\u001b[0m\u001b[1;33m,\u001b[0m \u001b[0mself\u001b[0m\u001b[1;33m.\u001b[0m\u001b[0mI\u001b[0m\u001b[1;33m[\u001b[0m\u001b[1;36m1\u001b[0m\u001b[1;33m,\u001b[0m\u001b[0mt\u001b[0m\u001b[1;33m]\u001b[0m\u001b[1;33m,\u001b[0m\u001b[0mself\u001b[0m\u001b[1;33m.\u001b[0m\u001b[0mK\u001b[0m\u001b[1;33m[\u001b[0m\u001b[1;36m1\u001b[0m\u001b[1;33m,\u001b[0m\u001b[0mt\u001b[0m\u001b[1;33m+\u001b[0m\u001b[1;36m1\u001b[0m\u001b[1;33m]\u001b[0m\u001b[1;33m,\u001b[0m\u001b[0mself\u001b[0m\u001b[1;33m.\u001b[0m\u001b[0mL\u001b[0m\u001b[1;33m[\u001b[0m\u001b[1;36m1\u001b[0m\u001b[1;33m,\u001b[0m\u001b[0mt\u001b[0m\u001b[1;33m]\u001b[0m\u001b[1;33m,\u001b[0m\u001b[0mself\u001b[0m\u001b[1;33m.\u001b[0m\u001b[0mlmbda\u001b[0m\u001b[1;33m[\u001b[0m\u001b[1;36m1\u001b[0m\u001b[1;33m,\u001b[0m\u001b[0mt\u001b[0m\u001b[1;33m]\u001b[0m\u001b[1;33m,\u001b[0m\u001b[0mself\u001b[0m\u001b[1;33m.\u001b[0m\u001b[0mw\u001b[0m\u001b[1;33m[\u001b[0m\u001b[0mt\u001b[0m\u001b[1;33m]\u001b[0m\u001b[1;33m,\u001b[0m \u001b[0mself\u001b[0m\u001b[1;33m.\u001b[0m\u001b[0mprice_N\u001b[0m\u001b[1;33m[\u001b[0m\u001b[0mt\u001b[0m\u001b[1;33m]\u001b[0m\u001b[1;33m,\u001b[0m \u001b[0mself\u001b[0m\u001b[1;33m.\u001b[0m\u001b[0mprice\u001b[0m\u001b[1;33m[\u001b[0m\u001b[0mt\u001b[0m\u001b[1;33m]\u001b[0m\u001b[1;33m]\u001b[0m\u001b[1;33m\u001b[0m\u001b[1;33m\u001b[0m\u001b[0m\n\u001b[0m\u001b[0;32m    358\u001b[0m             \u001b[1;31m# z = fsolve(production,z_guess, fprime=production_jacobian,maxfev=500,\u001b[0m\u001b[1;33m\u001b[0m\u001b[1;33m\u001b[0m\u001b[0m\n\u001b[0;32m    359\u001b[0m             \u001b[1;31m#        args = (self, t))\u001b[0m\u001b[1;33m\u001b[0m\u001b[1;33m\u001b[0m\u001b[0m\n",
      "\u001b[1;31mIndexError\u001b[0m: too many indices for array: array is 1-dimensional, but 2 were indexed"
     ]
    }
   ],
   "source": [
    "for _ in range(1):\n",
    "    olg.update_guess()"
   ]
  },
  {
   "cell_type": "code",
   "execution_count": null,
   "metadata": {
    "pycharm": {
     "name": "#%%\n"
    }
   },
   "outputs": [],
   "source": [
    "import matplotlib.pyplot as plt\n",
    "# plt.plot((((olg.c[:,:610,:]*olg.N[:,:610,:]).sum(axis=0).sum(axis=0))/olg.N[:,:610,:].sum(axis=0).sum(axis=0))[:150])\n",
    "# plt.plot((((olg.a[:,:610,:]*olg.N[:,:610,:]).sum(axis=0).sum(axis=0))/olg.N[:,:610,:].sum(axis=0).sum(axis=0))[:150])\n",
    "plt.plot((((olg.l[:,:610,:]*olg.N[:,:610,:]).sum(axis=0).sum(axis=0))/olg.N[:,:610,:].sum(axis=0).sum(axis=0))[:250])\n",
    "# plt.plot(olg.I[0,:100]/olg.N[0].sum(axis=0)[:100])\n",
    "# plt.plot((olg.l[0,:250]*olg.N[0,:250]).sum(axis=0)/(olg.N[0,:250].sum(axis=0)))\n",
    "plt.show()"
   ]
  },
  {
   "cell_type": "code",
   "execution_count": null,
   "metadata": {
    "pycharm": {
     "name": "#%%\n"
    }
   },
   "outputs": [],
   "source": [
    "plt.plot(olg.I[0,1:100]/olg.I[0,0:99])"
   ]
  },
  {
   "cell_type": "code",
   "execution_count": 616,
   "metadata": {
    "pycharm": {
     "name": "#%%\n"
    }
   },
   "outputs": [
    {
     "data": {
      "text/plain": [
       "[<matplotlib.lines.Line2D at 0x2e652135ee0>]"
      ]
     },
     "execution_count": 616,
     "metadata": {},
     "output_type": "execute_result"
    },
    {
     "data": {
      "image/png": "[encoded data removed]",
      "text/plain": [
       "<Figure size 432x288 with 1 Axes>"
      ]
     },
     "metadata": {
      "needs_background": "light"
     },
     "output_type": "display_data"
    }
   ],
   "source": [
    "plt.plot(olg.L[0][:200]+olg.L[1][:200])\n",
    "plt.plot(((olg.l[:,:610,:]*olg.N[:,:610,:]*olg.epsilon[:,:610,:]).sum(axis=0).sum(axis=0))[:200])"
   ]
  },
  {
   "cell_type": "code",
   "execution_count": 331,
   "metadata": {
    "pycharm": {
     "name": "#%%\n"
    }
   },
   "outputs": [
    {
     "data": {
      "text/plain": [
       "array([170000., 170000., 170000., 170000., 170000., 170000., 170000.,\n",
       "       170000., 170000., 170000., 170000., 170000., 170000., 170000.,\n",
       "       170000., 170000., 170000., 170000., 170000., 170000., 170000.,\n",
       "       170000., 170000., 170000., 170000., 170000., 170000., 170000.,\n",
       "       170000., 170000., 170000., 170000., 170000., 170000., 170000.,\n",
       "       170000., 170000., 170000., 170000., 170000., 170000., 170000.,\n",
       "       170000., 170000., 170000., 170000., 170000., 170000., 170000.,\n",
       "       170000., 170000., 170000., 170000., 170000., 170000., 170000.,\n",
       "       170000., 170000., 170000., 170000., 170000., 170000., 170000.,\n",
       "       170000., 170000., 170000., 170000., 170000., 170000., 170000.,\n",
       "       170000., 170000., 170000., 170000., 170000., 170000., 170000.,\n",
       "       170000., 170000., 170000., 170000., 170000., 170000., 170000.,\n",
       "       170000., 170000., 170000., 170000., 170000., 170000., 170000.,\n",
       "       170000., 170000., 170000., 170000., 170000., 170000., 170000.,\n",
       "       170000., 170000., 170000., 170000., 170000., 170000., 170000.,\n",
       "       170000., 170000., 170000., 170000., 170000., 170000., 170000.,\n",
       "       170000., 170000., 170000., 170000., 170000., 170000., 170000.,\n",
       "       170000., 170000., 170000., 170000., 170000., 170000., 170000.,\n",
       "       170000., 170000., 170000., 170000., 170000., 170000., 170000.,\n",
       "       170000., 170000., 170000., 170000., 170000., 170000., 170000.,\n",
       "       170000., 170000., 170000., 170000., 170000., 170000., 170000.,\n",
       "       170000., 170000., 170000., 170000., 170000., 170000., 170000.,\n",
       "       170000., 170000., 170000., 170000., 170000., 170000., 170000.,\n",
       "       170000., 170000., 170000., 170000., 170000., 170000., 170000.,\n",
       "       170000., 170000., 170000., 170000., 170000., 170000., 170000.,\n",
       "       170000., 170000., 170000., 170000., 170000., 170000., 170000.,\n",
       "       170000., 170000., 170000., 170000., 170000., 170000., 170000.,\n",
       "       170000., 170000., 170000., 170000., 170000., 170000., 170000.,\n",
       "       170000., 170000., 170000., 170000.])"
      ]
     },
     "execution_count": 331,
     "metadata": {},
     "output_type": "execute_result"
    }
   ],
   "source": [
    "olg.L[0][:200]+olg.L[1][:200]"
   ]
  },
  {
   "cell_type": "code",
   "execution_count": 332,
   "metadata": {
    "pycharm": {
     "name": "#%%\n"
    }
   },
   "outputs": [
    {
     "data": {
      "text/plain": [
       "[<matplotlib.lines.Line2D at 0x2e65345fe50>]"
      ]
     },
     "execution_count": 332,
     "metadata": {},
     "output_type": "execute_result"
    },
    {
     "data": {
      "image/png": "[encoded data removed]",
      "text/plain": [
       "<Figure size 432x288 with 1 Axes>"
      ]
     },
     "metadata": {
      "needs_background": "light"
     },
     "output_type": "display_data"
    }
   ],
   "source": [
    "plt.plot((olg.K[0]/olg.L[0])[:100])"
   ]
  },
  {
   "cell_type": "code",
   "execution_count": 44,
   "metadata": {
    "pycharm": {
     "name": "#%%\n"
    }
   },
   "outputs": [
    {
     "data": {
      "text/plain": [
       "[<matplotlib.lines.Line2D at 0x7f798443ce80>]"
      ]
     },
     "execution_count": 44,
     "metadata": {},
     "output_type": "execute_result"
    },
    {
     "data": {
      "image/png": "[encoded data removed]",
      "text/plain": [
       "<Figure size 432x288 with 1 Axes>"
      ]
     },
     "metadata": {
      "needs_background": "light"
     },
     "output_type": "display_data"
    }
   ],
   "source": [
    "plt.plot(olg.a[0][100][:100])"
   ]
  },
  {
   "cell_type": "code",
   "execution_count": 45,
   "metadata": {
    "pycharm": {
     "name": "#%%\n"
    }
   },
   "outputs": [
    {
     "data": {
      "text/plain": [
       "[<matplotlib.lines.Line2D at 0x7f798458bc40>]"
      ]
     },
     "execution_count": 45,
     "metadata": {},
     "output_type": "execute_result"
    },
    {
     "data": {
      "image/png": "[encoded data removed]",
      "text/plain": [
       "<Figure size 432x288 with 1 Axes>"
      ]
     },
     "metadata": {
      "needs_background": "light"
     },
     "output_type": "display_data"
    }
   ],
   "source": [
    "plt.plot(olg.price_N)"
   ]
  },
  {
   "cell_type": "code",
   "execution_count": 54,
   "metadata": {},
   "outputs": [
    {
     "data": {
      "text/plain": [
       "1.2925927310610548e-05"
      ]
     },
     "execution_count": 54,
     "metadata": {},
     "output_type": "execute_result"
    }
   ],
   "source": [
    "olg.w[120]"
   ]
  },
  {
   "cell_type": "code",
   "execution_count": 49,
   "metadata": {
    "pycharm": {
     "name": "#%%\n"
    }
   },
   "outputs": [
    {
     "data": {
      "text/plain": [
       "[<matplotlib.lines.Line2D at 0x7f798419cb20>]"
      ]
     },
     "execution_count": 49,
     "metadata": {},
     "output_type": "execute_result"
    },
    {
     "data": {
      "image/png": "[encoded data removed]",
      "text/plain": [
       "<Figure size 432x288 with 1 Axes>"
      ]
     },
     "metadata": {
      "needs_background": "light"
     },
     "output_type": "display_data"
    }
   ],
   "source": [
    "plt.plot(olg.w[100])"
   ]
  }
 ],
 "metadata": {
  "kernelspec": {
   "display_name": "olg",
   "language": "python",
   "name": "olg"
  },
  "language_info": {
   "codemirror_mode": {
    "name": "ipython",
    "version": 3
   },
   "file_extension": ".py",
   "mimetype": "text/x-python",
   "name": "python",
   "nbconvert_exporter": "python",
   "pygments_lexer": "ipython3",
   "version": "3.8.10"
  }
 },
 "nbformat": 4,
 "nbformat_minor": 1
}
