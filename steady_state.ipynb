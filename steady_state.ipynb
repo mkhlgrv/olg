{
 "cells": [
  {
   "cell_type": "code",
   "execution_count": 6,
   "metadata": {
    "pycharm": {
     "name": "#%%\n"
    }
   },
   "outputs": [],
   "source": [
    "import pandas as pd\n",
    "from scipy.optimize import fsolve\n",
    "import numpy as np\n",
    "import itertools\n",
    "import copy\n",
    "from cyipopt import minimize_ipopt\n",
    "import warnings\n",
    "import matplotlib.pyplot as plt\n",
    "from jax.config import config\n",
    "# Enable 64 bit floating point precision\n",
    "config.update(\"jax_enable_x64\", True)\n",
    "\n",
    "# We use the CPU instead of GPU und mute all warnings if no GPU/TPU is found.\n",
    "config.update('jax_platform_name', 'cpu')\n",
    "\n",
    "# import jax.numpy as np\n",
    "from jax import jit, grad, jacfwd, jacrev"
   ]
  },
  {
   "cell_type": "code",
   "execution_count": 7,
   "metadata": {
    "pycharm": {
     "name": "#%%\n"
    }
   },
   "outputs": [],
   "source": [
    "def counted(f):\n",
    "    def wrapped(*args, **kwargs):\n",
    "        wrapped.calls += 1\n",
    "        return f(*args, **kwargs)\n",
    "    wrapped.calls = 0\n",
    "    return wrapped"
   ]
  },
  {
   "cell_type": "markdown",
   "metadata": {
    "pycharm": {
     "name": "#%% md\n"
    }
   },
   "source": [
    "Проблемы: надо посчитать долю наследства\n",
    "Для мигрантов матрицу размера 10к? (Каждое новое поколение имеет другое богатство)"
   ]
  },
  {
   "cell_type": "code",
   "execution_count": 8,
   "metadata": {
    "pycharm": {
     "name": "#%%\n"
    }
   },
   "outputs": [],
   "source": [
    "# class OLG_model:\n",
    "#     def __init__(self, G,T,N,epsilon, rho, sigma,Pi,r,price_M, price_E, tau_I,tau_Ins, tau_pi, tau_VA, tau_rho, beta, phi , theta , psi, omega, alpha, delta, A,initial, eta,steady_max_iter,steady_guess):\n",
    "#         \"\"\"\n",
    "#         OLG model\n",
    "#         :param G: number of generations, default is 110\n",
    "#         :param T: simulation time, default is 500\n",
    "#         :param N_female: population (G+T-1, T) matrix where N[g,t] is cohort size of generation g in period t\n",
    "#         :param N_male: population (G+T-1, T) matrix where N[g,t] is cohort size of generation g in period t\n",
    "#         :param epsilon_female: female cohort- and year-specific productivity\n",
    "#         :param epsilon_male: male cohort- and year-specific productivity\n",
    "#         :param rho_female: female cohort- and year-specific retirement rate\n",
    "#         :param rho_male: male cohort- and year-specific retirement rate\n",
    "#         :param sigma: pension rate (pension point value) for T periods\n",
    "#         :param Pi_female: survival probability\n",
    "#         :param Pi_male: survival probability\n",
    "#         :param Beq_female_to_female,Beq_female_to_male,Beq_male_to_female,Beq_male_to_male: bequest matrix\n",
    "#         :param r: rate of return for T periods\n",
    "#         :param price_M: import prices for T periods\n",
    "#         :param price_E: export prices for T periods\n",
    "#         :param tau_I: income tax for T periods\n",
    "#         :param tau_Ins: insurance tax for T periods\n",
    "#         :param tau_pi: profit tax for T periods\n",
    "#         :param tau_VA: value-added tax for T periods\n",
    "#         :param tau_rho: retirement tax for T periods\n",
    "#         :param beta: elasticity of intertemporal substitution\n",
    "#         :param phi: elasticity of intertemporal substitution\n",
    "#         :param theta: ?\n",
    "#         :param psi: ? investment cost\n",
    "#         :param omega: import share\n",
    "#         :param alpha: elasticity of capital\n",
    "#         :param delta: deprecation rate\n",
    "#         :param A_N: total factor productivity, non-export good\n",
    "#         :param A_E: total factor productivity, export goods\n",
    "#         \"\"\"\n",
    "\n",
    "#         ## Exogenous variables and parameters\n",
    "#         # Demography\n",
    "#         self.G, self.T,self.N,self.epsilon,self.Pi = G, T,N,epsilon,Pi\n",
    "#         # Retirement\n",
    "#         self.rho,self.sigma = rho, sigma\n",
    "#         # Prices\n",
    "#         self.r, self.price_M, self.price_E, self.omega = r, price_M, price_E, omega\n",
    "#         # Taxation\n",
    "#         self.tau_I, self.tau_pi, self.tau_VA,self.tau_Ins, self.tau_rho =  tau_I, tau_pi,tau_VA,tau_Ins, tau_rho\n",
    "#         # Utility\n",
    "#         self.beta, self.phi, self.theta  = beta, phi, theta\n",
    "#         # Production\n",
    "#         self.psi, self.alpha, self.delta, self.A = psi, alpha, delta, A\n",
    "\n",
    "#         self.a_initial = initial[\"a\"]\n",
    "\n",
    "\n",
    "\n",
    "#         self.eta = eta\n",
    "#         self.steady_max_iter = steady_max_iter\n",
    "\n",
    "#         # Endogenous variable\n",
    "#         # Initial guess\n",
    "#         self.price_N = np.array([initial[\"price_N\"] for _ in range(max_time)])\n",
    "#         self.K = np.array([[initial[\"K_N\"] for _ in range(max_time)], [initial[\"K_E\"] for _ in range(max_time)]])\n",
    "#         self.L = np.array([[initial[\"L_N\"] for _ in range(max_time)], [initial[\"L_E\"] for _ in range(max_time)]])\n",
    "#         self.I = np.array([[initial[\"I_N\"] for _ in range(max_time)], [initial[\"I_E\"] for _ in range(max_time)]])\n",
    "#         self.Gov = np.array([initial[\"Gov\"] for _ in range(max_time)])\n",
    "\n",
    "#         self.lmbda = np.array([[0.5 for _ in range(max_time)] for _ in range(2)])\n",
    "\n",
    "#         self.w = ((self.price_N *(1-self.alpha)*(self.K[0])**self.alpha *(self.A[0])**(1-self.alpha)*(self.L[0])**(-self.alpha))+\n",
    "#         (self.price_E *(1-self.alpha)*(self.K[1])**self.alpha *(self.A[1])**(1-self.alpha)*(self.L[1])**(-self.alpha)))/2\n",
    "\n",
    "#         self.price = (self.price_M)**self.omega * (self.price_N)**(1-self.omega)\n",
    "\n",
    "\n",
    "#         self.Y = self.K**self.alpha * (self.L*self.A)**(1-self.alpha)\n",
    "\n",
    "\n",
    "#         self.D = self.Y[0]/(1-self.omega)* self.price_N/self.price + self.Gov\n",
    "\n",
    "#         self.M = self.omega * self.D * self.price / self.price_M\n",
    "\n",
    "\n",
    "\n",
    "#         self.c =  np.array([[[0.002 if ((g >= t) and (g<=self.G+t-1)) else 0 for t in range(max_time)] for g in range(max_time)] for _ in range(2)])\n",
    "#         self.a = np.array([[[0.01 if ((g >= t) and (g<=self.G+t-1)) else 0 for t in range(max_time)] for g in range(max_time)] for _ in range(2)])\n",
    "#         self.gamma = np.array([[[0.9 if ((g >= t) and (g<=self.G+t-1)) else 0 for t in range(max_time)] for g in range(max_time)] for _ in range(2)])\n",
    "#         self.l = np.array([[[0.4 if ((g >= t) and (g<=self.G+t-1)) else 0 for t in range(max_time)] for g in range(max_time)] for _ in range(2)])\n",
    "\n",
    "#         Consumption = np.array([np.sum([self.c[s,g,t]*self.N[s,g,t] for g in range(max_time) for s in range(2)]) for t in range(max_time)])\n",
    "#         self.Consumption = Consumption\n",
    "\n",
    "#         Labor = np.array([np.sum([self.l[s,g,self.T]*self.N[s,g,self.T]*self.epsilon[s,g,self.T] for g in range(max_time) for s in range(2)]) for t in range(max_time)])\n",
    "#         self.Labor = Labor\n",
    "\n",
    "#         Assets =  np.array([np.sum([self.a[s,g,t]*self.N[s,g,t] for g in range(max_time) for s in range(2)]) for t in range(max_time)])\n",
    "#         self.Assets = Assets\n",
    "\n",
    "\n",
    "#         self.steady = np.array(list(steady_guess) + [Consumption[self.T], Labor[self.T], Assets[self.T]])\n",
    "#         self.steady_path = []\n",
    "\n",
    "#         self.steady_error = [0,0]\n",
    "#         self.steady_eta = [0.1, 0.1]\n",
    "\n",
    "\n",
    "\n",
    "#     def household(self, s, g, t):\n",
    "#         def labor_income_vector(self, s, g, start, end):\n",
    "#             return (1-self.tau_I[start:end]) * (1-(self.tau_rho[start:end] + self.tau_Ins[start:end])/(1+self.tau_rho[start:end] + self.tau_Ins[start:end])) * self.epsilon[s,g,start:end] * self.w[start:end]\n",
    "#         def cumulative_rate_of_return(self,start, end):\n",
    "#             if start <= end:\n",
    "#                 return np.prod(1+self.r[start:end]*(1-self.tau_I[start:end]))\n",
    "#             else:\n",
    "#                 return 1\n",
    "\n",
    "#         def get_initial_consumption(self, s, g, t_0):\n",
    "#             return self.phi * (self.a_initial[s,g] * cumulative_rate_of_return(self, t_0, g+1)+\n",
    "#                                np.sum(np.array([cumulative_rate_of_return(self,start, g+1) for start in range(t_0+1, g+2)])*\n",
    "#                                       (labor_income_vector(self, s, g, t_0, g+1)+self.rho[s,g,t_0:(g+1)]*self.sigma[t_0:(g+1)]\n",
    "#                                        )))/\\\n",
    "#                    np.sum(\n",
    "#                        np.array([cumulative_rate_of_return(self,start, g+1) for start in range(t_0+1, g+2)])*\n",
    "#                        (1+self.tau_VA[t_0:(g+1)])*(self.price[t_0:(g+1)])*\n",
    "#                        (\n",
    "#                                np.array([cumulative_rate_of_return(self,t_0+1, end) for end in range(t_0+1, g+2)])*\n",
    "#                                self.beta**np.array([i-t_0 for i in range(t_0, g+1)])*self.Pi[s,g,t_0:(g+1)]/self.Pi[s,g,t_0] * (1+self.tau_VA[t_0])*(self.price[t_0])/((1+self.tau_VA[t_0:(g+1)])*(self.price[t_0:(g+1)])) *\n",
    "#                                ((1+self.tau_VA[t_0:(g+1)])*(self.price[t_0:(g+1)])/((1+self.tau_VA[t_0])*self.price[t_0])*labor_income_vector(self, s, g,t_0, t_0+1)/labor_income_vector(self, s, g,t_0, g+1)\n",
    "#                                 )**((1-self.phi)*(1-self.theta)))**(1/self.theta)\n",
    "#                    )\n",
    "#         t_0 = max(g-self.G+1,0)\n",
    "#         bequest = 0\n",
    "#         if t==t_0:\n",
    "#             consumption = get_initial_consumption(self, s, g, t_0)\n",
    "#         elif t_0 < t <= g:\n",
    "#             consumption = self.c[s, g, t_0]*\\\n",
    "#                           (cumulative_rate_of_return(self, t_0+1, t+1)*\n",
    "#                            self.beta**(t-t_0)*self.Pi[s,g,t]/self.Pi[s,g,t_0] * (1+self.tau_VA[t_0])*self.price[t_0]/((1+self.tau_VA[t])*self.price[t]) *\n",
    "#                            ((1+self.tau_VA[t])*self.price[t]/((1+self.tau_VA[t_0])*self.price[t_0])*labor_income_vector(self, s, g,t_0, t_0+1)/labor_income_vector(self, s, g,t, t+1))**((1-self.phi)*(1-self.theta))\n",
    "#                            )**(1/self.theta)\n",
    "\n",
    "\n",
    "#         labor = 1- consumption/(self.phi/(1-self.phi)*(1/((1+self.tau_VA[t])*self.price[t]))*labor_income_vector(self, s, g, t, t+1)[0])\n",
    "#         if t == 0:\n",
    "#             assets = labor_income_vector(self, s, g, t, t+1)[0]*labor+self.rho[s,g,t]*self.sigma[t] - consumption*(1+self.tau_VA[t])*self.price[t]+self.a_initial[s,g]*(1+self.r[t]*(1-self.tau_I[t]))\n",
    "#         else:\n",
    "#             assets = labor_income_vector(self, s, g, t, t+1)[0]*labor+self.rho[s,g,t]*self.sigma[t] - consumption*(1+self.tau_VA[t])*self.price[t]+(self.a[s,g, t-1]+bequest)*(1+self.r[t]*(1-self.tau_I[t]))\n",
    "#         return consumption, labor, assets\n",
    "\n",
    "#     @counted\n",
    "#     def steady_state(self):\n",
    "#         def labor_income_vector(self, s, g, start, end):\n",
    "#             return (1-self.tau_I[start:end]) * (1-(self.tau_rho[start:end] + self.tau_Ins[start:end])/(1+self.tau_rho[start:end] + self.tau_Ins[start:end])) * self.epsilon[s,g,start:end] * self.w[start:end]\n",
    "#         A_growth = self.A[0,self.T]/self.A[0, self.T-1]\n",
    "#         N_growth = np.sum([self.N[s,g,self.T]*self.epsilon[s,g,self.T] for g in range(self.T, self.G+self.T) for s in range(2)])/\\\n",
    "#                    np.sum([self.N[s,g,self.T-1]*self.epsilon[s,g,self.T-1] for g in range(self.T-1, self.G+self.T-1) for s in range(2)])\n",
    "\n",
    "#         w_steady, price_steady, price_N_steady = self.steady[7:10]\n",
    "\n",
    "#         for t in range(self.T-self.G + 1, max_time):\n",
    "#             self.w[t] = w_steady* A_growth**(t - self.T)\n",
    "#             self.price[t] = price_steady\n",
    "#             self.price_N[t] = price_N_steady\n",
    "\n",
    "#         for s in range(2):\n",
    "#             initial_household = self.household(s, self.G+self.T-1, self.T) # первое родившееся поколение в период self.T\n",
    "#             self.c[s, self.G+self.T-1, self.T],self.l[s, self.G+self.T-1,self.T],self.a[s, self.G+self.T-1,self.T] = initial_household\n",
    "#             for t in range(self.T,self.G+self.T):\n",
    "#                 self.c[s, self.G+self.T-1, t],self.l[s, self.G+self.T-1,t],self.a[s, self.G+self.T-1,t] = self.household(s, self.G+self.T-1, t)\n",
    "#             for g in range(self.G+self.T-2, self.T-1, -1): # все поколения, живущие в периоде self.T\n",
    "\n",
    "#                 self.c[s, g, g-self.G + 1]  = initial_household[0] * A_growth**(self.G+self.T-1 - g)\n",
    "#                 self.l[s, g, g-self.G + 1]  = initial_household[1]\n",
    "#                 self.a[s, g,g-self.G + 1]  = labor_income_vector(self, s, g,g-self.G + 1, g-self.G + 2)[0]*self.l[s, g, g-self.G + 1]+self.rho[s,g,g-self.G + 1]*self.sigma[g-self.G + 1] - self.c[s, g, g-self.G + 1]*(1+self.tau_VA[g-self.G + 1])*self.price[g-self.G + 1]\n",
    "#                 for t in range(g-self.G + 2, g+1):\n",
    "#                     self.c[s, g, t],self.l[s, g, t],self.a[s, g, t] =  self.household(s, g, t)\n",
    "#         Consumption = np.sum([self.c[s,g,self.T]*self.N[s,g,self.T] for g in range(self.T, self.G+self.T) for s in range(2)])\n",
    "\n",
    "#         Labor = np.sum([self.l[s,g,self.T]*self.N[s,g,self.T]*self.epsilon[s,g,self.T] for g in range(self.T, self.G+self.T) for s in range(2)])\n",
    "\n",
    "#         Assets =  np.sum([self.a[s,g,self.T]*self.N[s,g,self.T] for g in range(self.T, self.G+self.T) for s in range(2)])\n",
    "\n",
    "#         if len(self.steady_path)==0:\n",
    "#             self.steady[10:13] = np.array([Consumption,  Labor, Assets])\n",
    "#         else:\n",
    "#             self.steady[10:13] = self.eta*np.array([Consumption,  Labor, Assets]) + (1-self.eta)*self.steady[10:13]\n",
    "# #         self.steady[10:13] = np.array([Consumption,  Labor, Assets])\n",
    "\n",
    "#         z_guess = self.steady[:10]\n",
    "        \n",
    "#         def equilibrium(z, self=self, objective = True):\n",
    "\n",
    "#             A_growth = self.A[0,self.T]/self.A[0, self.T-1]\n",
    "#             N_growth = np.sum([self.N[s,g,self.T]*self.epsilon[s,g,self.T] for g in range(self.T, self.G+self.T) for s in range(2)])/\\\n",
    "#                        np.sum([self.N[s,g,self.T-1]*self.epsilon[s,g,self.T-1] for g in range(self.T-1, self.G+self.T-1) for s in range(2)])\n",
    "\n",
    "\n",
    "#             system = [f\"{1-self.alpha}*price_N_steady * (K_N_steady)**{self.alpha} *{(self.A[0,self.T])**(1-self.alpha)}*  (L_N_steady)**({-self.alpha}) - w_steady\",\n",
    "#                       f\"price_steady - lmbda_steady *(1 - {self.psi/2} * ({A_growth*N_growth} -1)**2 - {self.psi}*{A_growth*N_growth} * ({A_growth*N_growth -1}))-{self.psi/(1+self.r[self.T+1])}*lmbda_steady  * ({A_growth*N_growth} -1)* ({A_growth*N_growth})**2\",\n",
    "#                       f\"{1/(1+self.r[self.T+1])}*(({1-self.tau_pi[self.T+1]}) *{self.alpha}*price_N_steady* (K_N_steady)**{self.alpha-1} * ({self.A[0,self.T]} *L_N_steady)**{1-self.alpha}+{self.tau_pi[self.T+1]} * {self.delta} * price_steady + lmbda_steady * ({1-self.delta})) - lmbda_steady\",\n",
    "#                       f\"({1-self.delta})* K_N_steady + I_N_steady*(1-{self.psi/2}*({A_growth*N_growth} -1)**2) - K_N_steady*{A_growth*N_growth}\",\n",
    "#                       f\"{1-self.alpha}*{self.price_E[self.T]} * (K_E_steady)**{self.alpha} *{(self.A[0,self.T])**(1-self.alpha)}*  (L_E_steady)**({-self.alpha}) - w_steady\",\n",
    "#                       f\"{1/(1+self.r[self.T+1])}*(({1-self.tau_pi[self.T+1]}) *{self.alpha}* {self.price_E[self.T+1]}* (K_E_steady)**{self.alpha-1} * ({self.A[1,self.T]} *L_E_steady)**{1-self.alpha}+{self.tau_pi[self.T+1]} * {self.delta} * price_steady + lmbda_steady * ({1-self.delta})) - lmbda_steady\",\n",
    "#                       f\"({1-self.delta})* K_E_steady + I_E_steady*(1-{self.psi/2}*({A_growth*N_growth} -1)**2) - K_E_steady*{A_growth*N_growth}\"\n",
    "#                       , f\"L_N_steady+L_E_steady - {self.steady[11]}\"\n",
    "#                       ,f\"price_N_steady*(K_N_steady**{self.alpha} * ({self.A[0, self.T]}*L_N_steady)**({1-self.alpha}) -{self.Gov[self.T]})- (1-{self.omega}) * price_steady * ({self.steady[10]}+I_N_steady+I_E_steady)\"\n",
    "#                       ,f\"price_steady - {self.price_M[self.T]**self.omega}*price_N_steady**({1-self.omega})\"\n",
    "#                       ]\n",
    "#             name_space = {label:value for label, value in zip((\"self\",\"I_N_steady\", \"K_N_steady\", \"L_N_steady\", \"I_E_steady\", \"K_E_steady\", \"L_E_steady\",\"lmbda_steady\", \"w_steady\", \"price_steady\", \"price_N_steady\"),[self]+list(z))}\n",
    "\n",
    "#             if objective:\n",
    "#                 sum_of_squares = \"+\".join([f\"({equation})**2\" for equation in system])\n",
    "#                 F = eval(sum_of_squares,{},name_space)\n",
    "#             else:\n",
    "#                 F = [eval(equation,{},name_space) for equation in system]\n",
    "#             return F\n",
    "#         def equilibrium_gradient(z, self=self, objective = True):\n",
    "\n",
    "#             A_growth = self.A[0,self.T]/self.A[0, self.T-1]\n",
    "#             N_growth = np.sum([self.N[s,g,self.T]*self.epsilon[s,g,self.T] for g in range(self.T, self.G+self.T) for s in range(2)])/\\\n",
    "#                        np.sum([self.N[s,g,self.T-1]*self.epsilon[s,g,self.T-1] for g in range(self.T-1, self.G+self.T-1) for s in range(2)])\n",
    "\n",
    "#             gradient = [\n",
    "#                 # \"I_N_steady\"\n",
    "#                 [\"0\",\n",
    "#                          \"0\",\n",
    "#                          \"0\",\n",
    "#                          f\"(1-{self.psi/2}*({A_growth*N_growth} -1)**2)\",\n",
    "#                          \"0\",\n",
    "#                          \"0\"\n",
    "#                          ,\"0\"\n",
    "#                          ,\"0\"\n",
    "#                          ,f\"({1-self.omega}) * price_steady\"\n",
    "#                          ,\"0\"\n",
    "#                 ],\n",
    "#                         # \"K_N_steady\"\n",
    "#                         [f\"{1-self.alpha}*{self.alpha}*price_N_steady * K_N_steady**{self.alpha-1} *{(self.A[0,self.T])**(1-self.alpha)}* L_N_steady**{-self.alpha}\",\n",
    "#                          \"0\",\n",
    "#                          f\"{1/(1+self.r[self.T+1])}*({1-self.tau_pi[self.T+1]} *{self.alpha}*{self.alpha-1}* price_N_steady* (K_N_steady)**{self.alpha-2} * ({self.A[0,self.T]} *L_N_steady)**{1-self.alpha})\",\n",
    "#                          f\"{1-self.delta} - {A_growth*N_growth}\",\n",
    "#                          \"0\",\n",
    "#                          \"0\",\n",
    "#                          \"0\"\n",
    "#                          ,\"0\"\n",
    "#                          ,f\"price_N_steady*{self.alpha}*K_N_steady**{self.alpha-1} * ({self.A[0, self.T]}*L_N_steady)**{1-self.alpha}\"\n",
    "#                          ,\"0\"\n",
    "#                         ],\n",
    "#                         # \"L_N_steady\"\n",
    "#                         [\n",
    "#                             f\"price_N_steady *{1-self.alpha} * (K_N_steady)**{self.alpha} *{(self.A[0,self.T])**(1-self.alpha)}*{-self.alpha} *(L_N_steady)**{-self.alpha-1}\",\n",
    "#                             \"0\",\n",
    "#                             f\"\"\"{1/(1+self.r[self.T+1])}*{1-self.tau_pi[self.T+1]} *{self.alpha}* price_N_steady*(K_N_steady)**{self.alpha-1} *({self.A[0,self.T]})**{1-self.alpha} *{1-self.alpha}*L_N_steady**{-self.alpha}\"\"\",\n",
    "#                             \"0\",\n",
    "#                             \"0\",\n",
    "#                             \"0\",\n",
    "#                             \"0\"\n",
    "#                             ,\"1\"\n",
    "#                             ,f\"price_N_steady*K_N_steady**{self.alpha} * ({self.A[0, self.T]})**{1-self.alpha}*{1-self.alpha}*L_N_steady**{-self.alpha}\"\n",
    "#                             ,\"0\"\n",
    "#                         ],\n",
    "#                         # I_E_steady\n",
    "#                         [\"0\",\n",
    "#                          \"0\",\n",
    "#                          \"0\",\n",
    "#                          \"0\",\n",
    "#                          \"0\",\n",
    "#                          \"0\",\n",
    "#                          f\"(1-{self.psi/2}*({A_growth*N_growth} -1)**2)\"\n",
    "#                          ,\"0\"\n",
    "#                          ,f\"({1-self.omega}) * price_steady\"\n",
    "#                          ,\"0\"\n",
    "#                         ],\n",
    "#                         # K_E_steady\n",
    "#                         [\"0\",\n",
    "#                          \"0\",\n",
    "#                          \"0\",\n",
    "#                          \"0\",\n",
    "#                          f\"{1-self.alpha}*{self.alpha}*{self.price_E[self.T]} * K_E_steady**{self.alpha-1} *{(self.A[1,self.T])**(1-self.alpha)}* L_E_steady**{-self.alpha}\",\n",
    "#                          f\"{1/(1+self.r[self.T+1])}*({1-self.tau_pi[self.T+1]} *{self.alpha}*{self.alpha-1}* {self.price_E[self.T]}* (K_E_steady)**{self.alpha-2} * ({self.A[1,self.T]} *L_E_steady)**{1-self.alpha})\",\n",
    "#                          f\"{1-self.delta} - {A_growth*N_growth}\"\n",
    "#                          ,\"0\"\n",
    "#                          ,\"0\"\n",
    "#                          ,\"0\"\n",
    "#                         ],\n",
    "#                         # L_E_steady\n",
    "#                         [\"0\",\n",
    "#                          \"0\",\n",
    "#                          \"0\",\n",
    "#                          \"0\",\n",
    "#                         f\"{self.price_E[self.T]} *{1-self.alpha} * (K_E_steady)**{self.alpha} *{(self.A[1,self.T])**(1-self.alpha)}*{-self.alpha} *(L_E_steady)**{-self.alpha-1}\",\n",
    "#                         f\"\"\"{1/(1+self.r[self.T+1])}*{1-self.tau_pi[self.T+1]} *{self.alpha}* {self.price_E[self.T]}*(K_E_steady)**{self.alpha-1} *({self.A[1,self.T]})**{1-self.alpha} *{1-self.alpha}*L_E_steady**{-self.alpha}\"\"\",\n",
    "#                         \"0\"\n",
    "#                         ,\"1\"\n",
    "#                         ,\"0\"\n",
    "#                         ,\"0\"\n",
    "#                         ],\n",
    "#                         # lmbda_steady\n",
    "#                         [\"0\",\n",
    "#                          f\"-(1 - {self.psi/2} * ({A_growth*N_growth} -1)**2 - {self.psi}*{A_growth*N_growth} * ({A_growth*N_growth} -1))-{self.psi/(1+self.r[self.T+1])}* ({A_growth*N_growth} -1)* {A_growth*N_growth}**2\",\n",
    "#                          f\"{1/(1+self.r[self.T+1])}*{1-self.delta} - 1\",\n",
    "#                          \"0\",\n",
    "#                          \"0\",\n",
    "#                          f\"{1/(1+self.r[self.T+1])}*{1-self.delta} - 1\",\n",
    "#                          \"0\"\n",
    "#                          ,\"0\"\n",
    "#                          ,\"0\"\n",
    "#                          ,\"0\"\n",
    "#                         ],\n",
    "#                         # w_steady\n",
    "#                         [\"-1\",\n",
    "#                          \"0\",\n",
    "#                          \"0\",\n",
    "#                          \"0\",\n",
    "#                          \"-1\",\n",
    "#                          \"0\",\n",
    "#                          \"0\"\n",
    "#                          ,\"0\"\n",
    "#                          ,\"0\"\n",
    "#                          ,\"0\"\n",
    "#                         ],\n",
    "#                         # price_steady\n",
    "#                         [\"0\",\n",
    "#                          \"1\",\n",
    "#                          f\"{1/(1+self.r[self.T+1])}*{self.tau_pi[self.T+1]} * {self.delta}\",\n",
    "#                          \"0\",\n",
    "#                          \"0\",\n",
    "#                          f\"{1/(1+self.r[self.T+1])}*{self.tau_pi[self.T+1]} * {self.delta}\",\n",
    "#                          \"0\"\n",
    "#                          ,\"0\"\n",
    "#                          ,f\"-(1-{self.omega}) * ({self.steady[10]}+I_N_steady+I_E_steady)\"\n",
    "#                          ,\"1\"\n",
    "#                          ],\n",
    "#                         # price_N_steady\n",
    "#                         [f\"{1-self.alpha}*(K_N_steady)**{self.alpha} *{(self.A[0,self.T])**(1-self.alpha)}*  (L_N_steady)**({-self.alpha})\",\n",
    "#                          \"0\",\n",
    "#                          f\"{1/(1+self.r[self.T+1])}*({1-self.tau_pi[self.T+1]}) *{self.alpha}* (K_N_steady)**{self.alpha-1} * ({self.A[0,self.T]} *L_N_steady)**{1-self.alpha}\",\n",
    "#                          \"0\",\n",
    "#                          \"0\",\n",
    "#                          \"0\",\n",
    "#                          \"0\"\n",
    "#                          ,\"0\"\n",
    "#                          ,f\"K_N_steady**{self.alpha} * ({self.A[0, self.T]}*L_N_steady)**({1-self.alpha}) -{self.Gov[self.T]}\"\n",
    "#                          ,f\"- {self.price_M[self.T]**self.omega}*{1-self.omega}*price_N_steady**({-self.omega})\"\n",
    "#                          ]]\n",
    "#             name_space = {label:value for label, value in zip((\"self\",\"I_N_steady\", \"K_N_steady\", \"L_N_steady\",\"I_E_steady\", \"K_E_steady\", \"L_E_steady\", \"lmbda_steady\", \"w_steady\", \"price_steady\", \"price_N_steady\"),[self]+list(z))}\n",
    "#             if objective:\n",
    "#                 target_system = equilibrium(z, self, False)\n",
    "#                 sum_of_gradient = [\"+\".join([f\"2*({outer})*({inner})\" for outer, inner in zip(target_system, row)]) for row in gradient]\n",
    "#                 J = [eval(equation,{},name_space) for equation in sum_of_gradient]\n",
    "#             else:\n",
    "#                 J = [[eval(equation,{},name_space) for equation in row] for row in gradient]\n",
    "#             return J\n",
    "            \n",
    "# #         obj_jit = jit(equilibrium)\n",
    "# #         obj_grad = equilibrium_gradient\n",
    "# #         obj_hess = jit(jacrev(jacfwd(obj_jit)))\n",
    "#         def eq_constraints(z, self=self, objective = True):\n",
    "\n",
    "#             A_growth = self.A[0,self.T]/self.A[0, self.T-1]\n",
    "#             N_growth = np.sum([self.N[s,g,self.T]*self.epsilon[s,g,self.T] for g in range(self.T, self.G+self.T) for s in range(2)])/\\\n",
    "#                        np.sum([self.N[s,g,self.T-1]*self.epsilon[s,g,self.T-1] for g in range(self.T-1, self.G+self.T-1) for s in range(2)])\n",
    "\n",
    "\n",
    "#             system = [\n",
    "#                       f\"price_steady - {self.price_M[self.T]**self.omega}*price_N_steady**({1-self.omega})\"\n",
    "# #                       ,f\"L_N_steady+L_E_steady - {self.steady[11]}\"\n",
    "# #                       ,f\"price_N_steady*(K_N_steady**{self.alpha} * ({self.A[0, self.T]}*L_N_steady)**({1-self.alpha}) -{self.Gov[self.T]})- (1-{self.omega}) * price_steady * ({self.steady[10]}+I_N_steady+I_E_steady)\"\n",
    "#                       ]\n",
    "#             name_space = {label:value for label, value in zip((\"self\",\"I_N_steady\", \"K_N_steady\", \"L_N_steady\", \"I_E_steady\", \"K_E_steady\", \"L_E_steady\",\"lmbda_steady\", \"w_steady\", \"price_steady\", \"price_N_steady\"),[self]+list(z))}\n",
    "\n",
    "#             if objective:\n",
    "#                 sum_of_squares = \"+\".join([f\"({equation})**2\" for equation in system])\n",
    "#                 F = eval(sum_of_squares,{},name_space)\n",
    "#             else:\n",
    "#                 F = [eval(equation,{},name_space) for equation in system]\n",
    "#             return F\n",
    "        \n",
    "#         obj_jit = jit(equilibrium)\n",
    "# #         con_eq_jit = jit(eq_constraints)\n",
    "\n",
    "#         # build the derivatives and jit them\n",
    "#         obj_grad = equilibrium_gradient  # objective gradient\n",
    "#         obj_hess = jit(jacrev(jacfwd(obj_jit)))# objective hessian\n",
    "        \n",
    "# #         con_eq_jac = jit(jacfwd(con_eq_jit))  # jacobian\n",
    "# #         con_eq_hess = jacrev(jacfwd(con_eq_jit)) # hessian\n",
    "# #         con_eq_hessvp = jit(lambda x, v: con_eq_hess(x) * v[0]) # hessian vector-product\n",
    "# #         cons = [\n",
    "# #             {'type': 'eq', 'fun': con_eq_jit, 'jac': con_eq_jac, 'hess': con_eq_hessvp}\n",
    "# #          ]\n",
    "        \n",
    "#         result = minimize_ipopt(obj_jit, jac=obj_grad, hess=obj_hess, x0=z_guess\n",
    "#                                 , options = {\"max_iter\":self.steady_max_iter, \"print_level\":0,\n",
    "#                                              \"check_derivatives_for_naninf\":\"yes\"}\n",
    "# #                                , constraints = cons\n",
    "#                                 , tol=1e-7)\n",
    "        \n",
    "        \n",
    "#         if result[\"success\"]:\n",
    "#             self.steady[:10] = self.eta*result[\"x\"] + (1-self.eta)*z_guess\n",
    "#             self.steady_max_iter = 1000\n",
    "#             eq_res = equilibrium(self.steady[:10], self, False)\n",
    "#         else:\n",
    "#             if result[\"status\"]==-1:\n",
    "#                 self.steady_max_iter += 1000\n",
    "#             self.steady[:10] = z_guess\n",
    "#             eq_res = equilibrium(z_guess, self, False)\n",
    "            \n",
    "# #             labor market\n",
    "#             if abs(eq_res[7])>10:\n",
    "#                 sign = np.sign(eq_res[7]) \n",
    "#                 if np.sign(self.steady_error[0]) != sign:\n",
    "#                     self.steady_eta[0] = self.steady_eta[0] / 2\n",
    "#                 self.steady[7] = (1+self.steady_eta[0])**(sign)*z_guess[7]\n",
    "            \n",
    "# #             goods market\n",
    "# #             if abs(eq_res[8])>10:\n",
    "# #                 sign = np.sign(eq_res[8]) \n",
    "# #                 if np.sign(self.steady_error[1]) != sign:\n",
    "# #                     self.steady_eta[1] = self.steady_eta[1] / 2\n",
    "# #                 self.steady[8] = (1+self.steady_eta[1]*2)**(-sign)*z_guess[8]\n",
    "        \n",
    "#         self.steady_error = eq_res[7], eq_res[8]\n",
    "                \n",
    "#         self.steady_path.append((result, np.array(self.steady)\n",
    "#                                  ,np.array(self.steady_error)\n",
    "#                                  ,np.array(self.steady_eta)\n",
    "#                                ))\n",
    "\n",
    "#     def create_guess(self):\n",
    "\n",
    "#         A_growth = self.A[0,self.T]/self.A[0, self.T-1]\n",
    "#         N_growth = np.sum([self.N[s,g,self.T]*self.epsilon[s,g,self.T] for g in range(self.T, self.G+self.T) for s in range(2)])/\\\n",
    "#                    np.sum([self.N[s,g,self.T-1]*self.epsilon[s,g,self.T-1] for g in range(self.T-1, self.G+self.T-1) for s in range(2)])\n",
    "\n",
    "#         I_N_steady, K_N_steady, L_N_steady,I_E_steady, K_E_steady, L_E_steady, lmbda_steady, w_steady, price_steady, price_N_steady = self.steady[:10]\n",
    "\n",
    "#         for t in range(self.T-self.G + 1, max_time):\n",
    "#             self.w[t] = w_steady* A_growth**(t - self.T)\n",
    "#             self.price[t] = price_steady\n",
    "#             self.price_N[t] = price_N_steady\n",
    "\n",
    "#             self.I[0,t] = I_N_steady*(A_growth*N_growth)**(t - self.T)\n",
    "#             self.K[0,t] = K_N_steady*(A_growth*N_growth)**(t - self.T)\n",
    "#             self.L[0,t] = L_N_steady*(N_growth)**(t - self.T)\n",
    "#             self.lmbda[0,t] = lmbda_steady\n",
    "\n",
    "#             self.I[1,t] = I_E_steady*(A_growth*N_growth)**(t - self.T)\n",
    "#             self.K[1,t] = K_E_steady*(A_growth*N_growth)**(t - self.T)\n",
    "#             self.L[1,t] = L_E_steady*(N_growth)**(t - self.T)\n",
    "#             self.lmbda[1,t] = lmbda_steady\n",
    "\n",
    "#         steady_start = self.T-self.G + 1\n",
    "#         self.price_N[:steady_start] = np.linspace(initial[\"price_N\"], self.price_N[steady_start], steady_start,endpoint=False)\n",
    "#         self.I[0,:steady_start] = np.linspace(initial[\"I_N\"], self.I[0,steady_start], steady_start,endpoint=False)\n",
    "#         self.K[0,:steady_start] = np.linspace(initial[\"K_N\"], self.K[0,steady_start], steady_start,endpoint=False)\n",
    "#         self.L[0,:steady_start] = np.linspace(initial[\"L_N\"], self.L[0,steady_start], steady_start,endpoint=False)\n",
    "#         # self.lmbda[0,:steady_start] = np.linspace(initial[\"price_N\"], self.lmbda[0,steady_start], steady_start,endpoint=False)\n",
    "\n",
    "#         self.I[1,:steady_start] = np.linspace(initial[\"I_E\"], self.I[1,steady_start], steady_start,endpoint=False)\n",
    "#         self.K[1,:steady_start] = np.linspace(initial[\"K_E\"], self.K[1,steady_start], steady_start,endpoint=False)\n",
    "#         self.L[1,:steady_start] = np.linspace(initial[\"L_E\"], self.L[1,steady_start], steady_start,endpoint=False)\n",
    "#         # self.lmbda[1,:steady_start] = np.linspace(initial[\"price_N\"], self.lmbda[1,steady_start], steady_start,endpoint=False)\n",
    "\n",
    "\n",
    "#         self.w[:steady_start] = ((self.price_N[:steady_start] *(1-self.alpha)*(self.K[0,:steady_start])**self.alpha *(self.A[0,:steady_start])**(1-self.alpha)*(self.L[0,:steady_start])**(-self.alpha))+\n",
    "#               (self.price_E[:steady_start] *(1-self.alpha)*(self.K[1,:steady_start])**self.alpha *(self.A[1,:steady_start])**(1-self.alpha)*(self.L[1,:steady_start])**(-self.alpha)))/2\n",
    "\n",
    "#         self.price[:steady_start] = (self.price_M[:steady_start])**self.omega * (self.price_N[:steady_start])**(1-self.omega)\n",
    "\n",
    "#     def update_guess(self):\n",
    "\n",
    "#         ## Endogenous variables\n",
    "\n",
    "#         def labor_demand_euler(params, S,  t):\n",
    "#             if S == 1: # export\n",
    "#                 sectoral_price = params.price_E[t]\n",
    "#             elif S==0: # non-export\n",
    "#                 sectoral_price = f\"self.price_N[{t}]\"\n",
    "#             return f\"({1-params.alpha})* {sectoral_price} * ({params.K[S,t]})**{params.alpha} *{(params.A[S,t])**(1-params.alpha)}*  (self.L[{S},{t}])**({-params.alpha}) - self.w[{t}]\"\n",
    "\n",
    "\n",
    "#         def investment_euler(params, S, t):\n",
    "#             return f\"self.price[{t}] - self.lmbda[{S},{t}] *(1 - {params.psi/2} * (self.I[{S},{t}]/{params.I[S,t-1]} -1)**2 - {params.psi}*self.I[{S},{t}]/{params.I[S,t-1]} * (self.I[{S},{t}]/{params.I[S,t-1]} -1))-{params.psi/(1+params.r[t+1])}*{params.lmbda[S,t+1]}  * ({params.I[S,t+1]}/self.I[{S},{t}] -1)* ({params.I[S,t+1]}/self.I[{S},{t}])**2\"\n",
    "\n",
    "\n",
    "#         def capital_euler(params, S, t):\n",
    "#             if S == 1: # export\n",
    "#                 sectoral_price = params.price_E[t+1]\n",
    "#             elif S==0: # non-export\n",
    "#                 sectoral_price = params.price_N[t+1]\n",
    "#             return f\"{1/(1+params.r[t+1])}*(({1-params.tau_pi[t+1]}) *{params.alpha}* {sectoral_price}* (self.K[{S},{t+1}])**{params.alpha-1} * ({params.A[S,t+1]} *{params.L[S,t+1]})**{1-params.alpha}+{params.tau_pi[t+1]} * {params.delta} * {params.price[t+1]} + {params.lmbda[S,t+1]} * ({1-params.delta})) - self.lmbda[{S},{t}]\"\n",
    "\n",
    "\n",
    "#         def capital_accomodation(params, S, t):\n",
    "#             return f\" ({1-params.delta})* {params.K[S,t]} + self.I[{S},{t}]*(1-{params.psi/2}*(self.I[{S},{t}]/{params.I[S,t-1] -1})**2) - self.K[{S},{t+1}]\"\n",
    "\n",
    "#         def labor_market_clearing(params, t):\n",
    "#             L = np.sum([params.l[s,g,t]*params.N[s,g,t]*params.epsilon[s,g,t] for g in range(t, params.G+t) for s in range(2)])\n",
    "#             return f\"self.L[0,{t}]+self.L[1,{t}] - {L}\"\n",
    "\n",
    "#         def goods_market_clearing(params, t):\n",
    "#             C = np.sum([params.c[s,g,t]*params.N[s,g,t] for g in range(t, params.G+t) for s in range(2)])\n",
    "#             return [f\"{params.K[0,t]}**{params.alpha} * ({params.A[0, t]}*self.L[{0},{t}])**(1-{params.alpha}) -{params.Gov[t]}- (1-{params.omega}) * self.price[{t}]/self.price_N[{t}] * ({C}+self.I[0,{t}]+self.I[1,{t}])\",\n",
    "#                 f\"self.price[{t}] - {params.price_M[t]**params.omega}*self.price_N[{t}]**({1-params.omega})\"]\n",
    "\n",
    "#         def labor_derivative(params, S, t):\n",
    "#             if S == 1: # export\n",
    "#                 sectoral_price = params.price_E[t]\n",
    "#             elif S==0: # non-export\n",
    "#                 sectoral_price = f\"self.price_N[{t}]\"\n",
    "#             nulls = [\"0\" for _ in range(4)]\n",
    "#             # порядок: I[S,t], K[S,t+1], L[S, t], lmbda[S,t]\n",
    "\n",
    "#             derivatives = [\"0\", \"0\",\n",
    "#                     f\"\"\"{(-params.alpha)*(1-params.alpha)*(params.A[S,t])**(1-params.alpha)}*{sectoral_price}*{params.K[S,t]}**{params.alpha}*self.L[{S},{t}]**{-1-params.alpha}\"\"\", \"0\"]\n",
    "#             if S == 1: # export\n",
    "#                 return nulls+derivatives+[\"-1\"]+[\"0\",\"0\"]\n",
    "#             elif S==0: # non-export\n",
    "#                 return derivatives+nulls+[\"-1\"]+[f\"\"\"{(1-params.alpha)*(params.A[S,t])**(1-params.alpha)}*{sectoral_price}*{params.K[S,t]}**{params.alpha}*self.L[{S},{t}]**{-params.alpha}\"\"\",\"0\"]\n",
    "#         def investment_derivative(params, S, t):\n",
    "#             nulls = [\"0\" for _ in range(4)]\n",
    "\n",
    "#             derivatives= [\n",
    "#                 f\"- self.lmbda[{S},{t}] *(1 - {params.psi}/{params.I[S,t-1]} * (self.I[{S},{t}]/{params.I[S,t-1]} -1)**2 - {params.psi}/{params.I[S,t-1]} * (self.I[{S},{t}]/{params.I[S,t-1]} -1)- {params.psi}*self.I[{S},{t}]/{params.I[S,t-1]**2})-{params.psi/(1+params.r[t+1])}*{params.lmbda[S,t+1]}  * ({params.I[S,t+1]}**2 * (-2)/self.I[{S},{t}]**3 * ({params.I[S,t+1]}/self.I[{S},{t}] -1)+self.I[{S},{t}]*(-1)/self.I[{S},{t}]**2 * ({params.I[S,t+1]}/self.I[{S},{t}])**2)\",\n",
    "#                     \"0\",\n",
    "#                     \"0\",\n",
    "#                     f\"-  (1 - {params.psi/2} * (self.I[{S},{t}]/{params.I[S,t-1]} -1)**2 - {params.psi}*self.I[{S},{t}]/{params.I[S,t-1]} * (self.I[{S},{t}]/{params.I[S,t-1]} -1))\"\n",
    "#                     ]\n",
    "#             if S == 1: # export\n",
    "#                 return nulls+derivatives+[\"0\",\"0\",\"1\"]\n",
    "#             elif S==0: # non-export\n",
    "#                 return derivatives+nulls+[\"0\",\"0\",\"1\"]\n",
    "\n",
    "\n",
    "#         def capital_derivative(params, S, t):\n",
    "#             if S == 1: # export\n",
    "#                 sectoral_price = params.price_E[t+1]\n",
    "#             elif S==0: # non-export\n",
    "#                 sectoral_price = params.price_N[t+1]\n",
    "#             nulls = [\"0\" for _ in range(4)]\n",
    "\n",
    "#             derivatives = [\"0\",f\"\"\"1/({1+params.r[t+1]}) * {(1-params.tau_pi[t+1])*params.alpha*(params.alpha-1)}*{sectoral_price} * {(params.A[S,t+1])**(1-params.alpha)} * (self.K[{S},{t+1}])**{params.alpha-2} * ({params.L[S,t+1]})**({1-params.alpha})\"\"\" ,\"0\", \"-1\"]\n",
    "#             if S == 1: # export\n",
    "#                 return nulls+derivatives+[\"0\",\"0\",\"0\"]\n",
    "#             elif S==0: # non-export\n",
    "#                 return derivatives+nulls+[\"0\",\"0\",\"0\"]\n",
    "\n",
    "#         def capital_accommodation_derivative(params, S, t):\n",
    "\n",
    "#             nulls = [\"0\" for _ in range(4)]\n",
    "#             derivatives = [f\"\"\"((1-{params.psi/2}*(self.I[{S},{t}]/{params.I[S,t-1]} - 1))**2-self.I[{S},{t}] * ({-params.psi}/{params.I[S,t-1]} * (self.I[{S},{t}]/{params.I[S,t-1]} - 1)))\"\"\",\"-1\",\"0\",\"0\"]\n",
    "#             if S == 1: # export\n",
    "#                 return nulls+derivatives+[\"0\",\"0\",\"0\"]\n",
    "#             elif S==0: # non-export\n",
    "#                 return derivatives+nulls+[\"0\",\"0\",\"0\"]\n",
    "\n",
    "\n",
    "#         def labor_market_clearing_derivative():\n",
    "#             return [\"0\",\"0\",\"1\",\"0\",\"0\",\"0\",\"1\",\"0\",\"0\",\"0\",\"0\"]\n",
    "\n",
    "#         def goods_market_clearing_derivative(params, t):\n",
    "#             C = np.sum([params.c[s,g,t]*params.N[s,g,t] for g in range(t, params.G+t) for s in range(2)])\n",
    "#             return [f\"- (1-{params.omega}) * self.price[{t}]/self.price_N[{t}]\",\n",
    "#                    \"0\",\n",
    "#                    f\"({1-params.alpha})*self.K[{0},{t}]**{params.alpha} * {params.A[0, t]}**{1-params.alpha} *self.L[{0},{t}]**(-{params.alpha})\",\n",
    "#                    \"0\",\n",
    "#                    f\"- (1-{params.omega}) * self.price[{t}]/self.price_N[{t}]\",\n",
    "#                    \"0\",\n",
    "#                    \"0\",\n",
    "#                    \"0\",\n",
    "#                    \"0\",\n",
    "#                    f\"-(1-{params.omega})*(-1) * self.price[{t}]/self.price_N[{t}]**2 * ({C}+self.I[0,{t}]+self.I[1,{t}])\",\n",
    "#                    f\"-(1-{params.omega}) /self.price_N[{t}] * ({C}+self.I[0,{t}]+self.I[1,{t}])\"\n",
    "#                    ]\n",
    "#         def price_derivative(params,t):\n",
    "#             return [\"0\",\n",
    "#                    \"0\",\n",
    "#                    \"0\",\n",
    "#                    \"0\",\n",
    "#                    \"0\",\n",
    "#                    \"0\",\n",
    "#                    \"0\",\n",
    "#                    \"0\",\n",
    "#                    \"0\",\n",
    "#                    f\" -({1-params.omega})* {params.price_M[t]**params.omega}*self.price_N[{t}]**({-params.omega})\",\n",
    "#                     \"1\"]\n",
    "\n",
    "#         def production_jacobian(z,self, t):\n",
    "#             self.I[:,t] = z[0],z[4]\n",
    "#             self.K[:,t+1] = z[1],z[5]\n",
    "#             self.L[:,t] = z[2],z[6]\n",
    "#             self.lmbda[:,t] = z[3],z[7]\n",
    "#             self.w[t] = z[8]\n",
    "#             self.price_N[t] = z[9]\n",
    "#             self.price[t] = z[10]\n",
    "\n",
    "#             system = [[labor_derivative(self, S, t), investment_derivative(self, S, t), capital_derivative(self, S, t), capital_accommodation_derivative(self, S, t)] for S in range(2)]\n",
    "#             system = list(itertools.chain(*(system)))+[labor_market_clearing_derivative(),goods_market_clearing_derivative(self, t), price_derivative(self,t)]\n",
    "#             system = list(np.array(system).transpose())\n",
    "#             sum_of_squares = [\"+\".join([f\"2*({equation})\" for equation in column]) for column in system]\n",
    "#             # J = [[eval(equation,{},{\"self\":self}) for equation in row] for row in system]\n",
    "#             J = [eval(equation,{},{\"self\":self}) for equation in sum_of_squares]\n",
    "#             return J\n",
    "\n",
    "\n",
    "\n",
    "#         def production(z,self, t):\n",
    "#             self.I[:,t] = z[0],z[4]\n",
    "#             self.K[:,t+1] = z[1],z[5]\n",
    "#             self.L[:,t] = z[2],z[6]\n",
    "#             self.lmbda[:,t] = z[3],z[7]\n",
    "#             self.w[t] = z[8]\n",
    "#             self.price_N[t] = z[9]\n",
    "#             self.price[t] = z[10]\n",
    "\n",
    "#             production_system = [[labor_demand_euler(self, S, t),\n",
    "#                           investment_euler(self, S, t),\n",
    "#                           capital_euler(self,S,t),\n",
    "#                           capital_accomodation(self,S,t)] for S in range(2)]\n",
    "\n",
    "#             labor_market = labor_market_clearing(self, t)\n",
    "#             goods_market = goods_market_clearing(self, t)\n",
    "\n",
    "#             system = list(itertools.chain(*(production_system)))+[labor_market] + goods_market\n",
    "#             sum_of_squares = \"+\".join([f\"({equation})**2\" for equation in system])\n",
    "#             # F = [eval(equation,{},{\"self\":self}) for equation in system]\n",
    "#             F = eval(sum_of_squares,{},{\"self\":self})\n",
    "#             return F\n",
    "#         # def production(z,self, t, S):\n",
    "#         #     self.I[S,t],self.K[S,t+1],self.L[S,t],self.lmbda[S,t] = z\n",
    "#         #\n",
    "#         #     system = [labor_demand_euler(self, S, t)]+[investment_euler(self, S, t)]+[capital_euler(self,S,t)]+[capital_accomodation(self,S,t)]\n",
    "#         #     F = [eval(equation,{},{\"self\":self}) for equation in system]\n",
    "#         #     return F\n",
    "\n",
    "#         # def market_clearing(z, self, t):\n",
    "#         #     self.w[t], self.price_N[t], self.price[t] = z\n",
    "#         #     system = [labor_market_clearing(self,t)]+goods_market_clearing(self, t)\n",
    "#         #     F = [eval(equation,{},{\"self\":self}) for equation in system]\n",
    "#         #     return F\n",
    "\n",
    "\n",
    "\n",
    "#         # Households (analytical solution)\n",
    "#         for s in range(2):\n",
    "#             for t in range(self.T):\n",
    "#                 for g in range(t, self.G+t):\n",
    "#                     self.c[s, g, t],self.l[s, g, t],self.a[s, g, t]  = self.household(s,g,t)\n",
    "#         for t in range(self.T):\n",
    "#             z_guess = [self.I[0,t],self.K[0,t+1],self.L[0,t],self.lmbda[0,t], self.I[1,t],self.K[1,t+1],self.L[1,t],self.lmbda[1,t],self.w[t], self.price_N[t], self.price[t]]\n",
    "#             # z = fsolve(production,z_guess, fprime=production_jacobian,maxfev=500,\n",
    "#             #        args = (self, t))\n",
    "\n",
    "#             # result = minimize_ipopt(production, z_guess, args = (self, t))#,jac = production_jacobian)\n",
    "#             z = result[\"x\"]\n",
    "#             # z = np.array(z_guess) * (1-self.eta) + np.array(z_update) * (self.eta)\n",
    "#             self.I[:,t] = z[0],z[4]\n",
    "#             self.K[:,t+1] = z[1],z[5]\n",
    "#             self.L[:,t] = z[2],z[6]\n",
    "#             self.lmbda[:,t] = z[3],z[7]\n",
    "#             self.w[t] = z[8]\n",
    "#             self.price_N[t] = z[9]\n",
    "#             self.price[t] = z[10]\n",
    "#             # Market clearing (analytical solution)\n",
    "#             self.Y = self.K**self.alpha * (self.L*self.A)**(1-self.alpha)\n",
    "#             self.D = self.I.sum(axis = 0)+(self.N[:,:self.c.shape[1],:]*self.c[:,:self.c.shape[1],:]).sum(axis=0).sum(axis =0)\n",
    "#             self.M =  self.omega * self.D * self.price / self.price_M\n"
   ]
  },
  {
   "cell_type": "code",
   "execution_count": 191,
   "metadata": {},
   "outputs": [],
   "source": [
    "class OLG_model:\n",
    "    def __init__(self, G,T,N,epsilon, rho, sigma,Pi,r,price_M, price_E, tau_I,tau_Ins, tau_pi, tau_VA, tau_rho, beta, phi , theta , psi, omega, alpha, delta, A,initial, eta,steady_max_iter,steady_guess):\n",
    "        \"\"\"\n",
    "        OLG model\n",
    "        :param G: number of generations, default is 110\n",
    "        :param T: simulation time, default is 500\n",
    "        :param N_female: population (G+T-1, T) matrix where N[g,t] is cohort size of generation g in period t\n",
    "        :param N_male: population (G+T-1, T) matrix where N[g,t] is cohort size of generation g in period t\n",
    "        :param epsilon_female: female cohort- and year-specific productivity\n",
    "        :param epsilon_male: male cohort- and year-specific productivity\n",
    "        :param rho_female: female cohort- and year-specific retirement rate\n",
    "        :param rho_male: male cohort- and year-specific retirement rate\n",
    "        :param sigma: pension rate (pension point value) for T periods\n",
    "        :param Pi_female: survival probability\n",
    "        :param Pi_male: survival probability\n",
    "        :param Beq_female_to_female,Beq_female_to_male,Beq_male_to_female,Beq_male_to_male: bequest matrix\n",
    "        :param r: rate of return for T periods\n",
    "        :param price_M: import prices for T periods\n",
    "        :param price_E: export prices for T periods\n",
    "        :param tau_I: income tax for T periods\n",
    "        :param tau_Ins: insurance tax for T periods\n",
    "        :param tau_pi: profit tax for T periods\n",
    "        :param tau_VA: value-added tax for T periods\n",
    "        :param tau_rho: retirement tax for T periods\n",
    "        :param beta: elasticity of intertemporal substitution\n",
    "        :param phi: elasticity of intertemporal substitution\n",
    "        :param theta: ?\n",
    "        :param psi: ? investment cost\n",
    "        :param omega: import share\n",
    "        :param alpha: elasticity of capital\n",
    "        :param delta: deprecation rate\n",
    "        :param A_N: total factor productivity, non-export good\n",
    "        :param A_E: total factor productivity, export goods\n",
    "        \"\"\"\n",
    "\n",
    "        ## Exogenous variables and parameters\n",
    "        # Demography\n",
    "        self.G, self.T,self.N,self.epsilon,self.Pi = G, T,N,epsilon,Pi\n",
    "        # Retirement\n",
    "        self.rho,self.sigma = rho, sigma\n",
    "        # Prices\n",
    "        self.r, self.price_M, self.price_E, self.omega = r, price_M, price_E, omega\n",
    "        # Taxation\n",
    "        self.tau_I, self.tau_pi, self.tau_VA,self.tau_Ins, self.tau_rho =  tau_I, tau_pi,tau_VA,tau_Ins, tau_rho\n",
    "        # Utility\n",
    "        self.beta, self.phi, self.theta  = beta, phi, theta\n",
    "        # Production\n",
    "        self.psi, self.alpha, self.delta, self.A = psi, alpha, delta, A\n",
    "\n",
    "        self.a_initial = initial[\"a\"]\n",
    "\n",
    "\n",
    "\n",
    "        self.eta = eta\n",
    "        self.steady_max_iter = steady_max_iter\n",
    "\n",
    "        # Endogenous variable\n",
    "        # Initial guess\n",
    "        self.price_N = np.array([initial[\"price_N\"] for _ in range(max_time)])\n",
    "        self.K = np.array([[initial[\"K_N\"] for _ in range(max_time)], [initial[\"K_E\"] for _ in range(max_time)]])\n",
    "        self.L = np.array([[initial[\"L_N\"] for _ in range(max_time)], [initial[\"L_E\"] for _ in range(max_time)]])\n",
    "        self.I = np.array([[initial[\"I_N\"] for _ in range(max_time)], [initial[\"I_E\"] for _ in range(max_time)]])\n",
    "        self.Gov = np.array([initial[\"Gov\"] for _ in range(max_time)])\n",
    "\n",
    "        self.lmbda = np.array([[0.5 for _ in range(max_time)] for _ in range(2)])\n",
    "\n",
    "        self.w = ((self.price_N *(1-self.alpha)*(self.K[0])**self.alpha *(self.A[0])**(1-self.alpha)*(self.L[0])**(-self.alpha))+\n",
    "        (self.price_E *(1-self.alpha)*(self.K[1])**self.alpha *(self.A[1])**(1-self.alpha)*(self.L[1])**(-self.alpha)))/2\n",
    "\n",
    "        self.price = (self.price_M)**self.omega * (self.price_N)**(1-self.omega)\n",
    "\n",
    "\n",
    "        self.Y = self.K**self.alpha * (self.L*self.A)**(1-self.alpha)\n",
    "\n",
    "\n",
    "        self.D = self.Y[0]/(1-self.omega)* self.price_N/self.price + self.Gov\n",
    "\n",
    "        self.M = self.omega * self.D * self.price / self.price_M\n",
    "        \n",
    "        self.k = np.zeros_like(self.K)\n",
    "        self.k[0] = self.K[0]/((self.L[0]+self.L[1])*self.A[0])\n",
    "        self.k[1] = self.K[1]/((self.L[0]+self.L[1])*self.A[1])\n",
    "        \n",
    "        self.i = self.I/self.K\n",
    "        \n",
    "        self.lmbda_to_price = np.zeros_like(self.lmbda)\n",
    "        \n",
    "        self.lmbda_to_price[0] = self.lmbda[0]/self.price\n",
    "        self.lmbda_to_price[1] = self.lmbda[1]/self.price\n",
    "        \n",
    "        self.L_share = np.zeros_like(self.L)\n",
    "        self.L_share[0] = self.L[0]/(self.L[0]+self.L[1])\n",
    "        self.L_share[1] = self.L[1]/(self.L[0]+self.L[1])\n",
    "        \n",
    "\n",
    "\n",
    "        self.c =  np.array([[[0.002 if ((g >= t) and (g<=self.G+t-1)) else 0 for t in range(max_time)] for g in range(max_time)] for _ in range(2)])\n",
    "        self.a = np.array([[[0.01 if ((g >= t) and (g<=self.G+t-1)) else 0 for t in range(max_time)] for g in range(max_time)] for _ in range(2)])\n",
    "        self.gamma = np.array([[[0.9 if ((g >= t) and (g<=self.G+t-1)) else 0 for t in range(max_time)] for g in range(max_time)] for _ in range(2)])\n",
    "        self.l = np.array([[[0.4 if ((g >= t) and (g<=self.G+t-1)) else 0 for t in range(max_time)] for g in range(max_time)] for _ in range(2)])\n",
    "\n",
    "        Consumption = np.array([np.sum([self.c[s,g,t]*self.N[s,g,t] for g in range(max_time) for s in range(2)]) for t in range(max_time)])\n",
    "        self.Consumption = Consumption\n",
    "\n",
    "        Labor = np.array([np.sum([self.l[s,g,self.T]*self.N[s,g,self.T]*self.epsilon[s,g,self.T] for g in range(max_time) for s in range(2)]) for t in range(max_time)])\n",
    "        self.Labor = Labor\n",
    "\n",
    "        Assets =  np.array([np.sum([self.a[s,g,t]*self.N[s,g,t] for g in range(max_time) for s in range(2)]) for t in range(max_time)])\n",
    "        self.Assets = Assets\n",
    "\n",
    "        \n",
    "        self.steady = np.array(list(steady_guess) + [Consumption[self.T], Labor[self.T], Assets[self.T]])\n",
    "        self.steady_path = []\n",
    "        \n",
    "        self.A_growth = self.A[0,self.T]/self.A[0, self.T-1]\n",
    "        self.N_growth = np.sum([self.N[s,g,self.T]*self.epsilon[s,g,self.T] for g in range(self.T, self.G+self.T) for s in range(2)])/\\\n",
    "                   np.sum([self.N[s,g,self.T-1]*self.epsilon[s,g,self.T-1] for g in range(self.T-1, self.G+self.T-1) for s in range(2)])\n",
    "        \n",
    "\n",
    "        self.lmbda_to_price_steady = 1/((1 - self.psi/2 * (self.A_growth*self.N_growth -1)**2 - self.psi*self.A_growth*self.N_growth * (self.A_growth*self.N_growth -1))+self.psi/(1+self.r[self.T+1]) * (self.A_growth*self.N_growth -1)* (self.A_growth*self.N_growth)**2)\n",
    "        self.i_steady  = (self.A_growth*self.N_growth-1+self.delta) / (1-self.psi/2*(self.A_growth*self.N_growth -1)**2)\n",
    "\n",
    "          \n",
    "\n",
    "\n",
    "\n",
    "    def household(self, s, g, t):\n",
    "        def labor_income_vector(self, s, g, start, end):\n",
    "            return (1-self.tau_I[start:end]) * (1-(self.tau_rho[start:end] + self.tau_Ins[start:end])/(1+self.tau_rho[start:end] + self.tau_Ins[start:end])) * self.epsilon[s,g,start:end] * self.w[start:end]\n",
    "        def cumulative_rate_of_return(self,start, end):\n",
    "            if start <= end:\n",
    "                return np.prod(1+self.r[start:end]*(1-self.tau_I[start:end]))\n",
    "            else:\n",
    "                return 1\n",
    "\n",
    "        def get_initial_consumption(self, s, g, t_0):\n",
    "            return self.phi * (self.a_initial[s,g] * cumulative_rate_of_return(self, t_0, g+1)+\n",
    "                               np.sum(np.array([cumulative_rate_of_return(self,start, g+1) for start in range(t_0+1, g+2)])*\n",
    "                                      (labor_income_vector(self, s, g, t_0, g+1)+self.rho[s,g,t_0:(g+1)]*self.sigma[t_0:(g+1)]\n",
    "                                       )))/\\\n",
    "                   np.sum(\n",
    "                       np.array([cumulative_rate_of_return(self,start, g+1) for start in range(t_0+1, g+2)])*\n",
    "                       (1+self.tau_VA[t_0:(g+1)])*(self.price[t_0:(g+1)])*\n",
    "                       (\n",
    "                               np.array([cumulative_rate_of_return(self,t_0+1, end) for end in range(t_0+1, g+2)])*\n",
    "                               self.beta**np.array([i-t_0 for i in range(t_0, g+1)])*self.Pi[s,g,t_0:(g+1)]/self.Pi[s,g,t_0] * (1+self.tau_VA[t_0])*(self.price[t_0])/((1+self.tau_VA[t_0:(g+1)])*(self.price[t_0:(g+1)])) *\n",
    "                               ((1+self.tau_VA[t_0:(g+1)])*(self.price[t_0:(g+1)])/((1+self.tau_VA[t_0])*self.price[t_0])*labor_income_vector(self, s, g,t_0, t_0+1)/labor_income_vector(self, s, g,t_0, g+1)\n",
    "                                )**((1-self.phi)*(1-self.theta)))**(1/self.theta)\n",
    "                   )\n",
    "        t_0 = max(g-self.G+1,0)\n",
    "        bequest = 0\n",
    "        if t==t_0:\n",
    "            consumption = get_initial_consumption(self, s, g, t_0)\n",
    "        elif t_0 < t <= g:\n",
    "            consumption = self.c[s, g, t_0]*\\\n",
    "                          (cumulative_rate_of_return(self, t_0+1, t+1)*\n",
    "                           self.beta**(t-t_0)*self.Pi[s,g,t]/self.Pi[s,g,t_0] * (1+self.tau_VA[t_0])*self.price[t_0]/((1+self.tau_VA[t])*self.price[t]) *\n",
    "                           ((1+self.tau_VA[t])*self.price[t]/((1+self.tau_VA[t_0])*self.price[t_0])*labor_income_vector(self, s, g,t_0, t_0+1)/labor_income_vector(self, s, g,t, t+1))**((1-self.phi)*(1-self.theta))\n",
    "                           )**(1/self.theta)\n",
    "\n",
    "\n",
    "        labor = 1- consumption/(self.phi/(1-self.phi)*(1/((1+self.tau_VA[t])*self.price[t]))*labor_income_vector(self, s, g, t, t+1)[0])\n",
    "        if t == 0:\n",
    "            assets = labor_income_vector(self, s, g, t, t+1)[0]*labor+self.rho[s,g,t]*self.sigma[t] - consumption*(1+self.tau_VA[t])*self.price[t]+self.a_initial[s,g]*(1+self.r[t]*(1-self.tau_I[t]))\n",
    "        else:\n",
    "            assets = labor_income_vector(self, s, g, t, t+1)[0]*labor+self.rho[s,g,t]*self.sigma[t] - consumption*(1+self.tau_VA[t])*self.price[t]+(self.a[s,g, t-1]+bequest)*(1+self.r[t]*(1-self.tau_I[t]))\n",
    "        return consumption, labor, assets\n",
    "\n",
    "    @counted\n",
    "    def steady_state(self):\n",
    "        def labor_income_vector(self, s, g, start, end):\n",
    "            return (1-self.tau_I[start:end]) * (1-(self.tau_rho[start:end] + self.tau_Ins[start:end])/(1+self.tau_rho[start:end] + self.tau_Ins[start:end])) * self.epsilon[s,g,start:end] * self.w[start:end]\n",
    "\n",
    "        w_steady, price_steady, price_N_steady = self.steady[6:9]\n",
    "\n",
    "        for t in range(self.T-self.G + 1, max_time):\n",
    "            self.w[t] = w_steady* self.A_growth**(t - self.T)\n",
    "            self.price[t] = price_steady\n",
    "            self.price_N[t] = price_N_steady\n",
    "\n",
    "        for s in range(2):\n",
    "            initial_household = self.household(s, self.G+self.T-1, self.T) # первое родившееся поколение в период self.T\n",
    "            self.c[s, self.G+self.T-1, self.T],self.l[s, self.G+self.T-1,self.T],self.a[s, self.G+self.T-1,self.T] = initial_household\n",
    "            for t in range(self.T,self.G+self.T):\n",
    "                self.c[s, self.G+self.T-1, t],self.l[s, self.G+self.T-1,t],self.a[s, self.G+self.T-1,t] = self.household(s, self.G+self.T-1, t)\n",
    "            for g in range(self.G+self.T-2, self.T-1, -1): # все поколения, живущие в периоде self.T\n",
    "\n",
    "                self.c[s, g, g-self.G + 1]  = initial_household[0] * self.A_growth**(self.G+self.T-1 - g)\n",
    "                self.l[s, g, g-self.G + 1]  = initial_household[1]\n",
    "                self.a[s, g,g-self.G + 1]  = labor_income_vector(self, s, g,g-self.G + 1, g-self.G + 2)[0]*self.l[s, g, g-self.G + 1]+self.rho[s,g,g-self.G + 1]*self.sigma[g-self.G + 1] - self.c[s, g, g-self.G + 1]*(1+self.tau_VA[g-self.G + 1])*self.price[g-self.G + 1]\n",
    "                for t in range(g-self.G + 2, g+1):\n",
    "                    self.c[s, g, t],self.l[s, g, t],self.a[s, g, t] =  self.household(s, g, t)\n",
    "        Consumption = np.sum([self.c[s,g,self.T]*self.N[s,g,self.T] for g in range(self.T, self.G+self.T) for s in range(2)])\n",
    "\n",
    "        Labor = np.sum([self.l[s,g,self.T]*self.N[s,g,self.T]*self.epsilon[s,g,self.T] for g in range(self.T, self.G+self.T) for s in range(2)])\n",
    "\n",
    "        Assets =  np.sum([self.a[s,g,self.T]*self.N[s,g,self.T] for g in range(self.T, self.G+self.T) for s in range(2)])\n",
    "\n",
    "        if len(self.steady_path)==0:\n",
    "            self.steady[-3:] = np.array([Consumption,  Labor, Assets])\n",
    "        else:\n",
    "            self.steady[-3:] = self.eta*np.array([Consumption,  Labor, Assets]) + (1-self.eta)*self.steady[-3:]\n",
    "\n",
    "        z_guess = self.steady[:6]\n",
    "        \n",
    "        def equilibrium(z, self=self, objective = True):\n",
    "\n",
    "\n",
    "  \n",
    "            system = [\n",
    "                f\"{1-self.alpha}*price_N_steady * (k_N_steady/L_N_share)**{self.alpha} *{self.A[0,self.T]} - w_steady\"\n",
    "                      ,f\"{1/(1+self.r[self.T+1])}*(({1-self.tau_pi[self.T+1]}) *{self.alpha}*price_N_steady* (k_N_steady/L_N_share)**{self.alpha-1} +{self.tau_pi[self.T+1]} * {self.delta} + {self.lmbda_to_price_steady}*price_steady * ({1-self.delta})) - {self.lmbda_to_price_steady}*price_steady\"\n",
    "                      ,f\"{1-self.alpha}*{self.price_E[self.T]} * (k_E_steady/(1-L_N_share)*{self.A[0,self.T]/self.A[1,self.T]} )**{self.alpha} *{self.A[1,self.T]} - w_steady\"\n",
    "                      ,f\"{1/(1+self.r[self.T+1])}*({1-self.tau_pi[self.T+1]}*{self.alpha}* {self.price_E[self.T+1]}* (k_E_steady/(1-L_N_share)*{self.A[0,self.T]/self.A[1,self.T]})**{self.alpha-1} +{self.tau_pi[self.T+1]} * {self.delta} +{self.lmbda_to_price_steady}*price_steady * {1-self.delta}) - {self.lmbda_to_price_steady}*price_steady\"\n",
    "                      ,f\"price_N_steady*((k_N_steady/L_N_share)**{self.alpha} * L_N_share -{self.Gov[self.T]/(self.A[0,self.T]*self.steady[-2])})- (1-{self.omega}) * price_steady * ({self.steady[-3]/(self.A[0,self.T]*self.steady[-2])}+{self.i_steady}*(k_N_steady+k_E_steady))\"\n",
    "                      ,f\"price_steady - {self.price_M[self.T]**self.omega}*price_N_steady**({1-self.omega})\"\n",
    "                      ]\n",
    "            name_space = {label:value for label, value in zip((\"self\", \"k_N_steady\", \"L_N_share\",\n",
    "                                                               \"k_E_steady\", \"w_steady\",\n",
    "                                                               \"price_steady\", \"price_N_steady\"),[self]+list(z))}\n",
    "\n",
    "            if objective:\n",
    "                sum_of_squares = \"+\".join([f\"({equation})**2\" for equation in system])\n",
    "                F = eval(sum_of_squares,{},name_space)\n",
    "            else:\n",
    "                F = [eval(equation,{},name_space) for equation in system]\n",
    "            return F\n",
    "        def equilibrium_gradient(z, self=self, objective = True):\n",
    "\n",
    "            self.A_growth = self.A[0,self.T]/self.A[0, self.T-1]\n",
    "            self.N_growth = np.sum([self.N[s,g,self.T]*self.epsilon[s,g,self.T] for g in range(self.T, self.G+self.T) for s in range(2)])/\\\n",
    "                       np.sum([self.N[s,g,self.T-1]*self.epsilon[s,g,self.T-1] for g in range(self.T-1, self.G+self.T-1) for s in range(2)])\n",
    "\n",
    "            name_space = {label:value for label, value in zip((\"self\",\"I_N_steady\", \"K_N_steady\", \"L_N_steady\",\"I_E_steady\", \"K_E_steady\", \"lmbda_steady\", \"w_steady\", \"price_steady\", \"price_N_steady\"),[self]+list(z))}\n",
    "            if objective:\n",
    "                target_system = equilibrium(z, self, False)\n",
    "                sum_of_gradient = [\"+\".join([f\"2*({outer})*({inner})\" for outer, inner in zip(target_system, row)]) for row in gradient]\n",
    "                J = [eval(equation,{},name_space) for equation in sum_of_gradient]\n",
    "            else:\n",
    "                J = [[eval(equation,{},name_space) for equation in row] for row in gradient]\n",
    "            return J\n",
    "            \n",
    "\n",
    "        \n",
    "        obj_jit = jit(equilibrium)\n",
    "        obj_grad = jit(jacfwd(obj_jit))\n",
    "        obj_hess = jit(jacrev(jacfwd(obj_jit)))\n",
    "        \n",
    "        \n",
    "        result = minimize_ipopt(obj_jit, jac=obj_grad, hess=obj_hess, x0=z_guess\n",
    "                                , options = {\"max_iter\":self.steady_max_iter, \"print_level\":0,\n",
    "                                             \"check_derivatives_for_naninf\":\"yes\"}\n",
    "                                , tol=1e-7)\n",
    "        \n",
    "        \n",
    "        if result[\"success\"] or result[\"status\"]==1:\n",
    "            self.steady[:6] = self.eta*result[\"x\"] + (1-self.eta)*z_guess\n",
    "            self.steady_max_iter = 1000\n",
    "            eq_res = equilibrium(self.steady[:6], self, False)\n",
    "        else:\n",
    "            if result[\"status\"]==-1:\n",
    "                self.steady_max_iter += 1000\n",
    "            self.steady[:6] = z_guess\n",
    "            eq_res = equilibrium(z_guess, self, False)\n",
    "            \n",
    "                \n",
    "        self.steady_path.append((result, np.array(self.steady)\n",
    "                               ))\n",
    "\n",
    "    def create_guess(self):\n",
    "        \n",
    "        k_N_steady, L_N_share, k_E_steady, w_steady, price_steady, price_N_steady, Consumption_steady, Labor_steady, Assets_steady = self.steady\n",
    "\n",
    "        for t in range(self.T-self.G + 1, max_time):\n",
    "            self.w[t] = w_steady* self.A_growth**(t - self.T)\n",
    "            self.price[t] = price_steady\n",
    "            self.price_N[t] = price_N_steady\n",
    "            \n",
    "            self.k[0,t] = k_N_steady\n",
    "            self.k[1,t] = k_E_steady\n",
    "            \n",
    "            self.i[0,t] = self.i_steady\n",
    "            self.i[1,t] = self.i_steady \n",
    "            \n",
    "            self.L_share[0,t] = L_N_share \n",
    "            self.L_share[1,t] = 1- L_N_share \n",
    "            \n",
    "            self.lmbda_to_price[0,t] = self.lmbda_to_price_steady\n",
    "            self.lmbda_to_price[1,t] = self.lmbda_to_price_steady\n",
    "            \n",
    "            \n",
    "            \n",
    "            self.K[0,t] = k_N_steady* Labor_steady * self.A[0,self.T] *(self.A_growth*self.N_growth)**(t - self.T)\n",
    "            self.K[1,t] = k_E_steady* Labor_steady * self.A[0,self.T] *(self.A_growth*self.N_growth)**(t - self.T)\n",
    "            \n",
    "            self.I[0,t] = self.i_steady * self.K[0,t]\n",
    "            self.I[1,t] = self.i_steady * self.K[1,t]\n",
    "            \n",
    "            self.L[0,t] = L_N_share * Labor_steady *(self.N_growth)**(t - self.T)\n",
    "            self.L[1,t] = (1-L_N_share) * Labor_steady *(self.N_growth)**(t - self.T)\n",
    "            \n",
    "            self.lmbda[0,t] = self.lmbda_to_price_steady * price_steady\n",
    "            self.lmbda[1,t] = self.lmbda_to_price_steady * price_steady\n",
    "            \n",
    "            self.Consumption[t] = Consumption_steady*(self.A_growth*self.N_growth)**(t - self.T)\n",
    "            self.Labor[t] = Labor_steady*(self.N_growth)**(t - self.T)\n",
    "            self.Assets[t] =  Assets_steady*(self.A_growth*self.N_growth)**(t - self.T)\n",
    "\n",
    "\n",
    "        steady_start = self.T-self.G + 1\n",
    "        self.price_N[:steady_start] = np.linspace(initial[\"price_N\"], self.price_N[steady_start], steady_start,endpoint=False)\n",
    "        self.I[0,:steady_start] = np.linspace(initial[\"I_N\"], self.I[0,steady_start], steady_start,endpoint=False)\n",
    "        self.K[0,:steady_start] = np.linspace(initial[\"K_N\"], self.K[0,steady_start], steady_start,endpoint=False)\n",
    "        self.L[0,:steady_start] = np.linspace(initial[\"L_N\"], self.L[0,steady_start], steady_start,endpoint=False)\n",
    "\n",
    "        self.I[1,:steady_start] = np.linspace(initial[\"I_E\"], self.I[1,steady_start], steady_start,endpoint=False)\n",
    "        self.K[1,:steady_start] = np.linspace(initial[\"K_E\"], self.K[1,steady_start], steady_start,endpoint=False)\n",
    "        self.L[1,:steady_start] = np.linspace(initial[\"L_E\"], self.L[1,steady_start], steady_start,endpoint=False)\n",
    "\n",
    "        w_initial = self.price_N[0] *(1-self.alpha)*(self.K[0,0])**self.alpha *(self.A[0,0])**(1-self.alpha)\n",
    "        self.w[:steady_start] = np.linspace(w_initial, self.w[steady_start], steady_start,endpoint=False)\n",
    "\n",
    "        self.Labor[:steady_start] = np.linspace(initial[\"L_N\"]+initial[\"L_E\"],\n",
    "                                    self.Labor[steady_start], steady_start,endpoint=False)\n",
    "        \n",
    "        self.price[:steady_start] = (self.price_M[:steady_start])**self.omega * (self.price_N[:steady_start])**(1-self.omega)\n",
    "        \n",
    "        self.lmbda[0,:steady_start] = self.price[:steady_start]*self.lmbda_to_price_steady\n",
    "        self.lmbda[1,:steady_start] = self.price[:steady_start]*self.lmbda_to_price_steady\n",
    "        \n",
    "        self.k[0,:steady_start] = self.K[0,:steady_start]/(self.A[0,:steady_start]*self.Labor[:steady_start])\n",
    "        self.k[1,:steady_start] = self.K[1,:steady_start]/(self.A[0,:steady_start]*self.Labor[:steady_start])\n",
    "            \n",
    "        self.i[:steady_start] = self.I[:steady_start]/self.K[:steady_start]\n",
    "            \n",
    "        self.L_share[0,:steady_start] = self.L[0,:steady_start]/self.Labor[:steady_start]\n",
    "        self.L_share[1,:steady_start] = self.L[1,:steady_start]/self.Labor[:steady_start]\n",
    "            \n",
    "        self.lmbda_to_price[0,:steady_start] = self.lmbda_to_price_steady\n",
    "        self.lmbda_to_price[1,:steady_start] = self.lmbda_to_price_steady\n",
    "        \n",
    "        \n",
    "\n",
    "    def update_guess(self):\n",
    "\n",
    "\n",
    "\n",
    "        # Households (analytical solution)\n",
    "        for s in range(2):\n",
    "            for t in range(self.T-self.G + 1):\n",
    "                for g in range(t, self.G+t):\n",
    "                    self.c[s, g, t],self.l[s, g, t],self.a[s, g, t]  = self.household(s,g,t)\n",
    "                    \n",
    "                    self.Consumption[t] = np.sum([self.c[s,g,t]*self.N[s,g,t] for g in range(t, self.G+t) for s in range(2)])\n",
    "                    self.Labor[t] = np.sum([self.l[s,g,t]*self.N[s,g,t]*self.epsilon[s,g,t] for g in range(t, self.G+t) for s in range(2)])\n",
    "                    self.Assets[t] =  np.sum([self.a[s,g,t]*self.N[s,g,t] for g in range(t, self.G+t) for s in range(2)])\n",
    "\n",
    "\n",
    "        for t in range(1, self.T-self.G + 1):\n",
    "            z_guess = [self.i[0,t],self.k[0,t+1],self.L_share[0,t],\n",
    "                       self.lmbda_to_price[0,t], self.i[1,t],self.k[1,t+1],\n",
    "                       self.lmbda_to_price[1,t],\n",
    "                       self.w[t], self.price_N[t], self.price[t]]\n",
    "\n",
    "\n",
    "            def equilibrium(z, self=self, t = t):\n",
    "                i_N, k_N, L_N_share, lmbda_N_to_price,\\\n",
    "                    i_E, k_E, lmbda_E_to_price,\\\n",
    "                    w, price, price_N = z\n",
    "                system =(\n",
    "                  price_N * self.A[0, t] * (self.k[0, t]/L_N_share)**self.alpha - w\\\n",
    "                )**2+\\\n",
    "                ( 1 - lmbda_N_to_price * (1-self.psi/2 *(i_N/self.i[0,t-1]*self.K[0,t]/self.K[0, t-1] - 1)**2\\\n",
    "                   - self.psi * (i_N/self.i[0,t-1]*self.K[0,t]/self.K[0, t-1]) * \\\n",
    "                                          (i_N/self.i[0,t-1]*self.K[0,t]/self.K[0, t-1] - 1) )-\\\n",
    "                   self.lmbda_to_price[0,t+1]*self.psi/(1+self.r[t+1]) *\\\n",
    "                   (self.i[0,t+1]/i_N*k_N*self.A[0, t+1]*self.Labor[t+1]/self.K[0,t] )**2 *\\\n",
    "                (self.i[0,t+1]/i_N*k_N*self.A[0, t+1]*self.Labor[t+1]/self.K[0,t] -1)\n",
    "                )**2+\\\n",
    "                ( 1/(self.r[t+1]) * ((1-self.tau_pi[t+1]) * self.alpha * self.price_N[t+1] *\\\n",
    "                                              (k_N/L_N_share)**(self.alpha-1) +\\\n",
    "                                              self.tau_pi[t+1] * self.delta * self.price[t+1] +\\\n",
    "                                              self.lmbda_to_price[0, t+1]*self.price[t+1] * (1-self.delta) ) -\\\n",
    "                lmbda_N_to_price * price\\\n",
    "                )**2+\\\n",
    "                ( (1-self.delta)+\\\n",
    "                           i_N * (1-self.psi / 2 *(i_N/self.i[0,t-1]*self.K[0,t]/self.K[0, t-1] - 1)**2 ) -\\\n",
    "                k_N*self.A[0, t+1]*self.Labor[t+1]/self.K[0,t]\\\n",
    "                )**2+\\\n",
    "                (\n",
    "                self.price_E[t] * self.A[1, t] * (self.k[1, t]/(1-L_N_share)*self.A[0,t]/self.A[1,t])**self.alpha - w\n",
    "                )**2+\\\n",
    "                ( 1 - lmbda_E_to_price * (1-self.psi/2 *(i_E/self.i[1,t-1]*self.K[1,t]/self.K[1, t-1] - 1)**2\\\n",
    "                   - self.psi * (i_E/self.i[1,t-1]*self.K[1,t]/self.K[1, t-1]) * \\\n",
    "                                          (i_E/self.i[1,t-1]*self.K[1,t]/self.K[1, t-1] - 1) )-\\\n",
    "                   self.lmbda_to_price[1,t+1]*self.psi/(1+self.r[t+1]) *\\\n",
    "                   (self.i[1,t+1]/i_E*k_E*self.A[1, t+1]*self.Labor[t+1]/self.K[1,t] )**2 *\\\n",
    "                (self.i[1,t+1]/i_E*k_E*self.A[1, t+1]*self.Labor[t+1]/self.K[1,t] -1)\n",
    "                )**2+\\\n",
    "                ( 1/(self.r[t+1]) * ((1-self.tau_pi[t+1]) * self.alpha * self.price_E[t+1] *\\\n",
    "                                              (k_E/(1-L_N_share)*self.A[0,t]/self.A[1,t])**(self.alpha-1) +\\\n",
    "                                              self.tau_pi[t+1] * self.delta * self.price[t+1] +\\\n",
    "                                              self.lmbda_to_price[1, t+1]*self.price[t+1] * (1-self.delta) ) -\\\n",
    "                lmbda_E_to_price * price\\\n",
    "                )**2+\\\n",
    "                ((1-self.delta)+\\\n",
    "                           i_E * (1-self.psi / 2 *(i_E/self.i[1,t-1]*self.K[1,t]/self.K[1, t-1] - 1)**2 ) -\\\n",
    "                k_E*self.A[1, t+1]*self.Labor[t+1]/self.K[1,t]\n",
    "                )**2+\\\n",
    "                ( price - (self.price_M[t])**self.omega * (price_N)**(1-self.omega)\\\n",
    "                )**2+\\\n",
    "                ( self.k[0,t]**self.alpha *\\\n",
    "                - self.Gov[t]/(self.A[0,t]*self.Labor[t]) - \\\n",
    "                (1-self.omega) * price / price_N * \\\n",
    "                (self.Consumption[t]/(self.A[0,t]*self.Labor[t]) +\\\n",
    "                i_N*k_N/L_N_share + i_E*k_E/(1-L_N_share))\n",
    "                 )**2\n",
    "            \n",
    "                return system\n",
    "  \n",
    "\n",
    "            \n",
    "            obj_jit = jit(equilibrium)\n",
    "            obj_grad = jit(jacfwd(obj_jit))\n",
    "            obj_hess = jit(jacrev(jacfwd(obj_jit)))\n",
    "        \n",
    "        \n",
    "            result = minimize_ipopt(obj_jit, jac=obj_grad, hess=obj_hess, x0=z_guess\n",
    "                                , options = {\"max_iter\":self.steady_max_iter, \"print_level\":0,\n",
    "                                             \"check_derivatives_for_naninf\":\"yes\"}\n",
    "                                , tol=1e-7)\n",
    "            z = result[\"x\"]\n",
    "            print(result[\"fun\"])\n",
    "            \n",
    "            self.i[0,t],self.k[0,t+1],self.L_share[0,t],\\\n",
    "            self.lmbda_to_price[0,t], self.i[1,t],self.k[1,t+1],\\\n",
    "            self.lmbda_to_price[1,t],\\\n",
    "            self.w[t], self.price_N[t], self.price[t] = z\n",
    "            self.L_share[1,t] = 1- self.L_share[0,t]\n",
    "            \n",
    "            # Market clearing (analytical solution)\n",
    "#             self.Y = self.K**self.alpha * (self.L*self.A)**(1-self.alpha)\n",
    "#             self.D = self.I.sum(axis = 0)+(self.N[:,:self.c.shape[1],:]*self.c[:,:self.c.shape[1],:]).sum(axis=0).sum(axis =0)\n",
    "#             self.M =  self.omega * self.D * self.price / self.price_M\n"
   ]
  },
  {
   "cell_type": "code",
   "execution_count": 192,
   "metadata": {
    "pycharm": {
     "name": "#%%\n"
    }
   },
   "outputs": [],
   "source": [
    "# import pyreadr\n",
    "# import numpy as np\n",
    "# demography = {name:np.array(pyreadr.read_r(f\"{name}.Rda\")[name]) for name in [\"Pi_female\", \"Pi_female_steady\", \"Pi_male\", \"Pi_male_steady\",\"N_female\", \"N_male\",\"N_female_steady\",\"N_male_steady\"]}\n",
    "# np.save('demography.npy', demography)"
   ]
  },
  {
   "cell_type": "code",
   "execution_count": 193,
   "metadata": {
    "pycharm": {
     "name": "#%%\n"
    }
   },
   "outputs": [],
   "source": [
    "demography = np.load('demography.npy',allow_pickle='TRUE').item()"
   ]
  },
  {
   "cell_type": "code",
   "execution_count": 194,
   "metadata": {
    "pycharm": {
     "name": "#%%\n"
    }
   },
   "outputs": [],
   "source": [
    "epsilon_female =epsilon_male= np.array([[-0.0003*(96-g+t)**2+25*2*0.0003*(96-g+t)+2 if ((96-g+t) > 0 and (96-g+t)<=96) else 0  for g in range(demography[\"N_female\"].shape[1]) ] for t in range(demography[\"N_female\"].shape[0])])"
   ]
  },
  {
   "cell_type": "code",
   "execution_count": 195,
   "metadata": {
    "pycharm": {
     "name": "#%%\n"
    }
   },
   "outputs": [],
   "source": [
    "rho_female = np.array([[1 if ((96-g+t) >= 46 and (96-g+t)<=96) else 0  for g in range(demography[\"N_female\"].shape[1]) ] for t in range(demography[\"N_female\"].shape[0])])\n",
    "rho_male = np.array([[1 if ((96-g+t) >= 51 and (96-g+t)<=96) else 0  for g in range(demography[\"N_female\"].shape[1]) ] for t in range(demography[\"N_female\"].shape[0])])\n",
    "\n",
    "max_time = demography[\"N_female\"].shape[0]\n",
    "sigma = np.array([0.05 for _ in range(max_time)])\n",
    "r = np.array([0.03 for _ in range(max_time)])\n",
    "price_M = np.array([.1 for _ in range(max_time)])\n",
    "price_E = np.array([.1 for _ in range(max_time)])\n",
    "tau_I = np.array([0.13 for _ in range(max_time)])\n",
    "tau_Ins = np.array([0.08 for _ in range(max_time)])\n",
    "tau_pi = np.array([0.2 for _ in range(max_time)])\n",
    "tau_VA = np.array([0.18 for _ in range(max_time)])\n",
    "tau_rho = np.array([0.22 for _ in range(max_time)])\n",
    "A_N = np.array([1. for _ in range(max_time)])\n",
    "A_E = np.array([1. for _ in range(max_time)])\n"
   ]
  },
  {
   "cell_type": "code",
   "execution_count": 196,
   "metadata": {
    "pycharm": {
     "name": "#%%\n"
    }
   },
   "outputs": [],
   "source": [
    "demography[\"N_female\"]=demography[\"N_male\"]\n",
    "N = np.array([demography[\"N_female\"].transpose()/1000,demography[\"N_male\"].transpose()/1000])\n",
    "Pi = np.array([(demography[f\"N_{sex}male\"]/np.max(demography[\"N_female\"], axis=0)+(1-np.tri(*demography[f\"N_{sex}male\"].shape, k=95))).transpose() for sex in (\"fe\", \"\")])\n",
    "Pi[Pi<0] = 0.01\n",
    "epsilon = np.array([epsilon_female.transpose(), epsilon_male.transpose()])\n",
    "rho = np.array([rho_female.transpose(), rho_male.transpose()])\n",
    "A = np.array([A_N, A_E])\n",
    "# a_initial = np.array([[-(96-g)/10 if g < 96 else 0 for g in range(demography[\"N_female\"].shape[1])] for s in range(2)])\n",
    "# guess = {\"price_N\":np.array([.00001 for _ in range(max_time)]),\n",
    "#          \"K_N\":np.array([5000. for _ in range(max_time)]),\n",
    "#          \"L_N\":np.array([85000. for _ in range(max_time)]),\n",
    "#          \"K_E\":np.array([5000. for _ in range(max_time)]),\n",
    "#          \"L_E\":np.array([85000. for _ in range(max_time)]),\n",
    "#          \"Gov\":np.array([1. for _ in range(max_time)]),\n",
    "#          \"steady\":np.array([15., 2000.,35000.,1., 15., 2000.,50000.,-0.8,0.06, .00001, .00001])}\n",
    "initial = {\"a\":np.array([[-(96-g)/10 if g < 96 else 0 for g in range(demography[\"N_female\"].shape[1])] for s in range(2)]),\n",
    "                \"price_N\":.1,\n",
    "                 \"K_N\":5.,\n",
    "                 \"L_N\":35.,\n",
    "                 \"I_N\":0.1,\n",
    "                 \"K_E\":5.,\n",
    "                 \"L_E\":50.,\n",
    "                 \"Gov\":0.5,\n",
    "                 \"I_E\":0.1}\n",
    "steady_guess = np.array([2., 0.3, 6., 0.1, 0.1, 0.1])"
   ]
  },
  {
   "cell_type": "code",
   "execution_count": 215,
   "metadata": {
    "pycharm": {
     "name": "#%%\n"
    }
   },
   "outputs": [],
   "source": [
    "# надо исправить\n",
    "# Beq_female_to_female = Beq_female_to_male = Beq_male_to_female = Beq_male_to_male = np.zeros_like(demography[\"N_female\"])"
   ]
  },
  {
   "cell_type": "code",
   "execution_count": 223,
   "metadata": {
    "pycharm": {
     "name": "#%%\n"
    }
   },
   "outputs": [],
   "source": [
    "olg = OLG_model(G=96,T=250,N=N,epsilon=epsilon, rho=rho, sigma = sigma,Pi=Pi,r = r,price_M =price_M, price_E=price_E, tau_I=tau_I,tau_Ins=tau_Ins, tau_pi=tau_pi, tau_VA=tau_VA, tau_rho=tau_rho, beta = 0.995, phi = 0.8, theta = 0.5, psi = 5., omega=0.4, alpha = 1/3, delta=0.01, A=A,initial=initial, eta =0.25,steady_max_iter=10000, steady_guess=steady_guess)"
   ]
  },
  {
   "cell_type": "code",
   "execution_count": 224,
   "metadata": {
    "pycharm": {
     "name": "#%%\n"
    }
   },
   "outputs": [
    {
     "name": "stdout",
     "output_type": "stream",
     "text": [
      "3.809425298003435e-16\n",
      "9.949883327787491e-17\n",
      "5.44509539375914e-19\n",
      "8.379039948427875e-19\n",
      "8.19749908948161e-18\n",
      "1.1640685427733151e-15\n",
      "1.7545966202085758e-16\n",
      "2.6366937889221426e-17\n",
      "1.315372794239158e-09\n",
      "3.7358522131137613e-16\n"
     ]
    }
   ],
   "source": [
    "with warnings.catch_warnings():\n",
    "    warnings.simplefilter(\"ignore\")\n",
    "    for _ in range(10):\n",
    "        olg.steady_state()\n",
    "        print(olg.steady_path[-1][0][\"fun\"])"
   ]
  },
  {
   "cell_type": "code",
   "execution_count": 225,
   "metadata": {},
   "outputs": [],
   "source": [
    "olg.create_guess()"
   ]
  },
  {
   "cell_type": "code",
   "execution_count": 207,
   "metadata": {},
   "outputs": [
    {
     "name": "stdout",
     "output_type": "stream",
     "text": [
      "0.09207093999143698\n",
      "0.10216448519846484\n",
      "0.008311217014211534\n",
      "0.01026857370035701\n",
      "0.01214953007011237\n",
      "0.0138692880683688\n",
      "0.0007521046287000266\n",
      "0.3301905568768439\n"
     ]
    },
    {
     "ename": "KeyboardInterrupt",
     "evalue": "",
     "output_type": "error",
     "traceback": [
      "\u001b[0;31m---------------------------------------------------------------------------\u001b[0m",
      "\u001b[0;31mKeyboardInterrupt\u001b[0m                         Traceback (most recent call last)",
      "Input \u001b[0;32mIn [207]\u001b[0m, in \u001b[0;36m<cell line: 1>\u001b[0;34m()\u001b[0m\n\u001b[0;32m----> 1\u001b[0m \u001b[43molg\u001b[49m\u001b[38;5;241;43m.\u001b[39;49m\u001b[43mupdate_guess\u001b[49m\u001b[43m(\u001b[49m\u001b[43m)\u001b[49m\n",
      "Input \u001b[0;32mIn [191]\u001b[0m, in \u001b[0;36mOLG_model.update_guess\u001b[0;34m(self)\u001b[0m\n\u001b[1;32m    424\u001b[0m obj_grad \u001b[38;5;241m=\u001b[39m jit(jacfwd(obj_jit))\n\u001b[1;32m    425\u001b[0m obj_hess \u001b[38;5;241m=\u001b[39m jit(jacrev(jacfwd(obj_jit)))\n\u001b[0;32m--> 428\u001b[0m result \u001b[38;5;241m=\u001b[39m \u001b[43mminimize_ipopt\u001b[49m\u001b[43m(\u001b[49m\u001b[43mobj_jit\u001b[49m\u001b[43m,\u001b[49m\u001b[43m \u001b[49m\u001b[43mjac\u001b[49m\u001b[38;5;241;43m=\u001b[39;49m\u001b[43mobj_grad\u001b[49m\u001b[43m,\u001b[49m\u001b[43m \u001b[49m\u001b[43mhess\u001b[49m\u001b[38;5;241;43m=\u001b[39;49m\u001b[43mobj_hess\u001b[49m\u001b[43m,\u001b[49m\u001b[43m \u001b[49m\u001b[43mx0\u001b[49m\u001b[38;5;241;43m=\u001b[39;49m\u001b[43mz_guess\u001b[49m\n\u001b[1;32m    429\u001b[0m \u001b[43m                    \u001b[49m\u001b[43m,\u001b[49m\u001b[43m \u001b[49m\u001b[43moptions\u001b[49m\u001b[43m \u001b[49m\u001b[38;5;241;43m=\u001b[39;49m\u001b[43m \u001b[49m\u001b[43m{\u001b[49m\u001b[38;5;124;43m\"\u001b[39;49m\u001b[38;5;124;43mmax_iter\u001b[39;49m\u001b[38;5;124;43m\"\u001b[39;49m\u001b[43m:\u001b[49m\u001b[38;5;28;43mself\u001b[39;49m\u001b[38;5;241;43m.\u001b[39;49m\u001b[43msteady_max_iter\u001b[49m\u001b[43m,\u001b[49m\u001b[43m \u001b[49m\u001b[38;5;124;43m\"\u001b[39;49m\u001b[38;5;124;43mprint_level\u001b[39;49m\u001b[38;5;124;43m\"\u001b[39;49m\u001b[43m:\u001b[49m\u001b[38;5;241;43m0\u001b[39;49m\u001b[43m,\u001b[49m\n\u001b[1;32m    430\u001b[0m \u001b[43m                                 \u001b[49m\u001b[38;5;124;43m\"\u001b[39;49m\u001b[38;5;124;43mcheck_derivatives_for_naninf\u001b[39;49m\u001b[38;5;124;43m\"\u001b[39;49m\u001b[43m:\u001b[49m\u001b[38;5;124;43m\"\u001b[39;49m\u001b[38;5;124;43myes\u001b[39;49m\u001b[38;5;124;43m\"\u001b[39;49m\u001b[43m}\u001b[49m\n\u001b[1;32m    431\u001b[0m \u001b[43m                    \u001b[49m\u001b[43m,\u001b[49m\u001b[43m \u001b[49m\u001b[43mtol\u001b[49m\u001b[38;5;241;43m=\u001b[39;49m\u001b[38;5;241;43m1e-2\u001b[39;49m\u001b[43m)\u001b[49m\n\u001b[1;32m    432\u001b[0m z \u001b[38;5;241m=\u001b[39m result[\u001b[38;5;124m\"\u001b[39m\u001b[38;5;124mx\u001b[39m\u001b[38;5;124m\"\u001b[39m]\n\u001b[1;32m    433\u001b[0m \u001b[38;5;28mprint\u001b[39m(result[\u001b[38;5;124m\"\u001b[39m\u001b[38;5;124mfun\u001b[39m\u001b[38;5;124m\"\u001b[39m])\n",
      "File \u001b[0;32m~/anaconda3/envs/olg/lib/python3.8/site-packages/cyipopt/scipy_interface.py:311\u001b[0m, in \u001b[0;36mminimize_ipopt\u001b[0;34m(fun, x0, args, kwargs, method, jac, hess, hessp, bounds, constraints, tol, callback, options)\u001b[0m\n\u001b[1;32m    308\u001b[0m         msg \u001b[38;5;241m=\u001b[39m \u001b[38;5;124m'\u001b[39m\u001b[38;5;124mInvalid option for IPOPT: \u001b[39m\u001b[38;5;132;01m{0}\u001b[39;00m\u001b[38;5;124m: \u001b[39m\u001b[38;5;132;01m{1}\u001b[39;00m\u001b[38;5;124m (Original message: \u001b[39m\u001b[38;5;124m\"\u001b[39m\u001b[38;5;132;01m{2}\u001b[39;00m\u001b[38;5;124m\"\u001b[39m\u001b[38;5;124m)\u001b[39m\u001b[38;5;124m'\u001b[39m\n\u001b[1;32m    309\u001b[0m         \u001b[38;5;28;01mraise\u001b[39;00m \u001b[38;5;167;01mTypeError\u001b[39;00m(msg\u001b[38;5;241m.\u001b[39mformat(option, value, e))\n\u001b[0;32m--> 311\u001b[0m x, info \u001b[38;5;241m=\u001b[39m \u001b[43mnlp\u001b[49m\u001b[38;5;241;43m.\u001b[39;49m\u001b[43msolve\u001b[49m\u001b[43m(\u001b[49m\u001b[43m_x0\u001b[49m\u001b[43m)\u001b[49m\n\u001b[1;32m    313\u001b[0m \u001b[38;5;28;01mif\u001b[39;00m np\u001b[38;5;241m.\u001b[39masarray(x0)\u001b[38;5;241m.\u001b[39mshape \u001b[38;5;241m==\u001b[39m ():\n\u001b[1;32m    314\u001b[0m     x \u001b[38;5;241m=\u001b[39m x[\u001b[38;5;241m0\u001b[39m]\n",
      "File \u001b[0;32m~/anaconda3/envs/olg/lib/python3.8/site-packages/cyipopt/cython/ipopt_wrapper.pyx:642\u001b[0m, in \u001b[0;36mipopt_wrapper.Problem.solve\u001b[0;34m()\u001b[0m\n",
      "File \u001b[0;32m~/anaconda3/envs/olg/lib/python3.8/site-packages/cyipopt/cython/ipopt_wrapper.pyx:895\u001b[0m, in \u001b[0;36mipopt_wrapper.hessian_cb\u001b[0;34m()\u001b[0m\n",
      "File \u001b[0;32m~/anaconda3/envs/olg/lib/python3.8/site-packages/cyipopt/scipy_interface.py:161\u001b[0m, in \u001b[0;36mIpoptProblemWrapper.hessian\u001b[0;34m(self, x, lagrange, obj_factor)\u001b[0m\n\u001b[1;32m    160\u001b[0m \u001b[38;5;28;01mdef\u001b[39;00m \u001b[38;5;21mhessian\u001b[39m(\u001b[38;5;28mself\u001b[39m, x, lagrange, obj_factor):\n\u001b[0;32m--> 161\u001b[0m     H \u001b[38;5;241m=\u001b[39m obj_factor \u001b[38;5;241m*\u001b[39m \u001b[38;5;28;43mself\u001b[39;49m\u001b[38;5;241;43m.\u001b[39;49m\u001b[43mobj_hess\u001b[49m\u001b[43m(\u001b[49m\u001b[43mx\u001b[49m\u001b[43m)\u001b[49m  \u001b[38;5;66;03m# type: ignore\u001b[39;00m\n\u001b[1;32m    162\u001b[0m     \u001b[38;5;66;03m# split the lagrangian multipliers for each constraint hessian\u001b[39;00m\n\u001b[1;32m    163\u001b[0m     lagrs \u001b[38;5;241m=\u001b[39m np\u001b[38;5;241m.\u001b[39msplit(lagrange, np\u001b[38;5;241m.\u001b[39mcumsum(\u001b[38;5;28mself\u001b[39m\u001b[38;5;241m.\u001b[39m_constraint_dims[:\u001b[38;5;241m-\u001b[39m\u001b[38;5;241m1\u001b[39m]))\n",
      "    \u001b[0;31m[... skipping hidden 1 frame]\u001b[0m\n",
      "File \u001b[0;32m~/anaconda3/envs/olg/lib/python3.8/site-packages/jax/_src/api.py:473\u001b[0m, in \u001b[0;36m_cpp_jit.<locals>.cache_miss\u001b[0;34m(*args, **kwargs)\u001b[0m\n\u001b[1;32m    471\u001b[0m   in_type \u001b[38;5;241m=\u001b[39m pe\u001b[38;5;241m.\u001b[39minfer_lambda_input_type(\u001b[38;5;28;01mNone\u001b[39;00m, args_flat)\n\u001b[1;32m    472\u001b[0m   flat_fun \u001b[38;5;241m=\u001b[39m lu\u001b[38;5;241m.\u001b[39mannotate(flat_fun, in_type)\n\u001b[0;32m--> 473\u001b[0m out_flat \u001b[38;5;241m=\u001b[39m \u001b[43mxla\u001b[49m\u001b[38;5;241;43m.\u001b[39;49m\u001b[43mxla_call\u001b[49m\u001b[43m(\u001b[49m\n\u001b[1;32m    474\u001b[0m \u001b[43m    \u001b[49m\u001b[43mflat_fun\u001b[49m\u001b[43m,\u001b[49m\u001b[43m \u001b[49m\u001b[38;5;241;43m*\u001b[39;49m\u001b[43margs_flat\u001b[49m\u001b[43m,\u001b[49m\n\u001b[1;32m    475\u001b[0m \u001b[43m    \u001b[49m\u001b[43mdevice\u001b[49m\u001b[38;5;241;43m=\u001b[39;49m\u001b[43mdevice\u001b[49m\u001b[43m,\u001b[49m\u001b[43m \u001b[49m\u001b[43mbackend\u001b[49m\u001b[38;5;241;43m=\u001b[39;49m\u001b[43mbackend\u001b[49m\u001b[43m,\u001b[49m\u001b[43m \u001b[49m\u001b[43mname\u001b[49m\u001b[38;5;241;43m=\u001b[39;49m\u001b[43mflat_fun\u001b[49m\u001b[38;5;241;43m.\u001b[39;49m\u001b[38;5;18;43m__name__\u001b[39;49m\u001b[43m,\u001b[49m\n\u001b[1;32m    476\u001b[0m \u001b[43m    \u001b[49m\u001b[43mdonated_invars\u001b[49m\u001b[38;5;241;43m=\u001b[39;49m\u001b[43mdonated_invars\u001b[49m\u001b[43m,\u001b[49m\u001b[43m \u001b[49m\u001b[43minline\u001b[49m\u001b[38;5;241;43m=\u001b[39;49m\u001b[43minline\u001b[49m\u001b[43m,\u001b[49m\u001b[43m \u001b[49m\u001b[43mkeep_unused\u001b[49m\u001b[38;5;241;43m=\u001b[39;49m\u001b[43mkeep_unused\u001b[49m\u001b[43m)\u001b[49m\n\u001b[1;32m    477\u001b[0m out_pytree_def \u001b[38;5;241m=\u001b[39m out_tree()\n\u001b[1;32m    478\u001b[0m out \u001b[38;5;241m=\u001b[39m tree_unflatten(out_pytree_def, out_flat)\n",
      "File \u001b[0;32m~/anaconda3/envs/olg/lib/python3.8/site-packages/jax/core.py:1767\u001b[0m, in \u001b[0;36mCallPrimitive.bind\u001b[0;34m(self, fun, *args, **params)\u001b[0m\n\u001b[1;32m   1766\u001b[0m \u001b[38;5;28;01mdef\u001b[39;00m \u001b[38;5;21mbind\u001b[39m(\u001b[38;5;28mself\u001b[39m, fun, \u001b[38;5;241m*\u001b[39margs, \u001b[38;5;241m*\u001b[39m\u001b[38;5;241m*\u001b[39mparams):\n\u001b[0;32m-> 1767\u001b[0m   \u001b[38;5;28;01mreturn\u001b[39;00m \u001b[43mcall_bind\u001b[49m\u001b[43m(\u001b[49m\u001b[38;5;28;43mself\u001b[39;49m\u001b[43m,\u001b[49m\u001b[43m \u001b[49m\u001b[43mfun\u001b[49m\u001b[43m,\u001b[49m\u001b[43m \u001b[49m\u001b[38;5;241;43m*\u001b[39;49m\u001b[43margs\u001b[49m\u001b[43m,\u001b[49m\u001b[43m \u001b[49m\u001b[38;5;241;43m*\u001b[39;49m\u001b[38;5;241;43m*\u001b[39;49m\u001b[43mparams\u001b[49m\u001b[43m)\u001b[49m\n",
      "File \u001b[0;32m~/anaconda3/envs/olg/lib/python3.8/site-packages/jax/core.py:1783\u001b[0m, in \u001b[0;36mcall_bind\u001b[0;34m(primitive, fun, *args, **params)\u001b[0m\n\u001b[1;32m   1781\u001b[0m tracers \u001b[38;5;241m=\u001b[39m \u001b[38;5;28mmap\u001b[39m(top_trace\u001b[38;5;241m.\u001b[39mfull_raise, args)\n\u001b[1;32m   1782\u001b[0m fun_ \u001b[38;5;241m=\u001b[39m lu\u001b[38;5;241m.\u001b[39mannotate(fun_, fun\u001b[38;5;241m.\u001b[39min_type)\n\u001b[0;32m-> 1783\u001b[0m outs \u001b[38;5;241m=\u001b[39m \u001b[43mtop_trace\u001b[49m\u001b[38;5;241;43m.\u001b[39;49m\u001b[43mprocess_call\u001b[49m\u001b[43m(\u001b[49m\u001b[43mprimitive\u001b[49m\u001b[43m,\u001b[49m\u001b[43m \u001b[49m\u001b[43mfun_\u001b[49m\u001b[43m,\u001b[49m\u001b[43m \u001b[49m\u001b[43mtracers\u001b[49m\u001b[43m,\u001b[49m\u001b[43m \u001b[49m\u001b[43mparams\u001b[49m\u001b[43m)\u001b[49m\n\u001b[1;32m   1784\u001b[0m \u001b[38;5;28;01mreturn\u001b[39;00m \u001b[38;5;28mmap\u001b[39m(full_lower, apply_todos(env_trace_todo(), outs))\n",
      "File \u001b[0;32m~/anaconda3/envs/olg/lib/python3.8/site-packages/jax/core.py:680\u001b[0m, in \u001b[0;36mEvalTrace.process_call\u001b[0;34m(self, primitive, f, tracers, params)\u001b[0m\n\u001b[1;32m    679\u001b[0m \u001b[38;5;28;01mdef\u001b[39;00m \u001b[38;5;21mprocess_call\u001b[39m(\u001b[38;5;28mself\u001b[39m, primitive, f, tracers, params):\n\u001b[0;32m--> 680\u001b[0m   \u001b[38;5;28;01mreturn\u001b[39;00m \u001b[43mprimitive\u001b[49m\u001b[38;5;241;43m.\u001b[39;49m\u001b[43mimpl\u001b[49m\u001b[43m(\u001b[49m\u001b[43mf\u001b[49m\u001b[43m,\u001b[49m\u001b[43m \u001b[49m\u001b[38;5;241;43m*\u001b[39;49m\u001b[43mtracers\u001b[49m\u001b[43m,\u001b[49m\u001b[43m \u001b[49m\u001b[38;5;241;43m*\u001b[39;49m\u001b[38;5;241;43m*\u001b[39;49m\u001b[43mparams\u001b[49m\u001b[43m)\u001b[49m\n",
      "File \u001b[0;32m~/anaconda3/envs/olg/lib/python3.8/site-packages/jax/_src/dispatch.py:182\u001b[0m, in \u001b[0;36m_xla_call_impl\u001b[0;34m(***failed resolving arguments***)\u001b[0m\n\u001b[1;32m    180\u001b[0m \u001b[38;5;28;01mif\u001b[39;00m fun\u001b[38;5;241m.\u001b[39min_type \u001b[38;5;129;01mis\u001b[39;00m \u001b[38;5;129;01mnot\u001b[39;00m \u001b[38;5;28;01mNone\u001b[39;00m:\n\u001b[1;32m    181\u001b[0m   arg_specs \u001b[38;5;241m=\u001b[39m [(\u001b[38;5;28;01mNone\u001b[39;00m, \u001b[38;5;241m*\u001b[39mxs) \u001b[38;5;28;01mfor\u001b[39;00m _, \u001b[38;5;241m*\u001b[39mxs \u001b[38;5;129;01min\u001b[39;00m arg_specs]\n\u001b[0;32m--> 182\u001b[0m compiled_fun \u001b[38;5;241m=\u001b[39m \u001b[43m_xla_callable\u001b[49m\u001b[43m(\u001b[49m\u001b[43mfun\u001b[49m\u001b[43m,\u001b[49m\u001b[43m \u001b[49m\u001b[43mdevice\u001b[49m\u001b[43m,\u001b[49m\u001b[43m \u001b[49m\u001b[43mbackend\u001b[49m\u001b[43m,\u001b[49m\u001b[43m \u001b[49m\u001b[43mname\u001b[49m\u001b[43m,\u001b[49m\u001b[43m \u001b[49m\u001b[43mdonated_invars\u001b[49m\u001b[43m,\u001b[49m\n\u001b[1;32m    183\u001b[0m \u001b[43m                             \u001b[49m\u001b[43mkeep_unused\u001b[49m\u001b[43m,\u001b[49m\u001b[43m \u001b[49m\u001b[38;5;241;43m*\u001b[39;49m\u001b[43marg_specs\u001b[49m\u001b[43m)\u001b[49m\n\u001b[1;32m    184\u001b[0m \u001b[38;5;28;01mtry\u001b[39;00m:\n\u001b[1;32m    185\u001b[0m   \u001b[38;5;28;01mreturn\u001b[39;00m compiled_fun(\u001b[38;5;241m*\u001b[39margs)\n",
      "File \u001b[0;32m~/anaconda3/envs/olg/lib/python3.8/site-packages/jax/linear_util.py:285\u001b[0m, in \u001b[0;36mcache.<locals>.memoized_fun\u001b[0;34m(fun, *args)\u001b[0m\n\u001b[1;32m    283\u001b[0m   fun\u001b[38;5;241m.\u001b[39mpopulate_stores(stores)\n\u001b[1;32m    284\u001b[0m \u001b[38;5;28;01melse\u001b[39;00m:\n\u001b[0;32m--> 285\u001b[0m   ans \u001b[38;5;241m=\u001b[39m \u001b[43mcall\u001b[49m\u001b[43m(\u001b[49m\u001b[43mfun\u001b[49m\u001b[43m,\u001b[49m\u001b[43m \u001b[49m\u001b[38;5;241;43m*\u001b[39;49m\u001b[43margs\u001b[49m\u001b[43m)\u001b[49m\n\u001b[1;32m    286\u001b[0m   cache[key] \u001b[38;5;241m=\u001b[39m (ans, fun\u001b[38;5;241m.\u001b[39mstores)\n\u001b[1;32m    288\u001b[0m thread_local\u001b[38;5;241m.\u001b[39mmost_recent_entry \u001b[38;5;241m=\u001b[39m weakref\u001b[38;5;241m.\u001b[39mref(ans)\n",
      "File \u001b[0;32m~/anaconda3/envs/olg/lib/python3.8/site-packages/jax/_src/dispatch.py:230\u001b[0m, in \u001b[0;36m_xla_callable_uncached\u001b[0;34m(fun, device, backend, name, donated_invars, keep_unused, *arg_specs)\u001b[0m\n\u001b[1;32m    228\u001b[0m \u001b[38;5;28;01mdef\u001b[39;00m \u001b[38;5;21m_xla_callable_uncached\u001b[39m(fun: lu\u001b[38;5;241m.\u001b[39mWrappedFun, device, backend, name,\n\u001b[1;32m    229\u001b[0m                            donated_invars, keep_unused, \u001b[38;5;241m*\u001b[39marg_specs):\n\u001b[0;32m--> 230\u001b[0m   \u001b[38;5;28;01mreturn\u001b[39;00m \u001b[43mlower_xla_callable\u001b[49m\u001b[43m(\u001b[49m\u001b[43mfun\u001b[49m\u001b[43m,\u001b[49m\u001b[43m \u001b[49m\u001b[43mdevice\u001b[49m\u001b[43m,\u001b[49m\u001b[43m \u001b[49m\u001b[43mbackend\u001b[49m\u001b[43m,\u001b[49m\u001b[43m \u001b[49m\u001b[43mname\u001b[49m\u001b[43m,\u001b[49m\u001b[43m \u001b[49m\u001b[43mdonated_invars\u001b[49m\u001b[43m,\u001b[49m\u001b[43m \u001b[49m\u001b[38;5;28;43;01mFalse\u001b[39;49;00m\u001b[43m,\u001b[49m\n\u001b[1;32m    231\u001b[0m \u001b[43m                            \u001b[49m\u001b[43mkeep_unused\u001b[49m\u001b[43m,\u001b[49m\u001b[43m \u001b[49m\u001b[38;5;241;43m*\u001b[39;49m\u001b[43marg_specs\u001b[49m\u001b[43m)\u001b[49m\u001b[38;5;241;43m.\u001b[39;49m\u001b[43mcompile\u001b[49m\u001b[43m(\u001b[49m\u001b[43m)\u001b[49m\u001b[38;5;241m.\u001b[39munsafe_call\n",
      "File \u001b[0;32m~/anaconda3/envs/olg/lib/python3.8/site-packages/jax/_src/dispatch.py:704\u001b[0m, in \u001b[0;36mXlaComputation.compile\u001b[0;34m(self)\u001b[0m\n\u001b[1;32m    701\u001b[0m     \u001b[38;5;28mself\u001b[39m\u001b[38;5;241m.\u001b[39m_executable \u001b[38;5;241m=\u001b[39m XlaCompiledComputation\u001b[38;5;241m.\u001b[39mfrom_trivial_jaxpr(\n\u001b[1;32m    702\u001b[0m         \u001b[38;5;241m*\u001b[39m\u001b[38;5;241m*\u001b[39m\u001b[38;5;28mself\u001b[39m\u001b[38;5;241m.\u001b[39mcompile_args)\n\u001b[1;32m    703\u001b[0m   \u001b[38;5;28;01melse\u001b[39;00m:\n\u001b[0;32m--> 704\u001b[0m     \u001b[38;5;28mself\u001b[39m\u001b[38;5;241m.\u001b[39m_executable \u001b[38;5;241m=\u001b[39m \u001b[43mXlaCompiledComputation\u001b[49m\u001b[38;5;241;43m.\u001b[39;49m\u001b[43mfrom_xla_computation\u001b[49m\u001b[43m(\u001b[49m\n\u001b[1;32m    705\u001b[0m \u001b[43m        \u001b[49m\u001b[38;5;28;43mself\u001b[39;49m\u001b[38;5;241;43m.\u001b[39;49m\u001b[43mname\u001b[49m\u001b[43m,\u001b[49m\u001b[43m \u001b[49m\u001b[38;5;28;43mself\u001b[39;49m\u001b[38;5;241;43m.\u001b[39;49m\u001b[43m_hlo\u001b[49m\u001b[43m,\u001b[49m\u001b[43m \u001b[49m\u001b[38;5;28;43mself\u001b[39;49m\u001b[38;5;241;43m.\u001b[39;49m\u001b[43m_explicit_args\u001b[49m\u001b[43m,\u001b[49m\u001b[43m \u001b[49m\u001b[38;5;241;43m*\u001b[39;49m\u001b[38;5;241;43m*\u001b[39;49m\u001b[38;5;28;43mself\u001b[39;49m\u001b[38;5;241;43m.\u001b[39;49m\u001b[43mcompile_args\u001b[49m\u001b[43m)\u001b[49m\n\u001b[1;32m    707\u001b[0m \u001b[38;5;28;01mreturn\u001b[39;00m \u001b[38;5;28mself\u001b[39m\u001b[38;5;241m.\u001b[39m_executable\n",
      "File \u001b[0;32m~/anaconda3/envs/olg/lib/python3.8/site-packages/jax/_src/dispatch.py:806\u001b[0m, in \u001b[0;36mXlaCompiledComputation.from_xla_computation\u001b[0;34m(name, xla_computation, explicit_args, nreps, device, backend, tuple_args, in_avals, out_avals, effects, kept_var_idx, keepalive)\u001b[0m\n\u001b[1;32m    803\u001b[0m options\u001b[38;5;241m.\u001b[39mparameter_is_tupled_arguments \u001b[38;5;241m=\u001b[39m tuple_args\n\u001b[1;32m    804\u001b[0m \u001b[38;5;28;01mwith\u001b[39;00m log_elapsed_time(\u001b[38;5;124mf\u001b[39m\u001b[38;5;124m\"\u001b[39m\u001b[38;5;124mFinished XLA compilation of \u001b[39m\u001b[38;5;132;01m{\u001b[39;00mname\u001b[38;5;132;01m}\u001b[39;00m\u001b[38;5;124m \u001b[39m\u001b[38;5;124m\"\u001b[39m\n\u001b[1;32m    805\u001b[0m                       \u001b[38;5;124m\"\u001b[39m\u001b[38;5;124min \u001b[39m\u001b[38;5;132;01m{elapsed_time}\u001b[39;00m\u001b[38;5;124m sec\u001b[39m\u001b[38;5;124m\"\u001b[39m):\n\u001b[0;32m--> 806\u001b[0m   compiled \u001b[38;5;241m=\u001b[39m \u001b[43mcompile_or_get_cached\u001b[49m\u001b[43m(\u001b[49m\u001b[43mbackend\u001b[49m\u001b[43m,\u001b[49m\u001b[43m \u001b[49m\u001b[43mxla_computation\u001b[49m\u001b[43m,\u001b[49m\u001b[43m \u001b[49m\u001b[43moptions\u001b[49m\u001b[43m)\u001b[49m\n\u001b[1;32m    807\u001b[0m buffer_counts \u001b[38;5;241m=\u001b[39m (\u001b[38;5;28;01mNone\u001b[39;00m \u001b[38;5;28;01mif\u001b[39;00m \u001b[38;5;28mlen\u001b[39m(out_avals) \u001b[38;5;241m==\u001b[39m \u001b[38;5;241m1\u001b[39m \u001b[38;5;129;01mand\u001b[39;00m \u001b[38;5;129;01mnot\u001b[39;00m config\u001b[38;5;241m.\u001b[39mjax_dynamic_shapes\n\u001b[1;32m    808\u001b[0m                  \u001b[38;5;28;01melse\u001b[39;00m [aval_to_num_buffers(aval) \u001b[38;5;28;01mfor\u001b[39;00m aval \u001b[38;5;129;01min\u001b[39;00m out_avals])\n\u001b[1;32m    809\u001b[0m \u001b[38;5;28;01mif\u001b[39;00m effects:\n",
      "File \u001b[0;32m~/anaconda3/envs/olg/lib/python3.8/site-packages/jax/_src/dispatch.py:768\u001b[0m, in \u001b[0;36mcompile_or_get_cached\u001b[0;34m(backend, computation, compile_options)\u001b[0m\n\u001b[1;32m    766\u001b[0m     ir_str \u001b[38;5;241m=\u001b[39m computation\n\u001b[1;32m    767\u001b[0m   _dump_ir_to_file(module_name, ir_str)\n\u001b[0;32m--> 768\u001b[0m \u001b[38;5;28;01mreturn\u001b[39;00m \u001b[43mbackend_compile\u001b[49m\u001b[43m(\u001b[49m\u001b[43mbackend\u001b[49m\u001b[43m,\u001b[49m\u001b[43m \u001b[49m\u001b[43mcomputation\u001b[49m\u001b[43m,\u001b[49m\u001b[43m \u001b[49m\u001b[43mcompile_options\u001b[49m\u001b[43m)\u001b[49m\n",
      "File \u001b[0;32m~/anaconda3/envs/olg/lib/python3.8/site-packages/jax/_src/profiler.py:206\u001b[0m, in \u001b[0;36mannotate_function.<locals>.wrapper\u001b[0;34m(*args, **kwargs)\u001b[0m\n\u001b[1;32m    203\u001b[0m \u001b[38;5;129m@wraps\u001b[39m(func)\n\u001b[1;32m    204\u001b[0m \u001b[38;5;28;01mdef\u001b[39;00m \u001b[38;5;21mwrapper\u001b[39m(\u001b[38;5;241m*\u001b[39margs, \u001b[38;5;241m*\u001b[39m\u001b[38;5;241m*\u001b[39mkwargs):\n\u001b[1;32m    205\u001b[0m   \u001b[38;5;28;01mwith\u001b[39;00m TraceAnnotation(name, \u001b[38;5;241m*\u001b[39m\u001b[38;5;241m*\u001b[39mdecorator_kwargs):\n\u001b[0;32m--> 206\u001b[0m     \u001b[38;5;28;01mreturn\u001b[39;00m \u001b[43mfunc\u001b[49m\u001b[43m(\u001b[49m\u001b[38;5;241;43m*\u001b[39;49m\u001b[43margs\u001b[49m\u001b[43m,\u001b[49m\u001b[43m \u001b[49m\u001b[38;5;241;43m*\u001b[39;49m\u001b[38;5;241;43m*\u001b[39;49m\u001b[43mkwargs\u001b[49m\u001b[43m)\u001b[49m\n\u001b[1;32m    207\u001b[0m   \u001b[38;5;28;01mreturn\u001b[39;00m wrapper\n",
      "File \u001b[0;32m~/anaconda3/envs/olg/lib/python3.8/site-packages/jax/_src/dispatch.py:713\u001b[0m, in \u001b[0;36mbackend_compile\u001b[0;34m(backend, built_c, options)\u001b[0m\n\u001b[1;32m    709\u001b[0m \u001b[38;5;129m@profiler\u001b[39m\u001b[38;5;241m.\u001b[39mannotate_function\n\u001b[1;32m    710\u001b[0m \u001b[38;5;28;01mdef\u001b[39;00m \u001b[38;5;21mbackend_compile\u001b[39m(backend, built_c, options):\n\u001b[1;32m    711\u001b[0m   \u001b[38;5;66;03m# we use a separate function call to ensure that XLA compilation appears\u001b[39;00m\n\u001b[1;32m    712\u001b[0m   \u001b[38;5;66;03m# separately in Python profiling results\u001b[39;00m\n\u001b[0;32m--> 713\u001b[0m   \u001b[38;5;28;01mreturn\u001b[39;00m \u001b[43mbackend\u001b[49m\u001b[38;5;241;43m.\u001b[39;49m\u001b[43mcompile\u001b[49m\u001b[43m(\u001b[49m\u001b[43mbuilt_c\u001b[49m\u001b[43m,\u001b[49m\u001b[43m \u001b[49m\u001b[43mcompile_options\u001b[49m\u001b[38;5;241;43m=\u001b[39;49m\u001b[43moptions\u001b[49m\u001b[43m)\u001b[49m\n",
      "\u001b[0;31mKeyboardInterrupt\u001b[0m: "
     ]
    }
   ],
   "source": [
    "olg.update_guess()"
   ]
  },
  {
   "cell_type": "code",
   "execution_count": 220,
   "metadata": {},
   "outputs": [
    {
     "data": {
      "text/plain": [
       "[(     fun: 3.809425298003435e-16\n",
       "      info: {'x': array([ 3.30384182,  0.06780681, 45.42057428,  0.24349552,  0.10000003,\n",
       "          0.10000005]), 'g': array([], dtype=float64), 'obj_val': 3.809425298003435e-16, 'mult_g': array([], dtype=float64), 'mult_x_L': array([0., 0., 0., 0., 0., 0.]), 'mult_x_U': array([0., 0., 0., 0., 0., 0.]), 'status': 0, 'status_msg': b'Algorithm terminated successfully at a locally optimal point, satisfying the convergence tolerances (can be specified by options).'}\n",
       "   message: b'Algorithm terminated successfully at a locally optimal point, satisfying the convergence tolerances (can be specified by options).'\n",
       "      nfev: 104\n",
       "       nit: 42\n",
       "      njev: 44\n",
       "    status: 0\n",
       "   success: True\n",
       "         x: array([ 3.30384182,  0.06780681, 45.42057428,  0.24349552,  0.10000003,\n",
       "          0.10000005]),\n",
       "  array([  2.26076836,   0.25356136,  13.88411486,   0.1286991 ,\n",
       "           0.10000001,   0.10000001,   0.16716887,  96.46307804,\n",
       "         -33.81197907])),\n",
       " (     fun: 1.229086271142098e-19\n",
       "      info: {'x': array([ 3.30295576,  0.06778844, 45.42151972,  0.24349561,  0.1       ,\n",
       "          0.1       ]), 'g': array([], dtype=float64), 'obj_val': 1.229086271142098e-19, 'mult_g': array([], dtype=float64), 'mult_x_L': array([0., 0., 0., 0., 0., 0.]), 'mult_x_U': array([0., 0., 0., 0., 0., 0.]), 'status': 0, 'status_msg': b'Algorithm terminated successfully at a locally optimal point, satisfying the convergence tolerances (can be specified by options).'}\n",
       "   message: b'Algorithm terminated successfully at a locally optimal point, satisfying the convergence tolerances (can be specified by options).'\n",
       "      nfev: 69\n",
       "       nit: 36\n",
       "      njev: 38\n",
       "    status: 0\n",
       "   success: True\n",
       "         x: array([ 3.30295576,  0.06778844, 45.42151972,  0.24349561,  0.1       ,\n",
       "          0.1       ]),\n",
       "  array([  2.46920584,   0.21640678,  20.19159583,   0.1516584 ,\n",
       "           0.10000001,   0.10000001,   0.15748178,  96.57223234,\n",
       "         -33.96595118])),\n",
       " (     fun: 6.328845593846848e-20\n",
       "      info: {'x': array([ 3.30214483,  0.06777179, 45.42233214,  0.24349561,  0.1       ,\n",
       "          0.1       ]), 'g': array([], dtype=float64), 'obj_val': 6.328845593846848e-20, 'mult_g': array([], dtype=float64), 'mult_x_L': array([0., 0., 0., 0., 0., 0.]), 'mult_x_U': array([0., 0., 0., 0., 0., 0.]), 'status': 0, 'status_msg': b'Algorithm terminated successfully at a locally optimal point, satisfying the convergence tolerances (can be specified by options).'}\n",
       "   message: b'Algorithm terminated successfully at a locally optimal point, satisfying the convergence tolerances (can be specified by options).'\n",
       "      nfev: 61\n",
       "       nit: 25\n",
       "      njev: 27\n",
       "    status: 0\n",
       "   success: True\n",
       "         x: array([ 3.30214483,  0.06777179, 45.42233214,  0.24349561,  0.1       ,\n",
       "          0.1       ]),\n",
       "  array([  2.63579364,   0.18667978,  25.23774309,   0.17002585,\n",
       "           0.1       ,   0.10000001,   0.14839774,  96.6414482 ,\n",
       "         -34.05614425])),\n",
       " (     fun: 5.432307020877726e-17\n",
       "      info: {'x': array([ 3.30138713,  0.06775663, 45.42295507,  0.2434954 ,  0.10000006,\n",
       "          0.10000011]), 'g': array([], dtype=float64), 'obj_val': 5.432307020877726e-17, 'mult_g': array([], dtype=float64), 'mult_x_L': array([0., 0., 0., 0., 0., 0.]), 'mult_x_U': array([0., 0., 0., 0., 0., 0.]), 'status': 0, 'status_msg': b'Algorithm terminated successfully at a locally optimal point, satisfying the convergence tolerances (can be specified by options).'}\n",
       "   message: b'Algorithm terminated successfully at a locally optimal point, satisfying the convergence tolerances (can be specified by options).'\n",
       "      nfev: 58\n",
       "       nit: 30\n",
       "      njev: 32\n",
       "    status: 0\n",
       "   success: True\n",
       "         x: array([ 3.30138713,  0.06775663, 45.42295507,  0.2434954 ,  0.10000006,\n",
       "          0.10000011]),\n",
       "  array([  2.76891234,   0.16289515,  29.27478549,   0.18471976,\n",
       "           0.10000002,   0.10000003,   0.13988919,  96.6776927 ,\n",
       "         -34.09736747])),\n",
       " (     fun: 8.596645462389531e-15\n",
       "      info: {'x': array([ 3.30044299,  0.06774193, 45.42225146,  0.24349287,  0.10000082,\n",
       "          0.10000137]), 'g': array([], dtype=float64), 'obj_val': 8.596645462389531e-15, 'mult_g': array([], dtype=float64), 'mult_x_L': array([0., 0., 0., 0., 0., 0.]), 'mult_x_U': array([0., 0., 0., 0., 0., 0.]), 'status': 0, 'status_msg': b'Algorithm terminated successfully at a locally optimal point, satisfying the convergence tolerances (can be specified by options).'}\n",
       "   message: b'Algorithm terminated successfully at a locally optimal point, satisfying the convergence tolerances (can be specified by options).'\n",
       "      nfev: 55\n",
       "       nit: 23\n",
       "      njev: 25\n",
       "    status: 0\n",
       "   success: True\n",
       "         x: array([ 3.30044299,  0.06774193, 45.42225146,  0.24349287,  0.10000082,\n",
       "          0.10000137]),\n",
       "  array([  2.87521847,   0.14386451,  32.50427868,   0.19647438,\n",
       "           0.10000018,   0.1000003 ,   0.13192723,  96.68651876,\n",
       "         -34.1013744 ])),\n",
       " (     fun: 8.939951273793143e-17\n",
       "      info: {'x': array([ 3.3001089 ,  0.06773051, 45.42419116,  0.24349534,  0.10000008,\n",
       "          0.10000014]), 'g': array([], dtype=float64), 'obj_val': 8.939951273793143e-17, 'mult_g': array([], dtype=float64), 'mult_x_L': array([0., 0., 0., 0., 0., 0.]), 'mult_x_U': array([0., 0., 0., 0., 0., 0.]), 'status': 0, 'status_msg': b'Algorithm terminated successfully at a locally optimal point, satisfying the convergence tolerances (can be specified by options).'}\n",
       "   message: b'Algorithm terminated successfully at a locally optimal point, satisfying the convergence tolerances (can be specified by options).'\n",
       "      nfev: 38\n",
       "       nit: 20\n",
       "      njev: 22\n",
       "    status: 0\n",
       "   success: True\n",
       "         x: array([ 3.3001089 ,  0.06773051, 45.42419116,  0.24349534,  0.10000008,\n",
       "          0.10000014]),\n",
       "  array([  2.96019656,   0.12863771,  35.08826118,   0.20587857,\n",
       "           0.10000016,   0.10000026,   0.12448242,  96.67234939,\n",
       "         -34.07746939])),\n",
       " (     fun: 1.1289652963406697e-14\n",
       "      info: {'x': array([ 3.29924802,  0.06771811, 45.42320138,  0.24349249,  0.10000094,\n",
       "          0.10000156]), 'g': array([], dtype=float64), 'obj_val': 1.1289652963406697e-14, 'mult_g': array([], dtype=float64), 'mult_x_L': array([0., 0., 0., 0., 0., 0.]), 'mult_x_U': array([0., 0., 0., 0., 0., 0.]), 'status': 0, 'status_msg': b'Algorithm terminated successfully at a locally optimal point, satisfying the convergence tolerances (can be specified by options).'}\n",
       "   message: b'Algorithm terminated successfully at a locally optimal point, satisfying the convergence tolerances (can be specified by options).'\n",
       "      nfev: 40\n",
       "       nit: 15\n",
       "      njev: 17\n",
       "    status: 0\n",
       "   success: True\n",
       "         x: array([ 3.29924802,  0.06771811, 45.42320138,  0.24349249,  0.10000094,\n",
       "          0.10000156]),\n",
       "  array([  3.02800685,   0.11645379,  37.15524922,   0.21340136,\n",
       "           0.10000032,   0.10000052,   0.11752551,  96.63870575,\n",
       "         -34.03299575])),\n",
       " (     fun: 3.474691758426141e-21\n",
       "      info: {'x': array([ 3.29909334,  0.06770915, 45.42538745,  0.24349562,  0.1       ,\n",
       "          0.1       ]), 'g': array([], dtype=float64), 'obj_val': 3.474691758426141e-21, 'mult_g': array([], dtype=float64), 'mult_x_L': array([0., 0., 0., 0., 0., 0.]), 'mult_x_U': array([0., 0., 0., 0., 0., 0.]), 'status': 0, 'status_msg': b'Algorithm terminated successfully at a locally optimal point, satisfying the convergence tolerances (can be specified by options).'}\n",
       "   message: b'Algorithm terminated successfully at a locally optimal point, satisfying the convergence tolerances (can be specified by options).'\n",
       "      nfev: 27\n",
       "       nit: 14\n",
       "      njev: 16\n",
       "    status: 0\n",
       "   success: True\n",
       "         x: array([ 3.29909334,  0.06770915, 45.42538745,  0.24349562,  0.1       ,\n",
       "          0.1       ]),\n",
       "  array([  3.08222415,   0.10670486,  38.80927686,   0.21942021,\n",
       "           0.10000025,   0.10000042,   0.11102786,  96.58839016,\n",
       "         -33.97372853])),\n",
       " (     fun: 9.21800831515022e-18\n",
       "      info: {'x': array([ 3.29863418,  0.06769988, 45.4257957 ,  0.24349554,  0.10000002,\n",
       "          0.10000004]), 'g': array([], dtype=float64), 'obj_val': 9.21800831515022e-18, 'mult_g': array([], dtype=float64), 'mult_x_L': array([0., 0., 0., 0., 0., 0.]), 'mult_x_U': array([0., 0., 0., 0., 0., 0.]), 'status': 0, 'status_msg': b'Algorithm terminated successfully at a locally optimal point, satisfying the convergence tolerances (can be specified by options).'}\n",
       "   message: b'Algorithm terminated successfully at a locally optimal point, satisfying the convergence tolerances (can be specified by options).'\n",
       "      nfev: 41\n",
       "       nit: 16\n",
       "      njev: 18\n",
       "    status: 0\n",
       "   success: True\n",
       "         x: array([ 3.29863418,  0.06769988, 45.4257957 ,  0.24349554,  0.10000002,\n",
       "          0.10000004]),\n",
       "  array([  3.12550615,   0.09890386,  40.13258063,   0.22423527,\n",
       "           0.10000021,   0.10000034,   0.10496172,  96.52363327,\n",
       "         -33.90419021])),\n",
       " (     fun: 7.122432857183317e-17\n",
       "      info: {'x': array([ 3.29820819,  0.06769145, 45.4261106 ,  0.24349537,  0.10000007,\n",
       "          0.10000012]), 'g': array([], dtype=float64), 'obj_val': 7.122432857183317e-17, 'mult_g': array([], dtype=float64), 'mult_x_L': array([0., 0., 0., 0., 0., 0.]), 'mult_x_U': array([0., 0., 0., 0., 0., 0.]), 'status': 0, 'status_msg': b'Algorithm terminated successfully at a locally optimal point, satisfying the convergence tolerances (can be specified by options).'}\n",
       "   message: b'Algorithm terminated successfully at a locally optimal point, satisfying the convergence tolerances (can be specified by options).'\n",
       "      nfev: 14\n",
       "       nit: 10\n",
       "      njev: 12\n",
       "    status: 0\n",
       "   success: True\n",
       "         x: array([ 3.29820819,  0.06769145, 45.4261106 ,  0.24349537,  0.10000007,\n",
       "          0.10000012]),\n",
       "  array([ 3.16004656e+00,  9.26613813e-02,  4.11912866e+01,  2.28087293e-01,\n",
       "          1.00000180e-01,  1.00000299e-01,  9.93004318e-02,  9.64462123e+01,\n",
       "         -3.38279043e+01]))]"
      ]
     },
     "execution_count": 220,
     "metadata": {},
     "output_type": "execute_result"
    }
   ],
   "source": [
    "olg.steady_path"
   ]
  },
  {
   "cell_type": "code",
   "execution_count": 226,
   "metadata": {
    "pycharm": {
     "name": "#%%\n"
    }
   },
   "outputs": [
    {
     "data": {
      "text/plain": [
       "Text(0.5, 1.0, 'wage adjustment')"
      ]
     },
     "execution_count": 226,
     "metadata": {},
     "output_type": "execute_result"
    },
    {
     "data": {
      "image/png": "[encoded data removed]",
      "text/plain": [
       "<Figure size 432x288 with 1 Axes>"
      ]
     },
     "metadata": {
      "needs_background": "light"
     },
     "output_type": "display_data"
    }
   ],
   "source": [
    "plt.plot([item[1][6] for i, item in enumerate(olg.steady_path)])\n",
    "# plt.plot([item[1][1] for i, item in enumerate(olg.steady_path)])\n",
    "plt.axhline(y=0, color='r', linestyle='-')\n",
    "plt.title(\"wage adjustment\")"
   ]
  },
  {
   "cell_type": "code",
   "execution_count": 227,
   "metadata": {},
   "outputs": [
    {
     "data": {
      "text/plain": [
       "Text(0.5, 1.0, 'Labor')"
      ]
     },
     "execution_count": 227,
     "metadata": {},
     "output_type": "execute_result"
    },
    {
     "data": {
      "image/png": "[encoded data removed]",
      "text/plain": [
       "<Figure size 432x288 with 1 Axes>"
      ]
     },
     "metadata": {
      "needs_background": "light"
     },
     "output_type": "display_data"
    }
   ],
   "source": [
    "plt.plot([item[1][1]*item[1][-2] for i, item in enumerate(olg.steady_path)], label = \"non-export\")\n",
    "plt.plot([(1-item[1][1])*item[1][-2] for i, item in enumerate(olg.steady_path)], label = \"export\")\n",
    "plt.legend()\n",
    "plt.title(\"Labor\")"
   ]
  },
  {
   "cell_type": "code",
   "execution_count": 228,
   "metadata": {},
   "outputs": [
    {
     "data": {
      "text/plain": [
       "Text(0.5, 1.0, 'Capital')"
      ]
     },
     "execution_count": 228,
     "metadata": {},
     "output_type": "execute_result"
    },
    {
     "data": {
      "image/png": "[encoded data removed]",
      "text/plain": [
       "<Figure size 432x288 with 1 Axes>"
      ]
     },
     "metadata": {
      "needs_background": "light"
     },
     "output_type": "display_data"
    }
   ],
   "source": [
    "plt.plot([item[1][0]*item[1][-2] for i, item in enumerate(olg.steady_path)], label = \"non-export\")\n",
    "plt.plot([item[1][2]*item[1][-2] for i, item in enumerate(olg.steady_path)], label = \"export\")\n",
    "plt.legend()\n",
    "plt.title(\"Capital\")"
   ]
  },
  {
   "cell_type": "code",
   "execution_count": 229,
   "metadata": {},
   "outputs": [
    {
     "data": {
      "text/plain": [
       "Text(0.5, 1.0, 'non-export labor share adjustment')"
      ]
     },
     "execution_count": 229,
     "metadata": {},
     "output_type": "execute_result"
    },
    {
     "data": {
      "image/png": "[encoded data removed]",
      "text/plain": [
       "<Figure size 432x288 with 1 Axes>"
      ]
     },
     "metadata": {
      "needs_background": "light"
     },
     "output_type": "display_data"
    }
   ],
   "source": [
    "# plt.plot([item[1][0] for i, item in enumerate(olg.steady_path)])\n",
    "plt.plot([item[1][1] for i, item in enumerate(olg.steady_path)])\n",
    "plt.title(\"non-export labor share adjustment\")"
   ]
  },
  {
   "cell_type": "code",
   "execution_count": 232,
   "metadata": {},
   "outputs": [
    {
     "data": {
      "text/plain": [
       "Text(0.5, 1.0, 'cons adjustment')"
      ]
     },
     "execution_count": 232,
     "metadata": {},
     "output_type": "execute_result"
    },
    {
     "data": {
      "image/png": "[encoded data removed]",
      "text/plain": [
       "<Figure size 432x288 with 1 Axes>"
      ]
     },
     "metadata": {
      "needs_background": "light"
     },
     "output_type": "display_data"
    }
   ],
   "source": [
    "plt.plot([item[1][-3] for i, item in enumerate(olg.steady_path)])\n",
    "plt.title(\"cons adjustment\")"
   ]
  },
  {
   "cell_type": "code",
   "execution_count": 230,
   "metadata": {},
   "outputs": [
    {
     "data": {
      "text/plain": [
       "Text(0.5, 1.0, 'price adjustment')"
      ]
     },
     "execution_count": 230,
     "metadata": {},
     "output_type": "execute_result"
    },
    {
     "data": {
      "image/png": "[encoded data removed]",
      "text/plain": [
       "<Figure size 432x288 with 1 Axes>"
      ]
     },
     "metadata": {
      "needs_background": "light"
     },
     "output_type": "display_data"
    }
   ],
   "source": [
    "plt.plot([item[1][4] for i, item in enumerate(olg.steady_path)])\n",
    "plt.plot([item[1][5] for i, item in enumerate(olg.steady_path)], label =\"non-export price\")\n",
    "plt.legend()\n",
    "plt.title(\"price adjustment\")"
   ]
  },
  {
   "cell_type": "code",
   "execution_count": 231,
   "metadata": {
    "pycharm": {
     "name": "#%%\n"
    }
   },
   "outputs": [
    {
     "data": {
      "text/plain": [
       "Text(0.5, 1.0, 'Target function')"
      ]
     },
     "execution_count": 231,
     "metadata": {},
     "output_type": "execute_result"
    },
    {
     "data": {
      "image/png": "[encoded data removed]",
      "text/plain": [
       "<Figure size 432x288 with 1 Axes>"
      ]
     },
     "metadata": {
      "needs_background": "light"
     },
     "output_type": "display_data"
    }
   ],
   "source": [
    "import matplotlib.pyplot as plt\n",
    "plt.plot([item[0][\"fun\"] for i, item in enumerate(olg.steady_path)])\n",
    "plt.title(\"Target function\")"
   ]
  },
  {
   "cell_type": "code",
   "execution_count": 37,
   "metadata": {
    "pycharm": {
     "name": "#%%\n"
    }
   },
   "outputs": [],
   "source": [
    "olg.create_guess()"
   ]
  },
  {
   "cell_type": "code",
   "execution_count": 279,
   "metadata": {
    "pycharm": {
     "name": "#%%\n"
    }
   },
   "outputs": [
    {
     "data": {
      "text/plain": [
       "(     fun: 497133.5107400712\n",
       "     info: {'x': array([ 6.50888420e+00,  7.89066419e+02,  3.67245615e+04, -8.85181784e-03,\n",
       "         2.52521567e+01,  3.05824304e+03,  5.72445545e+04,  3.73356679e-02,\n",
       "         1.81871797e-01,  2.67263830e-08,  2.11897026e-02]), 'g': array([], dtype=float64), 'obj_val': 497133.5107400712, 'mult_g': array([], dtype=float64), 'mult_x_L': array([0., 0., 0., 0., 0., 0., 0., 0., 0., 0., 0.]), 'mult_x_U': array([0., 0., 0., 0., 0., 0., 0., 0., 0., 0., 0.]), 'status': -3, 'status_msg': b'An unrecoverable error occurred while Ipopt tried to compute the search direction.'}\n",
       "  message: b'An unrecoverable error occurred while Ipopt tried to compute the search direction.'\n",
       "     nfev: 629\n",
       "      nit: 21\n",
       "     njev: 25\n",
       "   status: -3\n",
       "  success: False\n",
       "        x: array([ 6.50888420e+00,  7.89066419e+02,  3.67245615e+04, -8.85181784e-03,\n",
       "         2.52521567e+01,  3.05824304e+03,  5.72445545e+04,  3.73356679e-02,\n",
       "         1.81871797e-01,  2.67263830e-08,  2.11897026e-02]),\n",
       " array([ 6.50888420e+00,  7.89066419e+02,  3.67245615e+04, -8.85181784e-03,\n",
       "         2.52521567e+01,  3.05824304e+03,  5.72445545e+04,  3.73356679e-02,\n",
       "         1.81871797e-01,  1.27880340e-07,  2.11357024e-02,  1.34896231e+10,\n",
       "         9.32640416e+04, -2.74112479e+05]))"
      ]
     },
     "execution_count": 279,
     "metadata": {},
     "output_type": "execute_result"
    }
   ],
   "source": [
    "olg.steady_path[-4]\n",
    "# единственный выход это потребление тоже менять с eta"
   ]
  },
  {
   "cell_type": "code",
   "execution_count": 38,
   "metadata": {
    "pycharm": {
     "name": "#%%\n"
    }
   },
   "outputs": [
    {
     "data": {
      "text/plain": [
       "[<matplotlib.lines.Line2D at 0x7f798456bc10>]"
      ]
     },
     "execution_count": 38,
     "metadata": {},
     "output_type": "execute_result"
    },
    {
     "data": {
      "image/png": "[encoded data removed]",
      "text/plain": [
       "<Figure size 432x288 with 1 Axes>"
      ]
     },
     "metadata": {
      "needs_background": "light"
     },
     "output_type": "display_data"
    }
   ],
   "source": [
    "import matplotlib.pyplot as plt\n",
    "plt.plot(olg.w)"
   ]
  },
  {
   "cell_type": "code",
   "execution_count": 39,
   "metadata": {},
   "outputs": [
    {
     "data": {
      "text/plain": [
       "array([1.42600744e-05, 1.42507980e-05, 1.42414996e-05, 1.42321791e-05,\n",
       "       1.42228363e-05, 1.42134710e-05, 1.42040831e-05, 1.41946724e-05,\n",
       "       1.41852387e-05, 1.41757819e-05, 1.41663018e-05, 1.41567982e-05,\n",
       "       1.41472709e-05, 1.41377198e-05, 1.41281447e-05, 1.41185453e-05,\n",
       "       1.41089216e-05, 1.40992733e-05, 1.40896002e-05, 1.40799021e-05,\n",
       "       1.40701790e-05, 1.40604305e-05, 1.40506564e-05, 1.40408566e-05,\n",
       "       1.40310309e-05, 1.40211791e-05, 1.40113009e-05, 1.40013962e-05,\n",
       "       1.39914647e-05, 1.39815062e-05, 1.39715206e-05, 1.39615076e-05,\n",
       "       1.39514670e-05, 1.39413985e-05, 1.39313020e-05, 1.39211772e-05,\n",
       "       1.39110239e-05, 1.39008419e-05, 1.38906309e-05, 1.38803907e-05,\n",
       "       1.38701211e-05, 1.38598218e-05, 1.38494926e-05, 1.38391332e-05,\n",
       "       1.38287434e-05, 1.38183229e-05, 1.38078715e-05, 1.37973889e-05,\n",
       "       1.37868749e-05, 1.37763292e-05, 1.37657516e-05, 1.37551417e-05,\n",
       "       1.37444993e-05, 1.37338241e-05, 1.37231159e-05, 1.37123743e-05,\n",
       "       1.37015991e-05, 1.36907900e-05, 1.36799467e-05, 1.36690689e-05,\n",
       "       1.36581563e-05, 1.36472087e-05, 1.36362256e-05, 1.36252068e-05,\n",
       "       1.36141520e-05, 1.36030609e-05, 1.35919331e-05, 1.35807684e-05,\n",
       "       1.35695663e-05, 1.35583266e-05, 1.35470489e-05, 1.35357329e-05,\n",
       "       1.35243783e-05, 1.35129847e-05, 1.35015517e-05, 1.34900790e-05,\n",
       "       1.34785662e-05, 1.34670130e-05, 1.34554190e-05, 1.34437838e-05,\n",
       "       1.34321070e-05, 1.34203883e-05, 1.34086273e-05, 1.33968235e-05,\n",
       "       1.33849766e-05, 1.33730862e-05, 1.33611518e-05, 1.33491731e-05,\n",
       "       1.33371496e-05, 1.33250809e-05, 1.33129666e-05, 1.33008062e-05,\n",
       "       1.32885993e-05, 1.32763455e-05, 1.32640442e-05, 1.32516951e-05,\n",
       "       1.32392976e-05, 1.32268513e-05, 1.32143558e-05, 1.32018104e-05,\n",
       "       1.31892148e-05, 1.31765685e-05, 1.31638708e-05, 1.31511214e-05,\n",
       "       1.31383197e-05, 1.31254652e-05, 1.31125573e-05, 1.30995956e-05,\n",
       "       1.30865793e-05, 1.30735081e-05, 1.30603813e-05, 1.30471984e-05,\n",
       "       1.30339587e-05, 1.30206618e-05, 1.30073069e-05, 1.29938935e-05,\n",
       "       1.29804211e-05, 1.29668888e-05, 1.29532962e-05, 1.29396426e-05,\n",
       "       1.29259273e-05, 1.29121497e-05, 1.28983091e-05, 1.28844048e-05,\n",
       "       1.28704361e-05, 1.28564024e-05, 1.28423029e-05, 1.28281369e-05,\n",
       "       1.28139037e-05, 1.27996025e-05, 1.27852326e-05, 1.27707932e-05,\n",
       "       1.27562835e-05, 1.27417027e-05, 1.27270501e-05, 1.27123248e-05,\n",
       "       1.26975260e-05, 1.26826528e-05, 1.26677045e-05, 1.26526800e-05,\n",
       "       1.26375787e-05, 1.26223994e-05, 1.26071414e-05, 1.25918038e-05,\n",
       "       1.25763854e-05, 1.25608856e-05, 1.25453031e-05, 1.25296372e-05,\n",
       "       1.25138866e-05, 1.24980506e-05, 1.24821279e-05, 1.24661175e-05,\n",
       "       1.24500185e-05, 1.24338296e-05, 1.24175497e-05, 2.14082721e-02,\n",
       "       2.14082721e-02, 2.14082721e-02, 2.14082721e-02, 2.14082721e-02,\n",
       "       2.14082721e-02, 2.14082721e-02, 2.14082721e-02, 2.14082721e-02,\n",
       "       2.14082721e-02, 2.14082721e-02, 2.14082721e-02, 2.14082721e-02,\n",
       "       2.14082721e-02, 2.14082721e-02, 2.14082721e-02, 2.14082721e-02,\n",
       "       2.14082721e-02, 2.14082721e-02, 2.14082721e-02, 2.14082721e-02,\n",
       "       2.14082721e-02, 2.14082721e-02, 2.14082721e-02, 2.14082721e-02,\n",
       "       2.14082721e-02, 2.14082721e-02, 2.14082721e-02, 2.14082721e-02,\n",
       "       2.14082721e-02, 2.14082721e-02, 2.14082721e-02, 2.14082721e-02,\n",
       "       2.14082721e-02, 2.14082721e-02, 2.14082721e-02, 2.14082721e-02,\n",
       "       2.14082721e-02, 2.14082721e-02, 2.14082721e-02, 2.14082721e-02,\n",
       "       2.14082721e-02, 2.14082721e-02, 2.14082721e-02, 2.14082721e-02,\n",
       "       2.14082721e-02, 2.14082721e-02, 2.14082721e-02, 2.14082721e-02,\n",
       "       2.14082721e-02, 2.14082721e-02, 2.14082721e-02, 2.14082721e-02,\n",
       "       2.14082721e-02, 2.14082721e-02, 2.14082721e-02, 2.14082721e-02,\n",
       "       2.14082721e-02, 2.14082721e-02, 2.14082721e-02, 2.14082721e-02,\n",
       "       2.14082721e-02, 2.14082721e-02, 2.14082721e-02, 2.14082721e-02,\n",
       "       2.14082721e-02, 2.14082721e-02, 2.14082721e-02, 2.14082721e-02,\n",
       "       2.14082721e-02, 2.14082721e-02, 2.14082721e-02, 2.14082721e-02,\n",
       "       2.14082721e-02, 2.14082721e-02, 2.14082721e-02, 2.14082721e-02,\n",
       "       2.14082721e-02, 2.14082721e-02, 2.14082721e-02, 2.14082721e-02,\n",
       "       2.14082721e-02, 2.14082721e-02, 2.14082721e-02, 2.14082721e-02,\n",
       "       2.14082721e-02, 2.14082721e-02, 2.14082721e-02, 2.14082721e-02,\n",
       "       2.14082721e-02, 2.14082721e-02, 2.14082721e-02, 2.14082721e-02,\n",
       "       2.14082721e-02, 2.14082721e-02, 2.14082721e-02, 2.14082721e-02,\n",
       "       2.14082721e-02, 2.14082721e-02, 2.14082721e-02, 2.14082721e-02,\n",
       "       2.14082721e-02, 2.14082721e-02, 2.14082721e-02, 2.14082721e-02,\n",
       "       2.14082721e-02, 2.14082721e-02, 2.14082721e-02, 2.14082721e-02,\n",
       "       2.14082721e-02, 2.14082721e-02, 2.14082721e-02, 2.14082721e-02,\n",
       "       2.14082721e-02, 2.14082721e-02, 2.14082721e-02, 2.14082721e-02,\n",
       "       2.14082721e-02, 2.14082721e-02, 2.14082721e-02, 2.14082721e-02,\n",
       "       2.14082721e-02, 2.14082721e-02, 2.14082721e-02, 2.14082721e-02,\n",
       "       2.14082721e-02, 2.14082721e-02, 2.14082721e-02, 2.14082721e-02,\n",
       "       2.14082721e-02, 2.14082721e-02, 2.14082721e-02, 2.14082721e-02,\n",
       "       2.14082721e-02, 2.14082721e-02, 2.14082721e-02, 2.14082721e-02,\n",
       "       2.14082721e-02, 2.14082721e-02, 2.14082721e-02, 2.14082721e-02,\n",
       "       2.14082721e-02, 2.14082721e-02, 2.14082721e-02, 2.14082721e-02,\n",
       "       2.14082721e-02, 2.14082721e-02, 2.14082721e-02, 2.14082721e-02,\n",
       "       2.14082721e-02, 2.14082721e-02, 2.14082721e-02, 2.14082721e-02,\n",
       "       2.14082721e-02, 2.14082721e-02, 2.14082721e-02, 2.14082721e-02,\n",
       "       2.14082721e-02, 2.14082721e-02, 2.14082721e-02, 2.14082721e-02,\n",
       "       2.14082721e-02, 2.14082721e-02, 2.14082721e-02, 2.14082721e-02,\n",
       "       2.14082721e-02, 2.14082721e-02, 2.14082721e-02, 2.14082721e-02,\n",
       "       2.14082721e-02, 2.14082721e-02, 2.14082721e-02, 2.14082721e-02,\n",
       "       2.14082721e-02, 2.14082721e-02, 2.14082721e-02, 2.14082721e-02,\n",
       "       2.14082721e-02, 2.14082721e-02, 2.14082721e-02, 2.14082721e-02,\n",
       "       2.14082721e-02, 2.14082721e-02, 2.14082721e-02, 2.14082721e-02,\n",
       "       2.14082721e-02, 2.14082721e-02, 2.14082721e-02, 2.14082721e-02,\n",
       "       2.14082721e-02, 2.14082721e-02, 2.14082721e-02, 2.14082721e-02,\n",
       "       2.14082721e-02, 2.14082721e-02, 2.14082721e-02, 2.14082721e-02,\n",
       "       2.14082721e-02, 2.14082721e-02, 2.14082721e-02, 2.14082721e-02,\n",
       "       2.14082721e-02, 2.14082721e-02, 2.14082721e-02, 2.14082721e-02,\n",
       "       2.14082721e-02, 2.14082721e-02, 2.14082721e-02, 2.14082721e-02,\n",
       "       2.14082721e-02, 2.14082721e-02, 2.14082721e-02, 2.14082721e-02,\n",
       "       2.14082721e-02, 2.14082721e-02, 2.14082721e-02, 2.14082721e-02,\n",
       "       2.14082721e-02, 2.14082721e-02, 2.14082721e-02, 2.14082721e-02,\n",
       "       2.14082721e-02, 2.14082721e-02, 2.14082721e-02, 2.14082721e-02,\n",
       "       2.14082721e-02, 2.14082721e-02, 2.14082721e-02, 2.14082721e-02,\n",
       "       2.14082721e-02, 2.14082721e-02, 2.14082721e-02, 2.14082721e-02,\n",
       "       2.14082721e-02, 2.14082721e-02, 2.14082721e-02, 2.14082721e-02,\n",
       "       2.14082721e-02, 2.14082721e-02, 2.14082721e-02, 2.14082721e-02,\n",
       "       2.14082721e-02, 2.14082721e-02, 2.14082721e-02, 2.14082721e-02,\n",
       "       2.14082721e-02, 2.14082721e-02, 2.14082721e-02, 2.14082721e-02,\n",
       "       2.14082721e-02, 2.14082721e-02, 2.14082721e-02, 2.14082721e-02,\n",
       "       2.14082721e-02, 2.14082721e-02, 2.14082721e-02, 2.14082721e-02,\n",
       "       2.14082721e-02, 2.14082721e-02, 2.14082721e-02, 2.14082721e-02,\n",
       "       2.14082721e-02, 2.14082721e-02, 2.14082721e-02, 2.14082721e-02,\n",
       "       2.14082721e-02, 2.14082721e-02, 2.14082721e-02, 2.14082721e-02,\n",
       "       2.14082721e-02, 2.14082721e-02, 2.14082721e-02, 2.14082721e-02,\n",
       "       2.14082721e-02, 2.14082721e-02, 2.14082721e-02, 2.14082721e-02,\n",
       "       2.14082721e-02, 2.14082721e-02, 2.14082721e-02, 2.14082721e-02,\n",
       "       2.14082721e-02, 2.14082721e-02, 2.14082721e-02, 2.14082721e-02,\n",
       "       2.14082721e-02, 2.14082721e-02, 2.14082721e-02, 2.14082721e-02,\n",
       "       2.14082721e-02, 2.14082721e-02, 2.14082721e-02, 2.14082721e-02,\n",
       "       2.14082721e-02, 2.14082721e-02, 2.14082721e-02, 2.14082721e-02,\n",
       "       2.14082721e-02, 2.14082721e-02, 2.14082721e-02, 2.14082721e-02,\n",
       "       2.14082721e-02, 2.14082721e-02, 2.14082721e-02, 2.14082721e-02,\n",
       "       2.14082721e-02, 2.14082721e-02, 2.14082721e-02, 2.14082721e-02,\n",
       "       2.14082721e-02, 2.14082721e-02, 2.14082721e-02, 2.14082721e-02,\n",
       "       2.14082721e-02, 2.14082721e-02, 2.14082721e-02, 2.14082721e-02,\n",
       "       2.14082721e-02, 2.14082721e-02, 2.14082721e-02, 2.14082721e-02,\n",
       "       2.14082721e-02, 2.14082721e-02, 2.14082721e-02, 2.14082721e-02,\n",
       "       2.14082721e-02, 2.14082721e-02, 2.14082721e-02, 2.14082721e-02,\n",
       "       2.14082721e-02, 2.14082721e-02, 2.14082721e-02, 2.14082721e-02,\n",
       "       2.14082721e-02, 2.14082721e-02, 2.14082721e-02, 2.14082721e-02,\n",
       "       2.14082721e-02, 2.14082721e-02, 2.14082721e-02, 2.14082721e-02,\n",
       "       2.14082721e-02, 2.14082721e-02, 2.14082721e-02, 2.14082721e-02,\n",
       "       2.14082721e-02, 2.14082721e-02, 2.14082721e-02, 2.14082721e-02,\n",
       "       2.14082721e-02, 2.14082721e-02, 2.14082721e-02, 2.14082721e-02,\n",
       "       2.14082721e-02, 2.14082721e-02, 2.14082721e-02, 2.14082721e-02,\n",
       "       2.14082721e-02, 2.14082721e-02, 2.14082721e-02, 2.14082721e-02,\n",
       "       2.14082721e-02, 2.14082721e-02, 2.14082721e-02, 2.14082721e-02,\n",
       "       2.14082721e-02, 2.14082721e-02, 2.14082721e-02, 2.14082721e-02,\n",
       "       2.14082721e-02, 2.14082721e-02, 2.14082721e-02, 2.14082721e-02,\n",
       "       2.14082721e-02, 2.14082721e-02, 2.14082721e-02, 2.14082721e-02,\n",
       "       2.14082721e-02, 2.14082721e-02, 2.14082721e-02, 2.14082721e-02,\n",
       "       2.14082721e-02, 2.14082721e-02, 2.14082721e-02, 2.14082721e-02,\n",
       "       2.14082721e-02, 2.14082721e-02, 2.14082721e-02, 2.14082721e-02,\n",
       "       2.14082721e-02, 2.14082721e-02, 2.14082721e-02, 2.14082721e-02,\n",
       "       2.14082721e-02, 2.14082721e-02, 2.14082721e-02, 2.14082721e-02,\n",
       "       2.14082721e-02, 2.14082721e-02, 2.14082721e-02, 2.14082721e-02,\n",
       "       2.14082721e-02, 2.14082721e-02, 2.14082721e-02, 2.14082721e-02,\n",
       "       2.14082721e-02, 2.14082721e-02, 2.14082721e-02, 2.14082721e-02,\n",
       "       2.14082721e-02, 2.14082721e-02, 2.14082721e-02, 2.14082721e-02,\n",
       "       2.14082721e-02, 2.14082721e-02, 2.14082721e-02, 2.14082721e-02,\n",
       "       2.14082721e-02, 2.14082721e-02, 2.14082721e-02, 2.14082721e-02,\n",
       "       2.14082721e-02, 2.14082721e-02, 2.14082721e-02, 2.14082721e-02,\n",
       "       2.14082721e-02, 2.14082721e-02, 2.14082721e-02, 2.14082721e-02,\n",
       "       2.14082721e-02, 2.14082721e-02, 2.14082721e-02, 2.14082721e-02,\n",
       "       2.14082721e-02, 2.14082721e-02, 2.14082721e-02, 2.14082721e-02,\n",
       "       2.14082721e-02, 2.14082721e-02, 2.14082721e-02, 2.14082721e-02,\n",
       "       2.14082721e-02, 2.14082721e-02, 2.14082721e-02, 2.14082721e-02,\n",
       "       2.14082721e-02, 2.14082721e-02, 2.14082721e-02, 2.14082721e-02,\n",
       "       2.14082721e-02, 2.14082721e-02, 2.14082721e-02, 2.14082721e-02,\n",
       "       2.14082721e-02, 2.14082721e-02])"
      ]
     },
     "execution_count": 39,
     "metadata": {},
     "output_type": "execute_result"
    }
   ],
   "source": [
    "olg.w"
   ]
  },
  {
   "cell_type": "code",
   "execution_count": 606,
   "metadata": {
    "pycharm": {
     "name": "#%%\n"
    }
   },
   "outputs": [
    {
     "data": {
      "text/plain": [
       "[<matplotlib.lines.Line2D at 0x2e65210a490>]"
      ]
     },
     "execution_count": 606,
     "metadata": {},
     "output_type": "execute_result"
    },
    {
     "data": {
      "image/png": "[encoded data removed]",
      "text/plain": [
       "<Figure size 432x288 with 1 Axes>"
      ]
     },
     "metadata": {
      "needs_background": "light"
     },
     "output_type": "display_data"
    }
   ],
   "source": [
    "# plt.plot(olg.c[0][345-30,(250-30):(345-30)]) # труд у дрпугих неправильно рассчитывается?\n",
    "# plt.plot(olg.l[0][345-30,(250-30):(345-30)])\n"
   ]
  },
  {
   "cell_type": "code",
   "execution_count": 43,
   "metadata": {
    "pycharm": {
     "name": "#%%\n"
    }
   },
   "outputs": [
    {
     "data": {
      "text/plain": [
       "1.3201810425347083e-05"
      ]
     },
     "execution_count": 43,
     "metadata": {},
     "output_type": "execute_result"
    }
   ],
   "source": [
    "olg.w[99]"
   ]
  },
  {
   "cell_type": "code",
   "execution_count": 25,
   "metadata": {
    "pycharm": {
     "name": "#%%\n"
    }
   },
   "outputs": [
    {
     "data": {
      "image/png": "[encoded data removed]",
      "text/plain": [
       "<Figure size 432x288 with 1 Axes>"
      ]
     },
     "metadata": {
      "needs_background": "light"
     },
     "output_type": "display_data"
    }
   ],
   "source": [
    "# plt.plot(olg.l[0][260,165:260], label= \"labor\")\n",
    "# plt.plot(olg.c[0][260,165:260], label = \"consumption\")\n",
    "plt.plot(olg.a[0][260,165:260], label = \"assets\")\n",
    "# plt.plot((olg.c[0][260,165:260]**olg.phi * (1-olg.l[0][260,165:260])**(1-olg.phi))**(1-olg.theta)/(1-olg.theta), label = \"utility\")\n",
    "plt.show()"
   ]
  },
  {
   "cell_type": "code",
   "execution_count": 614,
   "metadata": {
    "pycharm": {
     "name": "#%%\n"
    }
   },
   "outputs": [
    {
     "data": {
      "text/plain": [
       "Text(0.5, 1.0, 'Wage path')"
      ]
     },
     "execution_count": 614,
     "metadata": {},
     "output_type": "execute_result"
    },
    {
     "data": {
      "image/png": "[encoded data removed]",
      "text/plain": [
       "<Figure size 432x288 with 1 Axes>"
      ]
     },
     "metadata": {
      "needs_background": "light"
     },
     "output_type": "display_data"
    }
   ],
   "source": [
    "plt.plot([item[0][\"info\"][\"x\"][8] for i, item in enumerate(olg.steady_path)if i != 1] [0:])\n",
    "plt.title(\"Wage path\")"
   ]
  },
  {
   "cell_type": "code",
   "execution_count": 615,
   "metadata": {
    "pycharm": {
     "name": "#%%\n"
    }
   },
   "outputs": [
    {
     "data": {
      "text/plain": [
       "Text(0.5, 1.0, 'Price N path')"
      ]
     },
     "execution_count": 615,
     "metadata": {},
     "output_type": "execute_result"
    },
    {
     "data": {
      "image/png": "[encoded data removed]",
      "text/plain": [
       "<Figure size 432x288 with 1 Axes>"
      ]
     },
     "metadata": {
      "needs_background": "light"
     },
     "output_type": "display_data"
    }
   ],
   "source": [
    "plt.plot([item[0][\"info\"][\"x\"][10] for item in olg.steady_path][0:])\n",
    "plt.title(\"Price N path\")"
   ]
  },
  {
   "cell_type": "code",
   "execution_count": 470,
   "metadata": {
    "pycharm": {
     "name": "#%%\n"
    }
   },
   "outputs": [
    {
     "ename": "IndexError",
     "evalue": "too many indices for array: array is 1-dimensional, but 2 were indexed",
     "output_type": "error",
     "traceback": [
      "\u001b[1;31m---------------------------------------------------------------------------\u001b[0m",
      "\u001b[1;31mIndexError\u001b[0m                                Traceback (most recent call last)",
      "\u001b[1;32m~\\AppData\\Local\\Temp/ipykernel_172/150305223.py\u001b[0m in \u001b[0;36m<module>\u001b[1;34m\u001b[0m\n\u001b[0;32m      1\u001b[0m \u001b[1;32mfor\u001b[0m \u001b[0m_\u001b[0m \u001b[1;32min\u001b[0m \u001b[0mrange\u001b[0m\u001b[1;33m(\u001b[0m\u001b[1;36m1\u001b[0m\u001b[1;33m)\u001b[0m\u001b[1;33m:\u001b[0m\u001b[1;33m\u001b[0m\u001b[1;33m\u001b[0m\u001b[0m\n\u001b[1;32m----> 2\u001b[1;33m     \u001b[0molg\u001b[0m\u001b[1;33m.\u001b[0m\u001b[0mupdate_guess\u001b[0m\u001b[1;33m(\u001b[0m\u001b[1;33m)\u001b[0m\u001b[1;33m\u001b[0m\u001b[1;33m\u001b[0m\u001b[0m\n\u001b[0m",
      "\u001b[1;32m~\\AppData\\Local\\Temp/ipykernel_172/1908880180.py\u001b[0m in \u001b[0;36mupdate_guess\u001b[1;34m(self)\u001b[0m\n\u001b[0;32m    355\u001b[0m                     \u001b[0mself\u001b[0m\u001b[1;33m.\u001b[0m\u001b[0mc\u001b[0m\u001b[1;33m[\u001b[0m\u001b[0ms\u001b[0m\u001b[1;33m,\u001b[0m \u001b[0mg\u001b[0m\u001b[1;33m,\u001b[0m \u001b[0mt\u001b[0m\u001b[1;33m]\u001b[0m\u001b[1;33m,\u001b[0m\u001b[0mself\u001b[0m\u001b[1;33m.\u001b[0m\u001b[0ml\u001b[0m\u001b[1;33m[\u001b[0m\u001b[0ms\u001b[0m\u001b[1;33m,\u001b[0m \u001b[0mg\u001b[0m\u001b[1;33m,\u001b[0m \u001b[0mt\u001b[0m\u001b[1;33m]\u001b[0m\u001b[1;33m,\u001b[0m\u001b[0mself\u001b[0m\u001b[1;33m.\u001b[0m\u001b[0ma\u001b[0m\u001b[1;33m[\u001b[0m\u001b[0ms\u001b[0m\u001b[1;33m,\u001b[0m \u001b[0mg\u001b[0m\u001b[1;33m,\u001b[0m \u001b[0mt\u001b[0m\u001b[1;33m]\u001b[0m  \u001b[1;33m=\u001b[0m \u001b[0mself\u001b[0m\u001b[1;33m.\u001b[0m\u001b[0mhousehold\u001b[0m\u001b[1;33m(\u001b[0m\u001b[0ms\u001b[0m\u001b[1;33m,\u001b[0m\u001b[0mg\u001b[0m\u001b[1;33m,\u001b[0m\u001b[0mt\u001b[0m\u001b[1;33m)\u001b[0m\u001b[1;33m\u001b[0m\u001b[1;33m\u001b[0m\u001b[0m\n\u001b[0;32m    356\u001b[0m         \u001b[1;32mfor\u001b[0m \u001b[0mt\u001b[0m \u001b[1;32min\u001b[0m \u001b[0mrange\u001b[0m\u001b[1;33m(\u001b[0m\u001b[0mself\u001b[0m\u001b[1;33m.\u001b[0m\u001b[0mT\u001b[0m\u001b[1;33m)\u001b[0m\u001b[1;33m:\u001b[0m\u001b[1;33m\u001b[0m\u001b[1;33m\u001b[0m\u001b[0m\n\u001b[1;32m--> 357\u001b[1;33m             \u001b[0mz_guess\u001b[0m \u001b[1;33m=\u001b[0m \u001b[1;33m[\u001b[0m\u001b[0mself\u001b[0m\u001b[1;33m.\u001b[0m\u001b[0mI\u001b[0m\u001b[1;33m[\u001b[0m\u001b[1;36m0\u001b[0m\u001b[1;33m,\u001b[0m\u001b[0mt\u001b[0m\u001b[1;33m]\u001b[0m\u001b[1;33m,\u001b[0m\u001b[0mself\u001b[0m\u001b[1;33m.\u001b[0m\u001b[0mK\u001b[0m\u001b[1;33m[\u001b[0m\u001b[1;36m0\u001b[0m\u001b[1;33m,\u001b[0m\u001b[0mt\u001b[0m\u001b[1;33m+\u001b[0m\u001b[1;36m1\u001b[0m\u001b[1;33m]\u001b[0m\u001b[1;33m,\u001b[0m\u001b[0mself\u001b[0m\u001b[1;33m.\u001b[0m\u001b[0mL\u001b[0m\u001b[1;33m[\u001b[0m\u001b[1;36m0\u001b[0m\u001b[1;33m,\u001b[0m\u001b[0mt\u001b[0m\u001b[1;33m]\u001b[0m\u001b[1;33m,\u001b[0m\u001b[0mself\u001b[0m\u001b[1;33m.\u001b[0m\u001b[0mlmbda\u001b[0m\u001b[1;33m[\u001b[0m\u001b[1;36m0\u001b[0m\u001b[1;33m,\u001b[0m\u001b[0mt\u001b[0m\u001b[1;33m]\u001b[0m\u001b[1;33m,\u001b[0m \u001b[0mself\u001b[0m\u001b[1;33m.\u001b[0m\u001b[0mI\u001b[0m\u001b[1;33m[\u001b[0m\u001b[1;36m1\u001b[0m\u001b[1;33m,\u001b[0m\u001b[0mt\u001b[0m\u001b[1;33m]\u001b[0m\u001b[1;33m,\u001b[0m\u001b[0mself\u001b[0m\u001b[1;33m.\u001b[0m\u001b[0mK\u001b[0m\u001b[1;33m[\u001b[0m\u001b[1;36m1\u001b[0m\u001b[1;33m,\u001b[0m\u001b[0mt\u001b[0m\u001b[1;33m+\u001b[0m\u001b[1;36m1\u001b[0m\u001b[1;33m]\u001b[0m\u001b[1;33m,\u001b[0m\u001b[0mself\u001b[0m\u001b[1;33m.\u001b[0m\u001b[0mL\u001b[0m\u001b[1;33m[\u001b[0m\u001b[1;36m1\u001b[0m\u001b[1;33m,\u001b[0m\u001b[0mt\u001b[0m\u001b[1;33m]\u001b[0m\u001b[1;33m,\u001b[0m\u001b[0mself\u001b[0m\u001b[1;33m.\u001b[0m\u001b[0mlmbda\u001b[0m\u001b[1;33m[\u001b[0m\u001b[1;36m1\u001b[0m\u001b[1;33m,\u001b[0m\u001b[0mt\u001b[0m\u001b[1;33m]\u001b[0m\u001b[1;33m,\u001b[0m\u001b[0mself\u001b[0m\u001b[1;33m.\u001b[0m\u001b[0mw\u001b[0m\u001b[1;33m[\u001b[0m\u001b[0mt\u001b[0m\u001b[1;33m]\u001b[0m\u001b[1;33m,\u001b[0m \u001b[0mself\u001b[0m\u001b[1;33m.\u001b[0m\u001b[0mprice_N\u001b[0m\u001b[1;33m[\u001b[0m\u001b[0mt\u001b[0m\u001b[1;33m]\u001b[0m\u001b[1;33m,\u001b[0m \u001b[0mself\u001b[0m\u001b[1;33m.\u001b[0m\u001b[0mprice\u001b[0m\u001b[1;33m[\u001b[0m\u001b[0mt\u001b[0m\u001b[1;33m]\u001b[0m\u001b[1;33m]\u001b[0m\u001b[1;33m\u001b[0m\u001b[1;33m\u001b[0m\u001b[0m\n\u001b[0m\u001b[0;32m    358\u001b[0m             \u001b[1;31m# z = fsolve(production,z_guess, fprime=production_jacobian,maxfev=500,\u001b[0m\u001b[1;33m\u001b[0m\u001b[1;33m\u001b[0m\u001b[0m\n\u001b[0;32m    359\u001b[0m             \u001b[1;31m#        args = (self, t))\u001b[0m\u001b[1;33m\u001b[0m\u001b[1;33m\u001b[0m\u001b[0m\n",
      "\u001b[1;31mIndexError\u001b[0m: too many indices for array: array is 1-dimensional, but 2 were indexed"
     ]
    }
   ],
   "source": [
    "for _ in range(1):\n",
    "    olg.update_guess()"
   ]
  },
  {
   "cell_type": "code",
   "execution_count": null,
   "metadata": {
    "pycharm": {
     "name": "#%%\n"
    }
   },
   "outputs": [],
   "source": [
    "import matplotlib.pyplot as plt\n",
    "# plt.plot((((olg.c[:,:610,:]*olg.N[:,:610,:]).sum(axis=0).sum(axis=0))/olg.N[:,:610,:].sum(axis=0).sum(axis=0))[:150])\n",
    "# plt.plot((((olg.a[:,:610,:]*olg.N[:,:610,:]).sum(axis=0).sum(axis=0))/olg.N[:,:610,:].sum(axis=0).sum(axis=0))[:150])\n",
    "plt.plot((((olg.l[:,:610,:]*olg.N[:,:610,:]).sum(axis=0).sum(axis=0))/olg.N[:,:610,:].sum(axis=0).sum(axis=0))[:250])\n",
    "# plt.plot(olg.I[0,:100]/olg.N[0].sum(axis=0)[:100])\n",
    "# plt.plot((olg.l[0,:250]*olg.N[0,:250]).sum(axis=0)/(olg.N[0,:250].sum(axis=0)))\n",
    "plt.show()"
   ]
  },
  {
   "cell_type": "code",
   "execution_count": null,
   "metadata": {
    "pycharm": {
     "name": "#%%\n"
    }
   },
   "outputs": [],
   "source": [
    "plt.plot(olg.I[0,1:100]/olg.I[0,0:99])"
   ]
  },
  {
   "cell_type": "code",
   "execution_count": 616,
   "metadata": {
    "pycharm": {
     "name": "#%%\n"
    }
   },
   "outputs": [
    {
     "data": {
      "text/plain": [
       "[<matplotlib.lines.Line2D at 0x2e652135ee0>]"
      ]
     },
     "execution_count": 616,
     "metadata": {},
     "output_type": "execute_result"
    },
    {
     "data": {
      "image/png": "[encoded data removed]",
      "text/plain": [
       "<Figure size 432x288 with 1 Axes>"
      ]
     },
     "metadata": {
      "needs_background": "light"
     },
     "output_type": "display_data"
    }
   ],
   "source": [
    "plt.plot(olg.L[0][:200]+olg.L[1][:200])\n",
    "plt.plot(((olg.l[:,:610,:]*olg.N[:,:610,:]*olg.epsilon[:,:610,:]).sum(axis=0).sum(axis=0))[:200])"
   ]
  },
  {
   "cell_type": "code",
   "execution_count": 331,
   "metadata": {
    "pycharm": {
     "name": "#%%\n"
    }
   },
   "outputs": [
    {
     "data": {
      "text/plain": [
       "array([170000., 170000., 170000., 170000., 170000., 170000., 170000.,\n",
       "       170000., 170000., 170000., 170000., 170000., 170000., 170000.,\n",
       "       170000., 170000., 170000., 170000., 170000., 170000., 170000.,\n",
       "       170000., 170000., 170000., 170000., 170000., 170000., 170000.,\n",
       "       170000., 170000., 170000., 170000., 170000., 170000., 170000.,\n",
       "       170000., 170000., 170000., 170000., 170000., 170000., 170000.,\n",
       "       170000., 170000., 170000., 170000., 170000., 170000., 170000.,\n",
       "       170000., 170000., 170000., 170000., 170000., 170000., 170000.,\n",
       "       170000., 170000., 170000., 170000., 170000., 170000., 170000.,\n",
       "       170000., 170000., 170000., 170000., 170000., 170000., 170000.,\n",
       "       170000., 170000., 170000., 170000., 170000., 170000., 170000.,\n",
       "       170000., 170000., 170000., 170000., 170000., 170000., 170000.,\n",
       "       170000., 170000., 170000., 170000., 170000., 170000., 170000.,\n",
       "       170000., 170000., 170000., 170000., 170000., 170000., 170000.,\n",
       "       170000., 170000., 170000., 170000., 170000., 170000., 170000.,\n",
       "       170000., 170000., 170000., 170000., 170000., 170000., 170000.,\n",
       "       170000., 170000., 170000., 170000., 170000., 170000., 170000.,\n",
       "       170000., 170000., 170000., 170000., 170000., 170000., 170000.,\n",
       "       170000., 170000., 170000., 170000., 170000., 170000., 170000.,\n",
       "       170000., 170000., 170000., 170000., 170000., 170000., 170000.,\n",
       "       170000., 170000., 170000., 170000., 170000., 170000., 170000.,\n",
       "       170000., 170000., 170000., 170000., 170000., 170000., 170000.,\n",
       "       170000., 170000., 170000., 170000., 170000., 170000., 170000.,\n",
       "       170000., 170000., 170000., 170000., 170000., 170000., 170000.,\n",
       "       170000., 170000., 170000., 170000., 170000., 170000., 170000.,\n",
       "       170000., 170000., 170000., 170000., 170000., 170000., 170000.,\n",
       "       170000., 170000., 170000., 170000., 170000., 170000., 170000.,\n",
       "       170000., 170000., 170000., 170000., 170000., 170000., 170000.,\n",
       "       170000., 170000., 170000., 170000.])"
      ]
     },
     "execution_count": 331,
     "metadata": {},
     "output_type": "execute_result"
    }
   ],
   "source": [
    "olg.L[0][:200]+olg.L[1][:200]"
   ]
  },
  {
   "cell_type": "code",
   "execution_count": 332,
   "metadata": {
    "pycharm": {
     "name": "#%%\n"
    }
   },
   "outputs": [
    {
     "data": {
      "text/plain": [
       "[<matplotlib.lines.Line2D at 0x2e65345fe50>]"
      ]
     },
     "execution_count": 332,
     "metadata": {},
     "output_type": "execute_result"
    },
    {
     "data": {
      "image/png": "[encoded data removed]",
      "text/plain": [
       "<Figure size 432x288 with 1 Axes>"
      ]
     },
     "metadata": {
      "needs_background": "light"
     },
     "output_type": "display_data"
    }
   ],
   "source": [
    "plt.plot((olg.K[0]/olg.L[0])[:100])"
   ]
  },
  {
   "cell_type": "code",
   "execution_count": 44,
   "metadata": {
    "pycharm": {
     "name": "#%%\n"
    }
   },
   "outputs": [
    {
     "data": {
      "text/plain": [
       "[<matplotlib.lines.Line2D at 0x7f798443ce80>]"
      ]
     },
     "execution_count": 44,
     "metadata": {},
     "output_type": "execute_result"
    },
    {
     "data": {
      "image/png": "[encoded data removed]",
      "text/plain": [
       "<Figure size 432x288 with 1 Axes>"
      ]
     },
     "metadata": {
      "needs_background": "light"
     },
     "output_type": "display_data"
    }
   ],
   "source": [
    "plt.plot(olg.a[0][100][:100])"
   ]
  },
  {
   "cell_type": "code",
   "execution_count": 45,
   "metadata": {
    "pycharm": {
     "name": "#%%\n"
    }
   },
   "outputs": [
    {
     "data": {
      "text/plain": [
       "[<matplotlib.lines.Line2D at 0x7f798458bc40>]"
      ]
     },
     "execution_count": 45,
     "metadata": {},
     "output_type": "execute_result"
    },
    {
     "data": {
      "image/png": "[encoded data removed]",
      "text/plain": [
       "<Figure size 432x288 with 1 Axes>"
      ]
     },
     "metadata": {
      "needs_background": "light"
     },
     "output_type": "display_data"
    }
   ],
   "source": [
    "plt.plot(olg.price_N)"
   ]
  },
  {
   "cell_type": "code",
   "execution_count": 54,
   "metadata": {},
   "outputs": [
    {
     "data": {
      "text/plain": [
       "1.2925927310610548e-05"
      ]
     },
     "execution_count": 54,
     "metadata": {},
     "output_type": "execute_result"
    }
   ],
   "source": [
    "olg.w[120]"
   ]
  },
  {
   "cell_type": "code",
   "execution_count": 49,
   "metadata": {
    "pycharm": {
     "name": "#%%\n"
    }
   },
   "outputs": [
    {
     "data": {
      "text/plain": [
       "[<matplotlib.lines.Line2D at 0x7f798419cb20>]"
      ]
     },
     "execution_count": 49,
     "metadata": {},
     "output_type": "execute_result"
    },
    {
     "data": {
      "image/png": "[encoded data removed]",
      "text/plain": [
       "<Figure size 432x288 with 1 Axes>"
      ]
     },
     "metadata": {
      "needs_background": "light"
     },
     "output_type": "display_data"
    }
   ],
   "source": [
    "plt.plot(olg.w[100])"
   ]
  }
 ],
 "metadata": {
  "kernelspec": {
   "display_name": "olg",
   "language": "python",
   "name": "olg"
  },
  "language_info": {
   "codemirror_mode": {
    "name": "ipython",
    "version": 3
   },
   "file_extension": ".py",
   "mimetype": "text/x-python",
   "name": "python",
   "nbconvert_exporter": "python",
   "pygments_lexer": "ipython3",
   "version": "3.8.10"
  }
 },
 "nbformat": 4,
 "nbformat_minor": 1
}
