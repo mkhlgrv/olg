{
 "cells": [
  {
   "cell_type": "code",
   "execution_count": 2,
   "metadata": {
    "pycharm": {
     "name": "#%%\n"
    }
   },
   "outputs": [],
   "source": [
    "import pandas as pd\n",
    "from scipy.optimize import fsolve\n",
    "import numpy as np\n",
    "import itertools\n",
    "import copy\n",
    "from cyipopt import minimize_ipopt\n",
    "import warnings\n",
    "import matplotlib.pyplot as plt\n",
    "from jax.config import config\n",
    "# Enable 64 bit floating point precision\n",
    "config.update(\"jax_enable_x64\", True)\n",
    "\n",
    "# We use the CPU instead of GPU und mute all warnings if no GPU/TPU is found.\n",
    "config.update('jax_platform_name', 'cpu')\n",
    "\n",
    "# import jax.numpy as np\n",
    "from jax import jit, grad, jacfwd, jacrev"
   ]
  },
  {
   "cell_type": "code",
   "execution_count": 3,
   "metadata": {
    "pycharm": {
     "name": "#%%\n"
    }
   },
   "outputs": [],
   "source": [
    "def counted(f):\n",
    "    def wrapped(*args, **kwargs):\n",
    "        wrapped.calls += 1\n",
    "        return f(*args, **kwargs)\n",
    "    wrapped.calls = 0\n",
    "    return wrapped"
   ]
  },
  {
   "cell_type": "markdown",
   "metadata": {
    "pycharm": {
     "name": "#%% md\n"
    }
   },
   "source": [
    "Проблемы: надо посчитать долю наследства\n",
    "Для мигрантов матрицу размера 10к? (Каждое новое поколение имеет другое богатство)"
   ]
  },
  {
   "cell_type": "code",
   "execution_count": 237,
   "metadata": {
    "pycharm": {
     "name": "#%%\n"
    }
   },
   "outputs": [],
   "source": [
    "# class OLG_model:\n",
    "#     def __init__(self, G,T,N,epsilon, rho, sigma,Pi,r,price_M, price_E, tau_I,tau_Ins, tau_pi, tau_VA, tau_rho, beta, phi , theta , psi, omega, alpha, delta, A,initial, eta,steady_max_iter,steady_guess):\n",
    "#         \"\"\"\n",
    "#         OLG model\n",
    "#         :param G: number of generations, default is 110\n",
    "#         :param T: simulation time, default is 500\n",
    "#         :param N_female: population (G+T-1, T) matrix where N[g,t] is cohort size of generation g in period t\n",
    "#         :param N_male: population (G+T-1, T) matrix where N[g,t] is cohort size of generation g in period t\n",
    "#         :param epsilon_female: female cohort- and year-specific productivity\n",
    "#         :param epsilon_male: male cohort- and year-specific productivity\n",
    "#         :param rho_female: female cohort- and year-specific retirement rate\n",
    "#         :param rho_male: male cohort- and year-specific retirement rate\n",
    "#         :param sigma: pension rate (pension point value) for T periods\n",
    "#         :param Pi_female: survival probability\n",
    "#         :param Pi_male: survival probability\n",
    "#         :param Beq_female_to_female,Beq_female_to_male,Beq_male_to_female,Beq_male_to_male: bequest matrix\n",
    "#         :param r: rate of return for T periods\n",
    "#         :param price_M: import prices for T periods\n",
    "#         :param price_E: export prices for T periods\n",
    "#         :param tau_I: income tax for T periods\n",
    "#         :param tau_Ins: insurance tax for T periods\n",
    "#         :param tau_pi: profit tax for T periods\n",
    "#         :param tau_VA: value-added tax for T periods\n",
    "#         :param tau_rho: retirement tax for T periods\n",
    "#         :param beta: elasticity of intertemporal substitution\n",
    "#         :param phi: elasticity of intertemporal substitution\n",
    "#         :param theta: ?\n",
    "#         :param psi: ? investment cost\n",
    "#         :param omega: import share\n",
    "#         :param alpha: elasticity of capital\n",
    "#         :param delta: deprecation rate\n",
    "#         :param A_N: total factor productivity, non-export good\n",
    "#         :param A_E: total factor productivity, export goods\n",
    "#         \"\"\"\n",
    "\n",
    "#         ## Exogenous variables and parameters\n",
    "#         # Demography\n",
    "#         self.G, self.T,self.N,self.epsilon,self.Pi = G, T,N,epsilon,Pi\n",
    "#         # Retirement\n",
    "#         self.rho,self.sigma = rho, sigma\n",
    "#         # Prices\n",
    "#         self.r, self.price_M, self.price_E, self.omega = r, price_M, price_E, omega\n",
    "#         # Taxation\n",
    "#         self.tau_I, self.tau_pi, self.tau_VA,self.tau_Ins, self.tau_rho =  tau_I, tau_pi,tau_VA,tau_Ins, tau_rho\n",
    "#         # Utility\n",
    "#         self.beta, self.phi, self.theta  = beta, phi, theta\n",
    "#         # Production\n",
    "#         self.psi, self.alpha, self.delta, self.A = psi, alpha, delta, A\n",
    "\n",
    "#         self.a_initial = initial[\"a\"]\n",
    "\n",
    "\n",
    "\n",
    "#         self.eta = eta\n",
    "#         self.steady_max_iter = steady_max_iter\n",
    "\n",
    "#         # Endogenous variable\n",
    "#         # Initial guess\n",
    "#         self.price_N = np.array([initial[\"price_N\"] for _ in range(max_time)])\n",
    "#         self.K = np.array([[initial[\"K_N\"] for _ in range(max_time)], [initial[\"K_E\"] for _ in range(max_time)]])\n",
    "#         self.L = np.array([[initial[\"L_N\"] for _ in range(max_time)], [initial[\"L_E\"] for _ in range(max_time)]])\n",
    "#         self.I = np.array([[initial[\"I_N\"] for _ in range(max_time)], [initial[\"I_E\"] for _ in range(max_time)]])\n",
    "#         self.Gov = np.array([initial[\"Gov\"] for _ in range(max_time)])\n",
    "\n",
    "#         self.lmbda = np.array([[0.5 for _ in range(max_time)] for _ in range(2)])\n",
    "\n",
    "#         self.w = ((self.price_N *(1-self.alpha)*(self.K[0])**self.alpha *(self.A[0])**(1-self.alpha)*(self.L[0])**(-self.alpha))+\n",
    "#         (self.price_E *(1-self.alpha)*(self.K[1])**self.alpha *(self.A[1])**(1-self.alpha)*(self.L[1])**(-self.alpha)))/2\n",
    "\n",
    "#         self.price = (self.price_M)**self.omega * (self.price_N)**(1-self.omega)\n",
    "\n",
    "\n",
    "#         self.Y = self.K**self.alpha * (self.L*self.A)**(1-self.alpha)\n",
    "\n",
    "\n",
    "#         self.D = self.Y[0]/(1-self.omega)* self.price_N/self.price + self.Gov\n",
    "\n",
    "#         self.M = self.omega * self.D * self.price / self.price_M\n",
    "\n",
    "\n",
    "\n",
    "#         self.c =  np.array([[[0.002 if ((g >= t) and (g<=self.G+t-1)) else 0 for t in range(max_time)] for g in range(max_time)] for _ in range(2)])\n",
    "#         self.a = np.array([[[0.01 if ((g >= t) and (g<=self.G+t-1)) else 0 for t in range(max_time)] for g in range(max_time)] for _ in range(2)])\n",
    "#         self.gamma = np.array([[[0.9 if ((g >= t) and (g<=self.G+t-1)) else 0 for t in range(max_time)] for g in range(max_time)] for _ in range(2)])\n",
    "#         self.l = np.array([[[0.4 if ((g >= t) and (g<=self.G+t-1)) else 0 for t in range(max_time)] for g in range(max_time)] for _ in range(2)])\n",
    "\n",
    "#         Consumption = np.array([np.sum([self.c[s,g,t]*self.N[s,g,t] for g in range(max_time) for s in range(2)]) for t in range(max_time)])\n",
    "#         self.Consumption = Consumption\n",
    "\n",
    "#         Labor = np.array([np.sum([self.l[s,g,self.T]*self.N[s,g,self.T]*self.epsilon[s,g,self.T] for g in range(max_time) for s in range(2)]) for t in range(max_time)])\n",
    "#         self.Labor = Labor\n",
    "\n",
    "#         Assets =  np.array([np.sum([self.a[s,g,t]*self.N[s,g,t] for g in range(max_time) for s in range(2)]) for t in range(max_time)])\n",
    "#         self.Assets = Assets\n",
    "\n",
    "\n",
    "#         self.steady = np.array(list(steady_guess) + [Consumption[self.T], Labor[self.T], Assets[self.T]])\n",
    "#         self.steady_path = []\n",
    "\n",
    "#         self.steady_error = [0,0]\n",
    "#         self.steady_eta = [0.1, 0.1]\n",
    "\n",
    "\n",
    "\n",
    "#     def household(self, s, g, t):\n",
    "#         def labor_income_vector(self, s, g, start, end):\n",
    "#             return (1-self.tau_I[start:end]) * (1-(self.tau_rho[start:end] + self.tau_Ins[start:end])/(1+self.tau_rho[start:end] + self.tau_Ins[start:end])) * self.epsilon[s,g,start:end] * self.w[start:end]\n",
    "#         def cumulative_rate_of_return(self,start, end):\n",
    "#             if start <= end:\n",
    "#                 return np.prod(1+self.r[start:end]*(1-self.tau_I[start:end]))\n",
    "#             else:\n",
    "#                 return 1\n",
    "\n",
    "#         def get_initial_consumption(self, s, g, t_0):\n",
    "#             return self.phi * (self.a_initial[s,g] * cumulative_rate_of_return(self, t_0, g+1)+\n",
    "#                                np.sum(np.array([cumulative_rate_of_return(self,start, g+1) for start in range(t_0+1, g+2)])*\n",
    "#                                       (labor_income_vector(self, s, g, t_0, g+1)+self.rho[s,g,t_0:(g+1)]*self.sigma[t_0:(g+1)]\n",
    "#                                        )))/\\\n",
    "#                    np.sum(\n",
    "#                        np.array([cumulative_rate_of_return(self,start, g+1) for start in range(t_0+1, g+2)])*\n",
    "#                        (1+self.tau_VA[t_0:(g+1)])*(self.price[t_0:(g+1)])*\n",
    "#                        (\n",
    "#                                np.array([cumulative_rate_of_return(self,t_0+1, end) for end in range(t_0+1, g+2)])*\n",
    "#                                self.beta**np.array([i-t_0 for i in range(t_0, g+1)])*self.Pi[s,g,t_0:(g+1)]/self.Pi[s,g,t_0] * (1+self.tau_VA[t_0])*(self.price[t_0])/((1+self.tau_VA[t_0:(g+1)])*(self.price[t_0:(g+1)])) *\n",
    "#                                ((1+self.tau_VA[t_0:(g+1)])*(self.price[t_0:(g+1)])/((1+self.tau_VA[t_0])*self.price[t_0])*labor_income_vector(self, s, g,t_0, t_0+1)/labor_income_vector(self, s, g,t_0, g+1)\n",
    "#                                 )**((1-self.phi)*(1-self.theta)))**(1/self.theta)\n",
    "#                    )\n",
    "#         t_0 = max(g-self.G+1,0)\n",
    "#         bequest = 0\n",
    "#         if t==t_0:\n",
    "#             consumption = get_initial_consumption(self, s, g, t_0)\n",
    "#         elif t_0 < t <= g:\n",
    "#             consumption = self.c[s, g, t_0]*\\\n",
    "#                           (cumulative_rate_of_return(self, t_0+1, t+1)*\n",
    "#                            self.beta**(t-t_0)*self.Pi[s,g,t]/self.Pi[s,g,t_0] * (1+self.tau_VA[t_0])*self.price[t_0]/((1+self.tau_VA[t])*self.price[t]) *\n",
    "#                            ((1+self.tau_VA[t])*self.price[t]/((1+self.tau_VA[t_0])*self.price[t_0])*labor_income_vector(self, s, g,t_0, t_0+1)/labor_income_vector(self, s, g,t, t+1))**((1-self.phi)*(1-self.theta))\n",
    "#                            )**(1/self.theta)\n",
    "\n",
    "\n",
    "#         labor = 1- consumption/(self.phi/(1-self.phi)*(1/((1+self.tau_VA[t])*self.price[t]))*labor_income_vector(self, s, g, t, t+1)[0])\n",
    "#         if t == 0:\n",
    "#             assets = labor_income_vector(self, s, g, t, t+1)[0]*labor+self.rho[s,g,t]*self.sigma[t] - consumption*(1+self.tau_VA[t])*self.price[t]+self.a_initial[s,g]*(1+self.r[t]*(1-self.tau_I[t]))\n",
    "#         else:\n",
    "#             assets = labor_income_vector(self, s, g, t, t+1)[0]*labor+self.rho[s,g,t]*self.sigma[t] - consumption*(1+self.tau_VA[t])*self.price[t]+(self.a[s,g, t-1]+bequest)*(1+self.r[t]*(1-self.tau_I[t]))\n",
    "#         return consumption, labor, assets\n",
    "\n",
    "#     @counted\n",
    "#     def steady_state(self):\n",
    "#         def labor_income_vector(self, s, g, start, end):\n",
    "#             return (1-self.tau_I[start:end]) * (1-(self.tau_rho[start:end] + self.tau_Ins[start:end])/(1+self.tau_rho[start:end] + self.tau_Ins[start:end])) * self.epsilon[s,g,start:end] * self.w[start:end]\n",
    "#         A_growth = self.A[0,self.T]/self.A[0, self.T-1]\n",
    "#         N_growth = np.sum([self.N[s,g,self.T]*self.epsilon[s,g,self.T] for g in range(self.T, self.G+self.T) for s in range(2)])/\\\n",
    "#                    np.sum([self.N[s,g,self.T-1]*self.epsilon[s,g,self.T-1] for g in range(self.T-1, self.G+self.T-1) for s in range(2)])\n",
    "\n",
    "#         w_steady, price_steady, price_N_steady = self.steady[7:10]\n",
    "\n",
    "#         for t in range(self.T-self.G + 1, max_time):\n",
    "#             self.w[t] = w_steady* A_growth**(t - self.T)\n",
    "#             self.price[t] = price_steady\n",
    "#             self.price_N[t] = price_N_steady\n",
    "\n",
    "#         for s in range(2):\n",
    "#             initial_household = self.household(s, self.G+self.T-1, self.T) # первое родившееся поколение в период self.T\n",
    "#             self.c[s, self.G+self.T-1, self.T],self.l[s, self.G+self.T-1,self.T],self.a[s, self.G+self.T-1,self.T] = initial_household\n",
    "#             for t in range(self.T,self.G+self.T):\n",
    "#                 self.c[s, self.G+self.T-1, t],self.l[s, self.G+self.T-1,t],self.a[s, self.G+self.T-1,t] = self.household(s, self.G+self.T-1, t)\n",
    "#             for g in range(self.G+self.T-2, self.T-1, -1): # все поколения, живущие в периоде self.T\n",
    "\n",
    "#                 self.c[s, g, g-self.G + 1]  = initial_household[0] * A_growth**(self.G+self.T-1 - g)\n",
    "#                 self.l[s, g, g-self.G + 1]  = initial_household[1]\n",
    "#                 self.a[s, g,g-self.G + 1]  = labor_income_vector(self, s, g,g-self.G + 1, g-self.G + 2)[0]*self.l[s, g, g-self.G + 1]+self.rho[s,g,g-self.G + 1]*self.sigma[g-self.G + 1] - self.c[s, g, g-self.G + 1]*(1+self.tau_VA[g-self.G + 1])*self.price[g-self.G + 1]\n",
    "#                 for t in range(g-self.G + 2, g+1):\n",
    "#                     self.c[s, g, t],self.l[s, g, t],self.a[s, g, t] =  self.household(s, g, t)\n",
    "#         Consumption = np.sum([self.c[s,g,self.T]*self.N[s,g,self.T] for g in range(self.T, self.G+self.T) for s in range(2)])\n",
    "\n",
    "#         Labor = np.sum([self.l[s,g,self.T]*self.N[s,g,self.T]*self.epsilon[s,g,self.T] for g in range(self.T, self.G+self.T) for s in range(2)])\n",
    "\n",
    "#         Assets =  np.sum([self.a[s,g,self.T]*self.N[s,g,self.T] for g in range(self.T, self.G+self.T) for s in range(2)])\n",
    "\n",
    "#         if len(self.steady_path)==0:\n",
    "#             self.steady[10:13] = np.array([Consumption,  Labor, Assets])\n",
    "#         else:\n",
    "#             self.steady[10:13] = self.eta*np.array([Consumption,  Labor, Assets]) + (1-self.eta)*self.steady[10:13]\n",
    "# #         self.steady[10:13] = np.array([Consumption,  Labor, Assets])\n",
    "\n",
    "#         z_guess = self.steady[:10]\n",
    "        \n",
    "#         def equilibrium(z, self=self, objective = True):\n",
    "\n",
    "#             A_growth = self.A[0,self.T]/self.A[0, self.T-1]\n",
    "#             N_growth = np.sum([self.N[s,g,self.T]*self.epsilon[s,g,self.T] for g in range(self.T, self.G+self.T) for s in range(2)])/\\\n",
    "#                        np.sum([self.N[s,g,self.T-1]*self.epsilon[s,g,self.T-1] for g in range(self.T-1, self.G+self.T-1) for s in range(2)])\n",
    "\n",
    "\n",
    "#             system = [f\"{1-self.alpha}*price_N_steady * (K_N_steady)**{self.alpha} *{(self.A[0,self.T])**(1-self.alpha)}*  (L_N_steady)**({-self.alpha}) - w_steady\",\n",
    "#                       f\"price_steady - lmbda_steady *(1 - {self.psi/2} * ({A_growth*N_growth} -1)**2 - {self.psi}*{A_growth*N_growth} * ({A_growth*N_growth -1}))-{self.psi/(1+self.r[self.T+1])}*lmbda_steady  * ({A_growth*N_growth} -1)* ({A_growth*N_growth})**2\",\n",
    "#                       f\"{1/(1+self.r[self.T+1])}*(({1-self.tau_pi[self.T+1]}) *{self.alpha}*price_N_steady* (K_N_steady)**{self.alpha-1} * ({self.A[0,self.T]} *L_N_steady)**{1-self.alpha}+{self.tau_pi[self.T+1]} * {self.delta} * price_steady + lmbda_steady * ({1-self.delta})) - lmbda_steady\",\n",
    "#                       f\"({1-self.delta})* K_N_steady + I_N_steady*(1-{self.psi/2}*({A_growth*N_growth} -1)**2) - K_N_steady*{A_growth*N_growth}\",\n",
    "#                       f\"{1-self.alpha}*{self.price_E[self.T]} * (K_E_steady)**{self.alpha} *{(self.A[0,self.T])**(1-self.alpha)}*  (L_E_steady)**({-self.alpha}) - w_steady\",\n",
    "#                       f\"{1/(1+self.r[self.T+1])}*(({1-self.tau_pi[self.T+1]}) *{self.alpha}* {self.price_E[self.T+1]}* (K_E_steady)**{self.alpha-1} * ({self.A[1,self.T]} *L_E_steady)**{1-self.alpha}+{self.tau_pi[self.T+1]} * {self.delta} * price_steady + lmbda_steady * ({1-self.delta})) - lmbda_steady\",\n",
    "#                       f\"({1-self.delta})* K_E_steady + I_E_steady*(1-{self.psi/2}*({A_growth*N_growth} -1)**2) - K_E_steady*{A_growth*N_growth}\"\n",
    "#                       , f\"L_N_steady+L_E_steady - {self.steady[11]}\"\n",
    "#                       ,f\"price_N_steady*(K_N_steady**{self.alpha} * ({self.A[0, self.T]}*L_N_steady)**({1-self.alpha}) -{self.Gov[self.T]})- (1-{self.omega}) * price_steady * ({self.steady[10]}+I_N_steady+I_E_steady)\"\n",
    "#                       ,f\"price_steady - {self.price_M[self.T]**self.omega}*price_N_steady**({1-self.omega})\"\n",
    "#                       ]\n",
    "#             name_space = {label:value for label, value in zip((\"self\",\"I_N_steady\", \"K_N_steady\", \"L_N_steady\", \"I_E_steady\", \"K_E_steady\", \"L_E_steady\",\"lmbda_steady\", \"w_steady\", \"price_steady\", \"price_N_steady\"),[self]+list(z))}\n",
    "\n",
    "#             if objective:\n",
    "#                 sum_of_squares = \"+\".join([f\"({equation})**2\" for equation in system])\n",
    "#                 F = eval(sum_of_squares,{},name_space)\n",
    "#             else:\n",
    "#                 F = [eval(equation,{},name_space) for equation in system]\n",
    "#             return F\n",
    "#         def equilibrium_gradient(z, self=self, objective = True):\n",
    "\n",
    "#             A_growth = self.A[0,self.T]/self.A[0, self.T-1]\n",
    "#             N_growth = np.sum([self.N[s,g,self.T]*self.epsilon[s,g,self.T] for g in range(self.T, self.G+self.T) for s in range(2)])/\\\n",
    "#                        np.sum([self.N[s,g,self.T-1]*self.epsilon[s,g,self.T-1] for g in range(self.T-1, self.G+self.T-1) for s in range(2)])\n",
    "\n",
    "#             gradient = [\n",
    "#                 # \"I_N_steady\"\n",
    "#                 [\"0\",\n",
    "#                          \"0\",\n",
    "#                          \"0\",\n",
    "#                          f\"(1-{self.psi/2}*({A_growth*N_growth} -1)**2)\",\n",
    "#                          \"0\",\n",
    "#                          \"0\"\n",
    "#                          ,\"0\"\n",
    "#                          ,\"0\"\n",
    "#                          ,f\"({1-self.omega}) * price_steady\"\n",
    "#                          ,\"0\"\n",
    "#                 ],\n",
    "#                         # \"K_N_steady\"\n",
    "#                         [f\"{1-self.alpha}*{self.alpha}*price_N_steady * K_N_steady**{self.alpha-1} *{(self.A[0,self.T])**(1-self.alpha)}* L_N_steady**{-self.alpha}\",\n",
    "#                          \"0\",\n",
    "#                          f\"{1/(1+self.r[self.T+1])}*({1-self.tau_pi[self.T+1]} *{self.alpha}*{self.alpha-1}* price_N_steady* (K_N_steady)**{self.alpha-2} * ({self.A[0,self.T]} *L_N_steady)**{1-self.alpha})\",\n",
    "#                          f\"{1-self.delta} - {A_growth*N_growth}\",\n",
    "#                          \"0\",\n",
    "#                          \"0\",\n",
    "#                          \"0\"\n",
    "#                          ,\"0\"\n",
    "#                          ,f\"price_N_steady*{self.alpha}*K_N_steady**{self.alpha-1} * ({self.A[0, self.T]}*L_N_steady)**{1-self.alpha}\"\n",
    "#                          ,\"0\"\n",
    "#                         ],\n",
    "#                         # \"L_N_steady\"\n",
    "#                         [\n",
    "#                             f\"price_N_steady *{1-self.alpha} * (K_N_steady)**{self.alpha} *{(self.A[0,self.T])**(1-self.alpha)}*{-self.alpha} *(L_N_steady)**{-self.alpha-1}\",\n",
    "#                             \"0\",\n",
    "#                             f\"\"\"{1/(1+self.r[self.T+1])}*{1-self.tau_pi[self.T+1]} *{self.alpha}* price_N_steady*(K_N_steady)**{self.alpha-1} *({self.A[0,self.T]})**{1-self.alpha} *{1-self.alpha}*L_N_steady**{-self.alpha}\"\"\",\n",
    "#                             \"0\",\n",
    "#                             \"0\",\n",
    "#                             \"0\",\n",
    "#                             \"0\"\n",
    "#                             ,\"1\"\n",
    "#                             ,f\"price_N_steady*K_N_steady**{self.alpha} * ({self.A[0, self.T]})**{1-self.alpha}*{1-self.alpha}*L_N_steady**{-self.alpha}\"\n",
    "#                             ,\"0\"\n",
    "#                         ],\n",
    "#                         # I_E_steady\n",
    "#                         [\"0\",\n",
    "#                          \"0\",\n",
    "#                          \"0\",\n",
    "#                          \"0\",\n",
    "#                          \"0\",\n",
    "#                          \"0\",\n",
    "#                          f\"(1-{self.psi/2}*({A_growth*N_growth} -1)**2)\"\n",
    "#                          ,\"0\"\n",
    "#                          ,f\"({1-self.omega}) * price_steady\"\n",
    "#                          ,\"0\"\n",
    "#                         ],\n",
    "#                         # K_E_steady\n",
    "#                         [\"0\",\n",
    "#                          \"0\",\n",
    "#                          \"0\",\n",
    "#                          \"0\",\n",
    "#                          f\"{1-self.alpha}*{self.alpha}*{self.price_E[self.T]} * K_E_steady**{self.alpha-1} *{(self.A[1,self.T])**(1-self.alpha)}* L_E_steady**{-self.alpha}\",\n",
    "#                          f\"{1/(1+self.r[self.T+1])}*({1-self.tau_pi[self.T+1]} *{self.alpha}*{self.alpha-1}* {self.price_E[self.T]}* (K_E_steady)**{self.alpha-2} * ({self.A[1,self.T]} *L_E_steady)**{1-self.alpha})\",\n",
    "#                          f\"{1-self.delta} - {A_growth*N_growth}\"\n",
    "#                          ,\"0\"\n",
    "#                          ,\"0\"\n",
    "#                          ,\"0\"\n",
    "#                         ],\n",
    "#                         # L_E_steady\n",
    "#                         [\"0\",\n",
    "#                          \"0\",\n",
    "#                          \"0\",\n",
    "#                          \"0\",\n",
    "#                         f\"{self.price_E[self.T]} *{1-self.alpha} * (K_E_steady)**{self.alpha} *{(self.A[1,self.T])**(1-self.alpha)}*{-self.alpha} *(L_E_steady)**{-self.alpha-1}\",\n",
    "#                         f\"\"\"{1/(1+self.r[self.T+1])}*{1-self.tau_pi[self.T+1]} *{self.alpha}* {self.price_E[self.T]}*(K_E_steady)**{self.alpha-1} *({self.A[1,self.T]})**{1-self.alpha} *{1-self.alpha}*L_E_steady**{-self.alpha}\"\"\",\n",
    "#                         \"0\"\n",
    "#                         ,\"1\"\n",
    "#                         ,\"0\"\n",
    "#                         ,\"0\"\n",
    "#                         ],\n",
    "#                         # lmbda_steady\n",
    "#                         [\"0\",\n",
    "#                          f\"-(1 - {self.psi/2} * ({A_growth*N_growth} -1)**2 - {self.psi}*{A_growth*N_growth} * ({A_growth*N_growth} -1))-{self.psi/(1+self.r[self.T+1])}* ({A_growth*N_growth} -1)* {A_growth*N_growth}**2\",\n",
    "#                          f\"{1/(1+self.r[self.T+1])}*{1-self.delta} - 1\",\n",
    "#                          \"0\",\n",
    "#                          \"0\",\n",
    "#                          f\"{1/(1+self.r[self.T+1])}*{1-self.delta} - 1\",\n",
    "#                          \"0\"\n",
    "#                          ,\"0\"\n",
    "#                          ,\"0\"\n",
    "#                          ,\"0\"\n",
    "#                         ],\n",
    "#                         # w_steady\n",
    "#                         [\"-1\",\n",
    "#                          \"0\",\n",
    "#                          \"0\",\n",
    "#                          \"0\",\n",
    "#                          \"-1\",\n",
    "#                          \"0\",\n",
    "#                          \"0\"\n",
    "#                          ,\"0\"\n",
    "#                          ,\"0\"\n",
    "#                          ,\"0\"\n",
    "#                         ],\n",
    "#                         # price_steady\n",
    "#                         [\"0\",\n",
    "#                          \"1\",\n",
    "#                          f\"{1/(1+self.r[self.T+1])}*{self.tau_pi[self.T+1]} * {self.delta}\",\n",
    "#                          \"0\",\n",
    "#                          \"0\",\n",
    "#                          f\"{1/(1+self.r[self.T+1])}*{self.tau_pi[self.T+1]} * {self.delta}\",\n",
    "#                          \"0\"\n",
    "#                          ,\"0\"\n",
    "#                          ,f\"-(1-{self.omega}) * ({self.steady[10]}+I_N_steady+I_E_steady)\"\n",
    "#                          ,\"1\"\n",
    "#                          ],\n",
    "#                         # price_N_steady\n",
    "#                         [f\"{1-self.alpha}*(K_N_steady)**{self.alpha} *{(self.A[0,self.T])**(1-self.alpha)}*  (L_N_steady)**({-self.alpha})\",\n",
    "#                          \"0\",\n",
    "#                          f\"{1/(1+self.r[self.T+1])}*({1-self.tau_pi[self.T+1]}) *{self.alpha}* (K_N_steady)**{self.alpha-1} * ({self.A[0,self.T]} *L_N_steady)**{1-self.alpha}\",\n",
    "#                          \"0\",\n",
    "#                          \"0\",\n",
    "#                          \"0\",\n",
    "#                          \"0\"\n",
    "#                          ,\"0\"\n",
    "#                          ,f\"K_N_steady**{self.alpha} * ({self.A[0, self.T]}*L_N_steady)**({1-self.alpha}) -{self.Gov[self.T]}\"\n",
    "#                          ,f\"- {self.price_M[self.T]**self.omega}*{1-self.omega}*price_N_steady**({-self.omega})\"\n",
    "#                          ]]\n",
    "#             name_space = {label:value for label, value in zip((\"self\",\"I_N_steady\", \"K_N_steady\", \"L_N_steady\",\"I_E_steady\", \"K_E_steady\", \"L_E_steady\", \"lmbda_steady\", \"w_steady\", \"price_steady\", \"price_N_steady\"),[self]+list(z))}\n",
    "#             if objective:\n",
    "#                 target_system = equilibrium(z, self, False)\n",
    "#                 sum_of_gradient = [\"+\".join([f\"2*({outer})*({inner})\" for outer, inner in zip(target_system, row)]) for row in gradient]\n",
    "#                 J = [eval(equation,{},name_space) for equation in sum_of_gradient]\n",
    "#             else:\n",
    "#                 J = [[eval(equation,{},name_space) for equation in row] for row in gradient]\n",
    "#             return J\n",
    "            \n",
    "# #         obj_jit = jit(equilibrium)\n",
    "# #         obj_grad = equilibrium_gradient\n",
    "# #         obj_hess = jit(jacrev(jacfwd(obj_jit)))\n",
    "#         def eq_constraints(z, self=self, objective = True):\n",
    "\n",
    "#             A_growth = self.A[0,self.T]/self.A[0, self.T-1]\n",
    "#             N_growth = np.sum([self.N[s,g,self.T]*self.epsilon[s,g,self.T] for g in range(self.T, self.G+self.T) for s in range(2)])/\\\n",
    "#                        np.sum([self.N[s,g,self.T-1]*self.epsilon[s,g,self.T-1] for g in range(self.T-1, self.G+self.T-1) for s in range(2)])\n",
    "\n",
    "\n",
    "#             system = [\n",
    "#                       f\"price_steady - {self.price_M[self.T]**self.omega}*price_N_steady**({1-self.omega})\"\n",
    "# #                       ,f\"L_N_steady+L_E_steady - {self.steady[11]}\"\n",
    "# #                       ,f\"price_N_steady*(K_N_steady**{self.alpha} * ({self.A[0, self.T]}*L_N_steady)**({1-self.alpha}) -{self.Gov[self.T]})- (1-{self.omega}) * price_steady * ({self.steady[10]}+I_N_steady+I_E_steady)\"\n",
    "#                       ]\n",
    "#             name_space = {label:value for label, value in zip((\"self\",\"I_N_steady\", \"K_N_steady\", \"L_N_steady\", \"I_E_steady\", \"K_E_steady\", \"L_E_steady\",\"lmbda_steady\", \"w_steady\", \"price_steady\", \"price_N_steady\"),[self]+list(z))}\n",
    "\n",
    "#             if objective:\n",
    "#                 sum_of_squares = \"+\".join([f\"({equation})**2\" for equation in system])\n",
    "#                 F = eval(sum_of_squares,{},name_space)\n",
    "#             else:\n",
    "#                 F = [eval(equation,{},name_space) for equation in system]\n",
    "#             return F\n",
    "        \n",
    "#         obj_jit = jit(equilibrium)\n",
    "# #         con_eq_jit = jit(eq_constraints)\n",
    "\n",
    "#         # build the derivatives and jit them\n",
    "#         obj_grad = equilibrium_gradient  # objective gradient\n",
    "#         obj_hess = jit(jacrev(jacfwd(obj_jit)))# objective hessian\n",
    "        \n",
    "# #         con_eq_jac = jit(jacfwd(con_eq_jit))  # jacobian\n",
    "# #         con_eq_hess = jacrev(jacfwd(con_eq_jit)) # hessian\n",
    "# #         con_eq_hessvp = jit(lambda x, v: con_eq_hess(x) * v[0]) # hessian vector-product\n",
    "# #         cons = [\n",
    "# #             {'type': 'eq', 'fun': con_eq_jit, 'jac': con_eq_jac, 'hess': con_eq_hessvp}\n",
    "# #          ]\n",
    "        \n",
    "#         result = minimize_ipopt(obj_jit, jac=obj_grad, hess=obj_hess, x0=z_guess\n",
    "#                                 , options = {\"max_iter\":self.steady_max_iter, \"print_level\":0,\n",
    "#                                              \"check_derivatives_for_naninf\":\"yes\"}\n",
    "# #                                , constraints = cons\n",
    "#                                 , tol=1e-7)\n",
    "        \n",
    "        \n",
    "#         if result[\"success\"]:\n",
    "#             self.steady[:10] = self.eta*result[\"x\"] + (1-self.eta)*z_guess\n",
    "#             self.steady_max_iter = 1000\n",
    "#             eq_res = equilibrium(self.steady[:10], self, False)\n",
    "#         else:\n",
    "#             if result[\"status\"]==-1:\n",
    "#                 self.steady_max_iter += 1000\n",
    "#             self.steady[:10] = z_guess\n",
    "#             eq_res = equilibrium(z_guess, self, False)\n",
    "            \n",
    "# #             labor market\n",
    "#             if abs(eq_res[7])>10:\n",
    "#                 sign = np.sign(eq_res[7]) \n",
    "#                 if np.sign(self.steady_error[0]) != sign:\n",
    "#                     self.steady_eta[0] = self.steady_eta[0] / 2\n",
    "#                 self.steady[7] = (1+self.steady_eta[0])**(sign)*z_guess[7]\n",
    "            \n",
    "# #             goods market\n",
    "# #             if abs(eq_res[8])>10:\n",
    "# #                 sign = np.sign(eq_res[8]) \n",
    "# #                 if np.sign(self.steady_error[1]) != sign:\n",
    "# #                     self.steady_eta[1] = self.steady_eta[1] / 2\n",
    "# #                 self.steady[8] = (1+self.steady_eta[1]*2)**(-sign)*z_guess[8]\n",
    "        \n",
    "#         self.steady_error = eq_res[7], eq_res[8]\n",
    "                \n",
    "#         self.steady_path.append((result, np.array(self.steady)\n",
    "#                                  ,np.array(self.steady_error)\n",
    "#                                  ,np.array(self.steady_eta)\n",
    "#                                ))\n",
    "\n",
    "#     def create_guess(self):\n",
    "\n",
    "#         A_growth = self.A[0,self.T]/self.A[0, self.T-1]\n",
    "#         N_growth = np.sum([self.N[s,g,self.T]*self.epsilon[s,g,self.T] for g in range(self.T, self.G+self.T) for s in range(2)])/\\\n",
    "#                    np.sum([self.N[s,g,self.T-1]*self.epsilon[s,g,self.T-1] for g in range(self.T-1, self.G+self.T-1) for s in range(2)])\n",
    "\n",
    "#         I_N_steady, K_N_steady, L_N_steady,I_E_steady, K_E_steady, L_E_steady, lmbda_steady, w_steady, price_steady, price_N_steady = self.steady[:10]\n",
    "\n",
    "#         for t in range(self.T-self.G + 1, max_time):\n",
    "#             self.w[t] = w_steady* A_growth**(t - self.T)\n",
    "#             self.price[t] = price_steady\n",
    "#             self.price_N[t] = price_N_steady\n",
    "\n",
    "#             self.I[0,t] = I_N_steady*(A_growth*N_growth)**(t - self.T)\n",
    "#             self.K[0,t] = K_N_steady*(A_growth*N_growth)**(t - self.T)\n",
    "#             self.L[0,t] = L_N_steady*(N_growth)**(t - self.T)\n",
    "#             self.lmbda[0,t] = lmbda_steady\n",
    "\n",
    "#             self.I[1,t] = I_E_steady*(A_growth*N_growth)**(t - self.T)\n",
    "#             self.K[1,t] = K_E_steady*(A_growth*N_growth)**(t - self.T)\n",
    "#             self.L[1,t] = L_E_steady*(N_growth)**(t - self.T)\n",
    "#             self.lmbda[1,t] = lmbda_steady\n",
    "\n",
    "#         steady_start = self.T-self.G + 1\n",
    "#         self.price_N[:steady_start] = np.linspace(initial[\"price_N\"], self.price_N[steady_start], steady_start,endpoint=False)\n",
    "#         self.I[0,:steady_start] = np.linspace(initial[\"I_N\"], self.I[0,steady_start], steady_start,endpoint=False)\n",
    "#         self.K[0,:steady_start] = np.linspace(initial[\"K_N\"], self.K[0,steady_start], steady_start,endpoint=False)\n",
    "#         self.L[0,:steady_start] = np.linspace(initial[\"L_N\"], self.L[0,steady_start], steady_start,endpoint=False)\n",
    "#         # self.lmbda[0,:steady_start] = np.linspace(initial[\"price_N\"], self.lmbda[0,steady_start], steady_start,endpoint=False)\n",
    "\n",
    "#         self.I[1,:steady_start] = np.linspace(initial[\"I_E\"], self.I[1,steady_start], steady_start,endpoint=False)\n",
    "#         self.K[1,:steady_start] = np.linspace(initial[\"K_E\"], self.K[1,steady_start], steady_start,endpoint=False)\n",
    "#         self.L[1,:steady_start] = np.linspace(initial[\"L_E\"], self.L[1,steady_start], steady_start,endpoint=False)\n",
    "#         # self.lmbda[1,:steady_start] = np.linspace(initial[\"price_N\"], self.lmbda[1,steady_start], steady_start,endpoint=False)\n",
    "\n",
    "\n",
    "#         self.w[:steady_start] = ((self.price_N[:steady_start] *(1-self.alpha)*(self.K[0,:steady_start])**self.alpha *(self.A[0,:steady_start])**(1-self.alpha)*(self.L[0,:steady_start])**(-self.alpha))+\n",
    "#               (self.price_E[:steady_start] *(1-self.alpha)*(self.K[1,:steady_start])**self.alpha *(self.A[1,:steady_start])**(1-self.alpha)*(self.L[1,:steady_start])**(-self.alpha)))/2\n",
    "\n",
    "#         self.price[:steady_start] = (self.price_M[:steady_start])**self.omega * (self.price_N[:steady_start])**(1-self.omega)\n",
    "\n",
    "#     def update_guess(self):\n",
    "\n",
    "#         ## Endogenous variables\n",
    "\n",
    "#         def labor_demand_euler(params, S,  t):\n",
    "#             if S == 1: # export\n",
    "#                 sectoral_price = params.price_E[t]\n",
    "#             elif S==0: # non-export\n",
    "#                 sectoral_price = f\"self.price_N[{t}]\"\n",
    "#             return f\"({1-params.alpha})* {sectoral_price} * ({params.K[S,t]})**{params.alpha} *{(params.A[S,t])**(1-params.alpha)}*  (self.L[{S},{t}])**({-params.alpha}) - self.w[{t}]\"\n",
    "\n",
    "\n",
    "#         def investment_euler(params, S, t):\n",
    "#             return f\"self.price[{t}] - self.lmbda[{S},{t}] *(1 - {params.psi/2} * (self.I[{S},{t}]/{params.I[S,t-1]} -1)**2 - {params.psi}*self.I[{S},{t}]/{params.I[S,t-1]} * (self.I[{S},{t}]/{params.I[S,t-1]} -1))-{params.psi/(1+params.r[t+1])}*{params.lmbda[S,t+1]}  * ({params.I[S,t+1]}/self.I[{S},{t}] -1)* ({params.I[S,t+1]}/self.I[{S},{t}])**2\"\n",
    "\n",
    "\n",
    "#         def capital_euler(params, S, t):\n",
    "#             if S == 1: # export\n",
    "#                 sectoral_price = params.price_E[t+1]\n",
    "#             elif S==0: # non-export\n",
    "#                 sectoral_price = params.price_N[t+1]\n",
    "#             return f\"{1/(1+params.r[t+1])}*(({1-params.tau_pi[t+1]}) *{params.alpha}* {sectoral_price}* (self.K[{S},{t+1}])**{params.alpha-1} * ({params.A[S,t+1]} *{params.L[S,t+1]})**{1-params.alpha}+{params.tau_pi[t+1]} * {params.delta} * {params.price[t+1]} + {params.lmbda[S,t+1]} * ({1-params.delta})) - self.lmbda[{S},{t}]\"\n",
    "\n",
    "\n",
    "#         def capital_accomodation(params, S, t):\n",
    "#             return f\" ({1-params.delta})* {params.K[S,t]} + self.I[{S},{t}]*(1-{params.psi/2}*(self.I[{S},{t}]/{params.I[S,t-1] -1})**2) - self.K[{S},{t+1}]\"\n",
    "\n",
    "#         def labor_market_clearing(params, t):\n",
    "#             L = np.sum([params.l[s,g,t]*params.N[s,g,t]*params.epsilon[s,g,t] for g in range(t, params.G+t) for s in range(2)])\n",
    "#             return f\"self.L[0,{t}]+self.L[1,{t}] - {L}\"\n",
    "\n",
    "#         def goods_market_clearing(params, t):\n",
    "#             C = np.sum([params.c[s,g,t]*params.N[s,g,t] for g in range(t, params.G+t) for s in range(2)])\n",
    "#             return [f\"{params.K[0,t]}**{params.alpha} * ({params.A[0, t]}*self.L[{0},{t}])**(1-{params.alpha}) -{params.Gov[t]}- (1-{params.omega}) * self.price[{t}]/self.price_N[{t}] * ({C}+self.I[0,{t}]+self.I[1,{t}])\",\n",
    "#                 f\"self.price[{t}] - {params.price_M[t]**params.omega}*self.price_N[{t}]**({1-params.omega})\"]\n",
    "\n",
    "#         def labor_derivative(params, S, t):\n",
    "#             if S == 1: # export\n",
    "#                 sectoral_price = params.price_E[t]\n",
    "#             elif S==0: # non-export\n",
    "#                 sectoral_price = f\"self.price_N[{t}]\"\n",
    "#             nulls = [\"0\" for _ in range(4)]\n",
    "#             # порядок: I[S,t], K[S,t+1], L[S, t], lmbda[S,t]\n",
    "\n",
    "#             derivatives = [\"0\", \"0\",\n",
    "#                     f\"\"\"{(-params.alpha)*(1-params.alpha)*(params.A[S,t])**(1-params.alpha)}*{sectoral_price}*{params.K[S,t]}**{params.alpha}*self.L[{S},{t}]**{-1-params.alpha}\"\"\", \"0\"]\n",
    "#             if S == 1: # export\n",
    "#                 return nulls+derivatives+[\"-1\"]+[\"0\",\"0\"]\n",
    "#             elif S==0: # non-export\n",
    "#                 return derivatives+nulls+[\"-1\"]+[f\"\"\"{(1-params.alpha)*(params.A[S,t])**(1-params.alpha)}*{sectoral_price}*{params.K[S,t]}**{params.alpha}*self.L[{S},{t}]**{-params.alpha}\"\"\",\"0\"]\n",
    "#         def investment_derivative(params, S, t):\n",
    "#             nulls = [\"0\" for _ in range(4)]\n",
    "\n",
    "#             derivatives= [\n",
    "#                 f\"- self.lmbda[{S},{t}] *(1 - {params.psi}/{params.I[S,t-1]} * (self.I[{S},{t}]/{params.I[S,t-1]} -1)**2 - {params.psi}/{params.I[S,t-1]} * (self.I[{S},{t}]/{params.I[S,t-1]} -1)- {params.psi}*self.I[{S},{t}]/{params.I[S,t-1]**2})-{params.psi/(1+params.r[t+1])}*{params.lmbda[S,t+1]}  * ({params.I[S,t+1]}**2 * (-2)/self.I[{S},{t}]**3 * ({params.I[S,t+1]}/self.I[{S},{t}] -1)+self.I[{S},{t}]*(-1)/self.I[{S},{t}]**2 * ({params.I[S,t+1]}/self.I[{S},{t}])**2)\",\n",
    "#                     \"0\",\n",
    "#                     \"0\",\n",
    "#                     f\"-  (1 - {params.psi/2} * (self.I[{S},{t}]/{params.I[S,t-1]} -1)**2 - {params.psi}*self.I[{S},{t}]/{params.I[S,t-1]} * (self.I[{S},{t}]/{params.I[S,t-1]} -1))\"\n",
    "#                     ]\n",
    "#             if S == 1: # export\n",
    "#                 return nulls+derivatives+[\"0\",\"0\",\"1\"]\n",
    "#             elif S==0: # non-export\n",
    "#                 return derivatives+nulls+[\"0\",\"0\",\"1\"]\n",
    "\n",
    "\n",
    "#         def capital_derivative(params, S, t):\n",
    "#             if S == 1: # export\n",
    "#                 sectoral_price = params.price_E[t+1]\n",
    "#             elif S==0: # non-export\n",
    "#                 sectoral_price = params.price_N[t+1]\n",
    "#             nulls = [\"0\" for _ in range(4)]\n",
    "\n",
    "#             derivatives = [\"0\",f\"\"\"1/({1+params.r[t+1]}) * {(1-params.tau_pi[t+1])*params.alpha*(params.alpha-1)}*{sectoral_price} * {(params.A[S,t+1])**(1-params.alpha)} * (self.K[{S},{t+1}])**{params.alpha-2} * ({params.L[S,t+1]})**({1-params.alpha})\"\"\" ,\"0\", \"-1\"]\n",
    "#             if S == 1: # export\n",
    "#                 return nulls+derivatives+[\"0\",\"0\",\"0\"]\n",
    "#             elif S==0: # non-export\n",
    "#                 return derivatives+nulls+[\"0\",\"0\",\"0\"]\n",
    "\n",
    "#         def capital_accommodation_derivative(params, S, t):\n",
    "\n",
    "#             nulls = [\"0\" for _ in range(4)]\n",
    "#             derivatives = [f\"\"\"((1-{params.psi/2}*(self.I[{S},{t}]/{params.I[S,t-1]} - 1))**2-self.I[{S},{t}] * ({-params.psi}/{params.I[S,t-1]} * (self.I[{S},{t}]/{params.I[S,t-1]} - 1)))\"\"\",\"-1\",\"0\",\"0\"]\n",
    "#             if S == 1: # export\n",
    "#                 return nulls+derivatives+[\"0\",\"0\",\"0\"]\n",
    "#             elif S==0: # non-export\n",
    "#                 return derivatives+nulls+[\"0\",\"0\",\"0\"]\n",
    "\n",
    "\n",
    "#         def labor_market_clearing_derivative():\n",
    "#             return [\"0\",\"0\",\"1\",\"0\",\"0\",\"0\",\"1\",\"0\",\"0\",\"0\",\"0\"]\n",
    "\n",
    "#         def goods_market_clearing_derivative(params, t):\n",
    "#             C = np.sum([params.c[s,g,t]*params.N[s,g,t] for g in range(t, params.G+t) for s in range(2)])\n",
    "#             return [f\"- (1-{params.omega}) * self.price[{t}]/self.price_N[{t}]\",\n",
    "#                    \"0\",\n",
    "#                    f\"({1-params.alpha})*self.K[{0},{t}]**{params.alpha} * {params.A[0, t]}**{1-params.alpha} *self.L[{0},{t}]**(-{params.alpha})\",\n",
    "#                    \"0\",\n",
    "#                    f\"- (1-{params.omega}) * self.price[{t}]/self.price_N[{t}]\",\n",
    "#                    \"0\",\n",
    "#                    \"0\",\n",
    "#                    \"0\",\n",
    "#                    \"0\",\n",
    "#                    f\"-(1-{params.omega})*(-1) * self.price[{t}]/self.price_N[{t}]**2 * ({C}+self.I[0,{t}]+self.I[1,{t}])\",\n",
    "#                    f\"-(1-{params.omega}) /self.price_N[{t}] * ({C}+self.I[0,{t}]+self.I[1,{t}])\"\n",
    "#                    ]\n",
    "#         def price_derivative(params,t):\n",
    "#             return [\"0\",\n",
    "#                    \"0\",\n",
    "#                    \"0\",\n",
    "#                    \"0\",\n",
    "#                    \"0\",\n",
    "#                    \"0\",\n",
    "#                    \"0\",\n",
    "#                    \"0\",\n",
    "#                    \"0\",\n",
    "#                    f\" -({1-params.omega})* {params.price_M[t]**params.omega}*self.price_N[{t}]**({-params.omega})\",\n",
    "#                     \"1\"]\n",
    "\n",
    "#         def production_jacobian(z,self, t):\n",
    "#             self.I[:,t] = z[0],z[4]\n",
    "#             self.K[:,t+1] = z[1],z[5]\n",
    "#             self.L[:,t] = z[2],z[6]\n",
    "#             self.lmbda[:,t] = z[3],z[7]\n",
    "#             self.w[t] = z[8]\n",
    "#             self.price_N[t] = z[9]\n",
    "#             self.price[t] = z[10]\n",
    "\n",
    "#             system = [[labor_derivative(self, S, t), investment_derivative(self, S, t), capital_derivative(self, S, t), capital_accommodation_derivative(self, S, t)] for S in range(2)]\n",
    "#             system = list(itertools.chain(*(system)))+[labor_market_clearing_derivative(),goods_market_clearing_derivative(self, t), price_derivative(self,t)]\n",
    "#             system = list(np.array(system).transpose())\n",
    "#             sum_of_squares = [\"+\".join([f\"2*({equation})\" for equation in column]) for column in system]\n",
    "#             # J = [[eval(equation,{},{\"self\":self}) for equation in row] for row in system]\n",
    "#             J = [eval(equation,{},{\"self\":self}) for equation in sum_of_squares]\n",
    "#             return J\n",
    "\n",
    "\n",
    "\n",
    "#         def production(z,self, t):\n",
    "#             self.I[:,t] = z[0],z[4]\n",
    "#             self.K[:,t+1] = z[1],z[5]\n",
    "#             self.L[:,t] = z[2],z[6]\n",
    "#             self.lmbda[:,t] = z[3],z[7]\n",
    "#             self.w[t] = z[8]\n",
    "#             self.price_N[t] = z[9]\n",
    "#             self.price[t] = z[10]\n",
    "\n",
    "#             production_system = [[labor_demand_euler(self, S, t),\n",
    "#                           investment_euler(self, S, t),\n",
    "#                           capital_euler(self,S,t),\n",
    "#                           capital_accomodation(self,S,t)] for S in range(2)]\n",
    "\n",
    "#             labor_market = labor_market_clearing(self, t)\n",
    "#             goods_market = goods_market_clearing(self, t)\n",
    "\n",
    "#             system = list(itertools.chain(*(production_system)))+[labor_market] + goods_market\n",
    "#             sum_of_squares = \"+\".join([f\"({equation})**2\" for equation in system])\n",
    "#             # F = [eval(equation,{},{\"self\":self}) for equation in system]\n",
    "#             F = eval(sum_of_squares,{},{\"self\":self})\n",
    "#             return F\n",
    "#         # def production(z,self, t, S):\n",
    "#         #     self.I[S,t],self.K[S,t+1],self.L[S,t],self.lmbda[S,t] = z\n",
    "#         #\n",
    "#         #     system = [labor_demand_euler(self, S, t)]+[investment_euler(self, S, t)]+[capital_euler(self,S,t)]+[capital_accomodation(self,S,t)]\n",
    "#         #     F = [eval(equation,{},{\"self\":self}) for equation in system]\n",
    "#         #     return F\n",
    "\n",
    "#         # def market_clearing(z, self, t):\n",
    "#         #     self.w[t], self.price_N[t], self.price[t] = z\n",
    "#         #     system = [labor_market_clearing(self,t)]+goods_market_clearing(self, t)\n",
    "#         #     F = [eval(equation,{},{\"self\":self}) for equation in system]\n",
    "#         #     return F\n",
    "\n",
    "\n",
    "\n",
    "#         # Households (analytical solution)\n",
    "#         for s in range(2):\n",
    "#             for t in range(self.T):\n",
    "#                 for g in range(t, self.G+t):\n",
    "#                     self.c[s, g, t],self.l[s, g, t],self.a[s, g, t]  = self.household(s,g,t)\n",
    "#         for t in range(self.T):\n",
    "#             z_guess = [self.I[0,t],self.K[0,t+1],self.L[0,t],self.lmbda[0,t], self.I[1,t],self.K[1,t+1],self.L[1,t],self.lmbda[1,t],self.w[t], self.price_N[t], self.price[t]]\n",
    "#             # z = fsolve(production,z_guess, fprime=production_jacobian,maxfev=500,\n",
    "#             #        args = (self, t))\n",
    "\n",
    "#             # result = minimize_ipopt(production, z_guess, args = (self, t))#,jac = production_jacobian)\n",
    "#             z = result[\"x\"]\n",
    "#             # z = np.array(z_guess) * (1-self.eta) + np.array(z_update) * (self.eta)\n",
    "#             self.I[:,t] = z[0],z[4]\n",
    "#             self.K[:,t+1] = z[1],z[5]\n",
    "#             self.L[:,t] = z[2],z[6]\n",
    "#             self.lmbda[:,t] = z[3],z[7]\n",
    "#             self.w[t] = z[8]\n",
    "#             self.price_N[t] = z[9]\n",
    "#             self.price[t] = z[10]\n",
    "#             # Market clearing (analytical solution)\n",
    "#             self.Y = self.K**self.alpha * (self.L*self.A)**(1-self.alpha)\n",
    "#             self.D = self.I.sum(axis = 0)+(self.N[:,:self.c.shape[1],:]*self.c[:,:self.c.shape[1],:]).sum(axis=0).sum(axis =0)\n",
    "#             self.M =  self.omega * self.D * self.price / self.price_M\n"
   ]
  },
  {
   "cell_type": "code",
   "execution_count": 589,
   "metadata": {},
   "outputs": [],
   "source": [
    "class OLG_model:\n",
    "    def __init__(self, G,T,N,epsilon, rho, sigma,Pi,r,price_M, price_E, tau_I,tau_II,tau_Ins, tau_pi, tau_VA, tau_rho, beta, phi , theta , psi, omega, alpha, delta, A,initial, eta,steady_max_iter,steady_guess):\n",
    "        \"\"\"\n",
    "        OLG model\n",
    "        :param G: number of generations, default is 110\n",
    "        :param T: simulation time, default is 500\n",
    "        :param N_female: population (G+T-1, T) matrix where N[g,t] is cohort size of generation g in period t\n",
    "        :param N_male: population (G+T-1, T) matrix where N[g,t] is cohort size of generation g in period t\n",
    "        :param epsilon_female: female cohort- and year-specific productivity\n",
    "        :param epsilon_male: male cohort- and year-specific productivity\n",
    "        :param rho_female: female cohort- and year-specific retirement rate\n",
    "        :param rho_male: male cohort- and year-specific retirement rate\n",
    "        :param sigma: pension rate (pension point value) as share of wage for T periods\n",
    "        :param Pi_female: survival probability\n",
    "        :param Pi_male: survival probability\n",
    "        :param Beq_female_to_female,Beq_female_to_male,Beq_male_to_female,Beq_male_to_male: bequest matrix\n",
    "        :param r: rate of return for T periods\n",
    "        :param price_M: import prices for T periods\n",
    "        :param price_E: export prices for T periods\n",
    "        :param tau_I: income tax for T periods\n",
    "        :param tau_II: income tax on investment for T periods\n",
    "        :param tau_Ins: insurance tax for T periods\n",
    "        :param tau_pi: profit tax for T periods\n",
    "        :param tau_VA: value-added tax for T periods\n",
    "        :param tau_rho: retirement tax for T periods\n",
    "        :param beta: elasticity of intertemporal substitution\n",
    "        :param phi: elasticity of intertemporal substitution\n",
    "        :param theta: ?\n",
    "        :param psi: ? investment cost\n",
    "        :param omega: import share\n",
    "        :param alpha: elasticity of capital\n",
    "        :param delta: deprecation rate\n",
    "        :param A_N: total factor productivity, non-export good\n",
    "        :param A_E: total factor productivity, export goods\n",
    "        \"\"\"\n",
    "\n",
    "        ## Exogenous variables and parameters\n",
    "        # Demography\n",
    "        self.G, self.T,self.N,self.epsilon,self.Pi = G, T,N,epsilon,Pi\n",
    "        # Retirement\n",
    "        self.rho, self.sigma = rho, sigma\n",
    "        # Prices\n",
    "        self.r, self.price_M, self.price_E, self.omega = r, price_M, price_E, omega\n",
    "        # Taxation\n",
    "        self.tau_I, self.tau_II, self.tau_pi, self.tau_VA,self.tau_Ins, self.tau_rho =  tau_I,tau_II, tau_pi,tau_VA,tau_Ins, tau_rho\n",
    "        # Utility\n",
    "        self.beta, self.phi, self.theta  = beta, phi, theta\n",
    "        # Production\n",
    "        self.psi, self.alpha, self.delta, self.A = psi, alpha, delta, A\n",
    "\n",
    "        self.a_initial = initial[\"a\"]\n",
    "\n",
    "\n",
    "\n",
    "        self.eta = eta\n",
    "        self.steady_max_iter = steady_max_iter\n",
    "\n",
    "        # Endogenous variable\n",
    "        # Initial guess\n",
    "        self.price_N = np.array([initial[\"price_N\"] for _ in range(max_time)])\n",
    "        self.K = np.array([[initial[\"K_N\"] for _ in range(max_time)], [initial[\"K_E\"] for _ in range(max_time)]])\n",
    "        self.L = np.array([[initial[\"L_N\"] for _ in range(max_time)], [initial[\"L_E\"] for _ in range(max_time)]])\n",
    "        self.I = np.array([[initial[\"I_N\"] for _ in range(max_time)], [initial[\"I_E\"] for _ in range(max_time)]])\n",
    "        self.Gov = np.array([initial[\"Gov\"] for _ in range(max_time)])\n",
    "        self.Debt = np.array([initial[\"Debt\"] for _ in range(max_time)])\n",
    "        \n",
    "        \n",
    "        self.VA_sum= np.zeros_like(self.Gov)\n",
    "        self.I_sum= np.zeros_like(self.Gov)\n",
    "        self.II_sum= np.zeros_like(self.Gov)\n",
    "        \n",
    "        self.Ins_sum= np.zeros_like(self.Gov)\n",
    "        self.Rho_sum= np.zeros_like(self.Gov)\n",
    "        self.Pi_sum= np.zeros_like(self.Gov)\n",
    "            \n",
    "        self.Gov_Income= np.zeros_like(self.Gov)\n",
    "        \n",
    "        self.Gov_Outcome= np.zeros_like(self.Gov)\n",
    "        self.Deficit= np.zeros_like(self.Gov)\n",
    "        self.Deficit_ratio= np.zeros_like(self.Gov)\n",
    "\n",
    "        self.lmbda = np.array([[0.5 for _ in range(max_time)] for _ in range(2)])\n",
    "\n",
    "        self.w = ((self.price_N *(1-self.alpha)*(self.K[0])**self.alpha *(self.A[0])**(1-self.alpha)*(self.L[0])**(-self.alpha))+\n",
    "        (self.price_E *(1-self.alpha)*(self.K[1])**self.alpha *(self.A[1])**(1-self.alpha)*(self.L[1])**(-self.alpha)))/2\n",
    "\n",
    "        self.price = (self.price_M)**self.omega * (self.price_N)**(1-self.omega)\n",
    "\n",
    "\n",
    "        self.Y = self.K**self.alpha * (self.L*self.A)**(1-self.alpha)\n",
    "\n",
    "\n",
    "        self.D = self.Y[0]/(1-self.omega)* self.price_N/self.price + self.Gov\n",
    "\n",
    "        self.M = self.omega * self.D * self.price / self.price_M\n",
    "        \n",
    "        self.k = np.zeros_like(self.K)\n",
    "        self.k[0] = self.K[0]/((self.L[0]+self.L[1])*self.A[0])\n",
    "        self.k[1] = self.K[1]/((self.L[0]+self.L[1])*self.A[1])\n",
    "        \n",
    "        self.i = self.I/self.K\n",
    "        \n",
    "        self.lmbda_to_price = np.zeros_like(self.lmbda)\n",
    "        \n",
    "        self.lmbda_to_price[0] = self.lmbda[0]/self.price\n",
    "        self.lmbda_to_price[1] = self.lmbda[1]/self.price\n",
    "        \n",
    "        self.L_share = np.zeros_like(self.L)\n",
    "        self.L_share[0] = self.L[0]/(self.L[0]+self.L[1])\n",
    "        self.L_share[1] = self.L[1]/(self.L[0]+self.L[1])\n",
    "        \n",
    "\n",
    "\n",
    "        self.c =  np.array([[[0.002 if ((g >= t) and (g<=self.G+t-1)) else 0 for t in range(max_time)] for g in range(max_time)] for _ in range(2)])\n",
    "        self.a = np.array([[[0.01 if ((g >= t) and (g<=self.G+t-1)) else 0 for t in range(max_time)] for g in range(max_time)] for _ in range(2)])\n",
    "        self.gamma = np.array([[[0.9 if ((g >= t) and (g<=self.G+t-1)) else 0 for t in range(max_time)] for g in range(max_time)] for _ in range(2)])\n",
    "        self.l = np.array([[[0.4 if ((g >= t) and (g<=self.G+t-1)) else 0 for t in range(max_time)] for g in range(max_time)] for _ in range(2)])\n",
    "\n",
    "        Consumption = np.array([np.sum([self.c[s,g,t]*self.N[s,g,t] for g in range(max_time) for s in range(2)]) for t in range(max_time)])\n",
    "        self.Consumption = Consumption\n",
    "\n",
    "        Labor = np.array([np.sum([self.l[s,g,self.T]*self.N[s,g,self.T]*self.epsilon[s,g,self.T] for g in range(max_time) for s in range(2)]) for t in range(max_time)])\n",
    "        self.Labor = Labor\n",
    "\n",
    "        Assets =  np.array([np.sum([self.a[s,g,t]*self.N[s,g,t] for g in range(max_time) for s in range(2)]) for t in range(max_time)])\n",
    "        self.Assets = Assets\n",
    "\n",
    "        \n",
    "        self.steady = np.array(list(steady_guess) + [Consumption[self.T], Labor[self.T], Assets[self.T]])\n",
    "        self.steady_path = []\n",
    "        \n",
    "        self.A_growth = self.A[0,self.T]/self.A[0, self.T-1]\n",
    "        self.N_growth = np.sum([self.N[s,g,self.T]*self.epsilon[s,g,self.T] for g in range(self.T, self.G+self.T) for s in range(2)])/\\\n",
    "                   np.sum([self.N[s,g,self.T-1]*self.epsilon[s,g,self.T-1] for g in range(self.T-1, self.G+self.T-1) for s in range(2)])\n",
    "        \n",
    "\n",
    "        self.lmbda_to_price_steady = (1+self.tau_VA[self.T])/((1 - self.psi/2 * (self.A_growth*self.N_growth -1)**2 - self.psi*self.A_growth*self.N_growth * (self.A_growth*self.N_growth -1))+self.psi/(1+self.r[self.T+1]) * (self.A_growth*self.N_growth -1)* (self.A_growth*self.N_growth)**2)\n",
    "        self.i_steady  = (self.A_growth*self.N_growth-1+self.delta) / (1-self.psi/2*(self.A_growth*self.N_growth -1)**2)\n",
    "        \n",
    "        \n",
    "          \n",
    "    def update_government(self, t):\n",
    "        self.VA_sum[t] = self.tau_VA[t]*self.price[t]*(self.Consumption[t]+self.I[0,t]+self.I[1, t])\n",
    "        self.II_sum[t] = self.tau_II[t]*self.Assets[t]\n",
    "        self.I_sum[t] = self.Labor[t] * self.w[t] *\\\n",
    "                        (1-(self.tau_rho[t] + self.tau_Ins[t])/\\\n",
    "                         (1+self.tau_rho[t] + self.tau_Ins[t])) *\\\n",
    "                        self.tau_I[t] \n",
    "        \n",
    "        \n",
    "        \n",
    "        self.Ins_sum[t] = self.tau_Ins[t]/(1+self.tau_rho[t] + self.tau_Ins[t]) * self.Labor[t] * self.w[t]\n",
    "        self.Rho_sum[t] = self.tau_rho[t]/(1+self.tau_rho[t] + self.tau_Ins[t]) * self.Labor[t] * self.w[t]\n",
    "        self.Pi_sum[t] = self.tau_pi[t] * (self.price[t] * self.K[0,t]**self.alpha *\\\n",
    "                                           (self.L[0,t]*self.A[0,t])**(1-self.alpha) -\\\n",
    "        self.w[t]*self.L[0,t] - self.delta * self.price[t]*self.K[0,t])+\\\n",
    "            self.tau_pi[t] * (self.price[t] * self.K[1,t]**self.alpha *\\\n",
    "                                           (self.L[1,t]*self.A[1,t])**(1-self.alpha) -\\\n",
    "            self.w[t]*self.L[1,t] - self.delta * self.price[t]*self.K[1,t])\n",
    "            \n",
    "        self.Gov_Income[t] = self.VA_sum[t] + self.I_sum[t]+self.II_sum[t]+self.Ins_sum[t]+self.Rho_sum[t]+self.Pi_sum[t]\n",
    "        \n",
    "        self.Gov_Outcome[t] = self.Gov[t] + self.sigma[t]*self.w[t] * np.sum(self.rho[:,:,t]*self.N[:,:,t])+\\\n",
    "                self.r[t]*self.Debt[t-1]\n",
    "        self.Deficit[t] = self.Gov_Outcome[t] - self.Gov_Income[t]\n",
    "        self.Deficit_ratio[t] = self.Deficit[t]/(self.Consumption[t]+np.sum(self.I[:,t])+self.Gov[t])\n",
    "        self.Debt[t] = self.Debt[t-1]+self.Deficit[t]\n",
    "        \n",
    "\n",
    "\n",
    "    def household(self, s, g, t):\n",
    "        def labor_income_vector(self, s, g, start, end):\n",
    "            return (1-self.tau_I[start:end]) * (1-(self.tau_rho[start:end] + self.tau_Ins[start:end])/(1+self.tau_rho[start:end] + self.tau_Ins[start:end])) * self.epsilon[s,g,start:end] * self.w[start:end]\n",
    "        def cumulative_rate_of_return(self,start, end):\n",
    "            if start <= end:\n",
    "                return np.prod(1+self.r[start:end]*(1-self.tau_II[start:end]))\n",
    "            else:\n",
    "                return 1\n",
    "\n",
    "        def get_initial_consumption(self, s, g, t_0):\n",
    "            return self.phi * (self.a_initial[s,g] * cumulative_rate_of_return(self, t_0, g+1)+\n",
    "                               np.sum(np.array([cumulative_rate_of_return(self,start, g+1) for start in range(t_0+1, g+2)])*\n",
    "                                      (labor_income_vector(self, s, g, t_0, g+1)+self.rho[s,g,t_0:(g+1)]*self.sigma[t_0:(g+1)]*self.w[t_0:(g+1)]\n",
    "                                       )))/\\\n",
    "                   np.sum(\n",
    "                       np.array([cumulative_rate_of_return(self,start, g+1) for start in range(t_0+1, g+2)])*\n",
    "                       (1+self.tau_VA[t_0:(g+1)])*(self.price[t_0:(g+1)])*\n",
    "                       (\n",
    "                               np.array([cumulative_rate_of_return(self,t_0+1, end) for end in range(t_0+1, g+2)])*\n",
    "                               self.beta**np.array([i-t_0 for i in range(t_0, g+1)])*self.Pi[s,g,t_0:(g+1)]/self.Pi[s,g,t_0] * (1+self.tau_VA[t_0])*(self.price[t_0])/((1+self.tau_VA[t_0:(g+1)])*(self.price[t_0:(g+1)])) *\n",
    "                               ((1+self.tau_VA[t_0:(g+1)])*(self.price[t_0:(g+1)])/((1+self.tau_VA[t_0])*self.price[t_0])*labor_income_vector(self, s, g,t_0, t_0+1)/labor_income_vector(self, s, g,t_0, g+1)\n",
    "                                )**((1-self.phi)*(1-self.theta)))**(1/self.theta)\n",
    "                   )\n",
    "        t_0 = max(g-self.G+1,0)\n",
    "        bequest = 0\n",
    "        if t==t_0:\n",
    "            consumption = get_initial_consumption(self, s, g, t_0)\n",
    "        elif t_0 < t <= g:\n",
    "            consumption = self.c[s, g, t_0]*\\\n",
    "                          (cumulative_rate_of_return(self, t_0+1, t+1)*\n",
    "                           self.beta**(t-t_0)*self.Pi[s,g,t]/self.Pi[s,g,t_0] * (1+self.tau_VA[t_0])*self.price[t_0]/((1+self.tau_VA[t])*self.price[t]) *\n",
    "                           ((1+self.tau_VA[t])*self.price[t]/((1+self.tau_VA[t_0])*self.price[t_0])*labor_income_vector(self, s, g,t_0, t_0+1)/labor_income_vector(self, s, g,t, t+1))**((1-self.phi)*(1-self.theta))\n",
    "                           )**(1/self.theta)\n",
    "\n",
    "\n",
    "        labor = 1- consumption/(self.phi/(1-self.phi)*(1/((1+self.tau_VA[t])*self.price[t]))*labor_income_vector(self, s, g, t, t+1)[0])\n",
    "        if t == 0:\n",
    "            assets = labor_income_vector(self, s, g, t, t+1)[0]*labor+self.rho[s,g,t]*self.sigma[t]*self.w[t] - consumption*(1+self.tau_VA[t])*self.price[t]+self.a_initial[s,g]*(1+self.r[t]*(1-self.tau_II[t]))\n",
    "        else:\n",
    "            assets = labor_income_vector(self, s, g, t, t+1)[0]*labor+self.rho[s,g,t]*self.sigma[t]*self.w[t] - consumption*(1+self.tau_VA[t])*self.price[t]+(self.a[s,g, t-1]+bequest)*(1+self.r[t]*(1-self.tau_I[t]))\n",
    "        return consumption, labor, assets\n",
    "\n",
    "    @counted\n",
    "    def steady_state(self):\n",
    "        def labor_income_vector(self, s, g, start, end):\n",
    "            return (1-self.tau_I[start:end]) * (1-(self.tau_rho[start:end] + self.tau_Ins[start:end])/(1+self.tau_rho[start:end] + self.tau_Ins[start:end])) * self.epsilon[s,g,start:end] * self.w[start:end]\n",
    "\n",
    "        w_steady, price_steady, price_N_steady = self.steady[6:9]\n",
    "\n",
    "        for t in range(self.T-self.G + 1, max_time):\n",
    "            self.w[t] = w_steady* self.A_growth**(t - self.T)\n",
    "            self.price[t] = price_steady\n",
    "            self.price_N[t] = price_N_steady\n",
    "\n",
    "        for s in range(2):\n",
    "            initial_household = self.household(s, self.G+self.T-1, self.T) # первое родившееся поколение в период self.T\n",
    "            self.c[s, self.G+self.T-1, self.T],self.l[s, self.G+self.T-1,self.T],self.a[s, self.G+self.T-1,self.T] = initial_household\n",
    "            for t in range(self.T,self.G+self.T):\n",
    "                self.c[s, self.G+self.T-1, t],self.l[s, self.G+self.T-1,t],self.a[s, self.G+self.T-1,t] = self.household(s, self.G+self.T-1, t)\n",
    "            for g in range(self.G+self.T-2, self.T-1, -1): # все поколения, живущие в периоде self.T\n",
    "\n",
    "                self.c[s, g, g-self.G + 1]  = initial_household[0] * self.A_growth**(self.G+self.T-1 - g)\n",
    "                self.l[s, g, g-self.G + 1]  = initial_household[1]\n",
    "                self.a[s, g,g-self.G + 1]  = labor_income_vector(self, s, g,g-self.G + 1, g-self.G + 2)[0]*self.l[s, g, g-self.G + 1]+self.rho[s,g,g-self.G + 1]*self.w[g-self.G + 1]*self.sigma[g-self.G + 1] - self.c[s, g, g-self.G + 1]*(1+self.tau_VA[g-self.G + 1])*self.price[g-self.G + 1]\n",
    "                for t in range(g-self.G + 2, g+1):\n",
    "                    self.c[s, g, t],self.l[s, g, t],self.a[s, g, t] =  self.household(s, g, t)\n",
    "        Consumption = np.sum([self.c[s,g,self.T]*self.N[s,g,self.T] for g in range(self.T, self.G+self.T) for s in range(2)])\n",
    "\n",
    "        Labor = np.sum([self.l[s,g,self.T]*self.N[s,g,self.T]*self.epsilon[s,g,self.T] for g in range(self.T, self.G+self.T) for s in range(2)])\n",
    "\n",
    "        Assets =  np.sum([self.a[s,g,self.T]*self.N[s,g,self.T] for g in range(self.T, self.G+self.T) for s in range(2)])\n",
    "\n",
    "        if len(self.steady_path)==0:\n",
    "            self.steady[-3:] = np.array([Consumption,  Labor, Assets])\n",
    "        else:\n",
    "            self.steady[-3:] = self.eta*np.array([Consumption,  Labor, Assets]) + (1-self.eta)*self.steady[-3:]\n",
    "\n",
    "        z_guess = self.steady[:6]\n",
    "        \n",
    "        def equilibrium(z, self=self, objective = True):\n",
    "\n",
    "\n",
    "  \n",
    "            system = [\n",
    "                f\"{1-self.alpha}*price_N_steady * (k_N_steady/L_N_share)**{self.alpha} *{self.A[0,self.T]} - w_steady\"\n",
    "                      ,f\"{1/(1+self.r[self.T+1])}*(({1-self.tau_pi[self.T+1]}) *{self.alpha}*price_N_steady* (k_N_steady/L_N_share)**{self.alpha-1} +{self.tau_pi[self.T+1]} * {self.delta} + {self.lmbda_to_price_steady}*price_steady * ({1-self.delta})) - {self.lmbda_to_price_steady}*price_steady\"\n",
    "                      ,f\"{1-self.alpha}*{self.price_E[self.T]} * (k_E_steady/(1-L_N_share)*{self.A[0,self.T]/self.A[1,self.T]} )**{self.alpha} *{self.A[1,self.T]} - w_steady\"\n",
    "                      ,f\"{1/(1+self.r[self.T+1])}*({1-self.tau_pi[self.T+1]}*{self.alpha}* {self.price_E[self.T+1]}* (k_E_steady/(1-L_N_share)*{self.A[0,self.T]/self.A[1,self.T]})**{self.alpha-1} +{self.tau_pi[self.T+1]} * {self.delta} +{self.lmbda_to_price_steady}*price_steady * {1-self.delta}) - {self.lmbda_to_price_steady}*price_steady\"\n",
    "                      ,f\"price_N_steady*((k_N_steady/L_N_share)**{self.alpha} * L_N_share -{self.Gov[self.T]/(self.A[0,self.T]*self.steady[-2])})- (1-{self.omega}) * price_steady * ({self.steady[-3]/(self.A[0,self.T]*self.steady[-2])}+{self.i_steady}*(k_N_steady+k_E_steady))\"\n",
    "                      ,f\"price_steady - {self.price_M[self.T]**self.omega}*price_N_steady**({1-self.omega})\"\n",
    "                      ]\n",
    "            name_space = {label:value for label, value in zip((\"self\", \"k_N_steady\", \"L_N_share\",\n",
    "                                                               \"k_E_steady\", \"w_steady\",\n",
    "                                                               \"price_steady\", \"price_N_steady\"),[self]+list(z))}\n",
    "\n",
    "            if objective:\n",
    "                sum_of_squares = \"+\".join([f\"({equation})**2\" for equation in system])\n",
    "                F = eval(sum_of_squares,{},name_space)\n",
    "            else:\n",
    "                F = [eval(equation,{},name_space) for equation in system]\n",
    "            return F\n",
    "        def equilibrium_gradient(z, self=self, objective = True):\n",
    "\n",
    "            self.A_growth = self.A[0,self.T]/self.A[0, self.T-1]\n",
    "            self.N_growth = np.sum([self.N[s,g,self.T]*self.epsilon[s,g,self.T] for g in range(self.T, self.G+self.T) for s in range(2)])/\\\n",
    "                       np.sum([self.N[s,g,self.T-1]*self.epsilon[s,g,self.T-1] for g in range(self.T-1, self.G+self.T-1) for s in range(2)])\n",
    "\n",
    "            name_space = {label:value for label, value in zip((\"self\",\"I_N_steady\", \"K_N_steady\", \"L_N_steady\",\"I_E_steady\", \"K_E_steady\", \"lmbda_steady\", \"w_steady\", \"price_steady\", \"price_N_steady\"),[self]+list(z))}\n",
    "            if objective:\n",
    "                target_system = equilibrium(z, self, False)\n",
    "                sum_of_gradient = [\"+\".join([f\"2*({outer})*({inner})\" for outer, inner in zip(target_system, row)]) for row in gradient]\n",
    "                J = [eval(equation,{},name_space) for equation in sum_of_gradient]\n",
    "            else:\n",
    "                J = [[eval(equation,{},name_space) for equation in row] for row in gradient]\n",
    "            return J\n",
    "            \n",
    "\n",
    "        \n",
    "        obj_jit = jit(equilibrium)\n",
    "        obj_grad = jit(jacfwd(obj_jit))\n",
    "        obj_hess = jit(jacrev(jacfwd(obj_jit)))\n",
    "        \n",
    "        \n",
    "        result = minimize_ipopt(obj_jit, jac=obj_grad, hess=obj_hess, x0=z_guess\n",
    "                                , options = {\"max_iter\":self.steady_max_iter, \"print_level\":0,\n",
    "                                             \"check_derivatives_for_naninf\":\"yes\"}\n",
    "                                , tol=1e-7)\n",
    "        \n",
    "        \n",
    "        if result[\"success\"] or result[\"status\"]==1:\n",
    "            self.steady[:6] = self.eta*result[\"x\"] + (1-self.eta)*z_guess\n",
    "            self.steady_max_iter = 1000\n",
    "            eq_res = equilibrium(self.steady[:6], self, False)\n",
    "        else:\n",
    "            if result[\"status\"]==-1:\n",
    "                self.steady_max_iter += 1000\n",
    "            self.steady[:6] = z_guess\n",
    "            eq_res = equilibrium(z_guess, self, False)\n",
    "            \n",
    "                \n",
    "        self.steady_path.append((result, np.array(self.steady)\n",
    "                               ))\n",
    "\n",
    "    def create_guess(self):\n",
    "        \n",
    "        k_N_steady, L_N_share, k_E_steady, w_steady, price_steady, price_N_steady, Consumption_steady, Labor_steady, Assets_steady = self.steady\n",
    "        \n",
    "        steady_start = self.T-self.G + 1\n",
    "        \n",
    "        for t in range(steady_start, max_time):\n",
    "            self.update_government(t)\n",
    "            \n",
    "            self.w[t] = w_steady* self.A_growth**(t - self.T)\n",
    "            self.price[t] = price_steady\n",
    "            self.price_N[t] = price_N_steady\n",
    "            \n",
    "            self.k[0,t] = k_N_steady\n",
    "            self.k[1,t] = k_E_steady\n",
    "            \n",
    "            self.i[0,t] = self.i_steady\n",
    "            self.i[1,t] = self.i_steady \n",
    "            \n",
    "            self.L_share[0,t] = L_N_share \n",
    "            self.L_share[1,t] = 1- L_N_share \n",
    "            \n",
    "            self.lmbda_to_price[0,t] = self.lmbda_to_price_steady\n",
    "            self.lmbda_to_price[1,t] = self.lmbda_to_price_steady\n",
    "            \n",
    "            \n",
    "            \n",
    "            self.K[0,t] = k_N_steady* Labor_steady * self.A[0,self.T] *(self.A_growth*self.N_growth)**(t - self.T)\n",
    "            self.K[1,t] = k_E_steady* Labor_steady * self.A[0,self.T] *(self.A_growth*self.N_growth)**(t - self.T)\n",
    "            \n",
    "            self.I[0,t] = self.i_steady * self.K[0,t]\n",
    "            self.I[1,t] = self.i_steady * self.K[1,t]\n",
    "            \n",
    "            self.L[0,t] = L_N_share * Labor_steady *(self.N_growth)**(t - self.T)\n",
    "            self.L[1,t] = (1-L_N_share) * Labor_steady *(self.N_growth)**(t - self.T)\n",
    "            \n",
    "            self.lmbda[0,t] = self.lmbda_to_price_steady * price_steady\n",
    "            self.lmbda[1,t] = self.lmbda_to_price_steady * price_steady\n",
    "            \n",
    "            self.Consumption[t] = Consumption_steady*(self.A_growth*self.N_growth)**(t - self.T)\n",
    "            self.Labor[t] = Labor_steady*(self.N_growth)**(t - self.T)\n",
    "            self.Assets[t] =  Assets_steady*(self.A_growth*self.N_growth)**(t - self.T)\n",
    "\n",
    "\n",
    "        \n",
    "        self.price_N[:steady_start] = np.linspace(initial[\"price_N\"], self.price_N[steady_start], steady_start,endpoint=False)\n",
    "        self.I[0,:steady_start] = np.linspace(initial[\"I_N\"], self.I[0,steady_start], steady_start,endpoint=False)\n",
    "        self.K[0,:steady_start] = np.linspace(initial[\"K_N\"], self.K[0,steady_start], steady_start,endpoint=False)\n",
    "        self.L[0,:steady_start] = np.linspace(initial[\"L_N\"], self.L[0,steady_start], steady_start,endpoint=False)\n",
    "\n",
    "        self.I[1,:steady_start] = np.linspace(initial[\"I_E\"], self.I[1,steady_start], steady_start,endpoint=False)\n",
    "        self.K[1,:steady_start] = np.linspace(initial[\"K_E\"], self.K[1,steady_start], steady_start,endpoint=False)\n",
    "        self.L[1,:steady_start] = np.linspace(initial[\"L_E\"], self.L[1,steady_start], steady_start,endpoint=False)\n",
    "\n",
    "        w_initial = self.price_N[0] *(1-self.alpha)*(self.K[0,0])**self.alpha *(self.A[0,0])**(1-self.alpha)\n",
    "        self.w[:steady_start] = np.linspace(w_initial, self.w[steady_start], steady_start,endpoint=False)\n",
    "\n",
    "        self.Labor[:steady_start] = np.linspace(initial[\"L_N\"]+initial[\"L_E\"],\n",
    "                                    self.Labor[steady_start], steady_start,endpoint=False)\n",
    "        \n",
    "        self.price[:steady_start] = (self.price_M[:steady_start])**self.omega * (self.price_N[:steady_start])**(1-self.omega)\n",
    "        \n",
    "        self.lmbda[0,:steady_start] = self.price[:steady_start]*self.lmbda_to_price_steady\n",
    "        self.lmbda[1,:steady_start] = self.price[:steady_start]*self.lmbda_to_price_steady\n",
    "        \n",
    "        self.k[0,:steady_start] = self.K[0,:steady_start]/(self.A[0,:steady_start]*self.Labor[:steady_start])\n",
    "        self.k[1,:steady_start] = self.K[1,:steady_start]/(self.A[0,:steady_start]*self.Labor[:steady_start])\n",
    "            \n",
    "        self.i[:steady_start] = self.I[:steady_start]/self.K[:steady_start]\n",
    "            \n",
    "        self.L_share[0,:steady_start] = self.L[0,:steady_start]/self.Labor[:steady_start]\n",
    "        self.L_share[1,:steady_start] = self.L[1,:steady_start]/self.Labor[:steady_start]\n",
    "            \n",
    "        self.lmbda_to_price[0,:steady_start] = self.lmbda_to_price_steady\n",
    "        self.lmbda_to_price[1,:steady_start] = self.lmbda_to_price_steady\n",
    "        \n",
    "            \n",
    "        \n",
    "        \n",
    "\n",
    "    def update_guess(self):\n",
    "\n",
    "        for t in range(1, self.T-self.G + 1):\n",
    "            self.update_government(t)\n",
    "        # Households (analytical solution)\n",
    "        for s in range(2):\n",
    "            for t in range(self.T-self.G + 1):\n",
    "                for g in range(t, self.G+t):\n",
    "                    self.c[s, g, t],self.l[s, g, t],self.a[s, g, t]  = self.household(s,g,t)\n",
    "                    \n",
    "                    self.Consumption[t] = np.sum([self.c[s,g,t]*self.N[s,g,t] for g in range(t, self.G+t) for s in range(2)])\n",
    "                    self.Labor[t] = np.sum([self.l[s,g,t]*self.N[s,g,t]*self.epsilon[s,g,t] for g in range(t, self.G+t) for s in range(2)])\n",
    "                    self.Assets[t] =  np.sum([self.a[s,g,t]*self.N[s,g,t] for g in range(t, self.G+t) for s in range(2)])\n",
    "\n",
    "        for t in range(1, self.T-self.G + 1):\n",
    "            z_guess = np.array([self.i[0,t],self.k[0,t+1],self.L_share[0,t],\n",
    "                       self.lmbda_to_price[0,t], self.i[1,t],self.k[1,t+1],\n",
    "                       self.lmbda_to_price[1,t],\n",
    "                       self.w[t], self.price_N[t], self.price[t]])\n",
    "\n",
    "\n",
    "            def equilibrium(z, self=self, t = t):\n",
    "                i_N, k_N, L_N_share, lmbda_N_to_price,\\\n",
    "                    i_E, k_E, lmbda_E_to_price,\\\n",
    "                    w, price, price_N = z\n",
    "                system =(\n",
    "                  price_N * self.A[0, t] * (self.k[0, t]/L_N_share)**self.alpha - w\\\n",
    "                )**2+\\\n",
    "                ( (1+tau_VA[t])*price - lmbda_N_to_price * price* (1-self.psi/2 *(i_N/self.i[0,t-1]*self.K[0,t]/self.K[0, t-1] - 1)**2\\\n",
    "                   - self.psi * (i_N/self.i[0,t-1]*self.K[0,t]/self.K[0, t-1]) * \\\n",
    "                                          (i_N/self.i[0,t-1]*self.K[0,t]/self.K[0, t-1] - 1) )-\\\n",
    "                   self.lmbda_to_price[0,t+1]*self.price[t+1]*self.psi/(1+self.r[t+1]) *\\\n",
    "                   (self.i[0,t+1]/i_N*k_N*self.A[0, t+1]*self.Labor[t+1]/self.K[0,t] )**2 *\\\n",
    "                (self.i[0,t+1]/i_N*k_N*self.A[0, t+1]*self.Labor[t+1]/self.K[0,t] -1)\n",
    "                )**2+\\\n",
    "                ( 1/(self.r[t+1]) * ((1-self.tau_pi[t+1]) * self.alpha * self.price_N[t+1] *\\\n",
    "                                              (k_N/L_N_share)**(self.alpha-1) +\\\n",
    "                                              self.tau_pi[t+1] * self.delta * self.price[t+1] +\\\n",
    "                                              self.lmbda_to_price[0, t+1]*self.price[t+1] * (1-self.delta) ) -\\\n",
    "                lmbda_N_to_price * price\\\n",
    "                )**2+\\\n",
    "                ( (1-self.delta)+\\\n",
    "                           i_N * (1-self.psi / 2 *(i_N/self.i[0,t-1]*self.K[0,t]/self.K[0, t-1] - 1)**2 ) -\\\n",
    "                k_N*self.A[0, t+1]*self.Labor[t+1]/self.K[0,t]\\\n",
    "                )**2+\\\n",
    "                (\n",
    "                self.price_E[t] * self.A[1, t] * (self.k[1, t]/(1-L_N_share)*self.A[0,t]/self.A[1,t])**self.alpha - w\n",
    "                )**2+\\\n",
    "                ( (1+tau_VA[t])*price - lmbda_E_to_price*price * (1-self.psi/2 *(i_E/self.i[1,t-1]*self.K[1,t]/self.K[1, t-1] - 1)**2\\\n",
    "                   - self.psi * (i_E/self.i[1,t-1]*self.K[1,t]/self.K[1, t-1]) * \\\n",
    "                                          (i_E/self.i[1,t-1]*self.K[1,t]/self.K[1, t-1] - 1) )-\\\n",
    "                   self.lmbda_to_price[1,t+1]*self.price[t+1]*self.psi/(1+self.r[t+1]) *\\\n",
    "                   (self.i[1,t+1]/i_E*k_E*self.A[1, t+1]*self.Labor[t+1]/self.K[1,t] )**2 *\\\n",
    "                (self.i[1,t+1]/i_E*k_E*self.A[1, t+1]*self.Labor[t+1]/self.K[1,t] -1)\n",
    "                )**2+\\\n",
    "                ( 1/(self.r[t+1]) * ((1-self.tau_pi[t+1]) * self.alpha * self.price_E[t+1] *\\\n",
    "                                              (k_E/(1-L_N_share)*self.A[0,t]/self.A[1,t])**(self.alpha-1) +\\\n",
    "                                              self.tau_pi[t+1] * self.delta * self.price[t+1] +\\\n",
    "                                              self.lmbda_to_price[1, t+1]*self.price[t+1] * (1-self.delta) ) -\\\n",
    "                lmbda_E_to_price * price\\\n",
    "                )**2+\\\n",
    "                ((1-self.delta)+\\\n",
    "                           i_E * (1-self.psi / 2 *(i_E/self.i[1,t-1]*self.K[1,t]/self.K[1, t-1] - 1)**2 ) -\\\n",
    "                k_E*self.A[1, t+1]*self.Labor[t+1]/self.K[1,t]\n",
    "                )**2+\\\n",
    "                ( price - (self.price_M[t])**self.omega * (price_N)**(1-self.omega)\\\n",
    "                )**2+\\\n",
    "                ( self.k[0,t]**self.alpha *\\\n",
    "                - self.Gov[t]/(self.A[0,t]*self.Labor[t]) - \\\n",
    "                (1-self.omega) * price / price_N * \\\n",
    "                (self.Consumption[t]/(self.A[0,t]*self.Labor[t]) +\\\n",
    "                i_N*k_N/L_N_share + i_E*k_E/(1-L_N_share))\n",
    "                 )**2\n",
    "            \n",
    "                return system\n",
    "  \n",
    "\n",
    "            \n",
    "            obj_jit = jit(equilibrium)\n",
    "            obj_grad = jit(jacfwd(obj_jit))\n",
    "            obj_hess = jit(jacrev(jacfwd(obj_jit)))\n",
    "        \n",
    "        \n",
    "            result = minimize_ipopt(obj_jit, jac=obj_grad, hess=obj_hess, x0=z_guess\n",
    "                                , options = {\"max_iter\":self.steady_max_iter, \"print_level\":0,\n",
    "                                             \"check_derivatives_for_naninf\":\"yes\"}\n",
    "                                , tol=1e-5)\n",
    "            z = result[\"x\"]\n",
    "            \n",
    "            self.i[0,t],self.k[0,t+1],self.L_share[0,t],\\\n",
    "            self.lmbda_to_price[0,t], self.i[1,t],self.k[1,t+1],\\\n",
    "            self.lmbda_to_price[1,t],\\\n",
    "            self.w[t], self.price_N[t], self.price[t] = self.eta*z+(1-self.eta)*z_guess\n",
    "            self.L_share[1,t] = 1- self.L_share[0,t]\n",
    "            \n",
    "            # Market clearing (analytical solution)\n",
    "#             self.Y = self.K**self.alpha * (self.L*self.A)**(1-self.alpha)\n",
    "#             self.D = self.I.sum(axis = 0)+(self.N[:,:self.c.shape[1],:]*self.c[:,:self.c.shape[1],:]).sum(axis=0).sum(axis =0)\n",
    "#             self.M =  self.omega * self.D * self.price / self.price_M\n"
   ]
  },
  {
   "cell_type": "code",
   "execution_count": 590,
   "metadata": {
    "pycharm": {
     "name": "#%%\n"
    }
   },
   "outputs": [],
   "source": [
    "# import pyreadr\n",
    "# import numpy as np\n",
    "# demography = {name:np.array(pyreadr.read_r(f\"{name}.Rda\")[name]) for name in [\"Pi_female\", \"Pi_female_steady\", \"Pi_male\", \"Pi_male_steady\",\"N_female\", \"N_male\",\"N_female_steady\",\"N_male_steady\"]}\n",
    "# np.save('demography.npy', demography)"
   ]
  },
  {
   "cell_type": "code",
   "execution_count": 591,
   "metadata": {
    "pycharm": {
     "name": "#%%\n"
    }
   },
   "outputs": [],
   "source": [
    "demography = np.load('demography.npy',allow_pickle='TRUE').item()"
   ]
  },
  {
   "cell_type": "code",
   "execution_count": 592,
   "metadata": {
    "pycharm": {
     "name": "#%%\n"
    }
   },
   "outputs": [],
   "source": [
    "epsilon_female =epsilon_male= np.array([[np.exp(-0.001*(96-g+t)**2+25*0.001*2*(96-g+t)) if ((96-g+t) > 0 and (96-g+t)<=96) else 0  for g in range(demography[\"N_female\"].shape[1]) ] for t in range(demography[\"N_female\"].shape[0])])"
   ]
  },
  {
   "cell_type": "code",
   "execution_count": 593,
   "metadata": {
    "pycharm": {
     "name": "#%%\n"
    }
   },
   "outputs": [],
   "source": [
    "rho_female = np.array([[1 if ((96-g+t) >= 46 and (96-g+t)<=96) else 0  for g in range(demography[\"N_female\"].shape[1]) ] for t in range(demography[\"N_female\"].shape[0])])\n",
    "rho_male = np.array([[1 if ((96-g+t) >= 51 and (96-g+t)<=96) else 0  for g in range(demography[\"N_female\"].shape[1]) ] for t in range(demography[\"N_female\"].shape[0])])\n",
    "\n",
    "max_time = demography[\"N_female\"].shape[0]\n",
    "sigma = np.array([0.5 for _ in range(max_time)])\n",
    "r = np.array([0.03 for _ in range(max_time)])\n",
    "price_M = np.array([.1 for _ in range(max_time)])\n",
    "price_E = np.array([.1 for _ in range(max_time)])\n",
    "tau_I = np.array([0.13 for _ in range(max_time)])\n",
    "tau_II = np.array([0. for _ in range(max_time)])\n",
    "tau_Ins = np.array([0.08 for _ in range(max_time)])\n",
    "tau_pi = np.array([0.2 for _ in range(max_time)])\n",
    "tau_VA = np.array([0.18 for _ in range(max_time)])\n",
    "tau_rho = np.array([0.22 for _ in range(max_time)])\n",
    "A_N = np.array([1. for _ in range(max_time)])\n",
    "A_E = np.array([1. for _ in range(max_time)])\n"
   ]
  },
  {
   "cell_type": "code",
   "execution_count": 594,
   "metadata": {
    "pycharm": {
     "name": "#%%\n"
    }
   },
   "outputs": [],
   "source": [
    "demography[\"N_female\"]=demography[\"N_male\"]\n",
    "N = np.array([demography[\"N_female\"].transpose()/1000,demography[\"N_male\"].transpose()/1000])\n",
    "Pi = np.array([(demography[f\"N_{sex}male\"]/np.max(demography[\"N_female\"], axis=0)+(1-np.tri(*demography[f\"N_{sex}male\"].shape, k=95))).transpose() for sex in (\"fe\", \"\")])\n",
    "Pi[Pi<0] = 0.01\n",
    "epsilon = np.array([epsilon_female.transpose(), epsilon_male.transpose()])\n",
    "rho = np.array([rho_female.transpose(), rho_male.transpose()])\n",
    "A = np.array([A_N, A_E])\n",
    "# a_initial = np.array([[-(96-g)/10 if g < 96 else 0 for g in range(demography[\"N_female\"].shape[1])] for s in range(2)])\n",
    "# guess = {\"price_N\":np.array([.00001 for _ in range(max_time)]),\n",
    "#          \"K_N\":np.array([5000. for _ in range(max_time)]),\n",
    "#          \"L_N\":np.array([85000. for _ in range(max_time)]),\n",
    "#          \"K_E\":np.array([5000. for _ in range(max_time)]),\n",
    "#          \"L_E\":np.array([85000. for _ in range(max_time)]),\n",
    "#          \"Gov\":np.array([1. for _ in range(max_time)]),\n",
    "#          \"steady\":np.array([15., 2000.,35000.,1., 15., 2000.,50000.,-0.8,0.06, .00001, .00001])}\n",
    "initial = {\"a\":np.array([[-(96-g)/10 if g < 96 else 0 for g in range(demography[\"N_female\"].shape[1])] for s in range(2)]),\n",
    "                \"price_N\":.1,\n",
    "                 \"K_N\":5.,\n",
    "                 \"L_N\":35.,\n",
    "                 \"I_N\":0.1,\n",
    "                 \"K_E\":5.,\n",
    "                 \"L_E\":50.,\n",
    "                 \"Gov\":5.,\n",
    "                 \"Debt\":-1.,\n",
    "                 \"I_E\":0.1}\n",
    "steady_guess = np.array([1.55169913e+00,  5.05142101e-02,  2.91663738e+01,  2.08788575e-01,\n",
    "        1.00000000e-01,  1.00000001e-01])\n",
    "# steady state\n",
    "# [ 1.55169913e+00,  5.05142101e-02,  2.91663738e+01,  2.08788575e-01,\n",
    "#         1.00000000e-01,  1.00000001e-01,  4.82953469e-02,  8.82916686e+01,\n",
    "#        -6.42938235e+01]"
   ]
  },
  {
   "cell_type": "code",
   "execution_count": 595,
   "metadata": {
    "pycharm": {
     "name": "#%%\n"
    }
   },
   "outputs": [],
   "source": [
    "# надо исправить\n",
    "# Beq_female_to_female = Beq_female_to_male = Beq_male_to_female = Beq_male_to_male = np.zeros_like(demography[\"N_female\"])"
   ]
  },
  {
   "cell_type": "code",
   "execution_count": 596,
   "metadata": {
    "pycharm": {
     "name": "#%%\n"
    }
   },
   "outputs": [],
   "source": [
    "olg = OLG_model(G=96,T=250,N=N,epsilon=epsilon, rho=rho, sigma = sigma,Pi=Pi,r = r,price_M =price_M, price_E=price_E, tau_I=tau_I,tau_II=tau_II,tau_Ins=tau_Ins, tau_pi=tau_pi, tau_VA=tau_VA, tau_rho=tau_rho, beta = 0.995, phi = 0.8, theta = 0.5, psi = 5., omega=0.4, alpha = 1/3, delta=0.01, A=A,initial=initial, eta =0.25,steady_max_iter=10000, steady_guess=steady_guess)"
   ]
  },
  {
   "cell_type": "code",
   "execution_count": 597,
   "metadata": {},
   "outputs": [],
   "source": [
    "tol = 10e-4"
   ]
  },
  {
   "cell_type": "markdown",
   "metadata": {},
   "source": [
    "Ищем steady state"
   ]
  },
  {
   "cell_type": "code",
   "execution_count": 598,
   "metadata": {
    "pycharm": {
     "name": "#%%\n"
    }
   },
   "outputs": [],
   "source": [
    "with warnings.catch_warnings():\n",
    "    warnings.simplefilter(\"ignore\")\n",
    "    for _ in range(3):\n",
    "        olg.steady_state()\n",
    "        if (len(olg.steady_path)>1) and \\\n",
    "            (max(abs(olg.steady_path[-1][1] - olg.steady_path[-2][1]))<tol):\n",
    "                break\n",
    "olg.create_guess()\n"
   ]
  },
  {
   "cell_type": "code",
   "execution_count": null,
   "metadata": {},
   "outputs": [],
   "source": []
  },
  {
   "cell_type": "code",
   "execution_count": 599,
   "metadata": {},
   "outputs": [
    {
     "name": "stdout",
     "output_type": "stream",
     "text": [
      "[1.94741825e-02 3.52517607e-02 2.55851604e-03 1.05616022e+02\n",
      " 6.09357535e-03 1.13090636e-01 2.00434930e+02 6.10844980e-02\n",
      " 3.83872609e-02 2.02745328e-02]\n",
      "[1.83954344e-02 4.22439804e-02 4.03918481e-03 9.02860495e+01\n",
      " 6.70103279e-03 2.03937245e-01 1.42722425e+02 6.88730938e-02\n",
      " 4.52507519e-02 2.66586211e-02]\n",
      "[1.73998608e-02 4.94712917e-02 6.81267591e-03 7.84324572e+01\n",
      " 7.47488707e-03 2.99938727e-01 1.11379867e+02 7.81865446e-02\n",
      " 5.27420415e-02 3.44278891e-02]\n",
      "[1.65628031e-02 5.69396840e-02 9.28544783e-01 3.90687246e+01\n",
      " 7.96348901e-03 4.00572315e-01 1.69885460e+01 2.06096662e-01\n",
      " 2.46125988e-01 4.48671671e-01]\n",
      "[1.58921929e-02 6.46596169e-02 3.80430408e-01 4.97415852e+01\n",
      " 8.34600926e-03 5.05614227e-01 3.59893375e+01 1.07869697e-01\n",
      " 1.36638299e-01 1.68243186e-01]\n",
      "[1.53328152e-02 7.26348611e-02 4.74120444e-01 4.67108603e+01\n",
      " 8.60162339e-03 6.14905025e-01 3.13472169e+01 1.21590514e-01\n",
      " 1.49949825e-01 1.98514279e-01]\n",
      "[1.48624318e-02 8.08180598e-02 5.63866357e-01 4.44145084e+01\n",
      " 8.78531753e-03 7.27857193e-01 2.81671720e+01 1.38223156e-01\n",
      " 1.60876030e-01 2.35363828e-01]\n",
      "[1.44623216e-02 8.92110755e-02 6.21896772e-01 4.28272127e+01\n",
      " 8.92497562e-03 8.44398073e-01 2.64989391e+01 1.53457990e-01\n",
      " 1.66795719e-01 2.65696126e-01]\n",
      "[1.41188421e-02 9.78500792e-02 6.38936282e-01 4.24468507e+01\n",
      " 9.03683528e-03 9.64805117e-01 2.64270558e+01 1.63592839e-01\n",
      " 1.65030042e-01 2.80886525e-01]\n",
      "[1.38215386e-02 1.06760085e-01 6.31840700e-01 4.33033147e+01\n",
      " 9.12974251e-03 1.08933416e+00 2.75475535e+01 1.69286906e-01\n",
      " 1.57216530e-01 2.84024889e-01]\n",
      "[1.35628853e-02 1.15838299e-01 5.94057194e-01 4.63369362e+01\n",
      " 9.21015420e-03 1.21697453e+00 3.06444156e+01 1.69074342e-01\n",
      " 1.41206130e-01 2.71418170e-01]\n",
      "[1.33461650e-02 1.25074168e-01 2.52235299e-01 8.03923121e+01\n",
      " 9.29809068e-03 1.34808853e+00 6.80152896e+01 1.36299168e-01\n",
      " 6.61561076e-02 1.54739211e-01]\n",
      "[1.31435917e-02 1.34547742e-01 2.95770106e-01 7.74248481e+01\n",
      " 9.35721551e-03 1.48213634e+00 6.36437124e+01 1.44331940e-01\n",
      " 6.97752837e-02 1.71003999e-01]\n",
      "[1.29763166e-02 1.44226021e-01 2.12289565e-05 1.60714796e+07\n",
      " 9.42572369e-03 1.62026185e+00 1.87150994e+07 1.28787368e-01\n",
      " 2.42771623e-07 6.08336146e-03]\n",
      "[1.28144399e-02 1.53964519e-01 1.94401515e-05 1.99612021e+07\n",
      " 9.47221016e-03 1.75937905e+00 2.30699475e+07 1.31987416e-01\n",
      " 1.95442088e-07 5.94986790e-03]\n",
      "[1.26647223e-02 1.63946376e-01 1.89007214e-05 2.23735719e+07\n",
      " 9.50947628e-03 1.90212057e+00 2.56816572e+07 1.35022774e-01\n",
      " 1.74386837e-07 5.92955650e-03]\n",
      "[1.25275952e-02 1.74181193e-01 1.83006890e-05 2.52340733e+07\n",
      " 9.54148916e-03 2.04860700e+00 2.87853301e+07 1.37949613e-01\n",
      " 1.54605815e-07 5.89785881e-03]\n",
      "[1.24020067e-02 1.84677206e-01 1.70985066e-05 3.02200783e+07\n",
      " 9.56975238e-03 2.19894666e+00 3.42776058e+07 1.40792251e-01\n",
      " 1.29094759e-07 5.79520922e-03]\n",
      "[1.22866901e-02 1.95440029e-01 1.63905455e-05 3.46333846e+07\n",
      " 9.59502286e-03 2.35322281e+00 3.90783934e+07 1.43533730e-01\n",
      " 1.12632858e-07 5.73976875e-03]\n",
      "[1.21804710e-02 2.06474204e-01 1.62305412e-05 3.75435785e+07\n",
      " 9.61778963e-03 2.51150417e+00 4.21575383e+07 1.46180439e-01\n",
      " 1.03899994e-07 5.74345983e-03]\n",
      "[1.20823235e-02 2.17782603e-01 1.57043277e-05 4.23050972e+07\n",
      " 9.63841755e-03 2.67383603e+00 4.72919938e+07 1.48761893e-01\n",
      " 9.22061147e-08 5.70181081e-03]\n",
      "[1.19913643e-02 2.29364922e-01 1.50139529e-05 4.86225440e+07\n",
      " 9.65719723e-03 2.84022667e+00 5.41286212e+07 1.51279209e-01\n",
      " 8.02232826e-08 5.63655226e-03]\n",
      "[1.19068325e-02 2.41217373e-01 1.53052949e-05 5.00656756e+07\n",
      " 9.67436711e-03 3.01064300e+00 5.55188728e+07 1.53709021e-01\n",
      " 7.79100370e-08 5.68922984e-03]\n",
      "[1.18280701e-02 2.53332235e-01 1.44233759e-05 5.88830877e+07\n",
      " 9.69012580e-03 3.18498740e+00 6.50613053e+07 1.56109263e-01\n",
      " 6.62368136e-08 5.59485142e-03]\n",
      "[1.17545062e-02 2.65696704e-01 1.45426706e-05 6.16763048e+07\n",
      " 9.70464044e-03 3.36311091e+00 6.79168875e+07 1.58429729e-01\n",
      " 6.32452243e-08 5.62441012e-03]\n",
      "[1.16856425e-02 2.78294715e-01 1.42638572e-05 6.76401691e+07\n",
      " 9.71805276e-03 3.54480415e+00 7.42485621e+07 1.60708366e-01\n",
      " 5.76675001e-08 5.60209409e-03]\n",
      "[1.16210425e-02 2.91104432e-01 1.40508423e-05 7.35597231e+07\n",
      " 9.73048378e-03 3.72978643e+00 8.05070449e+07 1.62936329e-01\n",
      " 5.30274694e-08 5.58686720e-03]\n",
      "[1.15603222e-02 3.04099739e-01 1.39172311e-05 7.91532404e+07\n",
      " 9.74203743e-03 3.91771440e+00 8.63879626e+07 1.65115499e-01\n",
      " 4.92793191e-08 5.58095118e-03]\n",
      "[1.15031422e-02 3.17247902e-01 1.38552155e-05 8.43152957e+07\n",
      " 9.75280352e-03 4.10815272e+00 9.17818498e+07 1.67247908e-01\n",
      " 4.62573218e-08 5.58367471e-03]\n",
      "[1.14492018e-02 3.30512131e-01 1.38236622e-05 8.93571487e+07\n",
      " 9.76286003e-03 4.30060612e+00 9.70323352e+07 1.69335979e-01\n",
      " 4.36494749e-08 5.58972595e-03]\n",
      "[1.13982331e-02 3.43852502e-01 1.35667020e-05 9.72520938e+07\n",
      " 9.77227497e-03 4.49453015e+00 1.05363695e+08 1.71386963e-01\n",
      " 4.01079769e-08 5.56487456e-03]\n",
      "[1.13499973e-02 3.57227469e-01 1.36655487e-05 1.01050437e+08\n",
      " 9.78110796e-03 4.68935762e+00 1.09243598e+08 1.73387750e-01\n",
      " 3.85983628e-08 5.58730633e-03]\n",
      "[1.13042801e-02 3.70598054e-01 1.33301300e-05 1.10729411e+08\n",
      " 9.78941145e-03 4.88454017e+00 1.19467029e+08 1.75358010e-01\n",
      " 3.52232440e-08 5.55026022e-03]\n",
      "[1.12608895e-02 3.83927594e-01 1.34144488e-05 1.14812706e+08\n",
      " 9.79723176e-03 5.07956604e+00 1.23638983e+08 1.77278098e-01\n",
      " 3.39695732e-08 5.56991046e-03]\n",
      "[1.12196523e-02 3.97185159e-01 1.36154866e-05 1.17090837e+08\n",
      " 9.80460995e-03 5.27398831e+00 1.25869324e+08 1.79156150e-01\n",
      " 3.33108377e-08 5.60500752e-03]\n",
      "[1.11804119e-02 4.10345406e-01 1.36802986e-05 1.21254935e+08\n",
      " 9.81158256e-03 5.46743215e+00 1.30129784e+08 1.80998937e-01\n",
      " 3.21647899e-08 5.62115779e-03]\n",
      "[1.11430268e-02 4.23390019e-01 1.33750884e-05 1.31338974e+08\n",
      " 9.81818219e-03 5.65961542e+00 1.40733490e+08 1.82812693e-01\n",
      " 2.96941994e-08 5.58641605e-03]\n",
      "[1.11073684e-02 4.36307853e-01 1.32981287e-05 1.37987190e+08\n",
      " 9.82443802e-03 5.85035894e+00 1.47641638e+08 1.84584787e-01\n",
      " 2.82668065e-08 5.58235289e-03]\n",
      "[1.10733199e-02 4.49095948e-01 1.31833932e-05 1.45420401e+08\n",
      " 9.83037623e-03 6.03958853e+00 1.55381450e+08 1.86322625e-01\n",
      " 2.68206377e-08 5.57268261e-03]\n",
      "[1.10407746e-02 4.61758571e-01 1.30349648e-05 1.53712915e+08\n",
      " 9.83602042e-03 6.22733151e+00 1.64029531e+08 1.88027555e-01\n",
      " 2.53742393e-08 5.55783976e-03]\n",
      "[1.10096352e-02 4.74306024e-01 1.31382452e-05 1.56972080e+08\n",
      " 9.84139188e-03 6.41370289e+00 1.67302141e+08 1.89694667e-01\n",
      " 2.48477223e-08 5.57804068e-03]\n",
      "[1.09798124e-02 4.86754191e-01 1.32548669e-05 1.59821531e+08\n",
      " 9.84650989e-03 6.59889246e+00 1.70141177e+08 1.91331109e-01\n",
      " 2.44045876e-08 5.59981670e-03]\n",
      "[1.09512245e-02 4.99123209e-01 1.31243692e-05 1.67829691e+08\n",
      " 9.85139193e-03 6.78315130e+00 1.78469494e+08 1.92944362e-01\n",
      " 2.32382388e-08 5.58678875e-03]\n",
      "[1.09237963e-02 5.11433656e-01 1.30873646e-05 1.73930638e+08\n",
      " 9.85605391e-03 6.96674626e+00 1.84762685e+08 1.94528550e-01\n",
      " 2.24212344e-08 5.58659873e-03]\n",
      "[1.08974587e-02 5.23707102e-01 1.31911103e-05 1.76813900e+08\n",
      " 9.86051035e-03 7.14995918e+00 1.87636376e+08 1.96084332e-01\n",
      " 2.20552324e-08 5.60600482e-03]\n",
      "[1.08721479e-02 5.35965336e-01 1.33254825e-05 1.78940461e+08\n",
      " 9.86477450e-03 7.33307673e+00 1.89709733e+08 1.97615776e-01\n",
      " 2.17966690e-08 5.62941094e-03]\n",
      "[1.08478050e-02 5.48229842e-01 1.31649986e-05 1.88001157e+08\n",
      " 9.86885851e-03 7.51638226e+00 1.99131313e+08 1.99131373e-01\n",
      " 2.07462377e-08 5.61135537e-03]\n",
      "[1.08243755e-02 5.60518011e-01 1.30980060e-05 1.95021463e+08\n",
      " 9.87277351e-03 7.70011346e+00 2.06382952e+08 2.00624112e-01\n",
      " 1.99962830e-08 5.60619618e-03]\n",
      "[1.08018090e-02 5.72843916e-01 1.32137758e-05 1.97470485e+08\n",
      " 9.87652977e-03 7.88446124e+00 2.08794381e+08 2.02093354e-01\n",
      " 1.97498345e-08 5.62662351e-03]\n",
      "[1.07800587e-02 5.85218157e-01 1.32415176e-05 2.02167536e+08\n",
      " 9.88013671e-03 8.06956662e+00 2.13582739e+08 2.03545975e-01\n",
      " 1.92907463e-08 5.63449574e-03]\n",
      "[1.07590809e-02 5.97647307e-01 1.31244038e-05 2.10856886e+08\n",
      " 9.88360306e-03 8.25551812e+00 2.22583489e+08 2.04984044e-01\n",
      " 1.84972574e-08 5.62176782e-03]\n",
      "[1.07388354e-02 6.10131952e-01 1.31657166e-05 2.15318266e+08\n",
      " 9.88693686e-03 8.44232695e+00 2.27115578e+08 2.06401922e-01\n",
      " 1.81126575e-08 5.63131063e-03]\n",
      "[1.07192845e-02 6.22667185e-01 1.31251567e-05 2.22182020e+08\n",
      " 9.89014558e-03 8.62992122e+00 2.34178409e+08 2.07805243e-01\n",
      " 1.75535759e-08 5.62911372e-03]\n",
      "[1.07003929e-02 6.35243996e-01 1.30065877e-05 2.31541334e+08\n",
      " 9.89323613e-03 8.81817497e+00 2.43864738e+08 2.09194287e-01\n",
      " 1.68431642e-08 5.61567529e-03]\n"
     ]
    },
    {
     "name": "stdout",
     "output_type": "stream",
     "text": [
      "[1.06821279e-02 6.47848742e-01 1.31207745e-05 2.33930577e+08\n",
      " 9.89621493e-03 9.00690101e+00 2.46206353e+08 2.10562877e-01\n",
      " 1.66708054e-08 5.63525249e-03]\n",
      "[1.06644588e-02 6.60465587e-01 1.32477399e-05 2.35897872e+08\n",
      " 9.89908796e-03 9.19587383e+00 2.48106428e+08 2.11915767e-01\n",
      " 1.65326277e-08 5.65643794e-03]\n",
      "[1.06473570e-02 6.73076705e-01 1.32150934e-05 2.42770067e+08\n",
      " 9.90186076e-03 9.38483956e+00 2.55165116e+08 2.13256505e-01\n",
      " 1.60651845e-08 5.65492718e-03]\n",
      "[1.06307955e-02 6.85663107e-01 1.32538570e-05 2.47398206e+08\n",
      " 9.90453851e-03 9.57353228e+00 2.59862932e+08 2.14580387e-01\n",
      " 1.57640462e-08 5.66343276e-03]\n",
      "[1.06147492e-02 6.98207920e-01 1.32136540e-05 2.54589469e+08\n",
      " 9.90712604e-03 9.76170929e+00 2.67251211e+08 2.15890441e-01\n",
      " 1.53187258e-08 5.66066139e-03]\n",
      "[1.05991942e-02 7.10695843e-01 1.30094921e-05 2.67566860e+08\n",
      " 9.90962785e-03 9.94914966e+00 2.80706808e+08 2.17188386e-01\n",
      " 1.45765614e-08 5.63436925e-03]\n",
      "[1.05841086e-02 7.23114326e-01 1.29242339e-05 2.76692182e+08\n",
      " 9.91204814e-03 1.01356760e+01 2.90113228e+08 2.18468603e-01\n",
      " 1.40942263e-08 5.62486464e-03]\n",
      "[1.05694713e-02 7.35455069e-01 1.31751553e-05 2.73568226e+08\n",
      " 9.91439084e-03 1.03211688e+01 2.86677694e+08 2.19726937e-01\n",
      " 1.42552594e-08 5.66342698e-03]\n",
      "[1.05552625e-02 7.47714930e-01 1.32825179e-05 2.75563889e+08\n",
      " 9.91665963e-03 1.05055708e+01 2.88613758e+08 2.20973228e-01\n",
      " 1.41533532e-08 5.68122408e-03]\n",
      "[1.05414639e-02 7.59894483e-01 1.34071437e-05 2.76816255e+08\n",
      " 9.91885796e-03 1.06888866e+01 2.89774828e+08 2.22204587e-01\n",
      " 1.40893068e-08 5.70133032e-03]\n",
      "[1.05280578e-02 7.71998563e-01 1.32788531e-05 2.87122324e+08\n",
      " 9.92098905e-03 1.08711743e+01 3.00412960e+08 2.23426637e-01\n",
      " 1.35821652e-08 5.68567431e-03]\n",
      "[1.05150278e-02 7.84036199e-01 1.31201828e-05 2.98939611e+08\n",
      " 9.92305593e-03 1.10525595e+01 3.12625813e+08 2.24635542e-01\n",
      " 1.30458679e-08 5.66544099e-03]\n",
      "[1.05023582e-02 7.96019434e-01 1.32531989e-05 2.99473884e+08\n",
      " 9.92506146e-03 1.12332131e+01 3.13036829e+08 2.25825642e-01\n",
      " 1.30224748e-08 5.68669405e-03]\n",
      "[1.04900343e-02 8.07963267e-01 1.33900653e-05 2.99783352e+08\n",
      " 9.92700831e-03 1.14133388e+01 3.13216757e+08 2.27003174e-01\n",
      " 1.30082911e-08 5.70832828e-03]\n",
      "[1.04780422e-02 8.19885045e-01 1.33798732e-05 3.05781772e+08\n",
      " 9.92889901e-03 1.15931764e+01 3.19341913e+08 2.28171636e-01\n",
      " 1.27542836e-08 5.70905426e-03]\n",
      "[1.04663685e-02 8.31802962e-01 1.33410250e-05 3.12943185e+08\n",
      " 9.93073592e-03 1.17729836e+01 3.26679323e+08 2.29329428e-01\n",
      " 1.24623896e-08 5.70568487e-03]\n",
      "[1.04550009e-02 8.43735438e-01 1.34424602e-05 3.14477956e+08\n",
      " 9.93252131e-03 1.19530229e+01 3.28142254e+08 2.30474061e-01\n",
      " 1.24019216e-08 5.72208177e-03]\n",
      "[1.04439274e-02 8.55700938e-01 1.34288192e-05 3.20658450e+08\n",
      " 9.93425729e-03 1.21335516e+01 3.34452773e+08 2.31610991e-01\n",
      " 1.21625929e-08 5.72218354e-03]\n",
      "[1.04331367e-02 8.67716478e-01 1.33278072e-05 3.30627746e+08\n",
      " 9.93594586e-03 1.23148119e+01 3.44711262e+08 2.32740308e-01\n",
      " 1.17960513e-08 5.70985247e-03]\n",
      "[1.04226182e-02 8.79797138e-01 1.34555420e-05 3.30969735e+08\n",
      " 9.93758893e-03 1.24970246e+01 3.44930127e+08 2.33856727e-01\n",
      " 1.17832389e-08 5.72985089e-03]\n",
      "[1.04123617e-02 8.91955866e-01 1.34471604e-05 3.37152641e+08\n",
      " 9.93918831e-03 1.26803687e+01 3.51236428e+08 2.34967546e-01\n",
      " 1.15670360e-08 5.73054366e-03]\n",
      "[1.04023575e-02 9.04202292e-01 1.33100343e-05 3.49196656e+08\n",
      " 9.94074569e-03 1.28649831e+01 3.63644004e+08 2.36073048e-01\n",
      " 1.11685780e-08 5.71293170e-03]\n",
      "[1.03925964e-02 9.16541784e-01 1.35528596e-05 3.44407610e+08\n",
      " 9.94226271e-03 1.30509558e+01 3.58520531e+08 2.37164297e-01\n",
      " 1.13231548e-08 5.74905021e-03]\n",
      "[1.03830696e-02 9.28977321e-01 1.36165541e-05 3.47617948e+08\n",
      " 9.94374091e-03 1.32383211e+01 3.61727535e+08 2.38251818e-01\n",
      " 1.12183475e-08 5.75974073e-03]\n",
      "[1.03737689e-02 9.41507628e-01 1.35574324e-05 3.56350614e+08\n",
      " 9.94518176e-03 1.34270638e+01 3.70678927e+08 2.39334723e-01\n",
      " 1.09428233e-08 5.75316210e-03]\n",
      "[1.03646863e-02 9.54127979e-01 1.33849366e-05 3.70698513e+08\n",
      " 9.94658666e-03 1.36171186e+01 3.85465155e+08 2.40412956e-01\n",
      " 1.05202803e-08 5.73044475e-03]\n",
      "[1.03558142e-02 9.66829856e-01 1.36372243e-05 3.65228550e+08\n",
      " 9.94795694e-03 1.38083762e+01 3.79642010e+08 2.41476916e-01\n",
      " 1.06780127e-08 5.76763553e-03]\n",
      "[1.03471453e-02 9.79603759e-01 1.37289385e-05 3.67314278e+08\n",
      " 9.94929387e-03 1.40006909e+01 3.81676769e+08 2.42537094e-01\n",
      " 1.06174730e-08 5.78205593e-03]\n",
      "[1.03386727e-02 9.92437849e-01 1.34697587e-05 3.86126335e+08\n",
      " 9.95059866e-03 1.41938903e+01 4.01087745e+08 2.43596709e-01\n",
      " 1.00995187e-08 5.74722358e-03]\n",
      "[1.03303900e-02 1.00531795e+00 1.34855507e-05 3.92001143e+08\n",
      " 9.95187246e-03 1.43877850e+01 4.07053373e+08 2.44644607e-01\n",
      " 9.94904968e-09 5.75095412e-03]\n",
      "[1.03222907e-02 1.01823068e+00 1.35951378e-05 3.93107989e+08\n",
      " 9.95311637e-03 1.45821800e+01 4.08067976e+08 2.45683878e-01\n",
      " 9.91920269e-09 5.76792871e-03]\n",
      "[1.03143688e-02 1.03116305e+00 1.36163017e-05 3.98721513e+08\n",
      " 9.95433145e-03 1.47768852e+01 4.13761486e+08 2.46717610e-01\n",
      " 9.78084639e-09 5.77233213e-03]\n",
      "[1.03066185e-02 1.04410265e+00 1.36799561e-05 4.02113995e+08\n",
      " 9.95551867e-03 1.49717250e+01 4.17149879e+08 2.47743384e-01\n",
      " 9.69754488e-09 5.78270818e-03]\n",
      "[1.02990344e-02 1.05703903e+00 1.37243466e-05 4.06498172e+08\n",
      " 9.95667901e-03 1.51665473e+01 4.21567424e+08 2.48762191e-01\n",
      " 9.59358192e-09 5.79030678e-03]\n",
      "[1.02916112e-02 1.06996403e+00 1.36153994e-05 4.18855358e+08\n",
      " 9.95781337e-03 1.53612311e+01 4.34251515e+08 2.49776263e-01\n",
      " 9.31105289e-09 5.77638697e-03]\n",
      "[1.02843437e-02 1.08287139e+00 1.36028632e-05 4.26232620e+08\n",
      " 9.95892261e-03 1.55556907e+01 4.41769130e+08 2.50781285e-01\n",
      " 9.14904387e-09 5.77598158e-03]\n",
      "[1.02772272e-02 1.09575820e+00 1.35207490e-05 4.37546416e+08\n",
      " 9.96000757e-03 1.57498792e+01 4.53364177e+08 2.51780147e-01\n",
      " 8.91288920e-09 5.76569767e-03]\n",
      "[1.02702570e-02 1.10862363e+00 1.36373808e-05 4.37870864e+08\n",
      " 9.96106902e-03 1.59437895e+01 4.53571427e+08 2.52768343e-01\n",
      " 8.90682674e-09 5.78340815e-03]\n",
      "[1.02634286e-02 1.12146994e+00 1.38928452e-05 4.30587179e+08\n",
      " 9.96210773e-03 1.61374519e+01 4.45902123e+08 2.53747090e-01\n",
      " 9.05677835e-09 5.82038355e-03]\n",
      "[1.02567377e-02 1.13430248e+00 1.38037682e-05 4.42010523e+08\n",
      " 9.96312442e-03 1.63309307e+01 4.57607585e+08 2.54724682e-01\n",
      " 8.82282647e-09 5.80922251e-03]\n",
      "[1.02501802e-02 1.14712717e+00 1.37959678e-05 4.49104571e+08\n",
      " 9.96411978e-03 1.65243199e+01 4.64828088e+08 2.55694159e-01\n",
      " 8.68402002e-09 5.80933423e-03]\n",
      "[1.02437522e-02 1.15995218e+00 1.38276686e-05 4.53933876e+08\n",
      " 9.96509446e-03 1.67177361e+01 4.69703561e+08 2.56656470e-01\n",
      " 8.59084115e-09 5.81496806e-03]\n",
      "[1.02374499e-02 1.17278668e+00 1.39064754e-05 4.56119208e+08\n",
      " 9.96604911e-03 1.69113104e+01 4.71843446e+08 2.57611770e-01\n",
      " 8.54997647e-09 5.82709807e-03]\n",
      "[1.02312696e-02 1.18564066e+00 1.38364064e-05 4.66763222e+08\n",
      " 9.96698432e-03 1.71051824e+01 4.82732770e+08 2.58563562e-01\n",
      " 8.35408701e-09 5.81851772e-03]\n",
      "[1.02252078e-02 1.19852334e+00 1.38769061e-05 4.71171721e+08\n",
      " 9.96790067e-03 1.72994908e+01 4.87171049e+08 2.59507852e-01\n",
      " 8.27706765e-09 5.82525454e-03]\n",
      "[1.02192611e-02 1.21144413e+00 1.38447776e-05 4.79832506e+08\n",
      " 9.96879874e-03 1.74943675e+01 4.96004783e+08 2.60447914e-01\n",
      " 8.12745886e-09 5.82188866e-03]\n",
      "[1.02134264e-02 1.22441076e+00 1.39782549e-05 4.78682400e+08\n",
      " 9.96967905e-03 1.76899299e+01 4.94696419e+08 2.61380116e-01\n",
      " 8.14686884e-09 5.84153105e-03]\n",
      "[1.02077003e-02 1.23743097e+00 1.37323417e-05 5.00575811e+08\n",
      " 9.97054213e-03 1.78862768e+01 5.17200176e+08 2.62313560e-01\n",
      " 7.79069793e-09 5.80830714e-03]\n",
      "[1.02020801e-02 1.25050849e+00 1.39309198e-05 4.95252222e+08\n",
      " 9.97138847e-03 1.80834836e+01 5.11579432e+08 2.63235042e-01\n",
      " 7.87474285e-09 5.83706450e-03]\n",
      "[1.01965627e-02 1.26364772e+00 1.40029417e-05 4.97710443e+08\n",
      " 9.97221854e-03 1.82815999e+01 5.13999727e+08 2.64154028e-01\n",
      " 7.83438361e-09 5.84812595e-03]\n",
      "[1.01911453e-02 1.27685010e+00 1.39867801e-05 5.05749562e+08\n",
      " 9.97303283e-03 1.84806480e+01 5.22182931e+08 2.65070007e-01\n",
      " 7.71064647e-09 5.84687532e-03]\n",
      "[1.01858252e-02 1.29011482e+00 1.41552232e-05 5.02360833e+08\n",
      " 9.97383176e-03 1.86806239e+01 5.18566921e+08 2.65978714e-01\n",
      " 7.76284133e-09 5.87112680e-03]\n",
      "[1.01806000e-02 1.30344051e+00 1.41214682e-05 5.11475533e+08\n",
      " 9.97461577e-03 1.88814984e+01 5.27858516e+08 2.66886365e-01\n",
      " 7.62449680e-09 5.86746013e-03]\n",
      "[1.01754669e-02 1.31682314e+00 1.41260347e-05 5.18325356e+08\n",
      " 9.97538528e-03 1.90832198e+01 5.34810524e+08 2.67789173e-01\n",
      " 7.52417243e-09 5.86903959e-03]\n"
     ]
    },
    {
     "name": "stdout",
     "output_type": "stream",
     "text": [
      "[1.01704237e-02 1.33025814e+00 1.39941152e-05 5.34023842e+08\n",
      " 9.97614069e-03 1.92857178e+01 5.50889569e+08 2.68689893e-01\n",
      " 7.30197332e-09 5.85177749e-03]\n",
      "[1.01654680e-02 1.34373879e+00 1.41868435e-05 5.28825152e+08\n",
      " 9.97688237e-03 1.94889075e+01 5.45409859e+08 2.69581268e-01\n",
      " 7.37484456e-09 5.87928514e-03]\n",
      "[1.01605974e-02 1.35725987e+00 1.40456147e-05 5.45364754e+08\n",
      " 9.97761071e-03 1.96926957e+01 5.62350370e+08 2.70473594e-01\n",
      " 7.15037145e-09 5.86074498e-03]\n",
      "[1.01558100e-02 1.37081336e+00 1.42348005e-05 5.40210150e+08\n",
      " 9.97832607e-03 1.98969845e+01 5.56919319e+08 2.71356455e-01\n",
      " 7.21897733e-09 5.88770291e-03]\n",
      "[1.01511034e-02 1.38439397e+00 1.40538837e-05 5.59771074e+08\n",
      " 9.97902878e-03 2.01016770e+01 5.76968069e+08 2.72240707e-01\n",
      " 6.96710990e-09 5.86364539e-03]\n",
      "[1.01464758e-02 1.39799420e+00 1.41313903e-05 5.61921394e+08\n",
      " 9.97971919e-03 2.03066826e+01 5.79067837e+08 2.73116545e-01\n",
      " 6.94014337e-09 5.87523234e-03]\n",
      "[1.01419251e-02 1.41160857e+00 1.44256831e-05 5.49476383e+08\n",
      " 9.98039762e-03 2.05119201e+01 5.66130212e+08 2.73984645e-01\n",
      " 7.09656282e-09 5.91642781e-03]\n",
      "[1.01374494e-02 1.42523396e+00 1.41803247e-05 5.73507963e+08\n",
      " 9.98106437e-03 2.07173218e+01 5.90775791e+08 2.74856553e-01\n",
      " 6.79974645e-09 5.88367966e-03]\n",
      "[1.01330470e-02 1.43886506e+00 1.42784966e-05 5.74163444e+08\n",
      " 9.98171975e-03 2.09228360e+01 5.91337329e+08 2.75718748e-01\n",
      " 6.79214625e-09 5.89798778e-03]\n",
      "[1.01287159e-02 1.45250046e+00 1.42708772e-05 5.82155679e+08\n",
      " 9.98236405e-03 2.11284289e+01 5.99455497e+08 2.76578109e-01\n",
      " 6.69882252e-09 5.89776423e-03]\n",
      "[1.01244546e-02 1.46613929e+00 1.40732382e-05 6.04004022e+08\n",
      " 9.98299755e-03 2.13340843e+01 6.21838164e+08 2.77435936e-01\n",
      " 6.45635613e-09 5.87134552e-03]\n",
      "[1.01202612e-02 1.47978035e+00 1.43361933e-05 5.92486072e+08\n",
      " 9.98362051e-03 2.15398044e+01 6.09867784e+08 2.78282404e-01\n",
      " 6.58197922e-09 5.90830787e-03]\n",
      "[1.01161343e-02 1.49342627e+00 1.44162592e-05 5.94245645e+08\n",
      " 9.98423320e-03 2.17456074e+01 6.11568572e+08 2.79127358e-01\n",
      " 6.56256551e-09 5.92001608e-03]\n",
      "[1.01120722e-02 1.50707921e+00 1.43604747e-05 6.05759133e+08\n",
      " 9.98483587e-03 2.19515259e+01 6.23307251e+08 2.79970127e-01\n",
      " 6.43814676e-09 5.91316493e-03]\n",
      "[1.01080734e-02 1.52074156e+00 1.44902575e-05 6.03839193e+08\n",
      " 9.98542875e-03 2.21576045e+01 6.21222678e+08 2.80806007e-01\n",
      " 6.45857438e-09 5.93160501e-03]\n",
      "[1.01041365e-02 1.53441744e+00 1.45759140e-05 6.05076590e+08\n",
      " 9.98601209e-03 2.23638957e+01 6.22388159e+08 2.81638538e-01\n",
      " 6.44501976e-09 5.94397922e-03]\n",
      "[1.01002600e-02 1.54811138e+00 1.43479036e-05 6.29380440e+08\n",
      " 9.98658612e-03 2.25704567e+01 6.47278011e+08 2.82471794e-01\n",
      " 6.19611055e-09 5.91370071e-03]\n",
      "[1.00964425e-02 1.56182628e+00 1.43313041e-05 6.38330751e+08\n",
      " 9.98715104e-03 2.27773463e+01 6.56372804e+08 2.83298134e-01\n",
      " 6.10947600e-09 5.91214424e-03]\n",
      "[1.00926828e-02 1.57556676e+00 1.41855537e-05 6.57473700e+08\n",
      " 9.98770709e-03 2.29846209e+01 6.75945379e+08 2.84122702e-01\n",
      " 5.93075419e-09 5.89286520e-03]\n",
      "[1.00889794e-02 1.58933573e+00 1.41726661e-05 6.66410671e+08\n",
      " 9.98825445e-03 2.31923316e+01 6.85021516e+08 2.84941733e-01\n",
      " 5.85112095e-09 5.89179096e-03]\n",
      "[1.00853313e-02 1.60313629e+00 1.42209440e-05 6.70498369e+08\n",
      " 9.98879334e-03 2.34005211e+01 6.89111993e+08 2.85756396e-01\n",
      " 5.81622042e-09 5.89910425e-03]\n",
      "[1.00817370e-02 1.61697054e+00 1.43820498e-05 6.65396198e+08\n",
      " 9.98932394e-03 2.36092222e+01 6.83758656e+08 2.86566033e-01\n",
      " 5.86072455e-09 5.92188550e-03]\n",
      "[1.00781955e-02 1.63084048e+00 1.44032727e-05 6.71583531e+08\n",
      " 9.98984645e-03 2.38184554e+01 6.90007974e+08 2.87374431e-01\n",
      " 5.80701859e-09 5.92544685e-03]\n",
      "[1.00747056e-02 1.64474664e+00 1.42859902e-05 6.89085062e+08\n",
      " 9.99036105e-03 2.40282290e+01 7.07879827e+08 2.88181605e-01\n",
      " 5.65885486e-09 5.91007885e-03]\n",
      "[1.00712661e-02 1.65868752e+00 1.45384073e-05 6.76463251e+08\n",
      " 9.99086792e-03 2.42385377e+01 6.94806093e+08 2.88980241e-01\n",
      " 5.76515549e-09 5.94516184e-03]\n",
      "[1.00678761e-02 1.67266365e+00 1.44136798e-05 6.94604046e+08\n",
      " 9.99136723e-03 2.44493646e+01 7.13330752e+08 2.89781182e-01\n",
      " 5.61454453e-09 5.92883315e-03]\n",
      "[1.00645343e-02 1.68667197e+00 1.43930486e-05 7.04373323e+08\n",
      " 9.99185915e-03 2.46606812e+01 7.23254835e+08 2.90577497e-01\n",
      " 5.53635379e-09 5.92666437e-03]\n",
      "[1.00612399e-02 1.70070979e+00 1.44998954e-05 7.03509294e+08\n",
      " 9.99234384e-03 2.48724487e+01 7.22260111e+08 2.91368877e-01\n",
      " 5.54358024e-09 5.94184301e-03]\n",
      "[1.00579917e-02 1.71477448e+00 1.45177725e-05 7.10033319e+08\n",
      " 9.99282146e-03 2.50846219e+01 7.28851097e+08 2.92158425e-01\n",
      " 5.49222336e-09 5.94491167e-03]\n",
      "[1.00547889e-02 1.72886255e+00 1.44381004e-05 7.24931509e+08\n",
      " 9.99329216e-03 2.52971485e+01 7.44036624e+08 2.92946250e-01\n",
      " 5.37873609e-09 5.93469985e-03]\n",
      "[1.00516305e-02 1.74296968e+00 1.45017286e-05 7.27707772e+08\n",
      " 9.99375611e-03 2.55099745e+01 7.46779035e+08 2.93728919e-01\n",
      " 5.35909033e-09 5.94393563e-03]\n",
      "[1.00485156e-02 1.75709249e+00 1.45567874e-05 7.31128538e+08\n",
      " 9.99421343e-03 2.57230443e+01 7.50183315e+08 2.94508578e-01\n",
      " 5.33413977e-09 5.95200853e-03]\n",
      "[1.00454433e-02 1.77122753e+00 1.45180020e-05 7.42723687e+08\n",
      " 9.99466427e-03 2.59363046e+01 7.61974530e+08 2.95286415e-01\n",
      " 5.25079137e-09 5.94733108e-03]\n",
      "[1.00424126e-02 1.78537057e+00 1.47238189e-05 7.32849514e+08\n",
      " 9.99510878e-03 2.61497056e+01 7.51740280e+08 2.96057661e-01\n",
      " 5.32060233e-09 5.97580949e-03]\n",
      "[1.00394229e-02 1.79952067e+00 1.43495149e-05 7.74742775e+08\n",
      " 9.99554708e-03 2.63632026e+01 7.94606725e+08 2.96833885e-01\n",
      " 5.03383063e-09 5.92547591e-03]\n",
      "[1.00364731e-02 1.81367142e+00 1.49275941e-05 7.31530114e+08\n",
      " 9.99597930e-03 2.65767586e+01 7.50183683e+08 2.97593627e-01\n",
      " 5.33055596e-09 6.00427144e-03]\n",
      "[1.00335627e-02 1.82782425e+00 1.50958825e-05 7.25372503e+08\n",
      " 9.99640558e-03 2.67903434e+01 7.43770101e+08 2.98355979e-01\n",
      " 5.37642368e-09 6.02719769e-03]\n",
      "[1.00306907e-02 1.84197819e+00 1.46639829e-05 7.70860918e+08\n",
      " 9.99682602e-03 2.70039358e+01 7.90310410e+08 2.99123410e-01\n",
      " 5.05896223e-09 5.96996050e-03]\n",
      "[1.00278564e-02 1.85612981e+00 1.46444019e-05 7.80836768e+08\n",
      " 9.99724076e-03 2.72175225e+01 8.00434815e+08 2.99882040e-01\n",
      " 4.99372312e-09 5.96788508e-03]\n",
      "[1.00250591e-02 1.87028007e+00 1.45183985e-05 8.01073663e+08\n",
      " 9.99764990e-03 2.74310981e+01 8.21075561e+08 3.00639041e-01\n",
      " 4.86819577e-09 5.95129655e-03]\n",
      "[1.00222981e-02 1.88442551e+00 1.56803242e-05 7.08738915e+08\n",
      " 9.99805356e-03 2.76446645e+01 7.26340645e+08 3.01375536e-01\n",
      " 5.50245814e-09 6.10590705e-03]\n",
      "[1.00195726e-02 1.89857363e+00 1.54152836e-05 7.37499742e+08\n",
      " 9.99845184e-03 2.78582290e+01 7.55722821e+08 3.02128229e-01\n",
      " 5.28750431e-09 6.07200377e-03]\n",
      "[1.00168820e-02 1.91272277e+00 1.47199300e-05 8.06988057e+08\n",
      " 9.99884487e-03 2.80718036e+01 8.26829179e+08 3.02883775e-01\n",
      " 4.83229255e-09 5.98018418e-03]\n",
      "[1.00142256e-02 1.92687100e+00 1.47321216e-05 8.14158457e+08\n",
      " 9.99923273e-03 2.82854038e+01 8.34074931e+08 3.03626839e-01\n",
      " 4.78992813e-09 5.98233132e-03]\n",
      "[1.00116028e-02 1.94102169e+00 1.45975057e-05 8.35542320e+08\n",
      " 9.99961552e-03 2.84990460e+01 8.55880078e+08 3.04369006e-01\n",
      " 4.66676341e-09 5.96465885e-03]\n",
      "[1.00090129e-02 1.94456004e+00 1.46737869e-05 8.32008166e+08\n",
      " 9.99999508e-03 2.85568603e+01 8.52232294e+08 3.05105464e-01\n",
      " 4.68722803e-09 5.97545819e-03]\n",
      "[1.95006463e-02 3.44644025e-02 1.72833533e-03 1.72645537e+03\n",
      " 6.11720756e-03 1.10563588e-01 2.79189137e+03 6.14032102e-02\n",
      " 3.66779757e-02 1.79800833e-02]\n",
      "[1.86920028e-02 4.17360218e-02 2.84700197e-03 1.34813183e+03\n",
      " 6.10512224e-03 2.01311308e-01 1.94701679e+03 6.49000239e-02\n",
      " 4.20410771e-02 2.34112912e-02]\n",
      "[1.78334260e-02 5.03907929e-02 5.12145426e-03 1.33209489e+03\n",
      " 6.88452196e-03 3.05219535e-01 6.78740161e+02 7.42210897e-02\n",
      " 4.95978045e-02 3.10117273e-02]\n",
      "[1.70604751e-02 5.71171078e-02 2.80034286e-01 4.45526271e+02\n",
      " 7.56910807e-03 4.01473161e-01 3.24263420e+02 9.10831487e-02\n",
      " 1.21797495e-01 1.38121666e-01]\n",
      "[1.64025346e-02 6.47316730e-02 2.66984951e-01 4.40846259e+02\n",
      " 8.07419739e-03 5.05802778e-01 3.00822560e+02 9.75956177e-02\n",
      " 1.23049989e-01 1.40350793e-01]\n",
      "[1.58524344e-02 7.24260992e-02 4.24956259e-01 3.91705387e+02\n",
      " 8.45335554e-03 6.12743724e-01 2.49611083e+02 1.13410172e-01\n",
      " 1.43706011e-01 1.85260932e-01]\n",
      "[1.53880469e-02 8.01570427e-02 5.05674523e-01 3.73716902e+02\n",
      " 8.73727451e-03 7.21555524e-01 2.31735224e+02 1.26899568e-01\n",
      " 1.54257989e-01 2.14755360e-01]\n",
      "[1.49921289e-02 8.80065760e-02 5.36427728e-01 3.69508390e+02\n",
      " 8.95539316e-03 8.32719875e-01 2.30422510e+02 1.36693907e-01\n",
      " 1.58461027e-01 2.30739679e-01]\n"
     ]
    },
    {
     "name": "stdout",
     "output_type": "stream",
     "text": [
      "[1.46511664e-02 9.60625157e-02 5.50318225e-01 3.73129112e+02\n",
      " 9.12783159e-03 9.46977377e-01 2.37531478e+02 1.44690431e-01\n",
      " 1.59962796e-01 2.41174502e-01]\n",
      "[1.43548905e-02 1.04455321e-01 5.53364505e-01 3.88400504e+02\n",
      " 9.26801359e-03 1.06566032e+00 2.56506581e+02 1.51208722e-01\n",
      " 1.59037978e-01 2.47442898e-01]\n",
      "[1.40959791e-02 1.14597489e-01 5.53193846e-01 5.18527981e+02\n",
      " 9.38610892e-03 1.20370698e+00 4.32331084e+02 1.57193148e-01\n",
      " 1.56309572e-01 2.52490710e-01]\n",
      "[1.38673465e-02 1.23082547e-01 5.65909524e-01 5.72623688e+02\n",
      " 9.48510531e-03 1.32558266e+00 4.64813413e+02 1.65249242e-01\n",
      " 1.41335394e-01 2.63496550e-01]\n",
      "[1.37418811e-06 2.16445251e-05 3.02648667e-09 6.29079197e+02\n",
      " 1.00341602e-02 1.96803722e+00 7.25970615e+02 1.27544797e-01\n",
      " 9.59934697e+02 3.42655213e-01]\n",
      "[1.19485616e-02 4.49148565e-01 9.50532628e-01 3.96456685e+06\n",
      " 9.81477408e-03 2.09914800e+00 4.58200558e+06 1.10917524e+00\n",
      " 3.17713240e+00 3.48031236e+00]\n",
      "[1.35183018e-02 3.44169818e-01 9.19315972e-01 4.91896924e+06\n",
      " 9.81895457e-03 2.39115441e+00 5.64627181e+06 1.00916481e+00\n",
      " 2.86996596e+00 2.58586418e+00]\n",
      "[1.34605658e-02 2.90098663e-01 9.52425593e-01 5.61401000e+06\n",
      " 9.79245487e-03 1.50675269e+00 6.40408358e+06 1.06615152e+00\n",
      " 2.83585944e+00 2.74875967e+00]\n",
      "[1.33718677e-02 3.16541811e-01 9.21355225e-01 6.38502681e+06\n",
      " 9.84827534e-03 2.41504301e+00 7.24231789e+06 1.05551714e+00\n",
      " 2.98509121e+00 2.80119534e+00]\n",
      "[1.31689465e-02 3.04009719e-01 9.99999469e-01 7.57525267e+06\n",
      " 9.89021061e-03 6.94027140e-14 8.55946205e+06 1.72924948e+01\n",
      " 2.88299446e+00 2.71312085e+01]\n",
      "[1.37027988e-02 5.01521611e-01 8.91042382e-01 8.52018045e+06\n",
      " 9.96453672e-03 3.17975087e+00 9.56727705e+06 1.00985405e+00\n",
      " 2.77867719e+00 2.61659962e+00]\n",
      "[1.31225262e-02 3.51530725e-01 8.97014317e-01 9.26588916e+06\n",
      " 9.97296749e-03 2.91458778e+00 1.03581454e+07 1.07287048e+00\n",
      " 2.87870827e+00 2.57755199e+00]\n",
      "[1.36745747e-02 5.92127479e-01 8.85070413e-01 1.04366148e+07\n",
      " 1.00216801e-02 3.48261264e+00 1.16184697e+07 1.08827504e+00\n",
      " 2.93682014e+00 2.70618999e+00]\n",
      "[1.30636442e-02 4.29015722e-01 8.73215321e-01 1.19953045e+07\n",
      " 1.00462601e-02 3.57463027e+00 1.33018430e+07 1.04486508e+00\n",
      " 2.63149762e+00 2.39738929e+00]\n",
      "[1.27487932e-02 4.07411351e-01 9.90376409e-01 1.23748441e+07\n",
      " 1.00562567e-02 4.03934938e-01 1.36732551e+07 1.45427568e+00\n",
      " 2.99909974e+00 3.15119489e+00]\n",
      "[1.28184049e-02 5.21272301e-01 8.64411579e-01 1.45467236e+07\n",
      " 1.00870115e-02 3.93956240e+00 1.60186017e+07 1.05302482e+00\n",
      " 2.67260779e+00 2.50900232e+00]\n",
      "[1.25967560e-02 4.62074833e-01 8.61977493e-01 1.52238459e+07\n",
      " 1.01087818e-02 4.11551906e+00 1.67112036e+07 1.11502118e+00\n",
      " 2.80046832e+00 2.54856955e+00]\n",
      "[1.24386799e-02 4.53355644e-01 8.93881914e-01 1.47047732e+07\n",
      " 1.00981052e-02 3.03646479e+00 1.60935598e+07 1.20798664e+00\n",
      " 3.15290202e+00 2.80015273e+00]\n",
      "[1.27598160e-02 6.68929456e-01 8.52790529e-01 1.81344556e+07\n",
      " 1.01381240e-02 4.52920391e+00 1.97919711e+07 1.12191432e+00\n",
      " 2.75096132e+00 2.56366151e+00]\n",
      "[1.23314426e-02 4.41957225e-01 9.99999249e-01 1.98073831e+07\n",
      " 1.01575154e-02 4.45679580e-14 2.15832061e+07 1.82448036e+01\n",
      " 2.68289358e+00 2.41098196e+01]\n",
      "[1.22968768e-02 5.59467739e-01 8.40827424e-01 2.08713500e+07\n",
      " 1.01752724e-02 4.89879783e+00 2.26640602e+07 1.11658030e+00\n",
      " 2.69843238e+00 2.53058915e+00]\n",
      "[1.21756202e-02 5.27821601e-01 8.83131963e-01 2.08795121e+07\n",
      " 1.01648033e-02 3.33436445e+00 2.26210299e+07 1.21625156e+00\n",
      " 2.93545936e+00 2.66252748e+00]\n",
      "[1.22023505e-02 6.22083468e-01 8.46363504e-01 2.28968138e+07\n",
      " 1.01832367e-02 4.77492556e+00 2.47532851e+07 1.17793783e+00\n",
      " 2.78158594e+00 2.57164899e+00]\n",
      "[1.21455465e-02 6.25508595e-01 8.49187184e-01 2.47342781e+07\n",
      " 1.01925183e-02 4.63962447e+00 2.66860509e+07 1.20762377e+00\n",
      " 2.82124263e+00 2.56929808e+00]\n",
      "[1.23115297e-02 7.84741511e-01 8.29703700e-01 2.76761411e+07\n",
      " 1.02167451e-02 5.52817426e+00 2.98037561e+07 1.17281108e+00\n",
      " 2.61450234e+00 2.46025279e+00]\n",
      "[1.20290884e-02 5.96183270e-01 8.44141838e-01 2.68484055e+07\n",
      " 1.02169034e-02 4.77739594e+00 2.88612732e+07 1.22203160e+00\n",
      " 2.74889980e+00 2.49027694e+00]\n",
      "[1.19379136e-02 6.32940183e-01 8.40568955e-01 2.57576337e+07\n",
      " 1.02263010e-02 5.10376548e+00 2.76428772e+07 1.26658334e+00\n",
      " 2.96736459e+00 2.66293026e+00]\n",
      "[1.18776463e-02 6.45638306e-01 8.39360488e-01 2.78063827e+07\n",
      " 1.02353225e-02 5.15402020e+00 2.97953391e+07 1.28100465e+00\n",
      " 2.97698880e+00 2.65905320e+00]\n",
      "[1.18521002e-02 6.85541903e-01 8.17836604e-01 3.21601911e+07\n",
      " 1.02563376e-02 6.21442886e+00 3.44103190e+07 1.23256343e+00\n",
      " 2.70422271e+00 2.51413240e+00]\n",
      "[1.17854804e-02 6.65695827e-01 8.25952052e-01 3.22394592e+07\n",
      " 1.02606150e-02 5.82588032e+00 3.44478068e+07 1.27676967e+00\n",
      " 2.84279898e+00 2.58051240e+00]\n",
      "[1.25198138e-02 1.21267901e+00 8.11111324e-01 3.49711654e+07\n",
      " 1.02777802e-02 6.69131026e+00 3.73182946e+07 1.27050024e+00\n",
      " 2.77005070e+00 2.55356913e+00]\n",
      "[1.21551279e-02 9.35845606e-01 8.02650768e-01 3.81900412e+07\n",
      " 1.02863632e-02 6.75325934e+00 4.07032615e+07 1.26283757e+00\n",
      " 2.59052903e+00 2.32988777e+00]\n",
      "[1.18301401e-02 7.65450342e-01 8.14061933e-01 3.79213432e+07\n",
      " 1.02869617e-02 6.32166286e+00 4.03699168e+07 1.27336285e+00\n",
      " 2.65643199e+00 2.42801434e+00]\n",
      "[1.17286884e-02 7.95568245e-01 7.98349322e-01 3.88504694e+07\n",
      " 1.03038079e-02 7.36982142e+00 4.13134501e+07 1.28836453e+00\n",
      " 2.72270844e+00 2.50054557e+00]\n",
      "[1.16310084e-02 7.46520157e-01 8.13872858e-01 4.14681631e+07\n",
      " 1.03012118e-02 6.48426144e+00 4.40507157e+07 1.28144484e+00\n",
      " 2.64356283e+00 2.46143129e+00]\n",
      "[1.15494010e-02 7.00873175e-01 7.98832610e-01 4.23891899e+07\n",
      " 1.03125012e-02 7.37481480e+00 4.49837593e+07 1.28104142e+00\n",
      " 2.62916119e+00 2.46087847e+00]\n",
      "[1.16980922e-02 9.72820270e-01 7.92791091e-01 4.39683860e+07\n",
      " 1.03244464e-02 7.86005912e+00 4.66145594e+07 1.27591462e+00\n",
      " 2.56541255e+00 2.44452557e+00]\n",
      "[1.15727962e-02 8.12159438e-01 7.90617286e-01 4.42116047e+07\n",
      " 1.03292106e-02 7.81397627e+00 4.68290460e+07 1.32137855e+00\n",
      " 2.68032695e+00 2.43851921e+00]\n",
      "[1.14898243e-02 7.73147448e-01 7.99696359e-01 4.44294680e+07\n",
      " 1.03289339e-02 7.38828254e+00 4.70178235e+07 1.33968513e+00\n",
      " 2.76673458e+00 2.51922408e+00]\n",
      "[1.14741385e-02 8.36229657e-01 7.94081465e-01 4.65591442e+07\n",
      " 1.03347739e-02 7.76792589e+00 4.92290665e+07 1.32307303e+00\n",
      " 2.67351382e+00 2.48160124e+00]\n",
      "[1.14715658e-02 8.85430907e-01 7.86957934e-01 4.86490248e+07\n",
      " 1.03429486e-02 8.21066627e+00 5.13959468e+07 1.32183840e+00\n",
      " 2.61959225e+00 2.44110029e+00]\n",
      "[1.13977967e-02 7.87684495e-01 7.90001346e-01 4.87138674e+07\n",
      " 1.03457150e-02 8.00618374e+00 5.14230420e+07 1.35573974e+00\n",
      " 2.72843437e+00 2.48457210e+00]\n",
      "[1.13720498e-02 8.27984635e-01 7.80024048e-01 5.24696563e+07\n",
      " 1.03553449e-02 8.75027324e+00 5.53444745e+07 1.32602104e+00\n",
      " 2.58681010e+00 2.43478404e+00]\n",
      "[1.13803166e-02 9.09289545e-01 7.91911742e-01 4.72737567e+07\n",
      " 1.03543264e-02 8.00900661e+00 4.98262331e+07 1.42089894e+00\n",
      " 2.96263104e+00 2.61200055e+00]\n",
      "[1.13298102e-02 8.39150952e-01 7.85474469e-01 5.37078487e+07\n",
      " 1.03584342e-02 8.34170375e+00 5.65663598e+07 1.37331712e+00\n",
      " 2.71744307e+00 2.47514045e+00]\n",
      "[1.13725349e-02 1.00521112e+00 7.75145887e-01 5.76154712e+07\n",
      " 1.03676118e-02 9.14822376e+00 6.06389092e+07 1.34253744e+00\n",
      " 2.55944248e+00 2.41328675e+00]\n",
      "[1.13551692e-02 9.95863542e-01 7.76779481e-01 5.52609346e+07\n",
      " 1.03705289e-02 8.97040034e+00 5.81208849e+07 1.38837416e+00\n",
      " 2.69112209e+00 2.44742245e+00]\n",
      "[1.13418699e-02 1.02329187e+00 7.76943330e-01 5.36430911e+07\n",
      " 1.03734519e-02 8.99753990e+00 5.63819324e+07 1.43151669e+00\n",
      " 2.85303304e+00 2.52586811e+00]\n",
      "[1.13658976e-02 1.11448507e+00 7.67263239e-01 5.92095308e+07\n",
      " 1.03810386e-02 9.70559080e+00 6.21926992e+07 1.38937557e+00\n",
      " 2.63416195e+00 2.41756240e+00]\n",
      "[1.13851297e-02 1.17551327e+00 7.62908521e-01 6.16185329e+07\n",
      " 1.03871703e-02 1.00277326e+01 6.46830662e+07 1.39448618e+00\n",
      " 2.60472987e+00 2.38953273e+00]\n",
      "[1.12415335e-02 8.89262479e-01 7.72890525e-01 6.33941685e+07\n",
      " 1.03852783e-02 9.22682896e+00 6.65073941e+07 1.41269939e+00\n",
      " 2.66059803e+00 2.40454857e+00]\n",
      "[1.12198904e-02 9.98314566e-01 7.68622454e-01 6.31616141e+07\n",
      " 1.03892489e-02 9.75151274e+00 6.62252890e+07 1.43057396e+00\n",
      " 2.76138153e+00 2.50142266e+00]\n",
      "[1.12506745e-02 1.12845231e+00 7.59056659e-01 6.89293225e+07\n",
      " 1.03964200e-02 1.04538991e+01 7.22324351e+07 1.38110596e+00\n",
      " 2.50206845e+00 2.35819781e+00]\n",
      "[1.12434610e-02 1.13692220e+00 7.58257201e-01 6.49632415e+07\n",
      " 1.03998819e-02 1.04862671e+01 6.80397031e+07 1.43565297e+00\n",
      " 2.67434510e+00 2.42031744e+00]\n"
     ]
    },
    {
     "ename": "KeyboardInterrupt",
     "evalue": "",
     "output_type": "error",
     "traceback": [
      "\u001b[0;31m---------------------------------------------------------------------------\u001b[0m",
      "\u001b[0;31mKeyboardInterrupt\u001b[0m                         Traceback (most recent call last)",
      "Input \u001b[0;32mIn [599]\u001b[0m, in \u001b[0;36m<cell line: 1>\u001b[0;34m()\u001b[0m\n\u001b[1;32m      2\u001b[0m warnings\u001b[38;5;241m.\u001b[39msimplefilter(\u001b[38;5;124m\"\u001b[39m\u001b[38;5;124mignore\u001b[39m\u001b[38;5;124m\"\u001b[39m)\n\u001b[1;32m      3\u001b[0m \u001b[38;5;28;01mfor\u001b[39;00m _ \u001b[38;5;129;01min\u001b[39;00m \u001b[38;5;28mrange\u001b[39m(\u001b[38;5;241m10\u001b[39m):\n\u001b[0;32m----> 4\u001b[0m     \u001b[43molg\u001b[49m\u001b[38;5;241;43m.\u001b[39;49m\u001b[43mupdate_guess\u001b[49m\u001b[43m(\u001b[49m\u001b[43m)\u001b[49m\n",
      "Input \u001b[0;32mIn [589]\u001b[0m, in \u001b[0;36mOLG_model.update_guess\u001b[0;34m(self)\u001b[0m\n\u001b[1;32m    473\u001b[0m obj_grad \u001b[38;5;241m=\u001b[39m jit(jacfwd(obj_jit))\n\u001b[1;32m    474\u001b[0m obj_hess \u001b[38;5;241m=\u001b[39m jit(jacrev(jacfwd(obj_jit)))\n\u001b[0;32m--> 477\u001b[0m result \u001b[38;5;241m=\u001b[39m \u001b[43mminimize_ipopt\u001b[49m\u001b[43m(\u001b[49m\u001b[43mobj_jit\u001b[49m\u001b[43m,\u001b[49m\u001b[43m \u001b[49m\u001b[43mjac\u001b[49m\u001b[38;5;241;43m=\u001b[39;49m\u001b[43mobj_grad\u001b[49m\u001b[43m,\u001b[49m\u001b[43m \u001b[49m\u001b[43mhess\u001b[49m\u001b[38;5;241;43m=\u001b[39;49m\u001b[43mobj_hess\u001b[49m\u001b[43m,\u001b[49m\u001b[43m \u001b[49m\u001b[43mx0\u001b[49m\u001b[38;5;241;43m=\u001b[39;49m\u001b[43mz_guess\u001b[49m\n\u001b[1;32m    478\u001b[0m \u001b[43m                    \u001b[49m\u001b[43m,\u001b[49m\u001b[43m \u001b[49m\u001b[43moptions\u001b[49m\u001b[43m \u001b[49m\u001b[38;5;241;43m=\u001b[39;49m\u001b[43m \u001b[49m\u001b[43m{\u001b[49m\u001b[38;5;124;43m\"\u001b[39;49m\u001b[38;5;124;43mmax_iter\u001b[39;49m\u001b[38;5;124;43m\"\u001b[39;49m\u001b[43m:\u001b[49m\u001b[38;5;28;43mself\u001b[39;49m\u001b[38;5;241;43m.\u001b[39;49m\u001b[43msteady_max_iter\u001b[49m\u001b[43m,\u001b[49m\u001b[43m \u001b[49m\u001b[38;5;124;43m\"\u001b[39;49m\u001b[38;5;124;43mprint_level\u001b[39;49m\u001b[38;5;124;43m\"\u001b[39;49m\u001b[43m:\u001b[49m\u001b[38;5;241;43m0\u001b[39;49m\u001b[43m,\u001b[49m\n\u001b[1;32m    479\u001b[0m \u001b[43m                                 \u001b[49m\u001b[38;5;124;43m\"\u001b[39;49m\u001b[38;5;124;43mcheck_derivatives_for_naninf\u001b[39;49m\u001b[38;5;124;43m\"\u001b[39;49m\u001b[43m:\u001b[49m\u001b[38;5;124;43m\"\u001b[39;49m\u001b[38;5;124;43myes\u001b[39;49m\u001b[38;5;124;43m\"\u001b[39;49m\u001b[43m}\u001b[49m\n\u001b[1;32m    480\u001b[0m \u001b[43m                    \u001b[49m\u001b[43m,\u001b[49m\u001b[43m \u001b[49m\u001b[43mtol\u001b[49m\u001b[38;5;241;43m=\u001b[39;49m\u001b[38;5;241;43m1e-5\u001b[39;49m\u001b[43m)\u001b[49m\n\u001b[1;32m    481\u001b[0m z \u001b[38;5;241m=\u001b[39m result[\u001b[38;5;124m\"\u001b[39m\u001b[38;5;124mx\u001b[39m\u001b[38;5;124m\"\u001b[39m]\n\u001b[1;32m    482\u001b[0m \u001b[38;5;28mprint\u001b[39m(z)\n",
      "File \u001b[0;32m~/anaconda3/envs/olg/lib/python3.8/site-packages/cyipopt/scipy_interface.py:311\u001b[0m, in \u001b[0;36mminimize_ipopt\u001b[0;34m(fun, x0, args, kwargs, method, jac, hess, hessp, bounds, constraints, tol, callback, options)\u001b[0m\n\u001b[1;32m    308\u001b[0m         msg \u001b[38;5;241m=\u001b[39m \u001b[38;5;124m'\u001b[39m\u001b[38;5;124mInvalid option for IPOPT: \u001b[39m\u001b[38;5;132;01m{0}\u001b[39;00m\u001b[38;5;124m: \u001b[39m\u001b[38;5;132;01m{1}\u001b[39;00m\u001b[38;5;124m (Original message: \u001b[39m\u001b[38;5;124m\"\u001b[39m\u001b[38;5;132;01m{2}\u001b[39;00m\u001b[38;5;124m\"\u001b[39m\u001b[38;5;124m)\u001b[39m\u001b[38;5;124m'\u001b[39m\n\u001b[1;32m    309\u001b[0m         \u001b[38;5;28;01mraise\u001b[39;00m \u001b[38;5;167;01mTypeError\u001b[39;00m(msg\u001b[38;5;241m.\u001b[39mformat(option, value, e))\n\u001b[0;32m--> 311\u001b[0m x, info \u001b[38;5;241m=\u001b[39m \u001b[43mnlp\u001b[49m\u001b[38;5;241;43m.\u001b[39;49m\u001b[43msolve\u001b[49m\u001b[43m(\u001b[49m\u001b[43m_x0\u001b[49m\u001b[43m)\u001b[49m\n\u001b[1;32m    313\u001b[0m \u001b[38;5;28;01mif\u001b[39;00m np\u001b[38;5;241m.\u001b[39masarray(x0)\u001b[38;5;241m.\u001b[39mshape \u001b[38;5;241m==\u001b[39m ():\n\u001b[1;32m    314\u001b[0m     x \u001b[38;5;241m=\u001b[39m x[\u001b[38;5;241m0\u001b[39m]\n",
      "File \u001b[0;32m~/anaconda3/envs/olg/lib/python3.8/site-packages/cyipopt/cython/ipopt_wrapper.pyx:642\u001b[0m, in \u001b[0;36mipopt_wrapper.Problem.solve\u001b[0;34m()\u001b[0m\n",
      "File \u001b[0;32m~/anaconda3/envs/olg/lib/python3.8/site-packages/cyipopt/cython/ipopt_wrapper.pyx:895\u001b[0m, in \u001b[0;36mipopt_wrapper.hessian_cb\u001b[0;34m()\u001b[0m\n",
      "File \u001b[0;32m~/anaconda3/envs/olg/lib/python3.8/site-packages/cyipopt/scipy_interface.py:167\u001b[0m, in \u001b[0;36mIpoptProblemWrapper.hessian\u001b[0;34m(self, x, lagrange, obj_factor)\u001b[0m\n\u001b[1;32m    164\u001b[0m \u001b[38;5;28;01mfor\u001b[39;00m hessian, args, lagr \u001b[38;5;129;01min\u001b[39;00m \u001b[38;5;28mzip\u001b[39m(\u001b[38;5;28mself\u001b[39m\u001b[38;5;241m.\u001b[39m_constraint_hessians,\n\u001b[1;32m    165\u001b[0m                                \u001b[38;5;28mself\u001b[39m\u001b[38;5;241m.\u001b[39m_constraint_args, lagrs):\n\u001b[1;32m    166\u001b[0m     H \u001b[38;5;241m+\u001b[39m\u001b[38;5;241m=\u001b[39m hessian(x, lagr, \u001b[38;5;241m*\u001b[39margs)\n\u001b[0;32m--> 167\u001b[0m \u001b[38;5;28;01mreturn\u001b[39;00m \u001b[43mH\u001b[49m\u001b[43m[\u001b[49m\u001b[43mnp\u001b[49m\u001b[38;5;241;43m.\u001b[39;49m\u001b[43mtril_indices\u001b[49m\u001b[43m(\u001b[49m\u001b[43mx\u001b[49m\u001b[38;5;241;43m.\u001b[39;49m\u001b[43msize\u001b[49m\u001b[43m)\u001b[49m\u001b[43m]\u001b[49m\n",
      "File \u001b[0;32m~/anaconda3/envs/olg/lib/python3.8/site-packages/jax/_src/numpy/lax_numpy.py:3544\u001b[0m, in \u001b[0;36m_rewriting_take\u001b[0;34m(arr, idx, indices_are_sorted, unique_indices, mode, fill_value)\u001b[0m\n\u001b[1;32m   3541\u001b[0m   \u001b[38;5;28;01mreturn\u001b[39;00m _getslice(arr, start, stop)\n\u001b[1;32m   3543\u001b[0m treedef, static_idx, dynamic_idx \u001b[38;5;241m=\u001b[39m _split_index_for_jit(idx, arr\u001b[38;5;241m.\u001b[39mshape)\n\u001b[0;32m-> 3544\u001b[0m \u001b[38;5;28;01mreturn\u001b[39;00m \u001b[43m_gather\u001b[49m\u001b[43m(\u001b[49m\u001b[43marr\u001b[49m\u001b[43m,\u001b[49m\u001b[43m \u001b[49m\u001b[43mtreedef\u001b[49m\u001b[43m,\u001b[49m\u001b[43m \u001b[49m\u001b[43mstatic_idx\u001b[49m\u001b[43m,\u001b[49m\u001b[43m \u001b[49m\u001b[43mdynamic_idx\u001b[49m\u001b[43m,\u001b[49m\u001b[43m \u001b[49m\u001b[43mindices_are_sorted\u001b[49m\u001b[43m,\u001b[49m\n\u001b[1;32m   3545\u001b[0m \u001b[43m               \u001b[49m\u001b[43munique_indices\u001b[49m\u001b[43m,\u001b[49m\u001b[43m \u001b[49m\u001b[43mmode\u001b[49m\u001b[43m,\u001b[49m\u001b[43m \u001b[49m\u001b[43mfill_value\u001b[49m\u001b[43m)\u001b[49m\n",
      "File \u001b[0;32m~/anaconda3/envs/olg/lib/python3.8/site-packages/jax/_src/numpy/lax_numpy.py:3553\u001b[0m, in \u001b[0;36m_gather\u001b[0;34m(arr, treedef, static_idx, dynamic_idx, indices_are_sorted, unique_indices, mode, fill_value)\u001b[0m\n\u001b[1;32m   3550\u001b[0m \u001b[38;5;28;01mdef\u001b[39;00m \u001b[38;5;21m_gather\u001b[39m(arr, treedef, static_idx, dynamic_idx, indices_are_sorted,\n\u001b[1;32m   3551\u001b[0m             unique_indices, mode, fill_value):\n\u001b[1;32m   3552\u001b[0m   idx \u001b[38;5;241m=\u001b[39m _merge_static_and_dynamic_indices(treedef, static_idx, dynamic_idx)\n\u001b[0;32m-> 3553\u001b[0m   indexer \u001b[38;5;241m=\u001b[39m \u001b[43m_index_to_gather\u001b[49m\u001b[43m(\u001b[49m\u001b[43mshape\u001b[49m\u001b[43m(\u001b[49m\u001b[43marr\u001b[49m\u001b[43m)\u001b[49m\u001b[43m,\u001b[49m\u001b[43m \u001b[49m\u001b[43midx\u001b[49m\u001b[43m)\u001b[49m  \u001b[38;5;66;03m# shared with _scatter_update\u001b[39;00m\n\u001b[1;32m   3554\u001b[0m   y \u001b[38;5;241m=\u001b[39m arr\n\u001b[1;32m   3556\u001b[0m   \u001b[38;5;28;01mif\u001b[39;00m fill_value \u001b[38;5;129;01mis\u001b[39;00m \u001b[38;5;129;01mnot\u001b[39;00m \u001b[38;5;28;01mNone\u001b[39;00m:\n",
      "File \u001b[0;32m~/anaconda3/envs/olg/lib/python3.8/site-packages/jax/_src/numpy/lax_numpy.py:3849\u001b[0m, in \u001b[0;36m_index_to_gather\u001b[0;34m(x_shape, idx, normalize_indices)\u001b[0m\n\u001b[1;32m   3847\u001b[0m   last_dim \u001b[38;5;241m=\u001b[39m \u001b[38;5;28mlen\u001b[39m(gather_indices_shape)\n\u001b[1;32m   3848\u001b[0m   gather_indices_shape\u001b[38;5;241m.\u001b[39mappend(\u001b[38;5;241m1\u001b[39m)\n\u001b[0;32m-> 3849\u001b[0m   gather_indices_array \u001b[38;5;241m=\u001b[39m lax\u001b[38;5;241m.\u001b[39mconcatenate([\n\u001b[1;32m   3850\u001b[0m     lax\u001b[38;5;241m.\u001b[39mbroadcast_in_dim(g, gather_indices_shape, \u001b[38;5;28mtuple\u001b[39m(\u001b[38;5;28mrange\u001b[39m(i, i \u001b[38;5;241m+\u001b[39m g\u001b[38;5;241m.\u001b[39mndim)))\n\u001b[1;32m   3851\u001b[0m     \u001b[38;5;28;01mfor\u001b[39;00m g, i \u001b[38;5;129;01min\u001b[39;00m gather_indices],\n\u001b[1;32m   3852\u001b[0m     last_dim)\n\u001b[1;32m   3854\u001b[0m dnums \u001b[38;5;241m=\u001b[39m lax\u001b[38;5;241m.\u001b[39mGatherDimensionNumbers(\n\u001b[1;32m   3855\u001b[0m   offset_dims \u001b[38;5;241m=\u001b[39m \u001b[38;5;28mtuple\u001b[39m(offset_dims),\n\u001b[1;32m   3856\u001b[0m   collapsed_slice_dims \u001b[38;5;241m=\u001b[39m \u001b[38;5;28mtuple\u001b[39m(\u001b[38;5;28msorted\u001b[39m(collapsed_slice_dims)),\n\u001b[1;32m   3857\u001b[0m   start_index_map \u001b[38;5;241m=\u001b[39m \u001b[38;5;28mtuple\u001b[39m(start_index_map)\n\u001b[1;32m   3858\u001b[0m )\n\u001b[1;32m   3859\u001b[0m \u001b[38;5;28;01mreturn\u001b[39;00m _Indexer(\n\u001b[1;32m   3860\u001b[0m   slice_shape\u001b[38;5;241m=\u001b[39mslice_shape,\n\u001b[1;32m   3861\u001b[0m   newaxis_dims\u001b[38;5;241m=\u001b[39m\u001b[38;5;28mtuple\u001b[39m(newaxis_dims),\n\u001b[0;32m   (...)\u001b[0m\n\u001b[1;32m   3866\u001b[0m   unique_indices\u001b[38;5;241m=\u001b[39madvanced_indexes \u001b[38;5;129;01mis\u001b[39;00m \u001b[38;5;28;01mNone\u001b[39;00m,\n\u001b[1;32m   3867\u001b[0m   indices_are_sorted\u001b[38;5;241m=\u001b[39madvanced_indexes \u001b[38;5;129;01mis\u001b[39;00m \u001b[38;5;28;01mNone\u001b[39;00m)\n",
      "File \u001b[0;32m~/anaconda3/envs/olg/lib/python3.8/site-packages/jax/_src/numpy/lax_numpy.py:3850\u001b[0m, in \u001b[0;36m<listcomp>\u001b[0;34m(.0)\u001b[0m\n\u001b[1;32m   3847\u001b[0m   last_dim \u001b[38;5;241m=\u001b[39m \u001b[38;5;28mlen\u001b[39m(gather_indices_shape)\n\u001b[1;32m   3848\u001b[0m   gather_indices_shape\u001b[38;5;241m.\u001b[39mappend(\u001b[38;5;241m1\u001b[39m)\n\u001b[1;32m   3849\u001b[0m   gather_indices_array \u001b[38;5;241m=\u001b[39m lax\u001b[38;5;241m.\u001b[39mconcatenate([\n\u001b[0;32m-> 3850\u001b[0m     \u001b[43mlax\u001b[49m\u001b[38;5;241;43m.\u001b[39;49m\u001b[43mbroadcast_in_dim\u001b[49m\u001b[43m(\u001b[49m\u001b[43mg\u001b[49m\u001b[43m,\u001b[49m\u001b[43m \u001b[49m\u001b[43mgather_indices_shape\u001b[49m\u001b[43m,\u001b[49m\u001b[43m \u001b[49m\u001b[38;5;28;43mtuple\u001b[39;49m\u001b[43m(\u001b[49m\u001b[38;5;28;43mrange\u001b[39;49m\u001b[43m(\u001b[49m\u001b[43mi\u001b[49m\u001b[43m,\u001b[49m\u001b[43m \u001b[49m\u001b[43mi\u001b[49m\u001b[43m \u001b[49m\u001b[38;5;241;43m+\u001b[39;49m\u001b[43m \u001b[49m\u001b[43mg\u001b[49m\u001b[38;5;241;43m.\u001b[39;49m\u001b[43mndim\u001b[49m\u001b[43m)\u001b[49m\u001b[43m)\u001b[49m\u001b[43m)\u001b[49m\n\u001b[1;32m   3851\u001b[0m     \u001b[38;5;28;01mfor\u001b[39;00m g, i \u001b[38;5;129;01min\u001b[39;00m gather_indices],\n\u001b[1;32m   3852\u001b[0m     last_dim)\n\u001b[1;32m   3854\u001b[0m dnums \u001b[38;5;241m=\u001b[39m lax\u001b[38;5;241m.\u001b[39mGatherDimensionNumbers(\n\u001b[1;32m   3855\u001b[0m   offset_dims \u001b[38;5;241m=\u001b[39m \u001b[38;5;28mtuple\u001b[39m(offset_dims),\n\u001b[1;32m   3856\u001b[0m   collapsed_slice_dims \u001b[38;5;241m=\u001b[39m \u001b[38;5;28mtuple\u001b[39m(\u001b[38;5;28msorted\u001b[39m(collapsed_slice_dims)),\n\u001b[1;32m   3857\u001b[0m   start_index_map \u001b[38;5;241m=\u001b[39m \u001b[38;5;28mtuple\u001b[39m(start_index_map)\n\u001b[1;32m   3858\u001b[0m )\n\u001b[1;32m   3859\u001b[0m \u001b[38;5;28;01mreturn\u001b[39;00m _Indexer(\n\u001b[1;32m   3860\u001b[0m   slice_shape\u001b[38;5;241m=\u001b[39mslice_shape,\n\u001b[1;32m   3861\u001b[0m   newaxis_dims\u001b[38;5;241m=\u001b[39m\u001b[38;5;28mtuple\u001b[39m(newaxis_dims),\n\u001b[0;32m   (...)\u001b[0m\n\u001b[1;32m   3866\u001b[0m   unique_indices\u001b[38;5;241m=\u001b[39madvanced_indexes \u001b[38;5;129;01mis\u001b[39;00m \u001b[38;5;28;01mNone\u001b[39;00m,\n\u001b[1;32m   3867\u001b[0m   indices_are_sorted\u001b[38;5;241m=\u001b[39madvanced_indexes \u001b[38;5;129;01mis\u001b[39;00m \u001b[38;5;28;01mNone\u001b[39;00m)\n",
      "File \u001b[0;32m~/anaconda3/envs/olg/lib/python3.8/site-packages/jax/_src/lax/lax.py:750\u001b[0m, in \u001b[0;36mbroadcast_in_dim\u001b[0;34m(operand, shape, broadcast_dimensions)\u001b[0m\n\u001b[1;32m    748\u001b[0m   dyn_shape \u001b[38;5;241m=\u001b[39m []\n\u001b[1;32m    749\u001b[0m   shape_ \u001b[38;5;241m=\u001b[39m shape  \u001b[38;5;66;03m# type: ignore\u001b[39;00m\n\u001b[0;32m--> 750\u001b[0m \u001b[38;5;28;01mreturn\u001b[39;00m \u001b[43mbroadcast_in_dim_p\u001b[49m\u001b[38;5;241;43m.\u001b[39;49m\u001b[43mbind\u001b[49m\u001b[43m(\u001b[49m\n\u001b[1;32m    751\u001b[0m \u001b[43m    \u001b[49m\u001b[43moperand\u001b[49m\u001b[43m,\u001b[49m\u001b[43m \u001b[49m\u001b[38;5;241;43m*\u001b[39;49m\u001b[43mdyn_shape\u001b[49m\u001b[43m,\u001b[49m\u001b[43m \u001b[49m\u001b[43mshape\u001b[49m\u001b[38;5;241;43m=\u001b[39;49m\u001b[38;5;28;43mtuple\u001b[39;49m\u001b[43m(\u001b[49m\u001b[43mshape_\u001b[49m\u001b[43m)\u001b[49m\u001b[43m,\u001b[49m\n\u001b[1;32m    752\u001b[0m \u001b[43m    \u001b[49m\u001b[43mbroadcast_dimensions\u001b[49m\u001b[38;5;241;43m=\u001b[39;49m\u001b[38;5;28;43mtuple\u001b[39;49m\u001b[43m(\u001b[49m\u001b[43mbroadcast_dimensions\u001b[49m\u001b[43m)\u001b[49m\u001b[43m)\u001b[49m\n",
      "File \u001b[0;32m~/anaconda3/envs/olg/lib/python3.8/site-packages/jax/core.py:325\u001b[0m, in \u001b[0;36mPrimitive.bind\u001b[0;34m(self, *args, **params)\u001b[0m\n\u001b[1;32m    322\u001b[0m \u001b[38;5;28;01mdef\u001b[39;00m \u001b[38;5;21mbind\u001b[39m(\u001b[38;5;28mself\u001b[39m, \u001b[38;5;241m*\u001b[39margs, \u001b[38;5;241m*\u001b[39m\u001b[38;5;241m*\u001b[39mparams):\n\u001b[1;32m    323\u001b[0m   \u001b[38;5;28;01massert\u001b[39;00m (\u001b[38;5;129;01mnot\u001b[39;00m config\u001b[38;5;241m.\u001b[39mjax_enable_checks \u001b[38;5;129;01mor\u001b[39;00m\n\u001b[1;32m    324\u001b[0m           \u001b[38;5;28mall\u001b[39m(\u001b[38;5;28misinstance\u001b[39m(arg, Tracer) \u001b[38;5;129;01mor\u001b[39;00m valid_jaxtype(arg) \u001b[38;5;28;01mfor\u001b[39;00m arg \u001b[38;5;129;01min\u001b[39;00m args)), args\n\u001b[0;32m--> 325\u001b[0m   \u001b[38;5;28;01mreturn\u001b[39;00m \u001b[38;5;28;43mself\u001b[39;49m\u001b[38;5;241;43m.\u001b[39;49m\u001b[43mbind_with_trace\u001b[49m\u001b[43m(\u001b[49m\u001b[43mfind_top_trace\u001b[49m\u001b[43m(\u001b[49m\u001b[43margs\u001b[49m\u001b[43m)\u001b[49m\u001b[43m,\u001b[49m\u001b[43m \u001b[49m\u001b[43margs\u001b[49m\u001b[43m,\u001b[49m\u001b[43m \u001b[49m\u001b[43mparams\u001b[49m\u001b[43m)\u001b[49m\n",
      "File \u001b[0;32m~/anaconda3/envs/olg/lib/python3.8/site-packages/jax/core.py:328\u001b[0m, in \u001b[0;36mPrimitive.bind_with_trace\u001b[0;34m(self, trace, args, params)\u001b[0m\n\u001b[1;32m    327\u001b[0m \u001b[38;5;28;01mdef\u001b[39;00m \u001b[38;5;21mbind_with_trace\u001b[39m(\u001b[38;5;28mself\u001b[39m, trace, args, params):\n\u001b[0;32m--> 328\u001b[0m   out \u001b[38;5;241m=\u001b[39m \u001b[43mtrace\u001b[49m\u001b[38;5;241;43m.\u001b[39;49m\u001b[43mprocess_primitive\u001b[49m\u001b[43m(\u001b[49m\u001b[38;5;28;43mself\u001b[39;49m\u001b[43m,\u001b[49m\u001b[43m \u001b[49m\u001b[38;5;28;43mmap\u001b[39;49m\u001b[43m(\u001b[49m\u001b[43mtrace\u001b[49m\u001b[38;5;241;43m.\u001b[39;49m\u001b[43mfull_raise\u001b[49m\u001b[43m,\u001b[49m\u001b[43m \u001b[49m\u001b[43margs\u001b[49m\u001b[43m)\u001b[49m\u001b[43m,\u001b[49m\u001b[43m \u001b[49m\u001b[43mparams\u001b[49m\u001b[43m)\u001b[49m\n\u001b[1;32m    329\u001b[0m   \u001b[38;5;28;01mreturn\u001b[39;00m \u001b[38;5;28mmap\u001b[39m(full_lower, out) \u001b[38;5;28;01mif\u001b[39;00m \u001b[38;5;28mself\u001b[39m\u001b[38;5;241m.\u001b[39mmultiple_results \u001b[38;5;28;01melse\u001b[39;00m full_lower(out)\n",
      "File \u001b[0;32m~/anaconda3/envs/olg/lib/python3.8/site-packages/jax/core.py:677\u001b[0m, in \u001b[0;36mEvalTrace.process_primitive\u001b[0;34m(self, primitive, tracers, params)\u001b[0m\n\u001b[1;32m    676\u001b[0m \u001b[38;5;28;01mdef\u001b[39;00m \u001b[38;5;21mprocess_primitive\u001b[39m(\u001b[38;5;28mself\u001b[39m, primitive, tracers, params):\n\u001b[0;32m--> 677\u001b[0m   \u001b[38;5;28;01mreturn\u001b[39;00m \u001b[43mprimitive\u001b[49m\u001b[38;5;241;43m.\u001b[39;49m\u001b[43mimpl\u001b[49m\u001b[43m(\u001b[49m\u001b[38;5;241;43m*\u001b[39;49m\u001b[43mtracers\u001b[49m\u001b[43m,\u001b[49m\u001b[43m \u001b[49m\u001b[38;5;241;43m*\u001b[39;49m\u001b[38;5;241;43m*\u001b[39;49m\u001b[43mparams\u001b[49m\u001b[43m)\u001b[49m\n",
      "File \u001b[0;32m~/anaconda3/envs/olg/lib/python3.8/site-packages/jax/_src/dispatch.py:100\u001b[0m, in \u001b[0;36mapply_primitive\u001b[0;34m(prim, *args, **params)\u001b[0m\n\u001b[1;32m     97\u001b[0m \u001b[38;5;124;03m\"\"\"Impl rule that compiles and runs a single primitive 'prim' using XLA.\"\"\"\u001b[39;00m\n\u001b[1;32m     98\u001b[0m compiled_fun \u001b[38;5;241m=\u001b[39m xla_primitive_callable(prim, \u001b[38;5;241m*\u001b[39munsafe_map(arg_spec, args),\n\u001b[1;32m     99\u001b[0m                                       \u001b[38;5;241m*\u001b[39m\u001b[38;5;241m*\u001b[39mparams)\n\u001b[0;32m--> 100\u001b[0m \u001b[38;5;28;01mreturn\u001b[39;00m \u001b[43mcompiled_fun\u001b[49m\u001b[43m(\u001b[49m\u001b[38;5;241;43m*\u001b[39;49m\u001b[43margs\u001b[49m\u001b[43m)\u001b[49m\n",
      "File \u001b[0;32m~/anaconda3/envs/olg/lib/python3.8/site-packages/jax/_src/dispatch.py:151\u001b[0m, in \u001b[0;36mxla_primitive_callable.<locals>.<lambda>\u001b[0;34m(*args, **kw)\u001b[0m\n\u001b[1;32m    148\u001b[0m compiled \u001b[38;5;241m=\u001b[39m _xla_callable_uncached(lu\u001b[38;5;241m.\u001b[39mwrap_init(prim_fun), device, \u001b[38;5;28;01mNone\u001b[39;00m,\n\u001b[1;32m    149\u001b[0m                                   prim\u001b[38;5;241m.\u001b[39mname, donated_invars, \u001b[38;5;28;01mFalse\u001b[39;00m, \u001b[38;5;241m*\u001b[39marg_specs)\n\u001b[1;32m    150\u001b[0m \u001b[38;5;28;01mif\u001b[39;00m \u001b[38;5;129;01mnot\u001b[39;00m prim\u001b[38;5;241m.\u001b[39mmultiple_results:\n\u001b[0;32m--> 151\u001b[0m   \u001b[38;5;28;01mreturn\u001b[39;00m \u001b[38;5;28;01mlambda\u001b[39;00m \u001b[38;5;241m*\u001b[39margs, \u001b[38;5;241m*\u001b[39m\u001b[38;5;241m*\u001b[39mkw: \u001b[43mcompiled\u001b[49m\u001b[43m(\u001b[49m\u001b[38;5;241;43m*\u001b[39;49m\u001b[43margs\u001b[49m\u001b[43m,\u001b[49m\u001b[43m \u001b[49m\u001b[38;5;241;43m*\u001b[39;49m\u001b[38;5;241;43m*\u001b[39;49m\u001b[43mkw\u001b[49m\u001b[43m)\u001b[49m[\u001b[38;5;241m0\u001b[39m]\n\u001b[1;32m    152\u001b[0m \u001b[38;5;28;01melse\u001b[39;00m:\n\u001b[1;32m    153\u001b[0m   \u001b[38;5;28;01mreturn\u001b[39;00m compiled\n",
      "File \u001b[0;32m~/anaconda3/envs/olg/lib/python3.8/site-packages/jax/_src/dispatch.py:611\u001b[0m, in \u001b[0;36m_execute_compiled\u001b[0;34m(name, compiled, input_handler, output_buffer_counts, result_handlers, effects, kept_var_idx, *args)\u001b[0m\n\u001b[1;32m    609\u001b[0m device, \u001b[38;5;241m=\u001b[39m compiled\u001b[38;5;241m.\u001b[39mlocal_devices()\n\u001b[1;32m    610\u001b[0m args \u001b[38;5;241m=\u001b[39m input_handler(args) \u001b[38;5;28;01mif\u001b[39;00m input_handler \u001b[38;5;28;01melse\u001b[39;00m args\n\u001b[0;32m--> 611\u001b[0m input_bufs_flat \u001b[38;5;241m=\u001b[39m \u001b[43mflatten\u001b[49m\u001b[43m(\u001b[49m\u001b[43mdevice_put\u001b[49m\u001b[43m(\u001b[49m\u001b[43mx\u001b[49m\u001b[43m,\u001b[49m\u001b[43m \u001b[49m\u001b[43mdevice\u001b[49m\u001b[43m)\u001b[49m\u001b[43m \u001b[49m\u001b[38;5;28;43;01mfor\u001b[39;49;00m\u001b[43m \u001b[49m\u001b[43mi\u001b[49m\u001b[43m,\u001b[49m\u001b[43m \u001b[49m\u001b[43mx\u001b[49m\u001b[43m \u001b[49m\u001b[38;5;129;43;01min\u001b[39;49;00m\u001b[43m \u001b[49m\u001b[38;5;28;43menumerate\u001b[39;49m\u001b[43m(\u001b[49m\u001b[43margs\u001b[49m\u001b[43m)\u001b[49m\n\u001b[1;32m    612\u001b[0m \u001b[43m                          \u001b[49m\u001b[38;5;28;43;01mif\u001b[39;49;00m\u001b[43m \u001b[49m\u001b[43mi\u001b[49m\u001b[43m \u001b[49m\u001b[38;5;129;43;01min\u001b[39;49;00m\u001b[43m \u001b[49m\u001b[43mkept_var_idx\u001b[49m\u001b[43m)\u001b[49m\n\u001b[1;32m    613\u001b[0m \u001b[38;5;28;01mif\u001b[39;00m effects:\n\u001b[1;32m    614\u001b[0m   input_bufs_flat, token_handler \u001b[38;5;241m=\u001b[39m _add_tokens(effects, device, input_bufs_flat)\n",
      "File \u001b[0;32m~/anaconda3/envs/olg/lib/python3.8/site-packages/jax/_src/util.py:111\u001b[0m, in \u001b[0;36mconcatenate\u001b[0;34m(xs)\u001b[0m\n\u001b[1;32m    109\u001b[0m \u001b[38;5;28;01mdef\u001b[39;00m \u001b[38;5;21mconcatenate\u001b[39m(xs: Iterable[Sequence[T]]) \u001b[38;5;241m-\u001b[39m\u001b[38;5;241m>\u001b[39m List[T]:\n\u001b[1;32m    110\u001b[0m   \u001b[38;5;124;03m\"\"\"Concatenates/flattens a list of lists.\"\"\"\u001b[39;00m\n\u001b[0;32m--> 111\u001b[0m   \u001b[38;5;28;01mreturn\u001b[39;00m \u001b[38;5;28;43mlist\u001b[39;49m\u001b[43m(\u001b[49m\u001b[43mit\u001b[49m\u001b[38;5;241;43m.\u001b[39;49m\u001b[43mchain\u001b[49m\u001b[38;5;241;43m.\u001b[39;49m\u001b[43mfrom_iterable\u001b[49m\u001b[43m(\u001b[49m\u001b[43mxs\u001b[49m\u001b[43m)\u001b[49m\u001b[43m)\u001b[49m\n",
      "File \u001b[0;32m~/anaconda3/envs/olg/lib/python3.8/site-packages/jax/_src/dispatch.py:611\u001b[0m, in \u001b[0;36m<genexpr>\u001b[0;34m(.0)\u001b[0m\n\u001b[1;32m    609\u001b[0m device, \u001b[38;5;241m=\u001b[39m compiled\u001b[38;5;241m.\u001b[39mlocal_devices()\n\u001b[1;32m    610\u001b[0m args \u001b[38;5;241m=\u001b[39m input_handler(args) \u001b[38;5;28;01mif\u001b[39;00m input_handler \u001b[38;5;28;01melse\u001b[39;00m args\n\u001b[0;32m--> 611\u001b[0m input_bufs_flat \u001b[38;5;241m=\u001b[39m flatten(\u001b[43mdevice_put\u001b[49m\u001b[43m(\u001b[49m\u001b[43mx\u001b[49m\u001b[43m,\u001b[49m\u001b[43m \u001b[49m\u001b[43mdevice\u001b[49m\u001b[43m)\u001b[49m \u001b[38;5;28;01mfor\u001b[39;00m i, x \u001b[38;5;129;01min\u001b[39;00m \u001b[38;5;28menumerate\u001b[39m(args)\n\u001b[1;32m    612\u001b[0m                           \u001b[38;5;28;01mif\u001b[39;00m i \u001b[38;5;129;01min\u001b[39;00m kept_var_idx)\n\u001b[1;32m    613\u001b[0m \u001b[38;5;28;01mif\u001b[39;00m effects:\n\u001b[1;32m    614\u001b[0m   input_bufs_flat, token_handler \u001b[38;5;241m=\u001b[39m _add_tokens(effects, device, input_bufs_flat)\n",
      "File \u001b[0;32m~/anaconda3/envs/olg/lib/python3.8/site-packages/jax/_src/dispatch.py:871\u001b[0m, in \u001b[0;36mdevice_put\u001b[0;34m(x, device)\u001b[0m\n\u001b[1;32m    869\u001b[0m x \u001b[38;5;241m=\u001b[39m xla\u001b[38;5;241m.\u001b[39mcanonicalize_dtype(x)\n\u001b[1;32m    870\u001b[0m \u001b[38;5;28;01mtry\u001b[39;00m:\n\u001b[0;32m--> 871\u001b[0m   \u001b[38;5;28;01mreturn\u001b[39;00m \u001b[43mdevice_put_handlers\u001b[49m\u001b[43m[\u001b[49m\u001b[38;5;28;43mtype\u001b[39;49m\u001b[43m(\u001b[49m\u001b[43mx\u001b[49m\u001b[43m)\u001b[49m\u001b[43m]\u001b[49m\u001b[43m(\u001b[49m\u001b[43mx\u001b[49m\u001b[43m,\u001b[49m\u001b[43m \u001b[49m\u001b[43mdevice\u001b[49m\u001b[43m)\u001b[49m\n\u001b[1;32m    872\u001b[0m \u001b[38;5;28;01mexcept\u001b[39;00m \u001b[38;5;167;01mKeyError\u001b[39;00m \u001b[38;5;28;01mas\u001b[39;00m err:\n\u001b[1;32m    873\u001b[0m   \u001b[38;5;28;01mraise\u001b[39;00m \u001b[38;5;167;01mTypeError\u001b[39;00m(\u001b[38;5;124mf\u001b[39m\u001b[38;5;124m\"\u001b[39m\u001b[38;5;124mNo device_put handler for type: \u001b[39m\u001b[38;5;132;01m{\u001b[39;00m\u001b[38;5;28mtype\u001b[39m(x)\u001b[38;5;132;01m}\u001b[39;00m\u001b[38;5;124m\"\u001b[39m) \u001b[38;5;28;01mfrom\u001b[39;00m \u001b[38;5;21;01merr\u001b[39;00m\n",
      "File \u001b[0;32m~/anaconda3/envs/olg/lib/python3.8/site-packages/jax/_src/dispatch.py:901\u001b[0m, in \u001b[0;36m_device_put_device_array\u001b[0;34m(x, device)\u001b[0m\n\u001b[1;32m    900\u001b[0m \u001b[38;5;28;01mdef\u001b[39;00m \u001b[38;5;21m_device_put_device_array\u001b[39m(x: Union[device_array\u001b[38;5;241m.\u001b[39mDeviceArrayProtocol, device_array\u001b[38;5;241m.\u001b[39m_DeviceArray], device: Optional[Device]):\n\u001b[0;32m--> 901\u001b[0m   x \u001b[38;5;241m=\u001b[39m \u001b[43m_copy_device_array_to_device\u001b[49m(x, device)\n\u001b[1;32m    902\u001b[0m   \u001b[38;5;28;01mreturn\u001b[39;00m (x\u001b[38;5;241m.\u001b[39mdevice_buffer,)\n",
      "\u001b[0;31mKeyboardInterrupt\u001b[0m: "
     ]
    }
   ],
   "source": [
    "with warnings.catch_warnings():\n",
    "    warnings.simplefilter(\"ignore\")\n",
    "    for _ in range(1):\n",
    "        olg.update_guess()"
   ]
  },
  {
   "cell_type": "code",
   "execution_count": 600,
   "metadata": {},
   "outputs": [],
   "source": [
    "high_deficit = np.where(olg.Deficit_ratio[:(olg.T+1)]>0.2)[0]\n",
    "if len(high_deficit) > 0:\n",
    "    olg.sigma =np.concatenate((olg.sigma[:high_deficit[0]],\n",
    "                           np.array([olg.sigma[high_deficit[0]]*0.9 \n",
    "                                     for _ in range(high_deficit[0],max_time)])))\n",
    "    if self.T-self.G + 1 < high_deficit[0]:\n",
    "        self.T = high_deficit[0] + self.G - 1"
   ]
  },
  {
   "cell_type": "code",
   "execution_count": 610,
   "metadata": {},
   "outputs": [
    {
     "data": {
      "text/plain": [
       "[<matplotlib.lines.Line2D at 0x7fe0647267f0>]"
      ]
     },
     "execution_count": 610,
     "metadata": {},
     "output_type": "execute_result"
    },
    {
     "data": {
      "image/png": "[encoded data removed]",
      "text/plain": [
       "<Figure size 432x288 with 1 Axes>"
      ]
     },
     "metadata": {
      "needs_background": "light"
     },
     "output_type": "display_data"
    }
   ],
   "source": [
    "plt.plot(olg.Deficit_ratio[:250])"
   ]
  },
  {
   "cell_type": "code",
   "execution_count": 609,
   "metadata": {},
   "outputs": [
    {
     "data": {
      "text/plain": [
       "<matplotlib.legend.Legend at 0x7fe0647d7640>"
      ]
     },
     "execution_count": 609,
     "metadata": {},
     "output_type": "execute_result"
    },
    {
     "data": {
      "image/png": "[encoded data removed]",
      "text/plain": [
       "<Figure size 432x288 with 1 Axes>"
      ]
     },
     "metadata": {
      "needs_background": "light"
     },
     "output_type": "display_data"
    }
   ],
   "source": [
    "# plt.plot(olg.Gov_Income[200:250])\n",
    "# Ins_sum  II_sum I_sum VA_sum Pi_sum\n",
    "plt.plot(olg.Gov_Income[150:250], label = \"income\")\n",
    "plt.plot(olg.Ins_sum[160:250], label = \"insurance\")\n",
    "plt.plot(olg.II_sum[150:200], label = \"investment income\")\n",
    "plt.plot(olg.I_sum[160:250], label = \"income\")\n",
    "plt.plot(olg.VA_sum[160:250], label = \"value-added\")\n",
    "plt.plot(olg.Pi_sum[160:250], label = \"profit\")\n",
    "plt.title(\"Taxes\")\n",
    "# plt.plot(olg.Gov_Outcome[221:250], label = \"outcome\")\n",
    "plt.legend()"
   ]
  },
  {
   "cell_type": "code",
   "execution_count": 607,
   "metadata": {},
   "outputs": [
    {
     "data": {
      "text/plain": [
       "<matplotlib.legend.Legend at 0x7fe06487efd0>"
      ]
     },
     "execution_count": 607,
     "metadata": {},
     "output_type": "execute_result"
    },
    {
     "data": {
      "image/png": "[encoded data removed]",
      "text/plain": [
       "<Figure size 432x288 with 1 Axes>"
      ]
     },
     "metadata": {
      "needs_background": "light"
     },
     "output_type": "display_data"
    }
   ],
   "source": [
    "plt.plot(olg.l[0,345:249:-1,250], label = \"L\")\n",
    "plt.plot(olg.Pi[0,345:249:-1,250], label = \"Pi\")\n",
    "plt.plot(olg.epsilon[0,345:249:-1,250], label =\"eps\")\n",
    "plt.legend()"
   ]
  },
  {
   "cell_type": "code",
   "execution_count": 509,
   "metadata": {},
   "outputs": [
    {
     "data": {
      "text/plain": [
       "[<matplotlib.lines.Line2D at 0x7fe08e7c7790>]"
      ]
     },
     "execution_count": 509,
     "metadata": {},
     "output_type": "execute_result"
    },
    {
     "data": {
      "image/png": "[encoded data removed]",
      "text/plain": [
       "<Figure size 432x288 with 1 Axes>"
      ]
     },
     "metadata": {
      "needs_background": "light"
     },
     "output_type": "display_data"
    }
   ],
   "source": [
    "plt.plot(olg.Deficit[150:250])"
   ]
  },
  {
   "cell_type": "code",
   "execution_count": 266,
   "metadata": {},
   "outputs": [
    {
     "data": {
      "text/plain": [
       "['A',\n",
       " 'A_growth',\n",
       " 'Assets',\n",
       " 'Consumption',\n",
       " 'D',\n",
       " 'Debt',\n",
       " 'Deficit',\n",
       " 'Deficit_ratio',\n",
       " 'G',\n",
       " 'Gov',\n",
       " 'Gov_Income',\n",
       " 'Gov_Outcome',\n",
       " 'I',\n",
       " 'II_sum',\n",
       " 'I_sum',\n",
       " 'Ins_sum',\n",
       " 'K',\n",
       " 'L',\n",
       " 'L_share',\n",
       " 'Labor',\n",
       " 'M',\n",
       " 'N',\n",
       " 'N_growth',\n",
       " 'Pi',\n",
       " 'Pi_sum',\n",
       " 'Rho_sum',\n",
       " 'T',\n",
       " 'VA_sum',\n",
       " 'Y',\n",
       " '__class__',\n",
       " '__delattr__',\n",
       " '__dict__',\n",
       " '__dir__',\n",
       " '__doc__',\n",
       " '__eq__',\n",
       " '__format__',\n",
       " '__ge__',\n",
       " '__getattribute__',\n",
       " '__gt__',\n",
       " '__hash__',\n",
       " '__init__',\n",
       " '__init_subclass__',\n",
       " '__le__',\n",
       " '__lt__',\n",
       " '__module__',\n",
       " '__ne__',\n",
       " '__new__',\n",
       " '__reduce__',\n",
       " '__reduce_ex__',\n",
       " '__repr__',\n",
       " '__setattr__',\n",
       " '__sizeof__',\n",
       " '__str__',\n",
       " '__subclasshook__',\n",
       " '__weakref__',\n",
       " 'a',\n",
       " 'a_initial',\n",
       " 'alpha',\n",
       " 'beta',\n",
       " 'c',\n",
       " 'create_guess',\n",
       " 'delta',\n",
       " 'epsilon',\n",
       " 'eta',\n",
       " 'gamma',\n",
       " 'household',\n",
       " 'i',\n",
       " 'i_steady',\n",
       " 'k',\n",
       " 'l',\n",
       " 'lmbda',\n",
       " 'lmbda_to_price',\n",
       " 'lmbda_to_price_steady',\n",
       " 'omega',\n",
       " 'phi',\n",
       " 'price',\n",
       " 'price_E',\n",
       " 'price_M',\n",
       " 'price_N',\n",
       " 'psi',\n",
       " 'r',\n",
       " 'rho',\n",
       " 'sigma',\n",
       " 'steady',\n",
       " 'steady_max_iter',\n",
       " 'steady_path',\n",
       " 'steady_state',\n",
       " 'tau_I',\n",
       " 'tau_II',\n",
       " 'tau_Ins',\n",
       " 'tau_VA',\n",
       " 'tau_pi',\n",
       " 'tau_rho',\n",
       " 'theta',\n",
       " 'update_government',\n",
       " 'update_guess',\n",
       " 'w']"
      ]
     },
     "execution_count": 266,
     "metadata": {},
     "output_type": "execute_result"
    }
   ],
   "source": [
    "# dir(olg) I"
   ]
  },
  {
   "cell_type": "code",
   "execution_count": 173,
   "metadata": {
    "pycharm": {
     "name": "#%%\n"
    },
    "scrolled": true
   },
   "outputs": [
    {
     "data": {
      "text/plain": [
       "Text(0.5, 1.0, 'wage adjustment')"
      ]
     },
     "execution_count": 173,
     "metadata": {},
     "output_type": "execute_result"
    },
    {
     "data": {
      "image/png": "[encoded data removed]",
      "text/plain": [
       "<Figure size 432x288 with 1 Axes>"
      ]
     },
     "metadata": {
      "needs_background": "light"
     },
     "output_type": "display_data"
    }
   ],
   "source": [
    "plt.plot([item[1][6] for i, item in enumerate(olg.steady_path)])\n",
    "# plt.plot([item[1][1] for i, item in enumerate(olg.steady_path)])\n",
    "plt.axhline(y=0, color='r', linestyle='-')\n",
    "plt.title(\"wage adjustment\")"
   ]
  },
  {
   "cell_type": "code",
   "execution_count": 174,
   "metadata": {},
   "outputs": [
    {
     "data": {
      "text/plain": [
       "Text(0.5, 1.0, 'Labor')"
      ]
     },
     "execution_count": 174,
     "metadata": {},
     "output_type": "execute_result"
    },
    {
     "data": {
      "image/png": "[encoded data removed]",
      "text/plain": [
       "<Figure size 432x288 with 1 Axes>"
      ]
     },
     "metadata": {
      "needs_background": "light"
     },
     "output_type": "display_data"
    }
   ],
   "source": [
    "plt.plot([item[1][1]*item[1][-2] for i, item in enumerate(olg.steady_path)], label = \"non-export\")\n",
    "plt.plot([(1-item[1][1])*item[1][-2] for i, item in enumerate(olg.steady_path)], label = \"export\")\n",
    "plt.legend()\n",
    "plt.title(\"Labor\")"
   ]
  },
  {
   "cell_type": "code",
   "execution_count": 175,
   "metadata": {},
   "outputs": [
    {
     "data": {
      "text/plain": [
       "Text(0.5, 1.0, 'Capital')"
      ]
     },
     "execution_count": 175,
     "metadata": {},
     "output_type": "execute_result"
    },
    {
     "data": {
      "image/png": "[encoded data removed]",
      "text/plain": [
       "<Figure size 432x288 with 1 Axes>"
      ]
     },
     "metadata": {
      "needs_background": "light"
     },
     "output_type": "display_data"
    }
   ],
   "source": [
    "plt.plot([item[1][0]*item[1][-2] for i, item in enumerate(olg.steady_path)], label = \"non-export\")\n",
    "plt.plot([item[1][2]*item[1][-2] for i, item in enumerate(olg.steady_path)], label = \"export\")\n",
    "plt.legend()\n",
    "plt.title(\"Capital\")"
   ]
  },
  {
   "cell_type": "code",
   "execution_count": 176,
   "metadata": {},
   "outputs": [
    {
     "data": {
      "text/plain": [
       "Text(0.5, 1.0, 'non-export labor share adjustment')"
      ]
     },
     "execution_count": 176,
     "metadata": {},
     "output_type": "execute_result"
    },
    {
     "data": {
      "image/png": "[encoded data removed]",
      "text/plain": [
       "<Figure size 432x288 with 1 Axes>"
      ]
     },
     "metadata": {
      "needs_background": "light"
     },
     "output_type": "display_data"
    }
   ],
   "source": [
    "# plt.plot([item[1][0] for i, item in enumerate(olg.steady_path)])\n",
    "plt.plot([item[1][1] for i, item in enumerate(olg.steady_path)])\n",
    "plt.title(\"non-export labor share adjustment\")"
   ]
  },
  {
   "cell_type": "code",
   "execution_count": 177,
   "metadata": {},
   "outputs": [
    {
     "data": {
      "text/plain": [
       "Text(0.5, 1.0, 'cons adjustment')"
      ]
     },
     "execution_count": 177,
     "metadata": {},
     "output_type": "execute_result"
    },
    {
     "data": {
      "image/png": "[encoded data removed]",
      "text/plain": [
       "<Figure size 432x288 with 1 Axes>"
      ]
     },
     "metadata": {
      "needs_background": "light"
     },
     "output_type": "display_data"
    }
   ],
   "source": [
    "plt.plot([item[1][-3] for i, item in enumerate(olg.steady_path)])\n",
    "plt.title(\"cons adjustment\")"
   ]
  },
  {
   "cell_type": "code",
   "execution_count": 178,
   "metadata": {},
   "outputs": [
    {
     "data": {
      "text/plain": [
       "Text(0.5, 1.0, 'price adjustment')"
      ]
     },
     "execution_count": 178,
     "metadata": {},
     "output_type": "execute_result"
    },
    {
     "data": {
      "image/png": "[encoded data removed]",
      "text/plain": [
       "<Figure size 432x288 with 1 Axes>"
      ]
     },
     "metadata": {
      "needs_background": "light"
     },
     "output_type": "display_data"
    }
   ],
   "source": [
    "plt.plot([item[1][4] for i, item in enumerate(olg.steady_path)], label =\"price\")\n",
    "plt.plot([item[1][5] for i, item in enumerate(olg.steady_path)], label =\"non-export price\")\n",
    "plt.legend()\n",
    "plt.title(\"price adjustment\")"
   ]
  },
  {
   "cell_type": "code",
   "execution_count": 163,
   "metadata": {
    "pycharm": {
     "name": "#%%\n"
    }
   },
   "outputs": [
    {
     "data": {
      "text/plain": [
       "Text(0.5, 1.0, 'Target function')"
      ]
     },
     "execution_count": 163,
     "metadata": {},
     "output_type": "execute_result"
    },
    {
     "data": {
      "image/png": "[encoded data removed]",
      "text/plain": [
       "<Figure size 432x288 with 1 Axes>"
      ]
     },
     "metadata": {
      "needs_background": "light"
     },
     "output_type": "display_data"
    }
   ],
   "source": [
    "import matplotlib.pyplot as plt\n",
    "plt.plot([item[0][\"fun\"] for i, item in enumerate(olg.steady_path)])\n",
    "plt.title(\"Target function\")"
   ]
  },
  {
   "cell_type": "code",
   "execution_count": 164,
   "metadata": {
    "pycharm": {
     "name": "#%%\n"
    }
   },
   "outputs": [
    {
     "data": {
      "text/plain": [
       "Text(0.5, 1.0, 'k')"
      ]
     },
     "execution_count": 164,
     "metadata": {},
     "output_type": "execute_result"
    },
    {
     "data": {
      "image/png": "[encoded data removed]",
      "text/plain": [
       "<Figure size 432x288 with 1 Axes>"
      ]
     },
     "metadata": {
      "needs_background": "light"
     },
     "output_type": "display_data"
    }
   ],
   "source": [
    "plt.plot([item[1][0] for i, item in enumerate(olg.steady_path)], label =\"k N\")\n",
    "plt.plot([item[1][2] for i, item in enumerate(olg.steady_path)], label =\"k E\")\n",
    "plt.legend()\n",
    "plt.title(\"k\")"
   ]
  },
  {
   "cell_type": "code",
   "execution_count": 152,
   "metadata": {},
   "outputs": [
    {
     "data": {
      "text/plain": [
       "Text(0.5, 1.0, 'k non-export adjustment')"
      ]
     },
     "execution_count": 152,
     "metadata": {},
     "output_type": "execute_result"
    },
    {
     "data": {
      "image/png": "[encoded data removed]",
      "text/plain": [
       "<Figure size 432x288 with 1 Axes>"
      ]
     },
     "metadata": {
      "needs_background": "light"
     },
     "output_type": "display_data"
    }
   ],
   "source": [
    "plt.plot([item[1][1] for i, item in enumerate(olg.steady_path)], label =\"N labor share\")\n",
    "plt.legend()\n",
    "plt.title(\"labor share\")"
   ]
  },
  {
   "cell_type": "code",
   "execution_count": 279,
   "metadata": {
    "pycharm": {
     "name": "#%%\n"
    }
   },
   "outputs": [
    {
     "data": {
      "text/plain": [
       "(     fun: 497133.5107400712\n",
       "     info: {'x': array([ 6.50888420e+00,  7.89066419e+02,  3.67245615e+04, -8.85181784e-03,\n",
       "         2.52521567e+01,  3.05824304e+03,  5.72445545e+04,  3.73356679e-02,\n",
       "         1.81871797e-01,  2.67263830e-08,  2.11897026e-02]), 'g': array([], dtype=float64), 'obj_val': 497133.5107400712, 'mult_g': array([], dtype=float64), 'mult_x_L': array([0., 0., 0., 0., 0., 0., 0., 0., 0., 0., 0.]), 'mult_x_U': array([0., 0., 0., 0., 0., 0., 0., 0., 0., 0., 0.]), 'status': -3, 'status_msg': b'An unrecoverable error occurred while Ipopt tried to compute the search direction.'}\n",
       "  message: b'An unrecoverable error occurred while Ipopt tried to compute the search direction.'\n",
       "     nfev: 629\n",
       "      nit: 21\n",
       "     njev: 25\n",
       "   status: -3\n",
       "  success: False\n",
       "        x: array([ 6.50888420e+00,  7.89066419e+02,  3.67245615e+04, -8.85181784e-03,\n",
       "         2.52521567e+01,  3.05824304e+03,  5.72445545e+04,  3.73356679e-02,\n",
       "         1.81871797e-01,  2.67263830e-08,  2.11897026e-02]),\n",
       " array([ 6.50888420e+00,  7.89066419e+02,  3.67245615e+04, -8.85181784e-03,\n",
       "         2.52521567e+01,  3.05824304e+03,  5.72445545e+04,  3.73356679e-02,\n",
       "         1.81871797e-01,  1.27880340e-07,  2.11357024e-02,  1.34896231e+10,\n",
       "         9.32640416e+04, -2.74112479e+05]))"
      ]
     },
     "execution_count": 279,
     "metadata": {},
     "output_type": "execute_result"
    }
   ],
   "source": [
    "olg.steady_path[-4]\n",
    "# единственный выход это потребление тоже менять с eta"
   ]
  },
  {
   "cell_type": "code",
   "execution_count": 38,
   "metadata": {
    "pycharm": {
     "name": "#%%\n"
    }
   },
   "outputs": [
    {
     "data": {
      "text/plain": [
       "[<matplotlib.lines.Line2D at 0x7f798456bc10>]"
      ]
     },
     "execution_count": 38,
     "metadata": {},
     "output_type": "execute_result"
    },
    {
     "data": {
      "image/png": "[encoded data removed]",
      "text/plain": [
       "<Figure size 432x288 with 1 Axes>"
      ]
     },
     "metadata": {
      "needs_background": "light"
     },
     "output_type": "display_data"
    }
   ],
   "source": [
    "import matplotlib.pyplot as plt\n",
    "plt.plot(olg.w)"
   ]
  },
  {
   "cell_type": "code",
   "execution_count": 39,
   "metadata": {},
   "outputs": [
    {
     "data": {
      "text/plain": [
       "array([1.42600744e-05, 1.42507980e-05, 1.42414996e-05, 1.42321791e-05,\n",
       "       1.42228363e-05, 1.42134710e-05, 1.42040831e-05, 1.41946724e-05,\n",
       "       1.41852387e-05, 1.41757819e-05, 1.41663018e-05, 1.41567982e-05,\n",
       "       1.41472709e-05, 1.41377198e-05, 1.41281447e-05, 1.41185453e-05,\n",
       "       1.41089216e-05, 1.40992733e-05, 1.40896002e-05, 1.40799021e-05,\n",
       "       1.40701790e-05, 1.40604305e-05, 1.40506564e-05, 1.40408566e-05,\n",
       "       1.40310309e-05, 1.40211791e-05, 1.40113009e-05, 1.40013962e-05,\n",
       "       1.39914647e-05, 1.39815062e-05, 1.39715206e-05, 1.39615076e-05,\n",
       "       1.39514670e-05, 1.39413985e-05, 1.39313020e-05, 1.39211772e-05,\n",
       "       1.39110239e-05, 1.39008419e-05, 1.38906309e-05, 1.38803907e-05,\n",
       "       1.38701211e-05, 1.38598218e-05, 1.38494926e-05, 1.38391332e-05,\n",
       "       1.38287434e-05, 1.38183229e-05, 1.38078715e-05, 1.37973889e-05,\n",
       "       1.37868749e-05, 1.37763292e-05, 1.37657516e-05, 1.37551417e-05,\n",
       "       1.37444993e-05, 1.37338241e-05, 1.37231159e-05, 1.37123743e-05,\n",
       "       1.37015991e-05, 1.36907900e-05, 1.36799467e-05, 1.36690689e-05,\n",
       "       1.36581563e-05, 1.36472087e-05, 1.36362256e-05, 1.36252068e-05,\n",
       "       1.36141520e-05, 1.36030609e-05, 1.35919331e-05, 1.35807684e-05,\n",
       "       1.35695663e-05, 1.35583266e-05, 1.35470489e-05, 1.35357329e-05,\n",
       "       1.35243783e-05, 1.35129847e-05, 1.35015517e-05, 1.34900790e-05,\n",
       "       1.34785662e-05, 1.34670130e-05, 1.34554190e-05, 1.34437838e-05,\n",
       "       1.34321070e-05, 1.34203883e-05, 1.34086273e-05, 1.33968235e-05,\n",
       "       1.33849766e-05, 1.33730862e-05, 1.33611518e-05, 1.33491731e-05,\n",
       "       1.33371496e-05, 1.33250809e-05, 1.33129666e-05, 1.33008062e-05,\n",
       "       1.32885993e-05, 1.32763455e-05, 1.32640442e-05, 1.32516951e-05,\n",
       "       1.32392976e-05, 1.32268513e-05, 1.32143558e-05, 1.32018104e-05,\n",
       "       1.31892148e-05, 1.31765685e-05, 1.31638708e-05, 1.31511214e-05,\n",
       "       1.31383197e-05, 1.31254652e-05, 1.31125573e-05, 1.30995956e-05,\n",
       "       1.30865793e-05, 1.30735081e-05, 1.30603813e-05, 1.30471984e-05,\n",
       "       1.30339587e-05, 1.30206618e-05, 1.30073069e-05, 1.29938935e-05,\n",
       "       1.29804211e-05, 1.29668888e-05, 1.29532962e-05, 1.29396426e-05,\n",
       "       1.29259273e-05, 1.29121497e-05, 1.28983091e-05, 1.28844048e-05,\n",
       "       1.28704361e-05, 1.28564024e-05, 1.28423029e-05, 1.28281369e-05,\n",
       "       1.28139037e-05, 1.27996025e-05, 1.27852326e-05, 1.27707932e-05,\n",
       "       1.27562835e-05, 1.27417027e-05, 1.27270501e-05, 1.27123248e-05,\n",
       "       1.26975260e-05, 1.26826528e-05, 1.26677045e-05, 1.26526800e-05,\n",
       "       1.26375787e-05, 1.26223994e-05, 1.26071414e-05, 1.25918038e-05,\n",
       "       1.25763854e-05, 1.25608856e-05, 1.25453031e-05, 1.25296372e-05,\n",
       "       1.25138866e-05, 1.24980506e-05, 1.24821279e-05, 1.24661175e-05,\n",
       "       1.24500185e-05, 1.24338296e-05, 1.24175497e-05, 2.14082721e-02,\n",
       "       2.14082721e-02, 2.14082721e-02, 2.14082721e-02, 2.14082721e-02,\n",
       "       2.14082721e-02, 2.14082721e-02, 2.14082721e-02, 2.14082721e-02,\n",
       "       2.14082721e-02, 2.14082721e-02, 2.14082721e-02, 2.14082721e-02,\n",
       "       2.14082721e-02, 2.14082721e-02, 2.14082721e-02, 2.14082721e-02,\n",
       "       2.14082721e-02, 2.14082721e-02, 2.14082721e-02, 2.14082721e-02,\n",
       "       2.14082721e-02, 2.14082721e-02, 2.14082721e-02, 2.14082721e-02,\n",
       "       2.14082721e-02, 2.14082721e-02, 2.14082721e-02, 2.14082721e-02,\n",
       "       2.14082721e-02, 2.14082721e-02, 2.14082721e-02, 2.14082721e-02,\n",
       "       2.14082721e-02, 2.14082721e-02, 2.14082721e-02, 2.14082721e-02,\n",
       "       2.14082721e-02, 2.14082721e-02, 2.14082721e-02, 2.14082721e-02,\n",
       "       2.14082721e-02, 2.14082721e-02, 2.14082721e-02, 2.14082721e-02,\n",
       "       2.14082721e-02, 2.14082721e-02, 2.14082721e-02, 2.14082721e-02,\n",
       "       2.14082721e-02, 2.14082721e-02, 2.14082721e-02, 2.14082721e-02,\n",
       "       2.14082721e-02, 2.14082721e-02, 2.14082721e-02, 2.14082721e-02,\n",
       "       2.14082721e-02, 2.14082721e-02, 2.14082721e-02, 2.14082721e-02,\n",
       "       2.14082721e-02, 2.14082721e-02, 2.14082721e-02, 2.14082721e-02,\n",
       "       2.14082721e-02, 2.14082721e-02, 2.14082721e-02, 2.14082721e-02,\n",
       "       2.14082721e-02, 2.14082721e-02, 2.14082721e-02, 2.14082721e-02,\n",
       "       2.14082721e-02, 2.14082721e-02, 2.14082721e-02, 2.14082721e-02,\n",
       "       2.14082721e-02, 2.14082721e-02, 2.14082721e-02, 2.14082721e-02,\n",
       "       2.14082721e-02, 2.14082721e-02, 2.14082721e-02, 2.14082721e-02,\n",
       "       2.14082721e-02, 2.14082721e-02, 2.14082721e-02, 2.14082721e-02,\n",
       "       2.14082721e-02, 2.14082721e-02, 2.14082721e-02, 2.14082721e-02,\n",
       "       2.14082721e-02, 2.14082721e-02, 2.14082721e-02, 2.14082721e-02,\n",
       "       2.14082721e-02, 2.14082721e-02, 2.14082721e-02, 2.14082721e-02,\n",
       "       2.14082721e-02, 2.14082721e-02, 2.14082721e-02, 2.14082721e-02,\n",
       "       2.14082721e-02, 2.14082721e-02, 2.14082721e-02, 2.14082721e-02,\n",
       "       2.14082721e-02, 2.14082721e-02, 2.14082721e-02, 2.14082721e-02,\n",
       "       2.14082721e-02, 2.14082721e-02, 2.14082721e-02, 2.14082721e-02,\n",
       "       2.14082721e-02, 2.14082721e-02, 2.14082721e-02, 2.14082721e-02,\n",
       "       2.14082721e-02, 2.14082721e-02, 2.14082721e-02, 2.14082721e-02,\n",
       "       2.14082721e-02, 2.14082721e-02, 2.14082721e-02, 2.14082721e-02,\n",
       "       2.14082721e-02, 2.14082721e-02, 2.14082721e-02, 2.14082721e-02,\n",
       "       2.14082721e-02, 2.14082721e-02, 2.14082721e-02, 2.14082721e-02,\n",
       "       2.14082721e-02, 2.14082721e-02, 2.14082721e-02, 2.14082721e-02,\n",
       "       2.14082721e-02, 2.14082721e-02, 2.14082721e-02, 2.14082721e-02,\n",
       "       2.14082721e-02, 2.14082721e-02, 2.14082721e-02, 2.14082721e-02,\n",
       "       2.14082721e-02, 2.14082721e-02, 2.14082721e-02, 2.14082721e-02,\n",
       "       2.14082721e-02, 2.14082721e-02, 2.14082721e-02, 2.14082721e-02,\n",
       "       2.14082721e-02, 2.14082721e-02, 2.14082721e-02, 2.14082721e-02,\n",
       "       2.14082721e-02, 2.14082721e-02, 2.14082721e-02, 2.14082721e-02,\n",
       "       2.14082721e-02, 2.14082721e-02, 2.14082721e-02, 2.14082721e-02,\n",
       "       2.14082721e-02, 2.14082721e-02, 2.14082721e-02, 2.14082721e-02,\n",
       "       2.14082721e-02, 2.14082721e-02, 2.14082721e-02, 2.14082721e-02,\n",
       "       2.14082721e-02, 2.14082721e-02, 2.14082721e-02, 2.14082721e-02,\n",
       "       2.14082721e-02, 2.14082721e-02, 2.14082721e-02, 2.14082721e-02,\n",
       "       2.14082721e-02, 2.14082721e-02, 2.14082721e-02, 2.14082721e-02,\n",
       "       2.14082721e-02, 2.14082721e-02, 2.14082721e-02, 2.14082721e-02,\n",
       "       2.14082721e-02, 2.14082721e-02, 2.14082721e-02, 2.14082721e-02,\n",
       "       2.14082721e-02, 2.14082721e-02, 2.14082721e-02, 2.14082721e-02,\n",
       "       2.14082721e-02, 2.14082721e-02, 2.14082721e-02, 2.14082721e-02,\n",
       "       2.14082721e-02, 2.14082721e-02, 2.14082721e-02, 2.14082721e-02,\n",
       "       2.14082721e-02, 2.14082721e-02, 2.14082721e-02, 2.14082721e-02,\n",
       "       2.14082721e-02, 2.14082721e-02, 2.14082721e-02, 2.14082721e-02,\n",
       "       2.14082721e-02, 2.14082721e-02, 2.14082721e-02, 2.14082721e-02,\n",
       "       2.14082721e-02, 2.14082721e-02, 2.14082721e-02, 2.14082721e-02,\n",
       "       2.14082721e-02, 2.14082721e-02, 2.14082721e-02, 2.14082721e-02,\n",
       "       2.14082721e-02, 2.14082721e-02, 2.14082721e-02, 2.14082721e-02,\n",
       "       2.14082721e-02, 2.14082721e-02, 2.14082721e-02, 2.14082721e-02,\n",
       "       2.14082721e-02, 2.14082721e-02, 2.14082721e-02, 2.14082721e-02,\n",
       "       2.14082721e-02, 2.14082721e-02, 2.14082721e-02, 2.14082721e-02,\n",
       "       2.14082721e-02, 2.14082721e-02, 2.14082721e-02, 2.14082721e-02,\n",
       "       2.14082721e-02, 2.14082721e-02, 2.14082721e-02, 2.14082721e-02,\n",
       "       2.14082721e-02, 2.14082721e-02, 2.14082721e-02, 2.14082721e-02,\n",
       "       2.14082721e-02, 2.14082721e-02, 2.14082721e-02, 2.14082721e-02,\n",
       "       2.14082721e-02, 2.14082721e-02, 2.14082721e-02, 2.14082721e-02,\n",
       "       2.14082721e-02, 2.14082721e-02, 2.14082721e-02, 2.14082721e-02,\n",
       "       2.14082721e-02, 2.14082721e-02, 2.14082721e-02, 2.14082721e-02,\n",
       "       2.14082721e-02, 2.14082721e-02, 2.14082721e-02, 2.14082721e-02,\n",
       "       2.14082721e-02, 2.14082721e-02, 2.14082721e-02, 2.14082721e-02,\n",
       "       2.14082721e-02, 2.14082721e-02, 2.14082721e-02, 2.14082721e-02,\n",
       "       2.14082721e-02, 2.14082721e-02, 2.14082721e-02, 2.14082721e-02,\n",
       "       2.14082721e-02, 2.14082721e-02, 2.14082721e-02, 2.14082721e-02,\n",
       "       2.14082721e-02, 2.14082721e-02, 2.14082721e-02, 2.14082721e-02,\n",
       "       2.14082721e-02, 2.14082721e-02, 2.14082721e-02, 2.14082721e-02,\n",
       "       2.14082721e-02, 2.14082721e-02, 2.14082721e-02, 2.14082721e-02,\n",
       "       2.14082721e-02, 2.14082721e-02, 2.14082721e-02, 2.14082721e-02,\n",
       "       2.14082721e-02, 2.14082721e-02, 2.14082721e-02, 2.14082721e-02,\n",
       "       2.14082721e-02, 2.14082721e-02, 2.14082721e-02, 2.14082721e-02,\n",
       "       2.14082721e-02, 2.14082721e-02, 2.14082721e-02, 2.14082721e-02,\n",
       "       2.14082721e-02, 2.14082721e-02, 2.14082721e-02, 2.14082721e-02,\n",
       "       2.14082721e-02, 2.14082721e-02, 2.14082721e-02, 2.14082721e-02,\n",
       "       2.14082721e-02, 2.14082721e-02, 2.14082721e-02, 2.14082721e-02,\n",
       "       2.14082721e-02, 2.14082721e-02, 2.14082721e-02, 2.14082721e-02,\n",
       "       2.14082721e-02, 2.14082721e-02, 2.14082721e-02, 2.14082721e-02,\n",
       "       2.14082721e-02, 2.14082721e-02, 2.14082721e-02, 2.14082721e-02,\n",
       "       2.14082721e-02, 2.14082721e-02, 2.14082721e-02, 2.14082721e-02,\n",
       "       2.14082721e-02, 2.14082721e-02, 2.14082721e-02, 2.14082721e-02,\n",
       "       2.14082721e-02, 2.14082721e-02, 2.14082721e-02, 2.14082721e-02,\n",
       "       2.14082721e-02, 2.14082721e-02, 2.14082721e-02, 2.14082721e-02,\n",
       "       2.14082721e-02, 2.14082721e-02, 2.14082721e-02, 2.14082721e-02,\n",
       "       2.14082721e-02, 2.14082721e-02, 2.14082721e-02, 2.14082721e-02,\n",
       "       2.14082721e-02, 2.14082721e-02, 2.14082721e-02, 2.14082721e-02,\n",
       "       2.14082721e-02, 2.14082721e-02, 2.14082721e-02, 2.14082721e-02,\n",
       "       2.14082721e-02, 2.14082721e-02, 2.14082721e-02, 2.14082721e-02,\n",
       "       2.14082721e-02, 2.14082721e-02, 2.14082721e-02, 2.14082721e-02,\n",
       "       2.14082721e-02, 2.14082721e-02, 2.14082721e-02, 2.14082721e-02,\n",
       "       2.14082721e-02, 2.14082721e-02, 2.14082721e-02, 2.14082721e-02,\n",
       "       2.14082721e-02, 2.14082721e-02, 2.14082721e-02, 2.14082721e-02,\n",
       "       2.14082721e-02, 2.14082721e-02, 2.14082721e-02, 2.14082721e-02,\n",
       "       2.14082721e-02, 2.14082721e-02, 2.14082721e-02, 2.14082721e-02,\n",
       "       2.14082721e-02, 2.14082721e-02, 2.14082721e-02, 2.14082721e-02,\n",
       "       2.14082721e-02, 2.14082721e-02, 2.14082721e-02, 2.14082721e-02,\n",
       "       2.14082721e-02, 2.14082721e-02, 2.14082721e-02, 2.14082721e-02,\n",
       "       2.14082721e-02, 2.14082721e-02, 2.14082721e-02, 2.14082721e-02,\n",
       "       2.14082721e-02, 2.14082721e-02, 2.14082721e-02, 2.14082721e-02,\n",
       "       2.14082721e-02, 2.14082721e-02, 2.14082721e-02, 2.14082721e-02,\n",
       "       2.14082721e-02, 2.14082721e-02, 2.14082721e-02, 2.14082721e-02,\n",
       "       2.14082721e-02, 2.14082721e-02, 2.14082721e-02, 2.14082721e-02,\n",
       "       2.14082721e-02, 2.14082721e-02, 2.14082721e-02, 2.14082721e-02,\n",
       "       2.14082721e-02, 2.14082721e-02, 2.14082721e-02, 2.14082721e-02,\n",
       "       2.14082721e-02, 2.14082721e-02, 2.14082721e-02, 2.14082721e-02,\n",
       "       2.14082721e-02, 2.14082721e-02, 2.14082721e-02, 2.14082721e-02,\n",
       "       2.14082721e-02, 2.14082721e-02])"
      ]
     },
     "execution_count": 39,
     "metadata": {},
     "output_type": "execute_result"
    }
   ],
   "source": [
    "olg.w"
   ]
  },
  {
   "cell_type": "code",
   "execution_count": 606,
   "metadata": {
    "pycharm": {
     "name": "#%%\n"
    }
   },
   "outputs": [
    {
     "data": {
      "text/plain": [
       "[<matplotlib.lines.Line2D at 0x2e65210a490>]"
      ]
     },
     "execution_count": 606,
     "metadata": {},
     "output_type": "execute_result"
    },
    {
     "data": {
      "image/png": "[encoded data removed]",
      "text/plain": [
       "<Figure size 432x288 with 1 Axes>"
      ]
     },
     "metadata": {
      "needs_background": "light"
     },
     "output_type": "display_data"
    }
   ],
   "source": [
    "# plt.plot(olg.c[0][345-30,(250-30):(345-30)]) # труд у дрпугих неправильно рассчитывается?\n",
    "# plt.plot(olg.l[0][345-30,(250-30):(345-30)])\n"
   ]
  },
  {
   "cell_type": "code",
   "execution_count": 43,
   "metadata": {
    "pycharm": {
     "name": "#%%\n"
    }
   },
   "outputs": [
    {
     "data": {
      "text/plain": [
       "1.3201810425347083e-05"
      ]
     },
     "execution_count": 43,
     "metadata": {},
     "output_type": "execute_result"
    }
   ],
   "source": [
    "olg.w[99]"
   ]
  },
  {
   "cell_type": "code",
   "execution_count": 25,
   "metadata": {
    "pycharm": {
     "name": "#%%\n"
    }
   },
   "outputs": [
    {
     "data": {
      "image/png": "[encoded data removed]",
      "text/plain": [
       "<Figure size 432x288 with 1 Axes>"
      ]
     },
     "metadata": {
      "needs_background": "light"
     },
     "output_type": "display_data"
    }
   ],
   "source": [
    "# plt.plot(olg.l[0][260,165:260], label= \"labor\")\n",
    "# plt.plot(olg.c[0][260,165:260], label = \"consumption\")\n",
    "plt.plot(olg.a[0][260,165:260], label = \"assets\")\n",
    "# plt.plot((olg.c[0][260,165:260]**olg.phi * (1-olg.l[0][260,165:260])**(1-olg.phi))**(1-olg.theta)/(1-olg.theta), label = \"utility\")\n",
    "plt.show()"
   ]
  },
  {
   "cell_type": "code",
   "execution_count": 614,
   "metadata": {
    "pycharm": {
     "name": "#%%\n"
    }
   },
   "outputs": [
    {
     "data": {
      "text/plain": [
       "Text(0.5, 1.0, 'Wage path')"
      ]
     },
     "execution_count": 614,
     "metadata": {},
     "output_type": "execute_result"
    },
    {
     "data": {
      "image/png": "[encoded data removed]",
      "text/plain": [
       "<Figure size 432x288 with 1 Axes>"
      ]
     },
     "metadata": {
      "needs_background": "light"
     },
     "output_type": "display_data"
    }
   ],
   "source": [
    "plt.plot([item[0][\"info\"][\"x\"][8] for i, item in enumerate(olg.steady_path)if i != 1] [0:])\n",
    "plt.title(\"Wage path\")"
   ]
  },
  {
   "cell_type": "code",
   "execution_count": 615,
   "metadata": {
    "pycharm": {
     "name": "#%%\n"
    }
   },
   "outputs": [
    {
     "data": {
      "text/plain": [
       "Text(0.5, 1.0, 'Price N path')"
      ]
     },
     "execution_count": 615,
     "metadata": {},
     "output_type": "execute_result"
    },
    {
     "data": {
      "image/png": "[encoded data removed]",
      "text/plain": [
       "<Figure size 432x288 with 1 Axes>"
      ]
     },
     "metadata": {
      "needs_background": "light"
     },
     "output_type": "display_data"
    }
   ],
   "source": [
    "plt.plot([item[0][\"info\"][\"x\"][10] for item in olg.steady_path][0:])\n",
    "plt.title(\"Price N path\")"
   ]
  },
  {
   "cell_type": "code",
   "execution_count": null,
   "metadata": {
    "pycharm": {
     "name": "#%%\n"
    }
   },
   "outputs": [],
   "source": [
    "import matplotlib.pyplot as plt\n",
    "# plt.plot((((olg.c[:,:610,:]*olg.N[:,:610,:]).sum(axis=0).sum(axis=0))/olg.N[:,:610,:].sum(axis=0).sum(axis=0))[:150])\n",
    "# plt.plot((((olg.a[:,:610,:]*olg.N[:,:610,:]).sum(axis=0).sum(axis=0))/olg.N[:,:610,:].sum(axis=0).sum(axis=0))[:150])\n",
    "plt.plot((((olg.l[:,:610,:]*olg.N[:,:610,:]).sum(axis=0).sum(axis=0))/olg.N[:,:610,:].sum(axis=0).sum(axis=0))[:250])\n",
    "# plt.plot(olg.I[0,:100]/olg.N[0].sum(axis=0)[:100])\n",
    "# plt.plot((olg.l[0,:250]*olg.N[0,:250]).sum(axis=0)/(olg.N[0,:250].sum(axis=0)))\n",
    "plt.show()"
   ]
  },
  {
   "cell_type": "code",
   "execution_count": null,
   "metadata": {
    "pycharm": {
     "name": "#%%\n"
    }
   },
   "outputs": [],
   "source": [
    "plt.plot(olg.I[0,1:100]/olg.I[0,0:99])"
   ]
  },
  {
   "cell_type": "code",
   "execution_count": 616,
   "metadata": {
    "pycharm": {
     "name": "#%%\n"
    }
   },
   "outputs": [
    {
     "data": {
      "text/plain": [
       "[<matplotlib.lines.Line2D at 0x2e652135ee0>]"
      ]
     },
     "execution_count": 616,
     "metadata": {},
     "output_type": "execute_result"
    },
    {
     "data": {
      "image/png": "[encoded data removed]",
      "text/plain": [
       "<Figure size 432x288 with 1 Axes>"
      ]
     },
     "metadata": {
      "needs_background": "light"
     },
     "output_type": "display_data"
    }
   ],
   "source": [
    "plt.plot(olg.L[0][:200]+olg.L[1][:200])\n",
    "plt.plot(((olg.l[:,:610,:]*olg.N[:,:610,:]*olg.epsilon[:,:610,:]).sum(axis=0).sum(axis=0))[:200])"
   ]
  },
  {
   "cell_type": "code",
   "execution_count": 331,
   "metadata": {
    "pycharm": {
     "name": "#%%\n"
    }
   },
   "outputs": [
    {
     "data": {
      "text/plain": [
       "array([170000., 170000., 170000., 170000., 170000., 170000., 170000.,\n",
       "       170000., 170000., 170000., 170000., 170000., 170000., 170000.,\n",
       "       170000., 170000., 170000., 170000., 170000., 170000., 170000.,\n",
       "       170000., 170000., 170000., 170000., 170000., 170000., 170000.,\n",
       "       170000., 170000., 170000., 170000., 170000., 170000., 170000.,\n",
       "       170000., 170000., 170000., 170000., 170000., 170000., 170000.,\n",
       "       170000., 170000., 170000., 170000., 170000., 170000., 170000.,\n",
       "       170000., 170000., 170000., 170000., 170000., 170000., 170000.,\n",
       "       170000., 170000., 170000., 170000., 170000., 170000., 170000.,\n",
       "       170000., 170000., 170000., 170000., 170000., 170000., 170000.,\n",
       "       170000., 170000., 170000., 170000., 170000., 170000., 170000.,\n",
       "       170000., 170000., 170000., 170000., 170000., 170000., 170000.,\n",
       "       170000., 170000., 170000., 170000., 170000., 170000., 170000.,\n",
       "       170000., 170000., 170000., 170000., 170000., 170000., 170000.,\n",
       "       170000., 170000., 170000., 170000., 170000., 170000., 170000.,\n",
       "       170000., 170000., 170000., 170000., 170000., 170000., 170000.,\n",
       "       170000., 170000., 170000., 170000., 170000., 170000., 170000.,\n",
       "       170000., 170000., 170000., 170000., 170000., 170000., 170000.,\n",
       "       170000., 170000., 170000., 170000., 170000., 170000., 170000.,\n",
       "       170000., 170000., 170000., 170000., 170000., 170000., 170000.,\n",
       "       170000., 170000., 170000., 170000., 170000., 170000., 170000.,\n",
       "       170000., 170000., 170000., 170000., 170000., 170000., 170000.,\n",
       "       170000., 170000., 170000., 170000., 170000., 170000., 170000.,\n",
       "       170000., 170000., 170000., 170000., 170000., 170000., 170000.,\n",
       "       170000., 170000., 170000., 170000., 170000., 170000., 170000.,\n",
       "       170000., 170000., 170000., 170000., 170000., 170000., 170000.,\n",
       "       170000., 170000., 170000., 170000., 170000., 170000., 170000.,\n",
       "       170000., 170000., 170000., 170000., 170000., 170000., 170000.,\n",
       "       170000., 170000., 170000., 170000.])"
      ]
     },
     "execution_count": 331,
     "metadata": {},
     "output_type": "execute_result"
    }
   ],
   "source": [
    "olg.L[0][:200]+olg.L[1][:200]"
   ]
  },
  {
   "cell_type": "code",
   "execution_count": 332,
   "metadata": {
    "pycharm": {
     "name": "#%%\n"
    }
   },
   "outputs": [
    {
     "data": {
      "text/plain": [
       "[<matplotlib.lines.Line2D at 0x2e65345fe50>]"
      ]
     },
     "execution_count": 332,
     "metadata": {},
     "output_type": "execute_result"
    },
    {
     "data": {
      "image/png": "[encoded data removed]",
      "text/plain": [
       "<Figure size 432x288 with 1 Axes>"
      ]
     },
     "metadata": {
      "needs_background": "light"
     },
     "output_type": "display_data"
    }
   ],
   "source": [
    "plt.plot((olg.K[0]/olg.L[0])[:100])"
   ]
  },
  {
   "cell_type": "code",
   "execution_count": 44,
   "metadata": {
    "pycharm": {
     "name": "#%%\n"
    }
   },
   "outputs": [
    {
     "data": {
      "text/plain": [
       "[<matplotlib.lines.Line2D at 0x7f798443ce80>]"
      ]
     },
     "execution_count": 44,
     "metadata": {},
     "output_type": "execute_result"
    },
    {
     "data": {
      "image/png": "[encoded data removed]",
      "text/plain": [
       "<Figure size 432x288 with 1 Axes>"
      ]
     },
     "metadata": {
      "needs_background": "light"
     },
     "output_type": "display_data"
    }
   ],
   "source": [
    "plt.plot(olg.a[0][100][:100])"
   ]
  },
  {
   "cell_type": "code",
   "execution_count": 45,
   "metadata": {
    "pycharm": {
     "name": "#%%\n"
    }
   },
   "outputs": [
    {
     "data": {
      "text/plain": [
       "[<matplotlib.lines.Line2D at 0x7f798458bc40>]"
      ]
     },
     "execution_count": 45,
     "metadata": {},
     "output_type": "execute_result"
    },
    {
     "data": {
      "image/png": "[encoded data removed]",
      "text/plain": [
       "<Figure size 432x288 with 1 Axes>"
      ]
     },
     "metadata": {
      "needs_background": "light"
     },
     "output_type": "display_data"
    }
   ],
   "source": [
    "plt.plot(olg.price_N)"
   ]
  },
  {
   "cell_type": "code",
   "execution_count": 54,
   "metadata": {},
   "outputs": [
    {
     "data": {
      "text/plain": [
       "1.2925927310610548e-05"
      ]
     },
     "execution_count": 54,
     "metadata": {},
     "output_type": "execute_result"
    }
   ],
   "source": [
    "olg.w[120]"
   ]
  },
  {
   "cell_type": "code",
   "execution_count": 49,
   "metadata": {
    "pycharm": {
     "name": "#%%\n"
    }
   },
   "outputs": [
    {
     "data": {
      "text/plain": [
       "[<matplotlib.lines.Line2D at 0x7f798419cb20>]"
      ]
     },
     "execution_count": 49,
     "metadata": {},
     "output_type": "execute_result"
    },
    {
     "data": {
      "image/png": "[encoded data removed]",
      "text/plain": [
       "<Figure size 432x288 with 1 Axes>"
      ]
     },
     "metadata": {
      "needs_background": "light"
     },
     "output_type": "display_data"
    }
   ],
   "source": [
    "plt.plot(olg.w[100])"
   ]
  }
 ],
 "metadata": {
  "kernelspec": {
   "display_name": "olg",
   "language": "python",
   "name": "olg"
  },
  "language_info": {
   "codemirror_mode": {
    "name": "ipython",
    "version": 3
   },
   "file_extension": ".py",
   "mimetype": "text/x-python",
   "name": "python",
   "nbconvert_exporter": "python",
   "pygments_lexer": "ipython3",
   "version": "3.8.10"
  }
 },
 "nbformat": 4,
 "nbformat_minor": 1
}
