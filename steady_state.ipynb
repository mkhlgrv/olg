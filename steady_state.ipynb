{
 "cells": [
  {
   "cell_type": "code",
   "execution_count": 5,
   "metadata": {
    "pycharm": {
     "name": "#%%\n"
    }
   },
   "outputs": [
    {
     "data": {
      "text/plain": [
       "True"
      ]
     },
     "execution_count": 5,
     "metadata": {},
     "output_type": "execute_result"
    }
   ],
   "source": [
    "import pandas as pd\n",
    "from scipy.optimize import fsolve\n",
    "import numpy as np\n",
    "import itertools\n",
    "import copy\n",
    "from cyipopt import minimize_ipopt\n",
    "import warnings\n",
    "import matplotlib.pyplot as plt\n",
    "from jax.config import config\n",
    "# Enable 64 bit floating point precision\n",
    "config.update(\"jax_enable_x64\", True)\n",
    "\n",
    "# We use the CPU instead of GPU und mute all warnings if no GPU/TPU is found.\n",
    "config.update('jax_platform_name', 'cpu')\n",
    "\n",
    "# import jax.numpy as np\n",
    "from jax import jit, grad, jacfwd, jacrev\n",
    "from tqdm.contrib.telegram import tqdm, trange\n",
    "from dotenv import load_dotenv\n",
    "import os\n",
    "load_dotenv()"
   ]
  },
  {
   "cell_type": "code",
   "execution_count": 6,
   "metadata": {
    "pycharm": {
     "name": "#%%\n"
    }
   },
   "outputs": [],
   "source": [
    "def counted(f):\n",
    "    def wrapped(*args, **kwargs):\n",
    "        wrapped.calls += 1\n",
    "        return f(*args, **kwargs)\n",
    "    wrapped.calls = 0\n",
    "    return wrapped\n",
    "def labor_income_vector(self, s, g, start, end):\n",
    "    return (1-self.tau_I[start:end]) * (1-(self.tau_rho[start:end] + self.tau_Ins[start:end])/(1+self.tau_rho[start:end] + self.tau_Ins[start:end])) * self.epsilon[s,g,start:end] * self.w[start:end]\n"
   ]
  },
  {
   "cell_type": "markdown",
   "metadata": {
    "pycharm": {
     "name": "#%% md\n"
    }
   },
   "source": [
    "Проблемы: надо посчитать долю наследства\n",
    "Для мигрантов матрицу размера 10к? (Каждое новое поколение имеет другое богатство)"
   ]
  },
  {
   "cell_type": "code",
   "execution_count": 634,
   "metadata": {},
   "outputs": [],
   "source": [
    "class OLG_model:\n",
    "    def __init__(self, G,T,N,epsilon, rho, sigma,Pi,r,price_M, price_E, tau_I,tau_II,tau_Ins,\n",
    "                 tau_pi, tau_VA, tau_rho, beta, phi , theta , psi, omega, alpha,\n",
    "                 delta, A,initial, eta,steady_max_iter,max_iter,steady_guess):\n",
    "        \"\"\"\n",
    "        OLG model\n",
    "        :param G: number of generations, default is 110\n",
    "        :param T: simulation time, default is 500\n",
    "        :param N_female: population (G+T-1, T) matrix where N[g,t] is cohort size of generation g in period t\n",
    "        :param N_male: population (G+T-1, T) matrix where N[g,t] is cohort size of generation g in period t\n",
    "        :param epsilon_female: female cohort- and year-specific productivity\n",
    "        :param epsilon_male: male cohort- and year-specific productivity\n",
    "        :param rho_female: female cohort- and year-specific retirement rate\n",
    "        :param rho_male: male cohort- and year-specific retirement rate\n",
    "        :param sigma: pension rate (pension point value) as share of wage for T periods\n",
    "        :param Pi_female: survival probability\n",
    "        :param Pi_male: survival probability\n",
    "        :param Beq_female_to_female,Beq_female_to_male,Beq_male_to_female,Beq_male_to_male: bequest matrix\n",
    "        :param r: rate of return for T periods\n",
    "        :param price_M: import prices for T periods\n",
    "        :param price_E: export prices for T periods\n",
    "        :param tau_I: income tax for T periods\n",
    "        :param tau_II: income tax on investment for T periods\n",
    "        :param tau_Ins: insurance tax for T periods\n",
    "        :param tau_pi: profit tax for T periods\n",
    "        :param tau_VA: value-added tax for T periods\n",
    "        :param tau_rho: retirement tax for T periods\n",
    "        :param beta: elasticity of intertemporal substitution\n",
    "        :param phi: elasticity of intertemporal substitution\n",
    "        :param theta: ?\n",
    "        :param psi: ? investment cost\n",
    "        :param omega: import share\n",
    "        :param alpha: elasticity of capital\n",
    "        :param delta: deprecation rate\n",
    "        :param A_N: total factor productivity, non-export good\n",
    "        :param A_E: total factor productivity, export goods\n",
    "        \"\"\"\n",
    "\n",
    "        ## Exogenous variables and parameters\n",
    "        # Demography\n",
    "        self.G, self.T,self.N,self.epsilon,self.Pi = G, T,N,epsilon,Pi\n",
    "        # Retirement\n",
    "        self.rho, self.sigma = rho, sigma\n",
    "        # Prices\n",
    "        self.r, self.price_M, self.price_E, self.omega = r, price_M, price_E, omega\n",
    "        # Taxation\n",
    "        self.tau_I, self.tau_II, self.tau_pi, self.tau_VA,self.tau_Ins, self.tau_rho =  tau_I,tau_II, tau_pi,tau_VA,tau_Ins, tau_rho\n",
    "        # Utility\n",
    "        self.beta, self.phi, self.theta  = beta, phi, theta\n",
    "        # Production\n",
    "        self.psi, self.alpha, self.delta, self.A = psi, alpha, delta, A\n",
    "\n",
    "        self.a_initial_sum = initial[\"a_initial_sum\"]\n",
    "        self.a_initial = np.zeros(shape=(2,max_time))\n",
    "\n",
    "\n",
    "\n",
    "        self.eta = eta\n",
    "        self.steady_max_iter = steady_max_iter\n",
    "        self.max_iter = max_iter\n",
    "\n",
    "        # Endogenous variable\n",
    "        # Initial guess\n",
    "        self.price_N = np.array([initial[\"price_N\"] for _ in range(max_time)])\n",
    "        self.K = np.array([[initial[\"K_N\"] for _ in range(max_time)], [initial[\"K_E\"] for _ in range(max_time)]])\n",
    "        self.L = np.array([[initial[\"L_N\"] for _ in range(max_time)], [initial[\"L_E\"] for _ in range(max_time)]])\n",
    "        self.I = np.array([[initial[\"I_N\"] for _ in range(max_time)], [initial[\"I_E\"] for _ in range(max_time)]])\n",
    "        \n",
    "        self.Debt = np.array([initial[\"Debt\"] for _ in range(max_time)])\n",
    "        \n",
    "        \n",
    "        self.VA_sum= np.zeros_like(self.Debt)\n",
    "        self.I_sum= np.zeros_like(self.Debt)\n",
    "        self.II_sum= np.zeros_like(self.Debt)\n",
    "        \n",
    "        self.Ins_sum= np.zeros_like(self.Debt)\n",
    "        self.Rho_sum= np.zeros_like(self.Debt)\n",
    "        self.Pi_sum= np.zeros_like(self.Debt)\n",
    "            \n",
    "        self.Gov_Income= np.zeros_like(self.Debt)\n",
    "        \n",
    "        self.Gov_Outcome= np.zeros_like(self.Debt)\n",
    "        self.Deficit= np.zeros_like(self.Debt)\n",
    "        self.Deficit_ratio= np.zeros_like(self.Debt)\n",
    "\n",
    "        self.lmbda = np.array([[0.5 for _ in range(max_time)] for _ in range(2)])\n",
    "\n",
    "        self.w = ((self.price_N *(1-self.alpha)*(self.K[0])**self.alpha *(self.A[0])**(1-self.alpha)*(self.L[0])**(-self.alpha))+\n",
    "        (self.price_E *(1-self.alpha)*(self.K[1])**self.alpha *(self.A[1])**(1-self.alpha)*(self.L[1])**(-self.alpha)))/2\n",
    "\n",
    "        self.price = (self.price_M)**self.omega * (self.price_N)**(1-self.omega)\n",
    "\n",
    "\n",
    "        self.Y = self.K**self.alpha * (self.L*self.A)**(1-self.alpha)\n",
    "\n",
    "        \n",
    "        self.k = np.zeros_like(self.K)\n",
    "        self.k[0] = self.K[0]/((self.L[0]+self.L[1])*self.A[0])\n",
    "        self.k[1] = self.K[1]/((self.L[0]+self.L[1])*self.A[1])\n",
    "        \n",
    "        self.i = self.I/self.K\n",
    "        \n",
    "        self.lmbda_to_price = np.zeros_like(self.lmbda)\n",
    "        \n",
    "        self.lmbda_to_price[0] = self.lmbda[0]/self.price\n",
    "        self.lmbda_to_price[1] = self.lmbda[1]/self.price\n",
    "        \n",
    "        self.L_share = np.zeros_like(self.L)\n",
    "        self.L_share[0] = self.L[0]/(self.L[0]+self.L[1])\n",
    "        self.L_share[1] = self.L[1]/(self.L[0]+self.L[1])\n",
    "        \n",
    "\n",
    "\n",
    "        self.c =  np.array([[[0.5 if ((g >= t) and (g<=self.G+t-1)) else 0 for t in range(max_time)] for g in range(max_time)] for _ in range(2)])\n",
    "        self.a = np.array([[[0.1 if ((g >= t) and (g<=self.G+t-1)) else 0 for t in range(max_time)] for g in range(max_time)] for _ in range(2)])\n",
    "        self.gamma = np.array([[[0.9 if ((g >= t) and (g<=self.G+t-1)) else 0 for t in range(max_time)] for g in range(max_time)] for _ in range(2)])\n",
    "        self.l = np.array([[[0.4 if ((g >= t) and (g<=self.G+t-1)) else 0 for t in range(max_time)] for g in range(max_time)] for _ in range(2)])\n",
    "\n",
    "        Consumption = np.array([np.sum([self.c[s,g,t]*self.N[s,g,t] for g in range(max_time) for s in range(2)]) for t in range(max_time)])\n",
    "        self.Consumption = Consumption\n",
    "\n",
    "        Labor = np.array([np.sum([self.l[s,g,self.T]*self.N[s,g,self.T]*self.epsilon[s,g,self.T] for g in range(max_time) for s in range(2)]) for t in range(max_time)])\n",
    "        self.Labor = Labor\n",
    "\n",
    "        Assets =  np.array([np.sum([self.a[s,g,t]*self.N[s,g,t] for g in range(max_time) for s in range(2)]) for t in range(max_time)])\n",
    "        self.Assets = Assets\n",
    "\n",
    "        \n",
    "        self.steady = np.array(list(steady_guess) + [Consumption[self.T], Labor[self.T], Assets[self.T]])\n",
    "        self.steady_path = []\n",
    "        \n",
    "        self.A_growth = self.A[0,self.T]/self.A[0, self.T-1]\n",
    "        self.N_growth = np.sum([self.N[s,g,self.T]*self.epsilon[s,g,self.T] for g in range(self.T, self.G+self.T) for s in range(2)])/\\\n",
    "                   np.sum([self.N[s,g,self.T-1]*self.epsilon[s,g,self.T-1] for g in range(self.T-1, self.G+self.T-1) for s in range(2)])\n",
    "        \n",
    "\n",
    "        self.lmbda_to_price_steady = (1+self.tau_VA[self.T])/((1 - self.psi/2 * (self.A_growth*self.N_growth -1)**2 - self.psi*self.A_growth*self.N_growth * (self.A_growth*self.N_growth -1))+self.psi/(1+self.r[self.T+1]) * (self.A_growth*self.N_growth -1)* (self.A_growth*self.N_growth)**2)\n",
    "        self.i_steady  = (self.A_growth*self.N_growth-1+self.delta) / (1-self.psi/2*(self.A_growth*self.N_growth -1)**2)\n",
    "        \n",
    "        self.D = self.Consumption+self.I[0]+self.I[1]\n",
    "        \n",
    "        self.M = self.omega * self.D * self.price / self.price_M\n",
    "        \n",
    "        self.Gov = np.array([initial[\"Gov\"]*(self.A_growth*self.N_growth)**i  for i in range(max_time)])\n",
    "\n",
    "        self.GDP = self.D+ self.price_N/self.price * self.Gov\n",
    "        \n",
    "        self.history = {t:[] for t in range(self.T)}\n",
    "          \n",
    "    def update_government(self, t):\n",
    "        self.VA_sum[t] = self.tau_VA[t]*self.price[t]*(self.Consumption[t]+self.I[0,t]+self.I[1, t])\n",
    "        self.II_sum[t] = self.tau_II[t]*self.Assets[t]\n",
    "        self.I_sum[t] = self.Labor[t] * self.w[t] *\\\n",
    "                        (1-(self.tau_rho[t] + self.tau_Ins[t])/\\\n",
    "                         (1+self.tau_rho[t] + self.tau_Ins[t])) *\\\n",
    "                        self.tau_I[t] \n",
    "        \n",
    "        \n",
    "        \n",
    "        self.Ins_sum[t] = self.tau_Ins[t]/(1+self.tau_rho[t] + self.tau_Ins[t]) * self.Labor[t] * self.w[t]\n",
    "        self.Rho_sum[t] = self.tau_rho[t]/(1+self.tau_rho[t] + self.tau_Ins[t]) * self.Labor[t] * self.w[t]\n",
    "        self.Pi_sum[t] = self.tau_pi[t] * (self.price[t] * self.K[0,t]**self.alpha *\\\n",
    "                                           (self.L[0,t]*self.A[0,t])**(1-self.alpha) -\\\n",
    "        self.w[t]*self.L[0,t] - self.delta * self.price[t]*self.K[0,t])+\\\n",
    "            self.tau_pi[t] * (self.price[t] * self.K[1,t]**self.alpha *\\\n",
    "                                           (self.L[1,t]*self.A[1,t])**(1-self.alpha) -\\\n",
    "            self.w[t]*self.L[1,t] - self.delta * self.price[t]*self.K[1,t])\n",
    "            \n",
    "        self.Gov_Income[t] = self.VA_sum[t] + self.I_sum[t]+self.II_sum[t]+self.Ins_sum[t]+self.Rho_sum[t]+self.Pi_sum[t]\n",
    "        \n",
    "        self.Gov_Outcome[t] = self.Gov[t] + self.sigma[t]*self.w[t] * np.sum(self.rho[:,:,t]*self.N[:,:,t])+\\\n",
    "                self.r[t]*self.Debt[t-1]\n",
    "        self.Deficit[t] = self.Gov_Outcome[t] - self.Gov_Income[t]\n",
    "        self.Deficit_ratio[t] = self.Deficit[t]/(self.Consumption[t]+np.sum(self.I[:,t])+self.Gov[t])\n",
    "        self.Debt[t] = self.Debt[t-1]+self.Deficit[t]\n",
    "        \n",
    "\n",
    "\n",
    "    def household(self, s, g, t, t_0=None):\n",
    "        def cumulative_rate_of_return(self,start, end):\n",
    "            if start <= end:\n",
    "                return np.prod(1+self.r[start:end]*(1-self.tau_II[start:end]))\n",
    "            else:\n",
    "                return 1\n",
    "\n",
    "        def get_initial_consumption(self, s, g, t_0):\n",
    "            return self.phi * (self.a_initial[s,g] * cumulative_rate_of_return(self, t_0, g+1)+\n",
    "                               np.sum(np.array([cumulative_rate_of_return(self,start, g+1) for start in range(t_0+1, g+2)])*\n",
    "                                      (labor_income_vector(self, s, g, t_0, g+1)+self.rho[s,g,t_0:(g+1)]*self.sigma[t_0:(g+1)]*self.w[t_0:(g+1)]\n",
    "                                       )))/\\\n",
    "                   np.sum(\n",
    "                       np.array([cumulative_rate_of_return(self,start, g+1) for start in range(t_0+1, g+2)])*\n",
    "                       (1+self.tau_VA[t_0:(g+1)])*(self.price[t_0:(g+1)])*\n",
    "                       (\n",
    "                               np.array([cumulative_rate_of_return(self,t_0+1, end) for end in range(t_0+1, g+2)])*\n",
    "                               self.beta**np.array([i-t_0 for i in range(t_0, g+1)])*self.Pi[s,g,t_0:(g+1)]/self.Pi[s,g,t_0] * (1+self.tau_VA[t_0])*(self.price[t_0])/((1+self.tau_VA[t_0:(g+1)])*(self.price[t_0:(g+1)])) *\n",
    "                               ((1+self.tau_VA[t_0:(g+1)])*(self.price[t_0:(g+1)])/((1+self.tau_VA[t_0])*self.price[t_0])*labor_income_vector(self, s, g,t_0, t_0+1)/labor_income_vector(self, s, g,t_0, g+1)\n",
    "                                )**((1-self.phi)*(1-self.theta)))**(1/self.theta)\n",
    "                   )\n",
    "        if t_0 is None:\n",
    "            t_0 = max(g-self.G+1,0)\n",
    "        bequest = 0\n",
    "        if t==t_0:\n",
    "            consumption = get_initial_consumption(self, s, g, t_0)\n",
    "        elif t_0 < t <= g:\n",
    "            consumption = self.c[s, g, t_0]*\\\n",
    "                          (cumulative_rate_of_return(self, t_0+1, t+1)*\n",
    "                           self.beta**(t-t_0)*self.Pi[s,g,t]/self.Pi[s,g,t_0] * (1+self.tau_VA[t_0])*self.price[t_0]/((1+self.tau_VA[t])*self.price[t]) *\n",
    "                           ((1+self.tau_VA[t])*self.price[t]/((1+self.tau_VA[t_0])*self.price[t_0])*labor_income_vector(self, s, g,t_0, t_0+1)/labor_income_vector(self, s, g,t, t+1))**((1-self.phi)*(1-self.theta))\n",
    "                           )**(1/self.theta)\n",
    "\n",
    "\n",
    "        labor = 1- consumption/(self.phi/(1-self.phi)*(1/((1+self.tau_VA[t])*self.price[t]))*labor_income_vector(self, s, g, t, t+1)[0])\n",
    "        if t == 0:\n",
    "            assets = labor_income_vector(self, s, g, t, t+1)[0]*labor+self.rho[s,g,t]*self.sigma[t]*self.w[t] - consumption*(1+self.tau_VA[t])*self.price[t]+self.a_initial[s,g]*(1+self.r[t]*(1-self.tau_II[t]))\n",
    "        else:\n",
    "            assets = labor_income_vector(self, s, g, t, t+1)[0]*labor+self.rho[s,g,t]*self.sigma[t]*self.w[t] - consumption*(1+self.tau_VA[t])*self.price[t]+(self.a[s,g, t-1]+bequest)*(1+self.r[t]*(1-self.tau_I[t]))\n",
    "        return consumption, labor, assets\n",
    "\n",
    "    @counted\n",
    "    def steady_state(self):\n",
    "\n",
    "        w_steady, price_steady, price_N_steady = self.steady[3:6]\n",
    "\n",
    "        for t in range(self.T-self.G + 1, max_time):\n",
    "            self.w[t] = w_steady* self.A_growth**(t - self.T)\n",
    "            self.price[t] = price_steady\n",
    "            self.price_N[t] = price_N_steady\n",
    "\n",
    "        for s in range(2):\n",
    "            initial_household = self.household(s, self.G+self.T-1, self.T) # первое родившееся поколение в период self.T\n",
    "            self.c[s, self.G+self.T-1, self.T],self.l[s, self.G+self.T-1,self.T],self.a[s, self.G+self.T-1,self.T] = initial_household\n",
    "            for t in range(self.T,self.G+self.T):\n",
    "                self.c[s, self.G+self.T-1, t],self.l[s, self.G+self.T-1,t],self.a[s, self.G+self.T-1,t] = self.household(s, self.G+self.T-1, t)\n",
    "            for g in range(self.G+self.T-2, self.T-1, -1): # все поколения, живущие в периоде self.T\n",
    "\n",
    "                self.c[s, g, g-self.G + 1]  = initial_household[0] * self.A_growth**(self.G+self.T-1 - g)\n",
    "                self.l[s, g, g-self.G + 1]  = initial_household[1]\n",
    "                self.a[s, g,g-self.G + 1]  = labor_income_vector(self, s, g,g-self.G + 1, g-self.G + 2)[0]*self.l[s, g, g-self.G + 1]+self.rho[s,g,g-self.G + 1]*self.w[g-self.G + 1]*self.sigma[g-self.G + 1] - self.c[s, g, g-self.G + 1]*(1+self.tau_VA[g-self.G + 1])*self.price[g-self.G + 1]\n",
    "                for t in range(g-self.G + 2, g+1):\n",
    "                    self.c[s, g, t],self.l[s, g, t],self.a[s, g, t] =  self.household(s, g, t)\n",
    "        Consumption = np.sum([self.c[s,g,self.T]*self.N[s,g,self.T] \n",
    "                              for g in range(self.T, self.G+self.T) \n",
    "                              for s in range(2)])\n",
    "\n",
    "        Labor = np.sum([self.l[s,g,self.T]*self.N[s,g,self.T]*self.epsilon[s,g,self.T] for g in range(self.T, self.G+self.T) for s in range(2)])\n",
    "\n",
    "        Assets =  np.sum([self.a[s,g,self.T]*self.N[s,g,self.T] for g in range(self.T, self.G+self.T) for s in range(2)])\n",
    "\n",
    "        if len(self.steady_path)==0:\n",
    "            self.steady[-3:] = np.array([Consumption,  Labor, Assets])\n",
    "        else:\n",
    "            self.steady[-3:] = self.eta*np.array([Consumption,  Labor, Assets]) + (1-self.eta)*self.steady[-3:]\n",
    "\n",
    "        z_guess = self.steady[:6]\n",
    "        \n",
    "        def equilibrium(z, self=self, objective = True):\n",
    "\n",
    "\n",
    "  \n",
    "            system = [\n",
    "                f\"{1-self.alpha}*price_N_steady * (k_N_steady/L_N_share)**{self.alpha} *{self.A[0,self.T]} - w_steady\"\n",
    "                      ,f\"{1/(1+self.r[self.T+1])}*(({1-self.tau_pi[self.T+1]}) *{self.alpha}*price_N_steady* (k_N_steady/L_N_share)**{self.alpha-1} +{self.tau_pi[self.T+1]} * {self.delta}*price_steady + {self.lmbda_to_price_steady}*price_steady * ({1-self.delta})) - {self.lmbda_to_price_steady}*price_steady\"\n",
    "                      ,f\"{1-self.alpha}*{self.price_E[self.T]} * (k_E_steady/(1-L_N_share)*{self.A[0,self.T]/self.A[1,self.T]} )**{self.alpha} *{self.A[1,self.T]} - w_steady\"\n",
    "                      ,f\"{1/(1+self.r[self.T+1])}*({1-self.tau_pi[self.T+1]}*{self.alpha}* {self.price_E[self.T+1]}* (k_E_steady/(1-L_N_share)*{self.A[0,self.T]/self.A[1,self.T]})**{self.alpha-1} +{self.tau_pi[self.T+1]} * {self.delta}*price_steady +{self.lmbda_to_price_steady}*price_steady * {1-self.delta}) - {self.lmbda_to_price_steady}*price_steady\"\n",
    "                      ,f\"price_N_steady*((k_N_steady/L_N_share)**{self.alpha} * L_N_share -{self.Gov[self.T]/(self.A[0,self.T]*self.steady[-2])})- (1-{self.omega}) * price_steady * ({self.steady[-3]/(self.A[0,self.T]*self.steady[-2])}+{self.i_steady}*(k_N_steady+k_E_steady))\"\n",
    "                      ,f\"price_steady - {self.price_M[self.T]**self.omega}*price_N_steady**({1-self.omega})\"\n",
    "                      ]\n",
    "            name_space = {label:value for label, value in zip((\"self\", \"k_N_steady\", \"L_N_share\",\n",
    "                                                               \"k_E_steady\", \"w_steady\",\n",
    "                                                               \"price_steady\", \"price_N_steady\"),[self]+list(z))}\n",
    "\n",
    "            if objective:\n",
    "                sum_of_squares = \"+\".join([f\"({equation})**2\" for equation in system])\n",
    "                F = eval(sum_of_squares,{},name_space)\n",
    "            else:\n",
    "                F = [eval(equation,{},name_space) for equation in system]\n",
    "            return F\n",
    "        def equilibrium_gradient(z, self=self, objective = True):\n",
    "\n",
    "            self.A_growth = self.A[0,self.T]/self.A[0, self.T-1]\n",
    "            self.N_growth = np.sum([self.N[s,g,self.T]*self.epsilon[s,g,self.T] for g in range(self.T, self.G+self.T) for s in range(2)])/\\\n",
    "                       np.sum([self.N[s,g,self.T-1]*self.epsilon[s,g,self.T-1] for g in range(self.T-1, self.G+self.T-1) for s in range(2)])\n",
    "\n",
    "            name_space = {label:value for label, value in zip((\"self\",\"I_N_steady\", \"K_N_steady\", \"L_N_steady\",\"I_E_steady\", \"K_E_steady\", \"lmbda_steady\", \"w_steady\", \"price_steady\", \"price_N_steady\"),[self]+list(z))}\n",
    "            if objective:\n",
    "                target_system = equilibrium(z, self, False)\n",
    "                sum_of_gradient = [\"+\".join([f\"2*({outer})*({inner})\" for outer, inner in zip(target_system, row)]) for row in gradient]\n",
    "                J = [eval(equation,{},name_space) for equation in sum_of_gradient]\n",
    "            else:\n",
    "                J = [[eval(equation,{},name_space) for equation in row] for row in gradient]\n",
    "            return J\n",
    "            \n",
    "\n",
    "        \n",
    "        obj_jit = jit(equilibrium)\n",
    "        obj_grad = jit(jacfwd(obj_jit))\n",
    "        obj_hess = jit(jacrev(jacfwd(obj_jit)))\n",
    "        \n",
    "        \n",
    "        result = minimize_ipopt(obj_jit, jac=obj_grad, hess=obj_hess, x0=z_guess\n",
    "                                , options = {\"max_iter\":self.steady_max_iter, \"print_level\":0,\n",
    "                                             \"check_derivatives_for_naninf\":\"yes\"}\n",
    "                                , tol=1e-7)\n",
    "        \n",
    "        \n",
    "        if result[\"success\"] or result[\"status\"]==1:\n",
    "            self.steady[:6] = self.eta*result[\"x\"] + (1-self.eta)*z_guess\n",
    "            self.steady_max_iter = 1000\n",
    "            eq_res = equilibrium(self.steady[:6], self, False)\n",
    "        else:\n",
    "            if result[\"status\"]==-1:\n",
    "                self.steady_max_iter += 1000\n",
    "            self.steady[:6] = z_guess\n",
    "            eq_res = equilibrium(z_guess, self, False)\n",
    "            \n",
    "                \n",
    "        self.steady_path.append((result, np.array(self.steady)\n",
    "                               ))\n",
    "\n",
    "    def create_guess(self):\n",
    "        \n",
    "        k_N_steady, L_N_share, k_E_steady, w_steady, price_steady, price_N_steady, Consumption_steady, Labor_steady, Assets_steady = self.steady\n",
    "        \n",
    "        steady_start = self.T-self.G + 1\n",
    "        \n",
    "        for t in range(steady_start, max_time):\n",
    "            self.update_government(t)\n",
    "            \n",
    "            self.w[t] = w_steady* self.A_growth**(t - self.T)\n",
    "            self.price[t] = price_steady\n",
    "            self.price_N[t] = price_N_steady\n",
    "            \n",
    "            self.k[0,t] = k_N_steady\n",
    "            self.k[1,t] = k_E_steady\n",
    "            \n",
    "            self.i[0,t] = self.i_steady\n",
    "            self.i[1,t] = self.i_steady \n",
    "            \n",
    "            self.L_share[0,t] = L_N_share \n",
    "            self.L_share[1,t] = 1- L_N_share \n",
    "            \n",
    "            self.lmbda_to_price[0,t] = self.lmbda_to_price_steady\n",
    "            self.lmbda_to_price[1,t] = self.lmbda_to_price_steady\n",
    "            \n",
    "            \n",
    "            \n",
    "            self.K[0,t] = k_N_steady* Labor_steady * self.A[0,self.T] *(self.A_growth*self.N_growth)**(t - self.T)\n",
    "            self.K[1,t] = k_E_steady* Labor_steady * self.A[0,self.T] *(self.A_growth*self.N_growth)**(t - self.T)\n",
    "            \n",
    "            self.I[0,t] = self.i_steady * self.K[0,t]\n",
    "            self.I[1,t] = self.i_steady * self.K[1,t]\n",
    "            \n",
    "            self.L[0,t] = L_N_share * Labor_steady *(self.N_growth)**(t - self.T)\n",
    "            self.L[1,t] = (1-L_N_share) * Labor_steady *(self.N_growth)**(t - self.T)\n",
    "            \n",
    "            self.lmbda[0,t] = self.lmbda_to_price_steady * price_steady\n",
    "            self.lmbda[1,t] = self.lmbda_to_price_steady * price_steady\n",
    "            \n",
    "            self.Consumption[t] = Consumption_steady*(self.A_growth*self.N_growth)**(t - self.T)\n",
    "            self.Labor[t] = Labor_steady*(self.N_growth)**(t - self.T)\n",
    "            self.Assets[t] =  Assets_steady*(self.A_growth*self.N_growth)**(t - self.T)\n",
    "\n",
    "        \n",
    "        self.price_N[:steady_start] = np.linspace(initial[\"price_N\"], self.price_N[steady_start], steady_start,endpoint=False)\n",
    "        self.I[0,:steady_start] = np.linspace(initial[\"I_N\"], self.I[0,steady_start], steady_start,endpoint=False)\n",
    "        self.K[0,:steady_start] = np.linspace(initial[\"K_N\"], self.K[0,steady_start], steady_start,endpoint=False)\n",
    "        self.L[0,:steady_start] = np.linspace(initial[\"L_N\"], self.L[0,steady_start], steady_start,endpoint=False)\n",
    "\n",
    "        self.I[1,:steady_start] = np.linspace(initial[\"I_E\"], self.I[1,steady_start], steady_start,endpoint=False)\n",
    "        self.K[1,:steady_start] = np.linspace(initial[\"K_E\"], self.K[1,steady_start], steady_start,endpoint=False)\n",
    "        self.L[1,:steady_start] = np.linspace(initial[\"L_E\"], self.L[1,steady_start], steady_start,endpoint=False)\n",
    "\n",
    "        w_initial = self.price_N[0] *(1-self.alpha)*(self.K[0,0])**self.alpha *(self.A[0,0])**(1-self.alpha)\n",
    "        self.w[:steady_start] = np.linspace(w_initial, self.w[steady_start], steady_start,endpoint=False)\n",
    "        \n",
    "        self.price[:steady_start] = (self.price_M[:steady_start])**self.omega * (self.price_N[:steady_start])**(1-self.omega)\n",
    "        for t in range(self.T):\n",
    "            for s in range(0):\n",
    "                for g in range(self.T):\n",
    "                    self.c[s, g, t], self.l[s,g,t], self.a[s,g,t] = self.household(s,g,t)\n",
    "        self.Consumption[:self.T] = np.array([np.sum(self.c[:,:,t]*self.N[:,:self.c.shape[1],t]) for t in range(self.T)])\n",
    "        self.Labor[:self.T] = np.array([np.sum(self.l[:,:,t]*self.N[:,:self.l.shape[1],t]*self.epsilon[:,:self.l.shape[1],t]) for t in range(self.T)])\n",
    "        self.Assets[:self.T] = np.array([np.sum(self.a[:,:,t]*self.N[:,:self.a.shape[1],t]) for t in range(self.T)])\n",
    "        \n",
    "        \n",
    "        self.lmbda[0,:steady_start] = self.price[:steady_start]*self.lmbda_to_price_steady\n",
    "        self.lmbda[1,:steady_start] = self.price[:steady_start]*self.lmbda_to_price_steady\n",
    "        \n",
    "        self.k[0,:steady_start] = self.K[0,:steady_start]/(self.A[0,:steady_start]*self.Labor[:steady_start])\n",
    "        self.k[1,:steady_start] = self.K[1,:steady_start]/(self.A[0,:steady_start]*self.Labor[:steady_start])\n",
    "            \n",
    "        self.i[:steady_start] = self.I[:steady_start]/self.K[:steady_start]\n",
    "            \n",
    "        self.L_share[0,:steady_start] = self.L[0,:steady_start]/self.Labor[:steady_start]\n",
    "        self.L_share[1,:steady_start] = self.L[1,:steady_start]/self.Labor[:steady_start]\n",
    "            \n",
    "        self.lmbda_to_price[0,:steady_start] = self.lmbda_to_price_steady\n",
    "        self.lmbda_to_price[1,:steady_start] = self.lmbda_to_price_steady\n",
    "        \n",
    "\n",
    "    def update_a_initial(self):\n",
    "        coef = np.sum(self.a[:,self.G+self.T-2:self.T-1:-1,self.T]*\\\n",
    "                      self.N[:,self.G+0-2::-1,0])/self.a_initial_sum\n",
    "        \n",
    "        self.a_initial[:,self.G-2::-1]=self.a[:,self.G+self.T-2:self.T-1:-1,olg.T]/coef\n",
    "        \n",
    "\n",
    "    def update_guess(self, t):\n",
    "        \n",
    "\n",
    "        self.update_government(t)\n",
    "        for s in range(2):\n",
    "            for g in range(self.G+t-2, t-1, -1):\n",
    "                self.c[s, g, t],self.l[s, g, t],self.a[s, g,t]  = self.household(s,g,t)\n",
    "                \n",
    "        self.Consumption[t] = np.sum([self.c[s,g,t]*self.N[s,g,t] \n",
    "                                      for g in range(t, self.G+t) \n",
    "                                      for s in range(2)])\n",
    "        self.Labor[t] = np.sum([self.l[s,g,t]*self.N[s,g,t]*self.epsilon[s,g,t] \n",
    "                                for g in range(t, self.G+t) \n",
    "                                for s in range(2)])\n",
    "        self.Assets[t] = np.sum([self.a[s,g,t]*self.N[s,g,t]\n",
    "                                 for g in range(t, self.G+t) \n",
    "                                 for s in range(2)])\n",
    "        \n",
    "        z_guess = np.array([self.i[0,t],self.k[0,t+1],self.L_share[0,t],\n",
    "                   self.lmbda_to_price[0,t], self.i[1,t],self.k[1,t+1],\n",
    "                   self.lmbda_to_price[1,t],\n",
    "                   self.w[t], self.price_N[t], self.price[t]])\n",
    "\n",
    "\n",
    "        def equilibrium(z, self=self, t = t):\n",
    "            i_N, k_N, L_N_share, lmbda_N_to_price,\\\n",
    "                i_E, k_E, lmbda_E_to_price,\\\n",
    "                w, price, price_N = z\n",
    "            system =(\n",
    "              (1-self.alpha)*price_N * self.A[0, t] * (self.k[0, t]/L_N_share)**self.alpha - w\\\n",
    "            )**2+\\\n",
    "            ( (1+tau_VA[t])*price - lmbda_N_to_price * price* (1-self.psi/2 *(i_N/self.i[0,t-1]*self.K[0,t]/self.K[0, t-1] - 1)**2\\\n",
    "               - self.psi * (i_N/self.i[0,t-1]*self.K[0,t]/self.K[0, t-1]) * \\\n",
    "                                      (i_N/self.i[0,t-1]*self.K[0,t]/self.K[0, t-1] - 1) )-\\\n",
    "               self.lmbda_to_price[0,t+1]*self.price[t+1]*self.psi/(1+self.r[t+1]) *\\\n",
    "               (self.i[0,t+1]/i_N*k_N*self.A[0, t+1]*self.Labor[t+1]/self.K[0,t] )**2 *\\\n",
    "            (self.i[0,t+1]/i_N*k_N*self.A[0, t+1]*self.Labor[t+1]/self.K[0,t] -1)\n",
    "            )**2+\\\n",
    "            ( 1/(1+self.r[t+1]) * ((1-self.tau_pi[t+1]) * self.alpha * self.price_N[t+1] *\\\n",
    "                                          (k_N/L_N_share)**(self.alpha-1) +\\\n",
    "                                          self.tau_pi[t+1] * self.delta * self.price[t+1] +\\\n",
    "                                          self.lmbda_to_price[0, t+1]*self.price[t+1] * (1-self.delta) ) -\\\n",
    "            lmbda_N_to_price * price\\\n",
    "            )**2+\\\n",
    "            ( (1-self.delta)+\\\n",
    "                       i_N * (1-self.psi / 2 *(i_N/self.i[0,t-1]*self.K[0,t]/self.K[0, t-1] - 1)**2 ) -\\\n",
    "            k_N*self.A[0, t+1]*self.Labor[t+1]/self.K[0,t]\\\n",
    "            )**2+\\\n",
    "            (\n",
    "            (1-self.alpha)*self.price_E[t] * self.A[1, t] * (self.k[1, t]/(1-L_N_share)*self.A[0,t]/self.A[1,t])**self.alpha - w\n",
    "            )**2+\\\n",
    "            ( (1+tau_VA[t])*price - lmbda_E_to_price*price * (1-self.psi/2 *(i_E/self.i[1,t-1]*self.K[1,t]/self.K[1, t-1] - 1)**2\\\n",
    "               - self.psi * (i_E/self.i[1,t-1]*self.K[1,t]/self.K[1, t-1]) * \\\n",
    "                                      (i_E/self.i[1,t-1]*self.K[1,t]/self.K[1, t-1] - 1) )-\\\n",
    "               self.lmbda_to_price[1,t+1]*self.price[t+1]*self.psi/(1+self.r[t+1]) *\\\n",
    "               (self.i[1,t+1]/i_E*k_E*self.A[1, t+1]*self.Labor[t+1]/self.K[1,t] )**2 *\\\n",
    "            (self.i[1,t+1]/i_E*k_E*self.A[1, t+1]*self.Labor[t+1]/self.K[1,t] -1)\n",
    "            )**2+\\\n",
    "            ( 1/(1+self.r[t+1]) * ((1-self.tau_pi[t+1]) * self.alpha * self.price_E[t+1] *\\\n",
    "                                          (k_E/(1-L_N_share)*self.A[0,t]/self.A[1,t])**(self.alpha-1) +\\\n",
    "                                          self.tau_pi[t+1] * self.delta * self.price[t+1] +\\\n",
    "                                          self.lmbda_to_price[1, t+1]*self.price[t+1] * (1-self.delta) ) -\\\n",
    "            lmbda_E_to_price * price\\\n",
    "            )**2+\\\n",
    "            ((1-self.delta)+\\\n",
    "                       i_E * (1-self.psi / 2 *(i_E/self.i[1,t-1]*self.K[1,t]/self.K[1, t-1] - 1)**2 ) -\\\n",
    "            k_E*self.A[1, t+1]*self.Labor[t+1]/self.K[1,t]\n",
    "            )**2+\\\n",
    "            ( price - (self.price_M[t])**self.omega * (price_N)**(1-self.omega)\\\n",
    "            )**2+\\\n",
    "            (price_N*((olg.k[0,t]/L_N_share)**olg.alpha *L_N_share\\\n",
    "            - olg.Gov[t]/(olg.A[0,t]*olg.Labor[t])) - \\\n",
    "            (1-olg.omega) * price * \\\n",
    "            (olg.Consumption[t]/(olg.A[0,t]*olg.Labor[t]) +\\\n",
    "            i_N*k_N + i_E*k_E)\n",
    "             )**2\n",
    "\n",
    "            return system\n",
    "\n",
    "\n",
    "\n",
    "        obj_jit = jit(equilibrium)\n",
    "        obj_grad = jit(jacfwd(obj_jit))\n",
    "        obj_hess = jit(jacrev(jacfwd(obj_jit)))\n",
    "\n",
    "\n",
    "        result = minimize_ipopt(obj_jit, jac=obj_grad, hess=obj_hess, x0=z_guess\n",
    "                            , options = {\"max_iter\":self.max_iter, \"print_level\":0,\n",
    "                                         \"check_derivatives_for_naninf\":\"yes\"}\n",
    "                            , tol=1e-5)\n",
    "        if result[\"success\"]:\n",
    "            self.i[0,t],self.k[0,t+1],self.L_share[0,t],\\\n",
    "            self.lmbda_to_price[0,t], self.i[1,t],self.k[1,t+1],\\\n",
    "            self.lmbda_to_price[1,t],\\\n",
    "            self.w[t], self.price_N[t], self.price[t] = self.eta*result[\"x\"] + (1-self.eta)*z_guess\n",
    "            self.L_share[1,t] = 1- self.L_share[0,t]\n",
    "        self.history[t].append(result)\n",
    "            \n",
    "            # Market clearing (analytical solution)\n",
    "#             self.Y = self.K**self.alpha * (self.L*self.A)**(1-self.alpha)\n",
    "#             self.D = self.I.sum(axis = 0)+(self.N[:,:self.c.shape[1],:]*self.c[:,:self.c.shape[1],:]).sum(axis=0).sum(axis =0)\n",
    "#             self.M =  self.omega * self.D * self.price / self.price_M\n"
   ]
  },
  {
   "cell_type": "code",
   "execution_count": 635,
   "metadata": {
    "pycharm": {
     "name": "#%%\n"
    }
   },
   "outputs": [],
   "source": [
    "# import pyreadr\n",
    "# import numpy as np\n",
    "# demography = {name:np.array(pyreadr.read_r(f\"{name}.Rda\")[name]) for name in [\"Pi_female\", \"Pi_female_steady\", \"Pi_male\", \"Pi_male_steady\",\"N_female\", \"N_male\",\"N_female_steady\",\"N_male_steady\"]}\n",
    "# np.save('demography.npy', demography)"
   ]
  },
  {
   "cell_type": "code",
   "execution_count": 636,
   "metadata": {
    "pycharm": {
     "name": "#%%\n"
    }
   },
   "outputs": [],
   "source": [
    "demography = np.load('demography.npy',allow_pickle='TRUE').item()"
   ]
  },
  {
   "cell_type": "code",
   "execution_count": 637,
   "metadata": {
    "pycharm": {
     "name": "#%%\n"
    }
   },
   "outputs": [],
   "source": [
    "epsilon_female =epsilon_male= np.array([[np.exp(-0.001*(96-g+t)**2+25*0.001*2*(96-g+t)) if ((96-g+t) > 0 and (96-g+t)<=96) else 0  for g in range(demography[\"N_female\"].shape[1]) ] for t in range(demography[\"N_female\"].shape[0])])"
   ]
  },
  {
   "cell_type": "code",
   "execution_count": 638,
   "metadata": {
    "pycharm": {
     "name": "#%%\n"
    }
   },
   "outputs": [],
   "source": [
    "rho_female = np.array([[1 if ((96-g+t) >= 46 and (96-g+t)<=96) else 0  for g in range(demography[\"N_female\"].shape[1]) ] for t in range(demography[\"N_female\"].shape[0])])\n",
    "rho_male = np.array([[1 if ((96-g+t) >= 51 and (96-g+t)<=96) else 0  for g in range(demography[\"N_female\"].shape[1]) ] for t in range(demography[\"N_female\"].shape[0])])\n",
    "\n",
    "max_time = demography[\"N_female\"].shape[0]\n",
    "sigma = np.array([0.9 for _ in range(max_time)])\n",
    "r = np.array([0.03 for _ in range(max_time)])\n",
    "price_M = np.array([1. for _ in range(max_time)])\n",
    "price_E = np.array([1. for _ in range(max_time)])\n",
    "tau_I = np.array([0.13 for _ in range(max_time)])\n",
    "tau_II = np.array([0. for _ in range(max_time)])\n",
    "tau_Ins = np.array([0.08 for _ in range(max_time)])\n",
    "tau_pi = np.array([0.2 for _ in range(max_time)])\n",
    "tau_VA = np.array([0.18 for _ in range(max_time)])\n",
    "tau_rho = np.array([0.22 for _ in range(max_time)])\n",
    "A_N = np.array([1. for _ in range(max_time)])\n",
    "A_E = np.array([1. for _ in range(max_time)])\n"
   ]
  },
  {
   "cell_type": "code",
   "execution_count": 639,
   "metadata": {
    "pycharm": {
     "name": "#%%\n"
    }
   },
   "outputs": [],
   "source": [
    "demography[\"N_female\"]=demography[\"N_male\"]\n",
    "N = np.array([demography[\"N_female\"].transpose()/1000,demography[\"N_male\"].transpose()/1000])\n",
    "Pi = np.array([(demography[f\"N_{sex}male\"]/np.max(demography[\"N_female\"], axis=0)+(1-np.tri(*demography[f\"N_{sex}male\"].shape, k=95))).transpose() for sex in (\"fe\", \"\")])\n",
    "Pi[Pi<0] = 0.01\n",
    "epsilon = np.array([epsilon_female.transpose(), epsilon_male.transpose()])\n",
    "rho = np.array([rho_female.transpose(), rho_male.transpose()])\n",
    "A = np.array([A_N, A_E])\n",
    "initial = {\"a_initial_sum\":-13,\n",
    "#            np.array([[-(96-g)/10 if g < 96 else 0 for g in range(demography[\"N_female\"].shape[1])] for s in range(2)]),\n",
    "                \"price_N\":1.,\n",
    "                 \"K_N\":5.,\n",
    "                 \"L_N\":35.,\n",
    "                 \"I_N\":0.1,\n",
    "                 \"K_E\":5.,\n",
    "                 \"L_E\":50.,\n",
    "                 \"Gov\":7., # растет с темпом A_growth * N_growth\n",
    "                 \"Debt\":-1.,\n",
    "                 \"I_E\":0.1}\n",
    "steady_guess = np.array([5.54349368,    0.38667374,    8.7962513 ,    1.61917223,\n",
    "           0.99999988,    0.9999998])\n",
    "# steady state\n",
    "# [ 1.55169913e+00,  5.05142101e-02,  2.91663738e+01,  2.08788575e-01,\n",
    "#         1.00000000e-01,  1.00000001e-01,  4.82953469e-02,  8.82916686e+01,\n",
    "#        -6.42938235e+01]"
   ]
  },
  {
   "cell_type": "code",
   "execution_count": 640,
   "metadata": {
    "pycharm": {
     "name": "#%%\n"
    }
   },
   "outputs": [],
   "source": [
    "# надо исправить\n",
    "# Beq_female_to_female = Beq_female_to_male = Beq_male_to_female = Beq_male_to_male = np.zeros_like(demography[\"N_female\"])"
   ]
  },
  {
   "cell_type": "code",
   "execution_count": 641,
   "metadata": {
    "pycharm": {
     "name": "#%%\n"
    }
   },
   "outputs": [],
   "source": [
    "olg = OLG_model(G=96,T=250,N=N,epsilon=epsilon, rho=rho, sigma = sigma,Pi=Pi,r = r,price_M =price_M, price_E=price_E, tau_I=tau_I,tau_II=tau_II,tau_Ins=tau_Ins, tau_pi=tau_pi, tau_VA=tau_VA, tau_rho=tau_rho, beta = 0.995, phi = 0.8, theta = 0.5, psi = 5., omega=0.4, alpha = 1/3, delta=0.01, A=A,initial=initial, eta =0.25,steady_max_iter=10000,max_iter=5000, steady_guess=steady_guess)"
   ]
  },
  {
   "cell_type": "code",
   "execution_count": 642,
   "metadata": {},
   "outputs": [],
   "source": [
    "tol = 10e-5\n",
    "niter = 30"
   ]
  },
  {
   "cell_type": "markdown",
   "metadata": {},
   "source": [
    "Ищем steady state"
   ]
  },
  {
   "cell_type": "code",
   "execution_count": 643,
   "metadata": {
    "pycharm": {
     "name": "#%%\n"
    }
   },
   "outputs": [
    {
     "data": {
      "application/vnd.jupyter.widget-view+json": {
       "model_id": "57d71d3cbe864bd286c9a9468f410f3e",
       "version_major": 2,
       "version_minor": 0
      },
      "text/plain": [
       "Steady state:   0%|          | 0/30 [00:00<?, ?it/s]"
      ]
     },
     "metadata": {},
     "output_type": "display_data"
    }
   ],
   "source": [
    "with warnings.catch_warnings():\n",
    "    warnings.simplefilter(\"ignore\")\n",
    "    for _ in tqdm(range(niter),\n",
    "                  desc = 'Steady state',\n",
    "                      token=os.getenv('comp_bot_token'),\n",
    "                      chat_id=os.getenv('chat_id')):\n",
    "        olg.steady_state()\n",
    "        if (len(olg.steady_path)>1) and \\\n",
    "            (max(abs(olg.steady_path[-1][1] - olg.steady_path[-2][1]))<tol):\n",
    "            \n",
    "                break\n",
    "olg.update_a_initial()\n",
    "olg.create_guess()"
   ]
  },
  {
   "cell_type": "code",
   "execution_count": 644,
   "metadata": {},
   "outputs": [
    {
     "data": {
      "application/vnd.jupyter.widget-view+json": {
       "model_id": "307015aa3e7b4d73b4f000c7c5ce3b1f",
       "version_major": 2,
       "version_minor": 0
      },
      "text/plain": [
       "Steady state:   0%|          | 0/250 [00:00<?, ?it/s]"
      ]
     },
     "metadata": {},
     "output_type": "display_data"
    },
    {
     "name": "stdout",
     "output_type": "stream",
     "text": [
      "1.2645924758448555e-22\n",
      "7.507652485410637e-10\n",
      "5.99463025530239e-10\n",
      "5.6600322696656e-10\n",
      "5.411687066792571e-10\n",
      "5.392668332839677e-10\n",
      "5.409217951324331e-10\n",
      "5.508318421525531e-10\n",
      "5.553013412456695e-10\n",
      "5.645298530298988e-10\n",
      "5.732204003519473e-10\n",
      "5.874541449210235e-10\n",
      "5.967592504826727e-10\n",
      "6.103303266391084e-10\n",
      "6.223723511743247e-10\n",
      "6.379087782234031e-10\n",
      "6.528908721946474e-10\n",
      "6.660200483200681e-10\n",
      "6.817312388351575e-10\n",
      "6.945335509280814e-10\n",
      "7.124813596827253e-10\n",
      "7.238349698188628e-10\n",
      "7.376725181256161e-10\n",
      "7.611176913512877e-10\n",
      "7.630967521818946e-10\n",
      "7.795024654464893e-10\n",
      "7.960245523501203e-10\n",
      "8.071998091134164e-10\n",
      "8.29660596019814e-10\n",
      "8.339310388263835e-10\n",
      "8.367266643099948e-10\n",
      "9.077311178344323e-10\n",
      "2.0591538115456685e-09\n",
      "8.889900053493996e-10\n",
      "8.992809554824824e-10\n",
      "9.354754076603877e-10\n"
     ]
    },
    {
     "ename": "KeyboardInterrupt",
     "evalue": "",
     "output_type": "error",
     "traceback": [
      "\u001b[0;31m---------------------------------------------------------------------------\u001b[0m",
      "\u001b[0;31mKeyboardInterrupt\u001b[0m                         Traceback (most recent call last)",
      "Input \u001b[0;32mIn [644]\u001b[0m, in \u001b[0;36m<cell line: 1>\u001b[0;34m()\u001b[0m\n\u001b[1;32m      1\u001b[0m \u001b[38;5;28;01mfor\u001b[39;00m t \u001b[38;5;129;01min\u001b[39;00m tqdm(\u001b[38;5;28mrange\u001b[39m(olg\u001b[38;5;241m.\u001b[39mT),\n\u001b[1;32m      2\u001b[0m                   desc \u001b[38;5;241m=\u001b[39m \u001b[38;5;124m'\u001b[39m\u001b[38;5;124mSteady state\u001b[39m\u001b[38;5;124m'\u001b[39m,\n\u001b[1;32m      3\u001b[0m                       token\u001b[38;5;241m=\u001b[39mos\u001b[38;5;241m.\u001b[39mgetenv(\u001b[38;5;124m'\u001b[39m\u001b[38;5;124mcomp_bot_token\u001b[39m\u001b[38;5;124m'\u001b[39m),\n\u001b[1;32m      4\u001b[0m                       chat_id\u001b[38;5;241m=\u001b[39mos\u001b[38;5;241m.\u001b[39mgetenv(\u001b[38;5;124m'\u001b[39m\u001b[38;5;124mchat_id\u001b[39m\u001b[38;5;124m'\u001b[39m)):\n\u001b[0;32m----> 5\u001b[0m     \u001b[43molg\u001b[49m\u001b[38;5;241;43m.\u001b[39;49m\u001b[43mupdate_guess\u001b[49m\u001b[43m(\u001b[49m\u001b[43mt\u001b[49m\u001b[43m)\u001b[49m\n\u001b[1;32m      6\u001b[0m     \u001b[38;5;28mprint\u001b[39m(olg\u001b[38;5;241m.\u001b[39mhistory[t][\u001b[38;5;241m0\u001b[39m][\u001b[38;5;124m\"\u001b[39m\u001b[38;5;124mfun\u001b[39m\u001b[38;5;124m\"\u001b[39m])\n",
      "Input \u001b[0;32mIn [634]\u001b[0m, in \u001b[0;36mOLG_model.update_guess\u001b[0;34m(self, t)\u001b[0m\n\u001b[1;32m    491\u001b[0m obj_grad \u001b[38;5;241m=\u001b[39m jit(jacfwd(obj_jit))\n\u001b[1;32m    492\u001b[0m obj_hess \u001b[38;5;241m=\u001b[39m jit(jacrev(jacfwd(obj_jit)))\n\u001b[0;32m--> 495\u001b[0m result \u001b[38;5;241m=\u001b[39m \u001b[43mminimize_ipopt\u001b[49m\u001b[43m(\u001b[49m\u001b[43mobj_jit\u001b[49m\u001b[43m,\u001b[49m\u001b[43m \u001b[49m\u001b[43mjac\u001b[49m\u001b[38;5;241;43m=\u001b[39;49m\u001b[43mobj_grad\u001b[49m\u001b[43m,\u001b[49m\u001b[43m \u001b[49m\u001b[43mhess\u001b[49m\u001b[38;5;241;43m=\u001b[39;49m\u001b[43mobj_hess\u001b[49m\u001b[43m,\u001b[49m\u001b[43m \u001b[49m\u001b[43mx0\u001b[49m\u001b[38;5;241;43m=\u001b[39;49m\u001b[43mz_guess\u001b[49m\n\u001b[1;32m    496\u001b[0m \u001b[43m                    \u001b[49m\u001b[43m,\u001b[49m\u001b[43m \u001b[49m\u001b[43moptions\u001b[49m\u001b[43m \u001b[49m\u001b[38;5;241;43m=\u001b[39;49m\u001b[43m \u001b[49m\u001b[43m{\u001b[49m\u001b[38;5;124;43m\"\u001b[39;49m\u001b[38;5;124;43mmax_iter\u001b[39;49m\u001b[38;5;124;43m\"\u001b[39;49m\u001b[43m:\u001b[49m\u001b[38;5;28;43mself\u001b[39;49m\u001b[38;5;241;43m.\u001b[39;49m\u001b[43mmax_iter\u001b[49m\u001b[43m,\u001b[49m\u001b[43m \u001b[49m\u001b[38;5;124;43m\"\u001b[39;49m\u001b[38;5;124;43mprint_level\u001b[39;49m\u001b[38;5;124;43m\"\u001b[39;49m\u001b[43m:\u001b[49m\u001b[38;5;241;43m0\u001b[39;49m\u001b[43m,\u001b[49m\n\u001b[1;32m    497\u001b[0m \u001b[43m                                 \u001b[49m\u001b[38;5;124;43m\"\u001b[39;49m\u001b[38;5;124;43mcheck_derivatives_for_naninf\u001b[39;49m\u001b[38;5;124;43m\"\u001b[39;49m\u001b[43m:\u001b[49m\u001b[38;5;124;43m\"\u001b[39;49m\u001b[38;5;124;43myes\u001b[39;49m\u001b[38;5;124;43m\"\u001b[39;49m\u001b[43m}\u001b[49m\n\u001b[1;32m    498\u001b[0m \u001b[43m                    \u001b[49m\u001b[43m,\u001b[49m\u001b[43m \u001b[49m\u001b[43mtol\u001b[49m\u001b[38;5;241;43m=\u001b[39;49m\u001b[38;5;241;43m1e-5\u001b[39;49m\u001b[43m)\u001b[49m\n\u001b[1;32m    499\u001b[0m \u001b[38;5;28;01mif\u001b[39;00m result[\u001b[38;5;124m\"\u001b[39m\u001b[38;5;124msuccess\u001b[39m\u001b[38;5;124m\"\u001b[39m]:\n\u001b[1;32m    500\u001b[0m     \u001b[38;5;28mself\u001b[39m\u001b[38;5;241m.\u001b[39mi[\u001b[38;5;241m0\u001b[39m,t],\u001b[38;5;28mself\u001b[39m\u001b[38;5;241m.\u001b[39mk[\u001b[38;5;241m0\u001b[39m,t\u001b[38;5;241m+\u001b[39m\u001b[38;5;241m1\u001b[39m],\u001b[38;5;28mself\u001b[39m\u001b[38;5;241m.\u001b[39mL_share[\u001b[38;5;241m0\u001b[39m,t],\\\n\u001b[1;32m    501\u001b[0m     \u001b[38;5;28mself\u001b[39m\u001b[38;5;241m.\u001b[39mlmbda_to_price[\u001b[38;5;241m0\u001b[39m,t], \u001b[38;5;28mself\u001b[39m\u001b[38;5;241m.\u001b[39mi[\u001b[38;5;241m1\u001b[39m,t],\u001b[38;5;28mself\u001b[39m\u001b[38;5;241m.\u001b[39mk[\u001b[38;5;241m1\u001b[39m,t\u001b[38;5;241m+\u001b[39m\u001b[38;5;241m1\u001b[39m],\\\n\u001b[1;32m    502\u001b[0m     \u001b[38;5;28mself\u001b[39m\u001b[38;5;241m.\u001b[39mlmbda_to_price[\u001b[38;5;241m1\u001b[39m,t],\\\n\u001b[1;32m    503\u001b[0m     \u001b[38;5;28mself\u001b[39m\u001b[38;5;241m.\u001b[39mw[t], \u001b[38;5;28mself\u001b[39m\u001b[38;5;241m.\u001b[39mprice_N[t], \u001b[38;5;28mself\u001b[39m\u001b[38;5;241m.\u001b[39mprice[t] \u001b[38;5;241m=\u001b[39m \u001b[38;5;28mself\u001b[39m\u001b[38;5;241m.\u001b[39meta\u001b[38;5;241m*\u001b[39mresult[\u001b[38;5;124m\"\u001b[39m\u001b[38;5;124mx\u001b[39m\u001b[38;5;124m\"\u001b[39m] \u001b[38;5;241m+\u001b[39m (\u001b[38;5;241m1\u001b[39m\u001b[38;5;241m-\u001b[39m\u001b[38;5;28mself\u001b[39m\u001b[38;5;241m.\u001b[39meta)\u001b[38;5;241m*\u001b[39mz_guess\n",
      "File \u001b[0;32m~/anaconda3/envs/olg/lib/python3.8/site-packages/cyipopt/scipy_interface.py:311\u001b[0m, in \u001b[0;36mminimize_ipopt\u001b[0;34m(fun, x0, args, kwargs, method, jac, hess, hessp, bounds, constraints, tol, callback, options)\u001b[0m\n\u001b[1;32m    308\u001b[0m         msg \u001b[38;5;241m=\u001b[39m \u001b[38;5;124m'\u001b[39m\u001b[38;5;124mInvalid option for IPOPT: \u001b[39m\u001b[38;5;132;01m{0}\u001b[39;00m\u001b[38;5;124m: \u001b[39m\u001b[38;5;132;01m{1}\u001b[39;00m\u001b[38;5;124m (Original message: \u001b[39m\u001b[38;5;124m\"\u001b[39m\u001b[38;5;132;01m{2}\u001b[39;00m\u001b[38;5;124m\"\u001b[39m\u001b[38;5;124m)\u001b[39m\u001b[38;5;124m'\u001b[39m\n\u001b[1;32m    309\u001b[0m         \u001b[38;5;28;01mraise\u001b[39;00m \u001b[38;5;167;01mTypeError\u001b[39;00m(msg\u001b[38;5;241m.\u001b[39mformat(option, value, e))\n\u001b[0;32m--> 311\u001b[0m x, info \u001b[38;5;241m=\u001b[39m \u001b[43mnlp\u001b[49m\u001b[38;5;241;43m.\u001b[39;49m\u001b[43msolve\u001b[49m\u001b[43m(\u001b[49m\u001b[43m_x0\u001b[49m\u001b[43m)\u001b[49m\n\u001b[1;32m    313\u001b[0m \u001b[38;5;28;01mif\u001b[39;00m np\u001b[38;5;241m.\u001b[39masarray(x0)\u001b[38;5;241m.\u001b[39mshape \u001b[38;5;241m==\u001b[39m ():\n\u001b[1;32m    314\u001b[0m     x \u001b[38;5;241m=\u001b[39m x[\u001b[38;5;241m0\u001b[39m]\n",
      "File \u001b[0;32m~/anaconda3/envs/olg/lib/python3.8/site-packages/cyipopt/cython/ipopt_wrapper.pyx:642\u001b[0m, in \u001b[0;36mipopt_wrapper.Problem.solve\u001b[0;34m()\u001b[0m\n",
      "File \u001b[0;32m~/anaconda3/envs/olg/lib/python3.8/site-packages/cyipopt/cython/ipopt_wrapper.pyx:895\u001b[0m, in \u001b[0;36mipopt_wrapper.hessian_cb\u001b[0;34m()\u001b[0m\n",
      "File \u001b[0;32m~/anaconda3/envs/olg/lib/python3.8/site-packages/cyipopt/scipy_interface.py:167\u001b[0m, in \u001b[0;36mIpoptProblemWrapper.hessian\u001b[0;34m(self, x, lagrange, obj_factor)\u001b[0m\n\u001b[1;32m    164\u001b[0m \u001b[38;5;28;01mfor\u001b[39;00m hessian, args, lagr \u001b[38;5;129;01min\u001b[39;00m \u001b[38;5;28mzip\u001b[39m(\u001b[38;5;28mself\u001b[39m\u001b[38;5;241m.\u001b[39m_constraint_hessians,\n\u001b[1;32m    165\u001b[0m                                \u001b[38;5;28mself\u001b[39m\u001b[38;5;241m.\u001b[39m_constraint_args, lagrs):\n\u001b[1;32m    166\u001b[0m     H \u001b[38;5;241m+\u001b[39m\u001b[38;5;241m=\u001b[39m hessian(x, lagr, \u001b[38;5;241m*\u001b[39margs)\n\u001b[0;32m--> 167\u001b[0m \u001b[38;5;28;01mreturn\u001b[39;00m \u001b[43mH\u001b[49m\u001b[43m[\u001b[49m\u001b[43mnp\u001b[49m\u001b[38;5;241;43m.\u001b[39;49m\u001b[43mtril_indices\u001b[49m\u001b[43m(\u001b[49m\u001b[43mx\u001b[49m\u001b[38;5;241;43m.\u001b[39;49m\u001b[43msize\u001b[49m\u001b[43m)\u001b[49m\u001b[43m]\u001b[49m\n",
      "File \u001b[0;32m~/anaconda3/envs/olg/lib/python3.8/site-packages/jax/_src/numpy/lax_numpy.py:3544\u001b[0m, in \u001b[0;36m_rewriting_take\u001b[0;34m(arr, idx, indices_are_sorted, unique_indices, mode, fill_value)\u001b[0m\n\u001b[1;32m   3541\u001b[0m   \u001b[38;5;28;01mreturn\u001b[39;00m _getslice(arr, start, stop)\n\u001b[1;32m   3543\u001b[0m treedef, static_idx, dynamic_idx \u001b[38;5;241m=\u001b[39m _split_index_for_jit(idx, arr\u001b[38;5;241m.\u001b[39mshape)\n\u001b[0;32m-> 3544\u001b[0m \u001b[38;5;28;01mreturn\u001b[39;00m \u001b[43m_gather\u001b[49m\u001b[43m(\u001b[49m\u001b[43marr\u001b[49m\u001b[43m,\u001b[49m\u001b[43m \u001b[49m\u001b[43mtreedef\u001b[49m\u001b[43m,\u001b[49m\u001b[43m \u001b[49m\u001b[43mstatic_idx\u001b[49m\u001b[43m,\u001b[49m\u001b[43m \u001b[49m\u001b[43mdynamic_idx\u001b[49m\u001b[43m,\u001b[49m\u001b[43m \u001b[49m\u001b[43mindices_are_sorted\u001b[49m\u001b[43m,\u001b[49m\n\u001b[1;32m   3545\u001b[0m \u001b[43m               \u001b[49m\u001b[43munique_indices\u001b[49m\u001b[43m,\u001b[49m\u001b[43m \u001b[49m\u001b[43mmode\u001b[49m\u001b[43m,\u001b[49m\u001b[43m \u001b[49m\u001b[43mfill_value\u001b[49m\u001b[43m)\u001b[49m\n",
      "File \u001b[0;32m~/anaconda3/envs/olg/lib/python3.8/site-packages/jax/_src/numpy/lax_numpy.py:3553\u001b[0m, in \u001b[0;36m_gather\u001b[0;34m(arr, treedef, static_idx, dynamic_idx, indices_are_sorted, unique_indices, mode, fill_value)\u001b[0m\n\u001b[1;32m   3550\u001b[0m \u001b[38;5;28;01mdef\u001b[39;00m \u001b[38;5;21m_gather\u001b[39m(arr, treedef, static_idx, dynamic_idx, indices_are_sorted,\n\u001b[1;32m   3551\u001b[0m             unique_indices, mode, fill_value):\n\u001b[1;32m   3552\u001b[0m   idx \u001b[38;5;241m=\u001b[39m _merge_static_and_dynamic_indices(treedef, static_idx, dynamic_idx)\n\u001b[0;32m-> 3553\u001b[0m   indexer \u001b[38;5;241m=\u001b[39m \u001b[43m_index_to_gather\u001b[49m\u001b[43m(\u001b[49m\u001b[43mshape\u001b[49m\u001b[43m(\u001b[49m\u001b[43marr\u001b[49m\u001b[43m)\u001b[49m\u001b[43m,\u001b[49m\u001b[43m \u001b[49m\u001b[43midx\u001b[49m\u001b[43m)\u001b[49m  \u001b[38;5;66;03m# shared with _scatter_update\u001b[39;00m\n\u001b[1;32m   3554\u001b[0m   y \u001b[38;5;241m=\u001b[39m arr\n\u001b[1;32m   3556\u001b[0m   \u001b[38;5;28;01mif\u001b[39;00m fill_value \u001b[38;5;129;01mis\u001b[39;00m \u001b[38;5;129;01mnot\u001b[39;00m \u001b[38;5;28;01mNone\u001b[39;00m:\n",
      "File \u001b[0;32m~/anaconda3/envs/olg/lib/python3.8/site-packages/jax/_src/numpy/lax_numpy.py:3723\u001b[0m, in \u001b[0;36m_index_to_gather\u001b[0;34m(x_shape, idx, normalize_indices)\u001b[0m\n\u001b[1;32m   3716\u001b[0m \u001b[38;5;28;01mfor\u001b[39;00m idx_pos, i \u001b[38;5;129;01min\u001b[39;00m \u001b[38;5;28menumerate\u001b[39m(idx):\n\u001b[1;32m   3717\u001b[0m   \u001b[38;5;66;03m# Handle the advanced indices here if:\u001b[39;00m\n\u001b[1;32m   3718\u001b[0m   \u001b[38;5;66;03m# * the advanced indices were not contiguous and we are the start.\u001b[39;00m\n\u001b[1;32m   3719\u001b[0m   \u001b[38;5;66;03m# * we are at the position of the first advanced index.\u001b[39;00m\n\u001b[1;32m   3720\u001b[0m   \u001b[38;5;28;01mif\u001b[39;00m (advanced_indexes \u001b[38;5;129;01mis\u001b[39;00m \u001b[38;5;129;01mnot\u001b[39;00m \u001b[38;5;28;01mNone\u001b[39;00m \u001b[38;5;129;01mand\u001b[39;00m\n\u001b[1;32m   3721\u001b[0m       (advanced_axes_are_contiguous \u001b[38;5;129;01mand\u001b[39;00m idx_pos \u001b[38;5;241m==\u001b[39m idx_advanced_axes[\u001b[38;5;241m0\u001b[39m] \u001b[38;5;129;01mor\u001b[39;00m\n\u001b[1;32m   3722\u001b[0m        \u001b[38;5;129;01mnot\u001b[39;00m advanced_axes_are_contiguous \u001b[38;5;129;01mand\u001b[39;00m idx_pos \u001b[38;5;241m==\u001b[39m \u001b[38;5;241m0\u001b[39m)):\n\u001b[0;32m-> 3723\u001b[0m     advanced_indexes \u001b[38;5;241m=\u001b[39m \u001b[43mbroadcast_arrays\u001b[49m\u001b[43m(\u001b[49m\u001b[38;5;241;43m*\u001b[39;49m\u001b[43madvanced_indexes\u001b[49m\u001b[43m)\u001b[49m\n\u001b[1;32m   3724\u001b[0m     shape \u001b[38;5;241m=\u001b[39m advanced_indexes[\u001b[38;5;241m0\u001b[39m]\u001b[38;5;241m.\u001b[39mshape\n\u001b[1;32m   3725\u001b[0m     ndim \u001b[38;5;241m=\u001b[39m \u001b[38;5;28mlen\u001b[39m(shape)\n",
      "File \u001b[0;32m~/anaconda3/envs/olg/lib/python3.8/site-packages/jax/core.py:715\u001b[0m, in \u001b[0;36mMainTrace.__eq__\u001b[0;34m(self, other)\u001b[0m\n\u001b[1;32m    712\u001b[0m \u001b[38;5;28;01mdef\u001b[39;00m \u001b[38;5;21m__hash__\u001b[39m(\u001b[38;5;28mself\u001b[39m) \u001b[38;5;241m-\u001b[39m\u001b[38;5;241m>\u001b[39m \u001b[38;5;28mint\u001b[39m:\n\u001b[1;32m    713\u001b[0m   \u001b[38;5;28;01mreturn\u001b[39;00m \u001b[38;5;28mhash\u001b[39m((\u001b[38;5;28mself\u001b[39m\u001b[38;5;241m.\u001b[39mlevel, \u001b[38;5;28mself\u001b[39m\u001b[38;5;241m.\u001b[39mtrace_type))\n\u001b[0;32m--> 715\u001b[0m \u001b[38;5;28;01mdef\u001b[39;00m \u001b[38;5;21m__eq__\u001b[39m(\u001b[38;5;28mself\u001b[39m, other: \u001b[38;5;28mobject\u001b[39m) \u001b[38;5;241m-\u001b[39m\u001b[38;5;241m>\u001b[39m \u001b[38;5;28mbool\u001b[39m:\n\u001b[1;32m    716\u001b[0m   \u001b[38;5;28;01mreturn\u001b[39;00m (\u001b[38;5;28misinstance\u001b[39m(other, MainTrace) \u001b[38;5;129;01mand\u001b[39;00m\n\u001b[1;32m    717\u001b[0m           \u001b[38;5;28mself\u001b[39m\u001b[38;5;241m.\u001b[39mlevel \u001b[38;5;241m==\u001b[39m other\u001b[38;5;241m.\u001b[39mlevel \u001b[38;5;129;01mand\u001b[39;00m\n\u001b[1;32m    718\u001b[0m           \u001b[38;5;28mself\u001b[39m\u001b[38;5;241m.\u001b[39mtrace_type \u001b[38;5;241m==\u001b[39m other\u001b[38;5;241m.\u001b[39mtrace_type \u001b[38;5;129;01mand\u001b[39;00m\n\u001b[1;32m    719\u001b[0m           \u001b[38;5;28mself\u001b[39m\u001b[38;5;241m.\u001b[39mpayload \u001b[38;5;241m==\u001b[39m other\u001b[38;5;241m.\u001b[39mpayload)\n\u001b[1;32m    721\u001b[0m \u001b[38;5;28;01mdef\u001b[39;00m \u001b[38;5;21mwith_cur_sublevel\u001b[39m(\u001b[38;5;28mself\u001b[39m):\n",
      "\u001b[0;31mKeyboardInterrupt\u001b[0m: "
     ]
    }
   ],
   "source": [
    "for t in tqdm(reversed(range(olg.T)),\n",
    "                  desc = 'Steady state',\n",
    "              total=self.T,\n",
    "                      token=os.getenv('comp_bot_token'),\n",
    "                      chat_id=os.getenv('chat_id')):\n",
    "    olg.update_guess(t)\n",
    "    print(olg.history[t][0][\"fun\"])"
   ]
  },
  {
   "cell_type": "code",
   "execution_count": 645,
   "metadata": {},
   "outputs": [],
   "source": [
    "?tqdm"
   ]
  },
  {
   "cell_type": "code",
   "execution_count": null,
   "metadata": {},
   "outputs": [],
   "source": [
    "plt.plot(olg.Consumption[20:250])"
   ]
  },
  {
   "cell_type": "code",
   "execution_count": null,
   "metadata": {},
   "outputs": [],
   "source": [
    "plt.plot(olg.K[0,:400])"
   ]
  },
  {
   "cell_type": "code",
   "execution_count": null,
   "metadata": {},
   "outputs": [],
   "source": [
    "plt.plot(olg.Labor[:250])"
   ]
  },
  {
   "cell_type": "code",
   "execution_count": 201,
   "metadata": {},
   "outputs": [],
   "source": [
    "high_deficit = np.where(olg.Deficit_ratio[:(olg.T+1)]>0.2)[0]\n",
    "if len(high_deficit) > 0:\n",
    "    olg.sigma =np.concatenate((olg.sigma[:high_deficit[0]],\n",
    "                           np.array([olg.sigma[high_deficit[0]]*0.9 \n",
    "                                     for _ in range(high_deficit[0],max_time)])))\n",
    "    if olg.T-olg.G + 1 < high_deficit[0]:\n",
    "        olg.T = high_deficit[0] + olg.G - 1"
   ]
  },
  {
   "cell_type": "code",
   "execution_count": 537,
   "metadata": {},
   "outputs": [
    {
     "data": {
      "text/plain": [
       "<matplotlib.legend.Legend at 0x7fb08b729f70>"
      ]
     },
     "execution_count": 537,
     "metadata": {},
     "output_type": "execute_result"
    },
    {
     "data": {
      "image/png": "[encoded data removed]",
      "text/plain": [
       "<Figure size 432x288 with 1 Axes>"
      ]
     },
     "metadata": {
      "needs_background": "light"
     },
     "output_type": "display_data"
    }
   ],
   "source": [
    "# plt.plot(olg.Gov_Income[200:250])\n",
    "# Ins_sum  II_sum I_sum VA_sum Pi_sum\n",
    "plt.plot(olg.Gov_Income[100:250], label = \"income\")\n",
    "# plt.plot(olg.Ins_sum[160:250], label = \"insurance\")\n",
    "# plt.plot(olg.II_sum[160:250], label = \"investment income\")\n",
    "# plt.plot(olg.I_sum[160:250], label = \"income\")\n",
    "# plt.plot(olg.VA_sum[160:250], label = \"value-added\")\n",
    "# plt.plot(olg.Pi_sum[160:250], label = \"profit\")\n",
    "plt.title(\"Taxes\")\n",
    "# plt.plot(olg.Gov_Outcome[0:250], label = \"outcome\")\n",
    "plt.plot(olg.Gov[100:250], label = \"Gov\")\n",
    "plt.plot(olg.Debt[160:250]*olg.r[160:250]/olg.Gov_Outcome[160:250], label = \"inerest expense\")\n",
    "plt.legend()"
   ]
  },
  {
   "cell_type": "code",
   "execution_count": 210,
   "metadata": {},
   "outputs": [
    {
     "data": {
      "text/plain": [
       "[<matplotlib.lines.Line2D at 0x7fafe85ee7f0>]"
      ]
     },
     "execution_count": 210,
     "metadata": {},
     "output_type": "execute_result"
    },
    {
     "data": {
      "image/png": "[encoded data removed]",
      "text/plain": [
       "<Figure size 432x288 with 1 Axes>"
      ]
     },
     "metadata": {
      "needs_background": "light"
     },
     "output_type": "display_data"
    }
   ],
   "source": [
    "plt.plot(olg.price[:100])"
   ]
  },
  {
   "cell_type": "code",
   "execution_count": 214,
   "metadata": {},
   "outputs": [
    {
     "data": {
      "text/plain": [
       "0.10000000038709678"
      ]
     },
     "execution_count": 214,
     "metadata": {},
     "output_type": "execute_result"
    }
   ],
   "source": [
    "olg.price[100]"
   ]
  },
  {
   "cell_type": "code",
   "execution_count": 221,
   "metadata": {},
   "outputs": [
    {
     "data": {
      "text/plain": [
       "[<matplotlib.lines.Line2D at 0x7fafe8294580>]"
      ]
     },
     "execution_count": 221,
     "metadata": {},
     "output_type": "execute_result"
    },
    {
     "data": {
      "image/png": "[encoded data removed]",
      "text/plain": [
       "<Figure size 432x288 with 1 Axes>"
      ]
     },
     "metadata": {
      "needs_background": "light"
     },
     "output_type": "display_data"
    }
   ],
   "source": [
    "plt.plot(olg.w)"
   ]
  },
  {
   "cell_type": "code",
   "execution_count": 215,
   "metadata": {},
   "outputs": [
    {
     "data": {
      "text/plain": [
       "[<matplotlib.lines.Line2D at 0x7fafe8561c40>]"
      ]
     },
     "execution_count": 215,
     "metadata": {},
     "output_type": "execute_result"
    },
    {
     "data": {
      "image/png": "[encoded data removed]",
      "text/plain": [
       "<Figure size 432x288 with 1 Axes>"
      ]
     },
     "metadata": {
      "needs_background": "light"
     },
     "output_type": "display_data"
    }
   ],
   "source": [
    "plt.plot(olg.a[0,:,250])"
   ]
  },
  {
   "cell_type": "code",
   "execution_count": 25,
   "metadata": {},
   "outputs": [],
   "source": [
    "olg.create_guess()"
   ]
  },
  {
   "cell_type": "code",
   "execution_count": 216,
   "metadata": {},
   "outputs": [
    {
     "data": {
      "text/plain": [
       "<matplotlib.legend.Legend at 0x7fafe8519610>"
      ]
     },
     "execution_count": 216,
     "metadata": {},
     "output_type": "execute_result"
    },
    {
     "data": {
      "image/png": "[encoded data removed]",
      "text/plain": [
       "<Figure size 432x288 with 1 Axes>"
      ]
     },
     "metadata": {
      "needs_background": "light"
     },
     "output_type": "display_data"
    }
   ],
   "source": [
    "plt.plot(olg.c[0,345:249:-1,250], label = \"consumption\")\n",
    "plt.plot(olg.l[0,345:249:-1,250], label = \"labor\")\n",
    "plt.plot(olg.a[0,345:249:-1,250], label = \"assets\")\n",
    "plt.plot(olg.Pi[0,345:249:-1,250], label = \"Pi\")\n",
    "plt.plot(olg.epsilon[0,345:249:-1,250], label =\"epsilon\")\n",
    "plt.legend()"
   ]
  },
  {
   "cell_type": "code",
   "execution_count": 179,
   "metadata": {},
   "outputs": [
    {
     "data": {
      "text/plain": [
       "[<matplotlib.lines.Line2D at 0x7fb00810c4c0>]"
      ]
     },
     "execution_count": 179,
     "metadata": {},
     "output_type": "execute_result"
    },
    {
     "data": {
      "image/png": "[encoded data removed]",
      "text/plain": [
       "<Figure size 432x288 with 1 Axes>"
      ]
     },
     "metadata": {
      "needs_background": "light"
     },
     "output_type": "display_data"
    }
   ],
   "source": [
    "plt.plot(olg.Deficit[150:250])"
   ]
  },
  {
   "cell_type": "code",
   "execution_count": 173,
   "metadata": {
    "pycharm": {
     "name": "#%%\n"
    },
    "scrolled": true
   },
   "outputs": [
    {
     "data": {
      "text/plain": [
       "Text(0.5, 1.0, 'wage adjustment')"
      ]
     },
     "execution_count": 173,
     "metadata": {},
     "output_type": "execute_result"
    },
    {
     "data": {
      "image/png": "[encoded data removed]",
      "text/plain": [
       "<Figure size 432x288 with 1 Axes>"
      ]
     },
     "metadata": {
      "needs_background": "light"
     },
     "output_type": "display_data"
    }
   ],
   "source": [
    "plt.plot([item[1][6] for i, item in enumerate(olg.steady_path)])\n",
    "# plt.plot([item[1][1] for i, item in enumerate(olg.steady_path)])\n",
    "plt.axhline(y=0, color='r', linestyle='-')\n",
    "plt.title(\"wage adjustment\")"
   ]
  },
  {
   "cell_type": "code",
   "execution_count": 174,
   "metadata": {},
   "outputs": [
    {
     "data": {
      "text/plain": [
       "Text(0.5, 1.0, 'Labor')"
      ]
     },
     "execution_count": 174,
     "metadata": {},
     "output_type": "execute_result"
    },
    {
     "data": {
      "image/png": "[encoded data removed]",
      "text/plain": [
       "<Figure size 432x288 with 1 Axes>"
      ]
     },
     "metadata": {
      "needs_background": "light"
     },
     "output_type": "display_data"
    }
   ],
   "source": [
    "plt.plot([item[1][1]*item[1][-2] for i, item in enumerate(olg.steady_path)], label = \"non-export\")\n",
    "plt.plot([(1-item[1][1])*item[1][-2] for i, item in enumerate(olg.steady_path)], label = \"export\")\n",
    "plt.legend()\n",
    "plt.title(\"Labor\")"
   ]
  },
  {
   "cell_type": "code",
   "execution_count": 175,
   "metadata": {},
   "outputs": [
    {
     "data": {
      "text/plain": [
       "Text(0.5, 1.0, 'Capital')"
      ]
     },
     "execution_count": 175,
     "metadata": {},
     "output_type": "execute_result"
    },
    {
     "data": {
      "image/png": "[encoded data removed]",
      "text/plain": [
       "<Figure size 432x288 with 1 Axes>"
      ]
     },
     "metadata": {
      "needs_background": "light"
     },
     "output_type": "display_data"
    }
   ],
   "source": [
    "plt.plot([item[1][0]*item[1][-2] for i, item in enumerate(olg.steady_path)], label = \"non-export\")\n",
    "plt.plot([item[1][2]*item[1][-2] for i, item in enumerate(olg.steady_path)], label = \"export\")\n",
    "plt.legend()\n",
    "plt.title(\"Capital\")"
   ]
  },
  {
   "cell_type": "code",
   "execution_count": 217,
   "metadata": {},
   "outputs": [
    {
     "data": {
      "text/plain": [
       "Text(0.5, 1.0, 'non-export labor share adjustment')"
      ]
     },
     "execution_count": 217,
     "metadata": {},
     "output_type": "execute_result"
    },
    {
     "data": {
      "image/png": "[encoded data removed]",
      "text/plain": [
       "<Figure size 432x288 with 1 Axes>"
      ]
     },
     "metadata": {
      "needs_background": "light"
     },
     "output_type": "display_data"
    }
   ],
   "source": [
    "# plt.plot([item[1][0] for i, item in enumerate(olg.steady_path)])\n",
    "plt.plot([item[1][1] for i, item in enumerate(olg.steady_path)])\n",
    "plt.title(\"non-export labor share adjustment\")"
   ]
  },
  {
   "cell_type": "code",
   "execution_count": 177,
   "metadata": {},
   "outputs": [
    {
     "data": {
      "text/plain": [
       "Text(0.5, 1.0, 'cons adjustment')"
      ]
     },
     "execution_count": 177,
     "metadata": {},
     "output_type": "execute_result"
    },
    {
     "data": {
      "image/png": "[encoded data removed]",
      "text/plain": [
       "<Figure size 432x288 with 1 Axes>"
      ]
     },
     "metadata": {
      "needs_background": "light"
     },
     "output_type": "display_data"
    }
   ],
   "source": [
    "plt.plot([item[1][-3] for i, item in enumerate(olg.steady_path)])\n",
    "plt.title(\"cons adjustment\")"
   ]
  },
  {
   "cell_type": "code",
   "execution_count": 178,
   "metadata": {},
   "outputs": [
    {
     "data": {
      "text/plain": [
       "Text(0.5, 1.0, 'price adjustment')"
      ]
     },
     "execution_count": 178,
     "metadata": {},
     "output_type": "execute_result"
    },
    {
     "data": {
      "image/png": "[encoded data removed]",
      "text/plain": [
       "<Figure size 432x288 with 1 Axes>"
      ]
     },
     "metadata": {
      "needs_background": "light"
     },
     "output_type": "display_data"
    }
   ],
   "source": [
    "plt.plot([item[1][4] for i, item in enumerate(olg.steady_path)], label =\"price\")\n",
    "plt.plot([item[1][5] for i, item in enumerate(olg.steady_path)], label =\"non-export price\")\n",
    "plt.legend()\n",
    "plt.title(\"price adjustment\")"
   ]
  },
  {
   "cell_type": "code",
   "execution_count": 163,
   "metadata": {
    "pycharm": {
     "name": "#%%\n"
    }
   },
   "outputs": [
    {
     "data": {
      "text/plain": [
       "Text(0.5, 1.0, 'Target function')"
      ]
     },
     "execution_count": 163,
     "metadata": {},
     "output_type": "execute_result"
    },
    {
     "data": {
      "image/png": "[encoded data removed]",
      "text/plain": [
       "<Figure size 432x288 with 1 Axes>"
      ]
     },
     "metadata": {
      "needs_background": "light"
     },
     "output_type": "display_data"
    }
   ],
   "source": [
    "import matplotlib.pyplot as plt\n",
    "plt.plot([item[0][\"fun\"] for i, item in enumerate(olg.steady_path)])\n",
    "plt.title(\"Target function\")"
   ]
  },
  {
   "cell_type": "code",
   "execution_count": 164,
   "metadata": {
    "pycharm": {
     "name": "#%%\n"
    }
   },
   "outputs": [
    {
     "data": {
      "text/plain": [
       "Text(0.5, 1.0, 'k')"
      ]
     },
     "execution_count": 164,
     "metadata": {},
     "output_type": "execute_result"
    },
    {
     "data": {
      "image/png": "[encoded data removed]",
      "text/plain": [
       "<Figure size 432x288 with 1 Axes>"
      ]
     },
     "metadata": {
      "needs_background": "light"
     },
     "output_type": "display_data"
    }
   ],
   "source": [
    "plt.plot([item[1][0] for i, item in enumerate(olg.steady_path)], label =\"k N\")\n",
    "plt.plot([item[1][2] for i, item in enumerate(olg.steady_path)], label =\"k E\")\n",
    "plt.legend()\n",
    "plt.title(\"k\")"
   ]
  },
  {
   "cell_type": "code",
   "execution_count": 152,
   "metadata": {},
   "outputs": [
    {
     "data": {
      "text/plain": [
       "Text(0.5, 1.0, 'k non-export adjustment')"
      ]
     },
     "execution_count": 152,
     "metadata": {},
     "output_type": "execute_result"
    },
    {
     "data": {
      "image/png": "[encoded data removed]",
      "text/plain": [
       "<Figure size 432x288 with 1 Axes>"
      ]
     },
     "metadata": {
      "needs_background": "light"
     },
     "output_type": "display_data"
    }
   ],
   "source": [
    "plt.plot([item[1][1] for i, item in enumerate(olg.steady_path)], label =\"N labor share\")\n",
    "plt.legend()\n",
    "plt.title(\"labor share\")"
   ]
  },
  {
   "cell_type": "code",
   "execution_count": 279,
   "metadata": {
    "pycharm": {
     "name": "#%%\n"
    }
   },
   "outputs": [
    {
     "data": {
      "text/plain": [
       "(     fun: 497133.5107400712\n",
       "     info: {'x': array([ 6.50888420e+00,  7.89066419e+02,  3.67245615e+04, -8.85181784e-03,\n",
       "         2.52521567e+01,  3.05824304e+03,  5.72445545e+04,  3.73356679e-02,\n",
       "         1.81871797e-01,  2.67263830e-08,  2.11897026e-02]), 'g': array([], dtype=float64), 'obj_val': 497133.5107400712, 'mult_g': array([], dtype=float64), 'mult_x_L': array([0., 0., 0., 0., 0., 0., 0., 0., 0., 0., 0.]), 'mult_x_U': array([0., 0., 0., 0., 0., 0., 0., 0., 0., 0., 0.]), 'status': -3, 'status_msg': b'An unrecoverable error occurred while Ipopt tried to compute the search direction.'}\n",
       "  message: b'An unrecoverable error occurred while Ipopt tried to compute the search direction.'\n",
       "     nfev: 629\n",
       "      nit: 21\n",
       "     njev: 25\n",
       "   status: -3\n",
       "  success: False\n",
       "        x: array([ 6.50888420e+00,  7.89066419e+02,  3.67245615e+04, -8.85181784e-03,\n",
       "         2.52521567e+01,  3.05824304e+03,  5.72445545e+04,  3.73356679e-02,\n",
       "         1.81871797e-01,  2.67263830e-08,  2.11897026e-02]),\n",
       " array([ 6.50888420e+00,  7.89066419e+02,  3.67245615e+04, -8.85181784e-03,\n",
       "         2.52521567e+01,  3.05824304e+03,  5.72445545e+04,  3.73356679e-02,\n",
       "         1.81871797e-01,  1.27880340e-07,  2.11357024e-02,  1.34896231e+10,\n",
       "         9.32640416e+04, -2.74112479e+05]))"
      ]
     },
     "execution_count": 279,
     "metadata": {},
     "output_type": "execute_result"
    }
   ],
   "source": [
    "olg.steady_path[-4]\n",
    "# единственный выход это потребление тоже менять с eta"
   ]
  },
  {
   "cell_type": "code",
   "execution_count": 38,
   "metadata": {
    "pycharm": {
     "name": "#%%\n"
    }
   },
   "outputs": [
    {
     "data": {
      "text/plain": [
       "[<matplotlib.lines.Line2D at 0x7f798456bc10>]"
      ]
     },
     "execution_count": 38,
     "metadata": {},
     "output_type": "execute_result"
    },
    {
     "data": {
      "image/png": "[encoded data removed]",
      "text/plain": [
       "<Figure size 432x288 with 1 Axes>"
      ]
     },
     "metadata": {
      "needs_background": "light"
     },
     "output_type": "display_data"
    }
   ],
   "source": [
    "import matplotlib.pyplot as plt\n",
    "plt.plot(olg.w)"
   ]
  },
  {
   "cell_type": "code",
   "execution_count": 606,
   "metadata": {
    "pycharm": {
     "name": "#%%\n"
    }
   },
   "outputs": [
    {
     "data": {
      "text/plain": [
       "[<matplotlib.lines.Line2D at 0x2e65210a490>]"
      ]
     },
     "execution_count": 606,
     "metadata": {},
     "output_type": "execute_result"
    },
    {
     "data": {
      "image/png": "[encoded data removed]",
      "text/plain": [
       "<Figure size 432x288 with 1 Axes>"
      ]
     },
     "metadata": {
      "needs_background": "light"
     },
     "output_type": "display_data"
    }
   ],
   "source": [
    "# plt.plot(olg.c[0][345-30,(250-30):(345-30)]) # труд у дрпугих неправильно рассчитывается?\n",
    "# plt.plot(olg.l[0][345-30,(250-30):(345-30)])\n"
   ]
  },
  {
   "cell_type": "code",
   "execution_count": 43,
   "metadata": {
    "pycharm": {
     "name": "#%%\n"
    }
   },
   "outputs": [
    {
     "data": {
      "text/plain": [
       "1.3201810425347083e-05"
      ]
     },
     "execution_count": 43,
     "metadata": {},
     "output_type": "execute_result"
    }
   ],
   "source": [
    "olg.w[99]"
   ]
  },
  {
   "cell_type": "code",
   "execution_count": 25,
   "metadata": {
    "pycharm": {
     "name": "#%%\n"
    }
   },
   "outputs": [
    {
     "data": {
      "image/png": "[encoded data removed]",
      "text/plain": [
       "<Figure size 432x288 with 1 Axes>"
      ]
     },
     "metadata": {
      "needs_background": "light"
     },
     "output_type": "display_data"
    }
   ],
   "source": [
    "# plt.plot(olg.l[0][260,165:260], label= \"labor\")\n",
    "# plt.plot(olg.c[0][260,165:260], label = \"consumption\")\n",
    "plt.plot(olg.a[0][260,165:260], label = \"assets\")\n",
    "# plt.plot((olg.c[0][260,165:260]**olg.phi * (1-olg.l[0][260,165:260])**(1-olg.phi))**(1-olg.theta)/(1-olg.theta), label = \"utility\")\n",
    "plt.show()"
   ]
  },
  {
   "cell_type": "code",
   "execution_count": 614,
   "metadata": {
    "pycharm": {
     "name": "#%%\n"
    }
   },
   "outputs": [
    {
     "data": {
      "text/plain": [
       "Text(0.5, 1.0, 'Wage path')"
      ]
     },
     "execution_count": 614,
     "metadata": {},
     "output_type": "execute_result"
    },
    {
     "data": {
      "image/png": "[encoded data removed]",
      "text/plain": [
       "<Figure size 432x288 with 1 Axes>"
      ]
     },
     "metadata": {
      "needs_background": "light"
     },
     "output_type": "display_data"
    }
   ],
   "source": [
    "plt.plot([item[0][\"info\"][\"x\"][8] for i, item in enumerate(olg.steady_path)if i != 1] [0:])\n",
    "plt.title(\"Wage path\")"
   ]
  },
  {
   "cell_type": "code",
   "execution_count": 615,
   "metadata": {
    "pycharm": {
     "name": "#%%\n"
    }
   },
   "outputs": [
    {
     "data": {
      "text/plain": [
       "Text(0.5, 1.0, 'Price N path')"
      ]
     },
     "execution_count": 615,
     "metadata": {},
     "output_type": "execute_result"
    },
    {
     "data": {
      "image/png": "[encoded data removed]",
      "text/plain": [
       "<Figure size 432x288 with 1 Axes>"
      ]
     },
     "metadata": {
      "needs_background": "light"
     },
     "output_type": "display_data"
    }
   ],
   "source": [
    "plt.plot([item[0][\"info\"][\"x\"][10] for item in olg.steady_path][0:])\n",
    "plt.title(\"Price N path\")"
   ]
  },
  {
   "cell_type": "code",
   "execution_count": null,
   "metadata": {
    "pycharm": {
     "name": "#%%\n"
    }
   },
   "outputs": [],
   "source": [
    "import matplotlib.pyplot as plt\n",
    "# plt.plot((((olg.c[:,:610,:]*olg.N[:,:610,:]).sum(axis=0).sum(axis=0))/olg.N[:,:610,:].sum(axis=0).sum(axis=0))[:150])\n",
    "# plt.plot((((olg.a[:,:610,:]*olg.N[:,:610,:]).sum(axis=0).sum(axis=0))/olg.N[:,:610,:].sum(axis=0).sum(axis=0))[:150])\n",
    "plt.plot((((olg.l[:,:610,:]*olg.N[:,:610,:]).sum(axis=0).sum(axis=0))/olg.N[:,:610,:].sum(axis=0).sum(axis=0))[:250])\n",
    "# plt.plot(olg.I[0,:100]/olg.N[0].sum(axis=0)[:100])\n",
    "# plt.plot((olg.l[0,:250]*olg.N[0,:250]).sum(axis=0)/(olg.N[0,:250].sum(axis=0)))\n",
    "plt.show()"
   ]
  },
  {
   "cell_type": "code",
   "execution_count": null,
   "metadata": {
    "pycharm": {
     "name": "#%%\n"
    }
   },
   "outputs": [],
   "source": [
    "plt.plot(olg.I[0,1:100]/olg.I[0,0:99])"
   ]
  },
  {
   "cell_type": "code",
   "execution_count": 616,
   "metadata": {
    "pycharm": {
     "name": "#%%\n"
    }
   },
   "outputs": [
    {
     "data": {
      "text/plain": [
       "[<matplotlib.lines.Line2D at 0x2e652135ee0>]"
      ]
     },
     "execution_count": 616,
     "metadata": {},
     "output_type": "execute_result"
    },
    {
     "data": {
      "image/png": "[encoded data removed]",
      "text/plain": [
       "<Figure size 432x288 with 1 Axes>"
      ]
     },
     "metadata": {
      "needs_background": "light"
     },
     "output_type": "display_data"
    }
   ],
   "source": [
    "plt.plot(olg.L[0][:200]+olg.L[1][:200])\n",
    "plt.plot(((olg.l[:,:610,:]*olg.N[:,:610,:]*olg.epsilon[:,:610,:]).sum(axis=0).sum(axis=0))[:200])"
   ]
  },
  {
   "cell_type": "code",
   "execution_count": 331,
   "metadata": {
    "pycharm": {
     "name": "#%%\n"
    }
   },
   "outputs": [
    {
     "data": {
      "text/plain": [
       "array([170000., 170000., 170000., 170000., 170000., 170000., 170000.,\n",
       "       170000., 170000., 170000., 170000., 170000., 170000., 170000.,\n",
       "       170000., 170000., 170000., 170000., 170000., 170000., 170000.,\n",
       "       170000., 170000., 170000., 170000., 170000., 170000., 170000.,\n",
       "       170000., 170000., 170000., 170000., 170000., 170000., 170000.,\n",
       "       170000., 170000., 170000., 170000., 170000., 170000., 170000.,\n",
       "       170000., 170000., 170000., 170000., 170000., 170000., 170000.,\n",
       "       170000., 170000., 170000., 170000., 170000., 170000., 170000.,\n",
       "       170000., 170000., 170000., 170000., 170000., 170000., 170000.,\n",
       "       170000., 170000., 170000., 170000., 170000., 170000., 170000.,\n",
       "       170000., 170000., 170000., 170000., 170000., 170000., 170000.,\n",
       "       170000., 170000., 170000., 170000., 170000., 170000., 170000.,\n",
       "       170000., 170000., 170000., 170000., 170000., 170000., 170000.,\n",
       "       170000., 170000., 170000., 170000., 170000., 170000., 170000.,\n",
       "       170000., 170000., 170000., 170000., 170000., 170000., 170000.,\n",
       "       170000., 170000., 170000., 170000., 170000., 170000., 170000.,\n",
       "       170000., 170000., 170000., 170000., 170000., 170000., 170000.,\n",
       "       170000., 170000., 170000., 170000., 170000., 170000., 170000.,\n",
       "       170000., 170000., 170000., 170000., 170000., 170000., 170000.,\n",
       "       170000., 170000., 170000., 170000., 170000., 170000., 170000.,\n",
       "       170000., 170000., 170000., 170000., 170000., 170000., 170000.,\n",
       "       170000., 170000., 170000., 170000., 170000., 170000., 170000.,\n",
       "       170000., 170000., 170000., 170000., 170000., 170000., 170000.,\n",
       "       170000., 170000., 170000., 170000., 170000., 170000., 170000.,\n",
       "       170000., 170000., 170000., 170000., 170000., 170000., 170000.,\n",
       "       170000., 170000., 170000., 170000., 170000., 170000., 170000.,\n",
       "       170000., 170000., 170000., 170000., 170000., 170000., 170000.,\n",
       "       170000., 170000., 170000., 170000., 170000., 170000., 170000.,\n",
       "       170000., 170000., 170000., 170000.])"
      ]
     },
     "execution_count": 331,
     "metadata": {},
     "output_type": "execute_result"
    }
   ],
   "source": [
    "olg.L[0][:200]+olg.L[1][:200]"
   ]
  },
  {
   "cell_type": "code",
   "execution_count": 332,
   "metadata": {
    "pycharm": {
     "name": "#%%\n"
    }
   },
   "outputs": [
    {
     "data": {
      "text/plain": [
       "[<matplotlib.lines.Line2D at 0x2e65345fe50>]"
      ]
     },
     "execution_count": 332,
     "metadata": {},
     "output_type": "execute_result"
    },
    {
     "data": {
      "image/png": "[encoded data removed]",
      "text/plain": [
       "<Figure size 432x288 with 1 Axes>"
      ]
     },
     "metadata": {
      "needs_background": "light"
     },
     "output_type": "display_data"
    }
   ],
   "source": [
    "plt.plot((olg.K[0]/olg.L[0])[:100])"
   ]
  },
  {
   "cell_type": "code",
   "execution_count": 44,
   "metadata": {
    "pycharm": {
     "name": "#%%\n"
    }
   },
   "outputs": [
    {
     "data": {
      "text/plain": [
       "[<matplotlib.lines.Line2D at 0x7f798443ce80>]"
      ]
     },
     "execution_count": 44,
     "metadata": {},
     "output_type": "execute_result"
    },
    {
     "data": {
      "image/png": "[encoded data removed]",
      "text/plain": [
       "<Figure size 432x288 with 1 Axes>"
      ]
     },
     "metadata": {
      "needs_background": "light"
     },
     "output_type": "display_data"
    }
   ],
   "source": [
    "plt.plot(olg.a[0][100][:100])"
   ]
  },
  {
   "cell_type": "code",
   "execution_count": 45,
   "metadata": {
    "pycharm": {
     "name": "#%%\n"
    }
   },
   "outputs": [
    {
     "data": {
      "text/plain": [
       "[<matplotlib.lines.Line2D at 0x7f798458bc40>]"
      ]
     },
     "execution_count": 45,
     "metadata": {},
     "output_type": "execute_result"
    },
    {
     "data": {
      "image/png": "[encoded data removed]",
      "text/plain": [
       "<Figure size 432x288 with 1 Axes>"
      ]
     },
     "metadata": {
      "needs_background": "light"
     },
     "output_type": "display_data"
    }
   ],
   "source": [
    "plt.plot(olg.price_N)"
   ]
  },
  {
   "cell_type": "code",
   "execution_count": 54,
   "metadata": {},
   "outputs": [
    {
     "data": {
      "text/plain": [
       "1.2925927310610548e-05"
      ]
     },
     "execution_count": 54,
     "metadata": {},
     "output_type": "execute_result"
    }
   ],
   "source": [
    "olg.w[120]"
   ]
  },
  {
   "cell_type": "code",
   "execution_count": 49,
   "metadata": {
    "pycharm": {
     "name": "#%%\n"
    }
   },
   "outputs": [
    {
     "data": {
      "text/plain": [
       "[<matplotlib.lines.Line2D at 0x7f798419cb20>]"
      ]
     },
     "execution_count": 49,
     "metadata": {},
     "output_type": "execute_result"
    },
    {
     "data": {
      "image/png": "[encoded data removed]",
      "text/plain": [
       "<Figure size 432x288 with 1 Axes>"
      ]
     },
     "metadata": {
      "needs_background": "light"
     },
     "output_type": "display_data"
    }
   ],
   "source": [
    "plt.plot(olg.w[100])"
   ]
  }
 ],
 "metadata": {
  "kernelspec": {
   "display_name": "olg",
   "language": "python",
   "name": "olg"
  },
  "language_info": {
   "codemirror_mode": {
    "name": "ipython",
    "version": 3
   },
   "file_extension": ".py",
   "mimetype": "text/x-python",
   "name": "python",
   "nbconvert_exporter": "python",
   "pygments_lexer": "ipython3",
   "version": "3.8.10"
  }
 },
 "nbformat": 4,
 "nbformat_minor": 1
}
