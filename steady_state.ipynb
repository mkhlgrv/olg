{
 "cells": [
  {
   "cell_type": "code",
   "execution_count": 3,
   "metadata": {
    "pycharm": {
     "name": "#%%\n"
    }
   },
   "outputs": [],
   "source": [
    "import pandas as pd\n",
    "from scipy.optimize import fsolve\n",
    "import numpy as np\n",
    "import itertools\n",
    "import copy\n",
    "from cyipopt import minimize_ipopt\n",
    "import warnings\n",
    "import matplotlib.pyplot as plt\n",
    "from jax.config import config\n",
    "# Enable 64 bit floating point precision\n",
    "config.update(\"jax_enable_x64\", True)\n",
    "\n",
    "# We use the CPU instead of GPU und mute all warnings if no GPU/TPU is found.\n",
    "config.update('jax_platform_name', 'cpu')\n",
    "\n",
    "# import jax.numpy as np\n",
    "from jax import jit, grad, jacfwd, jacrev"
   ]
  },
  {
   "cell_type": "code",
   "execution_count": 4,
   "metadata": {
    "pycharm": {
     "name": "#%%\n"
    }
   },
   "outputs": [],
   "source": [
    "def counted(f):\n",
    "    def wrapped(*args, **kwargs):\n",
    "        wrapped.calls += 1\n",
    "        return f(*args, **kwargs)\n",
    "    wrapped.calls = 0\n",
    "    return wrapped"
   ]
  },
  {
   "cell_type": "markdown",
   "metadata": {
    "pycharm": {
     "name": "#%% md\n"
    }
   },
   "source": [
    "Проблемы: надо посчитать долю наследства\n",
    "Для мигрантов матрицу размера 10к? (Каждое новое поколение имеет другое богатство)"
   ]
  },
  {
   "cell_type": "code",
   "execution_count": 13,
   "metadata": {},
   "outputs": [],
   "source": [
    "class OLG_model:\n",
    "    def __init__(self, G,T,N,epsilon, rho, sigma,Pi,r,price_M, price_E, tau_I,tau_II,tau_Ins, tau_pi, tau_VA, tau_rho, beta, phi , theta , psi, omega, alpha, delta, A,initial, eta,steady_max_iter,steady_guess):\n",
    "        \"\"\"\n",
    "        OLG model\n",
    "        :param G: number of generations, default is 110\n",
    "        :param T: simulation time, default is 500\n",
    "        :param N_female: population (G+T-1, T) matrix where N[g,t] is cohort size of generation g in period t\n",
    "        :param N_male: population (G+T-1, T) matrix where N[g,t] is cohort size of generation g in period t\n",
    "        :param epsilon_female: female cohort- and year-specific productivity\n",
    "        :param epsilon_male: male cohort- and year-specific productivity\n",
    "        :param rho_female: female cohort- and year-specific retirement rate\n",
    "        :param rho_male: male cohort- and year-specific retirement rate\n",
    "        :param sigma: pension rate (pension point value) as share of wage for T periods\n",
    "        :param Pi_female: survival probability\n",
    "        :param Pi_male: survival probability\n",
    "        :param Beq_female_to_female,Beq_female_to_male,Beq_male_to_female,Beq_male_to_male: bequest matrix\n",
    "        :param r: rate of return for T periods\n",
    "        :param price_M: import prices for T periods\n",
    "        :param price_E: export prices for T periods\n",
    "        :param tau_I: income tax for T periods\n",
    "        :param tau_II: income tax on investment for T periods\n",
    "        :param tau_Ins: insurance tax for T periods\n",
    "        :param tau_pi: profit tax for T periods\n",
    "        :param tau_VA: value-added tax for T periods\n",
    "        :param tau_rho: retirement tax for T periods\n",
    "        :param beta: elasticity of intertemporal substitution\n",
    "        :param phi: elasticity of intertemporal substitution\n",
    "        :param theta: ?\n",
    "        :param psi: ? investment cost\n",
    "        :param omega: import share\n",
    "        :param alpha: elasticity of capital\n",
    "        :param delta: deprecation rate\n",
    "        :param A_N: total factor productivity, non-export good\n",
    "        :param A_E: total factor productivity, export goods\n",
    "        \"\"\"\n",
    "\n",
    "        ## Exogenous variables and parameters\n",
    "        # Demography\n",
    "        self.G, self.T,self.N,self.epsilon,self.Pi = G, T,N,epsilon,Pi\n",
    "        # Retirement\n",
    "        self.rho, self.sigma = rho, sigma\n",
    "        # Prices\n",
    "        self.r, self.price_M, self.price_E, self.omega = r, price_M, price_E, omega\n",
    "        # Taxation\n",
    "        self.tau_I, self.tau_II, self.tau_pi, self.tau_VA,self.tau_Ins, self.tau_rho =  tau_I,tau_II, tau_pi,tau_VA,tau_Ins, tau_rho\n",
    "        # Utility\n",
    "        self.beta, self.phi, self.theta  = beta, phi, theta\n",
    "        # Production\n",
    "        self.psi, self.alpha, self.delta, self.A = psi, alpha, delta, A\n",
    "\n",
    "        self.a_initial = initial[\"a\"]\n",
    "\n",
    "\n",
    "\n",
    "        self.eta = eta\n",
    "        self.steady_max_iter = steady_max_iter\n",
    "\n",
    "        # Endogenous variable\n",
    "        # Initial guess\n",
    "        self.price_N = np.array([initial[\"price_N\"] for _ in range(max_time)])\n",
    "        self.K = np.array([[initial[\"K_N\"] for _ in range(max_time)], [initial[\"K_E\"] for _ in range(max_time)]])\n",
    "        self.L = np.array([[initial[\"L_N\"] for _ in range(max_time)], [initial[\"L_E\"] for _ in range(max_time)]])\n",
    "        self.I = np.array([[initial[\"I_N\"] for _ in range(max_time)], [initial[\"I_E\"] for _ in range(max_time)]])\n",
    "        \n",
    "        self.Debt = np.array([initial[\"Debt\"] for _ in range(max_time)])\n",
    "        \n",
    "        \n",
    "        self.VA_sum= np.zeros_like(self.Debt)\n",
    "        self.I_sum= np.zeros_like(self.Debt)\n",
    "        self.II_sum= np.zeros_like(self.Debt)\n",
    "        \n",
    "        self.Ins_sum= np.zeros_like(self.Debt)\n",
    "        self.Rho_sum= np.zeros_like(self.Debt)\n",
    "        self.Pi_sum= np.zeros_like(self.Debt)\n",
    "            \n",
    "        self.Gov_Income= np.zeros_like(self.Debt)\n",
    "        \n",
    "        self.Gov_Outcome= np.zeros_like(self.Debt)\n",
    "        self.Deficit= np.zeros_like(self.Debt)\n",
    "        self.Deficit_ratio= np.zeros_like(self.Debt)\n",
    "\n",
    "        self.lmbda = np.array([[0.5 for _ in range(max_time)] for _ in range(2)])\n",
    "\n",
    "        self.w = ((self.price_N *(1-self.alpha)*(self.K[0])**self.alpha *(self.A[0])**(1-self.alpha)*(self.L[0])**(-self.alpha))+\n",
    "        (self.price_E *(1-self.alpha)*(self.K[1])**self.alpha *(self.A[1])**(1-self.alpha)*(self.L[1])**(-self.alpha)))/2\n",
    "\n",
    "        self.price = (self.price_M)**self.omega * (self.price_N)**(1-self.omega)\n",
    "\n",
    "\n",
    "        self.Y = self.K**self.alpha * (self.L*self.A)**(1-self.alpha)\n",
    "\n",
    "        \n",
    "        self.k = np.zeros_like(self.K)\n",
    "        self.k[0] = self.K[0]/((self.L[0]+self.L[1])*self.A[0])\n",
    "        self.k[1] = self.K[1]/((self.L[0]+self.L[1])*self.A[1])\n",
    "        \n",
    "        self.i = self.I/self.K\n",
    "        \n",
    "        self.lmbda_to_price = np.zeros_like(self.lmbda)\n",
    "        \n",
    "        self.lmbda_to_price[0] = self.lmbda[0]/self.price\n",
    "        self.lmbda_to_price[1] = self.lmbda[1]/self.price\n",
    "        \n",
    "        self.L_share = np.zeros_like(self.L)\n",
    "        self.L_share[0] = self.L[0]/(self.L[0]+self.L[1])\n",
    "        self.L_share[1] = self.L[1]/(self.L[0]+self.L[1])\n",
    "        \n",
    "\n",
    "\n",
    "        self.c =  np.array([[[0.002 if ((g >= t) and (g<=self.G+t-1)) else 0 for t in range(max_time)] for g in range(max_time)] for _ in range(2)])\n",
    "        self.a = np.array([[[0.01 if ((g >= t) and (g<=self.G+t-1)) else 0 for t in range(max_time)] for g in range(max_time)] for _ in range(2)])\n",
    "        self.gamma = np.array([[[0.9 if ((g >= t) and (g<=self.G+t-1)) else 0 for t in range(max_time)] for g in range(max_time)] for _ in range(2)])\n",
    "        self.l = np.array([[[0.4 if ((g >= t) and (g<=self.G+t-1)) else 0 for t in range(max_time)] for g in range(max_time)] for _ in range(2)])\n",
    "\n",
    "        Consumption = np.array([np.sum([self.c[s,g,t]*self.N[s,g,t] for g in range(max_time) for s in range(2)]) for t in range(max_time)])\n",
    "        self.Consumption = Consumption\n",
    "\n",
    "        Labor = np.array([np.sum([self.l[s,g,self.T]*self.N[s,g,self.T]*self.epsilon[s,g,self.T] for g in range(max_time) for s in range(2)]) for t in range(max_time)])\n",
    "        self.Labor = Labor\n",
    "\n",
    "        Assets =  np.array([np.sum([self.a[s,g,t]*self.N[s,g,t] for g in range(max_time) for s in range(2)]) for t in range(max_time)])\n",
    "        self.Assets = Assets\n",
    "\n",
    "        \n",
    "        self.steady = np.array(list(steady_guess) + [Consumption[self.T], Labor[self.T], Assets[self.T]])\n",
    "        self.steady_path = []\n",
    "        \n",
    "        self.A_growth = self.A[0,self.T]/self.A[0, self.T-1]\n",
    "        self.N_growth = np.sum([self.N[s,g,self.T]*self.epsilon[s,g,self.T] for g in range(self.T, self.G+self.T) for s in range(2)])/\\\n",
    "                   np.sum([self.N[s,g,self.T-1]*self.epsilon[s,g,self.T-1] for g in range(self.T-1, self.G+self.T-1) for s in range(2)])\n",
    "        \n",
    "\n",
    "        self.lmbda_to_price_steady = (1+self.tau_VA[self.T])/((1 - self.psi/2 * (self.A_growth*self.N_growth -1)**2 - self.psi*self.A_growth*self.N_growth * (self.A_growth*self.N_growth -1))+self.psi/(1+self.r[self.T+1]) * (self.A_growth*self.N_growth -1)* (self.A_growth*self.N_growth)**2)\n",
    "        self.i_steady  = (self.A_growth*self.N_growth-1+self.delta) / (1-self.psi/2*(self.A_growth*self.N_growth -1)**2)\n",
    "        \n",
    "        self.D = self.Consumption+self.I[0]+self.I[1]\n",
    "        \n",
    "        self.M = self.omega * self.D * self.price / self.price_M\n",
    "        \n",
    "        self.Gov = np.array([initial[\"Gov\"]*(self.A_growth*self.N_growth)**i  for i in range(max_time)])\n",
    "\n",
    "        self.GDP = self.D+ self.price_N/self.price * self.Gov\n",
    "          \n",
    "    def update_government(self, t):\n",
    "        self.VA_sum[t] = self.tau_VA[t]*self.price[t]*(self.Consumption[t]+self.I[0,t]+self.I[1, t])\n",
    "        self.II_sum[t] = self.tau_II[t]*self.Assets[t]\n",
    "        self.I_sum[t] = self.Labor[t] * self.w[t] *\\\n",
    "                        (1-(self.tau_rho[t] + self.tau_Ins[t])/\\\n",
    "                         (1+self.tau_rho[t] + self.tau_Ins[t])) *\\\n",
    "                        self.tau_I[t] \n",
    "        \n",
    "        \n",
    "        \n",
    "        self.Ins_sum[t] = self.tau_Ins[t]/(1+self.tau_rho[t] + self.tau_Ins[t]) * self.Labor[t] * self.w[t]\n",
    "        self.Rho_sum[t] = self.tau_rho[t]/(1+self.tau_rho[t] + self.tau_Ins[t]) * self.Labor[t] * self.w[t]\n",
    "        self.Pi_sum[t] = self.tau_pi[t] * (self.price[t] * self.K[0,t]**self.alpha *\\\n",
    "                                           (self.L[0,t]*self.A[0,t])**(1-self.alpha) -\\\n",
    "        self.w[t]*self.L[0,t] - self.delta * self.price[t]*self.K[0,t])+\\\n",
    "            self.tau_pi[t] * (self.price[t] * self.K[1,t]**self.alpha *\\\n",
    "                                           (self.L[1,t]*self.A[1,t])**(1-self.alpha) -\\\n",
    "            self.w[t]*self.L[1,t] - self.delta * self.price[t]*self.K[1,t])\n",
    "            \n",
    "        self.Gov_Income[t] = self.VA_sum[t] + self.I_sum[t]+self.II_sum[t]+self.Ins_sum[t]+self.Rho_sum[t]+self.Pi_sum[t]\n",
    "        \n",
    "        self.Gov_Outcome[t] = self.Gov[t] + self.sigma[t]*self.w[t] * np.sum(self.rho[:,:,t]*self.N[:,:,t])+\\\n",
    "                self.r[t]*self.Debt[t-1]\n",
    "        self.Deficit[t] = self.Gov_Outcome[t] - self.Gov_Income[t]\n",
    "        self.Deficit_ratio[t] = self.Deficit[t]/(self.Consumption[t]+np.sum(self.I[:,t])+self.Gov[t])\n",
    "        self.Debt[t] = self.Debt[t-1]+self.Deficit[t]\n",
    "        \n",
    "\n",
    "\n",
    "    def household(self, s, g, t):\n",
    "        def labor_income_vector(self, s, g, start, end):\n",
    "            return (1-self.tau_I[start:end]) * (1-(self.tau_rho[start:end] + self.tau_Ins[start:end])/(1+self.tau_rho[start:end] + self.tau_Ins[start:end])) * self.epsilon[s,g,start:end] * self.w[start:end]\n",
    "        def cumulative_rate_of_return(self,start, end):\n",
    "            if start <= end:\n",
    "                return np.prod(1+self.r[start:end]*(1-self.tau_II[start:end]))\n",
    "            else:\n",
    "                return 1\n",
    "\n",
    "        def get_initial_consumption(self, s, g, t_0):\n",
    "            return self.phi * (self.a_initial[s,g] * cumulative_rate_of_return(self, t_0, g+1)+\n",
    "                               np.sum(np.array([cumulative_rate_of_return(self,start, g+1) for start in range(t_0+1, g+2)])*\n",
    "                                      (labor_income_vector(self, s, g, t_0, g+1)+self.rho[s,g,t_0:(g+1)]*self.sigma[t_0:(g+1)]*self.w[t_0:(g+1)]\n",
    "                                       )))/\\\n",
    "                   np.sum(\n",
    "                       np.array([cumulative_rate_of_return(self,start, g+1) for start in range(t_0+1, g+2)])*\n",
    "                       (1+self.tau_VA[t_0:(g+1)])*(self.price[t_0:(g+1)])*\n",
    "                       (\n",
    "                               np.array([cumulative_rate_of_return(self,t_0+1, end) for end in range(t_0+1, g+2)])*\n",
    "                               self.beta**np.array([i-t_0 for i in range(t_0, g+1)])*self.Pi[s,g,t_0:(g+1)]/self.Pi[s,g,t_0] * (1+self.tau_VA[t_0])*(self.price[t_0])/((1+self.tau_VA[t_0:(g+1)])*(self.price[t_0:(g+1)])) *\n",
    "                               ((1+self.tau_VA[t_0:(g+1)])*(self.price[t_0:(g+1)])/((1+self.tau_VA[t_0])*self.price[t_0])*labor_income_vector(self, s, g,t_0, t_0+1)/labor_income_vector(self, s, g,t_0, g+1)\n",
    "                                )**((1-self.phi)*(1-self.theta)))**(1/self.theta)\n",
    "                   )\n",
    "        t_0 = max(g-self.G+1,0)\n",
    "        bequest = 0\n",
    "        if t==t_0:\n",
    "            consumption = get_initial_consumption(self, s, g, t_0)\n",
    "        elif t_0 < t <= g:\n",
    "            consumption = self.c[s, g, t_0]*\\\n",
    "                          (cumulative_rate_of_return(self, t_0+1, t+1)*\n",
    "                           self.beta**(t-t_0)*self.Pi[s,g,t]/self.Pi[s,g,t_0] * (1+self.tau_VA[t_0])*self.price[t_0]/((1+self.tau_VA[t])*self.price[t]) *\n",
    "                           ((1+self.tau_VA[t])*self.price[t]/((1+self.tau_VA[t_0])*self.price[t_0])*labor_income_vector(self, s, g,t_0, t_0+1)/labor_income_vector(self, s, g,t, t+1))**((1-self.phi)*(1-self.theta))\n",
    "                           )**(1/self.theta)\n",
    "\n",
    "\n",
    "        labor = 1- consumption/(self.phi/(1-self.phi)*(1/((1+self.tau_VA[t])*self.price[t]))*labor_income_vector(self, s, g, t, t+1)[0])\n",
    "        if t == 0:\n",
    "            assets = labor_income_vector(self, s, g, t, t+1)[0]*labor+self.rho[s,g,t]*self.sigma[t]*self.w[t] - consumption*(1+self.tau_VA[t])*self.price[t]+self.a_initial[s,g]*(1+self.r[t]*(1-self.tau_II[t]))\n",
    "        else:\n",
    "            assets = labor_income_vector(self, s, g, t, t+1)[0]*labor+self.rho[s,g,t]*self.sigma[t]*self.w[t] - consumption*(1+self.tau_VA[t])*self.price[t]+(self.a[s,g, t-1]+bequest)*(1+self.r[t]*(1-self.tau_I[t]))\n",
    "        return consumption, labor, assets\n",
    "\n",
    "    @counted\n",
    "    def steady_state(self):\n",
    "        def labor_income_vector(self, s, g, start, end):\n",
    "            return (1-self.tau_I[start:end]) * (1-(self.tau_rho[start:end] + self.tau_Ins[start:end])/(1+self.tau_rho[start:end] + self.tau_Ins[start:end])) * self.epsilon[s,g,start:end] * self.w[start:end]\n",
    "\n",
    "        w_steady, price_steady, price_N_steady = self.steady[6:9]\n",
    "\n",
    "        for t in range(self.T-self.G + 1, max_time):\n",
    "            self.w[t] = w_steady* self.A_growth**(t - self.T)\n",
    "            self.price[t] = price_steady\n",
    "            self.price_N[t] = price_N_steady\n",
    "\n",
    "        for s in range(2):\n",
    "            initial_household = self.household(s, self.G+self.T-1, self.T) # первое родившееся поколение в период self.T\n",
    "            self.c[s, self.G+self.T-1, self.T],self.l[s, self.G+self.T-1,self.T],self.a[s, self.G+self.T-1,self.T] = initial_household\n",
    "            for t in range(self.T,self.G+self.T):\n",
    "                self.c[s, self.G+self.T-1, t],self.l[s, self.G+self.T-1,t],self.a[s, self.G+self.T-1,t] = self.household(s, self.G+self.T-1, t)\n",
    "            for g in range(self.G+self.T-2, self.T-1, -1): # все поколения, живущие в периоде self.T\n",
    "\n",
    "                self.c[s, g, g-self.G + 1]  = initial_household[0] * self.A_growth**(self.G+self.T-1 - g)\n",
    "                self.l[s, g, g-self.G + 1]  = initial_household[1]\n",
    "                self.a[s, g,g-self.G + 1]  = labor_income_vector(self, s, g,g-self.G + 1, g-self.G + 2)[0]*self.l[s, g, g-self.G + 1]+self.rho[s,g,g-self.G + 1]*self.w[g-self.G + 1]*self.sigma[g-self.G + 1] - self.c[s, g, g-self.G + 1]*(1+self.tau_VA[g-self.G + 1])*self.price[g-self.G + 1]\n",
    "                for t in range(g-self.G + 2, g+1):\n",
    "                    self.c[s, g, t],self.l[s, g, t],self.a[s, g, t] =  self.household(s, g, t)\n",
    "        Consumption = np.sum([self.c[s,g,self.T]*self.N[s,g,self.T] for g in range(self.T, self.G+self.T) for s in range(2)])\n",
    "\n",
    "        Labor = np.sum([self.l[s,g,self.T]*self.N[s,g,self.T]*self.epsilon[s,g,self.T] for g in range(self.T, self.G+self.T) for s in range(2)])\n",
    "\n",
    "        Assets =  np.sum([self.a[s,g,self.T]*self.N[s,g,self.T] for g in range(self.T, self.G+self.T) for s in range(2)])\n",
    "\n",
    "        if len(self.steady_path)==0:\n",
    "            self.steady[-3:] = np.array([Consumption,  Labor, Assets])\n",
    "        else:\n",
    "            self.steady[-3:] = self.eta*np.array([Consumption,  Labor, Assets]) + (1-self.eta)*self.steady[-3:]\n",
    "\n",
    "        z_guess = self.steady[:6]\n",
    "        \n",
    "        def equilibrium(z, self=self, objective = True):\n",
    "\n",
    "\n",
    "  \n",
    "            system = [\n",
    "                f\"{1-self.alpha}*price_N_steady * (k_N_steady/L_N_share)**{self.alpha} *{self.A[0,self.T]} - w_steady\"\n",
    "                      ,f\"{1/(1+self.r[self.T+1])}*(({1-self.tau_pi[self.T+1]}) *{self.alpha}*price_N_steady* (k_N_steady/L_N_share)**{self.alpha-1} +{self.tau_pi[self.T+1]} * {self.delta} + {self.lmbda_to_price_steady}*price_steady * ({1-self.delta})) - {self.lmbda_to_price_steady}*price_steady\"\n",
    "                      ,f\"{1-self.alpha}*{self.price_E[self.T]} * (k_E_steady/(1-L_N_share)*{self.A[0,self.T]/self.A[1,self.T]} )**{self.alpha} *{self.A[1,self.T]} - w_steady\"\n",
    "                      ,f\"{1/(1+self.r[self.T+1])}*({1-self.tau_pi[self.T+1]}*{self.alpha}* {self.price_E[self.T+1]}* (k_E_steady/(1-L_N_share)*{self.A[0,self.T]/self.A[1,self.T]})**{self.alpha-1} +{self.tau_pi[self.T+1]} * {self.delta} +{self.lmbda_to_price_steady}*price_steady * {1-self.delta}) - {self.lmbda_to_price_steady}*price_steady\"\n",
    "                      ,f\"price_N_steady*((k_N_steady/L_N_share)**{self.alpha} * L_N_share -{self.Gov[self.T]/(self.A[0,self.T]*self.steady[-2])})- (1-{self.omega}) * price_steady * ({self.steady[-3]/(self.A[0,self.T]*self.steady[-2])}+{self.i_steady}*(k_N_steady+k_E_steady))\"\n",
    "                      ,f\"price_steady - {self.price_M[self.T]**self.omega}*price_N_steady**({1-self.omega})\"\n",
    "                      ]\n",
    "            name_space = {label:value for label, value in zip((\"self\", \"k_N_steady\", \"L_N_share\",\n",
    "                                                               \"k_E_steady\", \"w_steady\",\n",
    "                                                               \"price_steady\", \"price_N_steady\"),[self]+list(z))}\n",
    "\n",
    "            if objective:\n",
    "                sum_of_squares = \"+\".join([f\"({equation})**2\" for equation in system])\n",
    "                F = eval(sum_of_squares,{},name_space)\n",
    "            else:\n",
    "                F = [eval(equation,{},name_space) for equation in system]\n",
    "            return F\n",
    "        def equilibrium_gradient(z, self=self, objective = True):\n",
    "\n",
    "            self.A_growth = self.A[0,self.T]/self.A[0, self.T-1]\n",
    "            self.N_growth = np.sum([self.N[s,g,self.T]*self.epsilon[s,g,self.T] for g in range(self.T, self.G+self.T) for s in range(2)])/\\\n",
    "                       np.sum([self.N[s,g,self.T-1]*self.epsilon[s,g,self.T-1] for g in range(self.T-1, self.G+self.T-1) for s in range(2)])\n",
    "\n",
    "            name_space = {label:value for label, value in zip((\"self\",\"I_N_steady\", \"K_N_steady\", \"L_N_steady\",\"I_E_steady\", \"K_E_steady\", \"lmbda_steady\", \"w_steady\", \"price_steady\", \"price_N_steady\"),[self]+list(z))}\n",
    "            if objective:\n",
    "                target_system = equilibrium(z, self, False)\n",
    "                sum_of_gradient = [\"+\".join([f\"2*({outer})*({inner})\" for outer, inner in zip(target_system, row)]) for row in gradient]\n",
    "                J = [eval(equation,{},name_space) for equation in sum_of_gradient]\n",
    "            else:\n",
    "                J = [[eval(equation,{},name_space) for equation in row] for row in gradient]\n",
    "            return J\n",
    "            \n",
    "\n",
    "        \n",
    "        obj_jit = jit(equilibrium)\n",
    "        obj_grad = jit(jacfwd(obj_jit))\n",
    "        obj_hess = jit(jacrev(jacfwd(obj_jit)))\n",
    "        \n",
    "        \n",
    "        result = minimize_ipopt(obj_jit, jac=obj_grad, hess=obj_hess, x0=z_guess\n",
    "                                , options = {\"max_iter\":self.steady_max_iter, \"print_level\":0,\n",
    "                                             \"check_derivatives_for_naninf\":\"yes\"}\n",
    "                                , tol=1e-7)\n",
    "        \n",
    "        \n",
    "        if result[\"success\"] or result[\"status\"]==1:\n",
    "            self.steady[:6] = self.eta*result[\"x\"] + (1-self.eta)*z_guess\n",
    "            self.steady_max_iter = 1000\n",
    "            eq_res = equilibrium(self.steady[:6], self, False)\n",
    "        else:\n",
    "            if result[\"status\"]==-1:\n",
    "                self.steady_max_iter += 1000\n",
    "            self.steady[:6] = z_guess\n",
    "            eq_res = equilibrium(z_guess, self, False)\n",
    "            \n",
    "                \n",
    "        self.steady_path.append((result, np.array(self.steady)\n",
    "                               ))\n",
    "\n",
    "    def create_guess(self):\n",
    "        \n",
    "        k_N_steady, L_N_share, k_E_steady, w_steady, price_steady, price_N_steady, Consumption_steady, Labor_steady, Assets_steady = self.steady\n",
    "        \n",
    "        steady_start = self.T-self.G + 1\n",
    "        \n",
    "        for t in range(steady_start, max_time):\n",
    "            self.update_government(t)\n",
    "            \n",
    "            self.w[t] = w_steady* self.A_growth**(t - self.T)\n",
    "            self.price[t] = price_steady\n",
    "            self.price_N[t] = price_N_steady\n",
    "            \n",
    "            self.k[0,t] = k_N_steady\n",
    "            self.k[1,t] = k_E_steady\n",
    "            \n",
    "            self.i[0,t] = self.i_steady\n",
    "            self.i[1,t] = self.i_steady \n",
    "            \n",
    "            self.L_share[0,t] = L_N_share \n",
    "            self.L_share[1,t] = 1- L_N_share \n",
    "            \n",
    "            self.lmbda_to_price[0,t] = self.lmbda_to_price_steady\n",
    "            self.lmbda_to_price[1,t] = self.lmbda_to_price_steady\n",
    "            \n",
    "            \n",
    "            \n",
    "            self.K[0,t] = k_N_steady* Labor_steady * self.A[0,self.T] *(self.A_growth*self.N_growth)**(t - self.T)\n",
    "            self.K[1,t] = k_E_steady* Labor_steady * self.A[0,self.T] *(self.A_growth*self.N_growth)**(t - self.T)\n",
    "            \n",
    "            self.I[0,t] = self.i_steady * self.K[0,t]\n",
    "            self.I[1,t] = self.i_steady * self.K[1,t]\n",
    "            \n",
    "            self.L[0,t] = L_N_share * Labor_steady *(self.N_growth)**(t - self.T)\n",
    "            self.L[1,t] = (1-L_N_share) * Labor_steady *(self.N_growth)**(t - self.T)\n",
    "            \n",
    "            self.lmbda[0,t] = self.lmbda_to_price_steady * price_steady\n",
    "            self.lmbda[1,t] = self.lmbda_to_price_steady * price_steady\n",
    "            \n",
    "            self.Consumption[t] = Consumption_steady*(self.A_growth*self.N_growth)**(t - self.T)\n",
    "            self.Labor[t] = Labor_steady*(self.N_growth)**(t - self.T)\n",
    "            self.Assets[t] =  Assets_steady*(self.A_growth*self.N_growth)**(t - self.T)\n",
    "\n",
    "\n",
    "        \n",
    "        self.price_N[:steady_start] = np.linspace(initial[\"price_N\"], self.price_N[steady_start], steady_start,endpoint=False)\n",
    "        self.I[0,:steady_start] = np.linspace(initial[\"I_N\"], self.I[0,steady_start], steady_start,endpoint=False)\n",
    "        self.K[0,:steady_start] = np.linspace(initial[\"K_N\"], self.K[0,steady_start], steady_start,endpoint=False)\n",
    "        self.L[0,:steady_start] = np.linspace(initial[\"L_N\"], self.L[0,steady_start], steady_start,endpoint=False)\n",
    "\n",
    "        self.I[1,:steady_start] = np.linspace(initial[\"I_E\"], self.I[1,steady_start], steady_start,endpoint=False)\n",
    "        self.K[1,:steady_start] = np.linspace(initial[\"K_E\"], self.K[1,steady_start], steady_start,endpoint=False)\n",
    "        self.L[1,:steady_start] = np.linspace(initial[\"L_E\"], self.L[1,steady_start], steady_start,endpoint=False)\n",
    "\n",
    "        w_initial = self.price_N[0] *(1-self.alpha)*(self.K[0,0])**self.alpha *(self.A[0,0])**(1-self.alpha)\n",
    "        self.w[:steady_start] = np.linspace(w_initial, self.w[steady_start], steady_start,endpoint=False)\n",
    "\n",
    "        self.Labor[:steady_start] = np.linspace(initial[\"L_N\"]+initial[\"L_E\"],\n",
    "                                    self.Labor[steady_start], steady_start,endpoint=False)\n",
    "        \n",
    "        self.price[:steady_start] = (self.price_M[:steady_start])**self.omega * (self.price_N[:steady_start])**(1-self.omega)\n",
    "        \n",
    "        self.lmbda[0,:steady_start] = self.price[:steady_start]*self.lmbda_to_price_steady\n",
    "        self.lmbda[1,:steady_start] = self.price[:steady_start]*self.lmbda_to_price_steady\n",
    "        \n",
    "        self.k[0,:steady_start] = self.K[0,:steady_start]/(self.A[0,:steady_start]*self.Labor[:steady_start])\n",
    "        self.k[1,:steady_start] = self.K[1,:steady_start]/(self.A[0,:steady_start]*self.Labor[:steady_start])\n",
    "            \n",
    "        self.i[:steady_start] = self.I[:steady_start]/self.K[:steady_start]\n",
    "            \n",
    "        self.L_share[0,:steady_start] = self.L[0,:steady_start]/self.Labor[:steady_start]\n",
    "        self.L_share[1,:steady_start] = self.L[1,:steady_start]/self.Labor[:steady_start]\n",
    "            \n",
    "        self.lmbda_to_price[0,:steady_start] = self.lmbda_to_price_steady\n",
    "        self.lmbda_to_price[1,:steady_start] = self.lmbda_to_price_steady\n",
    "        \n",
    "            \n",
    "        \n",
    "        \n",
    "\n",
    "    def update_guess(self):\n",
    "\n",
    "        for t in range(1, self.T-self.G + 1):\n",
    "            self.update_government(t)\n",
    "        # Households (analytical solution)\n",
    "        for s in range(2):\n",
    "            for t in range(self.T-self.G + 1):\n",
    "                for g in range(t, self.G+t):\n",
    "                    self.c[s, g, t],self.l[s, g, t],self.a[s, g, t]  = self.household(s,g,t)\n",
    "                    \n",
    "                    self.Consumption[t] = np.sum([self.c[s,g,t]*self.N[s,g,t] for g in range(t, self.G+t) for s in range(2)])\n",
    "                    self.Labor[t] = np.sum([self.l[s,g,t]*self.N[s,g,t]*self.epsilon[s,g,t] for g in range(t, self.G+t) for s in range(2)])\n",
    "                    self.Assets[t] =  np.sum([self.a[s,g,t]*self.N[s,g,t] for g in range(t, self.G+t) for s in range(2)])\n",
    "\n",
    "        for t in range(1, self.T-self.G + 1):\n",
    "            z_guess = np.array([self.i[0,t],self.k[0,t+1],self.L_share[0,t],\n",
    "                       self.lmbda_to_price[0,t], self.i[1,t],self.k[1,t+1],\n",
    "                       self.lmbda_to_price[1,t],\n",
    "                       self.w[t], self.price_N[t], self.price[t]])\n",
    "\n",
    "\n",
    "            def equilibrium(z, self=self, t = t):\n",
    "                i_N, k_N, L_N_share, lmbda_N_to_price,\\\n",
    "                    i_E, k_E, lmbda_E_to_price,\\\n",
    "                    w, price, price_N = z\n",
    "                system =(\n",
    "                  price_N * self.A[0, t] * (self.k[0, t]/L_N_share)**self.alpha - w\\\n",
    "                )**2+\\\n",
    "                ( (1+tau_VA[t])*price - lmbda_N_to_price * price* (1-self.psi/2 *(i_N/self.i[0,t-1]*self.K[0,t]/self.K[0, t-1] - 1)**2\\\n",
    "                   - self.psi * (i_N/self.i[0,t-1]*self.K[0,t]/self.K[0, t-1]) * \\\n",
    "                                          (i_N/self.i[0,t-1]*self.K[0,t]/self.K[0, t-1] - 1) )-\\\n",
    "                   self.lmbda_to_price[0,t+1]*self.price[t+1]*self.psi/(1+self.r[t+1]) *\\\n",
    "                   (self.i[0,t+1]/i_N*k_N*self.A[0, t+1]*self.Labor[t+1]/self.K[0,t] )**2 *\\\n",
    "                (self.i[0,t+1]/i_N*k_N*self.A[0, t+1]*self.Labor[t+1]/self.K[0,t] -1)\n",
    "                )**2+\\\n",
    "                ( 1/(self.r[t+1]) * ((1-self.tau_pi[t+1]) * self.alpha * self.price_N[t+1] *\\\n",
    "                                              (k_N/L_N_share)**(self.alpha-1) +\\\n",
    "                                              self.tau_pi[t+1] * self.delta * self.price[t+1] +\\\n",
    "                                              self.lmbda_to_price[0, t+1]*self.price[t+1] * (1-self.delta) ) -\\\n",
    "                lmbda_N_to_price * price\\\n",
    "                )**2+\\\n",
    "                ( (1-self.delta)+\\\n",
    "                           i_N * (1-self.psi / 2 *(i_N/self.i[0,t-1]*self.K[0,t]/self.K[0, t-1] - 1)**2 ) -\\\n",
    "                k_N*self.A[0, t+1]*self.Labor[t+1]/self.K[0,t]\\\n",
    "                )**2+\\\n",
    "                (\n",
    "                self.price_E[t] * self.A[1, t] * (self.k[1, t]/(1-L_N_share)*self.A[0,t]/self.A[1,t])**self.alpha - w\n",
    "                )**2+\\\n",
    "                ( (1+tau_VA[t])*price - lmbda_E_to_price*price * (1-self.psi/2 *(i_E/self.i[1,t-1]*self.K[1,t]/self.K[1, t-1] - 1)**2\\\n",
    "                   - self.psi * (i_E/self.i[1,t-1]*self.K[1,t]/self.K[1, t-1]) * \\\n",
    "                                          (i_E/self.i[1,t-1]*self.K[1,t]/self.K[1, t-1] - 1) )-\\\n",
    "                   self.lmbda_to_price[1,t+1]*self.price[t+1]*self.psi/(1+self.r[t+1]) *\\\n",
    "                   (self.i[1,t+1]/i_E*k_E*self.A[1, t+1]*self.Labor[t+1]/self.K[1,t] )**2 *\\\n",
    "                (self.i[1,t+1]/i_E*k_E*self.A[1, t+1]*self.Labor[t+1]/self.K[1,t] -1)\n",
    "                )**2+\\\n",
    "                ( 1/(self.r[t+1]) * ((1-self.tau_pi[t+1]) * self.alpha * self.price_E[t+1] *\\\n",
    "                                              (k_E/(1-L_N_share)*self.A[0,t]/self.A[1,t])**(self.alpha-1) +\\\n",
    "                                              self.tau_pi[t+1] * self.delta * self.price[t+1] +\\\n",
    "                                              self.lmbda_to_price[1, t+1]*self.price[t+1] * (1-self.delta) ) -\\\n",
    "                lmbda_E_to_price * price\\\n",
    "                )**2+\\\n",
    "                ((1-self.delta)+\\\n",
    "                           i_E * (1-self.psi / 2 *(i_E/self.i[1,t-1]*self.K[1,t]/self.K[1, t-1] - 1)**2 ) -\\\n",
    "                k_E*self.A[1, t+1]*self.Labor[t+1]/self.K[1,t]\n",
    "                )**2+\\\n",
    "                ( price - (self.price_M[t])**self.omega * (price_N)**(1-self.omega)\\\n",
    "                )**2+\\\n",
    "                ( self.k[0,t]**self.alpha *\\\n",
    "                - self.Gov[t]/(self.A[0,t]*self.Labor[t]) - \\\n",
    "                (1-self.omega) * price / price_N * \\\n",
    "                (self.Consumption[t]/(self.A[0,t]*self.Labor[t]) +\\\n",
    "                i_N*k_N/L_N_share + i_E*k_E/(1-L_N_share))\n",
    "                 )**2\n",
    "            \n",
    "                return system\n",
    "  \n",
    "\n",
    "            \n",
    "            obj_jit = jit(equilibrium)\n",
    "            obj_grad = jit(jacfwd(obj_jit))\n",
    "            obj_hess = jit(jacrev(jacfwd(obj_jit)))\n",
    "        \n",
    "        \n",
    "            result = minimize_ipopt(obj_jit, jac=obj_grad, hess=obj_hess, x0=z_guess\n",
    "                                , options = {\"max_iter\":self.steady_max_iter, \"print_level\":0,\n",
    "                                             \"check_derivatives_for_naninf\":\"yes\"}\n",
    "                                , tol=1e-5)\n",
    "            z = result[\"x\"]\n",
    "            if result[\"success\"]:\n",
    "                self.i[0,t],self.k[0,t+1],self.L_share[0,t],\\\n",
    "                self.lmbda_to_price[0,t], self.i[1,t],self.k[1,t+1],\\\n",
    "                self.lmbda_to_price[1,t],\\\n",
    "                self.w[t], self.price_N[t], self.price[t] = self.eta*z+(1-self.eta)*z_guess\n",
    "                self.L_share[1,t] = 1- self.L_share[0,t]\n",
    "            \n",
    "            # Market clearing (analytical solution)\n",
    "#             self.Y = self.K**self.alpha * (self.L*self.A)**(1-self.alpha)\n",
    "#             self.D = self.I.sum(axis = 0)+(self.N[:,:self.c.shape[1],:]*self.c[:,:self.c.shape[1],:]).sum(axis=0).sum(axis =0)\n",
    "#             self.M =  self.omega * self.D * self.price / self.price_M\n"
   ]
  },
  {
   "cell_type": "code",
   "execution_count": 14,
   "metadata": {
    "pycharm": {
     "name": "#%%\n"
    }
   },
   "outputs": [],
   "source": [
    "# import pyreadr\n",
    "# import numpy as np\n",
    "# demography = {name:np.array(pyreadr.read_r(f\"{name}.Rda\")[name]) for name in [\"Pi_female\", \"Pi_female_steady\", \"Pi_male\", \"Pi_male_steady\",\"N_female\", \"N_male\",\"N_female_steady\",\"N_male_steady\"]}\n",
    "# np.save('demography.npy', demography)"
   ]
  },
  {
   "cell_type": "code",
   "execution_count": 15,
   "metadata": {
    "pycharm": {
     "name": "#%%\n"
    }
   },
   "outputs": [],
   "source": [
    "demography = np.load('demography.npy',allow_pickle='TRUE').item()"
   ]
  },
  {
   "cell_type": "code",
   "execution_count": 16,
   "metadata": {
    "pycharm": {
     "name": "#%%\n"
    }
   },
   "outputs": [],
   "source": [
    "epsilon_female =epsilon_male= np.array([[np.exp(-0.001*(96-g+t)**2+25*0.001*2*(96-g+t)) if ((96-g+t) > 0 and (96-g+t)<=96) else 0  for g in range(demography[\"N_female\"].shape[1]) ] for t in range(demography[\"N_female\"].shape[0])])"
   ]
  },
  {
   "cell_type": "code",
   "execution_count": 86,
   "metadata": {
    "pycharm": {
     "name": "#%%\n"
    }
   },
   "outputs": [],
   "source": [
    "rho_female = np.array([[1 if ((96-g+t) >= 46 and (96-g+t)<=96) else 0  for g in range(demography[\"N_female\"].shape[1]) ] for t in range(demography[\"N_female\"].shape[0])])\n",
    "rho_male = np.array([[1 if ((96-g+t) >= 51 and (96-g+t)<=96) else 0  for g in range(demography[\"N_female\"].shape[1]) ] for t in range(demography[\"N_female\"].shape[0])])\n",
    "\n",
    "max_time = demography[\"N_female\"].shape[0]\n",
    "sigma = np.array([0.9 for _ in range(max_time)])\n",
    "r = np.array([0.03 for _ in range(max_time)])\n",
    "price_M = np.array([.1 for _ in range(max_time)])\n",
    "price_E = np.array([.1 for _ in range(max_time)])\n",
    "tau_I = np.array([0.13 for _ in range(max_time)])\n",
    "tau_II = np.array([0. for _ in range(max_time)])\n",
    "tau_Ins = np.array([0.08 for _ in range(max_time)])\n",
    "tau_pi = np.array([0.2 for _ in range(max_time)])\n",
    "tau_VA = np.array([0.18 for _ in range(max_time)])\n",
    "tau_rho = np.array([0.22 for _ in range(max_time)])\n",
    "A_N = np.array([1. for _ in range(max_time)])\n",
    "A_E = np.array([1. for _ in range(max_time)])\n"
   ]
  },
  {
   "cell_type": "code",
   "execution_count": 87,
   "metadata": {
    "pycharm": {
     "name": "#%%\n"
    }
   },
   "outputs": [],
   "source": [
    "demography[\"N_female\"]=demography[\"N_male\"]\n",
    "N = np.array([demography[\"N_female\"].transpose()/1000,demography[\"N_male\"].transpose()/1000])\n",
    "Pi = np.array([(demography[f\"N_{sex}male\"]/np.max(demography[\"N_female\"], axis=0)+(1-np.tri(*demography[f\"N_{sex}male\"].shape, k=95))).transpose() for sex in (\"fe\", \"\")])\n",
    "Pi[Pi<0] = 0.01\n",
    "epsilon = np.array([epsilon_female.transpose(), epsilon_male.transpose()])\n",
    "rho = np.array([rho_female.transpose(), rho_male.transpose()])\n",
    "A = np.array([A_N, A_E])\n",
    "initial = {\"a\":np.array([[-(96-g)/10 if g < 96 else 0 for g in range(demography[\"N_female\"].shape[1])] for s in range(2)]),\n",
    "                \"price_N\":.1,\n",
    "                 \"K_N\":5.,\n",
    "                 \"L_N\":35.,\n",
    "                 \"I_N\":0.1,\n",
    "                 \"K_E\":5.,\n",
    "                 \"L_E\":50.,\n",
    "                 \"Gov\":7., # растет с темпом A_growth * N_growth\n",
    "                 \"Debt\":-1.,\n",
    "                 \"I_E\":0.1}\n",
    "steady_guess = np.array([1.55169913e+00,  5.05142101e-02,  2.91663738e+01,  2.08788575e-01,\n",
    "        1.00000000e-01,  1.00000001e-01])\n",
    "# steady state\n",
    "# [ 1.55169913e+00,  5.05142101e-02,  2.91663738e+01,  2.08788575e-01,\n",
    "#         1.00000000e-01,  1.00000001e-01,  4.82953469e-02,  8.82916686e+01,\n",
    "#        -6.42938235e+01]"
   ]
  },
  {
   "cell_type": "code",
   "execution_count": 88,
   "metadata": {
    "pycharm": {
     "name": "#%%\n"
    }
   },
   "outputs": [],
   "source": [
    "# надо исправить\n",
    "# Beq_female_to_female = Beq_female_to_male = Beq_male_to_female = Beq_male_to_male = np.zeros_like(demography[\"N_female\"])"
   ]
  },
  {
   "cell_type": "code",
   "execution_count": 105,
   "metadata": {
    "pycharm": {
     "name": "#%%\n"
    }
   },
   "outputs": [],
   "source": [
    "olg = OLG_model(G=96,T=250,N=N,epsilon=epsilon, rho=rho, sigma = sigma,Pi=Pi,r = r,price_M =price_M, price_E=price_E, tau_I=tau_I,tau_II=tau_II,tau_Ins=tau_Ins, tau_pi=tau_pi, tau_VA=tau_VA, tau_rho=tau_rho, beta = 0.995, phi = 0.8, theta = 0.5, psi = 5., omega=0.4, alpha = 1/3, delta=0.01, A=A,initial=initial, eta =0.25,steady_max_iter=10000, steady_guess=steady_guess)"
   ]
  },
  {
   "cell_type": "code",
   "execution_count": 106,
   "metadata": {},
   "outputs": [],
   "source": [
    "tol = 10e-4"
   ]
  },
  {
   "cell_type": "markdown",
   "metadata": {},
   "source": [
    "Ищем steady state"
   ]
  },
  {
   "cell_type": "code",
   "execution_count": 107,
   "metadata": {
    "pycharm": {
     "name": "#%%\n"
    }
   },
   "outputs": [],
   "source": [
    "with warnings.catch_warnings():\n",
    "    warnings.simplefilter(\"ignore\")\n",
    "    for _ in range(3):\n",
    "        olg.steady_state()\n",
    "        \n",
    "        if (len(olg.steady_path)>1) and \\\n",
    "            (max(abs(olg.steady_path[-1][1] - olg.steady_path[-2][1]))<tol):\n",
    "                break\n",
    "olg.create_guess()\n"
   ]
  },
  {
   "cell_type": "code",
   "execution_count": 108,
   "metadata": {},
   "outputs": [
    {
     "ename": "KeyboardInterrupt",
     "evalue": "",
     "output_type": "error",
     "traceback": [
      "\u001b[0;31m---------------------------------------------------------------------------\u001b[0m",
      "\u001b[0;31mKeyboardInterrupt\u001b[0m                         Traceback (most recent call last)",
      "Input \u001b[0;32mIn [108]\u001b[0m, in \u001b[0;36m<cell line: 1>\u001b[0;34m()\u001b[0m\n\u001b[1;32m      2\u001b[0m warnings\u001b[38;5;241m.\u001b[39msimplefilter(\u001b[38;5;124m\"\u001b[39m\u001b[38;5;124mignore\u001b[39m\u001b[38;5;124m\"\u001b[39m)\n\u001b[1;32m      3\u001b[0m \u001b[38;5;28;01mfor\u001b[39;00m _ \u001b[38;5;129;01min\u001b[39;00m \u001b[38;5;28mrange\u001b[39m(\u001b[38;5;241m1\u001b[39m):\n\u001b[0;32m----> 4\u001b[0m     \u001b[43molg\u001b[49m\u001b[38;5;241;43m.\u001b[39;49m\u001b[43mupdate_guess\u001b[49m\u001b[43m(\u001b[49m\u001b[43m)\u001b[49m\n",
      "Input \u001b[0;32mIn [13]\u001b[0m, in \u001b[0;36mOLG_model.update_guess\u001b[0;34m(self)\u001b[0m\n\u001b[1;32m    475\u001b[0m obj_grad \u001b[38;5;241m=\u001b[39m jit(jacfwd(obj_jit))\n\u001b[1;32m    476\u001b[0m obj_hess \u001b[38;5;241m=\u001b[39m jit(jacrev(jacfwd(obj_jit)))\n\u001b[0;32m--> 479\u001b[0m result \u001b[38;5;241m=\u001b[39m \u001b[43mminimize_ipopt\u001b[49m\u001b[43m(\u001b[49m\u001b[43mobj_jit\u001b[49m\u001b[43m,\u001b[49m\u001b[43m \u001b[49m\u001b[43mjac\u001b[49m\u001b[38;5;241;43m=\u001b[39;49m\u001b[43mobj_grad\u001b[49m\u001b[43m,\u001b[49m\u001b[43m \u001b[49m\u001b[43mhess\u001b[49m\u001b[38;5;241;43m=\u001b[39;49m\u001b[43mobj_hess\u001b[49m\u001b[43m,\u001b[49m\u001b[43m \u001b[49m\u001b[43mx0\u001b[49m\u001b[38;5;241;43m=\u001b[39;49m\u001b[43mz_guess\u001b[49m\n\u001b[1;32m    480\u001b[0m \u001b[43m                    \u001b[49m\u001b[43m,\u001b[49m\u001b[43m \u001b[49m\u001b[43moptions\u001b[49m\u001b[43m \u001b[49m\u001b[38;5;241;43m=\u001b[39;49m\u001b[43m \u001b[49m\u001b[43m{\u001b[49m\u001b[38;5;124;43m\"\u001b[39;49m\u001b[38;5;124;43mmax_iter\u001b[39;49m\u001b[38;5;124;43m\"\u001b[39;49m\u001b[43m:\u001b[49m\u001b[38;5;28;43mself\u001b[39;49m\u001b[38;5;241;43m.\u001b[39;49m\u001b[43msteady_max_iter\u001b[49m\u001b[43m,\u001b[49m\u001b[43m \u001b[49m\u001b[38;5;124;43m\"\u001b[39;49m\u001b[38;5;124;43mprint_level\u001b[39;49m\u001b[38;5;124;43m\"\u001b[39;49m\u001b[43m:\u001b[49m\u001b[38;5;241;43m0\u001b[39;49m\u001b[43m,\u001b[49m\n\u001b[1;32m    481\u001b[0m \u001b[43m                                 \u001b[49m\u001b[38;5;124;43m\"\u001b[39;49m\u001b[38;5;124;43mcheck_derivatives_for_naninf\u001b[39;49m\u001b[38;5;124;43m\"\u001b[39;49m\u001b[43m:\u001b[49m\u001b[38;5;124;43m\"\u001b[39;49m\u001b[38;5;124;43myes\u001b[39;49m\u001b[38;5;124;43m\"\u001b[39;49m\u001b[43m}\u001b[49m\n\u001b[1;32m    482\u001b[0m \u001b[43m                    \u001b[49m\u001b[43m,\u001b[49m\u001b[43m \u001b[49m\u001b[43mtol\u001b[49m\u001b[38;5;241;43m=\u001b[39;49m\u001b[38;5;241;43m1e-5\u001b[39;49m\u001b[43m)\u001b[49m\n\u001b[1;32m    483\u001b[0m z \u001b[38;5;241m=\u001b[39m result[\u001b[38;5;124m\"\u001b[39m\u001b[38;5;124mx\u001b[39m\u001b[38;5;124m\"\u001b[39m]\n\u001b[1;32m    485\u001b[0m \u001b[38;5;28mself\u001b[39m\u001b[38;5;241m.\u001b[39mi[\u001b[38;5;241m0\u001b[39m,t],\u001b[38;5;28mself\u001b[39m\u001b[38;5;241m.\u001b[39mk[\u001b[38;5;241m0\u001b[39m,t\u001b[38;5;241m+\u001b[39m\u001b[38;5;241m1\u001b[39m],\u001b[38;5;28mself\u001b[39m\u001b[38;5;241m.\u001b[39mL_share[\u001b[38;5;241m0\u001b[39m,t],\\\n\u001b[1;32m    486\u001b[0m \u001b[38;5;28mself\u001b[39m\u001b[38;5;241m.\u001b[39mlmbda_to_price[\u001b[38;5;241m0\u001b[39m,t], \u001b[38;5;28mself\u001b[39m\u001b[38;5;241m.\u001b[39mi[\u001b[38;5;241m1\u001b[39m,t],\u001b[38;5;28mself\u001b[39m\u001b[38;5;241m.\u001b[39mk[\u001b[38;5;241m1\u001b[39m,t\u001b[38;5;241m+\u001b[39m\u001b[38;5;241m1\u001b[39m],\\\n\u001b[1;32m    487\u001b[0m \u001b[38;5;28mself\u001b[39m\u001b[38;5;241m.\u001b[39mlmbda_to_price[\u001b[38;5;241m1\u001b[39m,t],\\\n\u001b[1;32m    488\u001b[0m \u001b[38;5;28mself\u001b[39m\u001b[38;5;241m.\u001b[39mw[t], \u001b[38;5;28mself\u001b[39m\u001b[38;5;241m.\u001b[39mprice_N[t], \u001b[38;5;28mself\u001b[39m\u001b[38;5;241m.\u001b[39mprice[t] \u001b[38;5;241m=\u001b[39m \u001b[38;5;28mself\u001b[39m\u001b[38;5;241m.\u001b[39meta\u001b[38;5;241m*\u001b[39mz\u001b[38;5;241m+\u001b[39m(\u001b[38;5;241m1\u001b[39m\u001b[38;5;241m-\u001b[39m\u001b[38;5;28mself\u001b[39m\u001b[38;5;241m.\u001b[39meta)\u001b[38;5;241m*\u001b[39mz_guess\n",
      "File \u001b[0;32m~/anaconda3/envs/olg/lib/python3.8/site-packages/cyipopt/scipy_interface.py:311\u001b[0m, in \u001b[0;36mminimize_ipopt\u001b[0;34m(fun, x0, args, kwargs, method, jac, hess, hessp, bounds, constraints, tol, callback, options)\u001b[0m\n\u001b[1;32m    308\u001b[0m         msg \u001b[38;5;241m=\u001b[39m \u001b[38;5;124m'\u001b[39m\u001b[38;5;124mInvalid option for IPOPT: \u001b[39m\u001b[38;5;132;01m{0}\u001b[39;00m\u001b[38;5;124m: \u001b[39m\u001b[38;5;132;01m{1}\u001b[39;00m\u001b[38;5;124m (Original message: \u001b[39m\u001b[38;5;124m\"\u001b[39m\u001b[38;5;132;01m{2}\u001b[39;00m\u001b[38;5;124m\"\u001b[39m\u001b[38;5;124m)\u001b[39m\u001b[38;5;124m'\u001b[39m\n\u001b[1;32m    309\u001b[0m         \u001b[38;5;28;01mraise\u001b[39;00m \u001b[38;5;167;01mTypeError\u001b[39;00m(msg\u001b[38;5;241m.\u001b[39mformat(option, value, e))\n\u001b[0;32m--> 311\u001b[0m x, info \u001b[38;5;241m=\u001b[39m \u001b[43mnlp\u001b[49m\u001b[38;5;241;43m.\u001b[39;49m\u001b[43msolve\u001b[49m\u001b[43m(\u001b[49m\u001b[43m_x0\u001b[49m\u001b[43m)\u001b[49m\n\u001b[1;32m    313\u001b[0m \u001b[38;5;28;01mif\u001b[39;00m np\u001b[38;5;241m.\u001b[39masarray(x0)\u001b[38;5;241m.\u001b[39mshape \u001b[38;5;241m==\u001b[39m ():\n\u001b[1;32m    314\u001b[0m     x \u001b[38;5;241m=\u001b[39m x[\u001b[38;5;241m0\u001b[39m]\n",
      "File \u001b[0;32m~/anaconda3/envs/olg/lib/python3.8/site-packages/cyipopt/cython/ipopt_wrapper.pyx:642\u001b[0m, in \u001b[0;36mipopt_wrapper.Problem.solve\u001b[0;34m()\u001b[0m\n",
      "File \u001b[0;32m~/anaconda3/envs/olg/lib/python3.8/site-packages/cyipopt/cython/ipopt_wrapper.pyx:895\u001b[0m, in \u001b[0;36mipopt_wrapper.hessian_cb\u001b[0;34m()\u001b[0m\n",
      "File \u001b[0;32m~/anaconda3/envs/olg/lib/python3.8/site-packages/cyipopt/scipy_interface.py:161\u001b[0m, in \u001b[0;36mIpoptProblemWrapper.hessian\u001b[0;34m(self, x, lagrange, obj_factor)\u001b[0m\n\u001b[1;32m    160\u001b[0m \u001b[38;5;28;01mdef\u001b[39;00m \u001b[38;5;21mhessian\u001b[39m(\u001b[38;5;28mself\u001b[39m, x, lagrange, obj_factor):\n\u001b[0;32m--> 161\u001b[0m     H \u001b[38;5;241m=\u001b[39m obj_factor \u001b[38;5;241m*\u001b[39m \u001b[38;5;28;43mself\u001b[39;49m\u001b[38;5;241;43m.\u001b[39;49m\u001b[43mobj_hess\u001b[49m\u001b[43m(\u001b[49m\u001b[43mx\u001b[49m\u001b[43m)\u001b[49m  \u001b[38;5;66;03m# type: ignore\u001b[39;00m\n\u001b[1;32m    162\u001b[0m     \u001b[38;5;66;03m# split the lagrangian multipliers for each constraint hessian\u001b[39;00m\n\u001b[1;32m    163\u001b[0m     lagrs \u001b[38;5;241m=\u001b[39m np\u001b[38;5;241m.\u001b[39msplit(lagrange, np\u001b[38;5;241m.\u001b[39mcumsum(\u001b[38;5;28mself\u001b[39m\u001b[38;5;241m.\u001b[39m_constraint_dims[:\u001b[38;5;241m-\u001b[39m\u001b[38;5;241m1\u001b[39m]))\n",
      "    \u001b[0;31m[... skipping hidden 1 frame]\u001b[0m\n",
      "File \u001b[0;32m~/anaconda3/envs/olg/lib/python3.8/site-packages/jax/_src/api.py:473\u001b[0m, in \u001b[0;36m_cpp_jit.<locals>.cache_miss\u001b[0;34m(*args, **kwargs)\u001b[0m\n\u001b[1;32m    471\u001b[0m   in_type \u001b[38;5;241m=\u001b[39m pe\u001b[38;5;241m.\u001b[39minfer_lambda_input_type(\u001b[38;5;28;01mNone\u001b[39;00m, args_flat)\n\u001b[1;32m    472\u001b[0m   flat_fun \u001b[38;5;241m=\u001b[39m lu\u001b[38;5;241m.\u001b[39mannotate(flat_fun, in_type)\n\u001b[0;32m--> 473\u001b[0m out_flat \u001b[38;5;241m=\u001b[39m \u001b[43mxla\u001b[49m\u001b[38;5;241;43m.\u001b[39;49m\u001b[43mxla_call\u001b[49m\u001b[43m(\u001b[49m\n\u001b[1;32m    474\u001b[0m \u001b[43m    \u001b[49m\u001b[43mflat_fun\u001b[49m\u001b[43m,\u001b[49m\u001b[43m \u001b[49m\u001b[38;5;241;43m*\u001b[39;49m\u001b[43margs_flat\u001b[49m\u001b[43m,\u001b[49m\n\u001b[1;32m    475\u001b[0m \u001b[43m    \u001b[49m\u001b[43mdevice\u001b[49m\u001b[38;5;241;43m=\u001b[39;49m\u001b[43mdevice\u001b[49m\u001b[43m,\u001b[49m\u001b[43m \u001b[49m\u001b[43mbackend\u001b[49m\u001b[38;5;241;43m=\u001b[39;49m\u001b[43mbackend\u001b[49m\u001b[43m,\u001b[49m\u001b[43m \u001b[49m\u001b[43mname\u001b[49m\u001b[38;5;241;43m=\u001b[39;49m\u001b[43mflat_fun\u001b[49m\u001b[38;5;241;43m.\u001b[39;49m\u001b[38;5;18;43m__name__\u001b[39;49m\u001b[43m,\u001b[49m\n\u001b[1;32m    476\u001b[0m \u001b[43m    \u001b[49m\u001b[43mdonated_invars\u001b[49m\u001b[38;5;241;43m=\u001b[39;49m\u001b[43mdonated_invars\u001b[49m\u001b[43m,\u001b[49m\u001b[43m \u001b[49m\u001b[43minline\u001b[49m\u001b[38;5;241;43m=\u001b[39;49m\u001b[43minline\u001b[49m\u001b[43m,\u001b[49m\u001b[43m \u001b[49m\u001b[43mkeep_unused\u001b[49m\u001b[38;5;241;43m=\u001b[39;49m\u001b[43mkeep_unused\u001b[49m\u001b[43m)\u001b[49m\n\u001b[1;32m    477\u001b[0m out_pytree_def \u001b[38;5;241m=\u001b[39m out_tree()\n\u001b[1;32m    478\u001b[0m out \u001b[38;5;241m=\u001b[39m tree_unflatten(out_pytree_def, out_flat)\n",
      "File \u001b[0;32m~/anaconda3/envs/olg/lib/python3.8/site-packages/jax/core.py:1767\u001b[0m, in \u001b[0;36mCallPrimitive.bind\u001b[0;34m(self, fun, *args, **params)\u001b[0m\n\u001b[1;32m   1766\u001b[0m \u001b[38;5;28;01mdef\u001b[39;00m \u001b[38;5;21mbind\u001b[39m(\u001b[38;5;28mself\u001b[39m, fun, \u001b[38;5;241m*\u001b[39margs, \u001b[38;5;241m*\u001b[39m\u001b[38;5;241m*\u001b[39mparams):\n\u001b[0;32m-> 1767\u001b[0m   \u001b[38;5;28;01mreturn\u001b[39;00m \u001b[43mcall_bind\u001b[49m\u001b[43m(\u001b[49m\u001b[38;5;28;43mself\u001b[39;49m\u001b[43m,\u001b[49m\u001b[43m \u001b[49m\u001b[43mfun\u001b[49m\u001b[43m,\u001b[49m\u001b[43m \u001b[49m\u001b[38;5;241;43m*\u001b[39;49m\u001b[43margs\u001b[49m\u001b[43m,\u001b[49m\u001b[43m \u001b[49m\u001b[38;5;241;43m*\u001b[39;49m\u001b[38;5;241;43m*\u001b[39;49m\u001b[43mparams\u001b[49m\u001b[43m)\u001b[49m\n",
      "File \u001b[0;32m~/anaconda3/envs/olg/lib/python3.8/site-packages/jax/core.py:1783\u001b[0m, in \u001b[0;36mcall_bind\u001b[0;34m(primitive, fun, *args, **params)\u001b[0m\n\u001b[1;32m   1781\u001b[0m tracers \u001b[38;5;241m=\u001b[39m \u001b[38;5;28mmap\u001b[39m(top_trace\u001b[38;5;241m.\u001b[39mfull_raise, args)\n\u001b[1;32m   1782\u001b[0m fun_ \u001b[38;5;241m=\u001b[39m lu\u001b[38;5;241m.\u001b[39mannotate(fun_, fun\u001b[38;5;241m.\u001b[39min_type)\n\u001b[0;32m-> 1783\u001b[0m outs \u001b[38;5;241m=\u001b[39m \u001b[43mtop_trace\u001b[49m\u001b[38;5;241;43m.\u001b[39;49m\u001b[43mprocess_call\u001b[49m\u001b[43m(\u001b[49m\u001b[43mprimitive\u001b[49m\u001b[43m,\u001b[49m\u001b[43m \u001b[49m\u001b[43mfun_\u001b[49m\u001b[43m,\u001b[49m\u001b[43m \u001b[49m\u001b[43mtracers\u001b[49m\u001b[43m,\u001b[49m\u001b[43m \u001b[49m\u001b[43mparams\u001b[49m\u001b[43m)\u001b[49m\n\u001b[1;32m   1784\u001b[0m \u001b[38;5;28;01mreturn\u001b[39;00m \u001b[38;5;28mmap\u001b[39m(full_lower, apply_todos(env_trace_todo(), outs))\n",
      "File \u001b[0;32m~/anaconda3/envs/olg/lib/python3.8/site-packages/jax/core.py:680\u001b[0m, in \u001b[0;36mEvalTrace.process_call\u001b[0;34m(self, primitive, f, tracers, params)\u001b[0m\n\u001b[1;32m    679\u001b[0m \u001b[38;5;28;01mdef\u001b[39;00m \u001b[38;5;21mprocess_call\u001b[39m(\u001b[38;5;28mself\u001b[39m, primitive, f, tracers, params):\n\u001b[0;32m--> 680\u001b[0m   \u001b[38;5;28;01mreturn\u001b[39;00m \u001b[43mprimitive\u001b[49m\u001b[38;5;241;43m.\u001b[39;49m\u001b[43mimpl\u001b[49m\u001b[43m(\u001b[49m\u001b[43mf\u001b[49m\u001b[43m,\u001b[49m\u001b[43m \u001b[49m\u001b[38;5;241;43m*\u001b[39;49m\u001b[43mtracers\u001b[49m\u001b[43m,\u001b[49m\u001b[43m \u001b[49m\u001b[38;5;241;43m*\u001b[39;49m\u001b[38;5;241;43m*\u001b[39;49m\u001b[43mparams\u001b[49m\u001b[43m)\u001b[49m\n",
      "File \u001b[0;32m~/anaconda3/envs/olg/lib/python3.8/site-packages/jax/_src/dispatch.py:182\u001b[0m, in \u001b[0;36m_xla_call_impl\u001b[0;34m(***failed resolving arguments***)\u001b[0m\n\u001b[1;32m    180\u001b[0m \u001b[38;5;28;01mif\u001b[39;00m fun\u001b[38;5;241m.\u001b[39min_type \u001b[38;5;129;01mis\u001b[39;00m \u001b[38;5;129;01mnot\u001b[39;00m \u001b[38;5;28;01mNone\u001b[39;00m:\n\u001b[1;32m    181\u001b[0m   arg_specs \u001b[38;5;241m=\u001b[39m [(\u001b[38;5;28;01mNone\u001b[39;00m, \u001b[38;5;241m*\u001b[39mxs) \u001b[38;5;28;01mfor\u001b[39;00m _, \u001b[38;5;241m*\u001b[39mxs \u001b[38;5;129;01min\u001b[39;00m arg_specs]\n\u001b[0;32m--> 182\u001b[0m compiled_fun \u001b[38;5;241m=\u001b[39m \u001b[43m_xla_callable\u001b[49m\u001b[43m(\u001b[49m\u001b[43mfun\u001b[49m\u001b[43m,\u001b[49m\u001b[43m \u001b[49m\u001b[43mdevice\u001b[49m\u001b[43m,\u001b[49m\u001b[43m \u001b[49m\u001b[43mbackend\u001b[49m\u001b[43m,\u001b[49m\u001b[43m \u001b[49m\u001b[43mname\u001b[49m\u001b[43m,\u001b[49m\u001b[43m \u001b[49m\u001b[43mdonated_invars\u001b[49m\u001b[43m,\u001b[49m\n\u001b[1;32m    183\u001b[0m \u001b[43m                             \u001b[49m\u001b[43mkeep_unused\u001b[49m\u001b[43m,\u001b[49m\u001b[43m \u001b[49m\u001b[38;5;241;43m*\u001b[39;49m\u001b[43marg_specs\u001b[49m\u001b[43m)\u001b[49m\n\u001b[1;32m    184\u001b[0m \u001b[38;5;28;01mtry\u001b[39;00m:\n\u001b[1;32m    185\u001b[0m   \u001b[38;5;28;01mreturn\u001b[39;00m compiled_fun(\u001b[38;5;241m*\u001b[39margs)\n",
      "File \u001b[0;32m~/anaconda3/envs/olg/lib/python3.8/site-packages/jax/linear_util.py:285\u001b[0m, in \u001b[0;36mcache.<locals>.memoized_fun\u001b[0;34m(fun, *args)\u001b[0m\n\u001b[1;32m    283\u001b[0m   fun\u001b[38;5;241m.\u001b[39mpopulate_stores(stores)\n\u001b[1;32m    284\u001b[0m \u001b[38;5;28;01melse\u001b[39;00m:\n\u001b[0;32m--> 285\u001b[0m   ans \u001b[38;5;241m=\u001b[39m \u001b[43mcall\u001b[49m\u001b[43m(\u001b[49m\u001b[43mfun\u001b[49m\u001b[43m,\u001b[49m\u001b[43m \u001b[49m\u001b[38;5;241;43m*\u001b[39;49m\u001b[43margs\u001b[49m\u001b[43m)\u001b[49m\n\u001b[1;32m    286\u001b[0m   cache[key] \u001b[38;5;241m=\u001b[39m (ans, fun\u001b[38;5;241m.\u001b[39mstores)\n\u001b[1;32m    288\u001b[0m thread_local\u001b[38;5;241m.\u001b[39mmost_recent_entry \u001b[38;5;241m=\u001b[39m weakref\u001b[38;5;241m.\u001b[39mref(ans)\n",
      "File \u001b[0;32m~/anaconda3/envs/olg/lib/python3.8/site-packages/jax/_src/dispatch.py:230\u001b[0m, in \u001b[0;36m_xla_callable_uncached\u001b[0;34m(fun, device, backend, name, donated_invars, keep_unused, *arg_specs)\u001b[0m\n\u001b[1;32m    228\u001b[0m \u001b[38;5;28;01mdef\u001b[39;00m \u001b[38;5;21m_xla_callable_uncached\u001b[39m(fun: lu\u001b[38;5;241m.\u001b[39mWrappedFun, device, backend, name,\n\u001b[1;32m    229\u001b[0m                            donated_invars, keep_unused, \u001b[38;5;241m*\u001b[39marg_specs):\n\u001b[0;32m--> 230\u001b[0m   \u001b[38;5;28;01mreturn\u001b[39;00m \u001b[43mlower_xla_callable\u001b[49m\u001b[43m(\u001b[49m\u001b[43mfun\u001b[49m\u001b[43m,\u001b[49m\u001b[43m \u001b[49m\u001b[43mdevice\u001b[49m\u001b[43m,\u001b[49m\u001b[43m \u001b[49m\u001b[43mbackend\u001b[49m\u001b[43m,\u001b[49m\u001b[43m \u001b[49m\u001b[43mname\u001b[49m\u001b[43m,\u001b[49m\u001b[43m \u001b[49m\u001b[43mdonated_invars\u001b[49m\u001b[43m,\u001b[49m\u001b[43m \u001b[49m\u001b[38;5;28;43;01mFalse\u001b[39;49;00m\u001b[43m,\u001b[49m\n\u001b[1;32m    231\u001b[0m \u001b[43m                            \u001b[49m\u001b[43mkeep_unused\u001b[49m\u001b[43m,\u001b[49m\u001b[43m \u001b[49m\u001b[38;5;241;43m*\u001b[39;49m\u001b[43marg_specs\u001b[49m\u001b[43m)\u001b[49m\u001b[38;5;241;43m.\u001b[39;49m\u001b[43mcompile\u001b[49m\u001b[43m(\u001b[49m\u001b[43m)\u001b[49m\u001b[38;5;241m.\u001b[39munsafe_call\n",
      "File \u001b[0;32m~/anaconda3/envs/olg/lib/python3.8/site-packages/jax/_src/dispatch.py:704\u001b[0m, in \u001b[0;36mXlaComputation.compile\u001b[0;34m(self)\u001b[0m\n\u001b[1;32m    701\u001b[0m     \u001b[38;5;28mself\u001b[39m\u001b[38;5;241m.\u001b[39m_executable \u001b[38;5;241m=\u001b[39m XlaCompiledComputation\u001b[38;5;241m.\u001b[39mfrom_trivial_jaxpr(\n\u001b[1;32m    702\u001b[0m         \u001b[38;5;241m*\u001b[39m\u001b[38;5;241m*\u001b[39m\u001b[38;5;28mself\u001b[39m\u001b[38;5;241m.\u001b[39mcompile_args)\n\u001b[1;32m    703\u001b[0m   \u001b[38;5;28;01melse\u001b[39;00m:\n\u001b[0;32m--> 704\u001b[0m     \u001b[38;5;28mself\u001b[39m\u001b[38;5;241m.\u001b[39m_executable \u001b[38;5;241m=\u001b[39m \u001b[43mXlaCompiledComputation\u001b[49m\u001b[38;5;241;43m.\u001b[39;49m\u001b[43mfrom_xla_computation\u001b[49m\u001b[43m(\u001b[49m\n\u001b[1;32m    705\u001b[0m \u001b[43m        \u001b[49m\u001b[38;5;28;43mself\u001b[39;49m\u001b[38;5;241;43m.\u001b[39;49m\u001b[43mname\u001b[49m\u001b[43m,\u001b[49m\u001b[43m \u001b[49m\u001b[38;5;28;43mself\u001b[39;49m\u001b[38;5;241;43m.\u001b[39;49m\u001b[43m_hlo\u001b[49m\u001b[43m,\u001b[49m\u001b[43m \u001b[49m\u001b[38;5;28;43mself\u001b[39;49m\u001b[38;5;241;43m.\u001b[39;49m\u001b[43m_explicit_args\u001b[49m\u001b[43m,\u001b[49m\u001b[43m \u001b[49m\u001b[38;5;241;43m*\u001b[39;49m\u001b[38;5;241;43m*\u001b[39;49m\u001b[38;5;28;43mself\u001b[39;49m\u001b[38;5;241;43m.\u001b[39;49m\u001b[43mcompile_args\u001b[49m\u001b[43m)\u001b[49m\n\u001b[1;32m    707\u001b[0m \u001b[38;5;28;01mreturn\u001b[39;00m \u001b[38;5;28mself\u001b[39m\u001b[38;5;241m.\u001b[39m_executable\n",
      "File \u001b[0;32m~/anaconda3/envs/olg/lib/python3.8/site-packages/jax/_src/dispatch.py:806\u001b[0m, in \u001b[0;36mXlaCompiledComputation.from_xla_computation\u001b[0;34m(name, xla_computation, explicit_args, nreps, device, backend, tuple_args, in_avals, out_avals, effects, kept_var_idx, keepalive)\u001b[0m\n\u001b[1;32m    803\u001b[0m options\u001b[38;5;241m.\u001b[39mparameter_is_tupled_arguments \u001b[38;5;241m=\u001b[39m tuple_args\n\u001b[1;32m    804\u001b[0m \u001b[38;5;28;01mwith\u001b[39;00m log_elapsed_time(\u001b[38;5;124mf\u001b[39m\u001b[38;5;124m\"\u001b[39m\u001b[38;5;124mFinished XLA compilation of \u001b[39m\u001b[38;5;132;01m{\u001b[39;00mname\u001b[38;5;132;01m}\u001b[39;00m\u001b[38;5;124m \u001b[39m\u001b[38;5;124m\"\u001b[39m\n\u001b[1;32m    805\u001b[0m                       \u001b[38;5;124m\"\u001b[39m\u001b[38;5;124min \u001b[39m\u001b[38;5;132;01m{elapsed_time}\u001b[39;00m\u001b[38;5;124m sec\u001b[39m\u001b[38;5;124m\"\u001b[39m):\n\u001b[0;32m--> 806\u001b[0m   compiled \u001b[38;5;241m=\u001b[39m \u001b[43mcompile_or_get_cached\u001b[49m\u001b[43m(\u001b[49m\u001b[43mbackend\u001b[49m\u001b[43m,\u001b[49m\u001b[43m \u001b[49m\u001b[43mxla_computation\u001b[49m\u001b[43m,\u001b[49m\u001b[43m \u001b[49m\u001b[43moptions\u001b[49m\u001b[43m)\u001b[49m\n\u001b[1;32m    807\u001b[0m buffer_counts \u001b[38;5;241m=\u001b[39m (\u001b[38;5;28;01mNone\u001b[39;00m \u001b[38;5;28;01mif\u001b[39;00m \u001b[38;5;28mlen\u001b[39m(out_avals) \u001b[38;5;241m==\u001b[39m \u001b[38;5;241m1\u001b[39m \u001b[38;5;129;01mand\u001b[39;00m \u001b[38;5;129;01mnot\u001b[39;00m config\u001b[38;5;241m.\u001b[39mjax_dynamic_shapes\n\u001b[1;32m    808\u001b[0m                  \u001b[38;5;28;01melse\u001b[39;00m [aval_to_num_buffers(aval) \u001b[38;5;28;01mfor\u001b[39;00m aval \u001b[38;5;129;01min\u001b[39;00m out_avals])\n\u001b[1;32m    809\u001b[0m \u001b[38;5;28;01mif\u001b[39;00m effects:\n",
      "File \u001b[0;32m~/anaconda3/envs/olg/lib/python3.8/site-packages/jax/_src/dispatch.py:768\u001b[0m, in \u001b[0;36mcompile_or_get_cached\u001b[0;34m(backend, computation, compile_options)\u001b[0m\n\u001b[1;32m    766\u001b[0m     ir_str \u001b[38;5;241m=\u001b[39m computation\n\u001b[1;32m    767\u001b[0m   _dump_ir_to_file(module_name, ir_str)\n\u001b[0;32m--> 768\u001b[0m \u001b[38;5;28;01mreturn\u001b[39;00m \u001b[43mbackend_compile\u001b[49m\u001b[43m(\u001b[49m\u001b[43mbackend\u001b[49m\u001b[43m,\u001b[49m\u001b[43m \u001b[49m\u001b[43mcomputation\u001b[49m\u001b[43m,\u001b[49m\u001b[43m \u001b[49m\u001b[43mcompile_options\u001b[49m\u001b[43m)\u001b[49m\n",
      "File \u001b[0;32m~/anaconda3/envs/olg/lib/python3.8/site-packages/jax/_src/profiler.py:206\u001b[0m, in \u001b[0;36mannotate_function.<locals>.wrapper\u001b[0;34m(*args, **kwargs)\u001b[0m\n\u001b[1;32m    203\u001b[0m \u001b[38;5;129m@wraps\u001b[39m(func)\n\u001b[1;32m    204\u001b[0m \u001b[38;5;28;01mdef\u001b[39;00m \u001b[38;5;21mwrapper\u001b[39m(\u001b[38;5;241m*\u001b[39margs, \u001b[38;5;241m*\u001b[39m\u001b[38;5;241m*\u001b[39mkwargs):\n\u001b[1;32m    205\u001b[0m   \u001b[38;5;28;01mwith\u001b[39;00m TraceAnnotation(name, \u001b[38;5;241m*\u001b[39m\u001b[38;5;241m*\u001b[39mdecorator_kwargs):\n\u001b[0;32m--> 206\u001b[0m     \u001b[38;5;28;01mreturn\u001b[39;00m \u001b[43mfunc\u001b[49m\u001b[43m(\u001b[49m\u001b[38;5;241;43m*\u001b[39;49m\u001b[43margs\u001b[49m\u001b[43m,\u001b[49m\u001b[43m \u001b[49m\u001b[38;5;241;43m*\u001b[39;49m\u001b[38;5;241;43m*\u001b[39;49m\u001b[43mkwargs\u001b[49m\u001b[43m)\u001b[49m\n\u001b[1;32m    207\u001b[0m   \u001b[38;5;28;01mreturn\u001b[39;00m wrapper\n",
      "File \u001b[0;32m~/anaconda3/envs/olg/lib/python3.8/site-packages/jax/_src/dispatch.py:713\u001b[0m, in \u001b[0;36mbackend_compile\u001b[0;34m(backend, built_c, options)\u001b[0m\n\u001b[1;32m    709\u001b[0m \u001b[38;5;129m@profiler\u001b[39m\u001b[38;5;241m.\u001b[39mannotate_function\n\u001b[1;32m    710\u001b[0m \u001b[38;5;28;01mdef\u001b[39;00m \u001b[38;5;21mbackend_compile\u001b[39m(backend, built_c, options):\n\u001b[1;32m    711\u001b[0m   \u001b[38;5;66;03m# we use a separate function call to ensure that XLA compilation appears\u001b[39;00m\n\u001b[1;32m    712\u001b[0m   \u001b[38;5;66;03m# separately in Python profiling results\u001b[39;00m\n\u001b[0;32m--> 713\u001b[0m   \u001b[38;5;28;01mreturn\u001b[39;00m \u001b[43mbackend\u001b[49m\u001b[38;5;241;43m.\u001b[39;49m\u001b[43mcompile\u001b[49m\u001b[43m(\u001b[49m\u001b[43mbuilt_c\u001b[49m\u001b[43m,\u001b[49m\u001b[43m \u001b[49m\u001b[43mcompile_options\u001b[49m\u001b[38;5;241;43m=\u001b[39;49m\u001b[43moptions\u001b[49m\u001b[43m)\u001b[49m\n",
      "\u001b[0;31mKeyboardInterrupt\u001b[0m: "
     ]
    }
   ],
   "source": [
    "with warnings.catch_warnings():\n",
    "    warnings.simplefilter(\"ignore\")\n",
    "    for _ in range(1):\n",
    "        olg.update_guess()"
   ]
  },
  {
   "cell_type": "code",
   "execution_count": 74,
   "metadata": {},
   "outputs": [
    {
     "data": {
      "text/plain": [
       "array([0.21758224, 0.21596818, 0.21426401, 0.21272068, 0.2112629 ,\n",
       "       0.20981745, 0.20833931, 0.20684602, 0.20560088, 0.20452202,\n",
       "       0.20345835, 0.20234603, 0.2014838 , 0.2008242 , 0.20014054,\n",
       "       0.19945988, 0.19906161, 0.19852763, 0.19785566, 0.19704744,\n",
       "       0.19610938, 0.19505   , 0.19388013, 0.19261341, 0.19126531,\n",
       "       0.18985425, 0.18839877, 0.18691753, 0.18542961, 0.18395262,\n",
       "       0.18250501, 0.18110322, 0.17976167, 0.17849193, 0.17730103,\n",
       "       0.17619336, 0.17516912, 0.17422573, 0.17335818, 0.17255919,\n",
       "       0.17181996, 0.17112947, 0.17047717, 0.16985253, 0.16924542,\n",
       "       0.1686482 , 0.16805474, 0.16746074, 0.16686333, 0.16626205,\n",
       "       0.16565884, 0.16505597, 0.16445724, 0.16386741, 0.16329151,\n",
       "       0.16273477, 0.16220272, 0.16170066, 0.16123211, 0.16080009,\n",
       "       0.16040674, 0.16005302, 0.15973819, 0.15946071, 0.15921775,\n",
       "       0.15900566, 0.15881923, 0.15865333, 0.15850207, 0.15835946,\n",
       "       0.15821974, 0.1580774 , 0.15792756, 0.15776617, 0.15759049,\n",
       "       0.15739879, 0.15719014, 0.15696483, 0.15672414, 0.15646991,\n",
       "       0.15620457, 0.15593105, 0.15565277, 0.15537278, 0.1550941 ,\n",
       "       0.15481962, 0.15455181, 0.15429268, 0.15404377, 0.15380606,\n",
       "       0.15357991, 0.15336522, 0.15316131, 0.15296705, 0.15278103,\n",
       "       0.15260151, 0.15242657, 0.15225423, 0.15208262, 0.15190993,\n",
       "       0.15173461, 0.15155539, 0.15137136, 0.15118192, 0.15098686,\n",
       "       0.15078628, 0.15058061, 0.15037053, 0.15015689, 0.14994072,\n",
       "       0.14972309, 0.1495051 , 0.1492878 , 0.14907213, 0.1488589 ,\n",
       "       0.14864874, 0.14844212, 0.14823926, 0.14804022, 0.14784485,\n",
       "       0.14765286, 0.14746378, 0.14727708, 0.14709214, 0.14690829,\n",
       "       0.1467249 , 0.14654135, 0.14635708, 0.14617163, 0.14598463,\n",
       "       0.14579584, 0.14560512, 0.14541246, 0.14521793, 0.14502173,\n",
       "       0.1448241 , 0.14462537, 0.14442589, 0.14422603, 0.14402614,\n",
       "       0.14382657, 0.14362761, 0.14342953, 0.14323249, 0.14303663,\n",
       "       0.14284199, 0.14264856, 0.14245627, 0.142265  , 0.14207456,\n",
       "       0.14188477, 0.14169541, 0.14150626, 0.1413171 , 0.14112772,\n",
       "       0.14559384, 0.14533874, 0.14508409, 0.14482989, 0.14457614,\n",
       "       0.14432282, 0.14406996, 0.14381753, 0.14356555, 0.14331401,\n",
       "       0.14306291, 0.14281225, 0.14256203, 0.14231224, 0.1420629 ,\n",
       "       0.14181399, 0.14156552, 0.14131748, 0.14106988, 0.14082271,\n",
       "       0.14057598, 0.14032967, 0.1400838 , 0.13983836, 0.13959335,\n",
       "       0.13934877, 0.13910462, 0.13886089, 0.13861759, 0.13837472,\n",
       "       0.13813228, 0.13789025, 0.13764866, 0.13740748, 0.13716673,\n",
       "       0.1369264 , 0.13668649, 0.13644701, 0.13620794, 0.13596929,\n",
       "       0.13573106, 0.13549324, 0.13525584, 0.13501886, 0.1347823 ,\n",
       "       0.13454614, 0.13431041, 0.13407508, 0.13384017, 0.13360567,\n",
       "       0.13337158, 0.1331379 , 0.13290463, 0.13267176, 0.13243931,\n",
       "       0.13220726, 0.13197562, 0.13174439, 0.13151356, 0.13128314,\n",
       "       0.13105311, 0.1308235 , 0.13059428, 0.13036547, 0.13013705,\n",
       "       0.12990904, 0.12968143, 0.12945421, 0.1292274 , 0.12900098,\n",
       "       0.12877495, 0.12854933, 0.1283241 , 0.12809926, 0.12787482,\n",
       "       0.12765077, 0.12742711, 0.12720385, 0.12698097, 0.12675849,\n",
       "       0.1265364 , 0.12631469, 0.12609338, 0.12587245, 0.12565191,\n",
       "       0.12543175, 0.12521198, 0.1249926 , 0.1247736 , 0.12455499,\n",
       "       0.12433675, 0.1241189 , 0.12390143, 0.12368435, 0.12346764,\n",
       "       0.12325131, 0.12303536, 0.12281979, 0.1226046 , 0.12238979,\n",
       "       0.12217535, 0.12196128, 0.1217476 , 0.12153428, 0.12132134,\n",
       "       0.12110878, 0.12089658, 0.12068476, 0.12047331, 0.12026223,\n",
       "       0.12005151, 0.11984117, 0.1196312 , 0.11942159, 0.11921235,\n",
       "       0.11900348, 0.11879498, 0.11858684, 0.11837906, 0.11817165,\n",
       "       0.1179646 , 0.11775792, 0.11755159, 0.11734563, 0.11714003,\n",
       "       0.11693479, 0.11672991, 0.11652538, 0.11632122, 0.11611741,\n",
       "       0.11591396, 0.11571087, 0.11550814, 0.11530575, 0.11510373,\n",
       "       0.11490205, 0.11470073, 0.11449977, 0.11429915, 0.11409889,\n",
       "       0.11389898, 0.11369941, 0.1135002 , 0.11330134, 0.11310282,\n",
       "       0.11290466, 0.11270684, 0.11250936, 0.11231223, 0.11211545,\n",
       "       0.11191902, 0.11172292, 0.11152717, 0.11133177, 0.1111367 ,\n",
       "       0.11094198, 0.1107476 , 0.11055356, 0.11035986, 0.1101665 ,\n",
       "       0.10997347, 0.10978079, 0.10958844, 0.10939643, 0.10920476,\n",
       "       0.10901342, 0.10882242, 0.10863175, 0.10844142, 0.10825142,\n",
       "       0.10806175, 0.10787242, 0.10768341, 0.10749474, 0.1073064 ,\n",
       "       0.10711839, 0.10693071, 0.10674335, 0.10655633, 0.10636963,\n",
       "       0.10618326, 0.10599722, 0.1058115 , 0.10562611, 0.10544104,\n",
       "       0.1052563 , 0.10507188, 0.10488778, 0.10470401, 0.10452056,\n",
       "       0.10433743, 0.10415462, 0.10397213, 0.10378996, 0.10360811,\n",
       "       0.10342658, 0.10324536, 0.10306447, 0.10288389, 0.10270362,\n",
       "       0.10252368, 0.10234405, 0.10216473, 0.10198573, 0.10180704,\n",
       "       0.10162866, 0.1014506 , 0.10127285, 0.10109541, 0.10091828,\n",
       "       0.10074146, 0.10056495, 0.10038875, 0.10021286, 0.10003728,\n",
       "       0.099862  , 0.09968703, 0.09951237, 0.09933802, 0.09916397,\n",
       "       0.09899022, 0.09881678, 0.09864364, 0.09847081, 0.09829828,\n",
       "       0.09812605, 0.09795413, 0.0977825 , 0.09761118, 0.09744015,\n",
       "       0.09726943, 0.097099  , 0.09692887, 0.09675904, 0.09658951,\n",
       "       0.09642028, 0.09625134, 0.0960827 , 0.09591435, 0.0957463 ,\n",
       "       0.09557854, 0.09541108, 0.09524391, 0.09507704, 0.09491045,\n",
       "       0.09474416, 0.09457816, 0.09441245, 0.09424703, 0.0940819 ,\n",
       "       0.09391706, 0.0937525 , 0.09358824, 0.09342426, 0.09326058,\n",
       "       0.09309717, 0.09293406, 0.09277123, 0.09260869, 0.09244643,\n",
       "       0.09228445, 0.09212276, 0.09196135, 0.09180023, 0.09163938,\n",
       "       0.09147882, 0.09131854, 0.09115854, 0.09099882, 0.09083938,\n",
       "       0.09068023, 0.09052134, 0.09036274, 0.09020442, 0.09004637,\n",
       "       0.0898886 , 0.08973111, 0.08957389, 0.08941695, 0.08926028,\n",
       "       0.08910389, 0.08894777, 0.08879192, 0.08863635, 0.08848105,\n",
       "       0.08832602, 0.08817127, 0.08801678, 0.08786257, 0.08770863,\n",
       "       0.08755495, 0.08740155, 0.08724841, 0.08709554, 0.08694294,\n",
       "       0.08679061, 0.08663854, 0.08648674, 0.08633521, 0.08618394,\n",
       "       0.08603294, 0.0858822 , 0.08573173, 0.08558152, 0.08543157,\n",
       "       0.08528189, 0.08513246, 0.0849833 , 0.0848344 , 0.08468577,\n",
       "       0.08453739, 0.08438927, 0.08424141, 0.08409381, 0.08394647,\n",
       "       0.08379939, 0.08365257, 0.083506  , 0.08335969, 0.08321363,\n",
       "       0.08306783, 0.08292229, 0.082777  , 0.08263197, 0.08248719,\n",
       "       0.08234266, 0.08219839, 0.08205437, 0.08191061, 0.08176709,\n",
       "       0.08162383, 0.08148081, 0.08133805, 0.08119554, 0.08105328,\n",
       "       0.08091126, 0.0807695 , 0.08062798, 0.08048671, 0.08034569,\n",
       "       0.08020492, 0.08006439, 0.07992411, 0.07978408, 0.07964429,\n",
       "       0.07950474, 0.07936544, 0.07922639, 0.07908757, 0.078949  ,\n",
       "       0.07881068, 0.07867259, 0.07853475, 0.07839715, 0.07825979,\n",
       "       0.07812267, 0.07798579, 0.07784916, 0.07771276, 0.0775766 ,\n",
       "       0.07744067, 0.07730499, 0.07716954, 0.07703434, 0.07689936,\n",
       "       0.07676463, 0.07663013, 0.07649587, 0.07636184, 0.07622804,\n",
       "       0.07609449, 0.07596116, 0.07582807, 0.07569521, 0.07556258,\n",
       "       0.07543019, 0.07529803, 0.0751661 , 0.0750344 , 0.07490294,\n",
       "       0.0747717 , 0.07464069, 0.07450991, 0.07437936, 0.07424904,\n",
       "       0.07411895, 0.07398909, 0.07385945, 0.07373004, 0.07360086,\n",
       "       0.07347191, 0.07334318, 0.07321467, 0.07308639, 0.07295834,\n",
       "       0.07283051, 0.0727029 , 0.07257552, 0.07244836, 0.07232142,\n",
       "       0.07219471, 0.07206822, 0.07194194, 0.0718159 , 0.07169007,\n",
       "       0.07156446, 0.07143907, 0.0713139 , 0.07118895, 0.07106422,\n",
       "       0.07093971, 0.07081542, 0.07069134, 0.07056748, 0.07044384,\n",
       "       0.07032042, 0.07019721, 0.07007422, 0.06995144, 0.06982888,\n",
       "       0.06970653, 0.0695844 , 0.06946248, 0.06934078, 0.06921928,\n",
       "       0.06909801, 0.06897694, 0.06885608, 0.06873544, 0.06861501,\n",
       "       0.06849479, 0.06837478, 0.06825498, 0.06813539, 0.06801601,\n",
       "       0.06789684, 0.06777788, 0.06765913, 0.06754058, 0.06742224,\n",
       "       0.06730411, 0.06718619, 0.06706847, 0.06695096, 0.06683366,\n",
       "       0.06671656, 0.06659966, 0.06648297, 0.06636649, 0.06625021,\n",
       "       0.06613413, 0.06601826, 0.06590259, 0.06578712, 0.06567185])"
      ]
     },
     "execution_count": 74,
     "metadata": {},
     "output_type": "execute_result"
    }
   ],
   "source": [
    "plt.plot(olg.Consumption)"
   ]
  },
  {
   "cell_type": "code",
   "execution_count": 102,
   "metadata": {},
   "outputs": [],
   "source": [
    "high_deficit = np.where(olg.Deficit_ratio[:(olg.T+1)]>0.2)[0]\n",
    "if len(high_deficit) > 0:\n",
    "    olg.sigma =np.concatenate((olg.sigma[:high_deficit[0]],\n",
    "                           np.array([olg.sigma[high_deficit[0]]*0.9 \n",
    "                                     for _ in range(high_deficit[0],max_time)])))\n",
    "    if olg.T-olg.G + 1 < high_deficit[0]:\n",
    "        olg.T = high_deficit[0] + olg.G - 1"
   ]
  },
  {
   "cell_type": "code",
   "execution_count": 94,
   "metadata": {},
   "outputs": [],
   "source": [
    "olg.create_guess()"
   ]
  },
  {
   "cell_type": "code",
   "execution_count": 96,
   "metadata": {},
   "outputs": [
    {
     "data": {
      "text/plain": [
       "[<matplotlib.lines.Line2D at 0x7f8099a32760>]"
      ]
     },
     "execution_count": 96,
     "metadata": {},
     "output_type": "execute_result"
    },
    {
     "data": {
      "image/png": "[encoded data removed]",
      "text/plain": [
       "<Figure size 432x288 with 1 Axes>"
      ]
     },
     "metadata": {
      "needs_background": "light"
     },
     "output_type": "display_data"
    }
   ],
   "source": [
    "plt.plot(olg.Deficit_ratio[:250])"
   ]
  },
  {
   "cell_type": "code",
   "execution_count": 100,
   "metadata": {},
   "outputs": [
    {
     "data": {
      "text/plain": [
       "<matplotlib.legend.Legend at 0x7f80996c75b0>"
      ]
     },
     "execution_count": 100,
     "metadata": {},
     "output_type": "execute_result"
    },
    {
     "data": {
      "image/png": "[encoded data removed]",
      "text/plain": [
       "<Figure size 432x288 with 1 Axes>"
      ]
     },
     "metadata": {
      "needs_background": "light"
     },
     "output_type": "display_data"
    }
   ],
   "source": [
    "# plt.plot(olg.Gov_Income[200:250])\n",
    "# Ins_sum  II_sum I_sum VA_sum Pi_sum\n",
    "plt.plot(olg.Gov_Income[160:250], label = \"income\")\n",
    "# plt.plot(olg.Ins_sum[160:250], label = \"insurance\")\n",
    "# plt.plot(olg.II_sum[160:250], label = \"investment income\")\n",
    "# plt.plot(olg.I_sum[160:250], label = \"income\")\n",
    "# plt.plot(olg.VA_sum[160:250], label = \"value-added\")\n",
    "# plt.plot(olg.Pi_sum[160:250], label = \"profit\")\n",
    "plt.title(\"Taxes\")\n",
    "plt.plot(olg.Gov_Outcome[160:250], label = \"outcome\")\n",
    "plt.plot(olg.Gov[160:250], label = \"Gov\")\n",
    "plt.plot(olg.Debt[160:250]*olg.r[160:250]/olg.Gov_Outcome[160:250], label = \"inerest expense\")\n",
    "plt.legend()"
   ]
  },
  {
   "cell_type": "code",
   "execution_count": 57,
   "metadata": {},
   "outputs": [
    {
     "data": {
      "text/plain": [
       "array([0.41758224, 0.41596818, 0.41426401, 0.41272068, 0.4112629 ,\n",
       "       0.40981745, 0.40833931, 0.40684602, 0.40560088, 0.40452202,\n",
       "       0.40345835, 0.40234603, 0.4014838 , 0.4008242 , 0.40014054,\n",
       "       0.39945988, 0.39906161, 0.39852763, 0.39785566, 0.39704744,\n",
       "       0.39610938, 0.39505   , 0.39388013, 0.39261341, 0.39126531,\n",
       "       0.38985425, 0.38839877, 0.38691753, 0.38542961, 0.38395262,\n",
       "       0.38250501, 0.38110322, 0.37976167, 0.37849193, 0.37730103,\n",
       "       0.37619336, 0.37516912, 0.37422573, 0.37335818, 0.37255919,\n",
       "       0.37181996, 0.37112947, 0.37047717, 0.36985253, 0.36924542,\n",
       "       0.3686482 , 0.36805474, 0.36746074, 0.36686333, 0.36626205,\n",
       "       0.36565884, 0.36505597, 0.36445724, 0.36386741, 0.36329151,\n",
       "       0.36273477, 0.36220272, 0.36170066, 0.36123211, 0.36080009,\n",
       "       0.36040674, 0.36005302, 0.35973819, 0.35946071, 0.35921775,\n",
       "       0.35900566, 0.35881923, 0.35865333, 0.35850207, 0.35835946,\n",
       "       0.35821974, 0.3580774 , 0.35792756, 0.35776617, 0.35759049,\n",
       "       0.35739879, 0.35719014, 0.35696483, 0.35672414, 0.35646991,\n",
       "       0.35620457, 0.35593105, 0.35565277, 0.35537278, 0.3550941 ,\n",
       "       0.35481962, 0.35455181, 0.35429268, 0.35404377, 0.35380606,\n",
       "       0.35357991, 0.35336522, 0.35316131, 0.35296705, 0.35278103,\n",
       "       0.35260151, 0.35242657, 0.35225423, 0.35208262, 0.35190993,\n",
       "       0.35173461, 0.35155539, 0.35137136, 0.35118192, 0.35098686,\n",
       "       0.35078628, 0.35058061, 0.35037053, 0.35015689, 0.34994072,\n",
       "       0.34972309, 0.3495051 , 0.3492878 , 0.34907213, 0.3488589 ,\n",
       "       0.34864874, 0.34844212, 0.34823926, 0.34804022, 0.34784485,\n",
       "       0.34765286, 0.34746378, 0.34727708, 0.34709214, 0.34690829,\n",
       "       0.3467249 , 0.34654135, 0.34635708, 0.34617163, 0.34598463,\n",
       "       0.34579584, 0.34560512, 0.34541246, 0.34521793, 0.34502173,\n",
       "       0.3448241 , 0.34462537, 0.34442589, 0.34422603, 0.34402614,\n",
       "       0.34382657, 0.34362761, 0.34342953, 0.34323249, 0.34303663,\n",
       "       0.34284199, 0.34264856, 0.34245627, 0.342265  , 0.34207456,\n",
       "       0.34188477, 0.34169541, 0.34150626, 0.3413171 , 0.34112772,\n",
       "       0.34093796, 0.34074767, 0.34055674, 0.3403651 , 0.34017273,\n",
       "       0.33997964, 0.33978586, 0.33959148, 0.33939658, 0.33920129,\n",
       "       0.33900572, 0.33880999, 0.33861422, 0.33841852, 0.33822299,\n",
       "       0.33802769, 0.33783267, 0.33763796, 0.33744358, 0.33724949,\n",
       "       0.33705567, 0.33686206, 0.33666861, 0.33647522, 0.33628184,\n",
       "       0.33608838, 0.33589477, 0.33570094, 0.33550684, 0.33531242,\n",
       "       0.33511764, 0.3349225 , 0.33472698, 0.3345311 , 0.33433486,\n",
       "       0.3341383 , 0.33394144, 0.33374434, 0.33354701, 0.33334952,\n",
       "       0.33315188, 0.33295414, 0.33275632, 0.33255843, 0.33236049,\n",
       "       0.3321625 , 0.33196445, 0.33176634, 0.33156815, 0.33136985,\n",
       "       0.33117142, 0.33097283, 0.33077405, 0.33057506, 0.33037582,\n",
       "       0.33017631, 0.32997652, 0.32977642, 0.32957601, 0.32937528,\n",
       "       0.32917422, 0.32897284, 0.32877115, 0.32856915, 0.32836685,\n",
       "       0.32816425, 0.32796138, 0.32775824, 0.32755485, 0.32735119,\n",
       "       0.32714729, 0.32694315, 0.32673875, 0.32653411, 0.32632921,\n",
       "       0.32612404, 0.3259186 , 0.32571288, 0.32550686, 0.32530052,\n",
       "       0.32509387, 0.32488687, 0.32467953, 0.32447183, 0.32426376,\n",
       "       0.32405532, 0.3238465 , 0.32363729, 0.32342769, 0.3232177 ,\n",
       "       0.32300732, 0.32279655, 0.32258539, 0.32237383, 0.32216189,\n",
       "       0.32194955, 0.32173682, 0.3215237 , 0.32131018, 0.32109626,\n",
       "       0.32088195, 0.32066722, 0.32045208, 0.32023652, 0.32002053,\n",
       "       0.31980411, 0.31958725, 0.31936993, 0.31915216, 0.31893392,\n",
       "       0.31871521, 0.31849602, 0.31827634, 0.31805618, 0.31783551,\n",
       "       0.31761434, 0.31739267, 0.31717049, 0.31694779, 0.31672458,\n",
       "       0.31650084, 0.31627659, 0.3160518 , 0.31582648, 0.31560063,\n",
       "       0.31537424, 0.3151473 , 0.31491982, 0.31469178, 0.31446318,\n",
       "       0.31423401, 0.31400428, 0.31377396, 0.31354306, 0.31331157,\n",
       "       0.31307949, 0.3128468 , 0.3126135 , 0.31237959, 0.31214506,\n",
       "       0.3119099 , 0.31167411, 0.31143768, 0.3112006 , 0.31096288,\n",
       "       0.31072451, 0.31048548, 0.31024579, 0.31000543, 0.3097644 ,\n",
       "       0.30952269, 0.3092803 , 0.30903723, 0.30879346, 0.308549  ,\n",
       "       0.30830383, 0.30805796, 0.30781137, 0.30756406, 0.30731603,\n",
       "       0.30706727, 0.30681778, 0.30656754, 0.30631656, 0.30606482,\n",
       "       0.30581233, 0.30555908, 0.30530505, 0.30505025, 0.30479468,\n",
       "       0.30453832, 0.30428117, 0.30402322, 0.30376448, 0.30350494,\n",
       "       0.30324459, 0.30298342, 0.30272144, 0.30245863, 0.302195  ,\n",
       "       0.30193054, 0.30166524, 0.3013991 , 0.30113212, 0.30086428,\n",
       "       0.30059559, 0.30032604, 0.30005563, 0.29978435, 0.2995122 ,\n",
       "       0.29923917, 0.29896525, 0.29869046, 0.29841477, 0.29813819,\n",
       "       0.29786071, 0.29758233, 0.29730304, 0.29702284, 0.29674173,\n",
       "       0.29645971, 0.29617676, 0.2958929 , 0.2956081 , 0.29532238,\n",
       "       0.29503572, 0.29474813, 0.2944596 , 0.29417013, 0.29387972,\n",
       "       0.29358836, 0.29329605, 0.29300279, 0.29270858, 0.29241341,\n",
       "       0.29211728, 0.29182019, 0.29152214, 0.29122313, 0.29092316,\n",
       "       0.29062221, 0.2903203 , 0.29001742, 0.28971357, 0.28940875,\n",
       "       0.28910296, 0.28879619, 0.28848846, 0.28817975, 0.28787007,\n",
       "       0.28755942, 0.2872478 , 0.2869352 , 0.28662163, 0.2863071 ,\n",
       "       0.28599159, 0.28567512, 0.28535768, 0.28503927, 0.28471991,\n",
       "       0.28439958, 0.28407829, 0.28375605, 0.28343285, 0.2831087 ,\n",
       "       0.2827836 , 0.28245755, 0.28213057, 0.28180264, 0.28147378,\n",
       "       0.281144  , 0.28081328, 0.28048164, 0.28014909, 0.27981563,\n",
       "       0.27948126, 0.27914598, 0.27880982, 0.27847276, 0.27813483,\n",
       "       0.27779601, 0.27745633, 0.27711579, 0.27677439, 0.27643215,\n",
       "       0.27608906, 0.27574515, 0.27540041, 0.27505486, 0.27470851,\n",
       "       0.27436136, 0.27401343, 0.27366472, 0.27331525, 0.27296502,\n",
       "       0.27261405, 0.27226235, 0.27190992, 0.27155679, 0.27120296,\n",
       "       0.27084845, 0.27049327, 0.27013742, 0.26978094, 0.26942382,\n",
       "       0.26906608, 0.26870774, 0.26834881, 0.26798931, 0.26762925,\n",
       "       0.26726865, 0.26690752, 0.26654588, 0.26618375, 0.26582114,\n",
       "       0.26545808, 0.26509457, 0.26473063, 0.2643663 , 0.26400157,\n",
       "       0.26363648, 0.26327104, 0.26290527, 0.26253918, 0.26217282,\n",
       "       0.26180618, 0.26143929, 0.26107218, 0.26070486, 0.26033735,\n",
       "       0.25996969, 0.25960188, 0.25923396, 0.25886595, 0.25849786,\n",
       "       0.25812973, 0.25776157, 0.25739341, 0.25702528, 0.25665719,\n",
       "       0.25628918, 0.25592127, 0.25555348, 0.25518584, 0.25481838,\n",
       "       0.25445111, 0.25408407, 0.25371729, 0.25335079, 0.25298459,\n",
       "       0.25261872, 0.25225322, 0.2518881 , 0.2515234 , 0.25115914,\n",
       "       0.25079535, 0.25043206, 0.25006929, 0.24970708, 0.24934545,\n",
       "       0.24898442, 0.24862404, 0.24826432, 0.24790529, 0.24754699,\n",
       "       0.24718943, 0.24683266, 0.24647669, 0.24612156, 0.24576729,\n",
       "       0.24541391, 0.24506144, 0.24470993, 0.24435939, 0.24400985,\n",
       "       0.24366134, 0.24331389, 0.24296753, 0.24262227, 0.24227815,\n",
       "       0.2412649 , 0.2402596 , 0.23926239, 0.2382734 , 0.23729284,\n",
       "       0.2363208 , 0.23535749, 0.23440306, 0.2334576 , 0.23252127,\n",
       "       0.23159425, 0.23067678, 0.22976908, 0.22887142, 0.22798409,\n",
       "       0.22710739, 0.22624179, 0.22538745, 0.22454459, 0.22371336,\n",
       "       0.2228939 , 0.22208632, 0.22129056, 0.22050654, 0.21973421,\n",
       "       0.21897352, 0.21822469, 0.21748753, 0.21676216, 0.21604878,\n",
       "       0.21534741, 0.21465854, 0.21398225, 0.21331878, 0.21266831,\n",
       "       0.21203109, 0.21140762, 0.21079811, 0.2102028 , 0.20962217,\n",
       "       0.20905658, 0.20850657, 0.20797263, 0.20745504, 0.20695413,\n",
       "       0.20647031, 0.20600466, 0.20555735, 0.20512851, 0.20471782,\n",
       "       0.20432554, 0.20395161, 0.20359582, 0.20325844, 0.20293919,\n",
       "       0.20263809, 0.20235536, 0.20209126, 0.20184607, 0.20161937,\n",
       "       0.20141112, 0.20122087, 0.20104815, 0.20089269, 0.20075375,\n",
       "       0.20063072, 0.20052221, 0.20042754, 0.20034582, 0.200276  ,\n",
       "       0.20021705, 0.200168  , 0.20012781, 0.20009537, 0.20006973,\n",
       "       0.20004984, 0.20003476, 0.20002367, 0.20001571, 0.20001018,\n",
       "       0.20000645, 0.20000401, 0.20000245, 0.20000149, 0.20000092,\n",
       "       0.20000059, 0.20000037, 0.20000023, 0.20000014, 0.20000008,\n",
       "       0.20000005, 0.20000003, 0.20000001, 0.20000001, 0.2       ])"
      ]
     },
     "execution_count": 57,
     "metadata": {},
     "output_type": "execute_result"
    }
   ],
   "source": [
    "olg.D"
   ]
  },
  {
   "cell_type": "code",
   "execution_count": 33,
   "metadata": {},
   "outputs": [
    {
     "data": {
      "text/plain": [
       "array([2.        , 1.9964958 , 1.99299775, 1.98950582, 1.98602001,\n",
       "       1.98254031, 1.9790667 , 1.97559918, 1.97213774, 1.96868236,\n",
       "       1.96523303, 1.96178975, 1.9583525 , 1.95492127, 1.95149606,\n",
       "       1.94807685, 1.94466362, 1.94125638, 1.93785511, 1.9344598 ,\n",
       "       1.93107043, 1.92768701, 1.92430951, 1.92093793, 1.91757226,\n",
       "       1.91421248, 1.91085859, 1.90751058, 1.90416843, 1.90083214,\n",
       "       1.8975017 , 1.89417709, 1.8908583 , 1.88754533, 1.88423817,\n",
       "       1.8809368 , 1.87764121, 1.8743514 , 1.87106735, 1.86778906,\n",
       "       1.86451651, 1.86124969, 1.8579886 , 1.85473322, 1.85148354,\n",
       "       1.84823956, 1.84500126, 1.84176864, 1.83854168, 1.83532037,\n",
       "       1.83210471, 1.82889469, 1.82569028, 1.82249149, 1.81929831,\n",
       "       1.81611072, 1.81292871, 1.80975228, 1.80658142, 1.80341611,\n",
       "       1.80025635, 1.79710212, 1.79395342, 1.79081024, 1.78767256,\n",
       "       1.78454039, 1.78141369, 1.77829248, 1.77517674, 1.77206645,\n",
       "       1.76896162, 1.76586222, 1.76276826, 1.75967972, 1.75659658,\n",
       "       1.75351885, 1.75044652, 1.74737956, 1.74431798, 1.74126176,\n",
       "       1.7382109 , 1.73516539, 1.73212521, 1.72909035, 1.72606081,\n",
       "       1.72303659, 1.72001766, 1.71700402, 1.71399566, 1.71099257,\n",
       "       1.70799474, 1.70500216, 1.70201483, 1.69903274, 1.69605586,\n",
       "       1.69308421, 1.69011776, 1.6871565 , 1.68420044, 1.68124955,\n",
       "       1.67830384, 1.67536329, 1.67242788, 1.66949763, 1.6665725 ,\n",
       "       1.6636525 , 1.66073762, 1.65782784, 1.65492317, 1.65202358,\n",
       "       1.64912907, 1.64623963, 1.64335526, 1.64047594, 1.63760166,\n",
       "       1.63473242, 1.63186821, 1.62900902, 1.62615483, 1.62330565,\n",
       "       1.62046146, 1.61762225, 1.61478802, 1.61195875, 1.60913444,\n",
       "       1.60631508, 1.60350066, 1.60069117, 1.5978866 , 1.59508694,\n",
       "       1.59229219, 1.58950234, 1.58671738, 1.58393729, 1.58116208,\n",
       "       1.57839173, 1.57562623, 1.57286558, 1.57010976, 1.56735877,\n",
       "       1.56461261, 1.56187125, 1.5591347 , 1.55640294, 1.55367597,\n",
       "       1.55095378, 1.54823635, 1.54552369, 1.54281578, 1.54011262,\n",
       "       1.53741419, 1.53472049, 1.5320315 , 1.52934723, 1.52666767,\n",
       "       1.5239928 , 1.52132261, 1.5186571 , 1.51599627, 1.51334009,\n",
       "       1.51068857, 1.5080417 , 1.50539946, 1.50276185, 1.50012886,\n",
       "       1.49750049, 1.49487672, 1.49225755, 1.48964297, 1.48703297,\n",
       "       1.48442754, 1.48182668, 1.47923037, 1.47663861, 1.4740514 ,\n",
       "       1.47146871, 1.46889056, 1.46631691, 1.46374778, 1.46118315,\n",
       "       1.45862302, 1.45606736, 1.45351619, 1.45096949, 1.44842725,\n",
       "       1.44588946, 1.44335612, 1.44082722, 1.43830275, 1.4357827 ,\n",
       "       1.43326706, 1.43075584, 1.42824901, 1.42574658, 1.42324853,\n",
       "       1.42075486, 1.41826556, 1.41578062, 1.41330003, 1.41082379,\n",
       "       1.40835189, 1.40588432, 1.40342107, 1.40096214, 1.39850751,\n",
       "       1.39605719, 1.39361116, 1.39116942, 1.38873195, 1.38629876,\n",
       "       1.38386983, 1.38144515, 1.37902472, 1.37660853, 1.37419658,\n",
       "       1.37178885, 1.36938534, 1.36698605, 1.36459095, 1.36220005,\n",
       "       1.35981335, 1.35743082, 1.35505247, 1.35267828, 1.35030826,\n",
       "       1.34794238, 1.34558065, 1.34322306, 1.34086961, 1.33852027,\n",
       "       1.33617505, 1.33383394, 1.33149693, 1.32916402, 1.32683519,\n",
       "       1.32451045, 1.32218977, 1.31987317, 1.31756062, 1.31525212,\n",
       "       1.31294767, 1.31064726, 1.30835088, 1.30605852, 1.30377017,\n",
       "       1.30148584, 1.29920551, 1.29692917, 1.29465682, 1.29238846,\n",
       "       1.29012407, 1.28786364, 1.28560718, 1.28335467, 1.2811061 ,\n",
       "       1.27886148, 1.27662079, 1.27438402, 1.27215118, 1.26992224,\n",
       "       1.26769721, 1.26547608, 1.26325885, 1.26104549, 1.25883602,\n",
       "       1.25663041, 1.25442867, 1.25223079, 1.25003676, 1.24784657,\n",
       "       1.24566022, 1.2434777 , 1.241299  , 1.23912413, 1.23695306,\n",
       "       1.2347858 , 1.23262233, 1.23046265, 1.22830676, 1.22615465,\n",
       "       1.2240063 , 1.22186172, 1.2197209 , 1.21758383, 1.2154505 ,\n",
       "       1.21332092, 1.21119506, 1.20907292, 1.20695451, 1.20483981,\n",
       "       1.20272881, 1.20062151, 1.1985179 , 1.19641798, 1.19432174,\n",
       "       1.19222917, 1.19014027, 1.18805502, 1.18597343, 1.18389549,\n",
       "       1.18182119, 1.17975052, 1.17768348, 1.17562007, 1.17356027,\n",
       "       1.17150407, 1.16945148, 1.16740249, 1.16535708, 1.16331526,\n",
       "       1.16127702, 1.15924235, 1.15721124, 1.15518369, 1.1531597 ,\n",
       "       1.15113925, 1.14912234, 1.14710896, 1.14509912, 1.14309279,\n",
       "       1.14108998, 1.13909068, 1.13709488, 1.13510258, 1.13311376,\n",
       "       1.13112844, 1.12914659, 1.12716821, 1.1251933 , 1.12322185,\n",
       "       1.12125386, 1.11928931, 1.11732821, 1.11537054, 1.1134163 ,\n",
       "       1.11146548, 1.10951809, 1.1075741 , 1.10563352, 1.10369634,\n",
       "       1.10176256, 1.09983216, 1.09790515, 1.09598151, 1.09406124,\n",
       "       1.09214434, 1.0902308 , 1.0883206 , 1.08641376, 1.08451026,\n",
       "       1.08261009, 1.08071325, 1.07881973, 1.07692953, 1.07504265,\n",
       "       1.07315907, 1.07127879, 1.0694018 , 1.0675281 , 1.06565769,\n",
       "       1.06379055, 1.06192669, 1.06006609, 1.05820874, 1.05635466,\n",
       "       1.05450382, 1.05265623, 1.05081187, 1.04897074, 1.04713284,\n",
       "       1.04529816, 1.0434667 , 1.04163844, 1.03981339, 1.03799153,\n",
       "       1.03617287, 1.03435739, 1.0325451 , 1.03073598, 1.02893003,\n",
       "       1.02712724, 1.02532761, 1.02353114, 1.02173781, 1.01994762,\n",
       "       1.01816058, 1.01637666, 1.01459587, 1.01281819, 1.01104364,\n",
       "       1.00927219, 1.00750384, 1.0057386 , 1.00397645, 1.00221738,\n",
       "       1.0004614 , 0.99870849, 0.99695865, 0.99521188, 0.99346818,\n",
       "       0.99172752, 0.98998992, 0.98825536, 0.98652384, 0.98479535,\n",
       "       0.98306989, 0.98134746, 0.97962804, 0.97791163, 0.97619824,\n",
       "       0.97448784, 0.97278044, 0.97107604, 0.96937461, 0.96767617,\n",
       "       0.96598071, 0.96428822, 0.96259869, 0.96091212, 0.95922851,\n",
       "       0.95754785, 0.95587013, 0.95419535, 0.95252351, 0.95085459,\n",
       "       0.9491886 , 0.94752553, 0.94586537, 0.94420812, 0.94255378,\n",
       "       0.94090233, 0.93925377, 0.93760811, 0.93596533, 0.93432542,\n",
       "       0.93268839, 0.93105423, 0.92942293, 0.92779449, 0.92616891,\n",
       "       0.92454617, 0.92292627, 0.92130921, 0.91969499, 0.91808359,\n",
       "       0.91647502, 0.91486927, 0.91326632, 0.91166619, 0.91006886,\n",
       "       0.90847433, 0.9068826 , 0.90529365, 0.90370749, 0.9021241 ,\n",
       "       0.90054349, 0.89896565, 0.89739057, 0.89581826, 0.89424869,\n",
       "       0.89268188, 0.89111782, 0.88955649, 0.8879979 , 0.88644204,\n",
       "       0.88488891, 0.88333849, 0.8817908 , 0.88024581, 0.87870354,\n",
       "       0.87716396, 0.87562708, 0.8740929 , 0.8725614 , 0.87103259,\n",
       "       0.86950645, 0.86798299, 0.8664622 , 0.86494407, 0.86342861,\n",
       "       0.86191579, 0.86040563, 0.85889812, 0.85739324, 0.85589101,\n",
       "       0.8543914 , 0.85289442, 0.85140007, 0.84990833, 0.84841921,\n",
       "       0.84693269, 0.84544879, 0.84396748, 0.84248876, 0.84101264,\n",
       "       0.8395391 , 0.83806815, 0.83659977, 0.83513396, 0.83367073,\n",
       "       0.83221005, 0.83075194, 0.82929638, 0.82784337, 0.82639291,\n",
       "       0.82494499, 0.8234996 , 0.82205675, 0.82061642, 0.81917862,\n",
       "       0.81774334, 0.81631058, 0.81488032, 0.81345257, 0.81202732,\n",
       "       0.81060457, 0.80918431, 0.80776654, 0.80635125, 0.80493844,\n",
       "       0.80352811, 0.80212025, 0.80071486, 0.79931193, 0.79791146,\n",
       "       0.79651344, 0.79511787, 0.79372474, 0.79233406, 0.79094581,\n",
       "       0.78955999, 0.78817661, 0.78679565, 0.7854171 , 0.78404097,\n",
       "       0.78266726, 0.78129595, 0.77992704, 0.77856053, 0.77719642,\n",
       "       0.77583469, 0.77447535, 0.77311839, 0.77176382, 0.77041161,\n",
       "       0.76906177, 0.7677143 , 0.76636919, 0.76502643, 0.76368603,\n",
       "       0.76234798, 0.76101227, 0.7596789 , 0.75834787, 0.75701917,\n",
       "       0.7556928 , 0.75436875, 0.75304702, 0.75172761, 0.75041051,\n",
       "       0.74909572, 0.74778323, 0.74647304, 0.74516514, 0.74385954,\n",
       "       0.74255622, 0.74125519, 0.73995644, 0.73865996, 0.73736576,\n",
       "       0.73607382, 0.73478415, 0.73349673, 0.73221158, 0.73092867,\n",
       "       0.72964801, 0.72836959, 0.72709342, 0.72581948, 0.72454777,\n",
       "       0.72327829, 0.72201104, 0.720746  , 0.71948319, 0.71822258,\n",
       "       0.71696418, 0.71570799, 0.714454  , 0.71320221, 0.71195261,\n",
       "       0.7107052 , 0.70945997, 0.70821693, 0.70697606, 0.70573737,\n",
       "       0.70450085, 0.70326649, 0.7020343 , 0.70080427, 0.69957639,\n",
       "       0.69835066, 0.69712708, 0.69590565, 0.69468635, 0.6934692 ,\n",
       "       0.69225417, 0.69104127, 0.6898305 , 0.68862185, 0.68741531])"
      ]
     },
     "execution_count": 33,
     "metadata": {},
     "output_type": "execute_result"
    }
   ],
   "source": [
    "olg.Gov"
   ]
  },
  {
   "cell_type": "code",
   "execution_count": null,
   "metadata": {},
   "outputs": [],
   "source": []
  },
  {
   "cell_type": "code",
   "execution_count": 25,
   "metadata": {},
   "outputs": [],
   "source": [
    "olg.create_guess()"
   ]
  },
  {
   "cell_type": "code",
   "execution_count": 607,
   "metadata": {},
   "outputs": [
    {
     "data": {
      "text/plain": [
       "<matplotlib.legend.Legend at 0x7fe06487efd0>"
      ]
     },
     "execution_count": 607,
     "metadata": {},
     "output_type": "execute_result"
    },
    {
     "data": {
      "image/png": "[encoded data removed]",
      "text/plain": [
       "<Figure size 432x288 with 1 Axes>"
      ]
     },
     "metadata": {
      "needs_background": "light"
     },
     "output_type": "display_data"
    }
   ],
   "source": [
    "plt.plot(olg.l[0,345:249:-1,250], label = \"L\")\n",
    "plt.plot(olg.Pi[0,345:249:-1,250], label = \"Pi\")\n",
    "plt.plot(olg.epsilon[0,345:249:-1,250], label =\"eps\")\n",
    "plt.legend()"
   ]
  },
  {
   "cell_type": "code",
   "execution_count": 509,
   "metadata": {},
   "outputs": [
    {
     "data": {
      "text/plain": [
       "[<matplotlib.lines.Line2D at 0x7fe08e7c7790>]"
      ]
     },
     "execution_count": 509,
     "metadata": {},
     "output_type": "execute_result"
    },
    {
     "data": {
      "image/png": "[encoded data removed]",
      "text/plain": [
       "<Figure size 432x288 with 1 Axes>"
      ]
     },
     "metadata": {
      "needs_background": "light"
     },
     "output_type": "display_data"
    }
   ],
   "source": [
    "plt.plot(olg.Deficit[150:250])"
   ]
  },
  {
   "cell_type": "code",
   "execution_count": 266,
   "metadata": {},
   "outputs": [
    {
     "data": {
      "text/plain": [
       "['A',\n",
       " 'A_growth',\n",
       " 'Assets',\n",
       " 'Consumption',\n",
       " 'D',\n",
       " 'Debt',\n",
       " 'Deficit',\n",
       " 'Deficit_ratio',\n",
       " 'G',\n",
       " 'Gov',\n",
       " 'Gov_Income',\n",
       " 'Gov_Outcome',\n",
       " 'I',\n",
       " 'II_sum',\n",
       " 'I_sum',\n",
       " 'Ins_sum',\n",
       " 'K',\n",
       " 'L',\n",
       " 'L_share',\n",
       " 'Labor',\n",
       " 'M',\n",
       " 'N',\n",
       " 'N_growth',\n",
       " 'Pi',\n",
       " 'Pi_sum',\n",
       " 'Rho_sum',\n",
       " 'T',\n",
       " 'VA_sum',\n",
       " 'Y',\n",
       " '__class__',\n",
       " '__delattr__',\n",
       " '__dict__',\n",
       " '__dir__',\n",
       " '__doc__',\n",
       " '__eq__',\n",
       " '__format__',\n",
       " '__ge__',\n",
       " '__getattribute__',\n",
       " '__gt__',\n",
       " '__hash__',\n",
       " '__init__',\n",
       " '__init_subclass__',\n",
       " '__le__',\n",
       " '__lt__',\n",
       " '__module__',\n",
       " '__ne__',\n",
       " '__new__',\n",
       " '__reduce__',\n",
       " '__reduce_ex__',\n",
       " '__repr__',\n",
       " '__setattr__',\n",
       " '__sizeof__',\n",
       " '__str__',\n",
       " '__subclasshook__',\n",
       " '__weakref__',\n",
       " 'a',\n",
       " 'a_initial',\n",
       " 'alpha',\n",
       " 'beta',\n",
       " 'c',\n",
       " 'create_guess',\n",
       " 'delta',\n",
       " 'epsilon',\n",
       " 'eta',\n",
       " 'gamma',\n",
       " 'household',\n",
       " 'i',\n",
       " 'i_steady',\n",
       " 'k',\n",
       " 'l',\n",
       " 'lmbda',\n",
       " 'lmbda_to_price',\n",
       " 'lmbda_to_price_steady',\n",
       " 'omega',\n",
       " 'phi',\n",
       " 'price',\n",
       " 'price_E',\n",
       " 'price_M',\n",
       " 'price_N',\n",
       " 'psi',\n",
       " 'r',\n",
       " 'rho',\n",
       " 'sigma',\n",
       " 'steady',\n",
       " 'steady_max_iter',\n",
       " 'steady_path',\n",
       " 'steady_state',\n",
       " 'tau_I',\n",
       " 'tau_II',\n",
       " 'tau_Ins',\n",
       " 'tau_VA',\n",
       " 'tau_pi',\n",
       " 'tau_rho',\n",
       " 'theta',\n",
       " 'update_government',\n",
       " 'update_guess',\n",
       " 'w']"
      ]
     },
     "execution_count": 266,
     "metadata": {},
     "output_type": "execute_result"
    }
   ],
   "source": [
    "# dir(olg) I"
   ]
  },
  {
   "cell_type": "code",
   "execution_count": 173,
   "metadata": {
    "pycharm": {
     "name": "#%%\n"
    },
    "scrolled": true
   },
   "outputs": [
    {
     "data": {
      "text/plain": [
       "Text(0.5, 1.0, 'wage adjustment')"
      ]
     },
     "execution_count": 173,
     "metadata": {},
     "output_type": "execute_result"
    },
    {
     "data": {
      "image/png": "[encoded data removed]",
      "text/plain": [
       "<Figure size 432x288 with 1 Axes>"
      ]
     },
     "metadata": {
      "needs_background": "light"
     },
     "output_type": "display_data"
    }
   ],
   "source": [
    "plt.plot([item[1][6] for i, item in enumerate(olg.steady_path)])\n",
    "# plt.plot([item[1][1] for i, item in enumerate(olg.steady_path)])\n",
    "plt.axhline(y=0, color='r', linestyle='-')\n",
    "plt.title(\"wage adjustment\")"
   ]
  },
  {
   "cell_type": "code",
   "execution_count": 174,
   "metadata": {},
   "outputs": [
    {
     "data": {
      "text/plain": [
       "Text(0.5, 1.0, 'Labor')"
      ]
     },
     "execution_count": 174,
     "metadata": {},
     "output_type": "execute_result"
    },
    {
     "data": {
      "image/png": "[encoded data removed]",
      "text/plain": [
       "<Figure size 432x288 with 1 Axes>"
      ]
     },
     "metadata": {
      "needs_background": "light"
     },
     "output_type": "display_data"
    }
   ],
   "source": [
    "plt.plot([item[1][1]*item[1][-2] for i, item in enumerate(olg.steady_path)], label = \"non-export\")\n",
    "plt.plot([(1-item[1][1])*item[1][-2] for i, item in enumerate(olg.steady_path)], label = \"export\")\n",
    "plt.legend()\n",
    "plt.title(\"Labor\")"
   ]
  },
  {
   "cell_type": "code",
   "execution_count": 175,
   "metadata": {},
   "outputs": [
    {
     "data": {
      "text/plain": [
       "Text(0.5, 1.0, 'Capital')"
      ]
     },
     "execution_count": 175,
     "metadata": {},
     "output_type": "execute_result"
    },
    {
     "data": {
      "image/png": "[encoded data removed]",
      "text/plain": [
       "<Figure size 432x288 with 1 Axes>"
      ]
     },
     "metadata": {
      "needs_background": "light"
     },
     "output_type": "display_data"
    }
   ],
   "source": [
    "plt.plot([item[1][0]*item[1][-2] for i, item in enumerate(olg.steady_path)], label = \"non-export\")\n",
    "plt.plot([item[1][2]*item[1][-2] for i, item in enumerate(olg.steady_path)], label = \"export\")\n",
    "plt.legend()\n",
    "plt.title(\"Capital\")"
   ]
  },
  {
   "cell_type": "code",
   "execution_count": 176,
   "metadata": {},
   "outputs": [
    {
     "data": {
      "text/plain": [
       "Text(0.5, 1.0, 'non-export labor share adjustment')"
      ]
     },
     "execution_count": 176,
     "metadata": {},
     "output_type": "execute_result"
    },
    {
     "data": {
      "image/png": "[encoded data removed]",
      "text/plain": [
       "<Figure size 432x288 with 1 Axes>"
      ]
     },
     "metadata": {
      "needs_background": "light"
     },
     "output_type": "display_data"
    }
   ],
   "source": [
    "# plt.plot([item[1][0] for i, item in enumerate(olg.steady_path)])\n",
    "plt.plot([item[1][1] for i, item in enumerate(olg.steady_path)])\n",
    "plt.title(\"non-export labor share adjustment\")"
   ]
  },
  {
   "cell_type": "code",
   "execution_count": 177,
   "metadata": {},
   "outputs": [
    {
     "data": {
      "text/plain": [
       "Text(0.5, 1.0, 'cons adjustment')"
      ]
     },
     "execution_count": 177,
     "metadata": {},
     "output_type": "execute_result"
    },
    {
     "data": {
      "image/png": "[encoded data removed]",
      "text/plain": [
       "<Figure size 432x288 with 1 Axes>"
      ]
     },
     "metadata": {
      "needs_background": "light"
     },
     "output_type": "display_data"
    }
   ],
   "source": [
    "plt.plot([item[1][-3] for i, item in enumerate(olg.steady_path)])\n",
    "plt.title(\"cons adjustment\")"
   ]
  },
  {
   "cell_type": "code",
   "execution_count": 178,
   "metadata": {},
   "outputs": [
    {
     "data": {
      "text/plain": [
       "Text(0.5, 1.0, 'price adjustment')"
      ]
     },
     "execution_count": 178,
     "metadata": {},
     "output_type": "execute_result"
    },
    {
     "data": {
      "image/png": "[encoded data removed]",
      "text/plain": [
       "<Figure size 432x288 with 1 Axes>"
      ]
     },
     "metadata": {
      "needs_background": "light"
     },
     "output_type": "display_data"
    }
   ],
   "source": [
    "plt.plot([item[1][4] for i, item in enumerate(olg.steady_path)], label =\"price\")\n",
    "plt.plot([item[1][5] for i, item in enumerate(olg.steady_path)], label =\"non-export price\")\n",
    "plt.legend()\n",
    "plt.title(\"price adjustment\")"
   ]
  },
  {
   "cell_type": "code",
   "execution_count": 163,
   "metadata": {
    "pycharm": {
     "name": "#%%\n"
    }
   },
   "outputs": [
    {
     "data": {
      "text/plain": [
       "Text(0.5, 1.0, 'Target function')"
      ]
     },
     "execution_count": 163,
     "metadata": {},
     "output_type": "execute_result"
    },
    {
     "data": {
      "image/png": "[encoded data removed]",
      "text/plain": [
       "<Figure size 432x288 with 1 Axes>"
      ]
     },
     "metadata": {
      "needs_background": "light"
     },
     "output_type": "display_data"
    }
   ],
   "source": [
    "import matplotlib.pyplot as plt\n",
    "plt.plot([item[0][\"fun\"] for i, item in enumerate(olg.steady_path)])\n",
    "plt.title(\"Target function\")"
   ]
  },
  {
   "cell_type": "code",
   "execution_count": 164,
   "metadata": {
    "pycharm": {
     "name": "#%%\n"
    }
   },
   "outputs": [
    {
     "data": {
      "text/plain": [
       "Text(0.5, 1.0, 'k')"
      ]
     },
     "execution_count": 164,
     "metadata": {},
     "output_type": "execute_result"
    },
    {
     "data": {
      "image/png": "[encoded data removed]",
      "text/plain": [
       "<Figure size 432x288 with 1 Axes>"
      ]
     },
     "metadata": {
      "needs_background": "light"
     },
     "output_type": "display_data"
    }
   ],
   "source": [
    "plt.plot([item[1][0] for i, item in enumerate(olg.steady_path)], label =\"k N\")\n",
    "plt.plot([item[1][2] for i, item in enumerate(olg.steady_path)], label =\"k E\")\n",
    "plt.legend()\n",
    "plt.title(\"k\")"
   ]
  },
  {
   "cell_type": "code",
   "execution_count": 152,
   "metadata": {},
   "outputs": [
    {
     "data": {
      "text/plain": [
       "Text(0.5, 1.0, 'k non-export adjustment')"
      ]
     },
     "execution_count": 152,
     "metadata": {},
     "output_type": "execute_result"
    },
    {
     "data": {
      "image/png": "[encoded data removed]",
      "text/plain": [
       "<Figure size 432x288 with 1 Axes>"
      ]
     },
     "metadata": {
      "needs_background": "light"
     },
     "output_type": "display_data"
    }
   ],
   "source": [
    "plt.plot([item[1][1] for i, item in enumerate(olg.steady_path)], label =\"N labor share\")\n",
    "plt.legend()\n",
    "plt.title(\"labor share\")"
   ]
  },
  {
   "cell_type": "code",
   "execution_count": 279,
   "metadata": {
    "pycharm": {
     "name": "#%%\n"
    }
   },
   "outputs": [
    {
     "data": {
      "text/plain": [
       "(     fun: 497133.5107400712\n",
       "     info: {'x': array([ 6.50888420e+00,  7.89066419e+02,  3.67245615e+04, -8.85181784e-03,\n",
       "         2.52521567e+01,  3.05824304e+03,  5.72445545e+04,  3.73356679e-02,\n",
       "         1.81871797e-01,  2.67263830e-08,  2.11897026e-02]), 'g': array([], dtype=float64), 'obj_val': 497133.5107400712, 'mult_g': array([], dtype=float64), 'mult_x_L': array([0., 0., 0., 0., 0., 0., 0., 0., 0., 0., 0.]), 'mult_x_U': array([0., 0., 0., 0., 0., 0., 0., 0., 0., 0., 0.]), 'status': -3, 'status_msg': b'An unrecoverable error occurred while Ipopt tried to compute the search direction.'}\n",
       "  message: b'An unrecoverable error occurred while Ipopt tried to compute the search direction.'\n",
       "     nfev: 629\n",
       "      nit: 21\n",
       "     njev: 25\n",
       "   status: -3\n",
       "  success: False\n",
       "        x: array([ 6.50888420e+00,  7.89066419e+02,  3.67245615e+04, -8.85181784e-03,\n",
       "         2.52521567e+01,  3.05824304e+03,  5.72445545e+04,  3.73356679e-02,\n",
       "         1.81871797e-01,  2.67263830e-08,  2.11897026e-02]),\n",
       " array([ 6.50888420e+00,  7.89066419e+02,  3.67245615e+04, -8.85181784e-03,\n",
       "         2.52521567e+01,  3.05824304e+03,  5.72445545e+04,  3.73356679e-02,\n",
       "         1.81871797e-01,  1.27880340e-07,  2.11357024e-02,  1.34896231e+10,\n",
       "         9.32640416e+04, -2.74112479e+05]))"
      ]
     },
     "execution_count": 279,
     "metadata": {},
     "output_type": "execute_result"
    }
   ],
   "source": [
    "olg.steady_path[-4]\n",
    "# единственный выход это потребление тоже менять с eta"
   ]
  },
  {
   "cell_type": "code",
   "execution_count": 38,
   "metadata": {
    "pycharm": {
     "name": "#%%\n"
    }
   },
   "outputs": [
    {
     "data": {
      "text/plain": [
       "[<matplotlib.lines.Line2D at 0x7f798456bc10>]"
      ]
     },
     "execution_count": 38,
     "metadata": {},
     "output_type": "execute_result"
    },
    {
     "data": {
      "image/png": "[encoded data removed]",
      "text/plain": [
       "<Figure size 432x288 with 1 Axes>"
      ]
     },
     "metadata": {
      "needs_background": "light"
     },
     "output_type": "display_data"
    }
   ],
   "source": [
    "import matplotlib.pyplot as plt\n",
    "plt.plot(olg.w)"
   ]
  },
  {
   "cell_type": "code",
   "execution_count": 39,
   "metadata": {},
   "outputs": [
    {
     "data": {
      "text/plain": [
       "array([1.42600744e-05, 1.42507980e-05, 1.42414996e-05, 1.42321791e-05,\n",
       "       1.42228363e-05, 1.42134710e-05, 1.42040831e-05, 1.41946724e-05,\n",
       "       1.41852387e-05, 1.41757819e-05, 1.41663018e-05, 1.41567982e-05,\n",
       "       1.41472709e-05, 1.41377198e-05, 1.41281447e-05, 1.41185453e-05,\n",
       "       1.41089216e-05, 1.40992733e-05, 1.40896002e-05, 1.40799021e-05,\n",
       "       1.40701790e-05, 1.40604305e-05, 1.40506564e-05, 1.40408566e-05,\n",
       "       1.40310309e-05, 1.40211791e-05, 1.40113009e-05, 1.40013962e-05,\n",
       "       1.39914647e-05, 1.39815062e-05, 1.39715206e-05, 1.39615076e-05,\n",
       "       1.39514670e-05, 1.39413985e-05, 1.39313020e-05, 1.39211772e-05,\n",
       "       1.39110239e-05, 1.39008419e-05, 1.38906309e-05, 1.38803907e-05,\n",
       "       1.38701211e-05, 1.38598218e-05, 1.38494926e-05, 1.38391332e-05,\n",
       "       1.38287434e-05, 1.38183229e-05, 1.38078715e-05, 1.37973889e-05,\n",
       "       1.37868749e-05, 1.37763292e-05, 1.37657516e-05, 1.37551417e-05,\n",
       "       1.37444993e-05, 1.37338241e-05, 1.37231159e-05, 1.37123743e-05,\n",
       "       1.37015991e-05, 1.36907900e-05, 1.36799467e-05, 1.36690689e-05,\n",
       "       1.36581563e-05, 1.36472087e-05, 1.36362256e-05, 1.36252068e-05,\n",
       "       1.36141520e-05, 1.36030609e-05, 1.35919331e-05, 1.35807684e-05,\n",
       "       1.35695663e-05, 1.35583266e-05, 1.35470489e-05, 1.35357329e-05,\n",
       "       1.35243783e-05, 1.35129847e-05, 1.35015517e-05, 1.34900790e-05,\n",
       "       1.34785662e-05, 1.34670130e-05, 1.34554190e-05, 1.34437838e-05,\n",
       "       1.34321070e-05, 1.34203883e-05, 1.34086273e-05, 1.33968235e-05,\n",
       "       1.33849766e-05, 1.33730862e-05, 1.33611518e-05, 1.33491731e-05,\n",
       "       1.33371496e-05, 1.33250809e-05, 1.33129666e-05, 1.33008062e-05,\n",
       "       1.32885993e-05, 1.32763455e-05, 1.32640442e-05, 1.32516951e-05,\n",
       "       1.32392976e-05, 1.32268513e-05, 1.32143558e-05, 1.32018104e-05,\n",
       "       1.31892148e-05, 1.31765685e-05, 1.31638708e-05, 1.31511214e-05,\n",
       "       1.31383197e-05, 1.31254652e-05, 1.31125573e-05, 1.30995956e-05,\n",
       "       1.30865793e-05, 1.30735081e-05, 1.30603813e-05, 1.30471984e-05,\n",
       "       1.30339587e-05, 1.30206618e-05, 1.30073069e-05, 1.29938935e-05,\n",
       "       1.29804211e-05, 1.29668888e-05, 1.29532962e-05, 1.29396426e-05,\n",
       "       1.29259273e-05, 1.29121497e-05, 1.28983091e-05, 1.28844048e-05,\n",
       "       1.28704361e-05, 1.28564024e-05, 1.28423029e-05, 1.28281369e-05,\n",
       "       1.28139037e-05, 1.27996025e-05, 1.27852326e-05, 1.27707932e-05,\n",
       "       1.27562835e-05, 1.27417027e-05, 1.27270501e-05, 1.27123248e-05,\n",
       "       1.26975260e-05, 1.26826528e-05, 1.26677045e-05, 1.26526800e-05,\n",
       "       1.26375787e-05, 1.26223994e-05, 1.26071414e-05, 1.25918038e-05,\n",
       "       1.25763854e-05, 1.25608856e-05, 1.25453031e-05, 1.25296372e-05,\n",
       "       1.25138866e-05, 1.24980506e-05, 1.24821279e-05, 1.24661175e-05,\n",
       "       1.24500185e-05, 1.24338296e-05, 1.24175497e-05, 2.14082721e-02,\n",
       "       2.14082721e-02, 2.14082721e-02, 2.14082721e-02, 2.14082721e-02,\n",
       "       2.14082721e-02, 2.14082721e-02, 2.14082721e-02, 2.14082721e-02,\n",
       "       2.14082721e-02, 2.14082721e-02, 2.14082721e-02, 2.14082721e-02,\n",
       "       2.14082721e-02, 2.14082721e-02, 2.14082721e-02, 2.14082721e-02,\n",
       "       2.14082721e-02, 2.14082721e-02, 2.14082721e-02, 2.14082721e-02,\n",
       "       2.14082721e-02, 2.14082721e-02, 2.14082721e-02, 2.14082721e-02,\n",
       "       2.14082721e-02, 2.14082721e-02, 2.14082721e-02, 2.14082721e-02,\n",
       "       2.14082721e-02, 2.14082721e-02, 2.14082721e-02, 2.14082721e-02,\n",
       "       2.14082721e-02, 2.14082721e-02, 2.14082721e-02, 2.14082721e-02,\n",
       "       2.14082721e-02, 2.14082721e-02, 2.14082721e-02, 2.14082721e-02,\n",
       "       2.14082721e-02, 2.14082721e-02, 2.14082721e-02, 2.14082721e-02,\n",
       "       2.14082721e-02, 2.14082721e-02, 2.14082721e-02, 2.14082721e-02,\n",
       "       2.14082721e-02, 2.14082721e-02, 2.14082721e-02, 2.14082721e-02,\n",
       "       2.14082721e-02, 2.14082721e-02, 2.14082721e-02, 2.14082721e-02,\n",
       "       2.14082721e-02, 2.14082721e-02, 2.14082721e-02, 2.14082721e-02,\n",
       "       2.14082721e-02, 2.14082721e-02, 2.14082721e-02, 2.14082721e-02,\n",
       "       2.14082721e-02, 2.14082721e-02, 2.14082721e-02, 2.14082721e-02,\n",
       "       2.14082721e-02, 2.14082721e-02, 2.14082721e-02, 2.14082721e-02,\n",
       "       2.14082721e-02, 2.14082721e-02, 2.14082721e-02, 2.14082721e-02,\n",
       "       2.14082721e-02, 2.14082721e-02, 2.14082721e-02, 2.14082721e-02,\n",
       "       2.14082721e-02, 2.14082721e-02, 2.14082721e-02, 2.14082721e-02,\n",
       "       2.14082721e-02, 2.14082721e-02, 2.14082721e-02, 2.14082721e-02,\n",
       "       2.14082721e-02, 2.14082721e-02, 2.14082721e-02, 2.14082721e-02,\n",
       "       2.14082721e-02, 2.14082721e-02, 2.14082721e-02, 2.14082721e-02,\n",
       "       2.14082721e-02, 2.14082721e-02, 2.14082721e-02, 2.14082721e-02,\n",
       "       2.14082721e-02, 2.14082721e-02, 2.14082721e-02, 2.14082721e-02,\n",
       "       2.14082721e-02, 2.14082721e-02, 2.14082721e-02, 2.14082721e-02,\n",
       "       2.14082721e-02, 2.14082721e-02, 2.14082721e-02, 2.14082721e-02,\n",
       "       2.14082721e-02, 2.14082721e-02, 2.14082721e-02, 2.14082721e-02,\n",
       "       2.14082721e-02, 2.14082721e-02, 2.14082721e-02, 2.14082721e-02,\n",
       "       2.14082721e-02, 2.14082721e-02, 2.14082721e-02, 2.14082721e-02,\n",
       "       2.14082721e-02, 2.14082721e-02, 2.14082721e-02, 2.14082721e-02,\n",
       "       2.14082721e-02, 2.14082721e-02, 2.14082721e-02, 2.14082721e-02,\n",
       "       2.14082721e-02, 2.14082721e-02, 2.14082721e-02, 2.14082721e-02,\n",
       "       2.14082721e-02, 2.14082721e-02, 2.14082721e-02, 2.14082721e-02,\n",
       "       2.14082721e-02, 2.14082721e-02, 2.14082721e-02, 2.14082721e-02,\n",
       "       2.14082721e-02, 2.14082721e-02, 2.14082721e-02, 2.14082721e-02,\n",
       "       2.14082721e-02, 2.14082721e-02, 2.14082721e-02, 2.14082721e-02,\n",
       "       2.14082721e-02, 2.14082721e-02, 2.14082721e-02, 2.14082721e-02,\n",
       "       2.14082721e-02, 2.14082721e-02, 2.14082721e-02, 2.14082721e-02,\n",
       "       2.14082721e-02, 2.14082721e-02, 2.14082721e-02, 2.14082721e-02,\n",
       "       2.14082721e-02, 2.14082721e-02, 2.14082721e-02, 2.14082721e-02,\n",
       "       2.14082721e-02, 2.14082721e-02, 2.14082721e-02, 2.14082721e-02,\n",
       "       2.14082721e-02, 2.14082721e-02, 2.14082721e-02, 2.14082721e-02,\n",
       "       2.14082721e-02, 2.14082721e-02, 2.14082721e-02, 2.14082721e-02,\n",
       "       2.14082721e-02, 2.14082721e-02, 2.14082721e-02, 2.14082721e-02,\n",
       "       2.14082721e-02, 2.14082721e-02, 2.14082721e-02, 2.14082721e-02,\n",
       "       2.14082721e-02, 2.14082721e-02, 2.14082721e-02, 2.14082721e-02,\n",
       "       2.14082721e-02, 2.14082721e-02, 2.14082721e-02, 2.14082721e-02,\n",
       "       2.14082721e-02, 2.14082721e-02, 2.14082721e-02, 2.14082721e-02,\n",
       "       2.14082721e-02, 2.14082721e-02, 2.14082721e-02, 2.14082721e-02,\n",
       "       2.14082721e-02, 2.14082721e-02, 2.14082721e-02, 2.14082721e-02,\n",
       "       2.14082721e-02, 2.14082721e-02, 2.14082721e-02, 2.14082721e-02,\n",
       "       2.14082721e-02, 2.14082721e-02, 2.14082721e-02, 2.14082721e-02,\n",
       "       2.14082721e-02, 2.14082721e-02, 2.14082721e-02, 2.14082721e-02,\n",
       "       2.14082721e-02, 2.14082721e-02, 2.14082721e-02, 2.14082721e-02,\n",
       "       2.14082721e-02, 2.14082721e-02, 2.14082721e-02, 2.14082721e-02,\n",
       "       2.14082721e-02, 2.14082721e-02, 2.14082721e-02, 2.14082721e-02,\n",
       "       2.14082721e-02, 2.14082721e-02, 2.14082721e-02, 2.14082721e-02,\n",
       "       2.14082721e-02, 2.14082721e-02, 2.14082721e-02, 2.14082721e-02,\n",
       "       2.14082721e-02, 2.14082721e-02, 2.14082721e-02, 2.14082721e-02,\n",
       "       2.14082721e-02, 2.14082721e-02, 2.14082721e-02, 2.14082721e-02,\n",
       "       2.14082721e-02, 2.14082721e-02, 2.14082721e-02, 2.14082721e-02,\n",
       "       2.14082721e-02, 2.14082721e-02, 2.14082721e-02, 2.14082721e-02,\n",
       "       2.14082721e-02, 2.14082721e-02, 2.14082721e-02, 2.14082721e-02,\n",
       "       2.14082721e-02, 2.14082721e-02, 2.14082721e-02, 2.14082721e-02,\n",
       "       2.14082721e-02, 2.14082721e-02, 2.14082721e-02, 2.14082721e-02,\n",
       "       2.14082721e-02, 2.14082721e-02, 2.14082721e-02, 2.14082721e-02,\n",
       "       2.14082721e-02, 2.14082721e-02, 2.14082721e-02, 2.14082721e-02,\n",
       "       2.14082721e-02, 2.14082721e-02, 2.14082721e-02, 2.14082721e-02,\n",
       "       2.14082721e-02, 2.14082721e-02, 2.14082721e-02, 2.14082721e-02,\n",
       "       2.14082721e-02, 2.14082721e-02, 2.14082721e-02, 2.14082721e-02,\n",
       "       2.14082721e-02, 2.14082721e-02, 2.14082721e-02, 2.14082721e-02,\n",
       "       2.14082721e-02, 2.14082721e-02, 2.14082721e-02, 2.14082721e-02,\n",
       "       2.14082721e-02, 2.14082721e-02, 2.14082721e-02, 2.14082721e-02,\n",
       "       2.14082721e-02, 2.14082721e-02, 2.14082721e-02, 2.14082721e-02,\n",
       "       2.14082721e-02, 2.14082721e-02, 2.14082721e-02, 2.14082721e-02,\n",
       "       2.14082721e-02, 2.14082721e-02, 2.14082721e-02, 2.14082721e-02,\n",
       "       2.14082721e-02, 2.14082721e-02, 2.14082721e-02, 2.14082721e-02,\n",
       "       2.14082721e-02, 2.14082721e-02, 2.14082721e-02, 2.14082721e-02,\n",
       "       2.14082721e-02, 2.14082721e-02, 2.14082721e-02, 2.14082721e-02,\n",
       "       2.14082721e-02, 2.14082721e-02, 2.14082721e-02, 2.14082721e-02,\n",
       "       2.14082721e-02, 2.14082721e-02, 2.14082721e-02, 2.14082721e-02,\n",
       "       2.14082721e-02, 2.14082721e-02, 2.14082721e-02, 2.14082721e-02,\n",
       "       2.14082721e-02, 2.14082721e-02, 2.14082721e-02, 2.14082721e-02,\n",
       "       2.14082721e-02, 2.14082721e-02, 2.14082721e-02, 2.14082721e-02,\n",
       "       2.14082721e-02, 2.14082721e-02, 2.14082721e-02, 2.14082721e-02,\n",
       "       2.14082721e-02, 2.14082721e-02, 2.14082721e-02, 2.14082721e-02,\n",
       "       2.14082721e-02, 2.14082721e-02, 2.14082721e-02, 2.14082721e-02,\n",
       "       2.14082721e-02, 2.14082721e-02, 2.14082721e-02, 2.14082721e-02,\n",
       "       2.14082721e-02, 2.14082721e-02, 2.14082721e-02, 2.14082721e-02,\n",
       "       2.14082721e-02, 2.14082721e-02, 2.14082721e-02, 2.14082721e-02,\n",
       "       2.14082721e-02, 2.14082721e-02, 2.14082721e-02, 2.14082721e-02,\n",
       "       2.14082721e-02, 2.14082721e-02, 2.14082721e-02, 2.14082721e-02,\n",
       "       2.14082721e-02, 2.14082721e-02, 2.14082721e-02, 2.14082721e-02,\n",
       "       2.14082721e-02, 2.14082721e-02, 2.14082721e-02, 2.14082721e-02,\n",
       "       2.14082721e-02, 2.14082721e-02, 2.14082721e-02, 2.14082721e-02,\n",
       "       2.14082721e-02, 2.14082721e-02, 2.14082721e-02, 2.14082721e-02,\n",
       "       2.14082721e-02, 2.14082721e-02, 2.14082721e-02, 2.14082721e-02,\n",
       "       2.14082721e-02, 2.14082721e-02, 2.14082721e-02, 2.14082721e-02,\n",
       "       2.14082721e-02, 2.14082721e-02, 2.14082721e-02, 2.14082721e-02,\n",
       "       2.14082721e-02, 2.14082721e-02, 2.14082721e-02, 2.14082721e-02,\n",
       "       2.14082721e-02, 2.14082721e-02, 2.14082721e-02, 2.14082721e-02,\n",
       "       2.14082721e-02, 2.14082721e-02, 2.14082721e-02, 2.14082721e-02,\n",
       "       2.14082721e-02, 2.14082721e-02, 2.14082721e-02, 2.14082721e-02,\n",
       "       2.14082721e-02, 2.14082721e-02, 2.14082721e-02, 2.14082721e-02,\n",
       "       2.14082721e-02, 2.14082721e-02, 2.14082721e-02, 2.14082721e-02,\n",
       "       2.14082721e-02, 2.14082721e-02, 2.14082721e-02, 2.14082721e-02,\n",
       "       2.14082721e-02, 2.14082721e-02, 2.14082721e-02, 2.14082721e-02,\n",
       "       2.14082721e-02, 2.14082721e-02, 2.14082721e-02, 2.14082721e-02,\n",
       "       2.14082721e-02, 2.14082721e-02, 2.14082721e-02, 2.14082721e-02,\n",
       "       2.14082721e-02, 2.14082721e-02, 2.14082721e-02, 2.14082721e-02,\n",
       "       2.14082721e-02, 2.14082721e-02, 2.14082721e-02, 2.14082721e-02,\n",
       "       2.14082721e-02, 2.14082721e-02])"
      ]
     },
     "execution_count": 39,
     "metadata": {},
     "output_type": "execute_result"
    }
   ],
   "source": [
    "olg.w"
   ]
  },
  {
   "cell_type": "code",
   "execution_count": 606,
   "metadata": {
    "pycharm": {
     "name": "#%%\n"
    }
   },
   "outputs": [
    {
     "data": {
      "text/plain": [
       "[<matplotlib.lines.Line2D at 0x2e65210a490>]"
      ]
     },
     "execution_count": 606,
     "metadata": {},
     "output_type": "execute_result"
    },
    {
     "data": {
      "image/png": "[encoded data removed]",
      "text/plain": [
       "<Figure size 432x288 with 1 Axes>"
      ]
     },
     "metadata": {
      "needs_background": "light"
     },
     "output_type": "display_data"
    }
   ],
   "source": [
    "# plt.plot(olg.c[0][345-30,(250-30):(345-30)]) # труд у дрпугих неправильно рассчитывается?\n",
    "# plt.plot(olg.l[0][345-30,(250-30):(345-30)])\n"
   ]
  },
  {
   "cell_type": "code",
   "execution_count": 43,
   "metadata": {
    "pycharm": {
     "name": "#%%\n"
    }
   },
   "outputs": [
    {
     "data": {
      "text/plain": [
       "1.3201810425347083e-05"
      ]
     },
     "execution_count": 43,
     "metadata": {},
     "output_type": "execute_result"
    }
   ],
   "source": [
    "olg.w[99]"
   ]
  },
  {
   "cell_type": "code",
   "execution_count": 25,
   "metadata": {
    "pycharm": {
     "name": "#%%\n"
    }
   },
   "outputs": [
    {
     "data": {
      "image/png": "[encoded data removed]",
      "text/plain": [
       "<Figure size 432x288 with 1 Axes>"
      ]
     },
     "metadata": {
      "needs_background": "light"
     },
     "output_type": "display_data"
    }
   ],
   "source": [
    "# plt.plot(olg.l[0][260,165:260], label= \"labor\")\n",
    "# plt.plot(olg.c[0][260,165:260], label = \"consumption\")\n",
    "plt.plot(olg.a[0][260,165:260], label = \"assets\")\n",
    "# plt.plot((olg.c[0][260,165:260]**olg.phi * (1-olg.l[0][260,165:260])**(1-olg.phi))**(1-olg.theta)/(1-olg.theta), label = \"utility\")\n",
    "plt.show()"
   ]
  },
  {
   "cell_type": "code",
   "execution_count": 614,
   "metadata": {
    "pycharm": {
     "name": "#%%\n"
    }
   },
   "outputs": [
    {
     "data": {
      "text/plain": [
       "Text(0.5, 1.0, 'Wage path')"
      ]
     },
     "execution_count": 614,
     "metadata": {},
     "output_type": "execute_result"
    },
    {
     "data": {
      "image/png": "[encoded data removed]",
      "text/plain": [
       "<Figure size 432x288 with 1 Axes>"
      ]
     },
     "metadata": {
      "needs_background": "light"
     },
     "output_type": "display_data"
    }
   ],
   "source": [
    "plt.plot([item[0][\"info\"][\"x\"][8] for i, item in enumerate(olg.steady_path)if i != 1] [0:])\n",
    "plt.title(\"Wage path\")"
   ]
  },
  {
   "cell_type": "code",
   "execution_count": 615,
   "metadata": {
    "pycharm": {
     "name": "#%%\n"
    }
   },
   "outputs": [
    {
     "data": {
      "text/plain": [
       "Text(0.5, 1.0, 'Price N path')"
      ]
     },
     "execution_count": 615,
     "metadata": {},
     "output_type": "execute_result"
    },
    {
     "data": {
      "image/png": "[encoded data removed]",
      "text/plain": [
       "<Figure size 432x288 with 1 Axes>"
      ]
     },
     "metadata": {
      "needs_background": "light"
     },
     "output_type": "display_data"
    }
   ],
   "source": [
    "plt.plot([item[0][\"info\"][\"x\"][10] for item in olg.steady_path][0:])\n",
    "plt.title(\"Price N path\")"
   ]
  },
  {
   "cell_type": "code",
   "execution_count": null,
   "metadata": {
    "pycharm": {
     "name": "#%%\n"
    }
   },
   "outputs": [],
   "source": [
    "import matplotlib.pyplot as plt\n",
    "# plt.plot((((olg.c[:,:610,:]*olg.N[:,:610,:]).sum(axis=0).sum(axis=0))/olg.N[:,:610,:].sum(axis=0).sum(axis=0))[:150])\n",
    "# plt.plot((((olg.a[:,:610,:]*olg.N[:,:610,:]).sum(axis=0).sum(axis=0))/olg.N[:,:610,:].sum(axis=0).sum(axis=0))[:150])\n",
    "plt.plot((((olg.l[:,:610,:]*olg.N[:,:610,:]).sum(axis=0).sum(axis=0))/olg.N[:,:610,:].sum(axis=0).sum(axis=0))[:250])\n",
    "# plt.plot(olg.I[0,:100]/olg.N[0].sum(axis=0)[:100])\n",
    "# plt.plot((olg.l[0,:250]*olg.N[0,:250]).sum(axis=0)/(olg.N[0,:250].sum(axis=0)))\n",
    "plt.show()"
   ]
  },
  {
   "cell_type": "code",
   "execution_count": null,
   "metadata": {
    "pycharm": {
     "name": "#%%\n"
    }
   },
   "outputs": [],
   "source": [
    "plt.plot(olg.I[0,1:100]/olg.I[0,0:99])"
   ]
  },
  {
   "cell_type": "code",
   "execution_count": 616,
   "metadata": {
    "pycharm": {
     "name": "#%%\n"
    }
   },
   "outputs": [
    {
     "data": {
      "text/plain": [
       "[<matplotlib.lines.Line2D at 0x2e652135ee0>]"
      ]
     },
     "execution_count": 616,
     "metadata": {},
     "output_type": "execute_result"
    },
    {
     "data": {
      "image/png": "[encoded data removed]",
      "text/plain": [
       "<Figure size 432x288 with 1 Axes>"
      ]
     },
     "metadata": {
      "needs_background": "light"
     },
     "output_type": "display_data"
    }
   ],
   "source": [
    "plt.plot(olg.L[0][:200]+olg.L[1][:200])\n",
    "plt.plot(((olg.l[:,:610,:]*olg.N[:,:610,:]*olg.epsilon[:,:610,:]).sum(axis=0).sum(axis=0))[:200])"
   ]
  },
  {
   "cell_type": "code",
   "execution_count": 331,
   "metadata": {
    "pycharm": {
     "name": "#%%\n"
    }
   },
   "outputs": [
    {
     "data": {
      "text/plain": [
       "array([170000., 170000., 170000., 170000., 170000., 170000., 170000.,\n",
       "       170000., 170000., 170000., 170000., 170000., 170000., 170000.,\n",
       "       170000., 170000., 170000., 170000., 170000., 170000., 170000.,\n",
       "       170000., 170000., 170000., 170000., 170000., 170000., 170000.,\n",
       "       170000., 170000., 170000., 170000., 170000., 170000., 170000.,\n",
       "       170000., 170000., 170000., 170000., 170000., 170000., 170000.,\n",
       "       170000., 170000., 170000., 170000., 170000., 170000., 170000.,\n",
       "       170000., 170000., 170000., 170000., 170000., 170000., 170000.,\n",
       "       170000., 170000., 170000., 170000., 170000., 170000., 170000.,\n",
       "       170000., 170000., 170000., 170000., 170000., 170000., 170000.,\n",
       "       170000., 170000., 170000., 170000., 170000., 170000., 170000.,\n",
       "       170000., 170000., 170000., 170000., 170000., 170000., 170000.,\n",
       "       170000., 170000., 170000., 170000., 170000., 170000., 170000.,\n",
       "       170000., 170000., 170000., 170000., 170000., 170000., 170000.,\n",
       "       170000., 170000., 170000., 170000., 170000., 170000., 170000.,\n",
       "       170000., 170000., 170000., 170000., 170000., 170000., 170000.,\n",
       "       170000., 170000., 170000., 170000., 170000., 170000., 170000.,\n",
       "       170000., 170000., 170000., 170000., 170000., 170000., 170000.,\n",
       "       170000., 170000., 170000., 170000., 170000., 170000., 170000.,\n",
       "       170000., 170000., 170000., 170000., 170000., 170000., 170000.,\n",
       "       170000., 170000., 170000., 170000., 170000., 170000., 170000.,\n",
       "       170000., 170000., 170000., 170000., 170000., 170000., 170000.,\n",
       "       170000., 170000., 170000., 170000., 170000., 170000., 170000.,\n",
       "       170000., 170000., 170000., 170000., 170000., 170000., 170000.,\n",
       "       170000., 170000., 170000., 170000., 170000., 170000., 170000.,\n",
       "       170000., 170000., 170000., 170000., 170000., 170000., 170000.,\n",
       "       170000., 170000., 170000., 170000., 170000., 170000., 170000.,\n",
       "       170000., 170000., 170000., 170000., 170000., 170000., 170000.,\n",
       "       170000., 170000., 170000., 170000.])"
      ]
     },
     "execution_count": 331,
     "metadata": {},
     "output_type": "execute_result"
    }
   ],
   "source": [
    "olg.L[0][:200]+olg.L[1][:200]"
   ]
  },
  {
   "cell_type": "code",
   "execution_count": 332,
   "metadata": {
    "pycharm": {
     "name": "#%%\n"
    }
   },
   "outputs": [
    {
     "data": {
      "text/plain": [
       "[<matplotlib.lines.Line2D at 0x2e65345fe50>]"
      ]
     },
     "execution_count": 332,
     "metadata": {},
     "output_type": "execute_result"
    },
    {
     "data": {
      "image/png": "[encoded data removed]",
      "text/plain": [
       "<Figure size 432x288 with 1 Axes>"
      ]
     },
     "metadata": {
      "needs_background": "light"
     },
     "output_type": "display_data"
    }
   ],
   "source": [
    "plt.plot((olg.K[0]/olg.L[0])[:100])"
   ]
  },
  {
   "cell_type": "code",
   "execution_count": 44,
   "metadata": {
    "pycharm": {
     "name": "#%%\n"
    }
   },
   "outputs": [
    {
     "data": {
      "text/plain": [
       "[<matplotlib.lines.Line2D at 0x7f798443ce80>]"
      ]
     },
     "execution_count": 44,
     "metadata": {},
     "output_type": "execute_result"
    },
    {
     "data": {
      "image/png": "[encoded data removed]",
      "text/plain": [
       "<Figure size 432x288 with 1 Axes>"
      ]
     },
     "metadata": {
      "needs_background": "light"
     },
     "output_type": "display_data"
    }
   ],
   "source": [
    "plt.plot(olg.a[0][100][:100])"
   ]
  },
  {
   "cell_type": "code",
   "execution_count": 45,
   "metadata": {
    "pycharm": {
     "name": "#%%\n"
    }
   },
   "outputs": [
    {
     "data": {
      "text/plain": [
       "[<matplotlib.lines.Line2D at 0x7f798458bc40>]"
      ]
     },
     "execution_count": 45,
     "metadata": {},
     "output_type": "execute_result"
    },
    {
     "data": {
      "image/png": "[encoded data removed]",
      "text/plain": [
       "<Figure size 432x288 with 1 Axes>"
      ]
     },
     "metadata": {
      "needs_background": "light"
     },
     "output_type": "display_data"
    }
   ],
   "source": [
    "plt.plot(olg.price_N)"
   ]
  },
  {
   "cell_type": "code",
   "execution_count": 54,
   "metadata": {},
   "outputs": [
    {
     "data": {
      "text/plain": [
       "1.2925927310610548e-05"
      ]
     },
     "execution_count": 54,
     "metadata": {},
     "output_type": "execute_result"
    }
   ],
   "source": [
    "olg.w[120]"
   ]
  },
  {
   "cell_type": "code",
   "execution_count": 49,
   "metadata": {
    "pycharm": {
     "name": "#%%\n"
    }
   },
   "outputs": [
    {
     "data": {
      "text/plain": [
       "[<matplotlib.lines.Line2D at 0x7f798419cb20>]"
      ]
     },
     "execution_count": 49,
     "metadata": {},
     "output_type": "execute_result"
    },
    {
     "data": {
      "image/png": "[encoded data removed]",
      "text/plain": [
       "<Figure size 432x288 with 1 Axes>"
      ]
     },
     "metadata": {
      "needs_background": "light"
     },
     "output_type": "display_data"
    }
   ],
   "source": [
    "plt.plot(olg.w[100])"
   ]
  }
 ],
 "metadata": {
  "kernelspec": {
   "display_name": "olg",
   "language": "python",
   "name": "olg"
  },
  "language_info": {
   "codemirror_mode": {
    "name": "ipython",
    "version": 3
   },
   "file_extension": ".py",
   "mimetype": "text/x-python",
   "name": "python",
   "nbconvert_exporter": "python",
   "pygments_lexer": "ipython3",
   "version": "3.8.10"
  }
 },
 "nbformat": 4,
 "nbformat_minor": 1
}
