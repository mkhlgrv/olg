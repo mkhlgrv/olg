{
 "cells": [
  {
   "cell_type": "code",
   "execution_count": 47,
   "metadata": {
    "pycharm": {
     "name": "#%%\n"
    }
   },
   "outputs": [],
   "source": [
    "import pandas as pd\n",
    "from scipy.optimize import fsolve\n",
    "import numpy as np\n",
    "import itertools\n",
    "import copy\n",
    "from cyipopt import minimize_ipopt\n",
    "import warnings\n",
    "import matplotlib.pyplot as plt\n",
    "from jax.config import config\n",
    "# Enable 64 bit floating point precision\n",
    "config.update(\"jax_enable_x64\", True)\n",
    "\n",
    "# We use the CPU instead of GPU und mute all warnings if no GPU/TPU is found.\n",
    "config.update('jax_platform_name', 'cpu')\n",
    "\n",
    "# import jax.numpy as np\n",
    "from jax import jit, grad, jacfwd, jacrev\n",
    "from tqdm.contrib.telegram import tqdm, trange\n",
    "from dotenv import load_dotenv\n",
    "import os\n",
    "\n",
    "from bob_telegram_tools.bot import TelegramBot\n",
    "load_dotenv()\n",
    "import pyreadr\n",
    "import numpy as np\n",
    "import pickle\n",
    "import pandas as pd\n",
    "import statsmodels.api as sm"
   ]
  },
  {
   "cell_type": "code",
   "execution_count": 48,
   "metadata": {},
   "outputs": [],
   "source": [
    "# # without migrants\n",
    "# non_migration = {name:np.array(pyreadr.read_r(f\"{name}_non_migration.Rda\")[f\"{name}_nm\"]) \n",
    "#                  for name in [\"N_female\", \"N_male\"]}\n",
    "# demography_in_model = np.array([[val if (111-g+t <=80) and (111-g+t>20) else 0 for g, val in enumerate(row)]\n",
    "#  for t,row in enumerate(non_migration['N_female'])])\n",
    "# Pi = (demography_in_model/demography_in_model.max(axis=0))\n",
    "# Pi_female = Pi[:,(96-65):-20].transpose()\n",
    "# demography_in_model = np.array([[val if (111-g+t <=80) and (111-g+t>20) else 0 for g, val in enumerate(row)]\n",
    "#  for t,row in enumerate(non_migration['N_male'])])\n",
    "# Pi = (demography_in_model/demography_in_model.max(axis=0))\n",
    "# Pi_male = Pi[:,(96-65):-20].transpose()\n",
    "# Pi = np.array([Pi_female, Pi_male])\n",
    "# with_migration = {name:np.array(pyreadr.read_r(f\"{name}.Rda\")[f\"{name}\"]) \n",
    "#                  for name in [\"N_female\", \"N_male\"]}\n",
    "# N_female = np.array([[val if (111-g+t <=80) and (111-g+t>20) else 0 for g, val in enumerate(row)]\n",
    "#  for t,row in enumerate(with_migration['N_female'])])[:,(96-65):-20].transpose()\n",
    "# N_male = np.array([[val if (111-g+t <=80) and (111-g+t>20) else 0 for g, val in enumerate(row)]\n",
    "#  for t,row in enumerate(with_migration['N_male'])])[:,(96-65):-20].transpose()\n",
    "# N = np.array([N_female, N_male])\n"
   ]
  },
  {
   "cell_type": "code",
   "execution_count": 49,
   "metadata": {},
   "outputs": [],
   "source": [
    "# df_wage = pd.read_excel(\"rosstat/wage_by_cohort.xlsx\")\n",
    "# df_wage_ext = pd.DataFrame([(1,(i-20),(i-20)**2,df_wage['wage'][df_wage['age']<=i].iloc[-1])\n",
    "#                             for i in range(20,81)], columns = ['intercept','age','agesq','wage'])\n",
    "# df_wage_ext['wage']=np.log(df_wage_ext['wage']/max(df_wage_ext['wage']))\n",
    "# model = sm.OLS(df_wage_ext['wage'], df_wage_ext[['intercept','age','agesq']]).fit()"
   ]
  },
  {
   "cell_type": "code",
   "execution_count": 50,
   "metadata": {},
   "outputs": [],
   "source": [
    "# n_generations=60\n",
    "# epsilon_female =epsilon_male= np.array([[np.exp(model.params[2]*(n_generations-g+t)**2+\n",
    "#                                                 model.params[1]*(n_generations-g+t)+\n",
    "#                                                model.params[0])\\\n",
    "#                                          if ((n_generations-g+t) > 0 and (n_generations-g+t)<=n_generations) \\\n",
    "#                                          else 0  for t in range(N_female.shape[1]) ] \\\n",
    "#                                         for g in range(N_female.shape[0])])\n",
    "# epsilon = np.array([epsilon_female, epsilon_male])\n",
    "\n",
    "# rho_female = np.array([[1 if ((n_generations-g+t) >= 51 and (n_generations-g+t)<=n_generations) else 0\n",
    "#                         for t in range(N_female.shape[1]) ] \n",
    "#                        for g in range(N_female.shape[0])])\n",
    "# rho_male = np.array([[1 if ((n_generations-g+t) >= 56 and (n_generations-g+t)<=n_generations) else 0\n",
    "#                       for t in range(N_female.shape[1]) ] \n",
    "#                      for g in range(N_female.shape[0])])\n",
    "\n",
    "# rho = np.array([rho_female, rho_male])\n",
    "# demography = {\"N\":N, \"Pi\":Pi, \"epsilon\":epsilon,\"rho\":rho}\n",
    "# epsilon_coef = np.sum(demography[\"N\"][:,:,0])/np.sum(demography[\"N\"][:,:,0]*demography[\"epsilon\"][:,:,0])\n",
    "# demography[\"epsilon\"]*=epsilon_coef\n",
    "# np.save('demography.npy', demography)"
   ]
  },
  {
   "cell_type": "code",
   "execution_count": 110,
   "metadata": {
    "scrolled": true
   },
   "outputs": [
    {
     "data": {
      "application/vnd.jupyter.widget-view+json": {
       "model_id": "0be22d28592043ba9fa4fdcef76c5772",
       "version_major": 2,
       "version_minor": 0
      },
      "text/plain": [
       "Steady state:   0%|          | 0/30 [00:00<?, ?it/s]"
      ]
     },
     "metadata": {},
     "output_type": "display_data"
    }
   ],
   "source": [
    "olg = OLG_model(G=60,T=T,N=N,epsilon=epsilon, rho=rho,\n",
    "                sigma = sigma,Pi=Pi,r = r,price_M =price_M,\n",
    "                price_E=price_E, tau_I=tau_I,tau_II=tau_II,tau_Ins=tau_Ins,\n",
    "                tau_pi=tau_pi, tau_VA=tau_VA, tau_rho=tau_rho, beta = 0.995,\n",
    "                theta =1,\n",
    "                phi =0.3, # цель 38 миллионов в стеди стейт или 65% в начальном положении\n",
    "                psi = 163.\n",
    "                , omega=0.269\n",
    "                , alpha = 0.35, delta=0.0608,\n",
    "                A=A,initial=initial, eta =0.25,steady_max_iter=5000,max_iter=5000,\n",
    "                steady_guess=steady_guess)\n",
    "\n",
    "\n",
    "niter = 30\n",
    "tol = 10e-5\n",
    "with warnings.catch_warnings():\n",
    "    warnings.simplefilter(\"ignore\")\n",
    "    for _ in tqdm(range(niter),\n",
    "                  desc = 'Steady state',\n",
    "                      token=os.getenv('comp_bot_token'),\n",
    "                      chat_id=os.getenv('chat_id')):\n",
    "        olg.steady_state()\n",
    "        if (len(olg.steady_path)>1) and \\\n",
    "            (max(abs(olg.steady_path[-1][1] - olg.steady_path[-2][1]))<tol):\n",
    "                break"
   ]
  },
  {
   "cell_type": "code",
   "execution_count": 53,
   "metadata": {},
   "outputs": [],
   "source": [
    "# with open('olg_result.file', 'rb') as f:\n",
    "#     olg=pickle.load(f)"
   ]
  },
  {
   "cell_type": "code",
   "execution_count": 111,
   "metadata": {},
   "outputs": [],
   "source": [
    "olg.update_a_initial()\n",
    "olg.create_guess()"
   ]
  },
  {
   "cell_type": "code",
   "execution_count": 112,
   "metadata": {},
   "outputs": [
    {
     "name": "stdout",
     "output_type": "stream",
     "text": [
      "147\n",
      "     fun: 3.025051265349621e-14\n",
      "    info: {'x': array([0.0893495 , 1.95011947, 0.21415749, 1.60287647, 0.08931948,\n",
      "       2.42204005, 1.69239792, 5.98426291, 0.73848867, 0.66053492]), 'g': array([], dtype=float64), 'obj_val': 3.025051265349621e-14, 'mult_g': array([], dtype=float64), 'mult_x_L': array([0., 0., 0., 0., 0., 0., 0., 0., 0., 0.]), 'mult_x_U': array([0., 0., 0., 0., 0., 0., 0., 0., 0., 0.]), 'status': 0, 'status_msg': b'Algorithm terminated successfully at a locally optimal point, satisfying the convergence tolerances (can be specified by options).'}\n",
      " message: b'Algorithm terminated successfully at a locally optimal point, satisfying the convergence tolerances (can be specified by options).'\n",
      "    nfev: 66\n",
      "     nit: 42\n",
      "    njev: 44\n",
      "  status: 0\n",
      " success: True\n",
      "       x: array([0.0893495 , 1.95011947, 0.21415749, 1.60287647, 0.08931948,\n",
      "       2.42204005, 1.69239792, 5.98426291, 0.73848867, 0.66053492])\n",
      "146\n",
      "     fun: 1.5618981837883783e-10\n",
      "    info: {'x': array([0.08967067, 1.95246731, 0.21634253, 1.57427523, 0.08963648,\n",
      "       2.42452387, 1.69354792, 5.91765351, 0.74061494, 0.66313389]), 'g': array([], dtype=float64), 'obj_val': 1.5618981837883783e-10, 'mult_g': array([], dtype=float64), 'mult_x_L': array([0., 0., 0., 0., 0., 0., 0., 0., 0., 0.]), 'mult_x_U': array([0., 0., 0., 0., 0., 0., 0., 0., 0., 0.]), 'status': 0, 'status_msg': b'Algorithm terminated successfully at a locally optimal point, satisfying the convergence tolerances (can be specified by options).'}\n",
      " message: b'Algorithm terminated successfully at a locally optimal point, satisfying the convergence tolerances (can be specified by options).'\n",
      "    nfev: 76\n",
      "     nit: 41\n",
      "    njev: 43\n",
      "  status: 0\n",
      " success: True\n",
      "       x: array([0.08967067, 1.95246731, 0.21634253, 1.57427523, 0.08963648,\n",
      "       2.42452387, 1.69354792, 5.91765351, 0.74061494, 0.66313389])\n",
      "145\n",
      "     fun: 3.5384435186140974e-12\n",
      "    info: {'x': array([0.08989248, 1.95504061, 0.21833726, 1.56374984, 0.08985835,\n",
      "       2.4272416 , 1.6902211 , 5.85120552, 0.74250506, 0.66545359]), 'g': array([], dtype=float64), 'obj_val': 3.5384435186140974e-12, 'mult_g': array([], dtype=float64), 'mult_x_L': array([0., 0., 0., 0., 0., 0., 0., 0., 0., 0.]), 'mult_x_U': array([0., 0., 0., 0., 0., 0., 0., 0., 0., 0.]), 'status': 0, 'status_msg': b'Algorithm terminated successfully at a locally optimal point, satisfying the convergence tolerances (can be specified by options).'}\n",
      " message: b'Algorithm terminated successfully at a locally optimal point, satisfying the convergence tolerances (can be specified by options).'\n",
      "    nfev: 67\n",
      "     nit: 40\n",
      "    njev: 42\n",
      "  status: 0\n",
      " success: True\n",
      "       x: array([0.08989248, 1.95504061, 0.21833726, 1.56374984, 0.08985835,\n",
      "       2.4272416 , 1.6902211 , 5.85120552, 0.74250506, 0.66545359])\n",
      "144\n",
      "     fun: 4.078590911392723e-11\n",
      "    info: {'x': array([0.09010329, 1.9575638 , 0.22032518, 1.5582588 , 0.09006931,\n",
      "       2.42990231, 1.68558767, 5.78541862, 0.74437579, 0.66775032]), 'g': array([], dtype=float64), 'obj_val': 4.078590911392723e-11, 'mult_g': array([], dtype=float64), 'mult_x_L': array([0., 0., 0., 0., 0., 0., 0., 0., 0., 0.]), 'mult_x_U': array([0., 0., 0., 0., 0., 0., 0., 0., 0., 0.]), 'status': 0, 'status_msg': b'Algorithm terminated successfully at a locally optimal point, satisfying the convergence tolerances (can be specified by options).'}\n",
      " message: b'Algorithm terminated successfully at a locally optimal point, satisfying the convergence tolerances (can be specified by options).'\n",
      "    nfev: 59\n",
      "     nit: 37\n",
      "    njev: 39\n",
      "  status: 0\n",
      " success: True\n",
      "       x: array([0.09010329, 1.9575638 , 0.22032518, 1.5582588 , 0.09006931,\n",
      "       2.42990231, 1.68558767, 5.78541862, 0.74437579, 0.66775032])\n",
      "143\n",
      "     fun: 5.637548966259465e-13\n",
      "    info: {'x': array([0.09031295, 1.95999448, 0.2223256 , 1.55418926, 0.09027872,\n",
      "       2.43242966, 1.6805881 , 5.72034031, 0.74625094, 0.67005116]), 'g': array([], dtype=float64), 'obj_val': 5.637548966259465e-13, 'mult_g': array([], dtype=float64), 'mult_x_L': array([0., 0., 0., 0., 0., 0., 0., 0., 0., 0.]), 'mult_x_U': array([0., 0., 0., 0., 0., 0., 0., 0., 0., 0.]), 'status': 0, 'status_msg': b'Algorithm terminated successfully at a locally optimal point, satisfying the convergence tolerances (can be specified by options).'}\n",
      " message: b'Algorithm terminated successfully at a locally optimal point, satisfying the convergence tolerances (can be specified by options).'\n",
      "    nfev: 62\n",
      "     nit: 42\n",
      "    njev: 44\n",
      "  status: 0\n",
      " success: True\n",
      "       x: array([0.09031295, 1.95999448, 0.2223256 , 1.55418926, 0.09027872,\n",
      "       2.43242966, 1.6805881 , 5.72034031, 0.74625094, 0.67005116])\n",
      "142\n",
      "     fun: 1.0555898385307402e-10\n",
      "    info: {'x': array([0.09052252, 1.96232335, 0.22433666, 1.55054497, 0.09048819,\n",
      "       2.43483865, 1.67552839, 5.65594549, 0.74812158, 0.67235108]), 'g': array([], dtype=float64), 'obj_val': 1.0555898385307402e-10, 'mult_g': array([], dtype=float64), 'mult_x_L': array([0., 0., 0., 0., 0., 0., 0., 0., 0., 0.]), 'mult_x_U': array([0., 0., 0., 0., 0., 0., 0., 0., 0., 0.]), 'status': 0, 'status_msg': b'Algorithm terminated successfully at a locally optimal point, satisfying the convergence tolerances (can be specified by options).'}\n",
      " message: b'Algorithm terminated successfully at a locally optimal point, satisfying the convergence tolerances (can be specified by options).'\n",
      "    nfev: 74\n",
      "     nit: 41\n",
      "    njev: 43\n",
      "  status: 0\n",
      " success: True\n",
      "       x: array([0.09052252, 1.96232335, 0.22433666, 1.55054497, 0.09048819,\n",
      "       2.43483865, 1.67552839, 5.65594549, 0.74812158, 0.67235108])\n",
      "141\n",
      "     fun: 4.653243959763335e-12\n",
      "    info: {'x': array([0.09073207, 1.96454734, 0.2263615 , 1.54703357, 0.09069733,\n",
      "       2.43709258, 1.6704657 , 5.59224926, 0.74999856, 0.67465706]), 'g': array([], dtype=float64), 'obj_val': 4.653243959763335e-12, 'mult_g': array([], dtype=float64), 'mult_x_L': array([0., 0., 0., 0., 0., 0., 0., 0., 0., 0.]), 'mult_x_U': array([0., 0., 0., 0., 0., 0., 0., 0., 0., 0.]), 'status': 0, 'status_msg': b'Algorithm terminated successfully at a locally optimal point, satisfying the convergence tolerances (can be specified by options).'}\n",
      " message: b'Algorithm terminated successfully at a locally optimal point, satisfying the convergence tolerances (can be specified by options).'\n",
      "    nfev: 49\n",
      "     nit: 37\n",
      "    njev: 39\n",
      "  status: 0\n",
      " success: True\n",
      "       x: array([0.09073207, 1.96454734, 0.2263615 , 1.54703357, 0.09069733,\n",
      "       2.43709258, 1.6704657 , 5.59224926, 0.74999856, 0.67465706])\n",
      "140\n",
      "     fun: 1.2309635152345038e-07\n",
      "    info: {'x': array([0.09094785, 1.96693979, 0.22860497, 1.54273879, 0.09091652,\n",
      "       2.43976611, 1.66444169, 5.53008136, 0.75229978, 0.67732488]), 'g': array([], dtype=float64), 'obj_val': 1.2309635152345038e-07, 'mult_g': array([], dtype=float64), 'mult_x_L': array([0., 0., 0., 0., 0., 0., 0., 0., 0., 0.]), 'mult_x_U': array([0., 0., 0., 0., 0., 0., 0., 0., 0., 0.]), 'status': 0, 'status_msg': b'Algorithm terminated successfully at a locally optimal point, satisfying the convergence tolerances (can be specified by options).'}\n",
      " message: b'Algorithm terminated successfully at a locally optimal point, satisfying the convergence tolerances (can be specified by options).'\n",
      "    nfev: 58\n",
      "     nit: 38\n",
      "    njev: 40\n",
      "  status: 0\n",
      " success: True\n",
      "       x: array([0.09094785, 1.96693979, 0.22860497, 1.54273879, 0.09091652,\n",
      "       2.43976611, 1.66444169, 5.53008136, 0.75229978, 0.67732488])\n",
      "139\n",
      "     fun: 1.1634193149987828e-07\n",
      "    info: {'x': array([0.09115729, 1.96891678, 0.23064186, 1.53930369, 0.09112703,\n",
      "       2.4417555 , 1.65941934, 5.46767319, 0.75414816, 0.6796127 ]), 'g': array([], dtype=float64), 'obj_val': 1.1634193149987828e-07, 'mult_g': array([], dtype=float64), 'mult_x_L': array([0., 0., 0., 0., 0., 0., 0., 0., 0., 0.]), 'mult_x_U': array([0., 0., 0., 0., 0., 0., 0., 0., 0., 0.]), 'status': 0, 'status_msg': b'Algorithm terminated successfully at a locally optimal point, satisfying the convergence tolerances (can be specified by options).'}\n",
      " message: b'Algorithm terminated successfully at a locally optimal point, satisfying the convergence tolerances (can be specified by options).'\n",
      "    nfev: 65\n",
      "     nit: 40\n",
      "    njev: 42\n",
      "  status: 0\n",
      " success: True\n",
      "       x: array([0.09115729, 1.96891678, 0.23064186, 1.53930369, 0.09112703,\n",
      "       2.4417555 , 1.65941934, 5.46767319, 0.75414816, 0.6796127 ])\n"
     ]
    },
    {
     "name": "stdout",
     "output_type": "stream",
     "text": [
      "138\n",
      "     fun: 2.662622451632178e-10\n",
      "    info: {'x': array([0.09136129, 1.97059126, 0.23250867, 1.53669533, 0.09132665,\n",
      "       2.44307237, 1.65536012, 5.40518356, 0.7556218 , 0.68158393]), 'g': array([], dtype=float64), 'obj_val': 2.662622451632178e-10, 'mult_g': array([], dtype=float64), 'mult_x_L': array([0., 0., 0., 0., 0., 0., 0., 0., 0., 0.]), 'mult_x_U': array([0., 0., 0., 0., 0., 0., 0., 0., 0., 0.]), 'status': 0, 'status_msg': b'Algorithm terminated successfully at a locally optimal point, satisfying the convergence tolerances (can be specified by options).'}\n",
      " message: b'Algorithm terminated successfully at a locally optimal point, satisfying the convergence tolerances (can be specified by options).'\n",
      "    nfev: 49\n",
      "     nit: 38\n",
      "    njev: 40\n",
      "  status: 0\n",
      " success: True\n",
      "       x: array([0.09136129, 1.97059126, 0.23250867, 1.53669533, 0.09132665,\n",
      "       2.44307237, 1.65536012, 5.40518356, 0.7556218 , 0.68158393])\n",
      "137\n",
      "     fun: 1.7906915785887446e-10\n",
      "    info: {'x': array([0.09157009, 1.97241668, 0.23458113, 1.53340887, 0.09153428,\n",
      "       2.44478533, 1.65054609, 5.34414829, 0.75749669, 0.68389579]), 'g': array([], dtype=float64), 'obj_val': 1.7906915785887446e-10, 'mult_g': array([], dtype=float64), 'mult_x_L': array([0., 0., 0., 0., 0., 0., 0., 0., 0., 0.]), 'mult_x_U': array([0., 0., 0., 0., 0., 0., 0., 0., 0., 0.]), 'status': 0, 'status_msg': b'Algorithm terminated successfully at a locally optimal point, satisfying the convergence tolerances (can be specified by options).'}\n",
      " message: b'Algorithm terminated successfully at a locally optimal point, satisfying the convergence tolerances (can be specified by options).'\n",
      "    nfev: 76\n",
      "     nit: 43\n",
      "    njev: 45\n",
      "  status: 0\n",
      " success: True\n",
      "       x: array([0.09157009, 1.97241668, 0.23458113, 1.53340887, 0.09153428,\n",
      "       2.44478533, 1.65054609, 5.34414829, 0.75749669, 0.68389579])\n",
      "136\n",
      "     fun: 3.060482363726869e-15\n",
      "    info: {'x': array([0.09177939, 1.97415808, 0.23666023, 1.53013961, 0.09174312,\n",
      "       2.44640434, 1.64574161, 5.28373204, 0.75935429, 0.68619778]), 'g': array([], dtype=float64), 'obj_val': 3.060482363726869e-15, 'mult_g': array([], dtype=float64), 'mult_x_L': array([0., 0., 0., 0., 0., 0., 0., 0., 0., 0.]), 'mult_x_U': array([0., 0., 0., 0., 0., 0., 0., 0., 0., 0.]), 'status': 0, 'status_msg': b'Algorithm terminated successfully at a locally optimal point, satisfying the convergence tolerances (can be specified by options).'}\n",
      " message: b'Algorithm terminated successfully at a locally optimal point, satisfying the convergence tolerances (can be specified by options).'\n",
      "    nfev: 77\n",
      "     nit: 42\n",
      "    njev: 44\n",
      "  status: 0\n",
      " success: True\n",
      "       x: array([0.09177939, 1.97415808, 0.23666023, 1.53013961, 0.09174312,\n",
      "       2.44640434, 1.64574161, 5.28373204, 0.75935429, 0.68619778])\n",
      "135\n",
      "     fun: 0.00020572602369295923\n",
      "    info: {'x': array([0.09198112, 1.9758597 , 0.24891015, 1.47626007, 0.09191322,\n",
      "       2.44618381, 1.58289184, 5.2770859 , 0.78874132, 0.70979628]), 'g': array([], dtype=float64), 'obj_val': 0.00020572602369295923, 'mult_g': array([], dtype=float64), 'mult_x_L': array([0., 0., 0., 0., 0., 0., 0., 0., 0., 0.]), 'mult_x_U': array([0., 0., 0., 0., 0., 0., 0., 0., 0., 0.]), 'status': 0, 'status_msg': b'Algorithm terminated successfully at a locally optimal point, satisfying the convergence tolerances (can be specified by options).'}\n",
      " message: b'Algorithm terminated successfully at a locally optimal point, satisfying the convergence tolerances (can be specified by options).'\n",
      "    nfev: 66\n",
      "     nit: 37\n",
      "    njev: 39\n",
      "  status: 0\n",
      " success: True\n",
      "       x: array([0.09198112, 1.9758597 , 0.24891015, 1.47626007, 0.09191322,\n",
      "       2.44618381, 1.58289184, 5.2770859 , 0.78874132, 0.70979628])\n",
      "134\n",
      "     fun: 1.6106514433784495e-09\n",
      "    info: {'x': array([0.09219657, 1.97748186, 0.24089715, 1.51838233, 0.09215658,\n",
      "       2.44947523, 1.62839152, 5.1649849 , 0.76315719, 0.69088067]), 'g': array([], dtype=float64), 'obj_val': 1.6106514433784495e-09, 'mult_g': array([], dtype=float64), 'mult_x_L': array([0., 0., 0., 0., 0., 0., 0., 0., 0., 0.]), 'mult_x_U': array([0., 0., 0., 0., 0., 0., 0., 0., 0., 0.]), 'status': 0, 'status_msg': b'Algorithm terminated successfully at a locally optimal point, satisfying the convergence tolerances (can be specified by options).'}\n",
      " message: b'Algorithm terminated successfully at a locally optimal point, satisfying the convergence tolerances (can be specified by options).'\n",
      "    nfev: 70\n",
      "     nit: 45\n",
      "    njev: 47\n",
      "  status: 0\n",
      " success: True\n",
      "       x: array([0.09219657, 1.97748186, 0.24089715, 1.51838233, 0.09215658,\n",
      "       2.44947523, 1.62839152, 5.1649849 , 0.76315719, 0.69088067])\n",
      "133\n",
      "     fun: 7.572289851101774e-09\n",
      "    info: {'x': array([0.09240836, 1.9790953 , 0.24306633, 1.51868385, 0.0923718 ,\n",
      "       2.45092511, 1.6289513 , 5.10665044, 0.76510487, 0.69327258]), 'g': array([], dtype=float64), 'obj_val': 7.572289851101774e-09, 'mult_g': array([], dtype=float64), 'mult_x_L': array([0., 0., 0., 0., 0., 0., 0., 0., 0., 0.]), 'mult_x_U': array([0., 0., 0., 0., 0., 0., 0., 0., 0., 0.]), 'status': 0, 'status_msg': b'Algorithm terminated successfully at a locally optimal point, satisfying the convergence tolerances (can be specified by options).'}\n",
      " message: b'Algorithm terminated successfully at a locally optimal point, satisfying the convergence tolerances (can be specified by options).'\n",
      "    nfev: 57\n",
      "     nit: 45\n",
      "    njev: 47\n",
      "  status: 0\n",
      " success: True\n",
      "       x: array([0.09240836, 1.9790953 , 0.24306633, 1.51868385, 0.0923718 ,\n",
      "       2.45092511, 1.6289513 , 5.10665044, 0.76510487, 0.69327258])\n",
      "132\n",
      "     fun: 5.8721123730014756e-15\n",
      "    info: {'x': array([0.09261662, 1.98058805, 0.24516738, 1.51665358, 0.09257918,\n",
      "       2.45214038, 1.62591867, 5.04861888, 0.76688572, 0.69552508]), 'g': array([], dtype=float64), 'obj_val': 5.8721123730014756e-15, 'mult_g': array([], dtype=float64), 'mult_x_L': array([0., 0., 0., 0., 0., 0., 0., 0., 0., 0.]), 'mult_x_U': array([0., 0., 0., 0., 0., 0., 0., 0., 0., 0.]), 'status': 0, 'status_msg': b'Algorithm terminated successfully at a locally optimal point, satisfying the convergence tolerances (can be specified by options).'}\n",
      " message: b'Algorithm terminated successfully at a locally optimal point, satisfying the convergence tolerances (can be specified by options).'\n",
      "    nfev: 54\n",
      "     nit: 43\n",
      "    njev: 45\n",
      "  status: 0\n",
      " success: True\n",
      "       x: array([0.09261662, 1.98058805, 0.24516738, 1.51665358, 0.09257918,\n",
      "       2.45214038, 1.62591867, 5.04861888, 0.76688572, 0.69552508])\n",
      "131\n",
      "     fun: 5.84907936384122e-16\n",
      "    info: {'x': array([0.09282574, 1.98213546, 0.24734059, 1.51371287, 0.09278797,\n",
      "       2.45347732, 1.62159667, 4.99142611, 0.76878377, 0.69788104]), 'g': array([], dtype=float64), 'obj_val': 5.84907936384122e-16, 'mult_g': array([], dtype=float64), 'mult_x_L': array([0., 0., 0., 0., 0., 0., 0., 0., 0., 0.]), 'mult_x_U': array([0., 0., 0., 0., 0., 0., 0., 0., 0., 0.]), 'status': 0, 'status_msg': b'Algorithm terminated successfully at a locally optimal point, satisfying the convergence tolerances (can be specified by options).'}\n",
      " message: b'Algorithm terminated successfully at a locally optimal point, satisfying the convergence tolerances (can be specified by options).'\n",
      "    nfev: 75\n",
      "     nit: 48\n",
      "    njev: 50\n",
      "  status: 0\n",
      " success: True\n",
      "       x: array([0.09282574, 1.98213546, 0.24734059, 1.51371287, 0.09278797,\n",
      "       2.45347732, 1.62159667, 4.99142611, 0.76878377, 0.69788104])\n",
      "130\n",
      "     fun: 5.63436246622226e-15\n",
      "    info: {'x': array([0.09303489, 1.98368668, 0.24953514, 1.51056554, 0.09299683,\n",
      "       2.45480943, 1.61696182, 4.93485944, 0.77069055, 0.70025001]), 'g': array([], dtype=float64), 'obj_val': 5.63436246622226e-15, 'mult_g': array([], dtype=float64), 'mult_x_L': array([0., 0., 0., 0., 0., 0., 0., 0., 0., 0.]), 'mult_x_U': array([0., 0., 0., 0., 0., 0., 0., 0., 0., 0.]), 'status': 0, 'status_msg': b'Algorithm terminated successfully at a locally optimal point, satisfying the convergence tolerances (can be specified by options).'}\n",
      " message: b'Algorithm terminated successfully at a locally optimal point, satisfying the convergence tolerances (can be specified by options).'\n",
      "    nfev: 114\n",
      "     nit: 53\n",
      "    njev: 55\n",
      "  status: 0\n",
      " success: True\n",
      "       x: array([0.09303489, 1.98368668, 0.24953514, 1.51056554, 0.09299683,\n",
      "       2.45480943, 1.61696182, 4.93485944, 0.77069055, 0.70025001])\n"
     ]
    },
    {
     "name": "stdout",
     "output_type": "stream",
     "text": [
      "129\n",
      "     fun: 7.880314464055501e-09\n",
      "    info: {'x': array([0.09324553, 1.98531967, 0.25177425, 1.50729835, 0.0932083 ,\n",
      "       2.4562956 , 1.61221251, 4.87899062, 0.77264452, 0.70266959]), 'g': array([], dtype=float64), 'obj_val': 7.880314464055501e-09, 'mult_g': array([], dtype=float64), 'mult_x_L': array([0., 0., 0., 0., 0., 0., 0., 0., 0., 0.]), 'mult_x_U': array([0., 0., 0., 0., 0., 0., 0., 0., 0., 0.]), 'status': 0, 'status_msg': b'Algorithm terminated successfully at a locally optimal point, satisfying the convergence tolerances (can be specified by options).'}\n",
      " message: b'Algorithm terminated successfully at a locally optimal point, satisfying the convergence tolerances (can be specified by options).'\n",
      "    nfev: 55\n",
      "     nit: 41\n",
      "    njev: 43\n",
      "  status: 0\n",
      " success: True\n",
      "       x: array([0.09324553, 1.98531967, 0.25177425, 1.50729835, 0.0932083 ,\n",
      "       2.4562956 , 1.61221251, 4.87899062, 0.77264452, 0.70266959])\n",
      "128\n",
      "     fun: 5.40737831895034e-14\n",
      "    info: {'x': array([0.0934532 , 1.9868436 , 0.25399237, 1.5041512 , 0.09341469,\n",
      "       2.4575109 , 1.60751122, 4.82358445, 0.77453386, 0.70503146]), 'g': array([], dtype=float64), 'obj_val': 5.40737831895034e-14, 'mult_g': array([], dtype=float64), 'mult_x_L': array([0., 0., 0., 0., 0., 0., 0., 0., 0., 0.]), 'mult_x_U': array([0., 0., 0., 0., 0., 0., 0., 0., 0., 0.]), 'status': 0, 'status_msg': b'Algorithm terminated successfully at a locally optimal point, satisfying the convergence tolerances (can be specified by options).'}\n",
      " message: b'Algorithm terminated successfully at a locally optimal point, satisfying the convergence tolerances (can be specified by options).'\n",
      "    nfev: 64\n",
      "     nit: 50\n",
      "    njev: 52\n",
      "  status: 0\n",
      " success: True\n",
      "       x: array([0.0934532 , 1.9868436 , 0.25399237, 1.5041512 , 0.09341469,\n",
      "       2.4575109 , 1.60751122, 4.82358445, 0.77453386, 0.70503146])\n",
      "127\n",
      "     fun: 1.3891840916657022e-15\n",
      "    info: {'x': array([0.09366204, 1.98846513, 0.25625576, 1.50094399, 0.09362313,\n",
      "       2.45889998, 1.6027653 , 4.76886327, 0.7764708 , 0.7074445 ]), 'g': array([], dtype=float64), 'obj_val': 1.3891840916657022e-15, 'mult_g': array([], dtype=float64), 'mult_x_L': array([0., 0., 0., 0., 0., 0., 0., 0., 0., 0.]), 'mult_x_U': array([0., 0., 0., 0., 0., 0., 0., 0., 0., 0.]), 'status': 0, 'status_msg': b'Algorithm terminated successfully at a locally optimal point, satisfying the convergence tolerances (can be specified by options).'}\n",
      " message: b'Algorithm terminated successfully at a locally optimal point, satisfying the convergence tolerances (can be specified by options).'\n",
      "    nfev: 98\n",
      "     nit: 57\n",
      "    njev: 59\n",
      "  status: 0\n",
      " success: True\n",
      "       x: array([0.09366204, 1.98846513, 0.25625576, 1.50094399, 0.09362313,\n",
      "       2.45889998, 1.6027653 , 4.76886327, 0.7764708 , 0.7074445 ])\n",
      "126\n",
      "     fun: 3.204393727274184e-09\n",
      "    info: {'x': array([0.09387064, 1.99010291, 0.2585429 , 1.49770722, 0.09382979,\n",
      "       2.46021046, 1.59798495, 4.71475867, 0.77842843, 0.70987711]), 'g': array([], dtype=float64), 'obj_val': 3.204393727274184e-09, 'mult_g': array([], dtype=float64), 'mult_x_L': array([0., 0., 0., 0., 0., 0., 0., 0., 0., 0.]), 'mult_x_U': array([0., 0., 0., 0., 0., 0., 0., 0., 0., 0.]), 'status': 0, 'status_msg': b'Algorithm terminated successfully at a locally optimal point, satisfying the convergence tolerances (can be specified by options).'}\n",
      " message: b'Algorithm terminated successfully at a locally optimal point, satisfying the convergence tolerances (can be specified by options).'\n",
      "    nfev: 103\n",
      "     nit: 58\n",
      "    njev: 60\n",
      "  status: 0\n",
      " success: True\n",
      "       x: array([0.09387064, 1.99010291, 0.2585429 , 1.49770722, 0.09382979,\n",
      "       2.46021046, 1.59798495, 4.71475867, 0.77842843, 0.70987711])\n",
      "125\n",
      "     fun: 8.395201577230263e-14\n",
      "    info: {'x': array([0.09407979, 1.99179574, 0.26085593, 1.49452665, 0.09404012,\n",
      "       2.46175557, 1.59327044, 4.66122638, 0.78037835, 0.71231924]), 'g': array([], dtype=float64), 'obj_val': 8.395201577230263e-14, 'mult_g': array([], dtype=float64), 'mult_x_L': array([0., 0., 0., 0., 0., 0., 0., 0., 0., 0.]), 'mult_x_U': array([0., 0., 0., 0., 0., 0., 0., 0., 0., 0.]), 'status': 0, 'status_msg': b'Algorithm terminated successfully at a locally optimal point, satisfying the convergence tolerances (can be specified by options).'}\n",
      " message: b'Algorithm terminated successfully at a locally optimal point, satisfying the convergence tolerances (can be specified by options).'\n",
      "    nfev: 136\n",
      "     nit: 60\n",
      "    njev: 62\n",
      "  status: 0\n",
      " success: True\n",
      "       x: array([0.09407979, 1.99179574, 0.26085593, 1.49452665, 0.09404012,\n",
      "       2.46175557, 1.59327044, 4.66122638, 0.78037835, 0.71231924])\n",
      "124\n",
      "     fun: 2.961353602178644e-11\n",
      "    info: {'x': array([0.09428863, 1.99349421, 0.26318915, 1.49134579, 0.09424869,\n",
      "       2.46319875, 1.58855436, 4.60828292, 0.78234087, 0.71477414]), 'g': array([], dtype=float64), 'obj_val': 2.961353602178644e-11, 'mult_g': array([], dtype=float64), 'mult_x_L': array([0., 0., 0., 0., 0., 0., 0., 0., 0., 0.]), 'mult_x_U': array([0., 0., 0., 0., 0., 0., 0., 0., 0., 0.]), 'status': 0, 'status_msg': b'Algorithm terminated successfully at a locally optimal point, satisfying the convergence tolerances (can be specified by options).'}\n",
      " message: b'Algorithm terminated successfully at a locally optimal point, satisfying the convergence tolerances (can be specified by options).'\n",
      "    nfev: 68\n",
      "     nit: 49\n",
      "    njev: 51\n",
      "  status: 0\n",
      " success: True\n",
      "       x: array([0.09428863, 1.99349421, 0.26318915, 1.49134579, 0.09424869,\n",
      "       2.46319875, 1.58855436, 4.60828292, 0.78234087, 0.71477414])\n",
      "123\n",
      "     fun: 9.990721596874727e-16\n",
      "    info: {'x': array([0.09449741, 1.99520326, 0.26555275, 1.48814326, 0.09445733,\n",
      "       2.46465973, 1.58380815, 4.55594668, 0.78432804, 0.71725581]), 'g': array([], dtype=float64), 'obj_val': 9.990721596874727e-16, 'mult_g': array([], dtype=float64), 'mult_x_L': array([0., 0., 0., 0., 0., 0., 0., 0., 0., 0.]), 'mult_x_U': array([0., 0., 0., 0., 0., 0., 0., 0., 0., 0.]), 'status': 0, 'status_msg': b'Algorithm terminated successfully at a locally optimal point, satisfying the convergence tolerances (can be specified by options).'}\n",
      " message: b'Algorithm terminated successfully at a locally optimal point, satisfying the convergence tolerances (can be specified by options).'\n",
      "    nfev: 104\n",
      "     nit: 60\n",
      "    njev: 62\n",
      "  status: 0\n",
      " success: True\n",
      "       x: array([0.09449741, 1.99520326, 0.26555275, 1.48814326, 0.09445733,\n",
      "       2.46465973, 1.58380815, 4.55594668, 0.78432804, 0.71725581])\n",
      "122\n",
      "     fun: 5.993516418472579e-12\n",
      "    info: {'x': array([0.09470611, 1.99690385, 0.2679373 , 1.48495273, 0.09466579,\n",
      "       2.46609205, 1.57907408, 4.50417661, 0.78632054, 0.71974774]), 'g': array([], dtype=float64), 'obj_val': 5.993516418472579e-12, 'mult_g': array([], dtype=float64), 'mult_x_L': array([0., 0., 0., 0., 0., 0., 0., 0., 0., 0.]), 'mult_x_U': array([0., 0., 0., 0., 0., 0., 0., 0., 0., 0.]), 'status': 0, 'status_msg': b'Algorithm terminated successfully at a locally optimal point, satisfying the convergence tolerances (can be specified by options).'}\n",
      " message: b'Algorithm terminated successfully at a locally optimal point, satisfying the convergence tolerances (can be specified by options).'\n",
      "    nfev: 73\n",
      "     nit: 51\n",
      "    njev: 53\n",
      "  status: 0\n",
      " success: True\n",
      "       x: array([0.09470611, 1.99690385, 0.2679373 , 1.48495273, 0.09466579,\n",
      "       2.46609205, 1.57907408, 4.50417661, 0.78632054, 0.71974774])\n",
      "121\n",
      "     fun: 5.1097011809063096e-14\n",
      "    info: {'x': array([0.09491474, 1.99857571, 0.27033975, 1.48179046, 0.09487413,\n",
      "       2.46747576, 1.57437217, 4.45295551, 0.7883121 , 0.72224449]), 'g': array([], dtype=float64), 'obj_val': 5.1097011809063096e-14, 'mult_g': array([], dtype=float64), 'mult_x_L': array([0., 0., 0., 0., 0., 0., 0., 0., 0., 0.]), 'mult_x_U': array([0., 0., 0., 0., 0., 0., 0., 0., 0., 0.]), 'status': 0, 'status_msg': b'Algorithm terminated successfully at a locally optimal point, satisfying the convergence tolerances (can be specified by options).'}\n",
      " message: b'Algorithm terminated successfully at a locally optimal point, satisfying the convergence tolerances (can be specified by options).'\n",
      "    nfev: 101\n",
      "     nit: 56\n",
      "    njev: 58\n",
      "  status: 0\n",
      " success: True\n",
      "       x: array([0.09491474, 1.99857571, 0.27033975, 1.48179046, 0.09487413,\n",
      "       2.46747576, 1.57437217, 4.45295551, 0.7883121 , 0.72224449])\n"
     ]
    },
    {
     "name": "stdout",
     "output_type": "stream",
     "text": [
      "120\n",
      "     fun: 3.4365295065766564e-12\n",
      "    info: {'x': array([0.09512331, 2.00019682, 0.27276451, 1.47863505, 0.09508242,\n",
      "       2.46878525, 1.56967885, 4.40229677, 0.79031466, 0.72475492]), 'g': array([], dtype=float64), 'obj_val': 3.4365295065766564e-12, 'mult_g': array([], dtype=float64), 'mult_x_L': array([0., 0., 0., 0., 0., 0., 0., 0., 0., 0.]), 'mult_x_U': array([0., 0., 0., 0., 0., 0., 0., 0., 0., 0.]), 'status': 0, 'status_msg': b'Algorithm terminated successfully at a locally optimal point, satisfying the convergence tolerances (can be specified by options).'}\n",
      " message: b'Algorithm terminated successfully at a locally optimal point, satisfying the convergence tolerances (can be specified by options).'\n",
      "    nfev: 76\n",
      "     nit: 50\n",
      "    njev: 52\n",
      "  status: 0\n",
      " success: True\n",
      "       x: array([0.09512331, 2.00019682, 0.27276451, 1.47863505, 0.09508242,\n",
      "       2.46878525, 1.56967885, 4.40229677, 0.79031466, 0.72475492])\n",
      "119\n",
      "     fun: 7.312448425496999e-14\n",
      "    info: {'x': array([0.09533181, 2.00174157, 0.27520635, 1.47550547, 0.09529063,\n",
      "       2.46998821, 1.56501723, 4.35217686, 0.79231819, 0.72727019]), 'g': array([], dtype=float64), 'obj_val': 7.312448425496999e-14, 'mult_g': array([], dtype=float64), 'mult_x_L': array([0., 0., 0., 0., 0., 0., 0., 0., 0., 0.]), 'mult_x_U': array([0., 0., 0., 0., 0., 0., 0., 0., 0., 0.]), 'status': 0, 'status_msg': b'Algorithm terminated successfully at a locally optimal point, satisfying the convergence tolerances (can be specified by options).'}\n",
      " message: b'Algorithm terminated successfully at a locally optimal point, satisfying the convergence tolerances (can be specified by options).'\n",
      "    nfev: 89\n",
      "     nit: 56\n",
      "    njev: 58\n",
      "  status: 0\n",
      " success: True\n",
      "       x: array([0.09533181, 2.00174157, 0.27520635, 1.47550547, 0.09529063,\n",
      "       2.46998821, 1.56501723, 4.35217686, 0.79231819, 0.72727019])\n",
      "118\n",
      "     fun: 7.79418499148983e-08\n",
      "    info: {'x': array([0.09554294, 2.00330305, 0.27787316, 1.47161876, 0.09550593,\n",
      "       2.47143353, 1.55944646, 4.30334264, 0.79477119, 0.73016341]), 'g': array([], dtype=float64), 'obj_val': 7.79418499148983e-08, 'mult_g': array([], dtype=float64), 'mult_x_L': array([0., 0., 0., 0., 0., 0., 0., 0., 0., 0.]), 'mult_x_U': array([0., 0., 0., 0., 0., 0., 0., 0., 0., 0.]), 'status': 0, 'status_msg': b'Algorithm terminated successfully at a locally optimal point, satisfying the convergence tolerances (can be specified by options).'}\n",
      " message: b'Algorithm terminated successfully at a locally optimal point, satisfying the convergence tolerances (can be specified by options).'\n",
      "    nfev: 100\n",
      "     nit: 55\n",
      "    njev: 57\n",
      "  status: 0\n",
      " success: True\n",
      "       x: array([0.09554294, 2.00330305, 0.27787316, 1.47161876, 0.09550593,\n",
      "       2.47143353, 1.55944646, 4.30334264, 0.79477119, 0.73016341])\n",
      "117\n",
      "     fun: 2.7203100171441386e-06\n",
      "    info: {'x': array([0.09577913, 2.00579113, 0.28121605, 1.46554719, 0.09575382,\n",
      "       2.47439433, 1.55124209, 4.25720395, 0.79850244, 0.73418152]), 'g': array([], dtype=float64), 'obj_val': 2.7203100171441386e-06, 'mult_g': array([], dtype=float64), 'mult_x_L': array([0., 0., 0., 0., 0., 0., 0., 0., 0., 0.]), 'mult_x_U': array([0., 0., 0., 0., 0., 0., 0., 0., 0., 0.]), 'status': 0, 'status_msg': b'Algorithm terminated successfully at a locally optimal point, satisfying the convergence tolerances (can be specified by options).'}\n",
      " message: b'Algorithm terminated successfully at a locally optimal point, satisfying the convergence tolerances (can be specified by options).'\n",
      "    nfev: 82\n",
      "     nit: 60\n",
      "    njev: 62\n",
      "  status: 0\n",
      " success: True\n",
      "       x: array([0.09577913, 2.00579113, 0.28121605, 1.46554719, 0.09575382,\n",
      "       2.47439433, 1.55124209, 4.25720395, 0.79850244, 0.73418152])\n",
      "116\n",
      "     fun: 5.398228522103827e-17\n",
      "    info: {'x': array([0.09596028, 2.00564532, 0.28263604, 1.46598815, 0.09592001,\n",
      "       2.47260926, 1.55069749, 4.20500603, 0.79834671, 0.73485067]), 'g': array([], dtype=float64), 'obj_val': 5.398228522103827e-17, 'mult_g': array([], dtype=float64), 'mult_x_L': array([0., 0., 0., 0., 0., 0., 0., 0., 0., 0.]), 'mult_x_U': array([0., 0., 0., 0., 0., 0., 0., 0., 0., 0.]), 'status': 0, 'status_msg': b'Algorithm terminated successfully at a locally optimal point, satisfying the convergence tolerances (can be specified by options).'}\n",
      " message: b'Algorithm terminated successfully at a locally optimal point, satisfying the convergence tolerances (can be specified by options).'\n",
      "    nfev: 143\n",
      "     nit: 66\n",
      "    njev: 68\n",
      "  status: 0\n",
      " success: True\n",
      "       x: array([0.09596028, 2.00564532, 0.28263604, 1.46598815, 0.09592001,\n",
      "       2.47260926, 1.55069749, 4.20500603, 0.79834671, 0.73485067])\n",
      "115\n",
      "     fun: 4.221429027097494e-11\n",
      "    info: {'x': array([0.0961655 , 2.00665106, 0.2851313 , 1.46316522, 0.09612338,\n",
      "       2.47310673, 1.54655469, 4.15696404, 0.80034959, 0.73737005]), 'g': array([], dtype=float64), 'obj_val': 4.221429027097494e-11, 'mult_g': array([], dtype=float64), 'mult_x_L': array([0., 0., 0., 0., 0., 0., 0., 0., 0., 0.]), 'mult_x_U': array([0., 0., 0., 0., 0., 0., 0., 0., 0., 0.]), 'status': 0, 'status_msg': b'Algorithm terminated successfully at a locally optimal point, satisfying the convergence tolerances (can be specified by options).'}\n",
      " message: b'Algorithm terminated successfully at a locally optimal point, satisfying the convergence tolerances (can be specified by options).'\n",
      "    nfev: 101\n",
      "     nit: 62\n",
      "    njev: 64\n",
      "  status: 0\n",
      " success: True\n",
      "       x: array([0.0961655 , 2.00665106, 0.2851313 , 1.46316522, 0.09612338,\n",
      "       2.47310673, 1.54655469, 4.15696404, 0.80034959, 0.73737005])\n",
      "114\n",
      "     fun: 1.7059838099214626e-13\n",
      "    info: {'x': array([0.09637327, 2.00745348, 0.28763717, 1.46025342, 0.09633066,\n",
      "       2.47332895, 1.54220941, 4.10940829, 0.80233884, 0.73988199]), 'g': array([], dtype=float64), 'obj_val': 1.7059838099214626e-13, 'mult_g': array([], dtype=float64), 'mult_x_L': array([0., 0., 0., 0., 0., 0., 0., 0., 0., 0.]), 'mult_x_U': array([0., 0., 0., 0., 0., 0., 0., 0., 0., 0.]), 'status': 0, 'status_msg': b'Algorithm terminated successfully at a locally optimal point, satisfying the convergence tolerances (can be specified by options).'}\n",
      " message: b'Algorithm terminated successfully at a locally optimal point, satisfying the convergence tolerances (can be specified by options).'\n",
      "    nfev: 125\n",
      "     nit: 69\n",
      "    njev: 71\n",
      "  status: 0\n",
      " success: True\n",
      "       x: array([0.09637327, 2.00745348, 0.28763717, 1.46025342, 0.09633066,\n",
      "       2.47332895, 1.54220941, 4.10940829, 0.80233884, 0.73988199])\n",
      "113\n",
      "     fun: 0.0004561550059156755\n",
      "    info: {'x': array([0.09658503, 2.00864785, 0.30592421, 1.38598189, 0.09657353,\n",
      "       2.47552428, 1.45745395, 4.12663818, 0.84488378, 0.7746578 ]), 'g': array([], dtype=float64), 'obj_val': 0.0004561550059156755, 'mult_g': array([], dtype=float64), 'mult_x_L': array([0., 0., 0., 0., 0., 0., 0., 0., 0., 0.]), 'mult_x_U': array([0., 0., 0., 0., 0., 0., 0., 0., 0., 0.]), 'status': 0, 'status_msg': b'Algorithm terminated successfully at a locally optimal point, satisfying the convergence tolerances (can be specified by options).'}\n",
      " message: b'Algorithm terminated successfully at a locally optimal point, satisfying the convergence tolerances (can be specified by options).'\n",
      "    nfev: 139\n",
      "     nit: 67\n",
      "    njev: 69\n",
      "  status: 0\n",
      " success: True\n",
      "       x: array([0.09658503, 2.00864785, 0.30592421, 1.38598189, 0.09657353,\n",
      "       2.47552428, 1.45745395, 4.12663818, 0.84488378, 0.7746578 ])\n",
      "112\n",
      "     fun: 0.0009481383783656732\n",
      "    info: {'x': array([0.09669741, 2.00544782, 0.31356089, 1.35212503, 0.09670773,\n",
      "       2.47160185, 1.41569362, 4.10898098, 0.86529007, 0.79168808]), 'g': array([], dtype=float64), 'obj_val': 0.0009481383783656732, 'mult_g': array([], dtype=float64), 'mult_x_L': array([0., 0., 0., 0., 0., 0., 0., 0., 0., 0.]), 'mult_x_U': array([0., 0., 0., 0., 0., 0., 0., 0., 0., 0.]), 'status': 0, 'status_msg': b'Algorithm terminated successfully at a locally optimal point, satisfying the convergence tolerances (can be specified by options).'}\n",
      " message: b'Algorithm terminated successfully at a locally optimal point, satisfying the convergence tolerances (can be specified by options).'\n",
      "    nfev: 92\n",
      "     nit: 60\n",
      "    njev: 62\n",
      "  status: 0\n",
      " success: True\n",
      "       x: array([0.09669741, 2.00544782, 0.31356089, 1.35212503, 0.09670773,\n",
      "       2.47160185, 1.41569362, 4.10898098, 0.86529007, 0.79168808])\n"
     ]
    },
    {
     "name": "stdout",
     "output_type": "stream",
     "text": [
      "111\n",
      "     fun: 0.00039377058693302377\n",
      "    info: {'x': array([0.09687329, 2.00457631, 0.30929031, 1.37835852, 0.09694707,\n",
      "       2.47294285, 1.44345413, 4.028559  , 0.84599877, 0.77726347]), 'g': array([], dtype=float64), 'obj_val': 0.00039377058693302377, 'mult_g': array([], dtype=float64), 'mult_x_L': array([0., 0., 0., 0., 0., 0., 0., 0., 0., 0.]), 'mult_x_U': array([0., 0., 0., 0., 0., 0., 0., 0., 0., 0.]), 'status': 0, 'status_msg': b'Algorithm terminated successfully at a locally optimal point, satisfying the convergence tolerances (can be specified by options).'}\n",
      " message: b'Algorithm terminated successfully at a locally optimal point, satisfying the convergence tolerances (can be specified by options).'\n",
      "    nfev: 96\n",
      "     nit: 59\n",
      "    njev: 61\n",
      "  status: 0\n",
      " success: True\n",
      "       x: array([0.09687329, 2.00457631, 0.30929031, 1.37835852, 0.09694707,\n",
      "       2.47294285, 1.44345413, 4.028559  , 0.84599877, 0.77726347])\n"
     ]
    },
    {
     "ename": "KeyboardInterrupt",
     "evalue": "",
     "output_type": "error",
     "traceback": [
      "\u001b[0;31m---------------------------------------------------------------------------\u001b[0m",
      "\u001b[0;31mKeyboardInterrupt\u001b[0m                         Traceback (most recent call last)",
      "Input \u001b[0;32mIn [112]\u001b[0m, in \u001b[0;36m<cell line: 1>\u001b[0;34m()\u001b[0m\n\u001b[1;32m      1\u001b[0m \u001b[38;5;28;01mfor\u001b[39;00m i \u001b[38;5;129;01min\u001b[39;00m \u001b[38;5;28mreversed\u001b[39m(\u001b[38;5;28mrange\u001b[39m(\u001b[38;5;241m1\u001b[39m, \u001b[38;5;241m148\u001b[39m)):\n\u001b[0;32m----> 2\u001b[0m     \u001b[43molg\u001b[49m\u001b[38;5;241;43m.\u001b[39;49m\u001b[43mupdate_guess\u001b[49m\u001b[43m(\u001b[49m\u001b[43mi\u001b[49m\u001b[43m)\u001b[49m\n\u001b[1;32m      3\u001b[0m     \u001b[38;5;28mprint\u001b[39m(i)\n\u001b[1;32m      4\u001b[0m     \u001b[38;5;28mprint\u001b[39m(olg\u001b[38;5;241m.\u001b[39mhistory[i][\u001b[38;5;241m-\u001b[39m\u001b[38;5;241m1\u001b[39m])\n",
      "File \u001b[0;32m~/science/olg/olg.py:609\u001b[0m, in \u001b[0;36mupdate_guess\u001b[0;34m(self, t, t_0)\u001b[0m\n\u001b[1;32m    604\u001b[0m     \u001b[38;5;28;01mreturn\u001b[39;00m system\n\u001b[1;32m    608\u001b[0m obj_jit \u001b[38;5;241m=\u001b[39m jit(equilibrium)\n\u001b[0;32m--> 609\u001b[0m obj_grad \u001b[38;5;241m=\u001b[39m jit(jacfwd(obj_jit))\n\u001b[1;32m    610\u001b[0m obj_hess \u001b[38;5;241m=\u001b[39m jit(jacrev(jacfwd(obj_jit)))\n\u001b[1;32m    613\u001b[0m result \u001b[38;5;241m=\u001b[39m minimize_ipopt(obj_jit, jac\u001b[38;5;241m=\u001b[39mobj_grad, hess\u001b[38;5;241m=\u001b[39mobj_hess, x0\u001b[38;5;241m=\u001b[39mz_guess\n\u001b[1;32m    614\u001b[0m                     , options \u001b[38;5;241m=\u001b[39m {\u001b[38;5;124m\"\u001b[39m\u001b[38;5;124mmax_iter\u001b[39m\u001b[38;5;124m\"\u001b[39m:\u001b[38;5;28mself\u001b[39m\u001b[38;5;241m.\u001b[39mmax_iter, \u001b[38;5;124m\"\u001b[39m\u001b[38;5;124mprint_level\u001b[39m\u001b[38;5;124m\"\u001b[39m:\u001b[38;5;241m0\u001b[39m,\n\u001b[1;32m    615\u001b[0m                                  \u001b[38;5;124m\"\u001b[39m\u001b[38;5;124mcheck_derivatives_for_naninf\u001b[39m\u001b[38;5;124m\"\u001b[39m:\u001b[38;5;124m\"\u001b[39m\u001b[38;5;124myes\u001b[39m\u001b[38;5;124m\"\u001b[39m}\n\u001b[1;32m    616\u001b[0m                     , tol\u001b[38;5;241m=\u001b[39m\u001b[38;5;241m1e-4\u001b[39m)\n",
      "File \u001b[0;32m~/anaconda3/envs/olg/lib/python3.8/site-packages/cyipopt/scipy_interface.py:311\u001b[0m, in \u001b[0;36mminimize_ipopt\u001b[0;34m(fun, x0, args, kwargs, method, jac, hess, hessp, bounds, constraints, tol, callback, options)\u001b[0m\n\u001b[1;32m    308\u001b[0m         msg \u001b[38;5;241m=\u001b[39m \u001b[38;5;124m'\u001b[39m\u001b[38;5;124mInvalid option for IPOPT: \u001b[39m\u001b[38;5;132;01m{0}\u001b[39;00m\u001b[38;5;124m: \u001b[39m\u001b[38;5;132;01m{1}\u001b[39;00m\u001b[38;5;124m (Original message: \u001b[39m\u001b[38;5;124m\"\u001b[39m\u001b[38;5;132;01m{2}\u001b[39;00m\u001b[38;5;124m\"\u001b[39m\u001b[38;5;124m)\u001b[39m\u001b[38;5;124m'\u001b[39m\n\u001b[1;32m    309\u001b[0m         \u001b[38;5;28;01mraise\u001b[39;00m \u001b[38;5;167;01mTypeError\u001b[39;00m(msg\u001b[38;5;241m.\u001b[39mformat(option, value, e))\n\u001b[0;32m--> 311\u001b[0m x, info \u001b[38;5;241m=\u001b[39m \u001b[43mnlp\u001b[49m\u001b[38;5;241;43m.\u001b[39;49m\u001b[43msolve\u001b[49m\u001b[43m(\u001b[49m\u001b[43m_x0\u001b[49m\u001b[43m)\u001b[49m\n\u001b[1;32m    313\u001b[0m \u001b[38;5;28;01mif\u001b[39;00m np\u001b[38;5;241m.\u001b[39masarray(x0)\u001b[38;5;241m.\u001b[39mshape \u001b[38;5;241m==\u001b[39m ():\n\u001b[1;32m    314\u001b[0m     x \u001b[38;5;241m=\u001b[39m x[\u001b[38;5;241m0\u001b[39m]\n",
      "File \u001b[0;32m~/anaconda3/envs/olg/lib/python3.8/site-packages/cyipopt/cython/ipopt_wrapper.pyx:642\u001b[0m, in \u001b[0;36mipopt_wrapper.Problem.solve\u001b[0;34m()\u001b[0m\n",
      "File \u001b[0;32m~/anaconda3/envs/olg/lib/python3.8/site-packages/cyipopt/cython/ipopt_wrapper.pyx:676\u001b[0m, in \u001b[0;36mipopt_wrapper.objective_cb\u001b[0;34m()\u001b[0m\n",
      "File \u001b[0;32m~/anaconda3/envs/olg/lib/python3.8/site-packages/cyipopt/scipy_interface.py:142\u001b[0m, in \u001b[0;36mIpoptProblemWrapper.objective\u001b[0;34m(self, x)\u001b[0m\n\u001b[1;32m    140\u001b[0m \u001b[38;5;28;01mdef\u001b[39;00m \u001b[38;5;21mobjective\u001b[39m(\u001b[38;5;28mself\u001b[39m, x):\n\u001b[1;32m    141\u001b[0m     \u001b[38;5;28mself\u001b[39m\u001b[38;5;241m.\u001b[39mnfev \u001b[38;5;241m+\u001b[39m\u001b[38;5;241m=\u001b[39m \u001b[38;5;241m1\u001b[39m\n\u001b[0;32m--> 142\u001b[0m     \u001b[38;5;28;01mreturn\u001b[39;00m \u001b[38;5;28;43mself\u001b[39;49m\u001b[38;5;241;43m.\u001b[39;49m\u001b[43mfun\u001b[49m\u001b[43m(\u001b[49m\u001b[43mx\u001b[49m\u001b[43m,\u001b[49m\u001b[43m \u001b[49m\u001b[38;5;241;43m*\u001b[39;49m\u001b[38;5;28;43mself\u001b[39;49m\u001b[38;5;241;43m.\u001b[39;49m\u001b[43margs\u001b[49m\u001b[43m,\u001b[49m\u001b[43m \u001b[49m\u001b[38;5;241;43m*\u001b[39;49m\u001b[38;5;241;43m*\u001b[39;49m\u001b[38;5;28;43mself\u001b[39;49m\u001b[38;5;241;43m.\u001b[39;49m\u001b[43mkwargs\u001b[49m\u001b[43m)\u001b[49m\n",
      "    \u001b[0;31m[... skipping hidden 1 frame]\u001b[0m\n",
      "File \u001b[0;32m~/anaconda3/envs/olg/lib/python3.8/site-packages/jax/_src/api.py:473\u001b[0m, in \u001b[0;36m_cpp_jit.<locals>.cache_miss\u001b[0;34m(*args, **kwargs)\u001b[0m\n\u001b[1;32m    471\u001b[0m   in_type \u001b[38;5;241m=\u001b[39m pe\u001b[38;5;241m.\u001b[39minfer_lambda_input_type(\u001b[38;5;28;01mNone\u001b[39;00m, args_flat)\n\u001b[1;32m    472\u001b[0m   flat_fun \u001b[38;5;241m=\u001b[39m lu\u001b[38;5;241m.\u001b[39mannotate(flat_fun, in_type)\n\u001b[0;32m--> 473\u001b[0m out_flat \u001b[38;5;241m=\u001b[39m \u001b[43mxla\u001b[49m\u001b[38;5;241;43m.\u001b[39;49m\u001b[43mxla_call\u001b[49m\u001b[43m(\u001b[49m\n\u001b[1;32m    474\u001b[0m \u001b[43m    \u001b[49m\u001b[43mflat_fun\u001b[49m\u001b[43m,\u001b[49m\u001b[43m \u001b[49m\u001b[38;5;241;43m*\u001b[39;49m\u001b[43margs_flat\u001b[49m\u001b[43m,\u001b[49m\n\u001b[1;32m    475\u001b[0m \u001b[43m    \u001b[49m\u001b[43mdevice\u001b[49m\u001b[38;5;241;43m=\u001b[39;49m\u001b[43mdevice\u001b[49m\u001b[43m,\u001b[49m\u001b[43m \u001b[49m\u001b[43mbackend\u001b[49m\u001b[38;5;241;43m=\u001b[39;49m\u001b[43mbackend\u001b[49m\u001b[43m,\u001b[49m\u001b[43m \u001b[49m\u001b[43mname\u001b[49m\u001b[38;5;241;43m=\u001b[39;49m\u001b[43mflat_fun\u001b[49m\u001b[38;5;241;43m.\u001b[39;49m\u001b[38;5;18;43m__name__\u001b[39;49m\u001b[43m,\u001b[49m\n\u001b[1;32m    476\u001b[0m \u001b[43m    \u001b[49m\u001b[43mdonated_invars\u001b[49m\u001b[38;5;241;43m=\u001b[39;49m\u001b[43mdonated_invars\u001b[49m\u001b[43m,\u001b[49m\u001b[43m \u001b[49m\u001b[43minline\u001b[49m\u001b[38;5;241;43m=\u001b[39;49m\u001b[43minline\u001b[49m\u001b[43m,\u001b[49m\u001b[43m \u001b[49m\u001b[43mkeep_unused\u001b[49m\u001b[38;5;241;43m=\u001b[39;49m\u001b[43mkeep_unused\u001b[49m\u001b[43m)\u001b[49m\n\u001b[1;32m    477\u001b[0m out_pytree_def \u001b[38;5;241m=\u001b[39m out_tree()\n\u001b[1;32m    478\u001b[0m out \u001b[38;5;241m=\u001b[39m tree_unflatten(out_pytree_def, out_flat)\n",
      "File \u001b[0;32m~/anaconda3/envs/olg/lib/python3.8/site-packages/jax/core.py:1767\u001b[0m, in \u001b[0;36mCallPrimitive.bind\u001b[0;34m(self, fun, *args, **params)\u001b[0m\n\u001b[1;32m   1766\u001b[0m \u001b[38;5;28;01mdef\u001b[39;00m \u001b[38;5;21mbind\u001b[39m(\u001b[38;5;28mself\u001b[39m, fun, \u001b[38;5;241m*\u001b[39margs, \u001b[38;5;241m*\u001b[39m\u001b[38;5;241m*\u001b[39mparams):\n\u001b[0;32m-> 1767\u001b[0m   \u001b[38;5;28;01mreturn\u001b[39;00m \u001b[43mcall_bind\u001b[49m\u001b[43m(\u001b[49m\u001b[38;5;28;43mself\u001b[39;49m\u001b[43m,\u001b[49m\u001b[43m \u001b[49m\u001b[43mfun\u001b[49m\u001b[43m,\u001b[49m\u001b[43m \u001b[49m\u001b[38;5;241;43m*\u001b[39;49m\u001b[43margs\u001b[49m\u001b[43m,\u001b[49m\u001b[43m \u001b[49m\u001b[38;5;241;43m*\u001b[39;49m\u001b[38;5;241;43m*\u001b[39;49m\u001b[43mparams\u001b[49m\u001b[43m)\u001b[49m\n",
      "File \u001b[0;32m~/anaconda3/envs/olg/lib/python3.8/site-packages/jax/core.py:1783\u001b[0m, in \u001b[0;36mcall_bind\u001b[0;34m(primitive, fun, *args, **params)\u001b[0m\n\u001b[1;32m   1781\u001b[0m tracers \u001b[38;5;241m=\u001b[39m \u001b[38;5;28mmap\u001b[39m(top_trace\u001b[38;5;241m.\u001b[39mfull_raise, args)\n\u001b[1;32m   1782\u001b[0m fun_ \u001b[38;5;241m=\u001b[39m lu\u001b[38;5;241m.\u001b[39mannotate(fun_, fun\u001b[38;5;241m.\u001b[39min_type)\n\u001b[0;32m-> 1783\u001b[0m outs \u001b[38;5;241m=\u001b[39m \u001b[43mtop_trace\u001b[49m\u001b[38;5;241;43m.\u001b[39;49m\u001b[43mprocess_call\u001b[49m\u001b[43m(\u001b[49m\u001b[43mprimitive\u001b[49m\u001b[43m,\u001b[49m\u001b[43m \u001b[49m\u001b[43mfun_\u001b[49m\u001b[43m,\u001b[49m\u001b[43m \u001b[49m\u001b[43mtracers\u001b[49m\u001b[43m,\u001b[49m\u001b[43m \u001b[49m\u001b[43mparams\u001b[49m\u001b[43m)\u001b[49m\n\u001b[1;32m   1784\u001b[0m \u001b[38;5;28;01mreturn\u001b[39;00m \u001b[38;5;28mmap\u001b[39m(full_lower, apply_todos(env_trace_todo(), outs))\n",
      "File \u001b[0;32m~/anaconda3/envs/olg/lib/python3.8/site-packages/jax/core.py:680\u001b[0m, in \u001b[0;36mEvalTrace.process_call\u001b[0;34m(self, primitive, f, tracers, params)\u001b[0m\n\u001b[1;32m    679\u001b[0m \u001b[38;5;28;01mdef\u001b[39;00m \u001b[38;5;21mprocess_call\u001b[39m(\u001b[38;5;28mself\u001b[39m, primitive, f, tracers, params):\n\u001b[0;32m--> 680\u001b[0m   \u001b[38;5;28;01mreturn\u001b[39;00m \u001b[43mprimitive\u001b[49m\u001b[38;5;241;43m.\u001b[39;49m\u001b[43mimpl\u001b[49m\u001b[43m(\u001b[49m\u001b[43mf\u001b[49m\u001b[43m,\u001b[49m\u001b[43m \u001b[49m\u001b[38;5;241;43m*\u001b[39;49m\u001b[43mtracers\u001b[49m\u001b[43m,\u001b[49m\u001b[43m \u001b[49m\u001b[38;5;241;43m*\u001b[39;49m\u001b[38;5;241;43m*\u001b[39;49m\u001b[43mparams\u001b[49m\u001b[43m)\u001b[49m\n",
      "File \u001b[0;32m~/anaconda3/envs/olg/lib/python3.8/site-packages/jax/_src/dispatch.py:182\u001b[0m, in \u001b[0;36m_xla_call_impl\u001b[0;34m(***failed resolving arguments***)\u001b[0m\n\u001b[1;32m    180\u001b[0m \u001b[38;5;28;01mif\u001b[39;00m fun\u001b[38;5;241m.\u001b[39min_type \u001b[38;5;129;01mis\u001b[39;00m \u001b[38;5;129;01mnot\u001b[39;00m \u001b[38;5;28;01mNone\u001b[39;00m:\n\u001b[1;32m    181\u001b[0m   arg_specs \u001b[38;5;241m=\u001b[39m [(\u001b[38;5;28;01mNone\u001b[39;00m, \u001b[38;5;241m*\u001b[39mxs) \u001b[38;5;28;01mfor\u001b[39;00m _, \u001b[38;5;241m*\u001b[39mxs \u001b[38;5;129;01min\u001b[39;00m arg_specs]\n\u001b[0;32m--> 182\u001b[0m compiled_fun \u001b[38;5;241m=\u001b[39m \u001b[43m_xla_callable\u001b[49m\u001b[43m(\u001b[49m\u001b[43mfun\u001b[49m\u001b[43m,\u001b[49m\u001b[43m \u001b[49m\u001b[43mdevice\u001b[49m\u001b[43m,\u001b[49m\u001b[43m \u001b[49m\u001b[43mbackend\u001b[49m\u001b[43m,\u001b[49m\u001b[43m \u001b[49m\u001b[43mname\u001b[49m\u001b[43m,\u001b[49m\u001b[43m \u001b[49m\u001b[43mdonated_invars\u001b[49m\u001b[43m,\u001b[49m\n\u001b[1;32m    183\u001b[0m \u001b[43m                             \u001b[49m\u001b[43mkeep_unused\u001b[49m\u001b[43m,\u001b[49m\u001b[43m \u001b[49m\u001b[38;5;241;43m*\u001b[39;49m\u001b[43marg_specs\u001b[49m\u001b[43m)\u001b[49m\n\u001b[1;32m    184\u001b[0m \u001b[38;5;28;01mtry\u001b[39;00m:\n\u001b[1;32m    185\u001b[0m   \u001b[38;5;28;01mreturn\u001b[39;00m compiled_fun(\u001b[38;5;241m*\u001b[39margs)\n",
      "File \u001b[0;32m~/anaconda3/envs/olg/lib/python3.8/site-packages/jax/linear_util.py:285\u001b[0m, in \u001b[0;36mcache.<locals>.memoized_fun\u001b[0;34m(fun, *args)\u001b[0m\n\u001b[1;32m    283\u001b[0m   fun\u001b[38;5;241m.\u001b[39mpopulate_stores(stores)\n\u001b[1;32m    284\u001b[0m \u001b[38;5;28;01melse\u001b[39;00m:\n\u001b[0;32m--> 285\u001b[0m   ans \u001b[38;5;241m=\u001b[39m \u001b[43mcall\u001b[49m\u001b[43m(\u001b[49m\u001b[43mfun\u001b[49m\u001b[43m,\u001b[49m\u001b[43m \u001b[49m\u001b[38;5;241;43m*\u001b[39;49m\u001b[43margs\u001b[49m\u001b[43m)\u001b[49m\n\u001b[1;32m    286\u001b[0m   cache[key] \u001b[38;5;241m=\u001b[39m (ans, fun\u001b[38;5;241m.\u001b[39mstores)\n\u001b[1;32m    288\u001b[0m thread_local\u001b[38;5;241m.\u001b[39mmost_recent_entry \u001b[38;5;241m=\u001b[39m weakref\u001b[38;5;241m.\u001b[39mref(ans)\n",
      "File \u001b[0;32m~/anaconda3/envs/olg/lib/python3.8/site-packages/jax/_src/dispatch.py:230\u001b[0m, in \u001b[0;36m_xla_callable_uncached\u001b[0;34m(fun, device, backend, name, donated_invars, keep_unused, *arg_specs)\u001b[0m\n\u001b[1;32m    228\u001b[0m \u001b[38;5;28;01mdef\u001b[39;00m \u001b[38;5;21m_xla_callable_uncached\u001b[39m(fun: lu\u001b[38;5;241m.\u001b[39mWrappedFun, device, backend, name,\n\u001b[1;32m    229\u001b[0m                            donated_invars, keep_unused, \u001b[38;5;241m*\u001b[39marg_specs):\n\u001b[0;32m--> 230\u001b[0m   \u001b[38;5;28;01mreturn\u001b[39;00m \u001b[43mlower_xla_callable\u001b[49m\u001b[43m(\u001b[49m\u001b[43mfun\u001b[49m\u001b[43m,\u001b[49m\u001b[43m \u001b[49m\u001b[43mdevice\u001b[49m\u001b[43m,\u001b[49m\u001b[43m \u001b[49m\u001b[43mbackend\u001b[49m\u001b[43m,\u001b[49m\u001b[43m \u001b[49m\u001b[43mname\u001b[49m\u001b[43m,\u001b[49m\u001b[43m \u001b[49m\u001b[43mdonated_invars\u001b[49m\u001b[43m,\u001b[49m\u001b[43m \u001b[49m\u001b[38;5;28;43;01mFalse\u001b[39;49;00m\u001b[43m,\u001b[49m\n\u001b[1;32m    231\u001b[0m \u001b[43m                            \u001b[49m\u001b[43mkeep_unused\u001b[49m\u001b[43m,\u001b[49m\u001b[43m \u001b[49m\u001b[38;5;241;43m*\u001b[39;49m\u001b[43marg_specs\u001b[49m\u001b[43m)\u001b[49m\u001b[38;5;241m.\u001b[39mcompile()\u001b[38;5;241m.\u001b[39munsafe_call\n",
      "File \u001b[0;32m~/anaconda3/envs/olg/lib/python3.8/site-packages/jax/_src/profiler.py:206\u001b[0m, in \u001b[0;36mannotate_function.<locals>.wrapper\u001b[0;34m(*args, **kwargs)\u001b[0m\n\u001b[1;32m    203\u001b[0m \u001b[38;5;129m@wraps\u001b[39m(func)\n\u001b[1;32m    204\u001b[0m \u001b[38;5;28;01mdef\u001b[39;00m \u001b[38;5;21mwrapper\u001b[39m(\u001b[38;5;241m*\u001b[39margs, \u001b[38;5;241m*\u001b[39m\u001b[38;5;241m*\u001b[39mkwargs):\n\u001b[1;32m    205\u001b[0m   \u001b[38;5;28;01mwith\u001b[39;00m TraceAnnotation(name, \u001b[38;5;241m*\u001b[39m\u001b[38;5;241m*\u001b[39mdecorator_kwargs):\n\u001b[0;32m--> 206\u001b[0m     \u001b[38;5;28;01mreturn\u001b[39;00m \u001b[43mfunc\u001b[49m\u001b[43m(\u001b[49m\u001b[38;5;241;43m*\u001b[39;49m\u001b[43margs\u001b[49m\u001b[43m,\u001b[49m\u001b[43m \u001b[49m\u001b[38;5;241;43m*\u001b[39;49m\u001b[38;5;241;43m*\u001b[39;49m\u001b[43mkwargs\u001b[49m\u001b[43m)\u001b[49m\n\u001b[1;32m    207\u001b[0m   \u001b[38;5;28;01mreturn\u001b[39;00m wrapper\n",
      "File \u001b[0;32m~/anaconda3/envs/olg/lib/python3.8/site-packages/jax/_src/dispatch.py:340\u001b[0m, in \u001b[0;36mlower_xla_callable\u001b[0;34m(fun, device, backend, name, donated_invars, always_lower, keep_unused, *arg_specs)\u001b[0m\n\u001b[1;32m    338\u001b[0m module_name \u001b[38;5;241m=\u001b[39m \u001b[38;5;124mf\u001b[39m\u001b[38;5;124m\"\u001b[39m\u001b[38;5;124mjit_\u001b[39m\u001b[38;5;132;01m{\u001b[39;00mfun\u001b[38;5;241m.\u001b[39m\u001b[38;5;18m__name__\u001b[39m\u001b[38;5;132;01m}\u001b[39;00m\u001b[38;5;124m\"\u001b[39m\n\u001b[1;32m    339\u001b[0m effects \u001b[38;5;241m=\u001b[39m [eff \u001b[38;5;28;01mfor\u001b[39;00m eff \u001b[38;5;129;01min\u001b[39;00m closed_jaxpr\u001b[38;5;241m.\u001b[39meffects \u001b[38;5;28;01mif\u001b[39;00m eff \u001b[38;5;129;01min\u001b[39;00m core\u001b[38;5;241m.\u001b[39mordered_effects]\n\u001b[0;32m--> 340\u001b[0m module, keepalive \u001b[38;5;241m=\u001b[39m \u001b[43mmlir\u001b[49m\u001b[38;5;241;43m.\u001b[39;49m\u001b[43mlower_jaxpr_to_module\u001b[49m\u001b[43m(\u001b[49m\n\u001b[1;32m    341\u001b[0m \u001b[43m    \u001b[49m\u001b[43mmodule_name\u001b[49m\u001b[43m,\u001b[49m\u001b[43m \u001b[49m\u001b[43mclosed_jaxpr\u001b[49m\u001b[43m,\u001b[49m\u001b[43m \u001b[49m\u001b[43meffects\u001b[49m\u001b[43m,\u001b[49m\u001b[43m \u001b[49m\u001b[43mbackend\u001b[49m\u001b[38;5;241;43m.\u001b[39;49m\u001b[43mplatform\u001b[49m\u001b[43m,\u001b[49m\n\u001b[1;32m    342\u001b[0m \u001b[43m    \u001b[49m\u001b[43mmlir\u001b[49m\u001b[38;5;241;43m.\u001b[39;49m\u001b[43mReplicaAxisContext\u001b[49m\u001b[43m(\u001b[49m\u001b[43maxis_env\u001b[49m\u001b[43m)\u001b[49m\u001b[43m,\u001b[49m\u001b[43m \u001b[49m\u001b[43mname_stack\u001b[49m\u001b[43m,\u001b[49m\u001b[43m \u001b[49m\u001b[43mdonated_invars\u001b[49m\u001b[43m)\u001b[49m\n\u001b[1;32m    343\u001b[0m \u001b[38;5;28;01mreturn\u001b[39;00m XlaComputation(\n\u001b[1;32m    344\u001b[0m     name, module, \u001b[38;5;28;01mFalse\u001b[39;00m, donated_invars, which_explicit, nreps\u001b[38;5;241m=\u001b[39mnreps,\n\u001b[1;32m    345\u001b[0m     device\u001b[38;5;241m=\u001b[39mdevice, backend\u001b[38;5;241m=\u001b[39mbackend, tuple_args\u001b[38;5;241m=\u001b[39mtuple_args,\n\u001b[1;32m    346\u001b[0m     in_avals\u001b[38;5;241m=\u001b[39mabstract_args, out_avals\u001b[38;5;241m=\u001b[39mout_avals, effects\u001b[38;5;241m=\u001b[39meffects,\n\u001b[1;32m    347\u001b[0m     kept_var_idx\u001b[38;5;241m=\u001b[39mkept_var_idx, keepalive\u001b[38;5;241m=\u001b[39mkeepalive)\n",
      "File \u001b[0;32m~/anaconda3/envs/olg/lib/python3.8/site-packages/jax/interpreters/mlir.py:546\u001b[0m, in \u001b[0;36mlower_jaxpr_to_module\u001b[0;34m(module_name, jaxpr, effects, platform, axis_context, name_stack, donated_args, replicated_args, arg_shardings, result_shardings)\u001b[0m\n\u001b[1;32m    543\u001b[0m   \u001b[38;5;28;01mif\u001b[39;00m unlowerable_effects:\n\u001b[1;32m    544\u001b[0m     \u001b[38;5;28;01mraise\u001b[39;00m \u001b[38;5;167;01mValueError\u001b[39;00m(\n\u001b[1;32m    545\u001b[0m         \u001b[38;5;124mf\u001b[39m\u001b[38;5;124m'\u001b[39m\u001b[38;5;124mCannot lower jaxpr with unlowerable effects: \u001b[39m\u001b[38;5;132;01m{\u001b[39;00munlowerable_effects\u001b[38;5;132;01m}\u001b[39;00m\u001b[38;5;124m'\u001b[39m)\n\u001b[0;32m--> 546\u001b[0m   \u001b[43mlower_jaxpr_to_fun\u001b[49m\u001b[43m(\u001b[49m\n\u001b[1;32m    547\u001b[0m \u001b[43m      \u001b[49m\u001b[43mctx\u001b[49m\u001b[43m,\u001b[49m\u001b[43m \u001b[49m\u001b[38;5;124;43m\"\u001b[39;49m\u001b[38;5;124;43mmain\u001b[39;49m\u001b[38;5;124;43m\"\u001b[39;49m\u001b[43m,\u001b[49m\u001b[43m \u001b[49m\u001b[43mjaxpr\u001b[49m\u001b[43m,\u001b[49m\u001b[43m \u001b[49m\u001b[43meffects\u001b[49m\u001b[43m,\u001b[49m\u001b[43m \u001b[49m\u001b[43mpublic\u001b[49m\u001b[38;5;241;43m=\u001b[39;49m\u001b[38;5;28;43;01mTrue\u001b[39;49;00m\u001b[43m,\u001b[49m\u001b[43m \u001b[49m\u001b[43mcreate_tokens\u001b[49m\u001b[38;5;241;43m=\u001b[39;49m\u001b[38;5;28;43;01mTrue\u001b[39;49;00m\u001b[43m,\u001b[49m\n\u001b[1;32m    548\u001b[0m \u001b[43m      \u001b[49m\u001b[43mreplace_tokens_with_dummy\u001b[49m\u001b[38;5;241;43m=\u001b[39;49m\u001b[38;5;28;43;01mTrue\u001b[39;49;00m\u001b[43m,\u001b[49m\u001b[43m \u001b[49m\u001b[43mreplicated_args\u001b[49m\u001b[38;5;241;43m=\u001b[39;49m\u001b[43mreplicated_args\u001b[49m\u001b[43m,\u001b[49m\n\u001b[1;32m    549\u001b[0m \u001b[43m      \u001b[49m\u001b[43marg_shardings\u001b[49m\u001b[38;5;241;43m=\u001b[39;49m\u001b[43marg_shardings\u001b[49m\u001b[43m,\u001b[49m\u001b[43m \u001b[49m\u001b[43mresult_shardings\u001b[49m\u001b[38;5;241;43m=\u001b[39;49m\u001b[43mresult_shardings\u001b[49m\u001b[43m,\u001b[49m\n\u001b[1;32m    550\u001b[0m \u001b[43m      \u001b[49m\u001b[43minput_output_aliases\u001b[49m\u001b[38;5;241;43m=\u001b[39;49m\u001b[43minput_output_aliases\u001b[49m\u001b[43m)\u001b[49m\n\u001b[1;32m    552\u001b[0m ctx\u001b[38;5;241m.\u001b[39mmodule\u001b[38;5;241m.\u001b[39moperation\u001b[38;5;241m.\u001b[39mverify()\n\u001b[1;32m    553\u001b[0m \u001b[38;5;28;01mreturn\u001b[39;00m ctx\u001b[38;5;241m.\u001b[39mmodule, ctx\u001b[38;5;241m.\u001b[39mkeepalives\n",
      "File \u001b[0;32m~/anaconda3/envs/olg/lib/python3.8/site-packages/jax/interpreters/mlir.py:800\u001b[0m, in \u001b[0;36mlower_jaxpr_to_fun\u001b[0;34m(ctx, name, jaxpr, effects, create_tokens, public, replace_tokens_with_dummy, replicated_args, arg_shardings, result_shardings, use_sharding_annotations, input_output_aliases)\u001b[0m\n\u001b[1;32m    797\u001b[0m     args\u001b[38;5;241m.\u001b[39mappend(arg)\n\u001b[1;32m    798\u001b[0m callee_name_stack \u001b[38;5;241m=\u001b[39m xla\u001b[38;5;241m.\u001b[39mextend_name_stack(ctx\u001b[38;5;241m.\u001b[39mname_stack,\n\u001b[1;32m    799\u001b[0m                                           util\u001b[38;5;241m.\u001b[39mwrap_name(name, \u001b[38;5;124m'\u001b[39m\u001b[38;5;124mjit\u001b[39m\u001b[38;5;124m'\u001b[39m))\n\u001b[0;32m--> 800\u001b[0m out_vals, tokens_out \u001b[38;5;241m=\u001b[39m \u001b[43mjaxpr_subcomp\u001b[49m\u001b[43m(\u001b[49m\u001b[43mctx\u001b[49m\u001b[38;5;241;43m.\u001b[39;49m\u001b[43mreplace\u001b[49m\u001b[43m(\u001b[49m\u001b[43mname_stack\u001b[49m\u001b[38;5;241;43m=\u001b[39;49m\u001b[43mcallee_name_stack\u001b[49m\u001b[43m)\u001b[49m\u001b[43m,\u001b[49m\n\u001b[1;32m    801\u001b[0m \u001b[43m                                     \u001b[49m\u001b[43mjaxpr\u001b[49m\u001b[38;5;241;43m.\u001b[39;49m\u001b[43mjaxpr\u001b[49m\u001b[43m,\u001b[49m\u001b[43m \u001b[49m\u001b[43mtokens_in\u001b[49m\u001b[43m,\u001b[49m\u001b[43m \u001b[49m\u001b[38;5;28;43mmap\u001b[39;49m\u001b[43m(\u001b[49m\u001b[43mir_constants\u001b[49m\u001b[43m,\u001b[49m\u001b[43m \u001b[49m\u001b[43mjaxpr\u001b[49m\u001b[38;5;241;43m.\u001b[39;49m\u001b[43mconsts\u001b[49m\u001b[43m)\u001b[49m\u001b[43m,\u001b[49m\n\u001b[1;32m    802\u001b[0m \u001b[43m                                     \u001b[49m\u001b[38;5;241;43m*\u001b[39;49m\u001b[43margs\u001b[49m\u001b[43m)\u001b[49m\n\u001b[1;32m    803\u001b[0m outs \u001b[38;5;241m=\u001b[39m []\n\u001b[1;32m    804\u001b[0m \u001b[38;5;28;01mif\u001b[39;00m create_tokens:\n",
      "File \u001b[0;32m~/anaconda3/envs/olg/lib/python3.8/site-packages/jax/interpreters/mlir.py:894\u001b[0m, in \u001b[0;36mjaxpr_subcomp\u001b[0;34m(ctx, jaxpr, tokens, consts, *args)\u001b[0m\n\u001b[1;32m    892\u001b[0m \u001b[38;5;28;01melse\u001b[39;00m:\n\u001b[1;32m    893\u001b[0m   source_info \u001b[38;5;241m=\u001b[39m eqn\u001b[38;5;241m.\u001b[39msource_info\n\u001b[0;32m--> 894\u001b[0m loc \u001b[38;5;241m=\u001b[39m \u001b[43m_source_info_to_location\u001b[49m\u001b[43m(\u001b[49m\u001b[43meqn\u001b[49m\u001b[38;5;241;43m.\u001b[39;49m\u001b[43mprimitive\u001b[49m\u001b[43m,\u001b[49m\u001b[43m \u001b[49m\u001b[43meqn\u001b[49m\u001b[38;5;241;43m.\u001b[39;49m\u001b[43mparams\u001b[49m\u001b[43m,\u001b[49m\u001b[43m \u001b[49m\u001b[43msource_info\u001b[49m\u001b[43m,\u001b[49m\n\u001b[1;32m    895\u001b[0m \u001b[43m                               \u001b[49m\u001b[43mname_stack\u001b[49m\u001b[38;5;241;43m=\u001b[39;49m\u001b[43mctx\u001b[49m\u001b[38;5;241;43m.\u001b[39;49m\u001b[43mname_stack\u001b[49m\u001b[43m)\u001b[49m\n\u001b[1;32m    896\u001b[0m \u001b[38;5;28;01mwith\u001b[39;00m source_info_util\u001b[38;5;241m.\u001b[39muser_context(eqn\u001b[38;5;241m.\u001b[39msource_info\u001b[38;5;241m.\u001b[39mtraceback), loc:\n\u001b[1;32m    897\u001b[0m   \u001b[38;5;28;01mif\u001b[39;00m eqn\u001b[38;5;241m.\u001b[39mprimitive \u001b[38;5;129;01min\u001b[39;00m _platform_specific_lowerings[ctx\u001b[38;5;241m.\u001b[39mplatform]:\n",
      "File \u001b[0;32m~/anaconda3/envs/olg/lib/python3.8/site-packages/jax/interpreters/mlir.py:303\u001b[0m, in \u001b[0;36m_source_info_to_location\u001b[0;34m(primitive, params, source_info, name_stack)\u001b[0m\n\u001b[1;32m    301\u001b[0m   \u001b[38;5;28;01massert\u001b[39;00m \u001b[38;5;28misinstance\u001b[39m(name_stack, \u001b[38;5;28mstr\u001b[39m)\n\u001b[1;32m    302\u001b[0m   eqn_str \u001b[38;5;241m=\u001b[39m name_stack \u001b[38;5;241m+\u001b[39m core\u001b[38;5;241m.\u001b[39mstr_eqn_compact(primitive\u001b[38;5;241m.\u001b[39mname, params)\n\u001b[0;32m--> 303\u001b[0m frame \u001b[38;5;241m=\u001b[39m \u001b[43msource_info_util\u001b[49m\u001b[38;5;241;43m.\u001b[39;49m\u001b[43muser_frame\u001b[49m\u001b[43m(\u001b[49m\u001b[43msource_info\u001b[49m\u001b[43m)\u001b[49m\n\u001b[1;32m    304\u001b[0m \u001b[38;5;28;01mif\u001b[39;00m frame \u001b[38;5;129;01mis\u001b[39;00m \u001b[38;5;28;01mNone\u001b[39;00m:\n\u001b[1;32m    305\u001b[0m   loc \u001b[38;5;241m=\u001b[39m ir\u001b[38;5;241m.\u001b[39mLocation\u001b[38;5;241m.\u001b[39munknown()\n",
      "File \u001b[0;32m<string>:2\u001b[0m, in \u001b[0;36m__hash__\u001b[0;34m(self)\u001b[0m\n",
      "\u001b[0;31mKeyboardInterrupt\u001b[0m: "
     ]
    }
   ],
   "source": [
    "for i in reversed(range(1, 148)):\n",
    "    olg.update_guess(i)\n",
    "    print(i)\n",
    "    print(olg.history[i][-1])"
   ]
  },
  {
   "cell_type": "code",
   "execution_count": null,
   "metadata": {},
   "outputs": [],
   "source": [
    "olg.Consumption[:200]"
   ]
  },
  {
   "cell_type": "code",
   "execution_count": 107,
   "metadata": {},
   "outputs": [
    {
     "data": {
      "text/plain": [
       "     fun: 1.5511734732787217e-12\n",
       "    info: {'x': array([0.07688708, 2.844865  , 0.3517798 , 1.60031385, 0.07687502,\n",
       "       1.63178637, 1.7237573 , 5.0370944 , 0.73935159, 0.66159045]), 'g': array([], dtype=float64), 'obj_val': 1.5511734732787217e-12, 'mult_g': array([], dtype=float64), 'mult_x_L': array([0., 0., 0., 0., 0., 0., 0., 0., 0., 0.]), 'mult_x_U': array([0., 0., 0., 0., 0., 0., 0., 0., 0., 0.]), 'status': 0, 'status_msg': b'Algorithm terminated successfully at a locally optimal point, satisfying the convergence tolerances (can be specified by options).'}\n",
       " message: b'Algorithm terminated successfully at a locally optimal point, satisfying the convergence tolerances (can be specified by options).'\n",
       "    nfev: 21\n",
       "     nit: 15\n",
       "    njev: 17\n",
       "  status: 0\n",
       " success: True\n",
       "       x: array([0.07688708, 2.844865  , 0.3517798 , 1.60031385, 0.07687502,\n",
       "       1.63178637, 1.7237573 , 5.0370944 , 0.73935159, 0.66159045])"
      ]
     },
     "execution_count": 107,
     "metadata": {},
     "output_type": "execute_result"
    }
   ],
   "source": [
    "olg.history[126][1]"
   ]
  },
  {
   "cell_type": "code",
   "execution_count": 104,
   "metadata": {},
   "outputs": [],
   "source": [
    "olg.update_guess(126)"
   ]
  },
  {
   "cell_type": "code",
   "execution_count": 117,
   "metadata": {},
   "outputs": [
    {
     "data": {
      "text/plain": [
       "[<matplotlib.lines.Line2D at 0x7f1f427e0370>]"
      ]
     },
     "execution_count": 117,
     "metadata": {},
     "output_type": "execute_result"
    },
    {
     "data": {
      "image/png": "[encoded data removed]",
      "text/plain": [
       "<Figure size 432x288 with 1 Axes>"
      ]
     },
     "metadata": {
      "needs_background": "light"
     },
     "output_type": "display_data"
    }
   ],
   "source": [
    "plt.plot(olg.L[0,:150])"
   ]
  },
  {
   "cell_type": "code",
   "execution_count": null,
   "metadata": {},
   "outputs": [],
   "source": [
    "olg.evaluate_initial_state()"
   ]
  },
  {
   "cell_type": "code",
   "execution_count": 121,
   "metadata": {},
   "outputs": [
    {
     "data": {
      "text/plain": [
       "[<matplotlib.lines.Line2D at 0x7f1f428419a0>]"
      ]
     },
     "execution_count": 121,
     "metadata": {},
     "output_type": "execute_result"
    },
    {
     "data": {
      "image/png": "[encoded data removed]",
      "text/plain": [
       "<Figure size 432x288 with 1 Axes>"
      ]
     },
     "metadata": {
      "needs_background": "light"
     },
     "output_type": "display_data"
    }
   ],
   "source": [
    "plt.plot(olg.Labor[120:150])"
   ]
  },
  {
   "cell_type": "code",
   "execution_count": 65,
   "metadata": {
    "scrolled": true
   },
   "outputs": [
    {
     "data": {
      "text/plain": [
       "1.348661539231219"
      ]
     },
     "execution_count": 65,
     "metadata": {},
     "output_type": "execute_result"
    }
   ],
   "source": [
    "olg.lmbda_to_price[1,249]"
   ]
  },
  {
   "cell_type": "code",
   "execution_count": 68,
   "metadata": {},
   "outputs": [
    {
     "data": {
      "text/plain": [
       "array([ 0.06861176,  3.16948031,  0.60866257,  1.26994532,  0.06861121,\n",
       "        1.82370699,  1.28349722, 23.5044066 ,  0.97563833,  0.97005048])"
      ]
     },
     "execution_count": 68,
     "metadata": {},
     "output_type": "execute_result"
    }
   ],
   "source": [
    "t=249\n",
    "0.5*np.array([olg.i[0,t+1],olg.k[0,t+2],olg.L_share[0,t+1],\\\n",
    "            olg.lmbda_to_price[0,t+1], olg.i[1,t+1],olg.k[1,t+2],\\\n",
    "            olg.lmbda_to_price[1,t+1],\\\n",
    "            olg.w[t+1], olg.price_N[t+1], olg.price[t+1]])+\\\n",
    "            0.5*np.array([olg.i[0,t],olg.k[0,t+1],olg.L_share[0,t],\\\n",
    "            olg.lmbda_to_price[0,t], olg.i[1,t],olg.k[1,t+1],\\\n",
    "            olg.lmbda_to_price[1,t],\\\n",
    "            olg.w[t], olg.price_N[t], olg.price[t]])"
   ]
  },
  {
   "cell_type": "code",
   "execution_count": 82,
   "metadata": {},
   "outputs": [
    {
     "data": {
      "text/plain": [
       "8.582537239123752"
      ]
     },
     "execution_count": 82,
     "metadata": {},
     "output_type": "execute_result"
    }
   ],
   "source": [
    "olg.w[148]"
   ]
  },
  {
   "cell_type": "code",
   "execution_count": 83,
   "metadata": {},
   "outputs": [
    {
     "data": {
      "text/plain": [
       "[     fun: 1.3167890216468667e-17\n",
       "     info: {'x': array([0.06937677, 3.20596418, 0.44381836, 1.44662514, 0.06937788,\n",
       "        1.84428038, 1.52187372, 6.96987998, 0.81918051, 0.7612096 ]), 'g': array([], dtype=float64), 'obj_val': 1.3167890216468667e-17, 'mult_g': array([], dtype=float64), 'mult_x_L': array([0., 0., 0., 0., 0., 0., 0., 0., 0., 0.]), 'mult_x_U': array([0., 0., 0., 0., 0., 0., 0., 0., 0., 0.]), 'status': 0, 'status_msg': b'Algorithm terminated successfully at a locally optimal point, satisfying the convergence tolerances (can be specified by options).'}\n",
       "  message: b'Algorithm terminated successfully at a locally optimal point, satisfying the convergence tolerances (can be specified by options).'\n",
       "     nfev: 10\n",
       "      nit: 9\n",
       "     njev: 11\n",
       "   status: 0\n",
       "  success: True\n",
       "        x: array([0.06937677, 3.20596418, 0.44381836, 1.44662514, 0.06937788,\n",
       "        1.84428038, 1.52187372, 6.96987998, 0.81918051, 0.7612096 ])]"
      ]
     },
     "execution_count": 83,
     "metadata": {},
     "output_type": "execute_result"
    }
   ],
   "source": [
    "olg.history[148]"
   ]
  },
  {
   "cell_type": "code",
   "execution_count": 78,
   "metadata": {},
   "outputs": [
    {
     "data": {
      "text/plain": [
       "[<matplotlib.lines.Line2D at 0x7f2009f7f9a0>]"
      ]
     },
     "execution_count": 78,
     "metadata": {},
     "output_type": "execute_result"
    },
    {
     "data": {
      "image/png": "[encoded data removed]",
      "text/plain": [
       "<Figure size 432x288 with 1 Axes>"
      ]
     },
     "metadata": {
      "needs_background": "light"
     },
     "output_type": "display_data"
    }
   ],
   "source": [
    "plt.plot(olg.Consumption[:200]/olg.Labor[:200]/olg.A[0,:200])"
   ]
  },
  {
   "cell_type": "code",
   "execution_count": 32,
   "metadata": {},
   "outputs": [
    {
     "data": {
      "text/plain": [
       "[<matplotlib.lines.Line2D at 0x7f200a05aa90>]"
      ]
     },
     "execution_count": 32,
     "metadata": {},
     "output_type": "execute_result"
    },
    {
     "data": {
      "image/png": "[encoded data removed]",
      "text/plain": [
       "<Figure size 432x288 with 1 Axes>"
      ]
     },
     "metadata": {
      "needs_background": "light"
     },
     "output_type": "display_data"
    }
   ],
   "source": [
    "plt.plot(olg.w[:200])"
   ]
  },
  {
   "cell_type": "code",
   "execution_count": 46,
   "metadata": {},
   "outputs": [
    {
     "data": {
      "text/plain": [
       "[<matplotlib.lines.Line2D at 0x7f2009fb7490>]"
      ]
     },
     "execution_count": 46,
     "metadata": {},
     "output_type": "execute_result"
    },
    {
     "data": {
      "image/png": "[encoded data removed]",
      "text/plain": [
       "<Figure size 432x288 with 1 Axes>"
      ]
     },
     "metadata": {
      "needs_background": "light"
     },
     "output_type": "display_data"
    }
   ],
   "source": [
    "plt.plot(olg.a[0,:,150])"
   ]
  },
  {
   "cell_type": "code",
   "execution_count": 45,
   "metadata": {},
   "outputs": [
    {
     "data": {
      "text/plain": [
       "(1.9566893576706055, 0.7650662741534084, 11.769610295671846)"
      ]
     },
     "execution_count": 45,
     "metadata": {},
     "output_type": "execute_result"
    }
   ],
   "source": [
    "olg.household(0,150,100)"
   ]
  },
  {
   "cell_type": "code",
   "execution_count": 13,
   "metadata": {},
   "outputs": [],
   "source": [
    "olg.create_guess()"
   ]
  },
  {
   "cell_type": "code",
   "execution_count": 3,
   "metadata": {},
   "outputs": [],
   "source": [
    "olg.create_guess()"
   ]
  },
  {
   "cell_type": "code",
   "execution_count": 5,
   "metadata": {},
   "outputs": [
    {
     "ename": "TypeError",
     "evalue": "update_guess() missing 1 required positional argument: 't'",
     "output_type": "error",
     "traceback": [
      "\u001b[0;31m---------------------------------------------------------------------------\u001b[0m",
      "\u001b[0;31mTypeError\u001b[0m                                 Traceback (most recent call last)",
      "Input \u001b[0;32mIn [5]\u001b[0m, in \u001b[0;36m<cell line: 1>\u001b[0;34m()\u001b[0m\n\u001b[0;32m----> 1\u001b[0m \u001b[43molg\u001b[49m\u001b[38;5;241;43m.\u001b[39;49m\u001b[43mupdate_guess\u001b[49m\u001b[43m(\u001b[49m\u001b[43m)\u001b[49m\n",
      "\u001b[0;31mTypeError\u001b[0m: update_guess() missing 1 required positional argument: 't'"
     ]
    }
   ],
   "source": [
    "olg.update_guess()"
   ]
  },
  {
   "cell_type": "code",
   "execution_count": 4,
   "metadata": {},
   "outputs": [
    {
     "name": "stdout",
     "output_type": "stream",
     "text": [
      "13.97038559398257\n",
      "13.97038559398257\n",
      "13.97038559398257\n",
      "13.97038559398257\n"
     ]
    }
   ],
   "source": []
  },
  {
   "cell_type": "code",
   "execution_count": 42,
   "metadata": {},
   "outputs": [
    {
     "data": {
      "text/plain": [
       "0.5739835384774816"
      ]
     },
     "execution_count": 42,
     "metadata": {},
     "output_type": "execute_result"
    }
   ],
   "source": [
    "t=0\n",
    "(1-olg.alpha)*1 *(olg.k[1, t]/(1-olg.L_share[0,t])*olg.A[0,t]/olg.A[1,t])**0.25* olg.A[1, t] "
   ]
  },
  {
   "cell_type": "code",
   "execution_count": 45,
   "metadata": {},
   "outputs": [
    {
     "data": {
      "text/plain": [
       "13.97038559398257"
      ]
     },
     "execution_count": 45,
     "metadata": {},
     "output_type": "execute_result"
    }
   ],
   "source": [
    "olg.Labor[0]"
   ]
  },
  {
   "cell_type": "code",
   "execution_count": 36,
   "metadata": {},
   "outputs": [
    {
     "data": {
      "text/plain": [
       "0.12039529431235176"
      ]
     },
     "execution_count": 36,
     "metadata": {},
     "output_type": "execute_result"
    }
   ],
   "source": [
    "olg.k[1, t]"
   ]
  },
  {
   "cell_type": "code",
   "execution_count": 38,
   "metadata": {},
   "outputs": [
    {
     "data": {
      "text/plain": [
       "0.8401958128048662"
      ]
     },
     "execution_count": 38,
     "metadata": {},
     "output_type": "execute_result"
    }
   ],
   "source": [
    "(olg.k[1, t]/(1-olg.L_share[0,t]))**olg.alpha"
   ]
  },
  {
   "cell_type": "code",
   "execution_count": 37,
   "metadata": {},
   "outputs": [
    {
     "data": {
      "text/plain": [
       "0.8401958128048663"
      ]
     },
     "execution_count": 37,
     "metadata": {},
     "output_type": "execute_result"
    }
   ],
   "source": [
    "(olg.k[1, t]/(1-olg.L_share[0,t])*olg.A[0,t]/olg.A[1,t])**olg.alpha"
   ]
  },
  {
   "cell_type": "code",
   "execution_count": 22,
   "metadata": {},
   "outputs": [
    {
     "data": {
      "text/plain": [
       "[<matplotlib.lines.Line2D at 0x7fd75c4f6340>]"
      ]
     },
     "execution_count": 22,
     "metadata": {},
     "output_type": "execute_result"
    },
    {
     "data": {
      "image/png": "[encoded data removed]",
      "text/plain": [
       "<Figure size 432x288 with 1 Axes>"
      ]
     },
     "metadata": {
      "needs_background": "light"
     },
     "output_type": "display_data"
    }
   ],
   "source": [
    "plt.plot(olg.w[0:100])"
   ]
  },
  {
   "cell_type": "code",
   "execution_count": 11,
   "metadata": {},
   "outputs": [
    {
     "data": {
      "text/plain": [
       "array([ 556.42002429,  560.10190598,  563.808151  ,  567.53892059,\n",
       "        571.29437701,  575.07468364,  578.88000489,  582.7105063 ,\n",
       "        586.56635448,  590.44771716,  594.35476317,  598.28766245,\n",
       "        602.24658609,  606.23170628,  610.24319637,  614.28123086,\n",
       "        618.34598538,  622.43763676,  626.55636296,  630.70234314,\n",
       "        634.87575766,  639.07678803,  643.305617  ,  647.56242852,\n",
       "        651.84740774,  656.16074106,  660.5026161 ,  664.87322172,\n",
       "        669.27274803,  673.7013864 ,  678.15932948,  682.64677116,\n",
       "        687.16390666,  691.71093245,  696.28804632,  700.89544737,\n",
       "        705.53333601,  710.20191398,  714.90138435,  719.63195154,\n",
       "        724.39382133,  729.18720083,  734.01229857,  738.86932441,\n",
       "        743.75848963,  748.6800069 ,  753.6340903 ,  758.62095531,\n",
       "        763.64081886,  768.69389931,  773.78041644,  778.90059152,\n",
       "        784.05464726,  789.24280785,  794.46529898,  799.7223478 ,\n",
       "        805.01418298,  810.34103472,  815.70313472,  821.10071623,\n",
       "        826.53401401,  832.00326442,  837.50870536,  843.0505763 ,\n",
       "        848.62911829,  854.24457401,  859.89718771,  865.58720526,\n",
       "        871.31487417,  877.08044359,  882.8841643 ,  888.72628876,\n",
       "        894.60707108,  900.52676707,  906.48563423,  912.48393175,\n",
       "        918.52192055,  924.59986327,  930.71802428,  936.87666972,\n",
       "        943.07606748,  949.31648721,  955.59820036,  961.92148018,\n",
       "        968.28660171,  974.69384183,  981.14347924,  987.63579448,\n",
       "        994.17106996, 1000.74958994, 1007.3716406 , 1014.03750996,\n",
       "       1020.74748798, 1027.50186653, 1034.30093942, 1041.14500239,\n",
       "       1048.03435314, 1054.96929135, 1061.95011867, 1068.97713876])"
      ]
     },
     "execution_count": 11,
     "metadata": {},
     "output_type": "execute_result"
    }
   ],
   "source": [
    "olg.Consumption[250:350]"
   ]
  },
  {
   "cell_type": "code",
   "execution_count": 13,
   "metadata": {},
   "outputs": [
    {
     "data": {
      "text/plain": [
       "1.0062111801242235"
      ]
     },
     "execution_count": 13,
     "metadata": {},
     "output_type": "execute_result"
    }
   ],
   "source": [
    "810/805"
   ]
  },
  {
   "cell_type": "code",
   "execution_count": 64,
   "metadata": {},
   "outputs": [
    {
     "data": {
      "text/plain": [
       "0.616574344522428"
      ]
     },
     "execution_count": 64,
     "metadata": {},
     "output_type": "execute_result"
    }
   ],
   "source": [
    "35.92413367/demography['N'][:,:,250].sum()# цель 0.65 "
   ]
  },
  {
   "cell_type": "code",
   "execution_count": 6,
   "metadata": {},
   "outputs": [
    {
     "name": "stdout",
     "output_type": "stream",
     "text": [
      "441.5391345933429\n",
      "441.5391345933429\n",
      "441.5391345933429\n",
      "441.5391345933429\n"
     ]
    }
   ],
   "source": [
    "olg.evaluate_initial_state()"
   ]
  },
  {
   "cell_type": "code",
   "execution_count": 11,
   "metadata": {},
   "outputs": [
    {
     "data": {
      "text/plain": [
       "('price_steady', 'price_N_steady')"
      ]
     },
     "execution_count": 11,
     "metadata": {},
     "output_type": "execute_result"
    }
   ],
   "source": [
    "\"k_N_steady\", \"L_N_share\",\n",
    "\"k_E_steady\", \"w_steady\",\n",
    "\"price_steady\", \"price_N_steady\""
   ]
  },
  {
   "cell_type": "code",
   "execution_count": 12,
   "metadata": {},
   "outputs": [],
   "source": [
    "demography=np.load('demography.npy', allow_pickle=True).item()"
   ]
  },
  {
   "cell_type": "code",
   "execution_count": 24,
   "metadata": {},
   "outputs": [
    {
     "data": {
      "text/plain": [
       "0.8150489457014909"
      ]
     },
     "execution_count": 24,
     "metadata": {},
     "output_type": "execute_result"
    }
   ],
   "source": []
  },
  {
   "cell_type": "code",
   "execution_count": 48,
   "metadata": {},
   "outputs": [],
   "source": [
    "olg.create_guess()"
   ]
  },
  {
   "cell_type": "code",
   "execution_count": 56,
   "metadata": {},
   "outputs": [
    {
     "data": {
      "text/plain": [
       "[<matplotlib.lines.Line2D at 0x7fe9f1786670>]"
      ]
     },
     "execution_count": 56,
     "metadata": {},
     "output_type": "execute_result"
    },
    {
     "data": {
      "image/png": "[encoded data removed]",
      "text/plain": [
       "<Figure size 432x288 with 1 Axes>"
      ]
     },
     "metadata": {
      "needs_background": "light"
     },
     "output_type": "display_data"
    }
   ],
   "source": [
    "plt.plot(olg.w*olg.Labor*olg.tau_rho/(1+olg.tau_rho + olg.tau_Ins))"
   ]
  },
  {
   "cell_type": "code",
   "execution_count": 35,
   "metadata": {},
   "outputs": [
    {
     "data": {
      "text/plain": [
       "array([0.        , 0.        , 0.        , 0.        , 0.        ,\n",
       "       0.        , 0.        , 0.        , 0.        , 0.        ,\n",
       "       0.        , 0.        , 0.        , 0.        , 0.        ,\n",
       "       0.        , 0.        , 0.        , 0.        , 0.        ,\n",
       "       0.        , 0.        , 0.        , 0.        , 0.        ,\n",
       "       0.        , 0.        , 0.        , 0.        , 0.        ,\n",
       "       0.        , 0.        , 0.        , 0.        , 0.        ,\n",
       "       0.        , 0.        , 0.        , 0.        , 0.        ,\n",
       "       0.        , 0.        , 0.        , 0.        , 0.        ,\n",
       "       0.        , 0.        , 0.        , 0.        , 0.        ,\n",
       "       0.        , 0.        , 0.        , 0.        , 0.        ,\n",
       "       0.        , 0.        , 0.        , 0.        , 0.        ,\n",
       "       0.        , 0.        , 0.        , 0.        , 0.        ,\n",
       "       0.        , 0.        , 0.        , 0.        , 0.        ,\n",
       "       0.        , 0.        , 0.        , 0.        , 0.        ,\n",
       "       0.        , 0.        , 0.        , 0.        , 0.        ,\n",
       "       0.        , 0.        , 0.        , 0.        , 0.        ,\n",
       "       0.        , 0.        , 0.        , 0.        , 0.        ,\n",
       "       0.        , 0.        , 0.        , 0.        , 0.        ,\n",
       "       0.        , 0.        , 0.        , 0.        , 0.        ,\n",
       "       0.        , 0.        , 0.        , 0.        , 0.        ,\n",
       "       0.        , 0.        , 0.        , 0.        , 0.        ,\n",
       "       0.        , 0.        , 0.        , 0.        , 0.        ,\n",
       "       0.        , 0.        , 0.        , 0.        , 0.        ,\n",
       "       0.        , 0.        , 0.        , 0.        , 0.        ,\n",
       "       0.        , 0.        , 0.        , 0.        , 0.        ,\n",
       "       0.        , 0.        , 0.        , 0.        , 0.        ,\n",
       "       0.        , 0.        , 0.        , 0.        , 0.        ,\n",
       "       0.        , 0.        , 0.        , 0.        , 0.        ,\n",
       "       0.        , 0.        , 0.        , 0.        , 0.        ,\n",
       "       0.        , 0.        , 0.        , 0.        , 0.        ,\n",
       "       0.        , 0.        , 0.        , 0.        , 0.        ,\n",
       "       0.        , 0.        , 0.        , 0.        , 0.        ,\n",
       "       0.        , 0.        , 0.        , 0.        , 0.        ,\n",
       "       0.        , 0.        , 0.        , 0.        , 0.        ,\n",
       "       0.        , 0.        , 0.        , 0.        , 0.        ,\n",
       "       0.        , 0.        , 0.        , 0.        , 0.        ,\n",
       "       0.        , 0.        , 0.        , 0.        , 0.        ,\n",
       "       0.        , 0.        , 0.        , 0.        , 0.        ,\n",
       "       0.        , 0.        , 0.        , 0.        , 0.        ,\n",
       "       0.        , 0.        , 0.        , 0.        , 0.        ,\n",
       "       0.        , 0.        , 0.        , 0.        , 0.        ,\n",
       "       0.        , 0.        , 0.        , 0.        , 0.        ,\n",
       "       0.        , 0.        , 0.        , 0.        , 0.        ,\n",
       "       0.        , 0.        , 0.        , 0.        , 0.        ,\n",
       "       0.        , 0.        , 0.        , 0.        , 0.        ,\n",
       "       0.        , 0.        , 0.        , 0.        , 0.        ,\n",
       "       0.        , 0.        , 0.        , 0.        , 0.        ,\n",
       "       0.        , 0.        , 0.        , 0.        , 0.        ,\n",
       "       0.        , 0.        , 0.        , 0.        , 0.        ,\n",
       "       6.22747741, 6.20990779, 6.19238272, 6.17490522, 6.15747847,\n",
       "       6.14010574, 6.12279023, 6.10553496, 6.08834269, 6.0712158 ,\n",
       "       6.05415627, 6.03716557, 6.02024468, 6.0033941 , 5.9866138 ,\n",
       "       5.96990334, 5.95326188, 5.93668826, 5.92018104, 5.90373867,\n",
       "       5.8873595 , 5.87104189, 5.85478431, 5.83858538, 5.82244396,\n",
       "       5.80635918, 5.7903305 , 5.77435771, 5.75844092, 5.74258059,\n",
       "       5.72677747, 5.7110326 , 5.69534722, 5.67972276, 5.66416074,\n",
       "       5.64866276, 5.63323038, 5.61786512, 5.60256836, 5.58734131,\n",
       "       5.57218501, 5.55710025, 5.54208756, 5.52714724, 5.51227934,\n",
       "       5.49748367, 5.48275985, 5.46810729, 5.45352528, 5.43901301,\n",
       "       5.42456961, 5.41019418, 5.39588588, 5.3816439 , 5.36746754,\n",
       "       5.35335625, 5.3393096 , 5.32532735, 5.31140939, 5.29755583,\n",
       "       5.2837669 , 5.27004301, 5.25638466, 5.24279247, 5.22926715,\n",
       "       5.21580942, 5.20242004, 5.18909974, 5.17584919, 5.16266902,\n",
       "       5.14955974, 5.13652175, 5.12355535, 5.11066069, 5.0978378 ,\n",
       "       5.08508657, 5.07240679, 5.05979813, 5.0472602 , 5.0347925 ,\n",
       "       5.02239453, 5.01006573, 4.99780557, 4.9856135 , 4.97348906,\n",
       "       4.9614318 , 4.94944137, 4.9375175 , 4.92565998, 4.91386872,\n",
       "       4.90214371, 4.89048502, 4.8788928 , 4.86736725, 4.85590864,\n",
       "       4.84451727, 4.83319346, 4.82193752, 4.81074976, 4.79963046,\n",
       "       4.78857987, 4.77759817, 4.76668549, 4.75584189, 4.74506736,\n",
       "       4.73436183, 4.72372514, 4.71315709, 4.70265742, 4.69222582,\n",
       "       4.68186194, 4.67156542, 4.66133588, 4.65117294, 4.64107624,\n",
       "       4.63104543, 4.6210802 , 4.61118029, 4.60134547, 4.59157555,\n",
       "       4.58187043, 4.57223001, 4.56265426, 4.5531432 , 4.54369688,\n",
       "       4.53431536, 4.52499875, 4.51574715, 4.50656067, 4.49743942,\n",
       "       4.48838347, 4.47939291, 4.47046777, 4.46160805, 4.45281372,\n",
       "       4.44408471, 4.43542092, 4.4268222 , 4.41828837, 4.40981922,\n",
       "       4.40141451, 4.39307398, 4.38479737, 4.37658441, 4.36843481,\n",
       "       4.36034831, 4.35232465, 4.3443636 , 4.33646494, 4.3286285 ,\n",
       "       4.32085409, 4.31314161, 4.30549094, 4.29790202, 4.29037479,\n",
       "       4.28290924, 4.27550534, 4.26816312, 4.26088259, 4.25366375,\n",
       "       4.24650663, 4.23941124, 4.23237758, 4.22540562, 4.21849534,\n",
       "       4.21164668, 4.20485956, 4.19813389, 4.19146955, 4.18486639,\n",
       "       4.17832427, 4.17184301, 4.16542243, 4.15906234, 4.15276254,\n",
       "       4.14652284, 4.14034304, 4.13422297, 4.12816246, 4.12216134,\n",
       "       4.11621947, 4.11033672, 4.104513  , 4.09874821, 4.09304228,\n",
       "       4.08739515, 4.0818068 , 4.07627718, 4.07080629, 4.06539412,\n",
       "       4.06004066, 4.0547459 , 4.04950984, 4.04433247, 4.03921377,\n",
       "       4.03415372, 4.02915228, 4.02420939, 4.01932499, 4.01449902,\n",
       "       4.00973139, 4.005022  , 4.00037075, 3.99577753, 3.99124222,\n",
       "       3.9867647 , 3.98234486, 3.97798259, 3.97367776, 3.96943027,\n",
       "       3.96524004, 3.96110697, 3.95703099, 3.95301204, 3.94905007,\n",
       "       3.94514505, 3.94129694, 3.93750574, 3.93377144, 3.93009404,\n",
       "       3.92647355, 3.92291   , 3.91940339, 3.91595375, 3.91256109,\n",
       "       3.90922543, 3.90594678, 3.90272515, 3.89956053, 3.89645292,\n",
       "       3.89340232, 3.8904087 , 3.88747203, 3.88459229, 3.88176945,\n",
       "       3.87900347, 3.87629431, 3.87364194, 3.87104632, 3.86850743,\n",
       "       3.86602522, 3.8635997 , 3.86123083, 3.85891862, 3.85666307,\n",
       "       3.85446419, 3.85232201, 3.85023655, 3.84820786, 3.84623598,\n",
       "       3.84432097, 3.84246289, 3.84066181, 3.83891779, 3.83723092,\n",
       "       3.83560126, 3.83402889, 3.83251388, 3.83105631, 3.82965626,\n",
       "       3.82831378, 3.82702895, 3.82580183, 3.82463248, 3.82352095,\n",
       "       3.82246732, 3.82147162, 3.82053393, 3.81965429, 3.81883276,\n",
       "       3.81806941, 3.81732957, 3.81661314, 3.81592005, 3.81525025,\n",
       "       3.81460372, 3.81398044, 3.81338043, 3.81280367, 3.81225019,\n",
       "       3.81172001, 3.81121317, 3.81072972, 3.81026959, 3.8098328 ,\n",
       "       3.80941936, 3.80902922, 3.80866236, 3.80831882, 3.80799868,\n",
       "       3.80770205, 3.80742905, 3.80717981, 3.80695436, 3.80675258,\n",
       "       3.80657397, 3.80641752, 3.8062818 , 3.80616511, 3.80606544,\n",
       "       3.80598055, 3.75341135, 3.70071366, 3.6479162 , 3.59505327,\n",
       "       3.54214953, 3.48921753, 3.43626157, 3.38328215, 3.330284  ,\n",
       "       3.27727375, 3.22426398, 3.17127769, 3.11832854, 3.06543534,\n",
       "       3.01261327, 2.95987561, 2.90723884, 2.85470779, 2.80228772,\n",
       "       2.74998416, 2.69780421, 2.64576774, 2.59387303, 2.54213343,\n",
       "       2.4905643 , 2.43917438, 2.38798762, 2.33701466, 2.28626702,\n",
       "       2.23575972, 2.18553058, 2.13561079, 2.08601226, 2.0367552 ,\n",
       "       1.98787046, 1.93938037, 1.89132657, 1.84373875, 1.79663966,\n",
       "       1.75005721, 1.70402958, 1.65862962, 1.61387956, 1.56980738,\n",
       "       1.52642719, 1.48377126, 1.44185326, 1.40069889, 1.36035597,\n",
       "       1.32083418, 1.28218421, 1.24447959, 1.20777914, 1.17215944,\n",
       "       1.13764949, 1.10431761, 1.07220516, 1.04136292, 1.01184488])"
      ]
     },
     "execution_count": 35,
     "metadata": {},
     "output_type": "execute_result"
    }
   ],
   "source": [
    "olg.VA_sum# + self.I_sum[t]+self.II_sum[t]+self.Ins_sum[t]+self.Rho_sum[t]+self.Pi_sum[t]"
   ]
  },
  {
   "cell_type": "code",
   "execution_count": 23,
   "metadata": {},
   "outputs": [
    {
     "data": {
      "text/plain": [
       "(     fun: 9.860698309180621e-17\n",
       "     info: {'x': array([ 4.14947849,  0.82643216,  0.87147639, 22.42212501,  1.00000004,\n",
       "         1.00000005]), 'g': array([], dtype=float64), 'obj_val': 9.860698309180621e-17, 'mult_g': array([], dtype=float64), 'mult_x_L': array([0., 0., 0., 0., 0., 0.]), 'mult_x_U': array([0., 0., 0., 0., 0., 0.]), 'status': 0, 'status_msg': b'Algorithm terminated successfully at a locally optimal point, satisfying the convergence tolerances (can be specified by options).'}\n",
       "  message: b'Algorithm terminated successfully at a locally optimal point, satisfying the convergence tolerances (can be specified by options).'\n",
       "     nfev: 2\n",
       "      nit: 1\n",
       "     njev: 3\n",
       "   status: 0\n",
       "  success: True\n",
       "        x: array([ 4.14947849,  0.82643216,  0.87147639, 22.42212501,  1.00000004,\n",
       "         1.00000005]),\n",
       " array([ 4.14937873e+00,  8.26414768e-01,  8.71565246e-01,  2.24221394e+01,\n",
       "         1.00000130e+00,  1.00000177e+00,  1.24402971e+03,  3.84706709e+01,\n",
       "        -4.60350340e+04]))"
      ]
     },
     "execution_count": 23,
     "metadata": {},
     "output_type": "execute_result"
    }
   ],
   "source": [
    "olg.steady_state()\n",
    "olg.steady_path[-1]"
   ]
  },
  {
   "cell_type": "code",
   "execution_count": 22,
   "metadata": {},
   "outputs": [
    {
     "name": "stdout",
     "output_type": "stream",
     "text": [
      "True\n",
      "True\n",
      "True\n",
      "True\n",
      "True\n",
      "True\n",
      "True\n",
      "True\n",
      "True\n",
      "True\n"
     ]
    }
   ],
   "source": [
    "for i in range(10):\n",
    "    olg.steady_state()\n",
    "    print(olg.steady_path[-1][0]['success'])"
   ]
  },
  {
   "cell_type": "code",
   "execution_count": 18,
   "metadata": {},
   "outputs": [
    {
     "data": {
      "text/plain": [
       "0.888351756370893"
      ]
     },
     "execution_count": 18,
     "metadata": {},
     "output_type": "execute_result"
    }
   ],
   "source": [
    "(2.61244168e+00/4.96977115e-01)**0.35*4.96977115e-01"
   ]
  },
  {
   "cell_type": "code",
   "execution_count": 27,
   "metadata": {},
   "outputs": [
    {
     "data": {
      "text/plain": [
       "0.9174244994958803"
      ]
     },
     "execution_count": 27,
     "metadata": {},
     "output_type": "execute_result"
    }
   ],
   "source": [
    "(3.59554431e+02/2.38258337e+01/19+olg.i_steady*(2.61244168e+00+2.59784231e+00))*0.8"
   ]
  },
  {
   "cell_type": "code",
   "execution_count": 12,
   "metadata": {},
   "outputs": [
    {
     "data": {
      "text/plain": [
       "369.55613492546206"
      ]
     },
     "execution_count": 12,
     "metadata": {},
     "output_type": "execute_result"
    }
   ],
   "source": [
    "olg.Gov[250]/olg.A[0,250]"
   ]
  },
  {
   "cell_type": "code",
   "execution_count": 94,
   "metadata": {},
   "outputs": [
    {
     "data": {
      "text/plain": [
       "[]"
      ]
     },
     "execution_count": 94,
     "metadata": {},
     "output_type": "execute_result"
    }
   ],
   "source": [
    "olg.steady_path"
   ]
  },
  {
   "cell_type": "code",
   "execution_count": 25,
   "metadata": {},
   "outputs": [
    {
     "name": "stdout",
     "output_type": "stream",
     "text": [
      "4.514081065421861\n",
      "4.49981883316465\n",
      "4.485601662408552\n",
      "4.471429410781825\n",
      "4.457301936362546\n",
      "4.443219097677199\n",
      "4.429180753699247\n",
      "4.415186763847732\n",
      "4.401236987985858\n",
      "4.3873312864195935\n",
      "4.373469519896267\n",
      "4.359651549603178\n",
      "4.345877237166203\n",
      "4.332146444648413\n",
      "4.318459034548689\n",
      "4.304814869800348\n",
      "4.291213813769765\n",
      "4.277655730255017\n",
      "4.264140483484501\n",
      "4.2506679381155905\n",
      "4.237237959233273\n",
      "4.223850412348797\n",
      "4.210505163398333\n",
      "4.197202078741618\n",
      "4.183941025160635\n",
      "4.170721869858261\n",
      "4.15754448045695\n",
      "4.144408724997401\n",
      "4.131314471937237\n",
      "4.118261590149692\n",
      "4.1052499489222924\n",
      "4.0922794179555515\n",
      "4.079349867361662\n",
      "4.0664611676632\n",
      "4.053613189791823\n",
      "4.04080580508698\n",
      "4.028038885294622\n",
      "4.015312302565922\n",
      "4.002625929455987\n",
      "3.9899796389225886\n",
      "3.9773733043248867\n",
      "3.9648067994221634\n",
      "3.9522799983725583\n",
      "3.939792775731808\n",
      "3.927345006451989\n",
      "3.9149365658802675\n",
      "3.9025673297576517\n",
      "3.890237174217743\n",
      "3.8779459757855\n",
      "3.865693611376\n",
      "3.8534799582932084\n",
      "3.841304894228746\n",
      "3.829168297260669\n",
      "3.8170700458522444\n",
      "3.805010018850735\n",
      "3.792988095486186\n",
      "3.781004155370213\n",
      "3.7690580784948007\n",
      "3.7571497452310987\n",
      "3.7452790363282222\n",
      "3.7334458329120612\n",
      "3.7216500164840873\n",
      "3.709891468920168\n",
      "3.6981700724693836\n",
      "3.68648570975285\n",
      "3.674838263762539\n",
      "3.663227617860111\n",
      "3.6516536557757444\n",
      "3.6401162616069707\n",
      "3.6286153198175173\n",
      "3.617150715236147\n",
      "3.6057223330555055\n",
      "3.594330058830974\n",
      "3.5829737784795195\n",
      "3.571653378278555\n",
      "3.560368744864799\n",
      "3.549119765233142\n",
      "3.537906326735514\n",
      "3.526728317079756\n",
      "3.515585624328496\n",
      "3.5044781368980287\n",
      "3.493405743557195\n",
      "3.4823683334262734\n",
      "3.471365795975865\n",
      "3.4603980210257888\n",
      "3.449464898743978\n",
      "3.4385663196453797\n",
      "3.427702174590859\n",
      "3.4168723547861064\n",
      "3.406076751780548\n",
      "3.395315257466258\n",
      "3.384587764076878\n",
      "3.3738941641865385\n",
      "3.36323435070878\n",
      "3.3526082168954834\n",
      "3.3420156563358003\n",
      "3.3314565629550876\n",
      "3.3209308310138437\n",
      "3.3104383551066503\n",
      "3.2999790301611207\n",
      "3.2895527514368403\n",
      "3.2791594145243237\n",
      "3.2687989153439667\n",
      "3.258471150145005\n",
      "3.2481760155044737\n",
      "3.237913408326173\n",
      "3.2276832258396366\n",
      "3.2174853655990985\n",
      "3.207319725482473\n",
      "3.197186203690327\n",
      "3.187084698744863\n",
      "3.177015109488903\n",
      "3.1669773350848747\n",
      "3.1569712750138015\n",
      "3.1469968290742973\n",
      "3.1370538973815605\n",
      "3.127142380366377\n",
      "3.117262178774121\n",
      "3.1074131936637612\n",
      "3.0975953264068705\n",
      "3.087808478686638\n",
      "3.0780525524968856\n",
      "3.0683274501410844\n",
      "3.058633074231377\n",
      "3.048969327687605\n",
      "3.0393361137363333\n",
      "3.029733335909882\n",
      "3.0201608980453605\n",
      "3.010618704283706\n",
      "3.001106659068722\n",
      "2.991624667146119\n",
      "2.982172633562568\n",
      "2.9727504636647413\n",
      "2.9633580630983687\n",
      "2.953995337807293\n",
      "2.9446621940325284\n",
      "2.9353585383113177\n",
      "2.9260842774762006\n",
      "2.91683931865408\n",
      "2.9076235692652896\n",
      "2.8984369370226695\n",
      "2.8892793299306416\n",
      "2.8801506562842856\n",
      "2.8710508246684245\n",
      "2.8619797439567067\n",
      "2.852937323310694\n",
      "2.8439234721789526\n",
      "2.8349381002961462\n",
      "2.8259811176821303\n",
      "2.8170524346410537\n",
      "2.8081519617604593\n",
      "2.7992796099103874\n",
      "2.7904352902424847\n",
      "2.781618914189114\n",
      "2.7728303934624687\n",
      "2.764069640053686\n",
      "2.7553365662319673\n",
      "2.746631084543699\n",
      "2.737953107811578\n",
      "2.7293025491337373\n",
      "2.7206793218828755\n",
      "2.712083339705391\n",
      "2.703514516520516\n",
      "2.694972766519455\n",
      "2.686458004164524\n",
      "2.6779701441882966\n",
      "2.6695091015927486\n",
      "2.6610747916484065\n",
      "2.6526671298934987\n",
      "2.644286032133112\n",
      "2.635931414438346\n",
      "2.6276031931454735\n",
      "2.6193012848551027\n",
      "2.6110256064313426\n",
      "2.602776075000969\n",
      "2.5945526079525973\n",
      "2.586355122935851\n",
      "2.5781835378605416\n",
      "2.5700377708958424\n",
      "2.5619177404694735\n",
      "2.5538233652668803\n",
      "2.545754564230423\n",
      "2.537711256558562\n",
      "2.5296933617050508\n",
      "2.5217007993781286\n",
      "2.513733489539716\n",
      "2.5057913524046143\n",
      "2.497874308439706\n",
      "2.4899822783631573\n",
      "2.482115183143626\n",
      "2.47427294399947\n",
      "2.4664554823979565\n",
      "2.4586627200544773\n",
      "2.450894578931764\n",
      "2.4431509812391075\n",
      "2.4354318494315774\n",
      "2.4277371062092477\n",
      "2.42006667451642\n",
      "2.4124204775408535\n",
      "2.404798438712996\n",
      "2.3972004817052173\n",
      "2.389626530431043\n",
      "2.382076509044394\n",
      "2.3745503419388276\n",
      "2.3670479537467783\n",
      "2.3595692693388064\n",
      "2.352114213822841\n",
      "2.3446827125434337\n",
      "2.337274691081011\n",
      "2.3298900752511256\n",
      "2.322528791103718\n",
      "2.3151907649223724\n",
      "2.307875923223581\n",
      "2.3005841927560056\n",
      "2.2933155004997468\n",
      "2.2860697736656115\n",
      "2.2788469396943825\n",
      "2.271646926256095\n",
      "2.2644696612493096\n",
      "2.2573150728003917\n",
      "2.250183089262791\n",
      "2.243073639216325\n",
      "2.235986651466462\n",
      "2.2289220550436113\n",
      "2.2218797792024083\n",
      "2.2148597534210093\n",
      "2.2078619074003845\n",
      "2.200886171063613\n",
      "2.1939324745551834\n",
      "2.1870007482402904\n",
      "2.1800909227041414\n",
      "2.1732029287512593\n",
      "2.16633669740479\n",
      "2.1594921599058123\n",
      "2.152669247712647\n",
      "2.1458678925001733\n",
      "2.1390880261591443\n",
      "2.1323295807955027\n",
      "2.125592488729704\n",
      "2.1188766824960346\n",
      "2.112182094841942\n",
      "2.105508658727355\n",
      "2.0988563073240174\n",
      "2.0922249740148158\n",
      "2.0856145923931138\n",
      "2.0790250962620864\n",
      "2.0724564196340585\n",
      "2.065908496729841\n",
      "2.059381261978076\n",
      "2.0528746500145765\n",
      "2.0463885956816745\n",
      "2.039923034027568\n",
      "2.0334779003056687\n",
      "2.027053129973957\n",
      "2.020648658694331\n",
      "2.014264422331968\n",
      "2.007900356954677\n",
      "2.0015563988322613\n",
      "1.9952324844358802\n",
      "1.9889285504374112\n",
      "1.982644533708818\n",
      "1.9763803713215164\n",
      "1.9701360005457456\n",
      "1.9639113588499386\n",
      "1.9577063839000979\n",
      "1.9515210135591692\n",
      "1.9453551858864204\n",
      "1.9392088391368212\n",
      "1.9330819117604245\n",
      "1.9269743424017505\n",
      "1.9208860698991712\n",
      "1.9148170332842998\n",
      "1.908767171781378\n",
      "1.9027364248066683\n",
      "1.8967247319678482\n",
      "1.890732033063405\n",
      "1.884758268082031\n",
      "1.8788033772020256\n",
      "1.8728673007906942\n",
      "1.8669499794037518\n",
      "1.8610513537847269\n",
      "1.8551713648643695\n",
      "1.8493099537600586\n",
      "1.8434670617752127\n",
      "1.8376426303987015\n",
      "1.8318366013042617\n",
      "1.826048916349911\n",
      "1.8202795175773665\n",
      "1.8145283472114644\n",
      "1.8087953476595822\n",
      "1.8030804615110603\n",
      "1.7973836315366283\n",
      "1.791704800687832\n",
      "1.786043912096461\n",
      "1.7804009090739803\n",
      "1.7747757351109623\n",
      "1.7691683338765207\n",
      "1.7635786492177468\n",
      "1.7580066251591464\n",
      "1.7524522059020806\n",
      "1.746915335824205\n",
      "1.7413959594789155\n",
      "1.7358940215947902\n",
      "1.7304094670750374\n",
      "1.7249422409969442\n",
      "1.719492288611325\n",
      "1.7140595553419755\n",
      "1.7086439867851235\n",
      "1.7032455287088861\n",
      "1.697864127052726\n",
      "1.6924997279269094\n",
      "1.6871522776119683\n",
      "1.6818217225581598\n",
      "1.6765080093849325\n",
      "1.6712110848803905\n",
      "1.66593089600076\n",
      "1.66066738986986\n",
      "1.6554205137785716\n",
      "1.650190215184309\n",
      "1.6449764417104964\n",
      "1.6397791411460407\n",
      "1.6345982614448096\n",
      "1.629433750725111\n",
      "1.6242855572691726\n",
      "1.619153629522624\n",
      "1.614037916093982\n",
      "1.608938365754133\n",
      "1.603854927435823\n",
      "1.5987875502331441\n",
      "1.5937361834010262\n",
      "1.588700776354728\n",
      "1.5836812786693302\n",
      "1.578677640079231\n",
      "1.5736898104776438\n",
      "1.5687177399160928\n",
      "1.563761378603915\n",
      "1.558820676907761\n",
      "1.553895585351098\n",
      "1.5489860546137137\n",
      "1.5440920355312235\n",
      "1.5392134790945775\n",
      "1.534350336449569\n",
      "1.5295025588963478\n",
      "1.5246700978889287\n",
      "1.5198529050347096\n",
      "1.5150509320939827\n",
      "1.5102641309794553\n",
      "1.505492453755765\n",
      "1.5007358526390022\n",
      "1.4959942799962298\n",
      "1.491267688345007\n",
      "1.4865560303529137\n",
      "1.481859258837077\n",
      "1.4771773267636974\n",
      "1.4725101872475794\n",
      "1.4678577935516608\n",
      "1.4632200990865447\n",
      "1.4585970574100344\n",
      "1.453988622226666\n",
      "1.4493947473872468\n",
      "1.4448153868883926\n",
      "1.440250494872066\n",
      "1.435700025625119\n",
      "1.4311639335788329\n",
      "1.4266421733084649\n",
      "1.4221346995327901\n",
      "1.417641467113651\n",
      "1.4131624310555027\n",
      "1.4086975465049645\n",
      "1.4042467687503695\n",
      "1.3998100532213178\n",
      "1.3953873554882286\n",
      "1.3909786312618972\n",
      "1.3865838363930503\n",
      "1.382202926871904\n",
      "1.3778358588277233\n",
      "1.3734825885283832\n",
      "1.3691430723799294\n",
      "1.3648172669261431\n",
      "1.3605051288481056\n",
      "1.3562066149637642\n",
      "1.3519216822274993\n",
      "1.3476502877296945\n",
      "1.3433923886963057\n",
      "1.3391479424884336\n",
      "1.3349169066018964\n",
      "1.330699238666805\n",
      "1.3264948964471361\n",
      "1.3223038378403127\n",
      "1.3181260208767804\n",
      "1.3139614037195866\n",
      "1.3098099446639642\n",
      "1.3056716021369104\n",
      "1.3015463346967737\n",
      "1.2974341010328372\n",
      "1.293334859964904\n",
      "1.2892485704428873\n",
      "1.2851751915463974\n",
      "1.2811146824843325\n",
      "1.2770670025944704\n",
      "1.273032111343061\n",
      "1.2690099683244207\n",
      "1.2650005332605274\n",
      "1.2610037660006175\n",
      "1.2570196265207834\n",
      "1.253048074923573\n",
      "1.2490890714375906\n",
      "1.245142576417098\n",
      "1.2412085503416175\n",
      "1.2372869538155358\n"
     ]
    }
   ],
   "source": [
    "olg.create_guess()"
   ]
  },
  {
   "cell_type": "code",
   "execution_count": 26,
   "metadata": {},
   "outputs": [
    {
     "data": {
      "text/plain": [
       "[<matplotlib.lines.Line2D at 0x7f89287c82b0>]"
      ]
     },
     "execution_count": 26,
     "metadata": {},
     "output_type": "execute_result"
    },
    {
     "data": {
      "image/png": "[encoded data removed]",
      "text/plain": [
       "<Figure size 432x288 with 1 Axes>"
      ]
     },
     "metadata": {
      "needs_background": "light"
     },
     "output_type": "display_data"
    }
   ],
   "source": [
    "plt.plot(olg.Labor)"
   ]
  },
  {
   "cell_type": "code",
   "execution_count": 11,
   "metadata": {},
   "outputs": [
    {
     "data": {
      "text/plain": [
       "[<matplotlib.lines.Line2D at 0x7f48720c49d0>]"
      ]
     },
     "execution_count": 11,
     "metadata": {},
     "output_type": "execute_result"
    },
    {
     "data": {
      "image/png": "[encoded data removed]",
      "text/plain": [
       "<Figure size 432x288 with 1 Axes>"
      ]
     },
     "metadata": {
      "needs_background": "light"
     },
     "output_type": "display_data"
    }
   ],
   "source": [
    "plt.plot(olg.Consumption)"
   ]
  },
  {
   "cell_type": "code",
   "execution_count": 52,
   "metadata": {},
   "outputs": [],
   "source": [
    "tol = 10e-5\n",
    "niter = 30"
   ]
  },
  {
   "cell_type": "markdown",
   "metadata": {},
   "source": [
    "Ищем steady state"
   ]
  },
  {
   "cell_type": "code",
   "execution_count": 641,
   "metadata": {
    "pycharm": {
     "name": "#%%\n"
    }
   },
   "outputs": [
    {
     "data": {
      "application/vnd.jupyter.widget-view+json": {
       "model_id": "578f3e8633d140c697354dc61f404959",
       "version_major": 2,
       "version_minor": 0
      },
      "text/plain": [
       "Steady state:   0%|          | 0/30 [00:00<?, ?it/s]"
      ]
     },
     "metadata": {},
     "output_type": "display_data"
    }
   ],
   "source": [
    "with warnings.catch_warnings():\n",
    "    warnings.simplefilter(\"ignore\")\n",
    "    for _ in tqdm(range(niter),\n",
    "                  desc = 'Steady state',\n",
    "                      token=os.getenv('comp_bot_token'),\n",
    "                      chat_id=os.getenv('chat_id')):\n",
    "        olg.steady_state()\n",
    "        if (len(olg.steady_path)>1) and \\\n",
    "            (max(abs(olg.steady_path[-1][1] - olg.steady_path[-2][1]))<tol):\n",
    "            \n",
    "                break\n",
    "olg.update_a_initial()\n",
    "olg.create_guess()"
   ]
  },
  {
   "cell_type": "code",
   "execution_count": 642,
   "metadata": {},
   "outputs": [
    {
     "data": {
      "image/png": "[encoded data removed]",
      "text/plain": [
       "<Figure size 432x288 with 1 Axes>"
      ]
     },
     "metadata": {
      "needs_background": "light"
     },
     "output_type": "display_data"
    }
   ],
   "source": [
    "bot = TelegramBot(os.getenv('comp_bot_token'),\n",
    "                      os.getenv('chat_id'))\n",
    "\n",
    "plt.plot(olg.price[0:350])\n",
    "plt.title(\"price\")\n",
    "\n",
    "bot.send_plot(plt)\n",
    "\n",
    "# This method delete the generetad image\n",
    "bot.clean_tmp_dir()"
   ]
  },
  {
   "cell_type": "code",
   "execution_count": 420,
   "metadata": {},
   "outputs": [
    {
     "data": {
      "application/vnd.jupyter.widget-view+json": {
       "model_id": "633a58bd827c461d8c049a2e6cffb0a8",
       "version_major": 2,
       "version_minor": 0
      },
      "text/plain": [
       "Steady state:   0%|          | 0/299 [00:00<?, ?it/s]"
      ]
     },
     "metadata": {},
     "output_type": "display_data"
    },
    {
     "data": {
      "application/vnd.jupyter.widget-view+json": {
       "model_id": "3fc19a37563c4fd28e33ac828b29ba86",
       "version_major": 2,
       "version_minor": 0
      },
      "text/plain": [
       "Steady state:   0%|          | 0/299 [00:00<?, ?it/s]"
      ]
     },
     "metadata": {},
     "output_type": "display_data"
    },
    {
     "data": {
      "application/vnd.jupyter.widget-view+json": {
       "model_id": "12810479db9a49b49f3ba6ba8c3dc4f9",
       "version_major": 2,
       "version_minor": 0
      },
      "text/plain": [
       "Steady state:   0%|          | 0/299 [00:00<?, ?it/s]"
      ]
     },
     "metadata": {},
     "output_type": "display_data"
    },
    {
     "data": {
      "application/vnd.jupyter.widget-view+json": {
       "model_id": "6cacdd9ac8bb4973b274c0a46ad74d83",
       "version_major": 2,
       "version_minor": 0
      },
      "text/plain": [
       "Steady state:   0%|          | 0/299 [00:00<?, ?it/s]"
      ]
     },
     "metadata": {},
     "output_type": "display_data"
    },
    {
     "data": {
      "application/vnd.jupyter.widget-view+json": {
       "model_id": "01585cae19484b3ba5468462522e62fa",
       "version_major": 2,
       "version_minor": 0
      },
      "text/plain": [
       "Steady state:   0%|          | 0/299 [00:00<?, ?it/s]"
      ]
     },
     "metadata": {},
     "output_type": "display_data"
    },
    {
     "data": {
      "image/png": "[encoded data removed]",
      "text/plain": [
       "<Figure size 432x288 with 1 Axes>"
      ]
     },
     "metadata": {
      "needs_background": "light"
     },
     "output_type": "display_data"
    }
   ],
   "source": [
    "for i in range(5):\n",
    "    for t in tqdm(reversed(range(1,olg.T)),\n",
    "                      desc = f'path to steady {i}',\n",
    "                      total=olg.T-1,\n",
    "                          token=os.getenv('comp_bot_token'),\n",
    "                          chat_id=os.getenv('chat_id')):\n",
    "        olg.update_guess(t)\n",
    "    plt.plot(olg.price[:(olg.T+50)])\n",
    "    plt.title(\"price\")\n",
    "\n",
    "    bot.send_plot(plt)\n",
    "\n",
    "    bot.clean_tmp_dir()"
   ]
  },
  {
   "cell_type": "code",
   "execution_count": 643,
   "metadata": {},
   "outputs": [
    {
     "data": {
      "image/png": "[encoded data removed]",
      "text/plain": [
       "<Figure size 432x288 with 1 Axes>"
      ]
     },
     "metadata": {
      "needs_background": "light"
     },
     "output_type": "display_data"
    }
   ],
   "source": [
    "bot = TelegramBot(os.getenv('comp_bot_token'),\n",
    "                      os.getenv('chat_id'))\n",
    "\n",
    "plt.plot(olg.Consumption[:251])\n",
    "plt.title(\"Consumption path\")\n",
    "\n",
    "bot.send_plot(plt)\n",
    "\n",
    "# This method delete the generetad image\n",
    "bot.clean_tmp_dir()"
   ]
  },
  {
   "cell_type": "code",
   "execution_count": 627,
   "metadata": {},
   "outputs": [
    {
     "data": {
      "text/plain": [
       "[<matplotlib.lines.Line2D at 0x7f1f04e67a60>]"
      ]
     },
     "execution_count": 627,
     "metadata": {},
     "output_type": "execute_result"
    },
    {
     "data": {
      "image/png": "[encoded data removed]",
      "text/plain": [
       "<Figure size 432x288 with 1 Axes>"
      ]
     },
     "metadata": {
      "needs_background": "light"
     },
     "output_type": "display_data"
    }
   ],
   "source": [
    "plt.plot(olg.Assets[:251])"
   ]
  },
  {
   "cell_type": "code",
   "execution_count": 625,
   "metadata": {},
   "outputs": [
    {
     "data": {
      "text/plain": [
       "[<matplotlib.lines.Line2D at 0x7f1f04f25ee0>]"
      ]
     },
     "execution_count": 625,
     "metadata": {},
     "output_type": "execute_result"
    },
    {
     "data": {
      "image/png": "[encoded data removed]",
      "text/plain": [
       "<Figure size 432x288 with 1 Axes>"
      ]
     },
     "metadata": {
      "needs_background": "light"
     },
     "output_type": "display_data"
    }
   ],
   "source": [
    "plt.plot(olg.price[:350])"
   ]
  },
  {
   "cell_type": "code",
   "execution_count": 626,
   "metadata": {},
   "outputs": [
    {
     "data": {
      "text/plain": [
       "[<matplotlib.lines.Line2D at 0x7f1f04e8b4f0>]"
      ]
     },
     "execution_count": 626,
     "metadata": {},
     "output_type": "execute_result"
    },
    {
     "data": {
      "image/png": "[encoded data removed]",
      "text/plain": [
       "<Figure size 432x288 with 1 Axes>"
      ]
     },
     "metadata": {
      "needs_background": "light"
     },
     "output_type": "display_data"
    }
   ],
   "source": [
    "plt.plot(olg.k[0,:250])"
   ]
  },
  {
   "cell_type": "code",
   "execution_count": 498,
   "metadata": {},
   "outputs": [
    {
     "data": {
      "text/plain": [
       "[<matplotlib.lines.Line2D at 0x7f1f05dcbfa0>]"
      ]
     },
     "execution_count": 498,
     "metadata": {},
     "output_type": "execute_result"
    },
    {
     "data": {
      "image/png": "[encoded data removed]",
      "text/plain": [
       "<Figure size 432x288 with 1 Axes>"
      ]
     },
     "metadata": {
      "needs_background": "light"
     },
     "output_type": "display_data"
    }
   ],
   "source": [
    "# plt.plot(olg.Pi[0,(45+olg.G-1):45:-1,45])\n",
    "# plt.plot(olg.c[0,(45+olg.G-1):45:-1,45])\n",
    "plt.plot(olg.a[0,(45+olg.G-1):45:-1,45])"
   ]
  },
  {
   "cell_type": "code",
   "execution_count": 515,
   "metadata": {},
   "outputs": [
    {
     "data": {
      "text/plain": [
       "[<matplotlib.lines.Line2D at 0x7f1fce673790>]"
      ]
     },
     "execution_count": 515,
     "metadata": {},
     "output_type": "execute_result"
    },
    {
     "data": {
      "image/png": "[encoded data removed]",
      "text/plain": [
       "<Figure size 432x288 with 1 Axes>"
      ]
     },
     "metadata": {
      "needs_background": "light"
     },
     "output_type": "display_data"
    }
   ],
   "source": [
    "t=0\n",
    "plt.plot(olg.a[0,(t+olg.G-1):t:-1,t])"
   ]
  },
  {
   "cell_type": "code",
   "execution_count": 494,
   "metadata": {},
   "outputs": [
    {
     "data": {
      "text/plain": [
       "[<matplotlib.lines.Line2D at 0x7f1f120431f0>]"
      ]
     },
     "execution_count": 494,
     "metadata": {},
     "output_type": "execute_result"
    },
    {
     "data": {
      "image/png": "[encoded data removed]",
      "text/plain": [
       "<Figure size 432x288 with 1 Axes>"
      ]
     },
     "metadata": {
      "needs_background": "light"
     },
     "output_type": "display_data"
    }
   ],
   "source": [
    "plt.plot(olg.a[0,250,155:251][40:60])\n",
    "# plt.plot(olg.Pi[0,250,155:251])"
   ]
  },
  {
   "cell_type": "code",
   "execution_count": null,
   "metadata": {},
   "outputs": [],
   "source": [
    "olg.c[0,90:110,45]"
   ]
  },
  {
   "cell_type": "code",
   "execution_count": 201,
   "metadata": {},
   "outputs": [],
   "source": [
    "high_deficit = np.where(olg.Deficit_ratio[:(olg.T+1)]>0.2)[0]\n",
    "if len(high_deficit) > 0:\n",
    "    olg.sigma =np.concatenate((olg.sigma[:high_deficit[0]],\n",
    "                           np.array([olg.sigma[high_deficit[0]]*0.9 \n",
    "                                     for _ in range(high_deficit[0],max_time)])))\n",
    "    if olg.T-olg.G + 1 < high_deficit[0]:\n",
    "        olg.T = high_deficit[0] + olg.G - 1"
   ]
  },
  {
   "cell_type": "code",
   "execution_count": 537,
   "metadata": {},
   "outputs": [
    {
     "data": {
      "text/plain": [
       "<matplotlib.legend.Legend at 0x7fb08b729f70>"
      ]
     },
     "execution_count": 537,
     "metadata": {},
     "output_type": "execute_result"
    },
    {
     "data": {
      "image/png": "[encoded data removed]",
      "text/plain": [
       "<Figure size 432x288 with 1 Axes>"
      ]
     },
     "metadata": {
      "needs_background": "light"
     },
     "output_type": "display_data"
    }
   ],
   "source": [
    "# plt.plot(olg.Gov_Income[200:250])\n",
    "# Ins_sum  II_sum I_sum VA_sum Pi_sum\n",
    "plt.plot(olg.Gov_Income[100:250], label = \"income\")\n",
    "# plt.plot(olg.Ins_sum[160:250], label = \"insurance\")\n",
    "# plt.plot(olg.II_sum[160:250], label = \"investment income\")\n",
    "# plt.plot(olg.I_sum[160:250], label = \"income\")\n",
    "# plt.plot(olg.VA_sum[160:250], label = \"value-added\")\n",
    "# plt.plot(olg.Pi_sum[160:250], label = \"profit\")\n",
    "plt.title(\"Taxes\")\n",
    "# plt.plot(olg.Gov_Outcome[0:250], label = \"outcome\")\n",
    "plt.plot(olg.Gov[100:250], label = \"Gov\")\n",
    "plt.plot(olg.Debt[160:250]*olg.r[160:250]/olg.Gov_Outcome[160:250], label = \"inerest expense\")\n",
    "plt.legend()"
   ]
  },
  {
   "cell_type": "code",
   "execution_count": 210,
   "metadata": {},
   "outputs": [
    {
     "data": {
      "text/plain": [
       "[<matplotlib.lines.Line2D at 0x7fafe85ee7f0>]"
      ]
     },
     "execution_count": 210,
     "metadata": {},
     "output_type": "execute_result"
    },
    {
     "data": {
      "image/png": "[encoded data removed]",
      "text/plain": [
       "<Figure size 432x288 with 1 Axes>"
      ]
     },
     "metadata": {
      "needs_background": "light"
     },
     "output_type": "display_data"
    }
   ],
   "source": [
    "plt.plot(olg.price[:100])"
   ]
  },
  {
   "cell_type": "code",
   "execution_count": 214,
   "metadata": {},
   "outputs": [
    {
     "data": {
      "text/plain": [
       "0.10000000038709678"
      ]
     },
     "execution_count": 214,
     "metadata": {},
     "output_type": "execute_result"
    }
   ],
   "source": [
    "olg.price[100]"
   ]
  },
  {
   "cell_type": "code",
   "execution_count": 221,
   "metadata": {},
   "outputs": [
    {
     "data": {
      "text/plain": [
       "[<matplotlib.lines.Line2D at 0x7fafe8294580>]"
      ]
     },
     "execution_count": 221,
     "metadata": {},
     "output_type": "execute_result"
    },
    {
     "data": {
      "image/png": "[encoded data removed]",
      "text/plain": [
       "<Figure size 432x288 with 1 Axes>"
      ]
     },
     "metadata": {
      "needs_background": "light"
     },
     "output_type": "display_data"
    }
   ],
   "source": [
    "plt.plot(olg.w)"
   ]
  },
  {
   "cell_type": "code",
   "execution_count": 215,
   "metadata": {},
   "outputs": [
    {
     "data": {
      "text/plain": [
       "[<matplotlib.lines.Line2D at 0x7fafe8561c40>]"
      ]
     },
     "execution_count": 215,
     "metadata": {},
     "output_type": "execute_result"
    },
    {
     "data": {
      "image/png": "[encoded data removed]",
      "text/plain": [
       "<Figure size 432x288 with 1 Axes>"
      ]
     },
     "metadata": {
      "needs_background": "light"
     },
     "output_type": "display_data"
    }
   ],
   "source": [
    "plt.plot(olg.a[0,:,250])"
   ]
  },
  {
   "cell_type": "code",
   "execution_count": 25,
   "metadata": {},
   "outputs": [],
   "source": [
    "olg.create_guess()"
   ]
  },
  {
   "cell_type": "code",
   "execution_count": 216,
   "metadata": {},
   "outputs": [
    {
     "data": {
      "text/plain": [
       "<matplotlib.legend.Legend at 0x7fafe8519610>"
      ]
     },
     "execution_count": 216,
     "metadata": {},
     "output_type": "execute_result"
    },
    {
     "data": {
      "image/png": "[encoded data removed]",
      "text/plain": [
       "<Figure size 432x288 with 1 Axes>"
      ]
     },
     "metadata": {
      "needs_background": "light"
     },
     "output_type": "display_data"
    }
   ],
   "source": [
    "plt.plot(olg.c[0,345:249:-1,250], label = \"consumption\")\n",
    "plt.plot(olg.l[0,345:249:-1,250], label = \"labor\")\n",
    "plt.plot(olg.a[0,345:249:-1,250], label = \"assets\")\n",
    "plt.plot(olg.Pi[0,345:249:-1,250], label = \"Pi\")\n",
    "plt.plot(olg.epsilon[0,345:249:-1,250], label =\"epsilon\")\n",
    "plt.legend()"
   ]
  },
  {
   "cell_type": "code",
   "execution_count": 179,
   "metadata": {},
   "outputs": [
    {
     "data": {
      "text/plain": [
       "[<matplotlib.lines.Line2D at 0x7fb00810c4c0>]"
      ]
     },
     "execution_count": 179,
     "metadata": {},
     "output_type": "execute_result"
    },
    {
     "data": {
      "image/png": "[encoded data removed]",
      "text/plain": [
       "<Figure size 432x288 with 1 Axes>"
      ]
     },
     "metadata": {
      "needs_background": "light"
     },
     "output_type": "display_data"
    }
   ],
   "source": [
    "plt.plot(olg.Deficit[150:250])"
   ]
  },
  {
   "cell_type": "code",
   "execution_count": 173,
   "metadata": {
    "pycharm": {
     "name": "#%%\n"
    },
    "scrolled": true
   },
   "outputs": [
    {
     "data": {
      "text/plain": [
       "Text(0.5, 1.0, 'wage adjustment')"
      ]
     },
     "execution_count": 173,
     "metadata": {},
     "output_type": "execute_result"
    },
    {
     "data": {
      "image/png": "[encoded data removed]",
      "text/plain": [
       "<Figure size 432x288 with 1 Axes>"
      ]
     },
     "metadata": {
      "needs_background": "light"
     },
     "output_type": "display_data"
    }
   ],
   "source": [
    "plt.plot([item[1][6] for i, item in enumerate(olg.steady_path)])\n",
    "# plt.plot([item[1][1] for i, item in enumerate(olg.steady_path)])\n",
    "plt.axhline(y=0, color='r', linestyle='-')\n",
    "plt.title(\"wage adjustment\")"
   ]
  },
  {
   "cell_type": "code",
   "execution_count": 174,
   "metadata": {},
   "outputs": [
    {
     "data": {
      "text/plain": [
       "Text(0.5, 1.0, 'Labor')"
      ]
     },
     "execution_count": 174,
     "metadata": {},
     "output_type": "execute_result"
    },
    {
     "data": {
      "image/png": "[encoded data removed]",
      "text/plain": [
       "<Figure size 432x288 with 1 Axes>"
      ]
     },
     "metadata": {
      "needs_background": "light"
     },
     "output_type": "display_data"
    }
   ],
   "source": [
    "plt.plot([item[1][1]*item[1][-2] for i, item in enumerate(olg.steady_path)], label = \"non-export\")\n",
    "plt.plot([(1-item[1][1])*item[1][-2] for i, item in enumerate(olg.steady_path)], label = \"export\")\n",
    "plt.legend()\n",
    "plt.title(\"Labor\")"
   ]
  },
  {
   "cell_type": "code",
   "execution_count": 175,
   "metadata": {},
   "outputs": [
    {
     "data": {
      "text/plain": [
       "Text(0.5, 1.0, 'Capital')"
      ]
     },
     "execution_count": 175,
     "metadata": {},
     "output_type": "execute_result"
    },
    {
     "data": {
      "image/png": "[encoded data removed]",
      "text/plain": [
       "<Figure size 432x288 with 1 Axes>"
      ]
     },
     "metadata": {
      "needs_background": "light"
     },
     "output_type": "display_data"
    }
   ],
   "source": [
    "plt.plot([item[1][0]*item[1][-2] for i, item in enumerate(olg.steady_path)], label = \"non-export\")\n",
    "plt.plot([item[1][2]*item[1][-2] for i, item in enumerate(olg.steady_path)], label = \"export\")\n",
    "plt.legend()\n",
    "plt.title(\"Capital\")"
   ]
  },
  {
   "cell_type": "code",
   "execution_count": 217,
   "metadata": {},
   "outputs": [
    {
     "data": {
      "text/plain": [
       "Text(0.5, 1.0, 'non-export labor share adjustment')"
      ]
     },
     "execution_count": 217,
     "metadata": {},
     "output_type": "execute_result"
    },
    {
     "data": {
      "image/png": "[encoded data removed]",
      "text/plain": [
       "<Figure size 432x288 with 1 Axes>"
      ]
     },
     "metadata": {
      "needs_background": "light"
     },
     "output_type": "display_data"
    }
   ],
   "source": [
    "# plt.plot([item[1][0] for i, item in enumerate(olg.steady_path)])\n",
    "plt.plot([item[1][1] for i, item in enumerate(olg.steady_path)])\n",
    "plt.title(\"non-export labor share adjustment\")"
   ]
  },
  {
   "cell_type": "code",
   "execution_count": 177,
   "metadata": {},
   "outputs": [
    {
     "data": {
      "text/plain": [
       "Text(0.5, 1.0, 'cons adjustment')"
      ]
     },
     "execution_count": 177,
     "metadata": {},
     "output_type": "execute_result"
    },
    {
     "data": {
      "image/png": "[encoded data removed]",
      "text/plain": [
       "<Figure size 432x288 with 1 Axes>"
      ]
     },
     "metadata": {
      "needs_background": "light"
     },
     "output_type": "display_data"
    }
   ],
   "source": [
    "plt.plot([item[1][-3] for i, item in enumerate(olg.steady_path)])\n",
    "plt.title(\"cons adjustment\")"
   ]
  },
  {
   "cell_type": "code",
   "execution_count": 178,
   "metadata": {},
   "outputs": [
    {
     "data": {
      "text/plain": [
       "Text(0.5, 1.0, 'price adjustment')"
      ]
     },
     "execution_count": 178,
     "metadata": {},
     "output_type": "execute_result"
    },
    {
     "data": {
      "image/png": "[encoded data removed]",
      "text/plain": [
       "<Figure size 432x288 with 1 Axes>"
      ]
     },
     "metadata": {
      "needs_background": "light"
     },
     "output_type": "display_data"
    }
   ],
   "source": [
    "plt.plot([item[1][4] for i, item in enumerate(olg.steady_path)], label =\"price\")\n",
    "plt.plot([item[1][5] for i, item in enumerate(olg.steady_path)], label =\"non-export price\")\n",
    "plt.legend()\n",
    "plt.title(\"price adjustment\")"
   ]
  },
  {
   "cell_type": "code",
   "execution_count": 163,
   "metadata": {
    "pycharm": {
     "name": "#%%\n"
    }
   },
   "outputs": [
    {
     "data": {
      "text/plain": [
       "Text(0.5, 1.0, 'Target function')"
      ]
     },
     "execution_count": 163,
     "metadata": {},
     "output_type": "execute_result"
    },
    {
     "data": {
      "image/png": "[encoded data removed]",
      "text/plain": [
       "<Figure size 432x288 with 1 Axes>"
      ]
     },
     "metadata": {
      "needs_background": "light"
     },
     "output_type": "display_data"
    }
   ],
   "source": [
    "import matplotlib.pyplot as plt\n",
    "plt.plot([item[0][\"fun\"] for i, item in enumerate(olg.steady_path)])\n",
    "plt.title(\"Target function\")"
   ]
  },
  {
   "cell_type": "code",
   "execution_count": 164,
   "metadata": {
    "pycharm": {
     "name": "#%%\n"
    }
   },
   "outputs": [
    {
     "data": {
      "text/plain": [
       "Text(0.5, 1.0, 'k')"
      ]
     },
     "execution_count": 164,
     "metadata": {},
     "output_type": "execute_result"
    },
    {
     "data": {
      "image/png": "[encoded data removed]",
      "text/plain": [
       "<Figure size 432x288 with 1 Axes>"
      ]
     },
     "metadata": {
      "needs_background": "light"
     },
     "output_type": "display_data"
    }
   ],
   "source": [
    "plt.plot([item[1][0] for i, item in enumerate(olg.steady_path)], label =\"k N\")\n",
    "plt.plot([item[1][2] for i, item in enumerate(olg.steady_path)], label =\"k E\")\n",
    "plt.legend()\n",
    "plt.title(\"k\")"
   ]
  },
  {
   "cell_type": "code",
   "execution_count": 152,
   "metadata": {},
   "outputs": [
    {
     "data": {
      "text/plain": [
       "Text(0.5, 1.0, 'k non-export adjustment')"
      ]
     },
     "execution_count": 152,
     "metadata": {},
     "output_type": "execute_result"
    },
    {
     "data": {
      "image/png": "[encoded data removed]",
      "text/plain": [
       "<Figure size 432x288 with 1 Axes>"
      ]
     },
     "metadata": {
      "needs_background": "light"
     },
     "output_type": "display_data"
    }
   ],
   "source": [
    "plt.plot([item[1][1] for i, item in enumerate(olg.steady_path)], label =\"N labor share\")\n",
    "plt.legend()\n",
    "plt.title(\"labor share\")"
   ]
  },
  {
   "cell_type": "code",
   "execution_count": 279,
   "metadata": {
    "pycharm": {
     "name": "#%%\n"
    }
   },
   "outputs": [
    {
     "data": {
      "text/plain": [
       "(     fun: 497133.5107400712\n",
       "     info: {'x': array([ 6.50888420e+00,  7.89066419e+02,  3.67245615e+04, -8.85181784e-03,\n",
       "         2.52521567e+01,  3.05824304e+03,  5.72445545e+04,  3.73356679e-02,\n",
       "         1.81871797e-01,  2.67263830e-08,  2.11897026e-02]), 'g': array([], dtype=float64), 'obj_val': 497133.5107400712, 'mult_g': array([], dtype=float64), 'mult_x_L': array([0., 0., 0., 0., 0., 0., 0., 0., 0., 0., 0.]), 'mult_x_U': array([0., 0., 0., 0., 0., 0., 0., 0., 0., 0., 0.]), 'status': -3, 'status_msg': b'An unrecoverable error occurred while Ipopt tried to compute the search direction.'}\n",
       "  message: b'An unrecoverable error occurred while Ipopt tried to compute the search direction.'\n",
       "     nfev: 629\n",
       "      nit: 21\n",
       "     njev: 25\n",
       "   status: -3\n",
       "  success: False\n",
       "        x: array([ 6.50888420e+00,  7.89066419e+02,  3.67245615e+04, -8.85181784e-03,\n",
       "         2.52521567e+01,  3.05824304e+03,  5.72445545e+04,  3.73356679e-02,\n",
       "         1.81871797e-01,  2.67263830e-08,  2.11897026e-02]),\n",
       " array([ 6.50888420e+00,  7.89066419e+02,  3.67245615e+04, -8.85181784e-03,\n",
       "         2.52521567e+01,  3.05824304e+03,  5.72445545e+04,  3.73356679e-02,\n",
       "         1.81871797e-01,  1.27880340e-07,  2.11357024e-02,  1.34896231e+10,\n",
       "         9.32640416e+04, -2.74112479e+05]))"
      ]
     },
     "execution_count": 279,
     "metadata": {},
     "output_type": "execute_result"
    }
   ],
   "source": [
    "olg.steady_path[-4]\n",
    "# единственный выход это потребление тоже менять с eta"
   ]
  },
  {
   "cell_type": "code",
   "execution_count": 38,
   "metadata": {
    "pycharm": {
     "name": "#%%\n"
    }
   },
   "outputs": [
    {
     "data": {
      "text/plain": [
       "[<matplotlib.lines.Line2D at 0x7f798456bc10>]"
      ]
     },
     "execution_count": 38,
     "metadata": {},
     "output_type": "execute_result"
    },
    {
     "data": {
      "image/png": "[encoded data removed]",
      "text/plain": [
       "<Figure size 432x288 with 1 Axes>"
      ]
     },
     "metadata": {
      "needs_background": "light"
     },
     "output_type": "display_data"
    }
   ],
   "source": [
    "import matplotlib.pyplot as plt\n",
    "plt.plot(olg.w)"
   ]
  },
  {
   "cell_type": "code",
   "execution_count": 606,
   "metadata": {
    "pycharm": {
     "name": "#%%\n"
    }
   },
   "outputs": [
    {
     "data": {
      "text/plain": [
       "[<matplotlib.lines.Line2D at 0x2e65210a490>]"
      ]
     },
     "execution_count": 606,
     "metadata": {},
     "output_type": "execute_result"
    },
    {
     "data": {
      "image/png": "[encoded data removed]",
      "text/plain": [
       "<Figure size 432x288 with 1 Axes>"
      ]
     },
     "metadata": {
      "needs_background": "light"
     },
     "output_type": "display_data"
    }
   ],
   "source": [
    "# plt.plot(olg.c[0][345-30,(250-30):(345-30)]) # труд у дрпугих неправильно рассчитывается?\n",
    "# plt.plot(olg.l[0][345-30,(250-30):(345-30)])\n"
   ]
  },
  {
   "cell_type": "code",
   "execution_count": 43,
   "metadata": {
    "pycharm": {
     "name": "#%%\n"
    }
   },
   "outputs": [
    {
     "data": {
      "text/plain": [
       "1.3201810425347083e-05"
      ]
     },
     "execution_count": 43,
     "metadata": {},
     "output_type": "execute_result"
    }
   ],
   "source": [
    "olg.w[99]"
   ]
  },
  {
   "cell_type": "code",
   "execution_count": 25,
   "metadata": {
    "pycharm": {
     "name": "#%%\n"
    }
   },
   "outputs": [
    {
     "data": {
      "image/png": "[encoded data removed]",
      "text/plain": [
       "<Figure size 432x288 with 1 Axes>"
      ]
     },
     "metadata": {
      "needs_background": "light"
     },
     "output_type": "display_data"
    }
   ],
   "source": [
    "# plt.plot(olg.l[0][260,165:260], label= \"labor\")\n",
    "# plt.plot(olg.c[0][260,165:260], label = \"consumption\")\n",
    "plt.plot(olg.a[0][260,165:260], label = \"assets\")\n",
    "# plt.plot((olg.c[0][260,165:260]**olg.phi * (1-olg.l[0][260,165:260])**(1-olg.phi))**(1-olg.theta)/(1-olg.theta), label = \"utility\")\n",
    "plt.show()"
   ]
  },
  {
   "cell_type": "code",
   "execution_count": 614,
   "metadata": {
    "pycharm": {
     "name": "#%%\n"
    }
   },
   "outputs": [
    {
     "data": {
      "text/plain": [
       "Text(0.5, 1.0, 'Wage path')"
      ]
     },
     "execution_count": 614,
     "metadata": {},
     "output_type": "execute_result"
    },
    {
     "data": {
      "image/png": "[encoded data removed]",
      "text/plain": [
       "<Figure size 432x288 with 1 Axes>"
      ]
     },
     "metadata": {
      "needs_background": "light"
     },
     "output_type": "display_data"
    }
   ],
   "source": [
    "plt.plot([item[0][\"info\"][\"x\"][8] for i, item in enumerate(olg.steady_path)if i != 1] [0:])\n",
    "plt.title(\"Wage path\")"
   ]
  },
  {
   "cell_type": "code",
   "execution_count": 615,
   "metadata": {
    "pycharm": {
     "name": "#%%\n"
    }
   },
   "outputs": [
    {
     "data": {
      "text/plain": [
       "Text(0.5, 1.0, 'Price N path')"
      ]
     },
     "execution_count": 615,
     "metadata": {},
     "output_type": "execute_result"
    },
    {
     "data": {
      "image/png": "[encoded data removed]",
      "text/plain": [
       "<Figure size 432x288 with 1 Axes>"
      ]
     },
     "metadata": {
      "needs_background": "light"
     },
     "output_type": "display_data"
    }
   ],
   "source": [
    "plt.plot([item[0][\"info\"][\"x\"][10] for item in olg.steady_path][0:])\n",
    "plt.title(\"Price N path\")"
   ]
  },
  {
   "cell_type": "code",
   "execution_count": null,
   "metadata": {
    "pycharm": {
     "name": "#%%\n"
    }
   },
   "outputs": [],
   "source": [
    "import matplotlib.pyplot as plt\n",
    "# plt.plot((((olg.c[:,:610,:]*olg.N[:,:610,:]).sum(axis=0).sum(axis=0))/olg.N[:,:610,:].sum(axis=0).sum(axis=0))[:150])\n",
    "# plt.plot((((olg.a[:,:610,:]*olg.N[:,:610,:]).sum(axis=0).sum(axis=0))/olg.N[:,:610,:].sum(axis=0).sum(axis=0))[:150])\n",
    "plt.plot((((olg.l[:,:610,:]*olg.N[:,:610,:]).sum(axis=0).sum(axis=0))/olg.N[:,:610,:].sum(axis=0).sum(axis=0))[:250])\n",
    "# plt.plot(olg.I[0,:100]/olg.N[0].sum(axis=0)[:100])\n",
    "# plt.plot((olg.l[0,:250]*olg.N[0,:250]).sum(axis=0)/(olg.N[0,:250].sum(axis=0)))\n",
    "plt.show()"
   ]
  },
  {
   "cell_type": "code",
   "execution_count": null,
   "metadata": {
    "pycharm": {
     "name": "#%%\n"
    }
   },
   "outputs": [],
   "source": [
    "plt.plot(olg.I[0,1:100]/olg.I[0,0:99])"
   ]
  },
  {
   "cell_type": "code",
   "execution_count": 616,
   "metadata": {
    "pycharm": {
     "name": "#%%\n"
    }
   },
   "outputs": [
    {
     "data": {
      "text/plain": [
       "[<matplotlib.lines.Line2D at 0x2e652135ee0>]"
      ]
     },
     "execution_count": 616,
     "metadata": {},
     "output_type": "execute_result"
    },
    {
     "data": {
      "image/png": "[encoded data removed]",
      "text/plain": [
       "<Figure size 432x288 with 1 Axes>"
      ]
     },
     "metadata": {
      "needs_background": "light"
     },
     "output_type": "display_data"
    }
   ],
   "source": [
    "plt.plot(olg.L[0][:200]+olg.L[1][:200])\n",
    "plt.plot(((olg.l[:,:610,:]*olg.N[:,:610,:]*olg.epsilon[:,:610,:]).sum(axis=0).sum(axis=0))[:200])"
   ]
  },
  {
   "cell_type": "code",
   "execution_count": 331,
   "metadata": {
    "pycharm": {
     "name": "#%%\n"
    }
   },
   "outputs": [
    {
     "data": {
      "text/plain": [
       "array([170000., 170000., 170000., 170000., 170000., 170000., 170000.,\n",
       "       170000., 170000., 170000., 170000., 170000., 170000., 170000.,\n",
       "       170000., 170000., 170000., 170000., 170000., 170000., 170000.,\n",
       "       170000., 170000., 170000., 170000., 170000., 170000., 170000.,\n",
       "       170000., 170000., 170000., 170000., 170000., 170000., 170000.,\n",
       "       170000., 170000., 170000., 170000., 170000., 170000., 170000.,\n",
       "       170000., 170000., 170000., 170000., 170000., 170000., 170000.,\n",
       "       170000., 170000., 170000., 170000., 170000., 170000., 170000.,\n",
       "       170000., 170000., 170000., 170000., 170000., 170000., 170000.,\n",
       "       170000., 170000., 170000., 170000., 170000., 170000., 170000.,\n",
       "       170000., 170000., 170000., 170000., 170000., 170000., 170000.,\n",
       "       170000., 170000., 170000., 170000., 170000., 170000., 170000.,\n",
       "       170000., 170000., 170000., 170000., 170000., 170000., 170000.,\n",
       "       170000., 170000., 170000., 170000., 170000., 170000., 170000.,\n",
       "       170000., 170000., 170000., 170000., 170000., 170000., 170000.,\n",
       "       170000., 170000., 170000., 170000., 170000., 170000., 170000.,\n",
       "       170000., 170000., 170000., 170000., 170000., 170000., 170000.,\n",
       "       170000., 170000., 170000., 170000., 170000., 170000., 170000.,\n",
       "       170000., 170000., 170000., 170000., 170000., 170000., 170000.,\n",
       "       170000., 170000., 170000., 170000., 170000., 170000., 170000.,\n",
       "       170000., 170000., 170000., 170000., 170000., 170000., 170000.,\n",
       "       170000., 170000., 170000., 170000., 170000., 170000., 170000.,\n",
       "       170000., 170000., 170000., 170000., 170000., 170000., 170000.,\n",
       "       170000., 170000., 170000., 170000., 170000., 170000., 170000.,\n",
       "       170000., 170000., 170000., 170000., 170000., 170000., 170000.,\n",
       "       170000., 170000., 170000., 170000., 170000., 170000., 170000.,\n",
       "       170000., 170000., 170000., 170000., 170000., 170000., 170000.,\n",
       "       170000., 170000., 170000., 170000., 170000., 170000., 170000.,\n",
       "       170000., 170000., 170000., 170000.])"
      ]
     },
     "execution_count": 331,
     "metadata": {},
     "output_type": "execute_result"
    }
   ],
   "source": [
    "olg.L[0][:200]+olg.L[1][:200]"
   ]
  },
  {
   "cell_type": "code",
   "execution_count": 332,
   "metadata": {
    "pycharm": {
     "name": "#%%\n"
    }
   },
   "outputs": [
    {
     "data": {
      "text/plain": [
       "[<matplotlib.lines.Line2D at 0x2e65345fe50>]"
      ]
     },
     "execution_count": 332,
     "metadata": {},
     "output_type": "execute_result"
    },
    {
     "data": {
      "image/png": "[encoded data removed]",
      "text/plain": [
       "<Figure size 432x288 with 1 Axes>"
      ]
     },
     "metadata": {
      "needs_background": "light"
     },
     "output_type": "display_data"
    }
   ],
   "source": [
    "plt.plot((olg.K[0]/olg.L[0])[:100])"
   ]
  },
  {
   "cell_type": "code",
   "execution_count": 44,
   "metadata": {
    "pycharm": {
     "name": "#%%\n"
    }
   },
   "outputs": [
    {
     "data": {
      "text/plain": [
       "[<matplotlib.lines.Line2D at 0x7f798443ce80>]"
      ]
     },
     "execution_count": 44,
     "metadata": {},
     "output_type": "execute_result"
    },
    {
     "data": {
      "image/png": "[encoded data removed]",
      "text/plain": [
       "<Figure size 432x288 with 1 Axes>"
      ]
     },
     "metadata": {
      "needs_background": "light"
     },
     "output_type": "display_data"
    }
   ],
   "source": [
    "plt.plot(olg.a[0][100][:100])"
   ]
  },
  {
   "cell_type": "code",
   "execution_count": 45,
   "metadata": {
    "pycharm": {
     "name": "#%%\n"
    }
   },
   "outputs": [
    {
     "data": {
      "text/plain": [
       "[<matplotlib.lines.Line2D at 0x7f798458bc40>]"
      ]
     },
     "execution_count": 45,
     "metadata": {},
     "output_type": "execute_result"
    },
    {
     "data": {
      "image/png": "[encoded data removed]",
      "text/plain": [
       "<Figure size 432x288 with 1 Axes>"
      ]
     },
     "metadata": {
      "needs_background": "light"
     },
     "output_type": "display_data"
    }
   ],
   "source": [
    "plt.plot(olg.price_N)"
   ]
  },
  {
   "cell_type": "code",
   "execution_count": 54,
   "metadata": {},
   "outputs": [
    {
     "data": {
      "text/plain": [
       "1.2925927310610548e-05"
      ]
     },
     "execution_count": 54,
     "metadata": {},
     "output_type": "execute_result"
    }
   ],
   "source": [
    "olg.w[120]"
   ]
  },
  {
   "cell_type": "code",
   "execution_count": 49,
   "metadata": {
    "pycharm": {
     "name": "#%%\n"
    }
   },
   "outputs": [
    {
     "data": {
      "text/plain": [
       "[<matplotlib.lines.Line2D at 0x7f798419cb20>]"
      ]
     },
     "execution_count": 49,
     "metadata": {},
     "output_type": "execute_result"
    },
    {
     "data": {
      "image/png": "[encoded data removed]",
      "text/plain": [
       "<Figure size 432x288 with 1 Axes>"
      ]
     },
     "metadata": {
      "needs_background": "light"
     },
     "output_type": "display_data"
    }
   ],
   "source": [
    "plt.plot(olg.w[100])"
   ]
  }
 ],
 "metadata": {
  "kernelspec": {
   "display_name": "olg",
   "language": "python",
   "name": "olg"
  },
  "language_info": {
   "codemirror_mode": {
    "name": "ipython",
    "version": 3
   },
   "file_extension": ".py",
   "mimetype": "text/x-python",
   "name": "python",
   "nbconvert_exporter": "python",
   "pygments_lexer": "ipython3",
   "version": "3.8.10"
  }
 },
 "nbformat": 4,
 "nbformat_minor": 1
}
