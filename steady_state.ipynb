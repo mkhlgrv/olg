{
 "cells": [
  {
   "cell_type": "code",
   "execution_count": 268,
   "outputs": [],
   "source": [
    "import pandas as pd\n",
    "from scipy.optimize import fsolve\n",
    "import numpy as np\n",
    "import itertools\n",
    "import copy\n",
    "from cyipopt import minimize_ipopt\n",
    "import warnings\n",
    "import warnings\n",
    "import matplotlib.pyplot as plt"
   ],
   "metadata": {
    "collapsed": false,
    "pycharm": {
     "name": "#%%\n"
    }
   }
  },
  {
   "cell_type": "code",
   "execution_count": 2,
   "outputs": [],
   "source": [
    "def counted(f):\n",
    "    def wrapped(*args, **kwargs):\n",
    "        wrapped.calls += 1\n",
    "        return f(*args, **kwargs)\n",
    "    wrapped.calls = 0\n",
    "    return wrapped"
   ],
   "metadata": {
    "collapsed": false,
    "pycharm": {
     "name": "#%%\n"
    }
   }
  },
  {
   "cell_type": "markdown",
   "source": [
    "Проблемы: надо посчитать долю наследства\n",
    "Для мигрантов матрицу размера 10к? (Каждое новое поколение имеет другое богатство)"
   ],
   "metadata": {
    "collapsed": false,
    "pycharm": {
     "name": "#%% md\n"
    }
   }
  },
  {
   "cell_type": "code",
   "execution_count": 373,
   "outputs": [],
   "source": [
    "class OLG_model:\n",
    "    def __init__(self, G,T,N,epsilon, rho, sigma,Pi,r,price_M, price_E, tau_I,tau_Ins, tau_pi, tau_VA, tau_rho, beta, phi , theta , psi, omega, alpha, delta, A,initial, eta,steady_max_iter,steady_guess):\n",
    "        \"\"\"\n",
    "        OLG model\n",
    "        :param G: number of generations, default is 110\n",
    "        :param T: simulation time, default is 500\n",
    "        :param N_female: population (G+T-1, T) matrix where N[g,t] is cohort size of generation g in period t\n",
    "        :param N_male: population (G+T-1, T) matrix where N[g,t] is cohort size of generation g in period t\n",
    "        :param epsilon_female: female cohort- and year-specific productivity\n",
    "        :param epsilon_male: male cohort- and year-specific productivity\n",
    "        :param rho_female: female cohort- and year-specific retirement rate\n",
    "        :param rho_male: male cohort- and year-specific retirement rate\n",
    "        :param sigma: pension rate (pension point value) for T periods\n",
    "        :param Pi_female: survival probability\n",
    "        :param Pi_male: survival probability\n",
    "        :param Beq_female_to_female,Beq_female_to_male,Beq_male_to_female,Beq_male_to_male: bequest matrix\n",
    "        :param r: rate of return for T periods\n",
    "        :param price_M: import prices for T periods\n",
    "        :param price_E: export prices for T periods\n",
    "        :param tau_I: income tax for T periods\n",
    "        :param tau_Ins: insurance tax for T periods\n",
    "        :param tau_pi: profit tax for T periods\n",
    "        :param tau_VA: value-added tax for T periods\n",
    "        :param tau_rho: retirement tax for T periods\n",
    "        :param beta: elasticity of intertemporal substitution\n",
    "        :param phi: elasticity of intertemporal substitution\n",
    "        :param theta: ?\n",
    "        :param psi: ? investment cost\n",
    "        :param omega: import share\n",
    "        :param alpha: elasticity of capital\n",
    "        :param delta: deprecation rate\n",
    "        :param A_N: total factor productivity, non-export good\n",
    "        :param A_E: total factor productivity, export goods\n",
    "        \"\"\"\n",
    "\n",
    "        ## Exogenous variables and parameters\n",
    "        # Demography\n",
    "        self.G, self.T,self.N,self.epsilon,self.Pi = G, T,N,epsilon,Pi\n",
    "        # Retirement\n",
    "        self.rho,self.sigma = rho, sigma\n",
    "        # Prices\n",
    "        self.r, self.price_M, self.price_E, self.omega = r, price_M, price_E, omega\n",
    "        # Taxation\n",
    "        self.tau_I, self.tau_pi, self.tau_VA,self.tau_Ins, self.tau_rho =  tau_I, tau_pi,tau_VA,tau_Ins, tau_rho\n",
    "        # Utility\n",
    "        self.beta, self.phi, self.theta  = beta, phi, theta\n",
    "        # Production\n",
    "        self.psi, self.alpha, self.delta, self.A = psi, alpha, delta, A\n",
    "\n",
    "        self.a_initial = initial[\"a\"]\n",
    "\n",
    "\n",
    "\n",
    "        self.eta = eta\n",
    "        self.steady_max_iter = steady_max_iter\n",
    "\n",
    "        # Endogenous variable\n",
    "        # Initial guess\n",
    "        self.price_N = np.array([initial[\"price_N\"] for _ in range(max_time)])\n",
    "        self.K = np.array([[initial[\"K_N\"] for _ in range(max_time)], [initial[\"K_E\"] for _ in range(max_time)]])\n",
    "        self.L = np.array([[initial[\"L_N\"] for _ in range(max_time)], [initial[\"L_E\"] for _ in range(max_time)]])\n",
    "        self.I = np.array([[initial[\"I_N\"] for _ in range(max_time)], [initial[\"I_E\"] for _ in range(max_time)]])\n",
    "        self.Gov = np.array([initial[\"Gov\"] for _ in range(max_time)])\n",
    "\n",
    "        self.lmbda = np.array([[0.5 for _ in range(max_time)] for _ in range(2)])\n",
    "\n",
    "        self.w = ((self.price_N *(1-self.alpha)*(self.K[0])**self.alpha *(self.A[0])**(1-self.alpha)*(self.L[0])**(-self.alpha))+\n",
    "        (self.price_E *(1-self.alpha)*(self.K[1])**self.alpha *(self.A[1])**(1-self.alpha)*(self.L[1])**(-self.alpha)))/2\n",
    "\n",
    "        self.price = (self.price_M)**self.omega * (self.price_N)**(1-self.omega)\n",
    "\n",
    "\n",
    "        self.Y = self.K**self.alpha * (self.L*self.A)**(1-self.alpha)\n",
    "\n",
    "\n",
    "        self.D = self.Y[0]/(1-self.omega)* self.price_N/self.price + self.Gov\n",
    "\n",
    "        self.M = self.omega * self.D * self.price / self.price_M\n",
    "\n",
    "\n",
    "\n",
    "        self.c =  np.array([[[0.002 if ((g >= t) and (g<=self.G+t-1)) else 0 for t in range(max_time)] for g in range(max_time)] for _ in range(2)])\n",
    "        self.a = np.array([[[0.01 if ((g >= t) and (g<=self.G+t-1)) else 0 for t in range(max_time)] for g in range(max_time)] for _ in range(2)])\n",
    "        self.gamma = np.array([[[0.9 if ((g >= t) and (g<=self.G+t-1)) else 0 for t in range(max_time)] for g in range(max_time)] for _ in range(2)])\n",
    "        self.l = np.array([[[0.4 if ((g >= t) and (g<=self.G+t-1)) else 0 for t in range(max_time)] for g in range(max_time)] for _ in range(2)])\n",
    "\n",
    "        Consumption = np.array([np.sum([self.c[s,g,t]*self.N[s,g,t] for g in range(max_time) for s in range(2)]) for t in range(max_time)])\n",
    "        self.Consumption = Consumption\n",
    "\n",
    "        Labor = np.array([np.sum([self.l[s,g,self.T]*self.N[s,g,self.T]*self.epsilon[s,g,self.T] for g in range(max_time) for s in range(2)]) for t in range(max_time)])\n",
    "        self.Labor = Labor\n",
    "\n",
    "        Assets =  np.array([np.sum([self.a[s,g,t]*self.N[s,g,t] for g in range(max_time) for s in range(2)]) for t in range(max_time)])\n",
    "        self.Assets = Assets\n",
    "\n",
    "\n",
    "        self.steady = np.array(list(steady_guess) + [Consumption[self.T], Labor[self.T], Assets[self.T]])\n",
    "        self.steady_path = []\n",
    "\n",
    "        self.max_hessian_perturbation = 10e20\n",
    "\n",
    "\n",
    "\n",
    "    def household(self, s, g, t):\n",
    "        def labor_income_vector(self, s, g, start, end):\n",
    "            return (1-self.tau_I[start:end]) * (1-(self.tau_rho[start:end] + self.tau_Ins[start:end])/(1+self.tau_rho[start:end] + self.tau_Ins[start:end])) * self.epsilon[s,g,start:end] * self.w[start:end]\n",
    "        def cumulative_rate_of_return(self,start, end):\n",
    "            if start <= end:\n",
    "                return np.prod(1+self.r[start:end]*(1-self.tau_I[start:end]))\n",
    "            else:\n",
    "                return 1\n",
    "\n",
    "        def get_initial_consumption(self, s, g, t_0):\n",
    "            return self.phi * (self.a_initial[s,g] * cumulative_rate_of_return(self, t_0, g+1)+\n",
    "                               np.sum(np.array([cumulative_rate_of_return(self,start, g+1) for start in range(t_0+1, g+2)])*\n",
    "                                      (labor_income_vector(self, s, g, t_0, g+1)+self.rho[s,g,t_0:(g+1)]*self.sigma[t_0:(g+1)]\n",
    "                                       )))/\\\n",
    "                   np.sum(\n",
    "                       np.array([cumulative_rate_of_return(self,start, g+1) for start in range(t_0+1, g+2)])*\n",
    "                       (1+self.tau_VA[t_0:(g+1)])*(self.price[t_0:(g+1)])*\n",
    "                       (\n",
    "                               np.array([cumulative_rate_of_return(self,t_0+1, end) for end in range(t_0+1, g+2)])*\n",
    "                               self.beta**np.array([i-t_0 for i in range(t_0, g+1)])*self.Pi[s,g,t_0:(g+1)]/self.Pi[s,g,t_0] * (1+self.tau_VA[t_0])*(self.price[t_0])/((1+self.tau_VA[t_0:(g+1)])*(self.price[t_0:(g+1)])) *\n",
    "                               ((1+self.tau_VA[t_0:(g+1)])*(self.price[t_0:(g+1)])/((1+self.tau_VA[t_0])*self.price[t_0])*labor_income_vector(self, s, g,t_0, t_0+1)/labor_income_vector(self, s, g,t_0, g+1)\n",
    "                                )**((1-self.phi)*(1-self.theta)))**(1/self.theta)\n",
    "                   )\n",
    "        t_0 = max(g-self.G+1,0)\n",
    "        bequest = 0\n",
    "        if t==t_0:\n",
    "            consumption = get_initial_consumption(self, s, g, t_0)\n",
    "        elif t_0 < t <= g:\n",
    "            consumption = self.c[s, g, t_0]*\\\n",
    "                          (cumulative_rate_of_return(self, t_0+1, t+1)*\n",
    "                           self.beta**(t-t_0)*self.Pi[s,g,t]/self.Pi[s,g,t_0] * (1+self.tau_VA[t_0])*self.price[t_0]/((1+self.tau_VA[t])*self.price[t]) *\n",
    "                           ((1+self.tau_VA[t])*self.price[t]/((1+self.tau_VA[t_0])*self.price[t_0])*labor_income_vector(self, s, g,t_0, t_0+1)/labor_income_vector(self, s, g,t, t+1))**((1-self.phi)*(1-self.theta))\n",
    "                           )**(1/self.theta)\n",
    "\n",
    "\n",
    "        labor = 1- consumption/(self.phi/(1-self.phi)*(1/((1+self.tau_VA[t])*self.price[t]))*labor_income_vector(self, s, g, t, t+1)[0])\n",
    "        if t == 0:\n",
    "            assets = labor_income_vector(self, s, g, t, t+1)[0]*labor+self.rho[s,g,t]*self.sigma[t] - consumption*(1+self.tau_VA[t])*self.price[t]+self.a_initial[s,g]*(1+self.r[t]*(1-self.tau_I[t]))\n",
    "        else:\n",
    "            assets = labor_income_vector(self, s, g, t, t+1)[0]*labor+self.rho[s,g,t]*self.sigma[t] - consumption*(1+self.tau_VA[t])*self.price[t]+(self.a[s,g, t-1]+bequest)*(1+self.r[t]*(1-self.tau_I[t]))\n",
    "        return consumption, labor, assets\n",
    "\n",
    "    @counted\n",
    "    def steady_state(self):\n",
    "        def labor_income_vector(self, s, g, start, end):\n",
    "            return (1-self.tau_I[start:end]) * (1-(self.tau_rho[start:end] + self.tau_Ins[start:end])/(1+self.tau_rho[start:end] + self.tau_Ins[start:end])) * self.epsilon[s,g,start:end] * self.w[start:end]\n",
    "        A_growth = self.A[0,self.T]/self.A[0, self.T-1]\n",
    "        N_growth = np.sum([self.N[s,g,self.T]*self.epsilon[s,g,self.T] for g in range(self.T, self.G+self.T) for s in range(2)])/\\\n",
    "                   np.sum([self.N[s,g,self.T-1]*self.epsilon[s,g,self.T-1] for g in range(self.T-1, self.G+self.T-1) for s in range(2)])\n",
    "\n",
    "        w_steady, price_steady, price_N_steady = self.steady[7:10]\n",
    "\n",
    "        for t in range(self.T-self.G + 1, max_time):\n",
    "            self.w[t] = w_steady* A_growth**(t - self.T)\n",
    "            self.price[t] = price_steady\n",
    "            self.price_N[t] = price_N_steady\n",
    "\n",
    "        for s in range(2):\n",
    "            initial_household = self.household(s, self.G+self.T-1, self.T) # первое родившееся поколение в период self.T\n",
    "            self.c[s, self.G+self.T-1, self.T],self.l[s, self.G+self.T-1,self.T],self.a[s, self.G+self.T-1,self.T] = initial_household\n",
    "            for t in range(self.T,self.G+self.T):\n",
    "                self.c[s, self.G+self.T-1, t],self.l[s, self.G+self.T-1,t],self.a[s, self.G+self.T-1,t] = self.household(s, self.G+self.T-1, t)\n",
    "            for g in range(self.G+self.T-2, self.T-1, -1): # все поколения, живущие в периоде self.T\n",
    "\n",
    "                self.c[s, g, g-self.G + 1]  = initial_household[0] * A_growth**(self.G+self.T-1 - g)\n",
    "                self.l[s, g, g-self.G + 1]  = initial_household[1]\n",
    "                self.a[s, g,g-self.G + 1]  = labor_income_vector(self, s, g,g-self.G + 1, g-self.G + 2)[0]*self.l[s, g, g-self.G + 1]+self.rho[s,g,g-self.G + 1]*self.sigma[g-self.G + 1] - self.c[s, g, g-self.G + 1]*(1+self.tau_VA[g-self.G + 1])*self.price[g-self.G + 1]\n",
    "                for t in range(g-self.G + 2, g+1):\n",
    "                    self.c[s, g, t],self.l[s, g, t],self.a[s, g, t] =  self.household(s, g, t)\n",
    "        Consumption = np.sum([self.c[s,g,self.T]*self.N[s,g,self.T] for g in range(self.T, self.G+self.T) for s in range(2)])\n",
    "\n",
    "        Labor = np.sum([self.l[s,g,self.T]*self.N[s,g,self.T]*self.epsilon[s,g,self.T] for g in range(self.T, self.G+self.T) for s in range(2)])\n",
    "\n",
    "        Assets =  np.sum([self.a[s,g,self.T]*self.N[s,g,self.T] for g in range(self.T, self.G+self.T) for s in range(2)])\n",
    "        # if self.steady_state.calls == 1:\n",
    "        #     eta = 1\n",
    "        # else:\n",
    "        #     eta = self.eta\n",
    "        self.steady[10:13] = np.array([Consumption,  Labor, Assets])# + (1-eta)*self.steady[10:13]\n",
    "\n",
    "\n",
    "        z_guess = self.steady[:10]\n",
    "        # bounds = [(i, 10^20) for i in [.1, .1, .1,.1, .1, .1,10^-20,10^-10, 10^-10,10^-10]]\n",
    "        result = minimize_ipopt(equilibrium\n",
    "                                , z_guess\n",
    "                                 ,jac=equilibrium_gradient\n",
    "                                , args = (self,)\n",
    "                                , options = {\"max_iter\":self.steady_max_iter, \"print_level\":0}\n",
    "                                , tol=1e-7)\n",
    "                                # , bounds = bounds\n",
    "\n",
    "        if result[\"success\"]:\n",
    "            self.steady[:10] = self.eta*result[\"x\"] + (1-self.eta)*z_guess\n",
    "            self.steady_max_iter = 1000\n",
    "        else:\n",
    "            if result[\"status\"]==-1:\n",
    "                self.steady_max_iter += 1000\n",
    "            self.steady[:10] = 1.01*z_guess\n",
    "\n",
    "        self.steady_path.append((result, np.array(self.steady)))\n",
    "\n",
    "    def create_guess(self):\n",
    "\n",
    "        A_growth = self.A[0,self.T]/self.A[0, self.T-1]\n",
    "        N_growth = np.sum([self.N[s,g,self.T]*self.epsilon[s,g,self.T] for g in range(self.T, self.G+self.T) for s in range(2)])/\\\n",
    "                   np.sum([self.N[s,g,self.T-1]*self.epsilon[s,g,self.T-1] for g in range(self.T-1, self.G+self.T-1) for s in range(2)])\n",
    "\n",
    "        I_N_steady, K_N_steady, L_N_steady,I_E_steady, K_E_steady, L_E_steady, lmbda_steady, w_steady, price_steady, price_N_steady = self.steady[:10]\n",
    "\n",
    "        for t in range(self.T-self.G + 1, max_time):\n",
    "            self.w[t] = w_steady* A_growth**(t - self.T)\n",
    "            self.price[t] = price_steady\n",
    "            self.price_N[t] = price_N_steady\n",
    "\n",
    "            self.I[0,t] = I_N_steady*(A_growth*N_growth)**(t - self.T)\n",
    "            self.K[0,t] = K_N_steady*(A_growth*N_growth)**(t - self.T)\n",
    "            self.L[0,t] = L_N_steady*(N_growth)**(t - self.T)\n",
    "            self.lmbda[0,t] = lmbda_N_steady\n",
    "\n",
    "            self.I[1,t] = I_E_steady*(A_growth*N_growth)**(t - self.T)\n",
    "            self.K[1,t] = K_E_steady*(A_growth*N_growth)**(t - self.T)\n",
    "            self.L[1,t] = L_E_steady*(N_growth)**(t - self.T)\n",
    "            self.lmbda[1,t] = lmbda_E_steady\n",
    "\n",
    "        steady_start = self.T-self.G + 1\n",
    "        self.price_N[:steady_start] = np.linspace(initial[\"price_N\"], self.price_N[steady_start], steady_start,endpoint=False)\n",
    "        self.I[0,:steady_start] = np.linspace(initial[\"I_N\"], self.I[0,steady_start], steady_start,endpoint=False)\n",
    "        self.K[0,:steady_start] = np.linspace(initial[\"K_N\"], self.K[0,steady_start], steady_start,endpoint=False)\n",
    "        self.L[0,:steady_start] = np.linspace(initial[\"L_N\"], self.L[0,steady_start], steady_start,endpoint=False)\n",
    "        # self.lmbda[0,:steady_start] = np.linspace(initial[\"price_N\"], self.lmbda[0,steady_start], steady_start,endpoint=False)\n",
    "\n",
    "        self.I[1,:steady_start] = np.linspace(initial[\"I_E\"], self.I[1,steady_start], steady_start,endpoint=False)\n",
    "        self.K[1,:steady_start] = np.linspace(initial[\"K_E\"], self.K[1,steady_start], steady_start,endpoint=False)\n",
    "        self.L[1,:steady_start] = np.linspace(initial[\"L_E\"], self.L[1,steady_start], steady_start,endpoint=False)\n",
    "        # self.lmbda[1,:steady_start] = np.linspace(initial[\"price_N\"], self.lmbda[1,steady_start], steady_start,endpoint=False)\n",
    "\n",
    "\n",
    "        self.w[:steady_start] = ((self.price_N[:steady_start] *(1-self.alpha)*(self.K[0,:steady_start])**self.alpha *(self.A[0,:steady_start])**(1-self.alpha)*(self.L[0,:steady_start])**(-self.alpha))+\n",
    "              (self.price_E[:steady_start] *(1-self.alpha)*(self.K[1,:steady_start])**self.alpha *(self.A[1,:steady_start])**(1-self.alpha)*(self.L[1,:steady_start])**(-self.alpha)))/2\n",
    "\n",
    "        self.price[:steady_start] = (self.price_M[:steady_start])**self.omega * (self.price_N[:steady_start])**(1-self.omega)\n",
    "\n",
    "    def update_guess(self):\n",
    "\n",
    "        ## Endogenous variables\n",
    "\n",
    "        def labor_demand_euler(params, S,  t):\n",
    "            if S == 1: # export\n",
    "                sectoral_price = params.price_E[t]\n",
    "            elif S==0: # non-export\n",
    "                sectoral_price = f\"self.price_N[{t}]\"\n",
    "            return f\"({1-params.alpha})* {sectoral_price} * ({params.K[S,t]})**{params.alpha} *{(params.A[S,t])**(1-params.alpha)}*  (self.L[{S},{t}])**({-params.alpha}) - self.w[{t}]\"\n",
    "\n",
    "\n",
    "        def investment_euler(params, S, t):\n",
    "            return f\"self.price[{t}] - self.lmbda[{S},{t}] *(1 - {params.psi/2} * (self.I[{S},{t}]/{params.I[S,t-1]} -1)**2 - {params.psi}*self.I[{S},{t}]/{params.I[S,t-1]} * (self.I[{S},{t}]/{params.I[S,t-1]} -1))-{params.psi/(1+params.r[t+1])}*{params.lmbda[S,t+1]}  * ({params.I[S,t+1]}/self.I[{S},{t}] -1)* ({params.I[S,t+1]}/self.I[{S},{t}])**2\"\n",
    "\n",
    "\n",
    "        def capital_euler(params, S, t):\n",
    "            if S == 1: # export\n",
    "                sectoral_price = params.price_E[t+1]\n",
    "            elif S==0: # non-export\n",
    "                sectoral_price = params.price_N[t+1]\n",
    "            return f\"{1/(1+params.r[t+1])}*(({1-params.tau_pi[t+1]}) *{params.alpha}* {sectoral_price}* (self.K[{S},{t+1}])**{params.alpha-1} * ({params.A[S,t+1]} *{params.L[S,t+1]})**{1-params.alpha}+{params.tau_pi[t+1]} * {params.delta} * {params.price[t+1]} + {params.lmbda[S,t+1]} * ({1-params.delta})) - self.lmbda[{S},{t}]\"\n",
    "\n",
    "\n",
    "        def capital_accomodation(params, S, t):\n",
    "            return f\" ({1-params.delta})* {params.K[S,t]} + self.I[{S},{t}]*(1-{params.psi/2}*(self.I[{S},{t}]/{params.I[S,t-1] -1})**2) - self.K[{S},{t+1}]\"\n",
    "\n",
    "        def labor_market_clearing(params, t):\n",
    "            L = np.sum([params.l[s,g,t]*params.N[s,g,t]*params.epsilon[s,g,t] for g in range(t, params.G+t) for s in range(2)])\n",
    "            return f\"self.L[0,{t}]+self.L[1,{t}] - {L}\"\n",
    "\n",
    "        def goods_market_clearing(params, t):\n",
    "            C = np.sum([params.c[s,g,t]*params.N[s,g,t] for g in range(t, params.G+t) for s in range(2)])\n",
    "            return [f\"{params.K[0,t]}**{params.alpha} * ({params.A[0, t]}*self.L[{0},{t}])**(1-{params.alpha}) -{params.Gov[t]}- (1-{params.omega}) * self.price[{t}]/self.price_N[{t}] * ({C}+self.I[0,{t}]+self.I[1,{t}])\",\n",
    "                f\"self.price[{t}] - {params.price_M[t]**params.omega}*self.price_N[{t}]**({1-params.omega})\"]\n",
    "\n",
    "        def labor_derivative(params, S, t):\n",
    "            if S == 1: # export\n",
    "                sectoral_price = params.price_E[t]\n",
    "            elif S==0: # non-export\n",
    "                sectoral_price = f\"self.price_N[{t}]\"\n",
    "            nulls = [\"0\" for _ in range(4)]\n",
    "            # порядок: I[S,t], K[S,t+1], L[S, t], lmbda[S,t]\n",
    "\n",
    "            derivatives = [\"0\", \"0\",\n",
    "                    f\"\"\"{(-params.alpha)*(1-params.alpha)*(params.A[S,t])**(1-params.alpha)}*{sectoral_price}*{params.K[S,t]}**{params.alpha}*self.L[{S},{t}]**{-1-params.alpha}\"\"\", \"0\"]\n",
    "            if S == 1: # export\n",
    "                return nulls+derivatives+[\"-1\"]+[\"0\",\"0\"]\n",
    "            elif S==0: # non-export\n",
    "                return derivatives+nulls+[\"-1\"]+[f\"\"\"{(1-params.alpha)*(params.A[S,t])**(1-params.alpha)}*{sectoral_price}*{params.K[S,t]}**{params.alpha}*self.L[{S},{t}]**{-params.alpha}\"\"\",\"0\"]\n",
    "        def investment_derivative(params, S, t):\n",
    "            nulls = [\"0\" for _ in range(4)]\n",
    "\n",
    "            derivatives= [\n",
    "                f\"- self.lmbda[{S},{t}] *(1 - {params.psi}/{params.I[S,t-1]} * (self.I[{S},{t}]/{params.I[S,t-1]} -1)**2 - {params.psi}/{params.I[S,t-1]} * (self.I[{S},{t}]/{params.I[S,t-1]} -1)- {params.psi}*self.I[{S},{t}]/{params.I[S,t-1]**2})-{params.psi/(1+params.r[t+1])}*{params.lmbda[S,t+1]}  * ({params.I[S,t+1]}**2 * (-2)/self.I[{S},{t}]**3 * ({params.I[S,t+1]}/self.I[{S},{t}] -1)+self.I[{S},{t}]*(-1)/self.I[{S},{t}]**2 * ({params.I[S,t+1]}/self.I[{S},{t}])**2)\",\n",
    "                    \"0\",\n",
    "                    \"0\",\n",
    "                    f\"-  (1 - {params.psi/2} * (self.I[{S},{t}]/{params.I[S,t-1]} -1)**2 - {params.psi}*self.I[{S},{t}]/{params.I[S,t-1]} * (self.I[{S},{t}]/{params.I[S,t-1]} -1))\"\n",
    "                    ]\n",
    "            if S == 1: # export\n",
    "                return nulls+derivatives+[\"0\",\"0\",\"1\"]\n",
    "            elif S==0: # non-export\n",
    "                return derivatives+nulls+[\"0\",\"0\",\"1\"]\n",
    "\n",
    "\n",
    "        def capital_derivative(params, S, t):\n",
    "            if S == 1: # export\n",
    "                sectoral_price = params.price_E[t+1]\n",
    "            elif S==0: # non-export\n",
    "                sectoral_price = params.price_N[t+1]\n",
    "            nulls = [\"0\" for _ in range(4)]\n",
    "\n",
    "            derivatives = [\"0\",f\"\"\"1/({1+params.r[t+1]}) * {(1-params.tau_pi[t+1])*params.alpha*(params.alpha-1)}*{sectoral_price} * {(params.A[S,t+1])**(1-params.alpha)} * (self.K[{S},{t+1}])**{params.alpha-2} * ({params.L[S,t+1]})**({1-params.alpha})\"\"\" ,\"0\", \"-1\"]\n",
    "            if S == 1: # export\n",
    "                return nulls+derivatives+[\"0\",\"0\",\"0\"]\n",
    "            elif S==0: # non-export\n",
    "                return derivatives+nulls+[\"0\",\"0\",\"0\"]\n",
    "\n",
    "        def capital_accommodation_derivative(params, S, t):\n",
    "\n",
    "            nulls = [\"0\" for _ in range(4)]\n",
    "            derivatives = [f\"\"\"((1-{params.psi/2}*(self.I[{S},{t}]/{params.I[S,t-1]} - 1))**2-self.I[{S},{t}] * ({-params.psi}/{params.I[S,t-1]} * (self.I[{S},{t}]/{params.I[S,t-1]} - 1)))\"\"\",\"-1\",\"0\",\"0\"]\n",
    "            if S == 1: # export\n",
    "                return nulls+derivatives+[\"0\",\"0\",\"0\"]\n",
    "            elif S==0: # non-export\n",
    "                return derivatives+nulls+[\"0\",\"0\",\"0\"]\n",
    "\n",
    "\n",
    "        def labor_market_clearing_derivative():\n",
    "            return [\"0\",\"0\",\"1\",\"0\",\"0\",\"0\",\"1\",\"0\",\"0\",\"0\",\"0\"]\n",
    "\n",
    "        def goods_market_clearing_derivative(params, t):\n",
    "            C = np.sum([params.c[s,g,t]*params.N[s,g,t] for g in range(t, params.G+t) for s in range(2)])\n",
    "            return [f\"- (1-{params.omega}) * self.price[{t}]/self.price_N[{t}]\",\n",
    "                   \"0\",\n",
    "                   f\"({1-params.alpha})*self.K[{0},{t}]**{params.alpha} * {params.A[0, t]}**{1-params.alpha} *self.L[{0},{t}]**(-{params.alpha})\",\n",
    "                   \"0\",\n",
    "                   f\"- (1-{params.omega}) * self.price[{t}]/self.price_N[{t}]\",\n",
    "                   \"0\",\n",
    "                   \"0\",\n",
    "                   \"0\",\n",
    "                   \"0\",\n",
    "                   f\"-(1-{params.omega})*(-1) * self.price[{t}]/self.price_N[{t}]**2 * ({C}+self.I[0,{t}]+self.I[1,{t}])\",\n",
    "                   f\"-(1-{params.omega}) /self.price_N[{t}] * ({C}+self.I[0,{t}]+self.I[1,{t}])\"\n",
    "                   ]\n",
    "        def price_derivative(params,t):\n",
    "            return [\"0\",\n",
    "                   \"0\",\n",
    "                   \"0\",\n",
    "                   \"0\",\n",
    "                   \"0\",\n",
    "                   \"0\",\n",
    "                   \"0\",\n",
    "                   \"0\",\n",
    "                   \"0\",\n",
    "                   f\" -({1-params.omega})* {params.price_M[t]**params.omega}*self.price_N[{t}]**({-params.omega})\",\n",
    "                    \"1\"]\n",
    "\n",
    "        def production_jacobian(z,self, t):\n",
    "            self.I[:,t] = z[0],z[4]\n",
    "            self.K[:,t+1] = z[1],z[5]\n",
    "            self.L[:,t] = z[2],z[6]\n",
    "            self.lmbda[:,t] = z[3],z[7]\n",
    "            self.w[t] = z[8]\n",
    "            self.price_N[t] = z[9]\n",
    "            self.price[t] = z[10]\n",
    "\n",
    "            system = [[labor_derivative(self, S, t), investment_derivative(self, S, t), capital_derivative(self, S, t), capital_accommodation_derivative(self, S, t)] for S in range(2)]\n",
    "            system = list(itertools.chain(*(system)))+[labor_market_clearing_derivative(),goods_market_clearing_derivative(self, t), price_derivative(self,t)]\n",
    "            system = list(np.array(system).transpose())\n",
    "            sum_of_squares = [\"+\".join([f\"2*({equation})\" for equation in column]) for column in system]\n",
    "            # J = [[eval(equation,{},{\"self\":self}) for equation in row] for row in system]\n",
    "            J = [eval(equation,{},{\"self\":self}) for equation in sum_of_squares]\n",
    "            return J\n",
    "\n",
    "\n",
    "\n",
    "        def production(z,self, t):\n",
    "            self.I[:,t] = z[0],z[4]\n",
    "            self.K[:,t+1] = z[1],z[5]\n",
    "            self.L[:,t] = z[2],z[6]\n",
    "            self.lmbda[:,t] = z[3],z[7]\n",
    "            self.w[t] = z[8]\n",
    "            self.price_N[t] = z[9]\n",
    "            self.price[t] = z[10]\n",
    "\n",
    "            production_system = [[labor_demand_euler(self, S, t),\n",
    "                          investment_euler(self, S, t),\n",
    "                          capital_euler(self,S,t),\n",
    "                          capital_accomodation(self,S,t)] for S in range(2)]\n",
    "\n",
    "            labor_market = labor_market_clearing(self, t)\n",
    "            goods_market = goods_market_clearing(self, t)\n",
    "\n",
    "            system = list(itertools.chain(*(production_system)))+[labor_market] + goods_market\n",
    "            sum_of_squares = \"+\".join([f\"({equation})**2\" for equation in system])\n",
    "            # F = [eval(equation,{},{\"self\":self}) for equation in system]\n",
    "            F = eval(sum_of_squares,{},{\"self\":self})\n",
    "            return F\n",
    "        # def production(z,self, t, S):\n",
    "        #     self.I[S,t],self.K[S,t+1],self.L[S,t],self.lmbda[S,t] = z\n",
    "        #\n",
    "        #     system = [labor_demand_euler(self, S, t)]+[investment_euler(self, S, t)]+[capital_euler(self,S,t)]+[capital_accomodation(self,S,t)]\n",
    "        #     F = [eval(equation,{},{\"self\":self}) for equation in system]\n",
    "        #     return F\n",
    "\n",
    "        # def market_clearing(z, self, t):\n",
    "        #     self.w[t], self.price_N[t], self.price[t] = z\n",
    "        #     system = [labor_market_clearing(self,t)]+goods_market_clearing(self, t)\n",
    "        #     F = [eval(equation,{},{\"self\":self}) for equation in system]\n",
    "        #     return F\n",
    "\n",
    "\n",
    "\n",
    "        # Households (analytical solution)\n",
    "        for s in range(2):\n",
    "            for t in range(self.T):\n",
    "                for g in range(t, self.G+t):\n",
    "                    self.c[s, g, t],self.l[s, g, t],self.a[s, g, t]  = self.household(s,g,t)\n",
    "        for t in range(self.T):\n",
    "            z_guess = [self.I[0,t],self.K[0,t+1],self.L[0,t],self.lmbda[0,t], self.I[1,t],self.K[1,t+1],self.L[1,t],self.lmbda[1,t],self.w[t], self.price_N[t], self.price[t]]\n",
    "            # z = fsolve(production,z_guess, fprime=production_jacobian,maxfev=500,\n",
    "            #        args = (self, t))\n",
    "\n",
    "            # result = minimize_ipopt(production, z_guess, args = (self, t))#,jac = production_jacobian)\n",
    "            z = result[\"x\"]\n",
    "            # z = np.array(z_guess) * (1-self.eta) + np.array(z_update) * (self.eta)\n",
    "            self.I[:,t] = z[0],z[4]\n",
    "            self.K[:,t+1] = z[1],z[5]\n",
    "            self.L[:,t] = z[2],z[6]\n",
    "            self.lmbda[:,t] = z[3],z[7]\n",
    "            self.w[t] = z[8]\n",
    "            self.price_N[t] = z[9]\n",
    "            self.price[t] = z[10]\n",
    "            # Market clearing (analytical solution)\n",
    "            self.Y = self.K**self.alpha * (self.L*self.A)**(1-self.alpha)\n",
    "            self.D = self.I.sum(axis = 0)+(self.N[:,:self.c.shape[1],:]*self.c[:,:self.c.shape[1],:]).sum(axis=0).sum(axis =0)\n",
    "            self.M =  self.omega * self.D * self.price / self.price_M\n"
   ],
   "metadata": {
    "collapsed": false,
    "pycharm": {
     "name": "#%%\n"
    }
   }
  },
  {
   "cell_type": "code",
   "execution_count": 417,
   "outputs": [
    {
     "ename": "ModuleNotFoundError",
     "evalue": "No module named 'jaxlib'",
     "output_type": "error",
     "traceback": [
      "\u001B[1;31m---------------------------------------------------------------------------\u001B[0m",
      "\u001B[1;31mModuleNotFoundError\u001B[0m                       Traceback (most recent call last)",
      "\u001B[1;32m~\\AppData\\Local\\Temp/ipykernel_12240/2498166224.py\u001B[0m in \u001B[0;36m<module>\u001B[1;34m\u001B[0m\n\u001B[0;32m      8\u001B[0m \u001B[1;33m\u001B[0m\u001B[0m\n\u001B[0;32m      9\u001B[0m \u001B[1;31m# import jax.numpy as np\u001B[0m\u001B[1;33m\u001B[0m\u001B[1;33m\u001B[0m\u001B[0m\n\u001B[1;32m---> 10\u001B[1;33m \u001B[1;32mfrom\u001B[0m \u001B[0mjax\u001B[0m \u001B[1;32mimport\u001B[0m \u001B[0mjit\u001B[0m\u001B[1;33m,\u001B[0m \u001B[0mgrad\u001B[0m\u001B[1;33m,\u001B[0m \u001B[0mjacfwd\u001B[0m\u001B[1;33m\u001B[0m\u001B[1;33m\u001B[0m\u001B[0m\n\u001B[0m\u001B[0;32m     11\u001B[0m \u001B[1;31m# jit the functions\u001B[0m\u001B[1;33m\u001B[0m\u001B[1;33m\u001B[0m\u001B[0m\n\u001B[0;32m     12\u001B[0m \u001B[0mobj_jit\u001B[0m \u001B[1;33m=\u001B[0m \u001B[0mjit\u001B[0m\u001B[1;33m(\u001B[0m\u001B[0mequilibrium\u001B[0m\u001B[1;33m)\u001B[0m\u001B[1;33m\u001B[0m\u001B[1;33m\u001B[0m\u001B[0m\n",
      "\u001B[1;32m~\\Anaconda3\\lib\\site-packages\\jax\\__init__.py\u001B[0m in \u001B[0;36m<module>\u001B[1;34m\u001B[0m\n\u001B[0;32m     19\u001B[0m \u001B[1;33m\u001B[0m\u001B[0m\n\u001B[0;32m     20\u001B[0m \u001B[1;31m# flake8: noqa: F401\u001B[0m\u001B[1;33m\u001B[0m\u001B[1;33m\u001B[0m\u001B[0m\n\u001B[1;32m---> 21\u001B[1;33m \u001B[1;32mfrom\u001B[0m \u001B[1;33m.\u001B[0m\u001B[0mconfig\u001B[0m \u001B[1;32mimport\u001B[0m \u001B[0mconfig\u001B[0m\u001B[1;33m\u001B[0m\u001B[1;33m\u001B[0m\u001B[0m\n\u001B[0m\u001B[0;32m     22\u001B[0m from .api import (\n\u001B[0;32m     23\u001B[0m   \u001B[0mad\u001B[0m\u001B[1;33m,\u001B[0m  \u001B[1;31m# TODO(phawkins): update users to avoid this.\u001B[0m\u001B[1;33m\u001B[0m\u001B[1;33m\u001B[0m\u001B[0m\n",
      "\u001B[1;32m~\\Anaconda3\\lib\\site-packages\\jax\\config.py\u001B[0m in \u001B[0;36m<module>\u001B[1;34m\u001B[0m\n\u001B[0;32m     17\u001B[0m \u001B[1;32mimport\u001B[0m \u001B[0mthreading\u001B[0m\u001B[1;33m\u001B[0m\u001B[1;33m\u001B[0m\u001B[0m\n\u001B[0;32m     18\u001B[0m \u001B[1;32mfrom\u001B[0m \u001B[0mtyping\u001B[0m \u001B[1;32mimport\u001B[0m \u001B[0mOptional\u001B[0m\u001B[1;33m\u001B[0m\u001B[1;33m\u001B[0m\u001B[0m\n\u001B[1;32m---> 19\u001B[1;33m \u001B[1;32mfrom\u001B[0m \u001B[0mjax\u001B[0m \u001B[1;32mimport\u001B[0m \u001B[0mlib\u001B[0m\u001B[1;33m\u001B[0m\u001B[1;33m\u001B[0m\u001B[0m\n\u001B[0m\u001B[0;32m     20\u001B[0m \u001B[1;33m\u001B[0m\u001B[0m\n\u001B[0;32m     21\u001B[0m \u001B[1;32mdef\u001B[0m \u001B[0mbool_env\u001B[0m\u001B[1;33m(\u001B[0m\u001B[0mvarname\u001B[0m\u001B[1;33m:\u001B[0m \u001B[0mstr\u001B[0m\u001B[1;33m,\u001B[0m \u001B[0mdefault\u001B[0m\u001B[1;33m:\u001B[0m \u001B[0mbool\u001B[0m\u001B[1;33m)\u001B[0m \u001B[1;33m->\u001B[0m \u001B[0mbool\u001B[0m\u001B[1;33m:\u001B[0m\u001B[1;33m\u001B[0m\u001B[1;33m\u001B[0m\u001B[0m\n",
      "\u001B[1;32m~\\Anaconda3\\lib\\site-packages\\jax\\lib\\__init__.py\u001B[0m in \u001B[0;36m<module>\u001B[1;34m\u001B[0m\n\u001B[0;32m     21\u001B[0m ]\n\u001B[0;32m     22\u001B[0m \u001B[1;33m\u001B[0m\u001B[0m\n\u001B[1;32m---> 23\u001B[1;33m \u001B[1;32mimport\u001B[0m \u001B[0mjaxlib\u001B[0m\u001B[1;33m\u001B[0m\u001B[1;33m\u001B[0m\u001B[0m\n\u001B[0m\u001B[0;32m     24\u001B[0m \u001B[1;33m\u001B[0m\u001B[0m\n\u001B[0;32m     25\u001B[0m \u001B[1;31m# Must be kept in sync with the jaxlib version in build/test-requirements.txt\u001B[0m\u001B[1;33m\u001B[0m\u001B[1;33m\u001B[0m\u001B[0m\n",
      "\u001B[1;31mModuleNotFoundError\u001B[0m: No module named 'jaxlib'"
     ]
    }
   ],
   "source": [
    "# # from jax.config import config\n",
    "#\n",
    "# # Enable 64 bit floating point precision\n",
    "# # config.update(\"jax_enable_x64\", True)\n",
    "#\n",
    "# # We use the CPU instead of GPU und mute all warnings if no GPU/TPU is found.\n",
    "# # config.update('jax_platform_name', 'cpu')\n",
    "#\n",
    "# # import jax.numpy as np\n",
    "# from jax import jit, grad, jacfwd\n",
    "# # jit the functions\n",
    "# obj_jit = jit(equilibrium)\n",
    "# # con_eq_jit = jit(eq_constraints)\n",
    "# # con_ineq_jit = jit(ineq_constrains)\n",
    "#\n",
    "# # build the derivatives and jit them\n",
    "# obj_grad = jit(grad(obj_jit))  # objective gradient\n",
    "# obj_hess = jit(jacrev(jacfwd(obj_jit))) # objective hessian\n",
    "# # con_eq_jac = jit(jacfwd(con_eq_jit))  # jacobian\n",
    "# # con_ineq_jac = jit(jacfwd(con_ineq_jit))  # jacobian\n",
    "# # con_eq_hess = jacrev(jacfwd(con_eq_jit)) # hessian\n",
    "# # con_eq_hessvp = jit(lambda x, v: con_eq_hess(x) * v[0]) # hessian vector-product\n",
    "# # con_ineq_hess = jacrev(jacfwd(con_ineq_jit))  # hessian\n",
    "# # con_ineq_hessvp = jit(lambda x, v: con_ineq_hess(x) * v[0])"
   ],
   "metadata": {
    "collapsed": false,
    "pycharm": {
     "name": "#%%\n"
    }
   }
  },
  {
   "cell_type": "code",
   "execution_count": 374,
   "outputs": [],
   "source": [
    "def equilibrium(z, self, objective = True):\n",
    "\n",
    "    A_growth = self.A[0,self.T]/self.A[0, self.T-1]\n",
    "    N_growth = np.sum([self.N[s,g,self.T]*self.epsilon[s,g,self.T] for g in range(self.T, self.G+self.T) for s in range(2)])/\\\n",
    "               np.sum([self.N[s,g,self.T-1]*self.epsilon[s,g,self.T-1] for g in range(self.T-1, self.G+self.T-1) for s in range(2)])\n",
    "\n",
    "\n",
    "    system = [f\"{1-self.alpha}*price_N_steady * (K_N_steady)**{self.alpha} *{(self.A[0,self.T])**(1-self.alpha)}*  (L_N_steady)**({-self.alpha}) - w_steady\",\n",
    "              f\"price_steady - lmbda_steady *(1 - {self.psi/2} * ({A_growth*N_growth} -1)**2 - {self.psi}*{A_growth*N_growth} * ({A_growth*N_growth -1}))-{self.psi/(1+self.r[self.T+1])}*lmbda_steady  * ({A_growth*N_growth} -1)* ({A_growth*N_growth})**2\",\n",
    "              f\"{1/(1+self.r[self.T+1])}*(({1-self.tau_pi[self.T+1]}) *{self.alpha}*price_N_steady* (K_N_steady)**{self.alpha-1} * ({self.A[0,self.T]} *L_N_steady)**{1-self.alpha}+{self.tau_pi[self.T+1]} * {self.delta} * price_steady + lmbda_steady * ({1-self.delta})) - lmbda_steady\",\n",
    "              f\"({1-self.delta})* K_N_steady + I_N_steady*(1-{self.psi/2}*({A_growth*N_growth} -1)**2) - K_N_steady*{A_growth*N_growth}\",\n",
    "              f\"{1-self.alpha}*{self.price_E[self.T]} * (K_E_steady)**{self.alpha} *{(self.A[0,self.T])**(1-self.alpha)}*  (L_E_steady)**({-self.alpha}) - w_steady\",\n",
    "              f\"{1/(1+self.r[self.T+1])}*(({1-self.tau_pi[self.T+1]}) *{self.alpha}* {self.price_E[self.T+1]}* (K_E_steady)**{self.alpha-1} * ({self.A[1,self.T]} *L_E_steady)**{1-self.alpha}+{self.tau_pi[self.T+1]} * {self.delta} * price_steady + lmbda_steady * ({1-self.delta})) - lmbda_steady\",\n",
    "              f\"({1-self.delta})* K_E_steady + I_E_steady*(1-{self.psi/2}*({A_growth*N_growth} -1)**2) - K_E_steady*{A_growth*N_growth}\",\n",
    "              f\"L_N_steady+L_E_steady - {self.steady[11]}\",\n",
    "              f\"K_N_steady**{self.alpha} * ({self.A[0, self.T]}*L_N_steady)**({1-self.alpha}) -{self.Gov[self.T]}- (1-{self.omega}) * price_steady/price_N_steady * ({self.steady[10]}+I_N_steady+I_E_steady)\",\n",
    "              f\"price_steady - {self.price_M[self.T]**self.omega}*price_N_steady**({1-self.omega})\"\n",
    "              ]\n",
    "    name_space = {label:value for label, value in zip((\"self\",\"I_N_steady\", \"K_N_steady\", \"L_N_steady\", \"I_E_steady\", \"K_E_steady\", \"L_E_steady\",\"lmbda_steady\", \"w_steady\", \"price_steady\", \"price_N_steady\"),[self]+list(z))}\n",
    "\n",
    "    if objective:\n",
    "        sum_of_squares = \"+\".join([f\"({equation})**2\" for equation in system])\n",
    "        F = eval(sum_of_squares,{},name_space)\n",
    "    else:\n",
    "        F = [eval(equation,{},name_space) for equation in system]\n",
    "    return F"
   ],
   "metadata": {
    "collapsed": false,
    "pycharm": {
     "name": "#%%\n"
    }
   }
  },
  {
   "cell_type": "code",
   "execution_count": 375,
   "outputs": [],
   "source": [
    "def equilibrium_gradient(z, self, objective = True):\n",
    "\n",
    "    A_growth = self.A[0,self.T]/self.A[0, self.T-1]\n",
    "    N_growth = np.sum([self.N[s,g,self.T]*self.epsilon[s,g,self.T] for g in range(self.T, self.G+self.T) for s in range(2)])/\\\n",
    "               np.sum([self.N[s,g,self.T-1]*self.epsilon[s,g,self.T-1] for g in range(self.T-1, self.G+self.T-1) for s in range(2)])\n",
    "\n",
    "    gradient = [\n",
    "        # \"I_N_steady\"\n",
    "        [\"0\",\n",
    "                 \"0\",\n",
    "                 \"0\",\n",
    "                 f\"(1-{self.psi/2}*({A_growth*N_growth} -1)**2)\",\n",
    "                 \"0\",\n",
    "                 \"0\",\n",
    "                 \"0\",\n",
    "                 \"0\",\n",
    "                 f\"({1-self.omega}) * price_steady/price_N_steady\",\n",
    "                 \"0\"],\n",
    "                # \"K_N_steady\"\n",
    "                [f\"{1-self.alpha}*{self.alpha}*price_N_steady * K_N_steady**{self.alpha-1} *{(self.A[0,self.T])**(1-self.alpha)}* L_N_steady**{-self.alpha}\",\n",
    "                 \"0\",\n",
    "                 f\"{1/(1+self.r[self.T+1])}*({1-self.tau_pi[self.T+1]} *{self.alpha}*{self.alpha-1}* price_N_steady* (K_N_steady)**{self.alpha-2} * ({self.A[0,self.T]} *L_N_steady)**{1-self.alpha})\",\n",
    "                 f\"{1-self.delta} - {A_growth*N_growth}\",\n",
    "                 \"0\",\n",
    "                 \"0\",\n",
    "                 \"0\",\n",
    "                 \"0\",\n",
    "                 f\"{self.alpha}*K_N_steady**{self.alpha-1} * ({self.A[0, self.T]}*L_N_steady)**{1-self.alpha}\",\n",
    "                 \"0\"],\n",
    "                # \"L_N_steady\"\n",
    "                [\n",
    "                    f\"price_N_steady *{1-self.alpha} * (K_N_steady)**{self.alpha} *{(self.A[0,self.T])**(1-self.alpha)}*{-self.alpha} *(L_N_steady)**{-self.alpha-1}\",\n",
    "                    \"0\",\n",
    "                    f\"\"\"{1/(1+self.r[self.T+1])}*{1-self.tau_pi[self.T+1]} *{self.alpha}* price_N_steady*(K_N_steady)**{self.alpha-1} *({self.A[0,self.T]})**{1-self.alpha} *{1-self.alpha}*L_N_steady**{-self.alpha}\"\"\",\n",
    "                    \"0\",\n",
    "                    \"0\",\n",
    "                    \"0\",\n",
    "                    \"0\",\n",
    "                    \"1\",\n",
    "                    f\"K_N_steady**{self.alpha} * ({self.A[0, self.T]})**{1-self.alpha}*{1-self.alpha}*L_N_steady**{-self.alpha}\",\n",
    "                    \"0\"],\n",
    "                # I_E_steady\n",
    "                [\"0\",\n",
    "                 \"0\",\n",
    "                 \"0\",\n",
    "                 \"0\",\n",
    "                 \"0\",\n",
    "                 \"0\",\n",
    "                 f\"(1-{self.psi/2}*({A_growth*N_growth} -1)**2)\",\n",
    "                 \"0\",\n",
    "                 f\"({1-self.omega}) * price_steady/price_N_steady\",\n",
    "                 \"0\"],\n",
    "                # K_E_steady\n",
    "                [\"0\",\n",
    "                 \"0\",\n",
    "                 \"0\",\n",
    "                 \"0\",\n",
    "                 f\"{1-self.alpha}*{self.alpha}*{self.price_E[self.T]} * K_E_steady**{self.alpha-1} *{(self.A[1,self.T])**(1-self.alpha)}* L_E_steady**{-self.alpha}\",\n",
    "                 f\"{1/(1+self.r[self.T+1])}*({1-self.tau_pi[self.T+1]} *{self.alpha}*{self.alpha-1}* {self.price_E[self.T]}* (K_E_steady)**{self.alpha-2} * ({self.A[1,self.T]} *L_E_steady)**{1-self.alpha})\",\n",
    "                 f\"{1-self.delta} - {A_growth*N_growth}\",\n",
    "                 \"0\",\n",
    "                 \"0\",\n",
    "                 \"0\"],\n",
    "                # L_E_steady\n",
    "                [\"0\",\n",
    "                 \"0\",\n",
    "                 \"0\",\n",
    "                 \"0\",\n",
    "                f\"{self.price_E[self.T]} *{1-self.alpha} * (K_E_steady)**{self.alpha} *{(self.A[1,self.T])**(1-self.alpha)}*{-self.alpha} *(L_E_steady)**{-self.alpha-1}\",\n",
    "                f\"\"\"{1/(1+self.r[self.T+1])}*{1-self.tau_pi[self.T+1]} *{self.alpha}* {self.price_E[self.T]}*(K_E_steady)**{self.alpha-1} *({self.A[1,self.T]})**{1-self.alpha} *{1-self.alpha}*L_E_steady**{-self.alpha}\"\"\",\n",
    "                \"0\",\n",
    "                \"1\",\n",
    "                \"0\",\n",
    "                \"0\"],\n",
    "                # lmbda_steady\n",
    "                [\"0\",\n",
    "                 f\"-(1 - {self.psi/2} * ({A_growth*N_growth} -1)**2 - {self.psi}*{A_growth*N_growth} * ({A_growth*N_growth} -1))-{self.psi/(1+self.r[self.T+1])}* ({A_growth*N_growth} -1)* {A_growth*N_growth}**2\",\n",
    "                 f\"{1/(1+self.r[self.T+1])}*{1-self.delta} - 1\",\n",
    "                 \"0\",\n",
    "                 \"0\",\n",
    "                 f\"{1/(1+self.r[self.T+1])}*{1-self.delta} - 1\",\n",
    "                 \"0\",\n",
    "                 \"0\",\n",
    "                 \"0\",\n",
    "                 \"0\"],\n",
    "                # w_steady\n",
    "                [\"-1\",\n",
    "                 \"0\",\n",
    "                 \"0\",\n",
    "                 \"0\",\n",
    "                 \"-1\",\n",
    "                 \"0\",\n",
    "                 \"0\",\n",
    "                 \"0\",\n",
    "                 \"0\",\n",
    "                 \"0\"],\n",
    "                # price_steady\n",
    "                [\"0\",\n",
    "                 \"1\",\n",
    "                 f\"{1/(1+self.r[self.T+1])}*{self.tau_pi[self.T+1]} * {self.delta}\",\n",
    "                 \"0\",\n",
    "                 \"0\",\n",
    "                 f\"{1/(1+self.r[self.T+1])}*{self.tau_pi[self.T+1]} * {self.delta}\",\n",
    "                 \"0\",\n",
    "                 \"0\",\n",
    "                 f\"-(1-{self.omega}) /price_N_steady * ({self.steady[10]}+I_N_steady+I_E_steady)\",\n",
    "                 \"1\"\n",
    "                 ],\n",
    "                # price_N_steady\n",
    "                [f\"{1-self.alpha}*(K_N_steady)**{self.alpha} *{(self.A[0,self.T])**(1-self.alpha)}*  (L_N_steady)**({-self.alpha})\",\n",
    "                 \"0\",\n",
    "                 f\"{1/(1+self.r[self.T+1])}*({1-self.tau_pi[self.T+1]}) *{self.alpha}* (K_N_steady)**{self.alpha-1} * ({self.A[0,self.T]} *L_N_steady)**{1-self.alpha}\",\n",
    "                 \"0\",\n",
    "                 \"0\",\n",
    "                 \"0\",\n",
    "                 \"0\",\n",
    "                 \"0\",\n",
    "                 f\"{1-self.omega}*price_steady/price_N_steady**2 * ({self.steady[10]}+I_N_steady+I_E_steady)\",\n",
    "                 f\"- {self.price_M[self.T]**self.omega}*{1-self.omega}*price_N_steady**({-self.omega})\"\n",
    "                 ]]\n",
    "    name_space = {label:value for label, value in zip((\"self\",\"I_N_steady\", \"K_N_steady\", \"L_N_steady\",\"I_E_steady\", \"K_E_steady\", \"L_E_steady\", \"lmbda_steady\", \"w_steady\", \"price_steady\", \"price_N_steady\"),[self]+list(z))}\n",
    "    if objective:\n",
    "        target_system = equilibrium(z, self, False)\n",
    "        sum_of_gradient = [\"+\".join([f\"2*({outer})*({inner})\" for outer, inner in zip(target_system, row)]) for row in gradient]\n",
    "        J = [eval(equation,{},name_space) for equation in sum_of_gradient]\n",
    "    else:\n",
    "        J = [[eval(equation,{},name_space) for equation in row] for row in gradient]\n",
    "    return J"
   ],
   "metadata": {
    "collapsed": false,
    "pycharm": {
     "name": "#%%\n"
    }
   }
  },
  {
   "cell_type": "code",
   "execution_count": 3,
   "outputs": [],
   "source": [
    "# import pyreadr\n",
    "# import numpy as np\n",
    "# demography = {name:np.array(pyreadr.read_r(f\"{name}.Rda\")[name]) for name in [\"Pi_female\", \"Pi_female_steady\", \"Pi_male\", \"Pi_male_steady\",\"N_female\", \"N_male\",\"N_female_steady\",\"N_male_steady\"]}\n",
    "# np.save('demography.npy', demography)"
   ],
   "metadata": {
    "collapsed": false,
    "pycharm": {
     "name": "#%%\n"
    }
   }
  },
  {
   "cell_type": "code",
   "execution_count": 27,
   "outputs": [],
   "source": [
    "demography = np.load('demography.npy',allow_pickle='TRUE').item()"
   ],
   "metadata": {
    "collapsed": false,
    "pycharm": {
     "name": "#%%\n"
    }
   }
  },
  {
   "cell_type": "code",
   "execution_count": 377,
   "outputs": [],
   "source": [
    "epsilon_female =epsilon_male= np.array([[-0.0003*(96-g+t)**2+25*2*0.0003*(96-g+t)+2 if ((96-g+t) > 0 and (96-g+t)<=96) else 0  for g in range(demography[\"N_female\"].shape[1]) ] for t in range(demography[\"N_female\"].shape[0])])"
   ],
   "metadata": {
    "collapsed": false,
    "pycharm": {
     "name": "#%%\n"
    }
   }
  },
  {
   "cell_type": "code",
   "execution_count": 404,
   "outputs": [],
   "source": [
    "rho_female = np.array([[1 if ((96-g+t) >= 46 and (96-g+t)<=96) else 0  for g in range(demography[\"N_female\"].shape[1]) ] for t in range(demography[\"N_female\"].shape[0])])\n",
    "rho_male = np.array([[1 if ((96-g+t) >= 51 and (96-g+t)<=96) else 0  for g in range(demography[\"N_female\"].shape[1]) ] for t in range(demography[\"N_female\"].shape[0])])\n",
    "\n",
    "max_time = demography[\"N_female\"].shape[0]\n",
    "sigma = np.array([0.05 for _ in range(max_time)])\n",
    "r = np.array([0.03 for _ in range(max_time)])\n",
    "price_M = np.array([.0001 for _ in range(max_time)])\n",
    "price_E = np.array([.0001 for _ in range(max_time)])\n",
    "tau_I = np.array([0.13 for _ in range(max_time)])\n",
    "tau_Ins = np.array([0.08 for _ in range(max_time)])\n",
    "tau_pi = np.array([0.2 for _ in range(max_time)])\n",
    "tau_VA = np.array([0.18 for _ in range(max_time)])\n",
    "tau_rho = np.array([0.22 for _ in range(max_time)])\n",
    "A_N = np.array([1. for _ in range(max_time)])\n",
    "A_E = np.array([1. for _ in range(max_time)])"
   ],
   "metadata": {
    "collapsed": false,
    "pycharm": {
     "name": "#%%\n"
    }
   }
  },
  {
   "cell_type": "code",
   "execution_count": 406,
   "outputs": [],
   "source": [
    "demography[\"N_female\"]=demography[\"N_male\"]\n",
    "N = np.array([demography[\"N_female\"].transpose(),demography[\"N_male\"].transpose()])\n",
    "Pi = np.array([(demography[f\"N_{sex}male\"]/np.max(demography[\"N_female\"], axis=0)+(1-np.tri(*demography[f\"N_{sex}male\"].shape, k=95))).transpose() for sex in (\"fe\", \"\")])\n",
    "Pi[Pi<0] = 0.01\n",
    "epsilon = np.array([epsilon_female.transpose(), epsilon_male.transpose()])\n",
    "rho = np.array([rho_female.transpose(), rho_male.transpose()])\n",
    "A = np.array([A_N, A_E])\n",
    "# a_initial = np.array([[-(96-g)/10 if g < 96 else 0 for g in range(demography[\"N_female\"].shape[1])] for s in range(2)])\n",
    "# guess = {\"price_N\":np.array([.00001 for _ in range(max_time)]),\n",
    "#          \"K_N\":np.array([5000. for _ in range(max_time)]),\n",
    "#          \"L_N\":np.array([85000. for _ in range(max_time)]),\n",
    "#          \"K_E\":np.array([5000. for _ in range(max_time)]),\n",
    "#          \"L_E\":np.array([85000. for _ in range(max_time)]),\n",
    "#          \"Gov\":np.array([1. for _ in range(max_time)]),\n",
    "#          \"steady\":np.array([15., 2000.,35000.,1., 15., 2000.,50000.,-0.8,0.06, .00001, .00001])}\n",
    "initial = {\"a\":np.array([[-(96-g)/10 if g < 96 else 0 for g in range(demography[\"N_female\"].shape[1])] for s in range(2)]),\n",
    "                \"price_N\":.00001,\n",
    "                 \"K_N\":5000.,\n",
    "                 \"L_N\":85000.,\n",
    "                 \"I_N\":100.,\n",
    "                 \"K_E\":5000.,\n",
    "                 \"L_E\":85000.,\n",
    "                 \"Gov\":1000.,\n",
    "                 \"I_E\":100.}\n",
    "steady_guess = np.array([15., 2000.,35000., 15., 2000.,50000.,.0001,0.06, .0001, .00001])"
   ],
   "metadata": {
    "collapsed": false,
    "pycharm": {
     "name": "#%%\n"
    }
   }
  },
  {
   "cell_type": "code",
   "execution_count": 407,
   "outputs": [],
   "source": [
    "# надо исправить\n",
    "# Beq_female_to_female = Beq_female_to_male = Beq_male_to_female = Beq_male_to_male = np.zeros_like(demography[\"N_female\"])"
   ],
   "metadata": {
    "collapsed": false,
    "pycharm": {
     "name": "#%%\n"
    }
   }
  },
  {
   "cell_type": "code",
   "execution_count": 408,
   "outputs": [],
   "source": [
    "olg = OLG_model(G=96,T=250,N=N,epsilon=epsilon, rho=rho, sigma = sigma,Pi=Pi,r = r,price_M =price_M, price_E=price_E, tau_I=tau_I,tau_Ins=tau_Ins, tau_pi=tau_pi, tau_VA=tau_VA, tau_rho=tau_rho, beta = 0.995, phi = 0.8, theta = 0.5, psi = 5, omega=0.4, alpha = 1/3, delta=0.01, A=A,initial=initial, eta =0.8,steady_max_iter=1000, steady_guess=steady_guess)"
   ],
   "metadata": {
    "collapsed": false,
    "pycharm": {
     "name": "#%%\n"
    }
   }
  },
  {
   "cell_type": "code",
   "execution_count": 409,
   "outputs": [
    {
     "name": "stdout",
     "output_type": "stream",
     "text": [
      "0.2788505294592781\n",
      "270.5059320102903\n",
      "130.31748901278937\n",
      "17.23495730241393\n"
     ]
    },
    {
     "ename": "KeyboardInterrupt",
     "evalue": "",
     "output_type": "error",
     "traceback": [
      "\u001B[1;31m---------------------------------------------------------------------------\u001B[0m",
      "\u001B[1;31mKeyboardInterrupt\u001B[0m                         Traceback (most recent call last)",
      "\u001B[1;32m~\\AppData\\Local\\Temp/ipykernel_12240/1865662763.py\u001B[0m in \u001B[0;36m<module>\u001B[1;34m\u001B[0m\n\u001B[0;32m      2\u001B[0m     \u001B[0mwarnings\u001B[0m\u001B[1;33m.\u001B[0m\u001B[0msimplefilter\u001B[0m\u001B[1;33m(\u001B[0m\u001B[1;34m\"ignore\"\u001B[0m\u001B[1;33m)\u001B[0m\u001B[1;33m\u001B[0m\u001B[1;33m\u001B[0m\u001B[0m\n\u001B[0;32m      3\u001B[0m     \u001B[1;32mfor\u001B[0m \u001B[0m_\u001B[0m \u001B[1;32min\u001B[0m \u001B[0mrange\u001B[0m\u001B[1;33m(\u001B[0m\u001B[1;36m10\u001B[0m\u001B[1;33m)\u001B[0m\u001B[1;33m:\u001B[0m\u001B[1;33m\u001B[0m\u001B[1;33m\u001B[0m\u001B[0m\n\u001B[1;32m----> 4\u001B[1;33m         \u001B[0molg\u001B[0m\u001B[1;33m.\u001B[0m\u001B[0msteady_state\u001B[0m\u001B[1;33m(\u001B[0m\u001B[1;33m)\u001B[0m\u001B[1;33m\u001B[0m\u001B[1;33m\u001B[0m\u001B[0m\n\u001B[0m\u001B[0;32m      5\u001B[0m         \u001B[0mprint\u001B[0m\u001B[1;33m(\u001B[0m\u001B[0molg\u001B[0m\u001B[1;33m.\u001B[0m\u001B[0msteady_path\u001B[0m\u001B[1;33m[\u001B[0m\u001B[1;33m-\u001B[0m\u001B[1;36m1\u001B[0m\u001B[1;33m]\u001B[0m\u001B[1;33m[\u001B[0m\u001B[1;36m0\u001B[0m\u001B[1;33m]\u001B[0m\u001B[1;33m[\u001B[0m\u001B[1;34m\"fun\"\u001B[0m\u001B[1;33m]\u001B[0m\u001B[1;33m)\u001B[0m\u001B[1;33m\u001B[0m\u001B[1;33m\u001B[0m\u001B[0m\n",
      "\u001B[1;32m~\\AppData\\Local\\Temp/ipykernel_12240/1437428233.py\u001B[0m in \u001B[0;36mwrapped\u001B[1;34m(*args, **kwargs)\u001B[0m\n\u001B[0;32m      2\u001B[0m     \u001B[1;32mdef\u001B[0m \u001B[0mwrapped\u001B[0m\u001B[1;33m(\u001B[0m\u001B[1;33m*\u001B[0m\u001B[0margs\u001B[0m\u001B[1;33m,\u001B[0m \u001B[1;33m**\u001B[0m\u001B[0mkwargs\u001B[0m\u001B[1;33m)\u001B[0m\u001B[1;33m:\u001B[0m\u001B[1;33m\u001B[0m\u001B[1;33m\u001B[0m\u001B[0m\n\u001B[0;32m      3\u001B[0m         \u001B[0mwrapped\u001B[0m\u001B[1;33m.\u001B[0m\u001B[0mcalls\u001B[0m \u001B[1;33m+=\u001B[0m \u001B[1;36m1\u001B[0m\u001B[1;33m\u001B[0m\u001B[1;33m\u001B[0m\u001B[0m\n\u001B[1;32m----> 4\u001B[1;33m         \u001B[1;32mreturn\u001B[0m \u001B[0mf\u001B[0m\u001B[1;33m(\u001B[0m\u001B[1;33m*\u001B[0m\u001B[0margs\u001B[0m\u001B[1;33m,\u001B[0m \u001B[1;33m**\u001B[0m\u001B[0mkwargs\u001B[0m\u001B[1;33m)\u001B[0m\u001B[1;33m\u001B[0m\u001B[1;33m\u001B[0m\u001B[0m\n\u001B[0m\u001B[0;32m      5\u001B[0m     \u001B[0mwrapped\u001B[0m\u001B[1;33m.\u001B[0m\u001B[0mcalls\u001B[0m \u001B[1;33m=\u001B[0m \u001B[1;36m0\u001B[0m\u001B[1;33m\u001B[0m\u001B[1;33m\u001B[0m\u001B[0m\n\u001B[0;32m      6\u001B[0m     \u001B[1;32mreturn\u001B[0m \u001B[0mwrapped\u001B[0m\u001B[1;33m\u001B[0m\u001B[1;33m\u001B[0m\u001B[0m\n",
      "\u001B[1;32m~\\AppData\\Local\\Temp/ipykernel_12240/2477917899.py\u001B[0m in \u001B[0;36msteady_state\u001B[1;34m(self)\u001B[0m\n\u001B[0;32m    185\u001B[0m         \u001B[0mz_guess\u001B[0m \u001B[1;33m=\u001B[0m \u001B[0mself\u001B[0m\u001B[1;33m.\u001B[0m\u001B[0msteady\u001B[0m\u001B[1;33m[\u001B[0m\u001B[1;33m:\u001B[0m\u001B[1;36m10\u001B[0m\u001B[1;33m]\u001B[0m\u001B[1;33m\u001B[0m\u001B[1;33m\u001B[0m\u001B[0m\n\u001B[0;32m    186\u001B[0m         \u001B[1;31m# bounds = [(i, 10^20) for i in [.1, .1, .1,.1, .1, .1,10^-20,10^-10, 10^-10,10^-10]]\u001B[0m\u001B[1;33m\u001B[0m\u001B[1;33m\u001B[0m\u001B[0m\n\u001B[1;32m--> 187\u001B[1;33m         result = minimize_ipopt(equilibrium\n\u001B[0m\u001B[0;32m    188\u001B[0m                                 \u001B[1;33m,\u001B[0m \u001B[0mz_guess\u001B[0m\u001B[1;33m\u001B[0m\u001B[1;33m\u001B[0m\u001B[0m\n\u001B[0;32m    189\u001B[0m                                  \u001B[1;33m,\u001B[0m\u001B[0mjac\u001B[0m\u001B[1;33m=\u001B[0m\u001B[0mequilibrium_gradient\u001B[0m\u001B[1;33m\u001B[0m\u001B[1;33m\u001B[0m\u001B[0m\n",
      "\u001B[1;32m~\\Anaconda3\\lib\\site-packages\\cyipopt\\scipy_interface.py\u001B[0m in \u001B[0;36mminimize_ipopt\u001B[1;34m(fun, x0, args, kwargs, method, jac, hess, hessp, bounds, constraints, tol, callback, options)\u001B[0m\n\u001B[0;32m    309\u001B[0m             \u001B[1;32mraise\u001B[0m \u001B[0mTypeError\u001B[0m\u001B[1;33m(\u001B[0m\u001B[0mmsg\u001B[0m\u001B[1;33m.\u001B[0m\u001B[0mformat\u001B[0m\u001B[1;33m(\u001B[0m\u001B[0moption\u001B[0m\u001B[1;33m,\u001B[0m \u001B[0mvalue\u001B[0m\u001B[1;33m,\u001B[0m \u001B[0me\u001B[0m\u001B[1;33m)\u001B[0m\u001B[1;33m)\u001B[0m\u001B[1;33m\u001B[0m\u001B[1;33m\u001B[0m\u001B[0m\n\u001B[0;32m    310\u001B[0m \u001B[1;33m\u001B[0m\u001B[0m\n\u001B[1;32m--> 311\u001B[1;33m     \u001B[0mx\u001B[0m\u001B[1;33m,\u001B[0m \u001B[0minfo\u001B[0m \u001B[1;33m=\u001B[0m \u001B[0mnlp\u001B[0m\u001B[1;33m.\u001B[0m\u001B[0msolve\u001B[0m\u001B[1;33m(\u001B[0m\u001B[0m_x0\u001B[0m\u001B[1;33m)\u001B[0m\u001B[1;33m\u001B[0m\u001B[1;33m\u001B[0m\u001B[0m\n\u001B[0m\u001B[0;32m    312\u001B[0m \u001B[1;33m\u001B[0m\u001B[0m\n\u001B[0;32m    313\u001B[0m     \u001B[1;32mif\u001B[0m \u001B[0mnp\u001B[0m\u001B[1;33m.\u001B[0m\u001B[0masarray\u001B[0m\u001B[1;33m(\u001B[0m\u001B[0mx0\u001B[0m\u001B[1;33m)\u001B[0m\u001B[1;33m.\u001B[0m\u001B[0mshape\u001B[0m \u001B[1;33m==\u001B[0m \u001B[1;33m(\u001B[0m\u001B[1;33m)\u001B[0m\u001B[1;33m:\u001B[0m\u001B[1;33m\u001B[0m\u001B[1;33m\u001B[0m\u001B[0m\n",
      "\u001B[1;32m~\\Anaconda3\\lib\\site-packages\\cyipopt\\cython\\ipopt_wrapper.pyx\u001B[0m in \u001B[0;36mipopt_wrapper.Problem.solve\u001B[1;34m()\u001B[0m\n",
      "\u001B[1;32m~\\Anaconda3\\lib\\site-packages\\cyipopt\\cython\\ipopt_wrapper.pyx\u001B[0m in \u001B[0;36mipopt_wrapper.objective_cb\u001B[1;34m()\u001B[0m\n",
      "\u001B[1;32m~\\Anaconda3\\lib\\site-packages\\cyipopt\\scipy_interface.py\u001B[0m in \u001B[0;36mobjective\u001B[1;34m(self, x)\u001B[0m\n\u001B[0;32m    140\u001B[0m     \u001B[1;32mdef\u001B[0m \u001B[0mobjective\u001B[0m\u001B[1;33m(\u001B[0m\u001B[0mself\u001B[0m\u001B[1;33m,\u001B[0m \u001B[0mx\u001B[0m\u001B[1;33m)\u001B[0m\u001B[1;33m:\u001B[0m\u001B[1;33m\u001B[0m\u001B[1;33m\u001B[0m\u001B[0m\n\u001B[0;32m    141\u001B[0m         \u001B[0mself\u001B[0m\u001B[1;33m.\u001B[0m\u001B[0mnfev\u001B[0m \u001B[1;33m+=\u001B[0m \u001B[1;36m1\u001B[0m\u001B[1;33m\u001B[0m\u001B[1;33m\u001B[0m\u001B[0m\n\u001B[1;32m--> 142\u001B[1;33m         \u001B[1;32mreturn\u001B[0m \u001B[0mself\u001B[0m\u001B[1;33m.\u001B[0m\u001B[0mfun\u001B[0m\u001B[1;33m(\u001B[0m\u001B[0mx\u001B[0m\u001B[1;33m,\u001B[0m \u001B[1;33m*\u001B[0m\u001B[0mself\u001B[0m\u001B[1;33m.\u001B[0m\u001B[0margs\u001B[0m\u001B[1;33m,\u001B[0m \u001B[1;33m**\u001B[0m\u001B[0mself\u001B[0m\u001B[1;33m.\u001B[0m\u001B[0mkwargs\u001B[0m\u001B[1;33m)\u001B[0m\u001B[1;33m\u001B[0m\u001B[1;33m\u001B[0m\u001B[0m\n\u001B[0m\u001B[0;32m    143\u001B[0m \u001B[1;33m\u001B[0m\u001B[0m\n\u001B[0;32m    144\u001B[0m     \u001B[1;32mdef\u001B[0m \u001B[0mgradient\u001B[0m\u001B[1;33m(\u001B[0m\u001B[0mself\u001B[0m\u001B[1;33m,\u001B[0m \u001B[0mx\u001B[0m\u001B[1;33m,\u001B[0m \u001B[1;33m**\u001B[0m\u001B[0mkwargs\u001B[0m\u001B[1;33m)\u001B[0m\u001B[1;33m:\u001B[0m\u001B[1;33m\u001B[0m\u001B[1;33m\u001B[0m\u001B[0m\n",
      "\u001B[1;32m~\\AppData\\Local\\Temp/ipykernel_12240/2120140054.py\u001B[0m in \u001B[0;36mequilibrium\u001B[1;34m(z, self, objective)\u001B[0m\n\u001B[0;32m     21\u001B[0m     \u001B[1;32mif\u001B[0m \u001B[0mobjective\u001B[0m\u001B[1;33m:\u001B[0m\u001B[1;33m\u001B[0m\u001B[1;33m\u001B[0m\u001B[0m\n\u001B[0;32m     22\u001B[0m         \u001B[0msum_of_squares\u001B[0m \u001B[1;33m=\u001B[0m \u001B[1;34m\"+\"\u001B[0m\u001B[1;33m.\u001B[0m\u001B[0mjoin\u001B[0m\u001B[1;33m(\u001B[0m\u001B[1;33m[\u001B[0m\u001B[1;34mf\"({equation})**2\"\u001B[0m \u001B[1;32mfor\u001B[0m \u001B[0mequation\u001B[0m \u001B[1;32min\u001B[0m \u001B[0msystem\u001B[0m\u001B[1;33m]\u001B[0m\u001B[1;33m)\u001B[0m\u001B[1;33m\u001B[0m\u001B[1;33m\u001B[0m\u001B[0m\n\u001B[1;32m---> 23\u001B[1;33m         \u001B[0mF\u001B[0m \u001B[1;33m=\u001B[0m \u001B[0meval\u001B[0m\u001B[1;33m(\u001B[0m\u001B[0msum_of_squares\u001B[0m\u001B[1;33m,\u001B[0m\u001B[1;33m{\u001B[0m\u001B[1;33m}\u001B[0m\u001B[1;33m,\u001B[0m\u001B[0mname_space\u001B[0m\u001B[1;33m)\u001B[0m\u001B[1;33m\u001B[0m\u001B[1;33m\u001B[0m\u001B[0m\n\u001B[0m\u001B[0;32m     24\u001B[0m     \u001B[1;32melse\u001B[0m\u001B[1;33m:\u001B[0m\u001B[1;33m\u001B[0m\u001B[1;33m\u001B[0m\u001B[0m\n\u001B[0;32m     25\u001B[0m         \u001B[0mF\u001B[0m \u001B[1;33m=\u001B[0m \u001B[1;33m[\u001B[0m\u001B[0meval\u001B[0m\u001B[1;33m(\u001B[0m\u001B[0mequation\u001B[0m\u001B[1;33m,\u001B[0m\u001B[1;33m{\u001B[0m\u001B[1;33m}\u001B[0m\u001B[1;33m,\u001B[0m\u001B[0mname_space\u001B[0m\u001B[1;33m)\u001B[0m \u001B[1;32mfor\u001B[0m \u001B[0mequation\u001B[0m \u001B[1;32min\u001B[0m \u001B[0msystem\u001B[0m\u001B[1;33m]\u001B[0m\u001B[1;33m\u001B[0m\u001B[1;33m\u001B[0m\u001B[0m\n",
      "\u001B[1;32m<string>\u001B[0m in \u001B[0;36m<module>\u001B[1;34m\u001B[0m\n",
      "\u001B[1;31mKeyboardInterrupt\u001B[0m: "
     ]
    }
   ],
   "source": [
    "with warnings.catch_warnings():\n",
    "    warnings.simplefilter(\"ignore\")\n",
    "    for _ in range(10):\n",
    "        olg.steady_state()\n",
    "        print(olg.steady_path[-1][0][\"fun\"])"
   ],
   "metadata": {
    "collapsed": false,
    "pycharm": {
     "name": "#%%\n"
    }
   }
  },
  {
   "cell_type": "code",
   "execution_count": null,
   "outputs": [],
   "source": [
    "import matplotlib.pyplot as plt\n",
    "plt.plot([item[1][10] for i, item in enumerate(olg.steady_path)])\n",
    "# plt.plot([item[1][1]**olg.alpha*item[1][2]**(1-olg.alpha) for i, item in enumerate(olg.steady_path)])\n",
    "plt.title(\"Consumption adjustment\")"
   ],
   "metadata": {
    "collapsed": false,
    "pycharm": {
     "name": "#%%\n"
    }
   }
  },
  {
   "cell_type": "code",
   "execution_count": 385,
   "outputs": [
    {
     "data": {
      "text/plain": "(     fun: 160608174.5379777\n     info: {'x': array([2.15498466e+01, 2.61670811e+03, 4.34167273e+04, 2.38501686e+01,\n        2.89007098e+03, 6.50256066e+04, 2.05564223e-01, 9.07427512e-02,\n        3.71471141e-08, 2.34351255e-02]), 'g': array([], dtype=float64), 'obj_val': 160608174.5379777, 'mult_g': array([], dtype=float64), 'mult_x_L': array([0., 0., 0., 0., 0., 0., 0., 0., 0., 0.]), 'mult_x_U': array([0., 0., 0., 0., 0., 0., 0., 0., 0., 0.]), 'status': -3, 'status_msg': b'An unrecoverable error occurred while Ipopt tried to compute the search direction.'}\n  message: b'An unrecoverable error occurred while Ipopt tried to compute the search direction.'\n     nfev: 621\n      nit: 20\n     njev: 24\n   status: -3\n  success: False\n        x: array([2.15498466e+01, 2.61670811e+03, 4.34167273e+04, 2.38501686e+01,\n        2.89007098e+03, 6.50256066e+04, 2.05564223e-01, 9.07427512e-02,\n        3.71471141e-08, 2.34351255e-02]),\n array([ 2.17653451e+01,  2.64287520e+03,  4.38508946e+04,  2.40886703e+01,\n         2.91897169e+03,  6.56758627e+04,  2.07619866e-01,  9.16501787e-02,\n         3.88026054e-07,  2.35376720e-02,  1.68469396e+10,  9.57692059e+04,\n        -3.32806823e+04]))"
     },
     "execution_count": 385,
     "metadata": {},
     "output_type": "execute_result"
    }
   ],
   "source": [
    "olg.steady_path[-5]"
   ],
   "metadata": {
    "collapsed": false,
    "pycharm": {
     "name": "#%%\n"
    }
   }
  },
  {
   "cell_type": "code",
   "execution_count": 121,
   "outputs": [
    {
     "data": {
      "text/plain": "Text(0.5, 1.0, 'Target function')"
     },
     "execution_count": 121,
     "metadata": {},
     "output_type": "execute_result"
    },
    {
     "data": {
      "text/plain": "<Figure size 432x288 with 1 Axes>",
      "image/png": "[encoded data removed]"
     },
     "metadata": {
      "needs_background": "light"
     },
     "output_type": "display_data"
    }
   ],
   "source": [
    "import matplotlib.pyplot as plt\n",
    "plt.plot([item[0][\"fun\"] for i, item in enumerate(olg.steady_path)])\n",
    "plt.title(\"Target function\")"
   ],
   "metadata": {
    "collapsed": false,
    "pycharm": {
     "name": "#%%\n"
    }
   }
  },
  {
   "cell_type": "code",
   "execution_count": 279,
   "outputs": [
    {
     "data": {
      "text/plain": "[(     fun: 0.2788505294592781\n      info: {'x': array([1.41199098e+01, 1.74566455e+03, 3.97180834e+04, 1.64249813e+01,\n         1.99993171e+03, 5.46618278e+04, 2.29866362e-01, 1.93227007e-01,\n         6.15298039e-05, 1.26740330e-01]), 'g': array([], dtype=float64), 'obj_val': 0.2788505294592781, 'mult_g': array([], dtype=float64), 'mult_x_L': array([0., 0., 0., 0., 0., 0., 0., 0., 0., 0.]), 'mult_x_U': array([0., 0., 0., 0., 0., 0., 0., 0., 0., 0.]), 'status': 0, 'status_msg': b'Algorithm terminated successfully at a locally optimal point, satisfying the convergence tolerances (can be specified by options).'}\n   message: b'Algorithm terminated successfully at a locally optimal point, satisfying the convergence tolerances (can be specified by options).'\n      nfev: 856\n       nit: 96\n      njev: 98\n    status: 0\n   success: True\n         x: array([1.41199098e+01, 1.74566455e+03, 3.97180834e+04, 1.64249813e+01,\n         1.99993171e+03, 5.46618278e+04, 2.29866362e-01, 1.93227007e-01,\n         6.15298039e-05, 1.26740330e-01]),\n  array([ 1.48239820e+01,  1.94913291e+03,  3.59436167e+04,  1.52849963e+01,\n          1.99998634e+03,  5.09323656e+04,  4.60532725e-02,  8.66454014e-02,\n          9.23059608e-05,  2.53560660e-02,  4.46867387e+07,  9.43798870e+04,\n         -3.27572859e+04])),\n (     fun: 0.12316820058217758\n      info: {'x': array([ 1.58181734e+01,  1.91098482e+03,  4.03238718e+04,  1.65496820e+01,\n          1.99992220e+03,  5.53171050e+04,  2.37362711e-01, -4.27892502e-02,\n          4.22939569e-05,  1.25506151e-01]), 'g': array([], dtype=float64), 'obj_val': 0.12316820058217758, 'mult_g': array([], dtype=float64), 'mult_x_L': array([0., 0., 0., 0., 0., 0., 0., 0., 0., 0.]), 'mult_x_U': array([0., 0., 0., 0., 0., 0., 0., 0., 0., 0.]), 'status': 0, 'status_msg': b'Algorithm terminated successfully at a locally optimal point, satisfying the convergence tolerances (can be specified by options).'}\n   message: b'Algorithm terminated successfully at a locally optimal point, satisfying the convergence tolerances (can be specified by options).'\n      nfev: 762\n       nit: 88\n      njev: 90\n    status: 0\n   success: True\n         x: array([ 1.58181734e+01,  1.91098482e+03,  4.03238718e+04,  1.65496820e+01,\n          1.99992220e+03,  5.53171050e+04,  2.37362711e-01, -4.27892502e-02,\n          4.22939569e-05,  1.25506151e-01]),\n  array([ 1.50228202e+01,  1.94150329e+03,  3.68196677e+04,  1.55379334e+01,\n          1.99997351e+03,  5.18093134e+04,  8.43151602e-02,  6.07584711e-02,\n          8.23035600e-05,  4.53860829e-02,  6.72251714e+07,  9.56409823e+04,\n         -3.32109247e+04])),\n (     fun: 2290223.4483021395\n      info: {'x': array([ 5.96287915e+02,  3.50794750e+03,  4.46045435e+04,  4.30929667e+01,\n          2.29421313e+03,  5.09479755e+04, -2.09621166e+02,  7.58715063e+01,\n          1.35014836e-03,  2.35053141e+00]), 'g': array([], dtype=float64), 'obj_val': 2290223.4483021395, 'mult_g': array([], dtype=float64), 'mult_x_L': array([0., 0., 0., 0., 0., 0., 0., 0., 0., 0.]), 'mult_x_U': array([0., 0., 0., 0., 0., 0., 0., 0., 0., 0.]), 'status': -3, 'status_msg': b'An unrecoverable error occurred while Ipopt tried to compute the search direction.'}\n   message: b'An unrecoverable error occurred while Ipopt tried to compute the search direction.'\n      nfev: 928\n       nit: 112\n      njev: 116\n    status: -3\n   success: False\n         x: array([ 5.96287915e+02,  3.50794750e+03,  4.46045435e+04,  4.30929667e+01,\n          2.29421313e+03,  5.09479755e+04, -2.09621166e+02,  7.58715063e+01,\n          1.35014836e-03,  2.35053141e+00]),\n  array([ 1.50228202e+01,  1.94150329e+03,  3.68196677e+04,  1.55379334e+01,\n          1.99997351e+03,  5.18093134e+04,  8.43151602e-02,  6.07584711e-02,\n          8.23035600e-05,  4.53860829e-02,  5.48956462e+07,  9.44310792e+04,\n         -3.27701988e+04])),\n (     fun: 2290223.4483021395\n      info: {'x': array([ 5.96287915e+02,  3.50794750e+03,  4.46045435e+04,  4.30929667e+01,\n          2.29421313e+03,  5.09479755e+04, -2.09621166e+02,  7.58715063e+01,\n          1.35014836e-03,  2.35053141e+00]), 'g': array([], dtype=float64), 'obj_val': 2290223.4483021395, 'mult_g': array([], dtype=float64), 'mult_x_L': array([0., 0., 0., 0., 0., 0., 0., 0., 0., 0.]), 'mult_x_U': array([0., 0., 0., 0., 0., 0., 0., 0., 0., 0.]), 'status': -3, 'status_msg': b'An unrecoverable error occurred while Ipopt tried to compute the search direction.'}\n   message: b'An unrecoverable error occurred while Ipopt tried to compute the search direction.'\n      nfev: 928\n       nit: 112\n      njev: 116\n    status: -3\n   success: False\n         x: array([ 5.96287915e+02,  3.50794750e+03,  4.46045435e+04,  4.30929667e+01,\n          2.29421313e+03,  5.09479755e+04, -2.09621166e+02,  7.58715063e+01,\n          1.35014836e-03,  2.35053141e+00]),\n  array([ 1.50228202e+01,  1.94150329e+03,  3.68196677e+04,  1.55379334e+01,\n          1.99997351e+03,  5.18093134e+04,  8.43151602e-02,  6.07584711e-02,\n          8.23035600e-05,  4.53860829e-02,  5.48956462e+07,  9.44310792e+04,\n         -3.27701988e+04])),\n (     fun: 2290223.4483021395\n      info: {'x': array([ 5.96287915e+02,  3.50794750e+03,  4.46045435e+04,  4.30929667e+01,\n          2.29421313e+03,  5.09479755e+04, -2.09621166e+02,  7.58715063e+01,\n          1.35014836e-03,  2.35053141e+00]), 'g': array([], dtype=float64), 'obj_val': 2290223.4483021395, 'mult_g': array([], dtype=float64), 'mult_x_L': array([0., 0., 0., 0., 0., 0., 0., 0., 0., 0.]), 'mult_x_U': array([0., 0., 0., 0., 0., 0., 0., 0., 0., 0.]), 'status': -3, 'status_msg': b'An unrecoverable error occurred while Ipopt tried to compute the search direction.'}\n   message: b'An unrecoverable error occurred while Ipopt tried to compute the search direction.'\n      nfev: 928\n       nit: 112\n      njev: 116\n    status: -3\n   success: False\n         x: array([ 5.96287915e+02,  3.50794750e+03,  4.46045435e+04,  4.30929667e+01,\n          2.29421313e+03,  5.09479755e+04, -2.09621166e+02,  7.58715063e+01,\n          1.35014836e-03,  2.35053141e+00]),\n  array([ 1.50228202e+01,  1.94150329e+03,  3.68196677e+04,  1.55379334e+01,\n          1.99997351e+03,  5.18093134e+04,  8.43151602e-02,  6.07584711e-02,\n          8.23035600e-05,  4.53860829e-02,  5.48956462e+07,  9.44310792e+04,\n         -3.27701988e+04])),\n (     fun: 2290223.4483021395\n      info: {'x': array([ 5.96287915e+02,  3.50794750e+03,  4.46045435e+04,  4.30929667e+01,\n          2.29421313e+03,  5.09479755e+04, -2.09621166e+02,  7.58715063e+01,\n          1.35014836e-03,  2.35053141e+00]), 'g': array([], dtype=float64), 'obj_val': 2290223.4483021395, 'mult_g': array([], dtype=float64), 'mult_x_L': array([0., 0., 0., 0., 0., 0., 0., 0., 0., 0.]), 'mult_x_U': array([0., 0., 0., 0., 0., 0., 0., 0., 0., 0.]), 'status': -3, 'status_msg': b'An unrecoverable error occurred while Ipopt tried to compute the search direction.'}\n   message: b'An unrecoverable error occurred while Ipopt tried to compute the search direction.'\n      nfev: 928\n       nit: 112\n      njev: 116\n    status: -3\n   success: False\n         x: array([ 5.96287915e+02,  3.50794750e+03,  4.46045435e+04,  4.30929667e+01,\n          2.29421313e+03,  5.09479755e+04, -2.09621166e+02,  7.58715063e+01,\n          1.35014836e-03,  2.35053141e+00]),\n  array([ 1.50228202e+01,  1.94150329e+03,  3.68196677e+04,  1.55379334e+01,\n          1.99997351e+03,  5.18093134e+04,  8.43151602e-02,  6.07584711e-02,\n          8.23035600e-05,  4.53860829e-02,  5.48956462e+07,  9.44310792e+04,\n         -3.27701988e+04])),\n (     fun: 2290223.4483021395\n      info: {'x': array([ 5.96287915e+02,  3.50794750e+03,  4.46045435e+04,  4.30929667e+01,\n          2.29421313e+03,  5.09479755e+04, -2.09621166e+02,  7.58715063e+01,\n          1.35014836e-03,  2.35053141e+00]), 'g': array([], dtype=float64), 'obj_val': 2290223.4483021395, 'mult_g': array([], dtype=float64), 'mult_x_L': array([0., 0., 0., 0., 0., 0., 0., 0., 0., 0.]), 'mult_x_U': array([0., 0., 0., 0., 0., 0., 0., 0., 0., 0.]), 'status': -3, 'status_msg': b'An unrecoverable error occurred while Ipopt tried to compute the search direction.'}\n   message: b'An unrecoverable error occurred while Ipopt tried to compute the search direction.'\n      nfev: 928\n       nit: 112\n      njev: 116\n    status: -3\n   success: False\n         x: array([ 5.96287915e+02,  3.50794750e+03,  4.46045435e+04,  4.30929667e+01,\n          2.29421313e+03,  5.09479755e+04, -2.09621166e+02,  7.58715063e+01,\n          1.35014836e-03,  2.35053141e+00]),\n  array([ 1.50228202e+01,  1.94150329e+03,  3.68196677e+04,  1.55379334e+01,\n          1.99997351e+03,  5.18093134e+04,  8.43151602e-02,  6.07584711e-02,\n          8.23035600e-05,  4.53860829e-02,  5.48956462e+07,  9.44310792e+04,\n         -3.27701988e+04])),\n (     fun: 2290223.4483021395\n      info: {'x': array([ 5.96287915e+02,  3.50794750e+03,  4.46045435e+04,  4.30929667e+01,\n          2.29421313e+03,  5.09479755e+04, -2.09621166e+02,  7.58715063e+01,\n          1.35014836e-03,  2.35053141e+00]), 'g': array([], dtype=float64), 'obj_val': 2290223.4483021395, 'mult_g': array([], dtype=float64), 'mult_x_L': array([0., 0., 0., 0., 0., 0., 0., 0., 0., 0.]), 'mult_x_U': array([0., 0., 0., 0., 0., 0., 0., 0., 0., 0.]), 'status': -3, 'status_msg': b'An unrecoverable error occurred while Ipopt tried to compute the search direction.'}\n   message: b'An unrecoverable error occurred while Ipopt tried to compute the search direction.'\n      nfev: 928\n       nit: 112\n      njev: 116\n    status: -3\n   success: False\n         x: array([ 5.96287915e+02,  3.50794750e+03,  4.46045435e+04,  4.30929667e+01,\n          2.29421313e+03,  5.09479755e+04, -2.09621166e+02,  7.58715063e+01,\n          1.35014836e-03,  2.35053141e+00]),\n  array([ 1.50228202e+01,  1.94150329e+03,  3.68196677e+04,  1.55379334e+01,\n          1.99997351e+03,  5.18093134e+04,  8.43151602e-02,  6.07584711e-02,\n          8.23035600e-05,  4.53860829e-02,  5.48956462e+07,  9.44310792e+04,\n         -3.27701988e+04])),\n (     fun: 2290223.4483021395\n      info: {'x': array([ 5.96287915e+02,  3.50794750e+03,  4.46045435e+04,  4.30929667e+01,\n          2.29421313e+03,  5.09479755e+04, -2.09621166e+02,  7.58715063e+01,\n          1.35014836e-03,  2.35053141e+00]), 'g': array([], dtype=float64), 'obj_val': 2290223.4483021395, 'mult_g': array([], dtype=float64), 'mult_x_L': array([0., 0., 0., 0., 0., 0., 0., 0., 0., 0.]), 'mult_x_U': array([0., 0., 0., 0., 0., 0., 0., 0., 0., 0.]), 'status': -3, 'status_msg': b'An unrecoverable error occurred while Ipopt tried to compute the search direction.'}\n   message: b'An unrecoverable error occurred while Ipopt tried to compute the search direction.'\n      nfev: 928\n       nit: 112\n      njev: 116\n    status: -3\n   success: False\n         x: array([ 5.96287915e+02,  3.50794750e+03,  4.46045435e+04,  4.30929667e+01,\n          2.29421313e+03,  5.09479755e+04, -2.09621166e+02,  7.58715063e+01,\n          1.35014836e-03,  2.35053141e+00]),\n  array([ 1.50228202e+01,  1.94150329e+03,  3.68196677e+04,  1.55379334e+01,\n          1.99997351e+03,  5.18093134e+04,  8.43151602e-02,  6.07584711e-02,\n          8.23035600e-05,  4.53860829e-02,  5.48956462e+07,  9.44310792e+04,\n         -3.27701988e+04])),\n (     fun: 2290223.4483021395\n      info: {'x': array([ 5.96287915e+02,  3.50794750e+03,  4.46045435e+04,  4.30929667e+01,\n          2.29421313e+03,  5.09479755e+04, -2.09621166e+02,  7.58715063e+01,\n          1.35014836e-03,  2.35053141e+00]), 'g': array([], dtype=float64), 'obj_val': 2290223.4483021395, 'mult_g': array([], dtype=float64), 'mult_x_L': array([0., 0., 0., 0., 0., 0., 0., 0., 0., 0.]), 'mult_x_U': array([0., 0., 0., 0., 0., 0., 0., 0., 0., 0.]), 'status': -3, 'status_msg': b'An unrecoverable error occurred while Ipopt tried to compute the search direction.'}\n   message: b'An unrecoverable error occurred while Ipopt tried to compute the search direction.'\n      nfev: 928\n       nit: 112\n      njev: 116\n    status: -3\n   success: False\n         x: array([ 5.96287915e+02,  3.50794750e+03,  4.46045435e+04,  4.30929667e+01,\n          2.29421313e+03,  5.09479755e+04, -2.09621166e+02,  7.58715063e+01,\n          1.35014836e-03,  2.35053141e+00]),\n  array([ 1.50228202e+01,  1.94150329e+03,  3.68196677e+04,  1.55379334e+01,\n          1.99997351e+03,  5.18093134e+04,  8.43151602e-02,  6.07584711e-02,\n          8.23035600e-05,  4.53860829e-02,  5.48956462e+07,  9.44310792e+04,\n         -3.27701988e+04])),\n (     fun: 2290223.4483021395\n      info: {'x': array([ 5.96287915e+02,  3.50794750e+03,  4.46045435e+04,  4.30929667e+01,\n          2.29421313e+03,  5.09479755e+04, -2.09621166e+02,  7.58715063e+01,\n          1.35014836e-03,  2.35053141e+00]), 'g': array([], dtype=float64), 'obj_val': 2290223.4483021395, 'mult_g': array([], dtype=float64), 'mult_x_L': array([0., 0., 0., 0., 0., 0., 0., 0., 0., 0.]), 'mult_x_U': array([0., 0., 0., 0., 0., 0., 0., 0., 0., 0.]), 'status': -3, 'status_msg': b'An unrecoverable error occurred while Ipopt tried to compute the search direction.'}\n   message: b'An unrecoverable error occurred while Ipopt tried to compute the search direction.'\n      nfev: 928\n       nit: 112\n      njev: 116\n    status: -3\n   success: False\n         x: array([ 5.96287915e+02,  3.50794750e+03,  4.46045435e+04,  4.30929667e+01,\n          2.29421313e+03,  5.09479755e+04, -2.09621166e+02,  7.58715063e+01,\n          1.35014836e-03,  2.35053141e+00]),\n  array([ 1.50228202e+01,  1.94150329e+03,  3.68196677e+04,  1.55379334e+01,\n          1.99997351e+03,  5.18093134e+04,  8.43151602e-02,  6.07584711e-02,\n          8.23035600e-05,  4.53860829e-02,  5.48956462e+07,  9.44310792e+04,\n         -3.27701988e+04])),\n (     fun: 2290223.4483021395\n      info: {'x': array([ 5.96287915e+02,  3.50794750e+03,  4.46045435e+04,  4.30929667e+01,\n          2.29421313e+03,  5.09479755e+04, -2.09621166e+02,  7.58715063e+01,\n          1.35014836e-03,  2.35053141e+00]), 'g': array([], dtype=float64), 'obj_val': 2290223.4483021395, 'mult_g': array([], dtype=float64), 'mult_x_L': array([0., 0., 0., 0., 0., 0., 0., 0., 0., 0.]), 'mult_x_U': array([0., 0., 0., 0., 0., 0., 0., 0., 0., 0.]), 'status': -3, 'status_msg': b'An unrecoverable error occurred while Ipopt tried to compute the search direction.'}\n   message: b'An unrecoverable error occurred while Ipopt tried to compute the search direction.'\n      nfev: 928\n       nit: 112\n      njev: 116\n    status: -3\n   success: False\n         x: array([ 5.96287915e+02,  3.50794750e+03,  4.46045435e+04,  4.30929667e+01,\n          2.29421313e+03,  5.09479755e+04, -2.09621166e+02,  7.58715063e+01,\n          1.35014836e-03,  2.35053141e+00]),\n  array([ 1.50228202e+01,  1.94150329e+03,  3.68196677e+04,  1.55379334e+01,\n          1.99997351e+03,  5.18093134e+04,  8.43151602e-02,  6.07584711e-02,\n          8.23035600e-05,  4.53860829e-02,  5.48956462e+07,  9.44310792e+04,\n         -3.27701988e+04])),\n (     fun: 2290223.4483021395\n      info: {'x': array([ 5.96287915e+02,  3.50794750e+03,  4.46045435e+04,  4.30929667e+01,\n          2.29421313e+03,  5.09479755e+04, -2.09621166e+02,  7.58715063e+01,\n          1.35014836e-03,  2.35053141e+00]), 'g': array([], dtype=float64), 'obj_val': 2290223.4483021395, 'mult_g': array([], dtype=float64), 'mult_x_L': array([0., 0., 0., 0., 0., 0., 0., 0., 0., 0.]), 'mult_x_U': array([0., 0., 0., 0., 0., 0., 0., 0., 0., 0.]), 'status': -3, 'status_msg': b'An unrecoverable error occurred while Ipopt tried to compute the search direction.'}\n   message: b'An unrecoverable error occurred while Ipopt tried to compute the search direction.'\n      nfev: 928\n       nit: 112\n      njev: 116\n    status: -3\n   success: False\n         x: array([ 5.96287915e+02,  3.50794750e+03,  4.46045435e+04,  4.30929667e+01,\n          2.29421313e+03,  5.09479755e+04, -2.09621166e+02,  7.58715063e+01,\n          1.35014836e-03,  2.35053141e+00]),\n  array([ 1.50228202e+01,  1.94150329e+03,  3.68196677e+04,  1.55379334e+01,\n          1.99997351e+03,  5.18093134e+04,  8.43151602e-02,  6.07584711e-02,\n          8.23035600e-05,  4.53860829e-02,  5.48956462e+07,  9.44310792e+04,\n         -3.27701988e+04])),\n (     fun: 2290223.4483021395\n      info: {'x': array([ 5.96287915e+02,  3.50794750e+03,  4.46045435e+04,  4.30929667e+01,\n          2.29421313e+03,  5.09479755e+04, -2.09621166e+02,  7.58715063e+01,\n          1.35014836e-03,  2.35053141e+00]), 'g': array([], dtype=float64), 'obj_val': 2290223.4483021395, 'mult_g': array([], dtype=float64), 'mult_x_L': array([0., 0., 0., 0., 0., 0., 0., 0., 0., 0.]), 'mult_x_U': array([0., 0., 0., 0., 0., 0., 0., 0., 0., 0.]), 'status': -3, 'status_msg': b'An unrecoverable error occurred while Ipopt tried to compute the search direction.'}\n   message: b'An unrecoverable error occurred while Ipopt tried to compute the search direction.'\n      nfev: 928\n       nit: 112\n      njev: 116\n    status: -3\n   success: False\n         x: array([ 5.96287915e+02,  3.50794750e+03,  4.46045435e+04,  4.30929667e+01,\n          2.29421313e+03,  5.09479755e+04, -2.09621166e+02,  7.58715063e+01,\n          1.35014836e-03,  2.35053141e+00]),\n  array([ 1.50228202e+01,  1.94150329e+03,  3.68196677e+04,  1.55379334e+01,\n          1.99997351e+03,  5.18093134e+04,  8.43151602e-02,  6.07584711e-02,\n          8.23035600e-05,  4.53860829e-02,  5.48956462e+07,  9.44310792e+04,\n         -3.27701988e+04])),\n (     fun: 2290223.4483021395\n      info: {'x': array([ 5.96287915e+02,  3.50794750e+03,  4.46045435e+04,  4.30929667e+01,\n          2.29421313e+03,  5.09479755e+04, -2.09621166e+02,  7.58715063e+01,\n          1.35014836e-03,  2.35053141e+00]), 'g': array([], dtype=float64), 'obj_val': 2290223.4483021395, 'mult_g': array([], dtype=float64), 'mult_x_L': array([0., 0., 0., 0., 0., 0., 0., 0., 0., 0.]), 'mult_x_U': array([0., 0., 0., 0., 0., 0., 0., 0., 0., 0.]), 'status': -3, 'status_msg': b'An unrecoverable error occurred while Ipopt tried to compute the search direction.'}\n   message: b'An unrecoverable error occurred while Ipopt tried to compute the search direction.'\n      nfev: 928\n       nit: 112\n      njev: 116\n    status: -3\n   success: False\n         x: array([ 5.96287915e+02,  3.50794750e+03,  4.46045435e+04,  4.30929667e+01,\n          2.29421313e+03,  5.09479755e+04, -2.09621166e+02,  7.58715063e+01,\n          1.35014836e-03,  2.35053141e+00]),\n  array([ 1.50228202e+01,  1.94150329e+03,  3.68196677e+04,  1.55379334e+01,\n          1.99997351e+03,  5.18093134e+04,  8.43151602e-02,  6.07584711e-02,\n          8.23035600e-05,  4.53860829e-02,  5.48956462e+07,  9.44310792e+04,\n         -3.27701988e+04])),\n (     fun: 2290223.4483021395\n      info: {'x': array([ 5.96287915e+02,  3.50794750e+03,  4.46045435e+04,  4.30929667e+01,\n          2.29421313e+03,  5.09479755e+04, -2.09621166e+02,  7.58715063e+01,\n          1.35014836e-03,  2.35053141e+00]), 'g': array([], dtype=float64), 'obj_val': 2290223.4483021395, 'mult_g': array([], dtype=float64), 'mult_x_L': array([0., 0., 0., 0., 0., 0., 0., 0., 0., 0.]), 'mult_x_U': array([0., 0., 0., 0., 0., 0., 0., 0., 0., 0.]), 'status': -3, 'status_msg': b'An unrecoverable error occurred while Ipopt tried to compute the search direction.'}\n   message: b'An unrecoverable error occurred while Ipopt tried to compute the search direction.'\n      nfev: 928\n       nit: 112\n      njev: 116\n    status: -3\n   success: False\n         x: array([ 5.96287915e+02,  3.50794750e+03,  4.46045435e+04,  4.30929667e+01,\n          2.29421313e+03,  5.09479755e+04, -2.09621166e+02,  7.58715063e+01,\n          1.35014836e-03,  2.35053141e+00]),\n  array([ 1.50228202e+01,  1.94150329e+03,  3.68196677e+04,  1.55379334e+01,\n          1.99997351e+03,  5.18093134e+04,  8.43151602e-02,  6.07584711e-02,\n          8.23035600e-05,  4.53860829e-02,  5.48956462e+07,  9.44310792e+04,\n         -3.27701988e+04])),\n (     fun: 2290223.4483021395\n      info: {'x': array([ 5.96287915e+02,  3.50794750e+03,  4.46045435e+04,  4.30929667e+01,\n          2.29421313e+03,  5.09479755e+04, -2.09621166e+02,  7.58715063e+01,\n          1.35014836e-03,  2.35053141e+00]), 'g': array([], dtype=float64), 'obj_val': 2290223.4483021395, 'mult_g': array([], dtype=float64), 'mult_x_L': array([0., 0., 0., 0., 0., 0., 0., 0., 0., 0.]), 'mult_x_U': array([0., 0., 0., 0., 0., 0., 0., 0., 0., 0.]), 'status': -3, 'status_msg': b'An unrecoverable error occurred while Ipopt tried to compute the search direction.'}\n   message: b'An unrecoverable error occurred while Ipopt tried to compute the search direction.'\n      nfev: 928\n       nit: 112\n      njev: 116\n    status: -3\n   success: False\n         x: array([ 5.96287915e+02,  3.50794750e+03,  4.46045435e+04,  4.30929667e+01,\n          2.29421313e+03,  5.09479755e+04, -2.09621166e+02,  7.58715063e+01,\n          1.35014836e-03,  2.35053141e+00]),\n  array([ 1.50228202e+01,  1.94150329e+03,  3.68196677e+04,  1.55379334e+01,\n          1.99997351e+03,  5.18093134e+04,  8.43151602e-02,  6.07584711e-02,\n          8.23035600e-05,  4.53860829e-02,  5.48956462e+07,  9.44310792e+04,\n         -3.27701988e+04])),\n (     fun: 2290223.4483021395\n      info: {'x': array([ 5.96287915e+02,  3.50794750e+03,  4.46045435e+04,  4.30929667e+01,\n          2.29421313e+03,  5.09479755e+04, -2.09621166e+02,  7.58715063e+01,\n          1.35014836e-03,  2.35053141e+00]), 'g': array([], dtype=float64), 'obj_val': 2290223.4483021395, 'mult_g': array([], dtype=float64), 'mult_x_L': array([0., 0., 0., 0., 0., 0., 0., 0., 0., 0.]), 'mult_x_U': array([0., 0., 0., 0., 0., 0., 0., 0., 0., 0.]), 'status': -3, 'status_msg': b'An unrecoverable error occurred while Ipopt tried to compute the search direction.'}\n   message: b'An unrecoverable error occurred while Ipopt tried to compute the search direction.'\n      nfev: 928\n       nit: 112\n      njev: 116\n    status: -3\n   success: False\n         x: array([ 5.96287915e+02,  3.50794750e+03,  4.46045435e+04,  4.30929667e+01,\n          2.29421313e+03,  5.09479755e+04, -2.09621166e+02,  7.58715063e+01,\n          1.35014836e-03,  2.35053141e+00]),\n  array([ 1.50228202e+01,  1.94150329e+03,  3.68196677e+04,  1.55379334e+01,\n          1.99997351e+03,  5.18093134e+04,  8.43151602e-02,  6.07584711e-02,\n          8.23035600e-05,  4.53860829e-02,  5.48956462e+07,  9.44310792e+04,\n         -3.27701988e+04])),\n (     fun: 2290223.4483021395\n      info: {'x': array([ 5.96287915e+02,  3.50794750e+03,  4.46045435e+04,  4.30929667e+01,\n          2.29421313e+03,  5.09479755e+04, -2.09621166e+02,  7.58715063e+01,\n          1.35014836e-03,  2.35053141e+00]), 'g': array([], dtype=float64), 'obj_val': 2290223.4483021395, 'mult_g': array([], dtype=float64), 'mult_x_L': array([0., 0., 0., 0., 0., 0., 0., 0., 0., 0.]), 'mult_x_U': array([0., 0., 0., 0., 0., 0., 0., 0., 0., 0.]), 'status': -3, 'status_msg': b'An unrecoverable error occurred while Ipopt tried to compute the search direction.'}\n   message: b'An unrecoverable error occurred while Ipopt tried to compute the search direction.'\n      nfev: 928\n       nit: 112\n      njev: 116\n    status: -3\n   success: False\n         x: array([ 5.96287915e+02,  3.50794750e+03,  4.46045435e+04,  4.30929667e+01,\n          2.29421313e+03,  5.09479755e+04, -2.09621166e+02,  7.58715063e+01,\n          1.35014836e-03,  2.35053141e+00]),\n  array([ 1.50228202e+01,  1.94150329e+03,  3.68196677e+04,  1.55379334e+01,\n          1.99997351e+03,  5.18093134e+04,  8.43151602e-02,  6.07584711e-02,\n          8.23035600e-05,  4.53860829e-02,  5.48956462e+07,  9.44310792e+04,\n         -3.27701988e+04])),\n (     fun: 2290223.4483021395\n      info: {'x': array([ 5.96287915e+02,  3.50794750e+03,  4.46045435e+04,  4.30929667e+01,\n          2.29421313e+03,  5.09479755e+04, -2.09621166e+02,  7.58715063e+01,\n          1.35014836e-03,  2.35053141e+00]), 'g': array([], dtype=float64), 'obj_val': 2290223.4483021395, 'mult_g': array([], dtype=float64), 'mult_x_L': array([0., 0., 0., 0., 0., 0., 0., 0., 0., 0.]), 'mult_x_U': array([0., 0., 0., 0., 0., 0., 0., 0., 0., 0.]), 'status': -3, 'status_msg': b'An unrecoverable error occurred while Ipopt tried to compute the search direction.'}\n   message: b'An unrecoverable error occurred while Ipopt tried to compute the search direction.'\n      nfev: 928\n       nit: 112\n      njev: 116\n    status: -3\n   success: False\n         x: array([ 5.96287915e+02,  3.50794750e+03,  4.46045435e+04,  4.30929667e+01,\n          2.29421313e+03,  5.09479755e+04, -2.09621166e+02,  7.58715063e+01,\n          1.35014836e-03,  2.35053141e+00]),\n  array([ 1.50228202e+01,  1.94150329e+03,  3.68196677e+04,  1.55379334e+01,\n          1.99997351e+03,  5.18093134e+04,  8.43151602e-02,  6.07584711e-02,\n          8.23035600e-05,  4.53860829e-02,  5.48956462e+07,  9.44310792e+04,\n         -3.27701988e+04])),\n (     fun: 2290223.4483021395\n      info: {'x': array([ 5.96287915e+02,  3.50794750e+03,  4.46045435e+04,  4.30929667e+01,\n          2.29421313e+03,  5.09479755e+04, -2.09621166e+02,  7.58715063e+01,\n          1.35014836e-03,  2.35053141e+00]), 'g': array([], dtype=float64), 'obj_val': 2290223.4483021395, 'mult_g': array([], dtype=float64), 'mult_x_L': array([0., 0., 0., 0., 0., 0., 0., 0., 0., 0.]), 'mult_x_U': array([0., 0., 0., 0., 0., 0., 0., 0., 0., 0.]), 'status': -3, 'status_msg': b'An unrecoverable error occurred while Ipopt tried to compute the search direction.'}\n   message: b'An unrecoverable error occurred while Ipopt tried to compute the search direction.'\n      nfev: 928\n       nit: 112\n      njev: 116\n    status: -3\n   success: False\n         x: array([ 5.96287915e+02,  3.50794750e+03,  4.46045435e+04,  4.30929667e+01,\n          2.29421313e+03,  5.09479755e+04, -2.09621166e+02,  7.58715063e+01,\n          1.35014836e-03,  2.35053141e+00]),\n  array([ 1.50228202e+01,  1.94150329e+03,  3.68196677e+04,  1.55379334e+01,\n          1.99997351e+03,  5.18093134e+04,  8.43151602e-02,  6.07584711e-02,\n          8.23035600e-05,  4.53860829e-02,  5.48956462e+07,  9.44310792e+04,\n         -3.27701988e+04])),\n (     fun: 2290223.4483021395\n      info: {'x': array([ 5.96287915e+02,  3.50794750e+03,  4.46045435e+04,  4.30929667e+01,\n          2.29421313e+03,  5.09479755e+04, -2.09621166e+02,  7.58715063e+01,\n          1.35014836e-03,  2.35053141e+00]), 'g': array([], dtype=float64), 'obj_val': 2290223.4483021395, 'mult_g': array([], dtype=float64), 'mult_x_L': array([0., 0., 0., 0., 0., 0., 0., 0., 0., 0.]), 'mult_x_U': array([0., 0., 0., 0., 0., 0., 0., 0., 0., 0.]), 'status': -3, 'status_msg': b'An unrecoverable error occurred while Ipopt tried to compute the search direction.'}\n   message: b'An unrecoverable error occurred while Ipopt tried to compute the search direction.'\n      nfev: 928\n       nit: 112\n      njev: 116\n    status: -3\n   success: False\n         x: array([ 5.96287915e+02,  3.50794750e+03,  4.46045435e+04,  4.30929667e+01,\n          2.29421313e+03,  5.09479755e+04, -2.09621166e+02,  7.58715063e+01,\n          1.35014836e-03,  2.35053141e+00]),\n  array([ 1.50228202e+01,  1.94150329e+03,  3.68196677e+04,  1.55379334e+01,\n          1.99997351e+03,  5.18093134e+04,  8.43151602e-02,  6.07584711e-02,\n          8.23035600e-05,  4.53860829e-02,  5.48956462e+07,  9.44310792e+04,\n         -3.27701988e+04]))]"
     },
     "execution_count": 279,
     "metadata": {},
     "output_type": "execute_result"
    }
   ],
   "source": [
    "olg.steady_path"
   ],
   "metadata": {
    "collapsed": false,
    "pycharm": {
     "name": "#%%\n"
    }
   }
  },
  {
   "cell_type": "code",
   "execution_count": null,
   "outputs": [],
   "source": [
    "# пОТРЕБЛЕНИЕ И ТРУД НАДО С ВЕСМО ПЕРЕЗАПИСЫВАТЬ"
   ],
   "metadata": {
    "collapsed": false,
    "pycharm": {
     "name": "#%%\n"
    }
   }
  },
  {
   "cell_type": "code",
   "execution_count": 509,
   "outputs": [
    {
     "data": {
      "text/plain": "[18440.662314913814,\n 20264.51874223457,\n 19512.71853820031,\n 19512.733334034005,\n 22998.7021074656,\n 22984.123050826576,\n 22851.90762605376,\n 22851.94793248971,\n 21944.69782593063,\n 21861.02383086605,\n 37075.677740552004,\n 22558.230947105887,\n 22536.010464477095]"
     },
     "execution_count": 509,
     "metadata": {},
     "output_type": "execute_result"
    }
   ],
   "source": [
    "[(item[1][1]**olg.alpha*item[1][2]**(1-olg.alpha)) for i, item in enumerate(olg.steady_path)]\n",
    "# [((item[1][1]**olg.alpha*item[1][2]**(1-olg.alpha))*item[1][10]/(1-olg.omega))**(1-olg.omega) for i, item in enumerate(olg.steady_path)]"
   ],
   "metadata": {
    "collapsed": false,
    "pycharm": {
     "name": "#%%\n"
    }
   }
  },
  {
   "cell_type": "code",
   "execution_count": 510,
   "outputs": [
    {
     "data": {
      "text/plain": "[25956.580331937577,\n 14206.31665560167,\n 14457.55663610811,\n 14246.018616863063,\n 22327.406233561753,\n 12898.725516780485,\n 19468.58769900432,\n 12394.333924153012,\n 21783.62222440377,\n 15597.906004466726,\n 37759.57354014598,\n 22372.419494830036,\n 27309.24138420879]"
     },
     "execution_count": 510,
     "metadata": {},
     "output_type": "execute_result"
    }
   ],
   "source": [
    "[(1-olg.omega)*(item[1][0]+item[1][3]+item[1][10])*item[1][8]/item[1][9] for i, item in enumerate(olg.steady_path)]"
   ],
   "metadata": {
    "collapsed": false,
    "pycharm": {
     "name": "#%%\n"
    }
   }
  },
  {
   "cell_type": "code",
   "execution_count": 502,
   "outputs": [
    {
     "data": {
      "text/plain": "10778.019168148427"
     },
     "execution_count": 502,
     "metadata": {},
     "output_type": "execute_result"
    }
   ],
   "source": [
    "(olg.steady_path[-1][0]['x'][1]**olg.alpha*olg.steady_path[-1][0]['x'][2]**(1-olg.alpha))"
   ],
   "metadata": {
    "collapsed": false,
    "pycharm": {
     "name": "#%%\n"
    }
   }
  },
  {
   "cell_type": "code",
   "execution_count": 504,
   "outputs": [
    {
     "data": {
      "text/plain": "11778.019168148467"
     },
     "execution_count": 504,
     "metadata": {},
     "output_type": "execute_result"
    }
   ],
   "source": [
    "(1-olg.omega)*(olg.steady_path[-1][0]['x'][0]+olg.steady_path[-1][0]['x'][4]+olg.steady_path[-1][1][11])*olg.steady_path[-1][0]['x'][9]/olg.steady_path[-1][0]['x'][10]"
   ],
   "metadata": {
    "collapsed": false,
    "pycharm": {
     "name": "#%%\n"
    }
   }
  },
  {
   "cell_type": "code",
   "execution_count": 532,
   "outputs": [
    {
     "data": {
      "text/plain": "(     fun: 0.0010589616961054398\n     info: {'x': array([4.82902624e+01, 5.84693702e+03, 4.37838424e+04, 1.73823385e-02,\n        1.90680826e+01, 2.30797152e+03, 5.15308898e+04, 6.41592685e-03,\n        6.19843901e-03, 1.37762448e-02, 2.57661827e-02]), 'g': array([], dtype=float64), 'obj_val': 0.0010589616961054398, 'mult_g': array([], dtype=float64), 'mult_x_L': array([0., 0., 0., 0., 0., 0., 0., 0., 0., 0., 0.]), 'mult_x_U': array([0., 0., 0., 0., 0., 0., 0., 0., 0., 0., 0.]), 'status': 0, 'status_msg': b'Algorithm terminated successfully at a locally optimal point, satisfying the convergence tolerances (can be specified by options).'}\n  message: b'Algorithm terminated successfully at a locally optimal point, satisfying the convergence tolerances (can be specified by options).'\n     nfev: 8064\n      nit: 406\n     njev: 408\n   status: 0\n  success: True\n        x: array([4.82902624e+01, 5.84693702e+03, 4.37838424e+04, 1.73823385e-02,\n        1.90680826e+01, 2.30797152e+03, 5.15308898e+04, 6.41592685e-03,\n        6.19843901e-03, 1.37762448e-02, 2.57661827e-02]),\n array([ 4.35980074e+01,  5.27790475e+03,  3.94820282e+04,  2.33250001e-02,\n         1.71690732e+01,  2.07718215e+03,  4.64676724e+04,  1.34418623e-02,\n         1.33502404e-02,  2.01217123e-02,  3.09738939e-02,  7.28120438e+04,\n         9.53147220e+04, -3.30589091e+04]))"
     },
     "execution_count": 532,
     "metadata": {},
     "output_type": "execute_result"
    }
   ],
   "source": [
    "olg.steady_path[-4]"
   ],
   "metadata": {
    "collapsed": false,
    "pycharm": {
     "name": "#%%\n"
    }
   }
  },
  {
   "cell_type": "code",
   "execution_count": 523,
   "outputs": [
    {
     "data": {
      "text/plain": "Text(0.5, 1.0, 'Labor adjustment')"
     },
     "execution_count": 523,
     "metadata": {},
     "output_type": "execute_result"
    },
    {
     "data": {
      "text/plain": "<Figure size 432x288 with 1 Axes>",
      "image/png": "[encoded data removed]"
     },
     "metadata": {
      "needs_background": "light"
     },
     "output_type": "display_data"
    }
   ],
   "source": [
    "plt.plot([item[1][12] for i, item in enumerate(olg.steady_path)])\n",
    "plt.plot([item[1][2]+item[1][6] for i, item in enumerate(olg.steady_path)])\n",
    "plt.title(\"Labor adjustment\")"
   ],
   "metadata": {
    "collapsed": false,
    "pycharm": {
     "name": "#%%\n"
    }
   }
  },
  {
   "cell_type": "code",
   "execution_count": 524,
   "outputs": [
    {
     "data": {
      "text/plain": "Text(0.5, 1.0, 'Price adjustment')"
     },
     "execution_count": 524,
     "metadata": {},
     "output_type": "execute_result"
    },
    {
     "data": {
      "text/plain": "<Figure size 432x288 with 1 Axes>",
      "image/png": "[encoded data removed]"
     },
     "metadata": {
      "needs_background": "light"
     },
     "output_type": "display_data"
    }
   ],
   "source": [
    "plt.plot([item[1][8] for i, item in enumerate(olg.steady_path)])\n",
    "plt.title(\"Price adjustment\")"
   ],
   "metadata": {
    "collapsed": false,
    "pycharm": {
     "name": "#%%\n"
    }
   }
  },
  {
   "cell_type": "code",
   "execution_count": 514,
   "outputs": [
    {
     "data": {
      "text/plain": "[0.08070412845172258,\n -0.0004060740120871443,\n 0.029205342378800694,\n -0.004786775349202799,\n -0.011708675608000116,\n 0.0021109702452284853,\n 9.272842960627334e-05,\n -0.015809078486199724,\n 0.06903186819545226,\n -1.8189894035458565e-11,\n -0.00270000328376759]"
     },
     "execution_count": 514,
     "metadata": {},
     "output_type": "execute_result"
    }
   ],
   "source": [
    "equilibrium(olg.steady_path[-1][0]['x'], olg, False)"
   ],
   "metadata": {
    "collapsed": false,
    "pycharm": {
     "name": "#%%\n"
    }
   }
  },
  {
   "cell_type": "code",
   "execution_count": 525,
   "outputs": [
    {
     "data": {
      "text/plain": "[[0, 0, 0, 0.9999924180715866, 0, 0, 0, 0, 0, 0.0031180987684153046, 0],\n [3.810793527287509e-16,\n  0,\n  -9.254050657857742e-25,\n  -0.008258514609483125,\n  0,\n  0,\n  0,\n  0,\n  0,\n  7.127237093394984e-07,\n  0],\n [-1.2188541139091417e-07,\n  0,\n  2.959839632844668e-16,\n  0,\n  0,\n  0,\n  0,\n  0,\n  1,\n  455.9188100791012,\n  0],\n [0, -1.000260287335727, -0.03883495145631066, 0, 0, 0, 0, 0, 0, 0, 0],\n [0, 0, 0, 0, 0, 0, 0, 0.9999924180715866, 0, 0.0031180987684153046, 0],\n [0,\n  0,\n  0,\n  0,\n  3.540003835737071e-12,\n  0,\n  -1.7227146208463e-13,\n  -0.008258514609483125,\n  0,\n  0,\n  0],\n [0, 0, 0, 0, -5.649979705552044e-11, 0, 2.7495175423200557e-12, 0, 1, 0, 0],\n [0, 0, 0, 0, 0, -1.000260287335727, -0.03883495145631066, 0, 0, 0, 0],\n [-1, 0, 0, 0, -1, 0, 0, 0, 0, 0, 0],\n [0,\n  1,\n  0.0019417475728155343,\n  0,\n  0,\n  1,\n  0.0019417475728155343,\n  0,\n  0,\n  -2419016543980661.0,\n  1],\n [455.9188100791012,\n  0,\n  5.535718130792222e-07,\n  0,\n  0,\n  0,\n  0,\n  0,\n  0,\n  12571220844270.578,\n  -63.92937205979053]]"
     },
     "execution_count": 525,
     "metadata": {},
     "output_type": "execute_result"
    }
   ],
   "source": [
    "equilibrium_gradient(olg.steady_path[-1][0]['x'], olg, False)"
   ],
   "metadata": {
    "collapsed": false,
    "pycharm": {
     "name": "#%%\n"
    }
   }
  },
  {
   "cell_type": "code",
   "execution_count": 340,
   "outputs": [
    {
     "data": {
      "text/plain": "Text(0.5, 1.0, 'Wage')"
     },
     "execution_count": 340,
     "metadata": {},
     "output_type": "execute_result"
    },
    {
     "data": {
      "text/plain": "<Figure size 432x288 with 1 Axes>",
      "image/png": "[encoded data removed]"
     },
     "metadata": {
      "needs_background": "light"
     },
     "output_type": "display_data"
    }
   ],
   "source": [
    "plt.plot([item[0]['x'][8] for i, item in enumerate(olg.steady_path)])\n",
    "plt.title(\"Wage\")"
   ],
   "metadata": {
    "collapsed": false,
    "pycharm": {
     "name": "#%%\n"
    }
   }
  },
  {
   "cell_type": "code",
   "execution_count": 257,
   "outputs": [
    {
     "data": {
      "text/plain": "Text(0.5, 1.0, 'Price non-export')"
     },
     "execution_count": 257,
     "metadata": {},
     "output_type": "execute_result"
    },
    {
     "data": {
      "text/plain": "<Figure size 432x288 with 1 Axes>",
      "image/png": "[encoded data removed]"
     },
     "metadata": {
      "needs_background": "light"
     },
     "output_type": "display_data"
    }
   ],
   "source": [
    "plt.plot([item[1][10] for i, item in enumerate(olg.steady_path)])\n",
    "plt.title(\"Price non-export\")"
   ],
   "metadata": {
    "collapsed": false,
    "pycharm": {
     "name": "#%%\n"
    }
   }
  },
  {
   "cell_type": "code",
   "execution_count": 381,
   "outputs": [
    {
     "data": {
      "text/plain": "Text(0.5, 1.0, 'Target function')"
     },
     "execution_count": 381,
     "metadata": {},
     "output_type": "execute_result"
    },
    {
     "data": {
      "text/plain": "<Figure size 432x288 with 1 Axes>",
      "image/png": "[encoded data removed]"
     },
     "metadata": {
      "needs_background": "light"
     },
     "output_type": "display_data"
    }
   ],
   "source": [
    "plt.plot([item[0][\"fun\"] for i, item in enumerate(olg.steady_path)])\n",
    "plt.title(\"Target function\")"
   ],
   "metadata": {
    "collapsed": false,
    "pycharm": {
     "name": "#%%\n"
    }
   }
  },
  {
   "cell_type": "code",
   "execution_count": 59,
   "outputs": [
    {
     "data": {
      "text/plain": "(     fun: 604876.9308973545\n     info: {'x': array([ 8.90681484e+01,  1.09146474e+04,  3.58445712e+04, -6.12713603e-02,\n         1.59057337e+01,  1.92634733e+03,  5.89951840e+04, -1.06202015e+00,\n         1.23396037e+00,  9.08647924e-07,  2.56858344e-01]), 'g': array([], dtype=float64), 'obj_val': 604876.9308973545, 'mult_g': array([], dtype=float64), 'mult_x_L': array([0., 0., 0., 0., 0., 0., 0., 0., 0., 0., 0.]), 'mult_x_U': array([0., 0., 0., 0., 0., 0., 0., 0., 0., 0., 0.]), 'status': -3, 'status_msg': b'An unrecoverable error occurred while Ipopt tried to compute the search direction.'}\n  message: b'An unrecoverable error occurred while Ipopt tried to compute the search direction.'\n     nfev: 2546\n      nit: 38\n     njev: 42\n   status: -3\n  success: False\n        x: array([ 8.90681484e+01,  1.09146474e+04,  3.58445712e+04, -6.12713603e-02,\n         1.59057337e+01,  1.92634733e+03,  5.89951840e+04, -1.06202015e+00,\n         1.23396037e+00,  9.08647924e-07,  2.56858344e-01]),\n array([ 8.90681484e+01,  1.09146474e+04,  3.58445712e+04, -6.12713603e-02,\n         1.59057337e+01,  1.92634733e+03,  5.89951840e+04, -1.06202015e+00,\n         1.23396037e+00,  7.13643387e-06,  2.56844672e-01,  1.13008619e+10,\n         9.56069612e+04, -1.50975841e+06]))"
     },
     "execution_count": 59,
     "metadata": {},
     "output_type": "execute_result"
    }
   ],
   "source": [],
   "metadata": {
    "collapsed": false,
    "pycharm": {
     "name": "#%%\n"
    }
   }
  },
  {
   "cell_type": "code",
   "execution_count": 46,
   "outputs": [],
   "source": [
    "olg.create_guess()"
   ],
   "metadata": {
    "collapsed": false,
    "pycharm": {
     "name": "#%%\n"
    }
   }
  },
  {
   "cell_type": "code",
   "execution_count": 279,
   "outputs": [
    {
     "data": {
      "text/plain": "(     fun: 497133.5107400712\n     info: {'x': array([ 6.50888420e+00,  7.89066419e+02,  3.67245615e+04, -8.85181784e-03,\n         2.52521567e+01,  3.05824304e+03,  5.72445545e+04,  3.73356679e-02,\n         1.81871797e-01,  2.67263830e-08,  2.11897026e-02]), 'g': array([], dtype=float64), 'obj_val': 497133.5107400712, 'mult_g': array([], dtype=float64), 'mult_x_L': array([0., 0., 0., 0., 0., 0., 0., 0., 0., 0., 0.]), 'mult_x_U': array([0., 0., 0., 0., 0., 0., 0., 0., 0., 0., 0.]), 'status': -3, 'status_msg': b'An unrecoverable error occurred while Ipopt tried to compute the search direction.'}\n  message: b'An unrecoverable error occurred while Ipopt tried to compute the search direction.'\n     nfev: 629\n      nit: 21\n     njev: 25\n   status: -3\n  success: False\n        x: array([ 6.50888420e+00,  7.89066419e+02,  3.67245615e+04, -8.85181784e-03,\n         2.52521567e+01,  3.05824304e+03,  5.72445545e+04,  3.73356679e-02,\n         1.81871797e-01,  2.67263830e-08,  2.11897026e-02]),\n array([ 6.50888420e+00,  7.89066419e+02,  3.67245615e+04, -8.85181784e-03,\n         2.52521567e+01,  3.05824304e+03,  5.72445545e+04,  3.73356679e-02,\n         1.81871797e-01,  1.27880340e-07,  2.11357024e-02,  1.34896231e+10,\n         9.32640416e+04, -2.74112479e+05]))"
     },
     "execution_count": 279,
     "metadata": {},
     "output_type": "execute_result"
    }
   ],
   "source": [
    "olg.steady_path[-4]\n",
    "# единственный выход это потребление тоже менять с eta"
   ],
   "metadata": {
    "collapsed": false,
    "pycharm": {
     "name": "#%%\n"
    }
   }
  },
  {
   "cell_type": "code",
   "execution_count": 47,
   "outputs": [
    {
     "data": {
      "text/plain": "[<matplotlib.lines.Line2D at 0x1e97ae91f10>]"
     },
     "execution_count": 47,
     "metadata": {},
     "output_type": "execute_result"
    },
    {
     "data": {
      "text/plain": "<Figure size 432x288 with 1 Axes>",
      "image/png": "[encoded data removed]"
     },
     "metadata": {
      "needs_background": "light"
     },
     "output_type": "display_data"
    }
   ],
   "source": [
    "import matplotlib.pyplot as plt\n",
    "plt.plot(olg.w)"
   ],
   "metadata": {
    "collapsed": false,
    "pycharm": {
     "name": "#%%\n"
    }
   }
  },
  {
   "cell_type": "code",
   "execution_count": 606,
   "outputs": [
    {
     "data": {
      "text/plain": "[<matplotlib.lines.Line2D at 0x2e65210a490>]"
     },
     "execution_count": 606,
     "metadata": {},
     "output_type": "execute_result"
    },
    {
     "data": {
      "text/plain": "<Figure size 432x288 with 1 Axes>",
      "image/png": "[encoded data removed]"
     },
     "metadata": {
      "needs_background": "light"
     },
     "output_type": "display_data"
    }
   ],
   "source": [
    "# plt.plot(olg.c[0][345-30,(250-30):(345-30)]) # труд у дрпугих неправильно рассчитывается?\n",
    "# plt.plot(olg.l[0][345-30,(250-30):(345-30)])\n"
   ],
   "metadata": {
    "collapsed": false,
    "pycharm": {
     "name": "#%%\n"
    }
   }
  },
  {
   "cell_type": "code",
   "execution_count": 48,
   "outputs": [
    {
     "data": {
      "text/plain": "1.2339603729041526"
     },
     "execution_count": 48,
     "metadata": {},
     "output_type": "execute_result"
    }
   ],
   "source": [
    "olg.w[250]"
   ],
   "metadata": {
    "collapsed": false,
    "pycharm": {
     "name": "#%%\n"
    }
   }
  },
  {
   "cell_type": "code",
   "execution_count": 608,
   "outputs": [
    {
     "data": {
      "text/plain": "<Figure size 432x288 with 1 Axes>",
      "image/png": "[encoded data removed]"
     },
     "metadata": {
      "needs_background": "light"
     },
     "output_type": "display_data"
    }
   ],
   "source": [
    "# plt.plot(olg.l[0][260,165:260], label= \"labor\")\n",
    "plt.plot(olg.c[0][260,165:260], label = \"consumption\")\n",
    "# plt.plot(olg.a[0][260,165:260], label = \"assets\")\n",
    "# plt.plot((olg.c[0][260,165:260]**olg.phi * (1-olg.l[0][260,165:260])**(1-olg.phi))**(1-olg.theta)/(1-olg.theta), label = \"utility\")\n",
    "plt.show()"
   ],
   "metadata": {
    "collapsed": false,
    "pycharm": {
     "name": "#%%\n"
    }
   }
  },
  {
   "cell_type": "code",
   "execution_count": 614,
   "outputs": [
    {
     "data": {
      "text/plain": "Text(0.5, 1.0, 'Wage path')"
     },
     "execution_count": 614,
     "metadata": {},
     "output_type": "execute_result"
    },
    {
     "data": {
      "text/plain": "<Figure size 432x288 with 1 Axes>",
      "image/png": "[encoded data removed]"
     },
     "metadata": {
      "needs_background": "light"
     },
     "output_type": "display_data"
    }
   ],
   "source": [
    "plt.plot([item[0][\"info\"][\"x\"][8] for i, item in enumerate(olg.steady_path)if i != 1] [0:])\n",
    "plt.title(\"Wage path\")"
   ],
   "metadata": {
    "collapsed": false,
    "pycharm": {
     "name": "#%%\n"
    }
   }
  },
  {
   "cell_type": "code",
   "execution_count": 615,
   "outputs": [
    {
     "data": {
      "text/plain": "Text(0.5, 1.0, 'Price N path')"
     },
     "execution_count": 615,
     "metadata": {},
     "output_type": "execute_result"
    },
    {
     "data": {
      "text/plain": "<Figure size 432x288 with 1 Axes>",
      "image/png": "[encoded data removed]"
     },
     "metadata": {
      "needs_background": "light"
     },
     "output_type": "display_data"
    }
   ],
   "source": [
    "plt.plot([item[0][\"info\"][\"x\"][10] for item in olg.steady_path][0:])\n",
    "plt.title(\"Price N path\")"
   ],
   "metadata": {
    "collapsed": false,
    "pycharm": {
     "name": "#%%\n"
    }
   }
  },
  {
   "cell_type": "code",
   "execution_count": 470,
   "outputs": [
    {
     "ename": "IndexError",
     "evalue": "too many indices for array: array is 1-dimensional, but 2 were indexed",
     "output_type": "error",
     "traceback": [
      "\u001B[1;31m---------------------------------------------------------------------------\u001B[0m",
      "\u001B[1;31mIndexError\u001B[0m                                Traceback (most recent call last)",
      "\u001B[1;32m~\\AppData\\Local\\Temp/ipykernel_172/150305223.py\u001B[0m in \u001B[0;36m<module>\u001B[1;34m\u001B[0m\n\u001B[0;32m      1\u001B[0m \u001B[1;32mfor\u001B[0m \u001B[0m_\u001B[0m \u001B[1;32min\u001B[0m \u001B[0mrange\u001B[0m\u001B[1;33m(\u001B[0m\u001B[1;36m1\u001B[0m\u001B[1;33m)\u001B[0m\u001B[1;33m:\u001B[0m\u001B[1;33m\u001B[0m\u001B[1;33m\u001B[0m\u001B[0m\n\u001B[1;32m----> 2\u001B[1;33m     \u001B[0molg\u001B[0m\u001B[1;33m.\u001B[0m\u001B[0mupdate_guess\u001B[0m\u001B[1;33m(\u001B[0m\u001B[1;33m)\u001B[0m\u001B[1;33m\u001B[0m\u001B[1;33m\u001B[0m\u001B[0m\n\u001B[0m",
      "\u001B[1;32m~\\AppData\\Local\\Temp/ipykernel_172/1908880180.py\u001B[0m in \u001B[0;36mupdate_guess\u001B[1;34m(self)\u001B[0m\n\u001B[0;32m    355\u001B[0m                     \u001B[0mself\u001B[0m\u001B[1;33m.\u001B[0m\u001B[0mc\u001B[0m\u001B[1;33m[\u001B[0m\u001B[0ms\u001B[0m\u001B[1;33m,\u001B[0m \u001B[0mg\u001B[0m\u001B[1;33m,\u001B[0m \u001B[0mt\u001B[0m\u001B[1;33m]\u001B[0m\u001B[1;33m,\u001B[0m\u001B[0mself\u001B[0m\u001B[1;33m.\u001B[0m\u001B[0ml\u001B[0m\u001B[1;33m[\u001B[0m\u001B[0ms\u001B[0m\u001B[1;33m,\u001B[0m \u001B[0mg\u001B[0m\u001B[1;33m,\u001B[0m \u001B[0mt\u001B[0m\u001B[1;33m]\u001B[0m\u001B[1;33m,\u001B[0m\u001B[0mself\u001B[0m\u001B[1;33m.\u001B[0m\u001B[0ma\u001B[0m\u001B[1;33m[\u001B[0m\u001B[0ms\u001B[0m\u001B[1;33m,\u001B[0m \u001B[0mg\u001B[0m\u001B[1;33m,\u001B[0m \u001B[0mt\u001B[0m\u001B[1;33m]\u001B[0m  \u001B[1;33m=\u001B[0m \u001B[0mself\u001B[0m\u001B[1;33m.\u001B[0m\u001B[0mhousehold\u001B[0m\u001B[1;33m(\u001B[0m\u001B[0ms\u001B[0m\u001B[1;33m,\u001B[0m\u001B[0mg\u001B[0m\u001B[1;33m,\u001B[0m\u001B[0mt\u001B[0m\u001B[1;33m)\u001B[0m\u001B[1;33m\u001B[0m\u001B[1;33m\u001B[0m\u001B[0m\n\u001B[0;32m    356\u001B[0m         \u001B[1;32mfor\u001B[0m \u001B[0mt\u001B[0m \u001B[1;32min\u001B[0m \u001B[0mrange\u001B[0m\u001B[1;33m(\u001B[0m\u001B[0mself\u001B[0m\u001B[1;33m.\u001B[0m\u001B[0mT\u001B[0m\u001B[1;33m)\u001B[0m\u001B[1;33m:\u001B[0m\u001B[1;33m\u001B[0m\u001B[1;33m\u001B[0m\u001B[0m\n\u001B[1;32m--> 357\u001B[1;33m             \u001B[0mz_guess\u001B[0m \u001B[1;33m=\u001B[0m \u001B[1;33m[\u001B[0m\u001B[0mself\u001B[0m\u001B[1;33m.\u001B[0m\u001B[0mI\u001B[0m\u001B[1;33m[\u001B[0m\u001B[1;36m0\u001B[0m\u001B[1;33m,\u001B[0m\u001B[0mt\u001B[0m\u001B[1;33m]\u001B[0m\u001B[1;33m,\u001B[0m\u001B[0mself\u001B[0m\u001B[1;33m.\u001B[0m\u001B[0mK\u001B[0m\u001B[1;33m[\u001B[0m\u001B[1;36m0\u001B[0m\u001B[1;33m,\u001B[0m\u001B[0mt\u001B[0m\u001B[1;33m+\u001B[0m\u001B[1;36m1\u001B[0m\u001B[1;33m]\u001B[0m\u001B[1;33m,\u001B[0m\u001B[0mself\u001B[0m\u001B[1;33m.\u001B[0m\u001B[0mL\u001B[0m\u001B[1;33m[\u001B[0m\u001B[1;36m0\u001B[0m\u001B[1;33m,\u001B[0m\u001B[0mt\u001B[0m\u001B[1;33m]\u001B[0m\u001B[1;33m,\u001B[0m\u001B[0mself\u001B[0m\u001B[1;33m.\u001B[0m\u001B[0mlmbda\u001B[0m\u001B[1;33m[\u001B[0m\u001B[1;36m0\u001B[0m\u001B[1;33m,\u001B[0m\u001B[0mt\u001B[0m\u001B[1;33m]\u001B[0m\u001B[1;33m,\u001B[0m \u001B[0mself\u001B[0m\u001B[1;33m.\u001B[0m\u001B[0mI\u001B[0m\u001B[1;33m[\u001B[0m\u001B[1;36m1\u001B[0m\u001B[1;33m,\u001B[0m\u001B[0mt\u001B[0m\u001B[1;33m]\u001B[0m\u001B[1;33m,\u001B[0m\u001B[0mself\u001B[0m\u001B[1;33m.\u001B[0m\u001B[0mK\u001B[0m\u001B[1;33m[\u001B[0m\u001B[1;36m1\u001B[0m\u001B[1;33m,\u001B[0m\u001B[0mt\u001B[0m\u001B[1;33m+\u001B[0m\u001B[1;36m1\u001B[0m\u001B[1;33m]\u001B[0m\u001B[1;33m,\u001B[0m\u001B[0mself\u001B[0m\u001B[1;33m.\u001B[0m\u001B[0mL\u001B[0m\u001B[1;33m[\u001B[0m\u001B[1;36m1\u001B[0m\u001B[1;33m,\u001B[0m\u001B[0mt\u001B[0m\u001B[1;33m]\u001B[0m\u001B[1;33m,\u001B[0m\u001B[0mself\u001B[0m\u001B[1;33m.\u001B[0m\u001B[0mlmbda\u001B[0m\u001B[1;33m[\u001B[0m\u001B[1;36m1\u001B[0m\u001B[1;33m,\u001B[0m\u001B[0mt\u001B[0m\u001B[1;33m]\u001B[0m\u001B[1;33m,\u001B[0m\u001B[0mself\u001B[0m\u001B[1;33m.\u001B[0m\u001B[0mw\u001B[0m\u001B[1;33m[\u001B[0m\u001B[0mt\u001B[0m\u001B[1;33m]\u001B[0m\u001B[1;33m,\u001B[0m \u001B[0mself\u001B[0m\u001B[1;33m.\u001B[0m\u001B[0mprice_N\u001B[0m\u001B[1;33m[\u001B[0m\u001B[0mt\u001B[0m\u001B[1;33m]\u001B[0m\u001B[1;33m,\u001B[0m \u001B[0mself\u001B[0m\u001B[1;33m.\u001B[0m\u001B[0mprice\u001B[0m\u001B[1;33m[\u001B[0m\u001B[0mt\u001B[0m\u001B[1;33m]\u001B[0m\u001B[1;33m]\u001B[0m\u001B[1;33m\u001B[0m\u001B[1;33m\u001B[0m\u001B[0m\n\u001B[0m\u001B[0;32m    358\u001B[0m             \u001B[1;31m# z = fsolve(production,z_guess, fprime=production_jacobian,maxfev=500,\u001B[0m\u001B[1;33m\u001B[0m\u001B[1;33m\u001B[0m\u001B[0m\n\u001B[0;32m    359\u001B[0m             \u001B[1;31m#        args = (self, t))\u001B[0m\u001B[1;33m\u001B[0m\u001B[1;33m\u001B[0m\u001B[0m\n",
      "\u001B[1;31mIndexError\u001B[0m: too many indices for array: array is 1-dimensional, but 2 were indexed"
     ]
    }
   ],
   "source": [
    "for _ in range(1):\n",
    "    olg.update_guess()"
   ],
   "metadata": {
    "collapsed": false,
    "pycharm": {
     "name": "#%%\n"
    }
   }
  },
  {
   "cell_type": "code",
   "execution_count": null,
   "outputs": [],
   "source": [
    "import matplotlib.pyplot as plt\n",
    "# plt.plot((((olg.c[:,:610,:]*olg.N[:,:610,:]).sum(axis=0).sum(axis=0))/olg.N[:,:610,:].sum(axis=0).sum(axis=0))[:150])\n",
    "# plt.plot((((olg.a[:,:610,:]*olg.N[:,:610,:]).sum(axis=0).sum(axis=0))/olg.N[:,:610,:].sum(axis=0).sum(axis=0))[:150])\n",
    "plt.plot((((olg.l[:,:610,:]*olg.N[:,:610,:]).sum(axis=0).sum(axis=0))/olg.N[:,:610,:].sum(axis=0).sum(axis=0))[:250])\n",
    "# plt.plot(olg.I[0,:100]/olg.N[0].sum(axis=0)[:100])\n",
    "# plt.plot((olg.l[0,:250]*olg.N[0,:250]).sum(axis=0)/(olg.N[0,:250].sum(axis=0)))\n",
    "plt.show()"
   ],
   "metadata": {
    "collapsed": false,
    "pycharm": {
     "name": "#%%\n"
    }
   }
  },
  {
   "cell_type": "code",
   "execution_count": null,
   "outputs": [],
   "source": [
    "plt.plot(olg.I[0,1:100]/olg.I[0,0:99])"
   ],
   "metadata": {
    "collapsed": false,
    "pycharm": {
     "name": "#%%\n"
    }
   }
  },
  {
   "cell_type": "code",
   "execution_count": 616,
   "outputs": [
    {
     "data": {
      "text/plain": "[<matplotlib.lines.Line2D at 0x2e652135ee0>]"
     },
     "execution_count": 616,
     "metadata": {},
     "output_type": "execute_result"
    },
    {
     "data": {
      "text/plain": "<Figure size 432x288 with 1 Axes>",
      "image/png": "[encoded data removed]"
     },
     "metadata": {
      "needs_background": "light"
     },
     "output_type": "display_data"
    }
   ],
   "source": [
    "plt.plot(olg.L[0][:200]+olg.L[1][:200])\n",
    "plt.plot(((olg.l[:,:610,:]*olg.N[:,:610,:]*olg.epsilon[:,:610,:]).sum(axis=0).sum(axis=0))[:200])"
   ],
   "metadata": {
    "collapsed": false,
    "pycharm": {
     "name": "#%%\n"
    }
   }
  },
  {
   "cell_type": "code",
   "execution_count": 331,
   "outputs": [
    {
     "data": {
      "text/plain": "array([170000., 170000., 170000., 170000., 170000., 170000., 170000.,\n       170000., 170000., 170000., 170000., 170000., 170000., 170000.,\n       170000., 170000., 170000., 170000., 170000., 170000., 170000.,\n       170000., 170000., 170000., 170000., 170000., 170000., 170000.,\n       170000., 170000., 170000., 170000., 170000., 170000., 170000.,\n       170000., 170000., 170000., 170000., 170000., 170000., 170000.,\n       170000., 170000., 170000., 170000., 170000., 170000., 170000.,\n       170000., 170000., 170000., 170000., 170000., 170000., 170000.,\n       170000., 170000., 170000., 170000., 170000., 170000., 170000.,\n       170000., 170000., 170000., 170000., 170000., 170000., 170000.,\n       170000., 170000., 170000., 170000., 170000., 170000., 170000.,\n       170000., 170000., 170000., 170000., 170000., 170000., 170000.,\n       170000., 170000., 170000., 170000., 170000., 170000., 170000.,\n       170000., 170000., 170000., 170000., 170000., 170000., 170000.,\n       170000., 170000., 170000., 170000., 170000., 170000., 170000.,\n       170000., 170000., 170000., 170000., 170000., 170000., 170000.,\n       170000., 170000., 170000., 170000., 170000., 170000., 170000.,\n       170000., 170000., 170000., 170000., 170000., 170000., 170000.,\n       170000., 170000., 170000., 170000., 170000., 170000., 170000.,\n       170000., 170000., 170000., 170000., 170000., 170000., 170000.,\n       170000., 170000., 170000., 170000., 170000., 170000., 170000.,\n       170000., 170000., 170000., 170000., 170000., 170000., 170000.,\n       170000., 170000., 170000., 170000., 170000., 170000., 170000.,\n       170000., 170000., 170000., 170000., 170000., 170000., 170000.,\n       170000., 170000., 170000., 170000., 170000., 170000., 170000.,\n       170000., 170000., 170000., 170000., 170000., 170000., 170000.,\n       170000., 170000., 170000., 170000., 170000., 170000., 170000.,\n       170000., 170000., 170000., 170000., 170000., 170000., 170000.,\n       170000., 170000., 170000., 170000.])"
     },
     "execution_count": 331,
     "metadata": {},
     "output_type": "execute_result"
    }
   ],
   "source": [
    "olg.L[0][:200]+olg.L[1][:200]"
   ],
   "metadata": {
    "collapsed": false,
    "pycharm": {
     "name": "#%%\n"
    }
   }
  },
  {
   "cell_type": "code",
   "execution_count": 332,
   "outputs": [
    {
     "data": {
      "text/plain": "[<matplotlib.lines.Line2D at 0x2e65345fe50>]"
     },
     "execution_count": 332,
     "metadata": {},
     "output_type": "execute_result"
    },
    {
     "data": {
      "text/plain": "<Figure size 432x288 with 1 Axes>",
      "image/png": "[encoded data removed]"
     },
     "metadata": {
      "needs_background": "light"
     },
     "output_type": "display_data"
    }
   ],
   "source": [
    "plt.plot((olg.K[0]/olg.L[0])[:100])"
   ],
   "metadata": {
    "collapsed": false,
    "pycharm": {
     "name": "#%%\n"
    }
   }
  },
  {
   "cell_type": "code",
   "execution_count": 333,
   "outputs": [
    {
     "data": {
      "text/plain": "[<matplotlib.lines.Line2D at 0x2e6534c86d0>]"
     },
     "execution_count": 333,
     "metadata": {},
     "output_type": "execute_result"
    },
    {
     "data": {
      "text/plain": "<Figure size 432x288 with 1 Axes>",
      "image/png": "[encoded data removed]"
     },
     "metadata": {
      "needs_background": "light"
     },
     "output_type": "display_data"
    }
   ],
   "source": [
    "plt.plot(olg.a[0][100][:100])"
   ],
   "metadata": {
    "collapsed": false,
    "pycharm": {
     "name": "#%%\n"
    }
   }
  },
  {
   "cell_type": "code",
   "execution_count": 334,
   "outputs": [
    {
     "data": {
      "text/plain": "[<matplotlib.lines.Line2D at 0x2e6531cb490>]"
     },
     "execution_count": 334,
     "metadata": {},
     "output_type": "execute_result"
    },
    {
     "data": {
      "text/plain": "<Figure size 432x288 with 1 Axes>",
      "image/png": "[encoded data removed]"
     },
     "metadata": {
      "needs_background": "light"
     },
     "output_type": "display_data"
    }
   ],
   "source": [
    "plt.plot(olg.w[:100])"
   ],
   "metadata": {
    "collapsed": false,
    "pycharm": {
     "name": "#%%\n"
    }
   }
  },
  {
   "cell_type": "code",
   "execution_count": 335,
   "outputs": [
    {
     "data": {
      "text/plain": "[<matplotlib.lines.Line2D at 0x2e65348d160>]"
     },
     "execution_count": 335,
     "metadata": {},
     "output_type": "execute_result"
    },
    {
     "data": {
      "text/plain": "<Figure size 432x288 with 1 Axes>",
      "image/png": "[encoded data removed]"
     },
     "metadata": {
      "needs_background": "light"
     },
     "output_type": "display_data"
    }
   ],
   "source": [
    "plt.plot(olg.price[:100])"
   ],
   "metadata": {
    "collapsed": false,
    "pycharm": {
     "name": "#%%\n"
    }
   }
  }
 ],
 "metadata": {
  "kernelspec": {
   "display_name": "Python 3",
   "language": "python",
   "name": "python3"
  },
  "language_info": {
   "codemirror_mode": {
    "name": "ipython",
    "version": 2
   },
   "file_extension": ".py",
   "mimetype": "text/x-python",
   "name": "python",
   "nbconvert_exporter": "python",
   "pygments_lexer": "ipython2",
   "version": "2.7.6"
  }
 },
 "nbformat": 4,
 "nbformat_minor": 0
}